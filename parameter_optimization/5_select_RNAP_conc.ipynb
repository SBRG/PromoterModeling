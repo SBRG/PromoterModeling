{
 "cells": [
  {
   "cell_type": "code",
   "execution_count": 1,
   "id": "22353f62",
   "metadata": {},
   "outputs": [],
   "source": [
    "# imports and loadings\n",
    "import os\n",
    "import sys\n",
    "sys.path.insert(0, '../functions/')\n",
    "import mRNA_ratios as mr\n",
    "import create_data_for_single_gene as cdg\n",
    "\n",
    "import pandas as pd\n",
    "import ast\n",
    "import numpy as np\n",
    "import matplotlib.pyplot as plt\n",
    "import warnings\n",
    "warnings.filterwarnings(\"ignore\", category=UserWarning)\n",
    "\n",
    "flags_df = pd.read_csv('../data/saved_flags.csv', index_col = 0)\n",
    "\n",
    "# merge together log_tpm_df files\n",
    "log_tpm_df = pd.read_csv('../data/precise_1.0/log_tpm.csv', index_col = 0)\n",
    "starve_log_tpm = pd.read_csv('../data/validation_data_sets/stationary_phase/cleaned_log_tpm_qc.csv', index_col = 0)\n",
    "to_blank_inds = list(set(log_tpm_df.index) - set(starve_log_tpm.index))\n",
    "# need to create zero rows for missing values\n",
    "zeros_data = {col : 0 for col in starve_log_tpm.columns}\n",
    "zeros_df = pd.DataFrame(zeros_data, index = to_blank_inds)\n",
    "starve_log_tpm = pd.concat([starve_log_tpm, zeros_df])\n",
    "starve_log_tpm = starve_log_tpm.loc[log_tpm_df.index]\n",
    "log_tpm_df = pd.concat([starve_log_tpm, log_tpm_df], axis = 1)\n",
    "\n",
    "tpm_df = 2**log_tpm_df\n",
    "\n",
    "# settings\n",
    "genes = ['b2818']#, 'b3959', 'b3958', 'b3359', 'b3957', 'b0273', 'b3172', 'b3960', 'b4254'] #'b1101', 'b1817', 'b1818', 'b1819', \n",
    "bott_pct = 0.01\n",
    "top_pct = 0.01"
   ]
  },
  {
   "cell_type": "code",
   "execution_count": 2,
   "id": "c0be0ccf",
   "metadata": {},
   "outputs": [
    {
     "data": {
      "text/html": [
       "<div>\n",
       "<style scoped>\n",
       "    .dataframe tbody tr th:only-of-type {\n",
       "        vertical-align: middle;\n",
       "    }\n",
       "\n",
       "    .dataframe tbody tr th {\n",
       "        vertical-align: top;\n",
       "    }\n",
       "\n",
       "    .dataframe thead th {\n",
       "        text-align: right;\n",
       "    }\n",
       "</style>\n",
       "<table border=\"1\" class=\"dataframe\">\n",
       "  <thead>\n",
       "    <tr style=\"text-align: right;\">\n",
       "      <th></th>\n",
       "      <th>b3295</th>\n",
       "      <th>b3987</th>\n",
       "      <th>b3988</th>\n",
       "      <th>b3649</th>\n",
       "    </tr>\n",
       "  </thead>\n",
       "  <tbody>\n",
       "    <tr>\n",
       "      <th>b3295</th>\n",
       "      <td>1.000000</td>\n",
       "      <td>0.635691</td>\n",
       "      <td>0.621349</td>\n",
       "      <td>-0.150456</td>\n",
       "    </tr>\n",
       "    <tr>\n",
       "      <th>b3987</th>\n",
       "      <td>0.635691</td>\n",
       "      <td>1.000000</td>\n",
       "      <td>0.951612</td>\n",
       "      <td>-0.326521</td>\n",
       "    </tr>\n",
       "    <tr>\n",
       "      <th>b3988</th>\n",
       "      <td>0.621349</td>\n",
       "      <td>0.951612</td>\n",
       "      <td>1.000000</td>\n",
       "      <td>-0.300423</td>\n",
       "    </tr>\n",
       "    <tr>\n",
       "      <th>b3649</th>\n",
       "      <td>-0.150456</td>\n",
       "      <td>-0.326521</td>\n",
       "      <td>-0.300423</td>\n",
       "      <td>1.000000</td>\n",
       "    </tr>\n",
       "  </tbody>\n",
       "</table>\n",
       "</div>"
      ],
      "text/plain": [
       "          b3295     b3987     b3988     b3649\n",
       "b3295  1.000000  0.635691  0.621349 -0.150456\n",
       "b3987  0.635691  1.000000  0.951612 -0.326521\n",
       "b3988  0.621349  0.951612  1.000000 -0.300423\n",
       "b3649 -0.150456 -0.326521 -0.300423  1.000000"
      ]
     },
     "execution_count": 2,
     "metadata": {},
     "output_type": "execute_result"
    }
   ],
   "source": [
    "# let's look at the data some\n",
    "\n",
    "# rpoA and rpoZ don't correlate well with rpoB and rpoC which correlate well with each other, I think I focus on rpoB/rpoC\n",
    "tpm_df.loc[['b3295', 'b3987', 'b3988', 'b3649']].T.corr() # rpoA, rpoB, rpoC, and rpoZ"
   ]
  },
  {
   "cell_type": "code",
   "execution_count": 3,
   "id": "605abcdb",
   "metadata": {},
   "outputs": [
    {
     "data": {
      "image/png": "[encoded data removed]",
      "text/plain": [
       "<Figure size 640x480 with 1 Axes>"
      ]
     },
     "metadata": {},
     "output_type": "display_data"
    }
   ],
   "source": [
    "# visualize this\n",
    "plt.scatter(tpm_df.loc['b3987'], tpm_df.loc['b3988'])\n",
    "plt.axvline(x = np.median(tpm_df.loc['b3987']), c = 'k')\n",
    "plt.axhline(y = np.median(tpm_df.loc['b3988']), c = 'k')\n",
    "\n",
    "bott = tpm_df.loc['b3987'].sort_values().iloc[int(bott_pct*len(tpm_df.columns))]\n",
    "top = tpm_df.loc['b3987'].sort_values().iloc[int(top_pct*len(tpm_df.columns))]\n",
    "plt.axvline(x = bott, c = 'grey', ls = '--')\n",
    "plt.axvline(x = top, c = 'grey', ls = '--')\n",
    "\n",
    "bott = tpm_df.loc['b3988'].sort_values().iloc[int(bott_pct*len(tpm_df.columns))]\n",
    "top = tpm_df.loc['b3988'].sort_values().iloc[int(top_pct*len(tpm_df.columns))]\n",
    "plt.axhline(y = bott, c = 'grey', ls = '--')\n",
    "plt.axhline(y = top, c = 'grey', ls = '--')\n",
    "\n",
    "plt.title('PRECISE 1.0')\n",
    "plt.xlabel('rpoB TPM')\n",
    "plt.ylabel('rpoC TPM')\n",
    "plt.show()"
   ]
  },
  {
   "cell_type": "code",
   "execution_count": 6,
   "id": "89403c46",
   "metadata": {},
   "outputs": [],
   "source": [
    "# let's find the fold change in the middle 95% percentile of this distribution, make the current RNAP the center, and scale thigns to both sides\n",
    "# do this for both genes, each sample gets the RNAP value that's the average of both\n",
    "RNAP_default = 10**-6\n",
    "fold_modify = 2 # modify the fold amount by this factor (divided by if below, multiplied by if above)\n",
    "\n",
    "genes = ['b3987', 'b3988']\n",
    "RNAP_df = pd.DataFrame(index = tpm_df.columns)\n",
    "for gene in genes:\n",
    "    # calculations\n",
    "    bott = tpm_df.loc[gene].sort_values().iloc[int(bott_pct*len(tpm_df.columns))]\n",
    "    top = tpm_df.loc[gene].sort_values().iloc[int(top_pct*len(tpm_df.columns))]\n",
    "    fold_change = top/bott\n",
    "    middle = np.median(tpm_df.loc[gene])\n",
    "\n",
    "    # scale everything\n",
    "    new_col = []\n",
    "    for sample in tpm_df.columns:\n",
    "        # set outleirs to the min/max\n",
    "        if tpm_df.loc[gene][sample] > top:\n",
    "            tpm = top\n",
    "        elif tpm_df.loc[gene][sample] < bott:\n",
    "            tpm = bott\n",
    "        else:\n",
    "            tpm = tpm_df.loc[gene][sample]\n",
    "        \n",
    "        # scale to fold change, then by RNAP value\n",
    "        fold_change = tpm / middle\n",
    "        if tpm < middle:\n",
    "            fold_change /= fold_modify\n",
    "        else:\n",
    "            fold_change *= fold_modify\n",
    "        new_val = RNAP_default * fold_change\n",
    "        \n",
    "        new_col.append(new_val)\n",
    "    RNAP_df[gene] = new_col"
   ]
  },
  {
   "cell_type": "code",
   "execution_count": 7,
   "id": "2776ac0e",
   "metadata": {},
   "outputs": [],
   "source": [
    "# save it off\n",
    "RNAP_mean_df = pd.DataFrame(RNAP_df.mean(axis = 1))\n",
    "RNAP_mean_df.columns = ['RNAP']\n",
    "RNAP_mean_df.to_csv('../data/RNAP_conc.csv')"
   ]
  },
  {
   "cell_type": "code",
   "execution_count": 24,
   "id": "633826dc",
   "metadata": {},
   "outputs": [],
   "source": [
    "import parameter_optimization as po\n",
    "import basal_model_calcs as bmc\n",
    "\n",
    "eq_str = 'Eq(mRNARatio,((cActivator*KdRNAP + KdRNAPCrp)*(KdRNAP + RNAP + \\\n",
    "            KeqOpening*RNAP))/((1 + cActivator + cInhibitor)*KdRNAP*KdRNAPCrp + \\\n",
    "            cActivator*KdRNAP*(1 + KeqOpening)*RNAP + KdRNAPCrp*(1 + \\\n",
    "            KeqOpening)*RNAP))'\n",
    "flags = {'cell_constants' : {\n",
    "    'RNAP': 1,\n",
    "    'kDeg': 1,\n",
    "    'promoterConcVal': 1,\n",
    "    'TF': 0,\n",
    "    'u': 1/3600,\n",
    "     'mRNA_total': 1,\n",
    "     'cell_volume': 1,\n",
    "     'k_d_TF': 1,\n",
    "},\n",
    "        'central_gene' : 'b2818',\n",
    "        'basal_conditions' : ['control__wt_glc__1', 'control__wt_glc__2'],\n",
    "        'grid_use' : 2}\n",
    "gene_grid_constants = bmc.basal_values(eq_str, flags)\n",
    "lambda_df = po.create_lambdas(eq_str, gene_grid_constants)"
   ]
  },
  {
   "cell_type": "code",
   "execution_count": 35,
   "id": "b0ce4fec",
   "metadata": {},
   "outputs": [
    {
     "data": {
      "text/html": [
       "<div>\n",
       "<style scoped>\n",
       "    .dataframe tbody tr th:only-of-type {\n",
       "        vertical-align: middle;\n",
       "    }\n",
       "\n",
       "    .dataframe tbody tr th {\n",
       "        vertical-align: top;\n",
       "    }\n",
       "\n",
       "    .dataframe thead th {\n",
       "        text-align: right;\n",
       "    }\n",
       "</style>\n",
       "<table border=\"1\" class=\"dataframe\">\n",
       "  <thead>\n",
       "    <tr style=\"text-align: right;\">\n",
       "      <th></th>\n",
       "      <th>equation</th>\n",
       "      <th>lambda</th>\n",
       "      <th>order</th>\n",
       "    </tr>\n",
       "  </thead>\n",
       "  <tbody>\n",
       "    <tr>\n",
       "      <th>cActivator</th>\n",
       "      <td>[KdRNAPCrp*(-cInhibitor*mRNARatio - 100000001....</td>\n",
       "      <td>&lt;function _lambdifygenerated at 0x7fb649ccca60&gt;</td>\n",
       "      <td>(cInhibitor, KdRNAPCrp, mRNARatio)</td>\n",
       "    </tr>\n",
       "    <tr>\n",
       "      <th>cInhibitor</th>\n",
       "      <td>[-cActivator - 100000001.0 + 100000000.0/mRNAR...</td>\n",
       "      <td>&lt;function _lambdifygenerated at 0x7fb649ccf400&gt;</td>\n",
       "      <td>(cActivator, KdRNAPCrp, mRNARatio)</td>\n",
       "    </tr>\n",
       "    <tr>\n",
       "      <th>KdRNAPCrp</th>\n",
       "      <td>[cActivator*(1.0 - mRNARatio)/(cActivator*mRNA...</td>\n",
       "      <td>&lt;function _lambdifygenerated at 0x7fb649c2cd30&gt;</td>\n",
       "      <td>(cActivator, cInhibitor, mRNARatio)</td>\n",
       "    </tr>\n",
       "    <tr>\n",
       "      <th>mRNARatio</th>\n",
       "      <td>[(100000000.0*KdRNAPCrp + cActivator)/(KdRNAPC...</td>\n",
       "      <td>&lt;function _lambdifygenerated at 0x7fb649d24280&gt;</td>\n",
       "      <td>(cActivator, cInhibitor, KdRNAPCrp)</td>\n",
       "    </tr>\n",
       "  </tbody>\n",
       "</table>\n",
       "</div>"
      ],
      "text/plain": [
       "                                                     equation   \n",
       "cActivator  [KdRNAPCrp*(-cInhibitor*mRNARatio - 100000001....  \\\n",
       "cInhibitor  [-cActivator - 100000001.0 + 100000000.0/mRNAR...   \n",
       "KdRNAPCrp   [cActivator*(1.0 - mRNARatio)/(cActivator*mRNA...   \n",
       "mRNARatio   [(100000000.0*KdRNAPCrp + cActivator)/(KdRNAPC...   \n",
       "\n",
       "                                                     lambda   \n",
       "cActivator  <function _lambdifygenerated at 0x7fb649ccca60>  \\\n",
       "cInhibitor  <function _lambdifygenerated at 0x7fb649ccf400>   \n",
       "KdRNAPCrp   <function _lambdifygenerated at 0x7fb649c2cd30>   \n",
       "mRNARatio   <function _lambdifygenerated at 0x7fb649d24280>   \n",
       "\n",
       "                                          order  \n",
       "cActivator   (cInhibitor, KdRNAPCrp, mRNARatio)  \n",
       "cInhibitor   (cActivator, KdRNAPCrp, mRNARatio)  \n",
       "KdRNAPCrp   (cActivator, cInhibitor, mRNARatio)  \n",
       "mRNARatio   (cActivator, cInhibitor, KdRNAPCrp)  "
      ]
     },
     "execution_count": 35,
     "metadata": {},
     "output_type": "execute_result"
    }
   ],
   "source": [
    "lambda_df"
   ]
  },
  {
   "cell_type": "code",
   "execution_count": 30,
   "id": "a57c26db",
   "metadata": {},
   "outputs": [],
   "source": [
    "import sympy"
   ]
  },
  {
   "cell_type": "code",
   "execution_count": 36,
   "id": "69738a6f",
   "metadata": {},
   "outputs": [
    {
     "data": {
      "text/plain": [
       "[(cInhibitor, 0.0, mRNARatio),\n",
       " (-100000001.0 + 100000000.0/mRNARatio, KdRNAPCrp, mRNARatio)]"
      ]
     },
     "execution_count": 36,
     "metadata": {},
     "output_type": "execute_result"
    }
   ],
   "source": [
    "\n",
    "sympy.solve(lambda_df['equation'].loc['cActivator'], lambda_df['order'].loc['cActivator'])"
   ]
  },
  {
   "cell_type": "code",
   "execution_count": null,
   "id": "1661e043",
   "metadata": {},
   "outputs": [],
   "source": []
  }
 ],
 "metadata": {
  "kernelspec": {
   "display_name": "Python 3 (ipykernel)",
   "language": "python",
   "name": "python3"
  },
  "language_info": {
   "codemirror_mode": {
    "name": "ipython",
    "version": 3
   },
   "file_extension": ".py",
   "mimetype": "text/x-python",
   "name": "python",
   "nbconvert_exporter": "python",
   "pygments_lexer": "ipython3",
   "version": "3.11.5"
  },
  "toc": {
   "base_numbering": 1,
   "nav_menu": {},
   "number_sections": true,
   "sideBar": true,
   "skip_h1_title": false,
   "title_cell": "Table of Contents",
   "title_sidebar": "Contents",
   "toc_cell": false,
   "toc_position": {},
   "toc_section_display": true,
   "toc_window_display": false
  }
 },
 "nbformat": 4,
 "nbformat_minor": 5
}
