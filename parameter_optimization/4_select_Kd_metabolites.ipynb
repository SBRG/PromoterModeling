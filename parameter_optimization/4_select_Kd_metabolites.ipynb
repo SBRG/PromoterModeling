{
 "cells": [
  {
   "cell_type": "code",
   "execution_count": 3,
   "id": "eea2b611",
   "metadata": {},
   "outputs": [],
   "source": [
    "# imports and loadings\n",
    "import os\n",
    "import sys\n",
    "sys.path.insert(0, '../functions/')\n",
    "import create_data_for_single_gene as cdg\n",
    "import interface_GAMS as iG\n",
    "import parameter_optimization as po\n",
    "import conversion_equations as ce\n",
    "import multiprocessing\n",
    "import matplotlib.pyplot as plt\n",
    "import matplotlib.cm as cm\n",
    "from mpl_toolkits.mplot3d import Axes3D\n",
    "from matplotlib import animation\n",
    "import numpy as np\n",
    "import pickle\n",
    "import pandas as pd\n",
    "import ast\n",
    "import warnings\n",
    "warnings.filterwarnings(\"ignore\", category=UserWarning)\n",
    "\n",
    "# settings\n",
    "genes = ['b2818', 'b3959', 'b3958', 'b3359', 'b3957', 'b0273', 'b3172', 'b3960', 'b4254'] #'b1101', 'b1817', 'b1818', 'b1819', \n",
    "genes = ['b2818', 'b3958', 'b0273'] #'b1101', 'b1817', 'b1818', 'b1819', \n",
    "case = 'argR'\n",
    "\n",
    "if not os.path.exists('../data/case_to_mRNA_passed.pkl'):\n",
    "    case_to_mRNA_passed = {}\n",
    "else:\n",
    "    pickle_in = open('../data/case_to_mRNA_passed.pkl', 'rb')\n",
    "    case_to_mRNA_passed = pickle.load(pickle_in)\n",
    "    pickle_in.close()\n",
    "    \n",
    "# below are the default flags used if nothing is pre-set\n",
    "# set flags by editing the \"saved_flags.csv\" in the ../data folder\n",
    "t_half_life_deg = 300\n",
    "flags = { # add additional settings that should be changed between runs here\n",
    "    # general flags\n",
    "    'central_gene' : 'b1819',\n",
    "    'force_rerun' : True,\n",
    "    'sanity_plots' : True,\n",
    "    'act_iM' : 'Crp-1',\n",
    "    'inh_iM' : 'DhaR/Mlc',\n",
    "    'basal_conditions' : ['control__wt_glc__1', 'control__wt_glc__2'],\n",
    "    'grid_use' : -1, # which of the generated constants grids do you want to use? -1 is the highest KdRNAP\n",
    "    \n",
    "    # basal model flags\n",
    "    'basal_bool': False, # If true, use imported values for basal expression\n",
    "\n",
    "    # mRNA ratios flags\n",
    "    'basal_or_hard_val' : 'basal', # use basal conditions for ratio or some hard value\n",
    "    'hard_val' : 10, # the basal log tpm value\n",
    "    'use_zerod_A_matrix' : True, # recalculate the ICA matrices based on zeroing out gene values in iModulons not of interest\n",
    "\n",
    "    # picking KdRNAPCrp values\n",
    "    'initial_guess_ratio' : .3, # this commonly needs to get raised and lowered to get a good value, eventually I will figure out a way to automate it if this step stays in the pipeline\n",
    "    'use_target_range' : False, # if True, adds a model parameter that encourages the cActivator range to match (cInhibitor is not affected by KdRNAPCrp and can't be adjusted for here)\n",
    "    'target_range' : [-1, 3],\n",
    "    'base_cInhibitor_val' : 0.2, # this is the set minimum value to solve cActivator based on to set its dynamic range\n",
    "    'base_cActivator_val' : 0.2, # defines the range of cInhibitor values available\n",
    "    \n",
    "    # cAct & cInh Grid flags\n",
    "    'auto_set_max_range' : True, # if True, set the range based on the set to zero values of the KdRNAPCrp calculator\n",
    "    'additional_tolerance' : 0.2, # add this %age of the maximum to the top\n",
    "    'cActivator' : [-4,2], # Uses a log10 range\n",
    "    'cInhibitor': [-4,2], # Uses a log10 range\n",
    "    'run_greedy' : True, # skips greedy algo to save time\n",
    "\n",
    "    # GA - best cActivator/cInhibitor flags\n",
    "    'neg_grid_toss_OR_zero' : 'toss', # options: toss or zero, what to do with negative grid values\n",
    "    'seed' : 42,\n",
    "    'n_ind' : 100, # Starting population size\n",
    "    'mu' : 100, # Number of individuals to select for the next generation\n",
    "    'lambda_' : 100, # Number of offspring to produce\n",
    "    'cxpb' : 0.6, # Chance of crossover\n",
    "    'cx_prob' : 0.6, # Chance that a condition is crossed\n",
    "    'mutpb' : 0.4, # Chance an individual undergoes mutation\n",
    "    'mt_prob' : 0.1, # Chance that a condition in individual is mutated\n",
    "    'n_gen' : 100, # Number of generations\n",
    "    'verbose' : False, # Show the logbook as GA runs\n",
    "    # NOTE: To modify the selection algorithm, modify the toolbox in the GA section of the notebook\n",
    "    \n",
    "    # greedy\n",
    "    'n_iter' : 5, # Number of greedy individuals to produce, takes ~1 min for each\n",
    "    'max_steps' : 30, # Maximum number of steps before moving on to next condition\n",
    "    'n_rounds' : 100, # Number of loops of the shuffled conditions with the max steps for each greedy individual\n",
    "}\n",
    "flags_df = pd.read_csv('../data/saved_flags.csv', index_col = 0)\n",
    "TF_flags_df = pd.read_csv('../data/TF_saved_flags.csv', index_col = 0)\n",
    "stable_flags = { # these do not change gene by gene\n",
    "    # overall\n",
    "    'only_create_ratios' : False,\n",
    "    'only_check_KdRNAPCrp' : False, # if True, quit out of code after generating KdRNAPCrp, done to see if it is generating valid values through sanity check plots\n",
    "    'save_results' : True, # saves resulting figures and cAct/cInh values of the previous run to the save_results_run folder\n",
    "    'include_Amy_samples' : True, # append on Amy's stationary phase samples to analysis\n",
    "    'remove_outliers' : True, # removes samples that do not correlate well with others, see ../data_cleaning/1_locate_outliers_to_drop.ipynb\n",
    "    'case' : 'argR', # only used for remove_outliers right now\n",
    "    \n",
    "    # KdRNAPCrp optimization\n",
    "    'KdRNAPCrp_sanity' : True, # if True, return sanity plots from this optimization\n",
    "    \n",
    "    # GAMs\n",
    "    'limit_TF_conc_by_actual' : True, # limits the TF concentrations for the model by the actual values, otherwise lets it be a very wide range\n",
    "    'supress_output' : False,\n",
    "    'use_greedy' : True, # use the greedy algo values (if False, uses the results of the GA)\n",
    "    'run_on_all' : False, # run on all genes that are in the saved output folder\n",
    "    'limit_samples' : genes, # if run_on_all is False, limit to these samples (or which of them are available)\n",
    "    'delete_old' : True,\n",
    "    'run_seperate' : False, # run cActivator and cInhibitor solvers seperately\n",
    "    \n",
    "    # input constants for GAMs (all get logged inside GAMs so pass in un-logged)\n",
    "    'act_TF_conc_lo' : 1e-10,\n",
    "    'act_TF_conc_up' : 1e-5,\n",
    "    'act_Kd_lo' : 1e-10,\n",
    "    'act_Kd_up' : 1e-6,\n",
    "    'inh_TF_conc_lo' : 1e-10,\n",
    "    'inh_TF_conc_up' : 1e-5,\n",
    "    'inh_Kd_lo' : 1e-10,\n",
    "    'inh_Kd_up' : 1e-6,\n",
    "    # objective function weightings\n",
    "    'weight_act_obj1' : 1,\n",
    "    'weight_inh_obj1' : 1,\n",
    "    'weight_act_obj2' : 0,\n",
    "    'weight_inh_obj2' : 0,\n",
    "    'weight_mRNA_match' : .1,\n",
    "    'weight_act_corr' : 0.00000000000000001,\n",
    "    'weight_inh_corr' : 0.00000000000000001,\n",
    "    \n",
    "    \n",
    "    # misc\n",
    "    'eq_str' : 'Eq(mRNARatio,((cActivator*KdRNAP + KdRNAPCrp)*(KdRNAP + RNAP + \\\n",
    "            KeqOpening*RNAP))/((1 + cActivator + cInhibitor)*KdRNAP*KdRNAPCrp + \\\n",
    "            cActivator*KdRNAP*(1 + KeqOpening)*RNAP + KdRNAPCrp*(1 + \\\n",
    "            KeqOpening)*RNAP))',\n",
    "    \n",
    "    # cell_constants'\n",
    "    'cell_constants_RNAP': 10**-6,\n",
    "    'cell_constants_mRNA_total': 1800, # Total mRNA/cell from https://www.ncbi.nlm.nih.gov/pmc/articles/PMC3554401\n",
    "    'cell_constants_cell_volume': 10**-15, # Liters from https://bionumbers.hms.harvard.edu/bionumber.aspx?id=100004&ver=19\n",
    "    'cell_constants_kDeg': np.log(2)/t_half_life_deg, # Rate of degradation\n",
    "    'cell_constants_promoterConcVal': 10**-9, # Promoter concentration\n",
    "    'cell_constants_u': 1/3600, # Growth rate\n",
    "}\n",
    "\n",
    "# proteomics data\n",
    "starve_metabs = pd.read_csv('../data/validation_data_sets/stationary_phase/cleaned_metabolites_data.csv', index_col = 0)\n",
    "# above is in (µM) , convert to M\n",
    "starve_metabs[starve_metabs.columns[1:]] *= 1e-6\n",
    "starve_log_tpm = pd.read_csv('../data/validation_data_sets/stationary_phase/cleaned_log_tpm_qc.csv', index_col = 0)"
   ]
  },
  {
   "cell_type": "code",
   "execution_count": 17,
   "id": "68a06ee6",
   "metadata": {},
   "outputs": [
    {
     "data": {
      "image/png": "[encoded data removed]",
      "text/plain": [
       "<Figure size 640x480 with 1 Axes>"
      ]
     },
     "metadata": {},
     "output_type": "display_data"
    }
   ],
   "source": [
    "plt.hist(starve_metabs.loc['Arginine'][1:], bins = 10)\n",
    "KdArg = max(starve_metabs.loc['Arginine'][1:]) / 2\n",
    "plt.axvline(x = KdArg, ls = '--', c = 'k')\n",
    "plt.show()"
   ]
  },
  {
   "cell_type": "code",
   "execution_count": 71,
   "id": "8aceebaf",
   "metadata": {},
   "outputs": [
    {
     "data": {
      "image/png": "[encoded data removed]",
      "text/plain": [
       "<Figure size 640x480 with 1 Axes>"
      ]
     },
     "metadata": {},
     "output_type": "display_data"
    }
   ],
   "source": [
    "# testing out some stuff\n",
    "run_vals = [int(f.split('_')[1]) for f in os.listdir('../GAMs/runs/') if 'run_' in f]\n",
    "GAMs_run_dir = '../GAMs/runs/run_'+str(max(run_vals))\n",
    "\n",
    "saved_cActivators = pd.read_csv(GAMs_run_dir+'/input_files/composite_cInh_vals.csv', index_col = 0)\n",
    "\n",
    "# GAMS calculated cActivators\n",
    "kd_df = 10**pd.read_csv(GAMs_run_dir+'/output_files/cInh_Kd_results.csv', index_col = 0).astype(float).T\n",
    "\n",
    "saved_cActivators = saved_cActivators[kd_df.columns]\n",
    "\n",
    "\n",
    "# we are using the arginine model, so need to calculate cInhibitor using that\n",
    "inh_metab = 10**pd.read_csv(GAMs_run_dir+'/output_files/inh_metab_Total.csv', index_col = 0).astype(float).T\n",
    "input_constants = pd.read_csv(GAMs_run_dir+'/input_files/input_constants.csv', index_col = 0).astype(float)\n",
    "KdArg = input_constants.loc['kd_inh_metab'].values[0]\n",
    "\n",
    "TF_concs = pd.read_csv(GAMs_run_dir+'/input_files/exported_inh_TF_conc.csv', index_col = 0).astype(float)\n",
    "\n",
    "calc_cInh = pd.DataFrame(index = saved_cActivators.columns, columns = saved_cActivators.index)\n",
    "cActs = []\n",
    "for sample in calc_cInh.columns:\n",
    "    ArgTotal = inh_metab[sample].values[0]\n",
    "    TFTotal = TF_concs.loc[sample].values[0]\n",
    "    for gene in calc_cInh.index:\n",
    "        KdTF = kd_df[gene].values[0]\n",
    "\n",
    "        calc_cInh.at[gene, sample] = (ArgTotal * KdTF + KdArg * KdTF +  KdTF * TFTotal + \\\n",
    "            ( -4 * ArgTotal * KdTF**2 * TFTotal + \\\n",
    "             (ArgTotal * KdTF + KdArg * KdTF + KdTF * TFTotal)**2)**.5 \\\n",
    "            ) / (2 * KdTF**2)\n",
    "calc_cInh = calc_cInh.T\n",
    "\n",
    "grid = pd.read_csv(GAMs_run_dir+'/input_files/grid_constants.csv', index_col = 0)\n",
    "vals = []\n",
    "po.create_shared_lambda_df(stable_flags['eq_str'], dict(grid['b2818']))\n",
    "ratios_df = pd.read_csv(GAMs_run_dir+'/input_files/actual_mRNA_ratio.csv', index_col = 0)\n",
    "ratios_df = ratios_df.loc[calc_cInh.index]\n",
    "for cInh in calc_cInh['b2818']:\n",
    "    vals.append(po.cActivator_cInhibitor_to_mRNA(0, cInh, KdRNAPCrp = grid[gene].loc['KdRNAPCrp']))\n",
    "    \n",
    "plt.axis('equal')\n",
    "plt.scatter(ratios_df['b2818'], vals)\n",
    "plt.xlabel('actual mRNA')\n",
    "plt.ylabel('GAMS mRNA')\n",
    "plt.title('pure')\n",
    "\n",
    "\n",
    "# do it again, slightly modified in some way\n",
    "# testing out some stuff\n",
    "run_vals = [int(f.split('_')[1]) for f in os.listdir('../GAMs/runs/') if 'run_' in f]\n",
    "GAMs_run_dir = '../GAMs/runs/run_'+str(max(run_vals))\n",
    "\n",
    "saved_cActivators = pd.read_csv(GAMs_run_dir+'/input_files/composite_cInh_vals.csv', index_col = 0)\n",
    "\n",
    "# GAMS calculated cActivators\n",
    "kd_df = 10**pd.read_csv(GAMs_run_dir+'/output_files/cInh_Kd_results.csv', index_col = 0).astype(float).T\n",
    "\n",
    "saved_cActivators = saved_cActivators[kd_df.columns]\n",
    "\n",
    "\n",
    "# we are using the arginine model, so need to calculate cInhibitor using that\n",
    "inh_metab = 10**pd.read_csv(GAMs_run_dir+'/output_files/inh_metab_Total.csv', index_col = 0).astype(float).T\n",
    "input_constants = pd.read_csv(GAMs_run_dir+'/input_files/input_constants.csv', index_col = 0).astype(float)\n",
    "KdArg = input_constants.loc['kd_inh_metab'].values[0]\n",
    "\n",
    "TF_concs = pd.read_csv(GAMs_run_dir+'/input_files/exported_inh_TF_conc.csv', index_col = 0).astype(float)\n",
    "\n",
    "calc_cInh = pd.DataFrame(index = saved_cActivators.columns, columns = saved_cActivators.index)\n",
    "cActs = []\n",
    "for sample in calc_cInh.columns:\n",
    "    ArgTotal = inh_metab[sample].values[0]\n",
    "    TFTotal = TF_concs.loc[sample].values[0]\n",
    "    for gene in calc_cInh.index:\n",
    "        KdTF = kd_df[gene].values[0] * 100\n",
    "\n",
    "        calc_cInh.at[gene, sample] = (ArgTotal * KdTF + KdArg * KdTF +  KdTF * TFTotal + \\\n",
    "            ( -4 * ArgTotal * KdTF**2 * TFTotal + \\\n",
    "             (ArgTotal * KdTF + KdArg * KdTF + KdTF * TFTotal)**2)**.5 \\\n",
    "            ) / (2 * KdTF**2)\n",
    "calc_cInh = calc_cInh.T\n",
    "\n",
    "grid = pd.read_csv(GAMs_run_dir+'/input_files/grid_constants.csv', index_col = 0)\n",
    "vals = []\n",
    "po.create_shared_lambda_df(stable_flags['eq_str'], dict(grid['b2818']))\n",
    "ratios_df = pd.read_csv(GAMs_run_dir+'/input_files/actual_mRNA_ratio.csv', index_col = 0)\n",
    "ratios_df = ratios_df.loc[calc_cInh.index]\n",
    "for cInh in calc_cInh['b2818']:\n",
    "    vals.append(po.cActivator_cInhibitor_to_mRNA(0, cInh, KdRNAPCrp = grid[gene].loc['KdRNAPCrp']))\n",
    "    \n",
    "plt.axis('equal')\n",
    "plt.scatter(ratios_df['b2818'], vals, c = 'red')\n",
    "plt.xlabel('actual mRNA')\n",
    "plt.ylabel('GAMS mRNA')\n",
    "plt.title('modified')\n",
    "plt.show()\n",
    "\n",
    "\n",
    "plt.show()"
   ]
  },
  {
   "cell_type": "code",
   "execution_count": 47,
   "id": "10ade5f1",
   "metadata": {},
   "outputs": [
    {
     "data": {
      "text/plain": [
       "b3237    7.335440e-07\n",
       "Name: ytf__wt_ph8__2, dtype: float64"
      ]
     },
     "execution_count": 47,
     "metadata": {},
     "output_type": "execute_result"
    }
   ],
   "source": [
    "TF_concs.loc[sample]"
   ]
  },
  {
   "cell_type": "code",
   "execution_count": 48,
   "id": "ed88ed78",
   "metadata": {},
   "outputs": [
    {
     "data": {
      "text/plain": [
       "Val    8.243667e-09\n",
       "Name: ytf__wt_ph8__2, dtype: float64"
      ]
     },
     "execution_count": 48,
     "metadata": {},
     "output_type": "execute_result"
    }
   ],
   "source": [
    "inh_metab[sample]"
   ]
  },
  {
   "cell_type": "code",
   "execution_count": 72,
   "id": "72a48305",
   "metadata": {},
   "outputs": [],
   "source": [
    "KdArg = max(starve_metabs.loc['Arginine'][1:]) / 2"
   ]
  },
  {
   "cell_type": "code",
   "execution_count": 73,
   "id": "1ef5ed42",
   "metadata": {},
   "outputs": [
    {
     "data": {
      "text/plain": [
       "0.00020423"
      ]
     },
     "execution_count": 73,
     "metadata": {},
     "output_type": "execute_result"
    }
   ],
   "source": [
    "KdArg"
   ]
  },
  {
   "cell_type": "code",
   "execution_count": null,
   "id": "c0f245ac",
   "metadata": {},
   "outputs": [],
   "source": []
  }
 ],
 "metadata": {
  "kernelspec": {
   "display_name": "Python 3 (ipykernel)",
   "language": "python",
   "name": "python3"
  },
  "language_info": {
   "codemirror_mode": {
    "name": "ipython",
    "version": 3
   },
   "file_extension": ".py",
   "mimetype": "text/x-python",
   "name": "python",
   "nbconvert_exporter": "python",
   "pygments_lexer": "ipython3",
   "version": "3.10.10"
  },
  "toc": {
   "base_numbering": 1,
   "nav_menu": {},
   "number_sections": true,
   "sideBar": true,
   "skip_h1_title": false,
   "title_cell": "Table of Contents",
   "title_sidebar": "Contents",
   "toc_cell": false,
   "toc_position": {},
   "toc_section_display": true,
   "toc_window_display": false
  }
 },
 "nbformat": 4,
 "nbformat_minor": 5
}
