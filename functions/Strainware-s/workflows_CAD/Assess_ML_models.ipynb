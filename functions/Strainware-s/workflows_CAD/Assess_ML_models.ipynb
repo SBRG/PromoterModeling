{
 "cells": [
  {
   "cell_type": "code",
   "execution_count": 1,
   "metadata": {},
   "outputs": [],
   "source": [
    "from pathlib import Path\n",
    "import sys\n",
    "\n",
    "import matplotlib.pyplot as plt\n",
    "import numpy as np\n",
    "import pandas as pd\n",
    "import scipy.sparse as sparse\n",
    "import seaborn as sns\n",
    "from sklearn.ensemble import RandomForestClassifier\n",
    "from sklearn.linear_model import LogisticRegression\n",
    "from sklearn.model_selection import cross_validate, RandomizedSearchCV\n",
    "from sklearn.neural_network import MLPClassifier\n",
    "from sklearn.preprocessing import StandardScaler\n",
    "from sklearn.svm import LinearSVC\n",
    "from sklearn.utils.class_weight import compute_class_weight\n",
    "\n",
    "sys.path.append('../bitome-kb/')\n",
    "from pathlib import Path\n",
    "from bitome.core import Bitome\n",
    "from math import log,exp,inf\n",
    "bitome = Bitome.init_from_file('../bitome-kb/bitome.pkl')"
   ]
  },
  {
   "cell_type": "code",
   "execution_count": 2,
   "metadata": {},
   "outputs": [
    {
     "data": {
      "text/plain": [
       "dict_keys(['CysB-1', 'HprR+CusR', 'PhoB-1', 'Fnr-1', 'TdcAR', 'Fimbriae', 'PurR-2', 'Fnr+NarL', 'GalRS', 'BtsR', 'PyrR', 'PlaR', 'RpoN+FhlA', 'RhaS', 'NanR', 'FadR', 'NrdR', 'GlcC', 'BaeR+CpxR', 'NikR', 'Isoleucine', 'RpoN+PspF', 'OxyR', 'TrpR', 'CsqR', 'LldR', 'Thiamine-1', 'PuuR', 'YcjW', 'PdhR+OmpR', 'NsrR', 'GntR', 'Fnr+NarLP', 'RcsAB', 'MalT', 'TyrR', 'Molybdopterin', 'Fnr-2', 'AtoC', 'Leucine', 'SoxS', 'Translation', 'RcnR', 'Lrp', 'Nac', 'KdpE', 'PhoB-2', 'RbsR', 'CysB-2', 'FlhDC-1', 'GatR', 'ArgR', 'GadX', 'RpoN+NtrC-1', 'XylR', 'ArcA', 'BirA', 'EvgA', 'BluR', 'LsrR', 'Zur', 'RpoE', 'Fur-1', 'PurR-1', 'ArgP', 'AllR', 'FucR', 'Fur-2', 'Mlc', 'CecR', 'Fnr+IHF+gcvB', 'YgbI', 'LexA', 'Cra', 'GlpR', 'RpoN+NtrC-2', 'PaaX', 'Oligopeptide', 'CdaR', 'RpoN+PrpR+Cra', 'FliA', 'CpxR', 'Histidine', 'RpoH', 'GadE+FliZ', 'GcvA', 'YdeO+H-NS', 'NagC', 'GutM+SrlR', 'MetJ', 'RpoS', 'CysB-3', 'FlhDC-2', 'RutR', 'PhoP', 'RyhB', 'BasR', 'NarL', 'RpoS+ArgR+RpoN', 'Crp-related-2'])"
      ]
     },
     "execution_count": 2,
     "metadata": {},
     "output_type": "execute_result"
    }
   ],
   "source": [
    "import ast\n",
    "im_info = pd.read_csv('data/precise2_im_info_new.csv')\n",
    "\n",
    "IM_genes = {}\n",
    "for i in range(len(im_info['im_name'])):\n",
    "    IM_genes[im_info['im_name'][i]] = ast.literal_eval( im_info['genes'][i] )\n",
    "IM_genes.keys()"
   ]
  },
  {
   "cell_type": "code",
   "execution_count": 3,
   "metadata": {},
   "outputs": [],
   "source": [
    "features = pd.read_csv('features_avg.csv')\n",
    "S = pd.read_csv('data/S.csv')"
   ]
  },
  {
   "cell_type": "code",
   "execution_count": 4,
   "metadata": {},
   "outputs": [
    {
     "data": {
      "text/plain": [
       "Index(['ID', 'strand', 'TU_length', 'leading', 'lagging', 'terminus',\n",
       "       'Sigma70_Prib_Start', 'Sigma70_Prib_score', 'Sigma70_Prib_hmd',\n",
       "       'Sigma70_Prib_Tm',\n",
       "       ...\n",
       "       'EP_TSS_1', 'EP_TSS_2', 'EP_TSS_3', 'EP_TSS_4', 'EP_TSS_5', 'EP_TSS_6',\n",
       "       'EP_TSS_7', 'EP_TSS_8', 'EP_TSS_9', 'EP_TSS_10'],\n",
       "      dtype='object', length=2192)"
      ]
     },
     "execution_count": 4,
     "metadata": {},
     "output_type": "execute_result"
    }
   ],
   "source": [
    "features.columns"
   ]
  },
  {
   "cell_type": "code",
   "execution_count": 5,
   "metadata": {},
   "outputs": [],
   "source": [
    "featureList = list(features.columns[1:2192])\n",
    "X = features.iloc[:,1:].values\n",
    "X = StandardScaler().fit_transform(X)\n",
    "ID = list(features['ID'])"
   ]
  },
  {
   "cell_type": "code",
   "execution_count": 6,
   "metadata": {},
   "outputs": [],
   "source": [
    "# cobvert gene name and b number.\n",
    "b_g = {}\n",
    "for g in bitome.genes:\n",
    "    b_g[g.name] = g.locus_tag"
   ]
  },
  {
   "cell_type": "code",
   "execution_count": 7,
   "metadata": {},
   "outputs": [],
   "source": [
    "# old version of IM genes\n",
    "img = {}\n",
    "for im in bitome.i_modulons:\n",
    "    img[im.name] = []\n",
    "    for g in im.genes:\n",
    "            img[im.name].append( g.locus_tag)"
   ]
  },
  {
   "cell_type": "markdown",
   "metadata": {},
   "source": [
    "# classify im membership"
   ]
  },
  {
   "cell_type": "code",
   "execution_count": 8,
   "metadata": {},
   "outputs": [],
   "source": [
    "target_labels={}\n",
    "for r in IM_genes.keys():\n",
    "    target_labels[r] = []\n",
    "    for i in range( len(ID) ):\n",
    "        if ID[i] in IM_genes[r]:\n",
    "            target_labels[r].append( 1 )\n",
    "        else:\n",
    "            target_labels[r].append( 0 ) "
   ]
  },
  {
   "cell_type": "code",
   "execution_count": 9,
   "metadata": {},
   "outputs": [],
   "source": [
    "models_to_try = {\n",
    "    'LR': LogisticRegression(\n",
    "        penalty='l1',\n",
    "        solver='saga',\n",
    "        class_weight='balanced',\n",
    "        random_state=42\n",
    "    ),\n",
    "    'SVM': LinearSVC(\n",
    "        penalty='l1',\n",
    "        class_weight='balanced',\n",
    "        dual=False,\n",
    "        random_state=42,\n",
    "        verbose=1\n",
    "    ),\n",
    "    'RF': RandomForestClassifier(\n",
    "        class_weight='balanced',\n",
    "        random_state=42,\n",
    "        verbose=1\n",
    "    )\n",
    "}"
   ]
  },
  {
   "cell_type": "code",
   "execution_count": 10,
   "metadata": {},
   "outputs": [],
   "source": [
    "hyperopt_models = {\n",
    "    'LR': {\n",
    "        'model': LogisticRegression(\n",
    "            solver='saga',\n",
    "            class_weight='balanced',\n",
    "            verbose=1\n",
    "        ),\n",
    "        'param_dists': {\n",
    "            'penalty': ['l1', 'l2'],\n",
    "            'C': np.arange(0.01, 5, 0.05)\n",
    "        }\n",
    "    },\n",
    "    'SVM': {\n",
    "        'model': LinearSVC(\n",
    "            class_weight='balanced',\n",
    "            dual=False,\n",
    "            verbose=1\n",
    "        ),\n",
    "        'param_dists': {\n",
    "            'penalty': ['l1', 'l2'],\n",
    "            'loss': ['hinge', 'squared_hinge'],\n",
    "            'C': np.arange(0.01, 5, 0.05)\n",
    "        }\n",
    "    },\n",
    "    'RF': {\n",
    "        'model': RandomForestClassifier(\n",
    "            class_weight='balanced',\n",
    "            verbose=1\n",
    "        ),\n",
    "        'param_dists': {\n",
    "            'n_estimators': np.arange(10, 100, 5 ),\n",
    "            'max_depth': np.arange(3, 15),\n",
    "            'min_samples_split': np.arange(0.001, 0.02, 0.001),\n",
    "            'min_samples_leaf': np.arange(5, 15)\n",
    "        }\n",
    "    }\n",
    "}"
   ]
  },
  {
   "cell_type": "code",
   "execution_count": 13,
   "metadata": {},
   "outputs": [],
   "source": [
    "y_to_try_1 = {\n",
    "    'Fnr+IHF+gcvB':target_labels['Fnr+IHF+gcvB'], 'Fnr+NarL':target_labels['Fnr+NarL'],\n",
    "    'Fnr+NarLP':target_labels['Fnr+NarLP'],'Fnr-1':target_labels['Fnr-1'],'Fnr-2':target_labels['Fnr-2'],\n",
    "    'Fur-1':target_labels['Fur-1'], 'Fur-2':target_labels['Fur-2'],'GadE+FliZ':target_labels['GadE+FliZ'],\n",
    "    'GadX':target_labels['GadX'], 'GalRS':target_labels['GalRS'],'GatR':target_labels['GatR'],\n",
    "    'GlpR':target_labels['GlpR'], 'GcvA':target_labels['GcvA'], 'GntR':target_labels['GntR'],\n",
    "    'Leucine':target_labels['Leucine'],'LexA':target_labels['LexA']\n",
    "}"
   ]
  },
  {
   "cell_type": "code",
   "execution_count": 14,
   "metadata": {},
   "outputs": [
    {
     "name": "stdout",
     "output_type": "stream",
     "text": [
      "Fnr+IHF+gcvB\n",
      "Fitting 5 folds for each of 25 candidates, totalling 125 fits\n"
     ]
    },
    {
     "name": "stderr",
     "output_type": "stream",
     "text": [
      "[Parallel(n_jobs=4)]: Using backend LokyBackend with 4 concurrent workers.\n",
      "[Parallel(n_jobs=4)]: Done  42 tasks      | elapsed:   25.0s\n",
      "[Parallel(n_jobs=4)]: Done 125 out of 125 | elapsed:   56.9s finished\n",
      "[Parallel(n_jobs=1)]: Using backend SequentialBackend with 1 concurrent workers.\n",
      "[Parallel(n_jobs=1)]: Done  30 out of  30 | elapsed:    0.5s finished\n",
      "[Parallel(n_jobs=4)]: Using backend LokyBackend with 4 concurrent workers.\n"
     ]
    },
    {
     "name": "stdout",
     "output_type": "stream",
     "text": [
      "Fnr+NarL\n",
      "Fitting 5 folds for each of 25 candidates, totalling 125 fits\n"
     ]
    },
    {
     "name": "stderr",
     "output_type": "stream",
     "text": [
      "[Parallel(n_jobs=4)]: Done  42 tasks      | elapsed:   24.7s\n",
      "[Parallel(n_jobs=4)]: Done 125 out of 125 | elapsed:  1.0min finished\n",
      "[Parallel(n_jobs=1)]: Using backend SequentialBackend with 1 concurrent workers.\n",
      "[Parallel(n_jobs=1)]: Done  80 out of  80 | elapsed:    1.3s finished\n",
      "[Parallel(n_jobs=4)]: Using backend LokyBackend with 4 concurrent workers.\n"
     ]
    },
    {
     "name": "stdout",
     "output_type": "stream",
     "text": [
      "Fnr+NarLP\n",
      "Fitting 5 folds for each of 25 candidates, totalling 125 fits\n"
     ]
    },
    {
     "name": "stderr",
     "output_type": "stream",
     "text": [
      "[Parallel(n_jobs=4)]: Done  42 tasks      | elapsed:   24.3s\n",
      "[Parallel(n_jobs=4)]: Done 125 out of 125 | elapsed:   59.9s finished\n",
      "[Parallel(n_jobs=1)]: Using backend SequentialBackend with 1 concurrent workers.\n",
      "[Parallel(n_jobs=1)]: Done  10 out of  10 | elapsed:    0.2s finished\n",
      "[Parallel(n_jobs=4)]: Using backend LokyBackend with 4 concurrent workers.\n"
     ]
    },
    {
     "name": "stdout",
     "output_type": "stream",
     "text": [
      "Fnr-1\n",
      "Fitting 5 folds for each of 25 candidates, totalling 125 fits\n"
     ]
    },
    {
     "name": "stderr",
     "output_type": "stream",
     "text": [
      "[Parallel(n_jobs=4)]: Done  42 tasks      | elapsed:   25.3s\n",
      "[Parallel(n_jobs=4)]: Done 125 out of 125 | elapsed:  1.3min finished\n",
      "[Parallel(n_jobs=1)]: Using backend SequentialBackend with 1 concurrent workers.\n",
      "[Parallel(n_jobs=1)]: Done  85 out of  85 | elapsed:    1.9s finished\n",
      "[Parallel(n_jobs=4)]: Using backend LokyBackend with 4 concurrent workers.\n"
     ]
    },
    {
     "name": "stdout",
     "output_type": "stream",
     "text": [
      "Fnr-2\n",
      "Fitting 5 folds for each of 25 candidates, totalling 125 fits\n"
     ]
    },
    {
     "name": "stderr",
     "output_type": "stream",
     "text": [
      "[Parallel(n_jobs=4)]: Done  42 tasks      | elapsed:   41.1s\n",
      "[Parallel(n_jobs=4)]: Done 125 out of 125 | elapsed:  1.9min finished\n",
      "[Parallel(n_jobs=1)]: Using backend SequentialBackend with 1 concurrent workers.\n",
      "[Parallel(n_jobs=1)]: Done  20 out of  20 | elapsed:    0.7s finished\n",
      "[Parallel(n_jobs=4)]: Using backend LokyBackend with 4 concurrent workers.\n"
     ]
    },
    {
     "name": "stdout",
     "output_type": "stream",
     "text": [
      "Fur-1\n",
      "Fitting 5 folds for each of 25 candidates, totalling 125 fits\n"
     ]
    },
    {
     "name": "stderr",
     "output_type": "stream",
     "text": [
      "[Parallel(n_jobs=4)]: Done  42 tasks      | elapsed:   29.2s\n",
      "[Parallel(n_jobs=4)]: Done 125 out of 125 | elapsed:  1.4min finished\n",
      "[Parallel(n_jobs=1)]: Using backend SequentialBackend with 1 concurrent workers.\n",
      "[Parallel(n_jobs=1)]: Done  65 out of  65 | elapsed:    2.0s finished\n",
      "[Parallel(n_jobs=4)]: Using backend LokyBackend with 4 concurrent workers.\n"
     ]
    },
    {
     "name": "stdout",
     "output_type": "stream",
     "text": [
      "Fur-2\n",
      "Fitting 5 folds for each of 25 candidates, totalling 125 fits\n"
     ]
    },
    {
     "name": "stderr",
     "output_type": "stream",
     "text": [
      "[Parallel(n_jobs=4)]: Done  42 tasks      | elapsed:   34.9s\n",
      "[Parallel(n_jobs=4)]: Done 125 out of 125 | elapsed:  1.6min finished\n",
      "[Parallel(n_jobs=1)]: Using backend SequentialBackend with 1 concurrent workers.\n",
      "[Parallel(n_jobs=1)]: Done  80 out of  80 | elapsed:    2.1s finished\n",
      "[Parallel(n_jobs=4)]: Using backend LokyBackend with 4 concurrent workers.\n"
     ]
    },
    {
     "name": "stdout",
     "output_type": "stream",
     "text": [
      "GadE+FliZ\n",
      "Fitting 5 folds for each of 25 candidates, totalling 125 fits\n"
     ]
    },
    {
     "name": "stderr",
     "output_type": "stream",
     "text": [
      "[Parallel(n_jobs=4)]: Done  42 tasks      | elapsed:   27.3s\n",
      "[Parallel(n_jobs=4)]: Done 125 out of 125 | elapsed:  1.2min finished\n",
      "[Parallel(n_jobs=1)]: Using backend SequentialBackend with 1 concurrent workers.\n",
      "[Parallel(n_jobs=1)]: Done  45 out of  45 | elapsed:    0.7s finished\n",
      "[Parallel(n_jobs=4)]: Using backend LokyBackend with 4 concurrent workers.\n"
     ]
    },
    {
     "name": "stdout",
     "output_type": "stream",
     "text": [
      "GadX\n",
      "Fitting 5 folds for each of 25 candidates, totalling 125 fits\n"
     ]
    },
    {
     "name": "stderr",
     "output_type": "stream",
     "text": [
      "[Parallel(n_jobs=4)]: Done  42 tasks      | elapsed:   21.3s\n",
      "[Parallel(n_jobs=4)]: Done 125 out of 125 | elapsed:  1.0min finished\n",
      "[Parallel(n_jobs=1)]: Using backend SequentialBackend with 1 concurrent workers.\n",
      "[Parallel(n_jobs=1)]: Done  45 out of  45 | elapsed:    1.0s finished\n",
      "[Parallel(n_jobs=4)]: Using backend LokyBackend with 4 concurrent workers.\n"
     ]
    },
    {
     "name": "stdout",
     "output_type": "stream",
     "text": [
      "GalRS\n",
      "Fitting 5 folds for each of 25 candidates, totalling 125 fits\n"
     ]
    },
    {
     "name": "stderr",
     "output_type": "stream",
     "text": [
      "[Parallel(n_jobs=4)]: Done  42 tasks      | elapsed:   19.7s\n",
      "[Parallel(n_jobs=4)]: Done 125 out of 125 | elapsed:   51.1s finished\n",
      "[Parallel(n_jobs=1)]: Using backend SequentialBackend with 1 concurrent workers.\n",
      "[Parallel(n_jobs=1)]: Done  30 out of  30 | elapsed:    0.4s finished\n",
      "[Parallel(n_jobs=4)]: Using backend LokyBackend with 4 concurrent workers.\n"
     ]
    },
    {
     "name": "stdout",
     "output_type": "stream",
     "text": [
      "GatR\n",
      "Fitting 5 folds for each of 25 candidates, totalling 125 fits\n"
     ]
    },
    {
     "name": "stderr",
     "output_type": "stream",
     "text": [
      "[Parallel(n_jobs=4)]: Done  42 tasks      | elapsed:   28.3s\n",
      "[Parallel(n_jobs=4)]: Done 125 out of 125 | elapsed:  1.1min finished\n",
      "[Parallel(n_jobs=1)]: Using backend SequentialBackend with 1 concurrent workers.\n",
      "[Parallel(n_jobs=1)]: Done  75 out of  75 | elapsed:    1.3s finished\n",
      "[Parallel(n_jobs=4)]: Using backend LokyBackend with 4 concurrent workers.\n"
     ]
    },
    {
     "name": "stdout",
     "output_type": "stream",
     "text": [
      "GlpR\n",
      "Fitting 5 folds for each of 25 candidates, totalling 125 fits\n"
     ]
    },
    {
     "name": "stderr",
     "output_type": "stream",
     "text": [
      "[Parallel(n_jobs=4)]: Done  42 tasks      | elapsed:   20.9s\n",
      "[Parallel(n_jobs=4)]: Done 125 out of 125 | elapsed:   55.0s finished\n",
      "[Parallel(n_jobs=1)]: Using backend SequentialBackend with 1 concurrent workers.\n",
      "[Parallel(n_jobs=1)]: Done  90 out of  90 | elapsed:    1.1s finished\n",
      "/usr/local/lib/python3.8/dist-packages/sklearn/model_selection/_split.py:670: UserWarning: The least populated class in y has only 4 members, which is less than n_splits=5.\n",
      "  warnings.warn((\"The least populated class in y has only %d\"\n",
      "[Parallel(n_jobs=4)]: Using backend LokyBackend with 4 concurrent workers.\n"
     ]
    },
    {
     "name": "stdout",
     "output_type": "stream",
     "text": [
      "GcvA\n",
      "Fitting 5 folds for each of 25 candidates, totalling 125 fits\n"
     ]
    },
    {
     "ename": "ValueError",
     "evalue": "Only one class present in y_true. ROC AUC score is not defined in that case.",
     "output_type": "error",
     "traceback": [
      "\u001b[0;31m---------------------------------------------------------------------------\u001b[0m",
      "\u001b[0;31m_RemoteTraceback\u001b[0m                          Traceback (most recent call last)",
      "\u001b[0;31m_RemoteTraceback\u001b[0m: \n\"\"\"\nTraceback (most recent call last):\n  File \"/usr/local/lib/python3.8/dist-packages/joblib/externals/loky/process_executor.py\", line 431, in _process_worker\n    r = call_item()\n  File \"/usr/local/lib/python3.8/dist-packages/joblib/externals/loky/process_executor.py\", line 285, in __call__\n    return self.fn(*self.args, **self.kwargs)\n  File \"/usr/local/lib/python3.8/dist-packages/joblib/_parallel_backends.py\", line 595, in __call__\n    return self.func(*args, **kwargs)\n  File \"/usr/local/lib/python3.8/dist-packages/joblib/parallel.py\", line 252, in __call__\n    return [func(*args, **kwargs)\n  File \"/usr/local/lib/python3.8/dist-packages/joblib/parallel.py\", line 252, in <listcomp>\n    return [func(*args, **kwargs)\n  File \"/usr/local/lib/python3.8/dist-packages/sklearn/model_selection/_validation.py\", line 560, in _fit_and_score\n    test_scores = _score(estimator, X_test, y_test, scorer)\n  File \"/usr/local/lib/python3.8/dist-packages/sklearn/model_selection/_validation.py\", line 607, in _score\n    scores = scorer(estimator, X_test, y_test)\n  File \"/usr/local/lib/python3.8/dist-packages/sklearn/metrics/_scorer.py\", line 87, in __call__\n    score = scorer._score(cached_call, estimator,\n  File \"/usr/local/lib/python3.8/dist-packages/sklearn/metrics/_scorer.py\", line 333, in _score\n    return self._sign * self._score_func(y, y_pred, **self._kwargs)\n  File \"/usr/local/lib/python3.8/dist-packages/sklearn/utils/validation.py\", line 73, in inner_f\n    return f(**kwargs)\n  File \"/usr/local/lib/python3.8/dist-packages/sklearn/metrics/_ranking.py\", line 390, in roc_auc_score\n    return _average_binary_score(partial(_binary_roc_auc_score,\n  File \"/usr/local/lib/python3.8/dist-packages/sklearn/metrics/_base.py\", line 77, in _average_binary_score\n    return binary_metric(y_true, y_score, sample_weight=sample_weight)\n  File \"/usr/local/lib/python3.8/dist-packages/sklearn/metrics/_ranking.py\", line 223, in _binary_roc_auc_score\n    raise ValueError(\"Only one class present in y_true. ROC AUC score \"\nValueError: Only one class present in y_true. ROC AUC score is not defined in that case.\n\"\"\"",
      "\nThe above exception was the direct cause of the following exception:\n",
      "\u001b[0;31mValueError\u001b[0m                                Traceback (most recent call last)",
      "\u001b[0;32m<ipython-input-14-eed227cbdfce>\u001b[0m in \u001b[0;36m<module>\u001b[0;34m\u001b[0m\n\u001b[1;32m     15\u001b[0m     )\n\u001b[1;32m     16\u001b[0m \u001b[0;34m\u001b[0m\u001b[0m\n\u001b[0;32m---> 17\u001b[0;31m     \u001b[0mrandom_search_hyperopt\u001b[0m\u001b[0;34m.\u001b[0m\u001b[0mfit\u001b[0m\u001b[0;34m(\u001b[0m\u001b[0mX\u001b[0m\u001b[0;34m,\u001b[0m\u001b[0my_labels\u001b[0m \u001b[0;34m)\u001b[0m\u001b[0;34m\u001b[0m\u001b[0;34m\u001b[0m\u001b[0m\n\u001b[0m\u001b[1;32m     18\u001b[0m \u001b[0;34m\u001b[0m\u001b[0m\n\u001b[1;32m     19\u001b[0m     hyperopt_results_df = pd.DataFrame(random_search_hyperopt.cv_results_).sort_values(\n",
      "\u001b[0;32m/usr/local/lib/python3.8/dist-packages/sklearn/utils/validation.py\u001b[0m in \u001b[0;36minner_f\u001b[0;34m(*args, **kwargs)\u001b[0m\n\u001b[1;32m     71\u001b[0m                           FutureWarning)\n\u001b[1;32m     72\u001b[0m         \u001b[0mkwargs\u001b[0m\u001b[0;34m.\u001b[0m\u001b[0mupdate\u001b[0m\u001b[0;34m(\u001b[0m\u001b[0;34m{\u001b[0m\u001b[0mk\u001b[0m\u001b[0;34m:\u001b[0m \u001b[0marg\u001b[0m \u001b[0;32mfor\u001b[0m \u001b[0mk\u001b[0m\u001b[0;34m,\u001b[0m \u001b[0marg\u001b[0m \u001b[0;32min\u001b[0m \u001b[0mzip\u001b[0m\u001b[0;34m(\u001b[0m\u001b[0msig\u001b[0m\u001b[0;34m.\u001b[0m\u001b[0mparameters\u001b[0m\u001b[0;34m,\u001b[0m \u001b[0margs\u001b[0m\u001b[0;34m)\u001b[0m\u001b[0;34m}\u001b[0m\u001b[0;34m)\u001b[0m\u001b[0;34m\u001b[0m\u001b[0;34m\u001b[0m\u001b[0m\n\u001b[0;32m---> 73\u001b[0;31m         \u001b[0;32mreturn\u001b[0m \u001b[0mf\u001b[0m\u001b[0;34m(\u001b[0m\u001b[0;34m**\u001b[0m\u001b[0mkwargs\u001b[0m\u001b[0;34m)\u001b[0m\u001b[0;34m\u001b[0m\u001b[0;34m\u001b[0m\u001b[0m\n\u001b[0m\u001b[1;32m     74\u001b[0m     \u001b[0;32mreturn\u001b[0m \u001b[0minner_f\u001b[0m\u001b[0;34m\u001b[0m\u001b[0;34m\u001b[0m\u001b[0m\n\u001b[1;32m     75\u001b[0m \u001b[0;34m\u001b[0m\u001b[0m\n",
      "\u001b[0;32m/usr/local/lib/python3.8/dist-packages/sklearn/model_selection/_search.py\u001b[0m in \u001b[0;36mfit\u001b[0;34m(self, X, y, groups, **fit_params)\u001b[0m\n\u001b[1;32m    734\u001b[0m                 \u001b[0;32mreturn\u001b[0m \u001b[0mresults\u001b[0m\u001b[0;34m\u001b[0m\u001b[0;34m\u001b[0m\u001b[0m\n\u001b[1;32m    735\u001b[0m \u001b[0;34m\u001b[0m\u001b[0m\n\u001b[0;32m--> 736\u001b[0;31m             \u001b[0mself\u001b[0m\u001b[0;34m.\u001b[0m\u001b[0m_run_search\u001b[0m\u001b[0;34m(\u001b[0m\u001b[0mevaluate_candidates\u001b[0m\u001b[0;34m)\u001b[0m\u001b[0;34m\u001b[0m\u001b[0;34m\u001b[0m\u001b[0m\n\u001b[0m\u001b[1;32m    737\u001b[0m \u001b[0;34m\u001b[0m\u001b[0m\n\u001b[1;32m    738\u001b[0m         \u001b[0;31m# For multi-metric evaluation, store the best_index_, best_params_ and\u001b[0m\u001b[0;34m\u001b[0m\u001b[0;34m\u001b[0m\u001b[0;34m\u001b[0m\u001b[0m\n",
      "\u001b[0;32m/usr/local/lib/python3.8/dist-packages/sklearn/model_selection/_search.py\u001b[0m in \u001b[0;36m_run_search\u001b[0;34m(self, evaluate_candidates)\u001b[0m\n\u001b[1;32m   1527\u001b[0m     \u001b[0;32mdef\u001b[0m \u001b[0m_run_search\u001b[0m\u001b[0;34m(\u001b[0m\u001b[0mself\u001b[0m\u001b[0;34m,\u001b[0m \u001b[0mevaluate_candidates\u001b[0m\u001b[0;34m)\u001b[0m\u001b[0;34m:\u001b[0m\u001b[0;34m\u001b[0m\u001b[0;34m\u001b[0m\u001b[0m\n\u001b[1;32m   1528\u001b[0m         \u001b[0;34m\"\"\"Search n_iter candidates from param_distributions\"\"\"\u001b[0m\u001b[0;34m\u001b[0m\u001b[0;34m\u001b[0m\u001b[0m\n\u001b[0;32m-> 1529\u001b[0;31m         evaluate_candidates(ParameterSampler(\n\u001b[0m\u001b[1;32m   1530\u001b[0m             \u001b[0mself\u001b[0m\u001b[0;34m.\u001b[0m\u001b[0mparam_distributions\u001b[0m\u001b[0;34m,\u001b[0m \u001b[0mself\u001b[0m\u001b[0;34m.\u001b[0m\u001b[0mn_iter\u001b[0m\u001b[0;34m,\u001b[0m\u001b[0;34m\u001b[0m\u001b[0;34m\u001b[0m\u001b[0m\n\u001b[1;32m   1531\u001b[0m             random_state=self.random_state))\n",
      "\u001b[0;32m/usr/local/lib/python3.8/dist-packages/sklearn/model_selection/_search.py\u001b[0m in \u001b[0;36mevaluate_candidates\u001b[0;34m(candidate_params)\u001b[0m\n\u001b[1;32m    706\u001b[0m                               n_splits, n_candidates, n_candidates * n_splits))\n\u001b[1;32m    707\u001b[0m \u001b[0;34m\u001b[0m\u001b[0m\n\u001b[0;32m--> 708\u001b[0;31m                 out = parallel(delayed(_fit_and_score)(clone(base_estimator),\n\u001b[0m\u001b[1;32m    709\u001b[0m                                                        \u001b[0mX\u001b[0m\u001b[0;34m,\u001b[0m \u001b[0my\u001b[0m\u001b[0;34m,\u001b[0m\u001b[0;34m\u001b[0m\u001b[0;34m\u001b[0m\u001b[0m\n\u001b[1;32m    710\u001b[0m                                                        \u001b[0mtrain\u001b[0m\u001b[0;34m=\u001b[0m\u001b[0mtrain\u001b[0m\u001b[0;34m,\u001b[0m \u001b[0mtest\u001b[0m\u001b[0;34m=\u001b[0m\u001b[0mtest\u001b[0m\u001b[0;34m,\u001b[0m\u001b[0;34m\u001b[0m\u001b[0;34m\u001b[0m\u001b[0m\n",
      "\u001b[0;32m/usr/local/lib/python3.8/dist-packages/joblib/parallel.py\u001b[0m in \u001b[0;36m__call__\u001b[0;34m(self, iterable)\u001b[0m\n\u001b[1;32m   1040\u001b[0m \u001b[0;34m\u001b[0m\u001b[0m\n\u001b[1;32m   1041\u001b[0m             \u001b[0;32mwith\u001b[0m \u001b[0mself\u001b[0m\u001b[0;34m.\u001b[0m\u001b[0m_backend\u001b[0m\u001b[0;34m.\u001b[0m\u001b[0mretrieval_context\u001b[0m\u001b[0;34m(\u001b[0m\u001b[0;34m)\u001b[0m\u001b[0;34m:\u001b[0m\u001b[0;34m\u001b[0m\u001b[0;34m\u001b[0m\u001b[0m\n\u001b[0;32m-> 1042\u001b[0;31m                 \u001b[0mself\u001b[0m\u001b[0;34m.\u001b[0m\u001b[0mretrieve\u001b[0m\u001b[0;34m(\u001b[0m\u001b[0;34m)\u001b[0m\u001b[0;34m\u001b[0m\u001b[0;34m\u001b[0m\u001b[0m\n\u001b[0m\u001b[1;32m   1043\u001b[0m             \u001b[0;31m# Make sure that we get a last message telling us we are done\u001b[0m\u001b[0;34m\u001b[0m\u001b[0;34m\u001b[0m\u001b[0;34m\u001b[0m\u001b[0m\n\u001b[1;32m   1044\u001b[0m             \u001b[0melapsed_time\u001b[0m \u001b[0;34m=\u001b[0m \u001b[0mtime\u001b[0m\u001b[0;34m.\u001b[0m\u001b[0mtime\u001b[0m\u001b[0;34m(\u001b[0m\u001b[0;34m)\u001b[0m \u001b[0;34m-\u001b[0m \u001b[0mself\u001b[0m\u001b[0;34m.\u001b[0m\u001b[0m_start_time\u001b[0m\u001b[0;34m\u001b[0m\u001b[0;34m\u001b[0m\u001b[0m\n",
      "\u001b[0;32m/usr/local/lib/python3.8/dist-packages/joblib/parallel.py\u001b[0m in \u001b[0;36mretrieve\u001b[0;34m(self)\u001b[0m\n\u001b[1;32m    919\u001b[0m             \u001b[0;32mtry\u001b[0m\u001b[0;34m:\u001b[0m\u001b[0;34m\u001b[0m\u001b[0;34m\u001b[0m\u001b[0m\n\u001b[1;32m    920\u001b[0m                 \u001b[0;32mif\u001b[0m \u001b[0mgetattr\u001b[0m\u001b[0;34m(\u001b[0m\u001b[0mself\u001b[0m\u001b[0;34m.\u001b[0m\u001b[0m_backend\u001b[0m\u001b[0;34m,\u001b[0m \u001b[0;34m'supports_timeout'\u001b[0m\u001b[0;34m,\u001b[0m \u001b[0;32mFalse\u001b[0m\u001b[0;34m)\u001b[0m\u001b[0;34m:\u001b[0m\u001b[0;34m\u001b[0m\u001b[0;34m\u001b[0m\u001b[0m\n\u001b[0;32m--> 921\u001b[0;31m                     \u001b[0mself\u001b[0m\u001b[0;34m.\u001b[0m\u001b[0m_output\u001b[0m\u001b[0;34m.\u001b[0m\u001b[0mextend\u001b[0m\u001b[0;34m(\u001b[0m\u001b[0mjob\u001b[0m\u001b[0;34m.\u001b[0m\u001b[0mget\u001b[0m\u001b[0;34m(\u001b[0m\u001b[0mtimeout\u001b[0m\u001b[0;34m=\u001b[0m\u001b[0mself\u001b[0m\u001b[0;34m.\u001b[0m\u001b[0mtimeout\u001b[0m\u001b[0;34m)\u001b[0m\u001b[0;34m)\u001b[0m\u001b[0;34m\u001b[0m\u001b[0;34m\u001b[0m\u001b[0m\n\u001b[0m\u001b[1;32m    922\u001b[0m                 \u001b[0;32melse\u001b[0m\u001b[0;34m:\u001b[0m\u001b[0;34m\u001b[0m\u001b[0;34m\u001b[0m\u001b[0m\n\u001b[1;32m    923\u001b[0m                     \u001b[0mself\u001b[0m\u001b[0;34m.\u001b[0m\u001b[0m_output\u001b[0m\u001b[0;34m.\u001b[0m\u001b[0mextend\u001b[0m\u001b[0;34m(\u001b[0m\u001b[0mjob\u001b[0m\u001b[0;34m.\u001b[0m\u001b[0mget\u001b[0m\u001b[0;34m(\u001b[0m\u001b[0;34m)\u001b[0m\u001b[0;34m)\u001b[0m\u001b[0;34m\u001b[0m\u001b[0;34m\u001b[0m\u001b[0m\n",
      "\u001b[0;32m/usr/local/lib/python3.8/dist-packages/joblib/_parallel_backends.py\u001b[0m in \u001b[0;36mwrap_future_result\u001b[0;34m(future, timeout)\u001b[0m\n\u001b[1;32m    540\u001b[0m         AsyncResults.get from multiprocessing.\"\"\"\n\u001b[1;32m    541\u001b[0m         \u001b[0;32mtry\u001b[0m\u001b[0;34m:\u001b[0m\u001b[0;34m\u001b[0m\u001b[0;34m\u001b[0m\u001b[0m\n\u001b[0;32m--> 542\u001b[0;31m             \u001b[0;32mreturn\u001b[0m \u001b[0mfuture\u001b[0m\u001b[0;34m.\u001b[0m\u001b[0mresult\u001b[0m\u001b[0;34m(\u001b[0m\u001b[0mtimeout\u001b[0m\u001b[0;34m=\u001b[0m\u001b[0mtimeout\u001b[0m\u001b[0;34m)\u001b[0m\u001b[0;34m\u001b[0m\u001b[0;34m\u001b[0m\u001b[0m\n\u001b[0m\u001b[1;32m    543\u001b[0m         \u001b[0;32mexcept\u001b[0m \u001b[0mCfTimeoutError\u001b[0m \u001b[0;32mas\u001b[0m \u001b[0me\u001b[0m\u001b[0;34m:\u001b[0m\u001b[0;34m\u001b[0m\u001b[0;34m\u001b[0m\u001b[0m\n\u001b[1;32m    544\u001b[0m             \u001b[0;32mraise\u001b[0m \u001b[0mTimeoutError\u001b[0m \u001b[0;32mfrom\u001b[0m \u001b[0me\u001b[0m\u001b[0;34m\u001b[0m\u001b[0;34m\u001b[0m\u001b[0m\n",
      "\u001b[0;32m/usr/lib/python3.8/concurrent/futures/_base.py\u001b[0m in \u001b[0;36mresult\u001b[0;34m(self, timeout)\u001b[0m\n\u001b[1;32m    437\u001b[0m                 \u001b[0;32mraise\u001b[0m \u001b[0mCancelledError\u001b[0m\u001b[0;34m(\u001b[0m\u001b[0;34m)\u001b[0m\u001b[0;34m\u001b[0m\u001b[0;34m\u001b[0m\u001b[0m\n\u001b[1;32m    438\u001b[0m             \u001b[0;32melif\u001b[0m \u001b[0mself\u001b[0m\u001b[0;34m.\u001b[0m\u001b[0m_state\u001b[0m \u001b[0;34m==\u001b[0m \u001b[0mFINISHED\u001b[0m\u001b[0;34m:\u001b[0m\u001b[0;34m\u001b[0m\u001b[0;34m\u001b[0m\u001b[0m\n\u001b[0;32m--> 439\u001b[0;31m                 \u001b[0;32mreturn\u001b[0m \u001b[0mself\u001b[0m\u001b[0;34m.\u001b[0m\u001b[0m__get_result\u001b[0m\u001b[0;34m(\u001b[0m\u001b[0;34m)\u001b[0m\u001b[0;34m\u001b[0m\u001b[0;34m\u001b[0m\u001b[0m\n\u001b[0m\u001b[1;32m    440\u001b[0m             \u001b[0;32melse\u001b[0m\u001b[0;34m:\u001b[0m\u001b[0;34m\u001b[0m\u001b[0;34m\u001b[0m\u001b[0m\n\u001b[1;32m    441\u001b[0m                 \u001b[0;32mraise\u001b[0m \u001b[0mTimeoutError\u001b[0m\u001b[0;34m(\u001b[0m\u001b[0;34m)\u001b[0m\u001b[0;34m\u001b[0m\u001b[0;34m\u001b[0m\u001b[0m\n",
      "\u001b[0;32m/usr/lib/python3.8/concurrent/futures/_base.py\u001b[0m in \u001b[0;36m__get_result\u001b[0;34m(self)\u001b[0m\n\u001b[1;32m    386\u001b[0m     \u001b[0;32mdef\u001b[0m \u001b[0m__get_result\u001b[0m\u001b[0;34m(\u001b[0m\u001b[0mself\u001b[0m\u001b[0;34m)\u001b[0m\u001b[0;34m:\u001b[0m\u001b[0;34m\u001b[0m\u001b[0;34m\u001b[0m\u001b[0m\n\u001b[1;32m    387\u001b[0m         \u001b[0;32mif\u001b[0m \u001b[0mself\u001b[0m\u001b[0;34m.\u001b[0m\u001b[0m_exception\u001b[0m\u001b[0;34m:\u001b[0m\u001b[0;34m\u001b[0m\u001b[0;34m\u001b[0m\u001b[0m\n\u001b[0;32m--> 388\u001b[0;31m             \u001b[0;32mraise\u001b[0m \u001b[0mself\u001b[0m\u001b[0;34m.\u001b[0m\u001b[0m_exception\u001b[0m\u001b[0;34m\u001b[0m\u001b[0;34m\u001b[0m\u001b[0m\n\u001b[0m\u001b[1;32m    389\u001b[0m         \u001b[0;32melse\u001b[0m\u001b[0;34m:\u001b[0m\u001b[0;34m\u001b[0m\u001b[0;34m\u001b[0m\u001b[0m\n\u001b[1;32m    390\u001b[0m             \u001b[0;32mreturn\u001b[0m \u001b[0mself\u001b[0m\u001b[0;34m.\u001b[0m\u001b[0m_result\u001b[0m\u001b[0;34m\u001b[0m\u001b[0;34m\u001b[0m\u001b[0m\n",
      "\u001b[0;31mValueError\u001b[0m: Only one class present in y_true. ROC AUC score is not defined in that case."
     ]
    }
   ],
   "source": [
    "hyperopt_RF = {}\n",
    "\n",
    "for y_name, y_labels in y_to_try_1.items():\n",
    "    print(y_name)\n",
    "\n",
    "    random_search_hyperopt = RandomizedSearchCV(\n",
    "        hyperopt_models['RF']['model'],\n",
    "        hyperopt_models['RF']['param_dists'],\n",
    "        n_iter=25,\n",
    "        scoring='roc_auc',\n",
    "        n_jobs=4,\n",
    "        cv=5,\n",
    "        verbose=1,\n",
    "        return_train_score=True\n",
    "    )\n",
    "\n",
    "    random_search_hyperopt.fit(X,y_labels )\n",
    "    \n",
    "    hyperopt_results_df = pd.DataFrame(random_search_hyperopt.cv_results_).sort_values(\n",
    "        by='mean_test_score',\n",
    "        ascending=False\n",
    "    )\n",
    "    hyperopt_RF[y_name] = hyperopt_results_df"
   ]
  },
  {
   "cell_type": "code",
   "execution_count": 15,
   "metadata": {},
   "outputs": [],
   "source": [
    "dfs_with_ims = []\n",
    "for y_name, hyperopt_df in hyperopt_RF.items():\n",
    "    hyperopt_df['im'] = [y_name] * hyperopt_df.shape[0]\n",
    "    dfs_with_ims.append(hyperopt_df)\n",
    "    \n",
    "hyperopt_RF_df_1 = pd.concat(dfs_with_ims, axis=0, ignore_index=True)\n",
    "hyperopt_RF_df_1.to_csv('data/hyperopt_RF_1.csv')"
   ]
  },
  {
   "cell_type": "code",
   "execution_count": 16,
   "metadata": {},
   "outputs": [
    {
     "data": {
      "text/plain": [
       "Text(0.5, 1.0, 'RF')"
      ]
     },
     "execution_count": 16,
     "metadata": {},
     "output_type": "execute_result"
    },
    {
     "name": "stderr",
     "output_type": "stream",
     "text": [
      "findfont: Font family ['sans-serif'] not found. Falling back to DejaVu Sans.\n",
      "findfont: Font family ['sans-serif'] not found. Falling back to DejaVu Sans.\n"
     ]
    },
    {
     "data": {
      "image/png": "[encoded data removed]",
      "text/plain": [
       "<Figure size 1440x432 with 1 Axes>"
      ]
     },
     "metadata": {
      "needs_background": "light"
     },
     "output_type": "display_data"
    }
   ],
   "source": [
    "hyperopt_RF_df_1=pd.read_csv('data/hyperopt_RF_1.csv')\n",
    "plt.figure( figsize=(20,6))\n",
    "sns.swarmplot(x='im', y='mean_train_score', data=hyperopt_RF_df_1)\n",
    "sns.boxplot(x='im', y='mean_test_score', data=hyperopt_RF_df_1)\n",
    "plt.axhline(y= 0.5, color = 'r', ls = '--')\n",
    "plt.axhline(y= 0.8, color = 'purple', ls = '--')\n",
    "plt.title('RF')"
   ]
  },
  {
   "cell_type": "code",
   "execution_count": 17,
   "metadata": {},
   "outputs": [
    {
     "data": {
      "text/plain": [
       "Text(0.5, 1.0, 'RF')"
      ]
     },
     "execution_count": 17,
     "metadata": {},
     "output_type": "execute_result"
    },
    {
     "data": {
      "image/png": "[encoded data removed]",
      "text/plain": [
       "<Figure size 1440x432 with 1 Axes>"
      ]
     },
     "metadata": {
      "needs_background": "light"
     },
     "output_type": "display_data"
    }
   ],
   "source": [
    "plt.figure( figsize=(20,6))\n",
    "sns.boxplot(x='im', y='mean_test_score', data=hyperopt_RF_df_1)\n",
    "plt.title('RF')"
   ]
  },
  {
   "cell_type": "code",
   "execution_count": 18,
   "metadata": {},
   "outputs": [],
   "source": [
    "y_to_try_2 = {\n",
    "    'OxyR':target_labels['OxyR'], 'LexA':target_labels['LexA'],'NsrR':target_labels['NsrR'],\n",
    "    'Lrp':target_labels['Lrp'],'MalT':target_labels['MalT'],'Mlc':target_labels['Mlc'],\n",
    "    'MetJ':target_labels['MetJ'],'Nac':target_labels['Nac'], 'NagC':target_labels['NagC'],\n",
    "    'NanR':target_labels['NanR'], 'NarL':target_labels['NarL'],'NrdR':target_labels['NrdR'],\n",
    "    'PaaX':target_labels['PaaX'],'PhoB-1':target_labels['PhoB-1'],'PhoB-2':target_labels['PhoB-2'],\n",
    "    'PhoP':target_labels['PhoP'],'PurR-1':target_labels['PurR-1'],'PurR-2':target_labels['PurR-2']\n",
    "}"
   ]
  },
  {
   "cell_type": "code",
   "execution_count": 19,
   "metadata": {},
   "outputs": [
    {
     "name": "stdout",
     "output_type": "stream",
     "text": [
      "OxyR\n",
      "Fitting 5 folds for each of 25 candidates, totalling 125 fits\n"
     ]
    },
    {
     "name": "stderr",
     "output_type": "stream",
     "text": [
      "[Parallel(n_jobs=4)]: Using backend LokyBackend with 4 concurrent workers.\n",
      "[Parallel(n_jobs=4)]: Done  42 tasks      | elapsed:   29.1s\n",
      "[Parallel(n_jobs=4)]: Done 125 out of 125 | elapsed:  1.4min finished\n",
      "[Parallel(n_jobs=1)]: Using backend SequentialBackend with 1 concurrent workers.\n",
      "[Parallel(n_jobs=1)]: Done  90 out of  90 | elapsed:    1.8s finished\n",
      "[Parallel(n_jobs=4)]: Using backend LokyBackend with 4 concurrent workers.\n"
     ]
    },
    {
     "name": "stdout",
     "output_type": "stream",
     "text": [
      "LexA\n",
      "Fitting 5 folds for each of 25 candidates, totalling 125 fits\n"
     ]
    },
    {
     "name": "stderr",
     "output_type": "stream",
     "text": [
      "[Parallel(n_jobs=4)]: Done  42 tasks      | elapsed:   24.4s\n",
      "[Parallel(n_jobs=4)]: Done 125 out of 125 | elapsed:  1.1min finished\n",
      "[Parallel(n_jobs=1)]: Using backend SequentialBackend with 1 concurrent workers.\n",
      "[Parallel(n_jobs=1)]: Done  55 out of  55 | elapsed:    1.1s finished\n",
      "[Parallel(n_jobs=4)]: Using backend LokyBackend with 4 concurrent workers.\n"
     ]
    },
    {
     "name": "stdout",
     "output_type": "stream",
     "text": [
      "NsrR\n",
      "Fitting 5 folds for each of 25 candidates, totalling 125 fits\n"
     ]
    },
    {
     "name": "stderr",
     "output_type": "stream",
     "text": [
      "[Parallel(n_jobs=4)]: Done  42 tasks      | elapsed:   21.9s\n",
      "[Parallel(n_jobs=4)]: Done 125 out of 125 | elapsed:  1.1min finished\n",
      "[Parallel(n_jobs=1)]: Using backend SequentialBackend with 1 concurrent workers.\n",
      "[Parallel(n_jobs=1)]: Done  85 out of  85 | elapsed:    1.9s finished\n",
      "[Parallel(n_jobs=4)]: Using backend LokyBackend with 4 concurrent workers.\n"
     ]
    },
    {
     "name": "stdout",
     "output_type": "stream",
     "text": [
      "Lrp\n",
      "Fitting 5 folds for each of 25 candidates, totalling 125 fits\n"
     ]
    },
    {
     "name": "stderr",
     "output_type": "stream",
     "text": [
      "[Parallel(n_jobs=4)]: Done  42 tasks      | elapsed:   32.7s\n",
      "[Parallel(n_jobs=4)]: Done 125 out of 125 | elapsed:  1.8min finished\n",
      "[Parallel(n_jobs=1)]: Using backend SequentialBackend with 1 concurrent workers.\n",
      "[Parallel(n_jobs=1)]: Done  55 out of  55 | elapsed:    1.1s finished\n",
      "[Parallel(n_jobs=4)]: Using backend LokyBackend with 4 concurrent workers.\n"
     ]
    },
    {
     "name": "stdout",
     "output_type": "stream",
     "text": [
      "MalT\n",
      "Fitting 5 folds for each of 25 candidates, totalling 125 fits\n"
     ]
    },
    {
     "name": "stderr",
     "output_type": "stream",
     "text": [
      "[Parallel(n_jobs=4)]: Done  42 tasks      | elapsed:   20.8s\n",
      "[Parallel(n_jobs=4)]: Done 125 out of 125 | elapsed:   58.0s finished\n",
      "[Parallel(n_jobs=1)]: Using backend SequentialBackend with 1 concurrent workers.\n",
      "[Parallel(n_jobs=1)]: Done  80 out of  80 | elapsed:    0.9s finished\n",
      "[Parallel(n_jobs=4)]: Using backend LokyBackend with 4 concurrent workers.\n"
     ]
    },
    {
     "name": "stdout",
     "output_type": "stream",
     "text": [
      "Mlc\n",
      "Fitting 5 folds for each of 25 candidates, totalling 125 fits\n"
     ]
    },
    {
     "name": "stderr",
     "output_type": "stream",
     "text": [
      "[Parallel(n_jobs=4)]: Done  42 tasks      | elapsed:   17.7s\n",
      "[Parallel(n_jobs=4)]: Done 125 out of 125 | elapsed:   55.6s finished\n",
      "[Parallel(n_jobs=1)]: Using backend SequentialBackend with 1 concurrent workers.\n",
      "[Parallel(n_jobs=1)]: Done  80 out of  80 | elapsed:    1.1s finished\n",
      "[Parallel(n_jobs=4)]: Using backend LokyBackend with 4 concurrent workers.\n"
     ]
    },
    {
     "name": "stdout",
     "output_type": "stream",
     "text": [
      "MetJ\n",
      "Fitting 5 folds for each of 25 candidates, totalling 125 fits\n"
     ]
    },
    {
     "name": "stderr",
     "output_type": "stream",
     "text": [
      "[Parallel(n_jobs=4)]: Done  42 tasks      | elapsed:   23.1s\n",
      "[Parallel(n_jobs=4)]: Done 125 out of 125 | elapsed:  1.0min finished\n",
      "[Parallel(n_jobs=1)]: Using backend SequentialBackend with 1 concurrent workers.\n",
      "[Parallel(n_jobs=1)]: Done  45 out of  45 | elapsed:    0.8s finished\n",
      "[Parallel(n_jobs=4)]: Using backend LokyBackend with 4 concurrent workers.\n"
     ]
    },
    {
     "name": "stdout",
     "output_type": "stream",
     "text": [
      "Nac\n",
      "Fitting 5 folds for each of 25 candidates, totalling 125 fits\n"
     ]
    },
    {
     "name": "stderr",
     "output_type": "stream",
     "text": [
      "[Parallel(n_jobs=4)]: Done  42 tasks      | elapsed:   22.4s\n",
      "[Parallel(n_jobs=4)]: Done 125 out of 125 | elapsed:   53.9s finished\n",
      "[Parallel(n_jobs=1)]: Using backend SequentialBackend with 1 concurrent workers.\n",
      "[Parallel(n_jobs=1)]: Done  55 out of  55 | elapsed:    0.8s finished\n",
      "[Parallel(n_jobs=4)]: Using backend LokyBackend with 4 concurrent workers.\n"
     ]
    },
    {
     "name": "stdout",
     "output_type": "stream",
     "text": [
      "NagC\n",
      "Fitting 5 folds for each of 25 candidates, totalling 125 fits\n"
     ]
    },
    {
     "name": "stderr",
     "output_type": "stream",
     "text": [
      "[Parallel(n_jobs=4)]: Done  42 tasks      | elapsed:   22.8s\n",
      "[Parallel(n_jobs=4)]: Done 125 out of 125 | elapsed:  1.0min finished\n",
      "[Parallel(n_jobs=1)]: Using backend SequentialBackend with 1 concurrent workers.\n",
      "[Parallel(n_jobs=1)]: Done  90 out of  90 | elapsed:    1.2s finished\n",
      "[Parallel(n_jobs=4)]: Using backend LokyBackend with 4 concurrent workers.\n"
     ]
    },
    {
     "name": "stdout",
     "output_type": "stream",
     "text": [
      "NanR\n",
      "Fitting 5 folds for each of 25 candidates, totalling 125 fits\n"
     ]
    },
    {
     "name": "stderr",
     "output_type": "stream",
     "text": [
      "[Parallel(n_jobs=4)]: Done  42 tasks      | elapsed:   16.0s\n",
      "[Parallel(n_jobs=4)]: Done 125 out of 125 | elapsed:   47.3s finished\n",
      "[Parallel(n_jobs=1)]: Using backend SequentialBackend with 1 concurrent workers.\n",
      "[Parallel(n_jobs=1)]: Done  85 out of  85 | elapsed:    1.3s finished\n",
      "[Parallel(n_jobs=4)]: Using backend LokyBackend with 4 concurrent workers.\n"
     ]
    },
    {
     "name": "stdout",
     "output_type": "stream",
     "text": [
      "NarL\n",
      "Fitting 5 folds for each of 25 candidates, totalling 125 fits\n"
     ]
    },
    {
     "name": "stderr",
     "output_type": "stream",
     "text": [
      "[Parallel(n_jobs=4)]: Done  42 tasks      | elapsed:   18.9s\n",
      "[Parallel(n_jobs=4)]: Done 125 out of 125 | elapsed:   53.4s finished\n",
      "[Parallel(n_jobs=1)]: Using backend SequentialBackend with 1 concurrent workers.\n",
      "[Parallel(n_jobs=1)]: Done  55 out of  55 | elapsed:    0.8s finished\n",
      "[Parallel(n_jobs=4)]: Using backend LokyBackend with 4 concurrent workers.\n"
     ]
    },
    {
     "name": "stdout",
     "output_type": "stream",
     "text": [
      "NrdR\n",
      "Fitting 5 folds for each of 25 candidates, totalling 125 fits\n"
     ]
    },
    {
     "name": "stderr",
     "output_type": "stream",
     "text": [
      "[Parallel(n_jobs=4)]: Done  42 tasks      | elapsed:   17.2s\n",
      "[Parallel(n_jobs=4)]: Done 125 out of 125 | elapsed:   49.0s finished\n",
      "[Parallel(n_jobs=1)]: Using backend SequentialBackend with 1 concurrent workers.\n",
      "[Parallel(n_jobs=1)]: Done  25 out of  25 | elapsed:    0.2s finished\n",
      "[Parallel(n_jobs=4)]: Using backend LokyBackend with 4 concurrent workers.\n"
     ]
    },
    {
     "name": "stdout",
     "output_type": "stream",
     "text": [
      "PaaX\n",
      "Fitting 5 folds for each of 25 candidates, totalling 125 fits\n"
     ]
    },
    {
     "name": "stderr",
     "output_type": "stream",
     "text": [
      "[Parallel(n_jobs=4)]: Done  42 tasks      | elapsed:   19.2s\n",
      "[Parallel(n_jobs=4)]: Done 125 out of 125 | elapsed:  1.2min finished\n",
      "[Parallel(n_jobs=1)]: Using backend SequentialBackend with 1 concurrent workers.\n",
      "[Parallel(n_jobs=1)]: Done  60 out of  60 | elapsed:    1.8s finished\n",
      "[Parallel(n_jobs=4)]: Using backend LokyBackend with 4 concurrent workers.\n"
     ]
    },
    {
     "name": "stdout",
     "output_type": "stream",
     "text": [
      "PhoB-1\n",
      "Fitting 5 folds for each of 25 candidates, totalling 125 fits\n"
     ]
    },
    {
     "name": "stderr",
     "output_type": "stream",
     "text": [
      "[Parallel(n_jobs=4)]: Done  42 tasks      | elapsed:   24.2s\n",
      "[Parallel(n_jobs=4)]: Done 125 out of 125 | elapsed:  1.1min finished\n",
      "[Parallel(n_jobs=1)]: Using backend SequentialBackend with 1 concurrent workers.\n",
      "[Parallel(n_jobs=1)]: Done  80 out of  80 | elapsed:    1.9s finished\n",
      "[Parallel(n_jobs=4)]: Using backend LokyBackend with 4 concurrent workers.\n"
     ]
    },
    {
     "name": "stdout",
     "output_type": "stream",
     "text": [
      "PhoB-2\n",
      "Fitting 5 folds for each of 25 candidates, totalling 125 fits\n"
     ]
    },
    {
     "name": "stderr",
     "output_type": "stream",
     "text": [
      "[Parallel(n_jobs=4)]: Done  42 tasks      | elapsed:   29.7s\n",
      "[Parallel(n_jobs=4)]: Done 125 out of 125 | elapsed:  1.3min finished\n",
      "[Parallel(n_jobs=1)]: Using backend SequentialBackend with 1 concurrent workers.\n",
      "[Parallel(n_jobs=1)]: Done  20 out of  20 | elapsed:    0.6s finished\n",
      "[Parallel(n_jobs=4)]: Using backend LokyBackend with 4 concurrent workers.\n"
     ]
    },
    {
     "name": "stdout",
     "output_type": "stream",
     "text": [
      "PhoP\n",
      "Fitting 5 folds for each of 25 candidates, totalling 125 fits\n"
     ]
    },
    {
     "name": "stderr",
     "output_type": "stream",
     "text": [
      "[Parallel(n_jobs=4)]: Done  42 tasks      | elapsed:   27.1s\n",
      "[Parallel(n_jobs=4)]: Done 125 out of 125 | elapsed:  1.2min finished\n",
      "[Parallel(n_jobs=1)]: Using backend SequentialBackend with 1 concurrent workers.\n",
      "[Parallel(n_jobs=1)]: Done  80 out of  80 | elapsed:    1.7s finished\n",
      "[Parallel(n_jobs=4)]: Using backend LokyBackend with 4 concurrent workers.\n"
     ]
    },
    {
     "name": "stdout",
     "output_type": "stream",
     "text": [
      "PurR-1\n",
      "Fitting 5 folds for each of 25 candidates, totalling 125 fits\n"
     ]
    },
    {
     "name": "stderr",
     "output_type": "stream",
     "text": [
      "[Parallel(n_jobs=4)]: Done  42 tasks      | elapsed:   20.5s\n",
      "[Parallel(n_jobs=4)]: Done 125 out of 125 | elapsed:  1.1min finished\n",
      "[Parallel(n_jobs=1)]: Using backend SequentialBackend with 1 concurrent workers.\n",
      "[Parallel(n_jobs=1)]: Done  55 out of  55 | elapsed:    1.0s finished\n",
      "[Parallel(n_jobs=4)]: Using backend LokyBackend with 4 concurrent workers.\n"
     ]
    },
    {
     "name": "stdout",
     "output_type": "stream",
     "text": [
      "PurR-2\n",
      "Fitting 5 folds for each of 25 candidates, totalling 125 fits\n"
     ]
    },
    {
     "name": "stderr",
     "output_type": "stream",
     "text": [
      "[Parallel(n_jobs=4)]: Done  42 tasks      | elapsed:   15.9s\n",
      "[Parallel(n_jobs=4)]: Done 125 out of 125 | elapsed:   44.5s finished\n",
      "[Parallel(n_jobs=1)]: Using backend SequentialBackend with 1 concurrent workers.\n",
      "[Parallel(n_jobs=1)]: Done  75 out of  75 | elapsed:    1.3s finished\n"
     ]
    }
   ],
   "source": [
    "hyperopt_RF = {}\n",
    "\n",
    "for y_name, y_labels in y_to_try_2.items():\n",
    "    print(y_name)\n",
    "\n",
    "    random_search_hyperopt = RandomizedSearchCV(\n",
    "        hyperopt_models['RF']['model'],\n",
    "        hyperopt_models['RF']['param_dists'],\n",
    "        n_iter=25,\n",
    "        scoring='roc_auc',\n",
    "        n_jobs=4,\n",
    "        cv=5,\n",
    "        verbose=1,\n",
    "        return_train_score=True\n",
    "    )\n",
    "\n",
    "    random_search_hyperopt.fit(X,y_labels )\n",
    "    \n",
    "    hyperopt_results_df = pd.DataFrame(random_search_hyperopt.cv_results_).sort_values(\n",
    "        by='mean_test_score',\n",
    "        ascending=False\n",
    "    )\n",
    "    hyperopt_RF[y_name] = hyperopt_results_df"
   ]
  },
  {
   "cell_type": "code",
   "execution_count": 20,
   "metadata": {},
   "outputs": [],
   "source": [
    "dfs_with_ims = []\n",
    "for y_name, hyperopt_df in hyperopt_RF.items():\n",
    "    hyperopt_df['im'] = [y_name] * hyperopt_df.shape[0]\n",
    "    dfs_with_ims.append(hyperopt_df)\n",
    "    \n",
    "hyperopt_RF_df_2 = pd.concat(dfs_with_ims, axis=0, ignore_index=True)\n",
    "hyperopt_RF_df_2.to_csv('data/hyperopt_RF_2.csv')"
   ]
  },
  {
   "cell_type": "code",
   "execution_count": 31,
   "metadata": {},
   "outputs": [
    {
     "data": {
      "text/plain": [
       "Text(0.5, 1.0, 'RF')"
      ]
     },
     "execution_count": 31,
     "metadata": {},
     "output_type": "execute_result"
    },
    {
     "data": {
      "image/png": "[encoded data removed]",
      "text/plain": [
       "<Figure size 1440x432 with 1 Axes>"
      ]
     },
     "metadata": {
      "needs_background": "light"
     },
     "output_type": "display_data"
    }
   ],
   "source": [
    "hyperopt_RF_df_2 = pd.read_csv('data/hyperopt_RF_2.csv')\n",
    "plt.figure( figsize=(20,6))\n",
    "#sns.swarmplot(x='im', y='mean_train_score', data=hyperopt_RF_df_2)\n",
    "sns.boxplot(x='im', y='mean_test_score', data=hyperopt_RF_df_2)\n",
    "plt.axhline(y= 0.8, color = 'purple', ls = '--')\n",
    "plt.axhline(y= 0.5, color = 'r', ls = '--')\n",
    "plt.title('RF')"
   ]
  },
  {
   "cell_type": "code",
   "execution_count": 22,
   "metadata": {},
   "outputs": [],
   "source": [
    "y_to_try_3 = {\n",
    "    'PuuR':target_labels['PuuR'],'RcsAB':target_labels['RcsAB'], 'RhaS':target_labels['RhaS'],\n",
    "    'RpoE':target_labels['RpoE'], 'RpoH':target_labels['RpoH'], 'RpoN+FhlA':target_labels['RpoN+FhlA'],\n",
    "    'RpoN+NtrC-1':target_labels['RpoN+NtrC-1'],'RpoN+NtrC-2':target_labels['RpoN+NtrC-2'],\n",
    "    'RpoN+PrpR+Cra':target_labels['RpoN+PrpR+Cra'],'RpoN+PspF':target_labels['RpoN+PspF'],\n",
    "    'RpoS':target_labels['RpoS'],'RpoS+ArgR+RpoN':target_labels['RpoS+ArgR+RpoN'],'RutR':target_labels['RutR'],\n",
    "    'SoxS':target_labels['SoxS'],'TrpR':target_labels['TrpR'],'TyrR':target_labels['TyrR'],\n",
    "    'XylR':target_labels['XylR'],'YdeO+H-NS':target_labels['YdeO+H-NS']\n",
    "}"
   ]
  },
  {
   "cell_type": "code",
   "execution_count": 23,
   "metadata": {},
   "outputs": [
    {
     "name": "stdout",
     "output_type": "stream",
     "text": [
      "PuuR\n",
      "Fitting 5 folds for each of 25 candidates, totalling 125 fits\n"
     ]
    },
    {
     "name": "stderr",
     "output_type": "stream",
     "text": [
      "[Parallel(n_jobs=4)]: Using backend LokyBackend with 4 concurrent workers.\n",
      "[Parallel(n_jobs=4)]: Done  42 tasks      | elapsed:   17.1s\n",
      "[Parallel(n_jobs=4)]: Done 125 out of 125 | elapsed:   56.9s finished\n",
      "[Parallel(n_jobs=1)]: Using backend SequentialBackend with 1 concurrent workers.\n",
      "[Parallel(n_jobs=1)]: Done  45 out of  45 | elapsed:    0.6s finished\n",
      "[Parallel(n_jobs=4)]: Using backend LokyBackend with 4 concurrent workers.\n"
     ]
    },
    {
     "name": "stdout",
     "output_type": "stream",
     "text": [
      "RcsAB\n",
      "Fitting 5 folds for each of 25 candidates, totalling 125 fits\n"
     ]
    },
    {
     "name": "stderr",
     "output_type": "stream",
     "text": [
      "[Parallel(n_jobs=4)]: Done  42 tasks      | elapsed:   18.4s\n",
      "[Parallel(n_jobs=4)]: Done 125 out of 125 | elapsed:   52.3s finished\n",
      "[Parallel(n_jobs=1)]: Using backend SequentialBackend with 1 concurrent workers.\n",
      "[Parallel(n_jobs=1)]: Done  50 out of  50 | elapsed:    0.9s finished\n",
      "[Parallel(n_jobs=4)]: Using backend LokyBackend with 4 concurrent workers.\n"
     ]
    },
    {
     "name": "stdout",
     "output_type": "stream",
     "text": [
      "RhaS\n",
      "Fitting 5 folds for each of 25 candidates, totalling 125 fits\n"
     ]
    },
    {
     "name": "stderr",
     "output_type": "stream",
     "text": [
      "[Parallel(n_jobs=4)]: Done  42 tasks      | elapsed:   18.3s\n",
      "[Parallel(n_jobs=4)]: Done 125 out of 125 | elapsed:   53.7s finished\n",
      "[Parallel(n_jobs=1)]: Using backend SequentialBackend with 1 concurrent workers.\n",
      "[Parallel(n_jobs=1)]: Done  45 out of  45 | elapsed:    0.7s finished\n",
      "[Parallel(n_jobs=4)]: Using backend LokyBackend with 4 concurrent workers.\n"
     ]
    },
    {
     "name": "stdout",
     "output_type": "stream",
     "text": [
      "RpoE\n",
      "Fitting 5 folds for each of 25 candidates, totalling 125 fits\n"
     ]
    },
    {
     "name": "stderr",
     "output_type": "stream",
     "text": [
      "[Parallel(n_jobs=4)]: Done  42 tasks      | elapsed:   19.2s\n",
      "[Parallel(n_jobs=4)]: Done 125 out of 125 | elapsed:  1.0min finished\n",
      "[Parallel(n_jobs=1)]: Using backend SequentialBackend with 1 concurrent workers.\n",
      "[Parallel(n_jobs=1)]: Done  70 out of  70 | elapsed:    1.0s finished\n",
      "[Parallel(n_jobs=4)]: Using backend LokyBackend with 4 concurrent workers.\n"
     ]
    },
    {
     "name": "stdout",
     "output_type": "stream",
     "text": [
      "RpoH\n",
      "Fitting 5 folds for each of 25 candidates, totalling 125 fits\n"
     ]
    },
    {
     "name": "stderr",
     "output_type": "stream",
     "text": [
      "[Parallel(n_jobs=4)]: Done  42 tasks      | elapsed:   23.3s\n",
      "[Parallel(n_jobs=4)]: Done 125 out of 125 | elapsed:  1.4min finished\n",
      "[Parallel(n_jobs=1)]: Using backend SequentialBackend with 1 concurrent workers.\n",
      "[Parallel(n_jobs=1)]: Done  95 out of  95 | elapsed:    2.2s finished\n",
      "[Parallel(n_jobs=4)]: Using backend LokyBackend with 4 concurrent workers.\n"
     ]
    },
    {
     "name": "stdout",
     "output_type": "stream",
     "text": [
      "RpoN+FhlA\n",
      "Fitting 5 folds for each of 25 candidates, totalling 125 fits\n"
     ]
    },
    {
     "name": "stderr",
     "output_type": "stream",
     "text": [
      "[Parallel(n_jobs=4)]: Done  42 tasks      | elapsed:   14.1s\n",
      "[Parallel(n_jobs=4)]: Done 125 out of 125 | elapsed:   46.6s finished\n",
      "[Parallel(n_jobs=1)]: Using backend SequentialBackend with 1 concurrent workers.\n",
      "[Parallel(n_jobs=1)]: Done  75 out of  75 | elapsed:    1.1s finished\n",
      "[Parallel(n_jobs=4)]: Using backend LokyBackend with 4 concurrent workers.\n"
     ]
    },
    {
     "name": "stdout",
     "output_type": "stream",
     "text": [
      "RpoN+NtrC-1\n",
      "Fitting 5 folds for each of 25 candidates, totalling 125 fits\n"
     ]
    },
    {
     "name": "stderr",
     "output_type": "stream",
     "text": [
      "[Parallel(n_jobs=4)]: Done  42 tasks      | elapsed:   14.8s\n",
      "[Parallel(n_jobs=4)]: Done 125 out of 125 | elapsed:   45.1s finished\n",
      "[Parallel(n_jobs=1)]: Using backend SequentialBackend with 1 concurrent workers.\n",
      "[Parallel(n_jobs=1)]: Done  60 out of  60 | elapsed:    0.8s finished\n",
      "[Parallel(n_jobs=4)]: Using backend LokyBackend with 4 concurrent workers.\n"
     ]
    },
    {
     "name": "stdout",
     "output_type": "stream",
     "text": [
      "RpoN+NtrC-2\n",
      "Fitting 5 folds for each of 25 candidates, totalling 125 fits\n"
     ]
    },
    {
     "name": "stderr",
     "output_type": "stream",
     "text": [
      "[Parallel(n_jobs=4)]: Done  42 tasks      | elapsed:   12.5s\n",
      "[Parallel(n_jobs=4)]: Done 125 out of 125 | elapsed:   49.7s finished\n",
      "[Parallel(n_jobs=1)]: Using backend SequentialBackend with 1 concurrent workers.\n",
      "[Parallel(n_jobs=1)]: Done  55 out of  55 | elapsed:    1.0s finished\n",
      "[Parallel(n_jobs=4)]: Using backend LokyBackend with 4 concurrent workers.\n"
     ]
    },
    {
     "name": "stdout",
     "output_type": "stream",
     "text": [
      "RpoN+PrpR+Cra\n",
      "Fitting 5 folds for each of 25 candidates, totalling 125 fits\n"
     ]
    },
    {
     "name": "stderr",
     "output_type": "stream",
     "text": [
      "[Parallel(n_jobs=4)]: Done  42 tasks      | elapsed:   13.5s\n",
      "[Parallel(n_jobs=4)]: Done 125 out of 125 | elapsed:   38.9s finished\n",
      "[Parallel(n_jobs=1)]: Using backend SequentialBackend with 1 concurrent workers.\n",
      "[Parallel(n_jobs=1)]: Done  10 out of  10 | elapsed:    0.1s finished\n",
      "[Parallel(n_jobs=4)]: Using backend LokyBackend with 4 concurrent workers.\n"
     ]
    },
    {
     "name": "stdout",
     "output_type": "stream",
     "text": [
      "RpoN+PspF\n",
      "Fitting 5 folds for each of 25 candidates, totalling 125 fits\n"
     ]
    },
    {
     "name": "stderr",
     "output_type": "stream",
     "text": [
      "[Parallel(n_jobs=4)]: Done  42 tasks      | elapsed:   27.7s\n",
      "[Parallel(n_jobs=4)]: Done 125 out of 125 | elapsed:   57.8s finished\n",
      "[Parallel(n_jobs=1)]: Using backend SequentialBackend with 1 concurrent workers.\n",
      "[Parallel(n_jobs=1)]: Done  80 out of  80 | elapsed:    0.8s finished\n",
      "[Parallel(n_jobs=4)]: Using backend LokyBackend with 4 concurrent workers.\n"
     ]
    },
    {
     "name": "stdout",
     "output_type": "stream",
     "text": [
      "RpoS\n",
      "Fitting 5 folds for each of 25 candidates, totalling 125 fits\n"
     ]
    },
    {
     "name": "stderr",
     "output_type": "stream",
     "text": [
      "[Parallel(n_jobs=4)]: Done  42 tasks      | elapsed:   22.5s\n",
      "[Parallel(n_jobs=4)]: Done 125 out of 125 | elapsed:  1.3min finished\n",
      "[Parallel(n_jobs=1)]: Using backend SequentialBackend with 1 concurrent workers.\n",
      "[Parallel(n_jobs=1)]: Done  65 out of  65 | elapsed:    2.8s finished\n",
      "[Parallel(n_jobs=4)]: Using backend LokyBackend with 4 concurrent workers.\n"
     ]
    },
    {
     "name": "stdout",
     "output_type": "stream",
     "text": [
      "RpoS+ArgR+RpoN\n",
      "Fitting 5 folds for each of 25 candidates, totalling 125 fits\n"
     ]
    },
    {
     "name": "stderr",
     "output_type": "stream",
     "text": [
      "[Parallel(n_jobs=4)]: Done  42 tasks      | elapsed:   18.8s\n",
      "[Parallel(n_jobs=4)]: Done 125 out of 125 | elapsed:   51.2s finished\n",
      "[Parallel(n_jobs=1)]: Using backend SequentialBackend with 1 concurrent workers.\n",
      "[Parallel(n_jobs=1)]: Done  20 out of  20 | elapsed:    0.4s finished\n",
      "[Parallel(n_jobs=4)]: Using backend LokyBackend with 4 concurrent workers.\n"
     ]
    },
    {
     "name": "stdout",
     "output_type": "stream",
     "text": [
      "RutR\n",
      "Fitting 5 folds for each of 25 candidates, totalling 125 fits\n"
     ]
    },
    {
     "name": "stderr",
     "output_type": "stream",
     "text": [
      "[Parallel(n_jobs=4)]: Done  42 tasks      | elapsed:   21.9s\n",
      "[Parallel(n_jobs=4)]: Done 125 out of 125 | elapsed:  1.0min finished\n",
      "[Parallel(n_jobs=1)]: Using backend SequentialBackend with 1 concurrent workers.\n",
      "[Parallel(n_jobs=1)]: Done  55 out of  55 | elapsed:    0.9s finished\n",
      "[Parallel(n_jobs=4)]: Using backend LokyBackend with 4 concurrent workers.\n"
     ]
    },
    {
     "name": "stdout",
     "output_type": "stream",
     "text": [
      "SoxS\n",
      "Fitting 5 folds for each of 25 candidates, totalling 125 fits\n"
     ]
    },
    {
     "name": "stderr",
     "output_type": "stream",
     "text": [
      "[Parallel(n_jobs=4)]: Done  42 tasks      | elapsed:   36.9s\n",
      "[Parallel(n_jobs=4)]: Done 125 out of 125 | elapsed:  1.8min finished\n",
      "[Parallel(n_jobs=1)]: Using backend SequentialBackend with 1 concurrent workers.\n",
      "[Parallel(n_jobs=1)]: Done  60 out of  60 | elapsed:    1.3s finished\n",
      "[Parallel(n_jobs=4)]: Using backend LokyBackend with 4 concurrent workers.\n"
     ]
    },
    {
     "name": "stdout",
     "output_type": "stream",
     "text": [
      "TrpR\n",
      "Fitting 5 folds for each of 25 candidates, totalling 125 fits\n"
     ]
    },
    {
     "name": "stderr",
     "output_type": "stream",
     "text": [
      "[Parallel(n_jobs=4)]: Done  42 tasks      | elapsed:   17.1s\n",
      "[Parallel(n_jobs=4)]: Done 125 out of 125 | elapsed:   52.8s finished\n",
      "[Parallel(n_jobs=1)]: Using backend SequentialBackend with 1 concurrent workers.\n",
      "[Parallel(n_jobs=1)]: Done  35 out of  35 | elapsed:    0.4s finished\n",
      "[Parallel(n_jobs=4)]: Using backend LokyBackend with 4 concurrent workers.\n"
     ]
    },
    {
     "name": "stdout",
     "output_type": "stream",
     "text": [
      "TyrR\n",
      "Fitting 5 folds for each of 25 candidates, totalling 125 fits\n"
     ]
    },
    {
     "name": "stderr",
     "output_type": "stream",
     "text": [
      "[Parallel(n_jobs=4)]: Done  42 tasks      | elapsed:   22.6s\n",
      "[Parallel(n_jobs=4)]: Done 125 out of 125 | elapsed:   59.9s finished\n",
      "[Parallel(n_jobs=1)]: Using backend SequentialBackend with 1 concurrent workers.\n",
      "[Parallel(n_jobs=1)]: Done  45 out of  45 | elapsed:    0.5s finished\n",
      "[Parallel(n_jobs=4)]: Using backend LokyBackend with 4 concurrent workers.\n"
     ]
    },
    {
     "name": "stdout",
     "output_type": "stream",
     "text": [
      "XylR\n",
      "Fitting 5 folds for each of 25 candidates, totalling 125 fits\n"
     ]
    },
    {
     "name": "stderr",
     "output_type": "stream",
     "text": [
      "[Parallel(n_jobs=4)]: Done  42 tasks      | elapsed:   21.2s\n",
      "[Parallel(n_jobs=4)]: Done 125 out of 125 | elapsed:   51.1s finished\n",
      "[Parallel(n_jobs=1)]: Using backend SequentialBackend with 1 concurrent workers.\n",
      "[Parallel(n_jobs=1)]: Done  95 out of  95 | elapsed:    1.2s finished\n",
      "[Parallel(n_jobs=4)]: Using backend LokyBackend with 4 concurrent workers.\n"
     ]
    },
    {
     "name": "stdout",
     "output_type": "stream",
     "text": [
      "YdeO+H-NS\n",
      "Fitting 5 folds for each of 25 candidates, totalling 125 fits\n"
     ]
    },
    {
     "name": "stderr",
     "output_type": "stream",
     "text": [
      "[Parallel(n_jobs=4)]: Done  42 tasks      | elapsed:   17.2s\n",
      "[Parallel(n_jobs=4)]: Done 125 out of 125 | elapsed:   54.8s finished\n",
      "[Parallel(n_jobs=1)]: Using backend SequentialBackend with 1 concurrent workers.\n",
      "[Parallel(n_jobs=1)]: Done  90 out of  90 | elapsed:    1.5s finished\n"
     ]
    }
   ],
   "source": [
    "hyperopt_RF = {}\n",
    "\n",
    "for y_name, y_labels in y_to_try_3.items():\n",
    "    print(y_name)\n",
    "\n",
    "    random_search_hyperopt = RandomizedSearchCV(\n",
    "        hyperopt_models['RF']['model'],\n",
    "        hyperopt_models['RF']['param_dists'],\n",
    "        n_iter=25,\n",
    "        scoring='roc_auc',\n",
    "        n_jobs=4,\n",
    "        cv=5,\n",
    "        verbose=1,\n",
    "        return_train_score=True\n",
    "    )\n",
    "\n",
    "    random_search_hyperopt.fit(X,y_labels )\n",
    "    \n",
    "    hyperopt_results_df = pd.DataFrame(random_search_hyperopt.cv_results_).sort_values(\n",
    "        by='mean_test_score',\n",
    "        ascending=False\n",
    "    )\n",
    "    hyperopt_RF[y_name] = hyperopt_results_df"
   ]
  },
  {
   "cell_type": "code",
   "execution_count": 26,
   "metadata": {},
   "outputs": [],
   "source": [
    "dfs_with_ims = []\n",
    "for y_name, hyperopt_df in hyperopt_RF.items():\n",
    "    hyperopt_df['im'] = [y_name] * hyperopt_df.shape[0]\n",
    "    dfs_with_ims.append(hyperopt_df)\n",
    "    \n",
    "hyperopt_RF_df_3 = pd.concat(dfs_with_ims, axis=0, ignore_index=True)\n",
    "hyperopt_RF_df_3.to_csv('data/hyperopt_RF_3.csv')"
   ]
  },
  {
   "cell_type": "code",
   "execution_count": 33,
   "metadata": {},
   "outputs": [
    {
     "data": {
      "text/plain": [
       "Text(0.5, 1.0, 'RF')"
      ]
     },
     "execution_count": 33,
     "metadata": {},
     "output_type": "execute_result"
    },
    {
     "name": "stderr",
     "output_type": "stream",
     "text": [
      "findfont: Font family ['sans-serif'] not found. Falling back to DejaVu Sans.\n"
     ]
    },
    {
     "data": {
      "image/png": "[encoded data removed]",
      "text/plain": [
       "<Figure size 1440x432 with 1 Axes>"
      ]
     },
     "metadata": {
      "needs_background": "light"
     },
     "output_type": "display_data"
    }
   ],
   "source": [
    "hyperopt_RF_df_3=pd.read_csv('data/hyperopt_RF_3.csv')\n",
    "plt.figure( figsize=(20,6))\n",
    "#sns.swarmplot(x='im', y='mean_train_score', data=hyperopt_RF_df_3)\n",
    "sns.boxplot(x='im', y='mean_test_score', data=hyperopt_RF_df_3)\n",
    "plt.axhline(y= 0.8, color = 'purple', ls = '--')\n",
    "plt.axhline(y= 0.5, color = 'r', ls = '--')\n",
    "plt.xticks(fontsize=8)\n",
    "plt.title('RF')"
   ]
  },
  {
   "cell_type": "markdown",
   "metadata": {},
   "source": [
    "# Error analysis generate TP,TN,FP,FN labels"
   ]
  },
  {
   "cell_type": "code",
   "execution_count": 9,
   "metadata": {},
   "outputs": [],
   "source": [
    "from sklearn.ensemble import RandomForestClassifier as RFC"
   ]
  },
  {
   "cell_type": "code",
   "execution_count": 10,
   "metadata": {},
   "outputs": [],
   "source": [
    "validation = pd.DataFrame(list(zip(features['ID'])), columns =['ID'] )"
   ]
  },
  {
   "cell_type": "code",
   "execution_count": 11,
   "metadata": {},
   "outputs": [],
   "source": [
    "best_models_0 = {\n",
    "     'AraC/AllR/FucR':RFC(n_estimators=100,max_depth=11,min_samples_split=0.005,min_samples_leaf=12,class_weight='balanced',verbose=1),\n",
    "    'ArcA-1':RFC(n_estimators=200,max_depth=5,min_samples_split=0.009,min_samples_leaf=8,class_weight='balanced',verbose=1),\n",
    "    'ArgR':RFC(n_estimators=200,max_depth=5,min_samples_split=0.001,min_samples_leaf=6,class_weight='balanced',verbose=1),\n",
    "    'ArgP':RFC(n_estimators=60,max_depth=5,min_samples_split=0.019,min_samples_leaf=12,class_weight='balanced',verbose=1),\n",
    "    'DhaR/Mlc':RFC(n_estimators=60,max_depth=6,min_samples_split=0.018,min_samples_leaf=7,class_weight='balanced',verbose=1),\n",
    "    'Cbl+CysB':RFC(n_estimators=120,max_depth=10,min_samples_split=0.003,min_samples_leaf=9,class_weight='balanced',verbose=1),\n",
    "    'CpxR':RFC(n_estimators=60,max_depth=4,min_samples_split=0.009,min_samples_leaf=5,class_weight='balanced',verbose=1),\n",
    "    'CdaR':RFC(n_estimators=50,max_depth=4,min_samples_split=0.015,min_samples_leaf=8,class_weight='balanced',verbose=1),\n",
    "    'Cra':RFC(n_estimators=200,max_depth=9,min_samples_split=0.002,min_samples_leaf=14,class_weight='balanced',verbose=1),\n",
    "    'EvgA':RFC(n_estimators=110,max_depth=11,min_samples_split=0.013,min_samples_leaf=14,class_weight='balanced',verbose=1),\n",
    "    'CysB-1':RFC(n_estimators=190,max_depth=11,min_samples_split=0.011,min_samples_leaf=6,class_weight='balanced',verbose=1),\n",
    "    'CysB-2':RFC(n_estimators=170,max_depth=12,min_samples_split=0.019,min_samples_leaf=9,class_weight='balanced',verbose=1)\n",
    "}"
   ]
  },
  {
   "cell_type": "code",
   "execution_count": 12,
   "metadata": {},
   "outputs": [
    {
     "name": "stderr",
     "output_type": "stream",
     "text": [
      "[Parallel(n_jobs=1)]: Using backend SequentialBackend with 1 concurrent workers.\n",
      "[Parallel(n_jobs=1)]: Done 100 out of 100 | elapsed:    1.1s finished\n",
      "[Parallel(n_jobs=1)]: Using backend SequentialBackend with 1 concurrent workers.\n",
      "[Parallel(n_jobs=1)]: Done 100 out of 100 | elapsed:    0.0s finished\n",
      "[Parallel(n_jobs=1)]: Using backend SequentialBackend with 1 concurrent workers.\n",
      "[Parallel(n_jobs=1)]: Done 200 out of 200 | elapsed:    3.7s finished\n",
      "[Parallel(n_jobs=1)]: Using backend SequentialBackend with 1 concurrent workers.\n",
      "[Parallel(n_jobs=1)]: Done 200 out of 200 | elapsed:    0.1s finished\n",
      "[Parallel(n_jobs=1)]: Using backend SequentialBackend with 1 concurrent workers.\n",
      "[Parallel(n_jobs=1)]: Done 200 out of 200 | elapsed:    2.4s finished\n",
      "[Parallel(n_jobs=1)]: Using backend SequentialBackend with 1 concurrent workers.\n",
      "[Parallel(n_jobs=1)]: Done 200 out of 200 | elapsed:    0.0s finished\n",
      "[Parallel(n_jobs=1)]: Using backend SequentialBackend with 1 concurrent workers.\n",
      "[Parallel(n_jobs=1)]: Done  60 out of  60 | elapsed:    0.8s finished\n",
      "[Parallel(n_jobs=1)]: Using backend SequentialBackend with 1 concurrent workers.\n",
      "[Parallel(n_jobs=1)]: Done  60 out of  60 | elapsed:    0.0s finished\n",
      "[Parallel(n_jobs=1)]: Using backend SequentialBackend with 1 concurrent workers.\n",
      "[Parallel(n_jobs=1)]: Done  60 out of  60 | elapsed:    0.7s finished\n",
      "[Parallel(n_jobs=1)]: Using backend SequentialBackend with 1 concurrent workers.\n",
      "[Parallel(n_jobs=1)]: Done  60 out of  60 | elapsed:    0.0s finished\n",
      "[Parallel(n_jobs=1)]: Using backend SequentialBackend with 1 concurrent workers.\n",
      "[Parallel(n_jobs=1)]: Done 120 out of 120 | elapsed:    1.0s finished\n",
      "[Parallel(n_jobs=1)]: Using backend SequentialBackend with 1 concurrent workers.\n",
      "[Parallel(n_jobs=1)]: Done 120 out of 120 | elapsed:    0.0s finished\n",
      "[Parallel(n_jobs=1)]: Using backend SequentialBackend with 1 concurrent workers.\n",
      "[Parallel(n_jobs=1)]: Done  60 out of  60 | elapsed:    0.9s finished\n",
      "[Parallel(n_jobs=1)]: Using backend SequentialBackend with 1 concurrent workers.\n",
      "[Parallel(n_jobs=1)]: Done  60 out of  60 | elapsed:    0.0s finished\n",
      "[Parallel(n_jobs=1)]: Using backend SequentialBackend with 1 concurrent workers.\n",
      "[Parallel(n_jobs=1)]: Done  50 out of  50 | elapsed:    0.4s finished\n",
      "[Parallel(n_jobs=1)]: Using backend SequentialBackend with 1 concurrent workers.\n",
      "[Parallel(n_jobs=1)]: Done  50 out of  50 | elapsed:    0.0s finished\n",
      "[Parallel(n_jobs=1)]: Using backend SequentialBackend with 1 concurrent workers.\n",
      "[Parallel(n_jobs=1)]: Done 200 out of 200 | elapsed:    2.2s finished\n",
      "[Parallel(n_jobs=1)]: Using backend SequentialBackend with 1 concurrent workers.\n",
      "[Parallel(n_jobs=1)]: Done 200 out of 200 | elapsed:    0.0s finished\n",
      "[Parallel(n_jobs=1)]: Using backend SequentialBackend with 1 concurrent workers.\n",
      "[Parallel(n_jobs=1)]: Done 110 out of 110 | elapsed:    0.8s finished\n",
      "[Parallel(n_jobs=1)]: Using backend SequentialBackend with 1 concurrent workers.\n",
      "[Parallel(n_jobs=1)]: Done 110 out of 110 | elapsed:    0.0s finished\n",
      "[Parallel(n_jobs=1)]: Using backend SequentialBackend with 1 concurrent workers.\n",
      "[Parallel(n_jobs=1)]: Done 190 out of 190 | elapsed:    1.4s finished\n",
      "[Parallel(n_jobs=1)]: Using backend SequentialBackend with 1 concurrent workers.\n",
      "[Parallel(n_jobs=1)]: Done 190 out of 190 | elapsed:    0.0s finished\n",
      "[Parallel(n_jobs=1)]: Using backend SequentialBackend with 1 concurrent workers.\n",
      "[Parallel(n_jobs=1)]: Done 170 out of 170 | elapsed:    2.3s finished\n",
      "[Parallel(n_jobs=1)]: Using backend SequentialBackend with 1 concurrent workers.\n",
      "[Parallel(n_jobs=1)]: Done 170 out of 170 | elapsed:    0.0s finished\n"
     ]
    }
   ],
   "source": [
    "for im in best_models_0.keys():\n",
    "    train = list(target_labels[im])\n",
    "    test = list(best_models_0[im].fit(X,train).predict(X))\n",
    "    assess = []\n",
    "    for i in range(len(train)):\n",
    "        if train[i] == test[i]:\n",
    "            if train[i] == 1:\n",
    "                assess.append('TP')\n",
    "            else:\n",
    "                assess.append('TN')\n",
    "        else:\n",
    "            if train[i] == 1:\n",
    "                assess.append('FN')\n",
    "            else:\n",
    "                assess.append('FP')\n",
    "    validation[im+' train'] = train\n",
    "    validation[im+' test'] = test\n",
    "    validation[im+ ' assess'] = assess"
   ]
  },
  {
   "cell_type": "code",
   "execution_count": 13,
   "metadata": {},
   "outputs": [
    {
     "data": {
      "text/html": [
       "<div>\n",
       "<style scoped>\n",
       "    .dataframe tbody tr th:only-of-type {\n",
       "        vertical-align: middle;\n",
       "    }\n",
       "\n",
       "    .dataframe tbody tr th {\n",
       "        vertical-align: top;\n",
       "    }\n",
       "\n",
       "    .dataframe thead th {\n",
       "        text-align: right;\n",
       "    }\n",
       "</style>\n",
       "<table border=\"1\" class=\"dataframe\">\n",
       "  <thead>\n",
       "    <tr style=\"text-align: right;\">\n",
       "      <th></th>\n",
       "      <th>ID</th>\n",
       "      <th>AraC/AllR/FucR train</th>\n",
       "      <th>AraC/AllR/FucR test</th>\n",
       "      <th>AraC/AllR/FucR assess</th>\n",
       "      <th>ArcA-1 train</th>\n",
       "      <th>ArcA-1 test</th>\n",
       "      <th>ArcA-1 assess</th>\n",
       "      <th>ArgR train</th>\n",
       "      <th>ArgR test</th>\n",
       "      <th>ArgR assess</th>\n",
       "      <th>...</th>\n",
       "      <th>Cra assess</th>\n",
       "      <th>EvgA train</th>\n",
       "      <th>EvgA test</th>\n",
       "      <th>EvgA assess</th>\n",
       "      <th>CysB-1 train</th>\n",
       "      <th>CysB-1 test</th>\n",
       "      <th>CysB-1 assess</th>\n",
       "      <th>CysB-2 train</th>\n",
       "      <th>CysB-2 test</th>\n",
       "      <th>CysB-2 assess</th>\n",
       "    </tr>\n",
       "  </thead>\n",
       "  <tbody>\n",
       "    <tr>\n",
       "      <th>0</th>\n",
       "      <td>b0008</td>\n",
       "      <td>0</td>\n",
       "      <td>0</td>\n",
       "      <td>TN</td>\n",
       "      <td>0</td>\n",
       "      <td>0</td>\n",
       "      <td>TN</td>\n",
       "      <td>0</td>\n",
       "      <td>0</td>\n",
       "      <td>TN</td>\n",
       "      <td>...</td>\n",
       "      <td>TN</td>\n",
       "      <td>0</td>\n",
       "      <td>0</td>\n",
       "      <td>TN</td>\n",
       "      <td>0</td>\n",
       "      <td>0</td>\n",
       "      <td>TN</td>\n",
       "      <td>0</td>\n",
       "      <td>0</td>\n",
       "      <td>TN</td>\n",
       "    </tr>\n",
       "    <tr>\n",
       "      <th>1</th>\n",
       "      <td>b0025</td>\n",
       "      <td>0</td>\n",
       "      <td>0</td>\n",
       "      <td>TN</td>\n",
       "      <td>0</td>\n",
       "      <td>0</td>\n",
       "      <td>TN</td>\n",
       "      <td>0</td>\n",
       "      <td>0</td>\n",
       "      <td>TN</td>\n",
       "      <td>...</td>\n",
       "      <td>TN</td>\n",
       "      <td>0</td>\n",
       "      <td>0</td>\n",
       "      <td>TN</td>\n",
       "      <td>0</td>\n",
       "      <td>0</td>\n",
       "      <td>TN</td>\n",
       "      <td>0</td>\n",
       "      <td>0</td>\n",
       "      <td>TN</td>\n",
       "    </tr>\n",
       "    <tr>\n",
       "      <th>2</th>\n",
       "      <td>b0034</td>\n",
       "      <td>0</td>\n",
       "      <td>0</td>\n",
       "      <td>TN</td>\n",
       "      <td>0</td>\n",
       "      <td>0</td>\n",
       "      <td>TN</td>\n",
       "      <td>0</td>\n",
       "      <td>0</td>\n",
       "      <td>TN</td>\n",
       "      <td>...</td>\n",
       "      <td>TN</td>\n",
       "      <td>0</td>\n",
       "      <td>0</td>\n",
       "      <td>TN</td>\n",
       "      <td>0</td>\n",
       "      <td>0</td>\n",
       "      <td>TN</td>\n",
       "      <td>0</td>\n",
       "      <td>0</td>\n",
       "      <td>TN</td>\n",
       "    </tr>\n",
       "    <tr>\n",
       "      <th>3</th>\n",
       "      <td>b0035</td>\n",
       "      <td>0</td>\n",
       "      <td>0</td>\n",
       "      <td>TN</td>\n",
       "      <td>0</td>\n",
       "      <td>0</td>\n",
       "      <td>TN</td>\n",
       "      <td>0</td>\n",
       "      <td>0</td>\n",
       "      <td>TN</td>\n",
       "      <td>...</td>\n",
       "      <td>TN</td>\n",
       "      <td>0</td>\n",
       "      <td>0</td>\n",
       "      <td>TN</td>\n",
       "      <td>0</td>\n",
       "      <td>0</td>\n",
       "      <td>TN</td>\n",
       "      <td>0</td>\n",
       "      <td>0</td>\n",
       "      <td>TN</td>\n",
       "    </tr>\n",
       "    <tr>\n",
       "      <th>4</th>\n",
       "      <td>b0036</td>\n",
       "      <td>0</td>\n",
       "      <td>0</td>\n",
       "      <td>TN</td>\n",
       "      <td>0</td>\n",
       "      <td>0</td>\n",
       "      <td>TN</td>\n",
       "      <td>0</td>\n",
       "      <td>0</td>\n",
       "      <td>TN</td>\n",
       "      <td>...</td>\n",
       "      <td>TN</td>\n",
       "      <td>0</td>\n",
       "      <td>0</td>\n",
       "      <td>TN</td>\n",
       "      <td>0</td>\n",
       "      <td>0</td>\n",
       "      <td>TN</td>\n",
       "      <td>0</td>\n",
       "      <td>0</td>\n",
       "      <td>TN</td>\n",
       "    </tr>\n",
       "    <tr>\n",
       "      <th>...</th>\n",
       "      <td>...</td>\n",
       "      <td>...</td>\n",
       "      <td>...</td>\n",
       "      <td>...</td>\n",
       "      <td>...</td>\n",
       "      <td>...</td>\n",
       "      <td>...</td>\n",
       "      <td>...</td>\n",
       "      <td>...</td>\n",
       "      <td>...</td>\n",
       "      <td>...</td>\n",
       "      <td>...</td>\n",
       "      <td>...</td>\n",
       "      <td>...</td>\n",
       "      <td>...</td>\n",
       "      <td>...</td>\n",
       "      <td>...</td>\n",
       "      <td>...</td>\n",
       "      <td>...</td>\n",
       "      <td>...</td>\n",
       "      <td>...</td>\n",
       "    </tr>\n",
       "    <tr>\n",
       "      <th>2589</th>\n",
       "      <td>b4504</td>\n",
       "      <td>0</td>\n",
       "      <td>0</td>\n",
       "      <td>TN</td>\n",
       "      <td>0</td>\n",
       "      <td>0</td>\n",
       "      <td>TN</td>\n",
       "      <td>0</td>\n",
       "      <td>0</td>\n",
       "      <td>TN</td>\n",
       "      <td>...</td>\n",
       "      <td>TN</td>\n",
       "      <td>0</td>\n",
       "      <td>0</td>\n",
       "      <td>TN</td>\n",
       "      <td>0</td>\n",
       "      <td>0</td>\n",
       "      <td>TN</td>\n",
       "      <td>0</td>\n",
       "      <td>0</td>\n",
       "      <td>TN</td>\n",
       "    </tr>\n",
       "    <tr>\n",
       "      <th>2590</th>\n",
       "      <td>b4616</td>\n",
       "      <td>0</td>\n",
       "      <td>0</td>\n",
       "      <td>TN</td>\n",
       "      <td>0</td>\n",
       "      <td>0</td>\n",
       "      <td>TN</td>\n",
       "      <td>0</td>\n",
       "      <td>0</td>\n",
       "      <td>TN</td>\n",
       "      <td>...</td>\n",
       "      <td>TN</td>\n",
       "      <td>0</td>\n",
       "      <td>0</td>\n",
       "      <td>TN</td>\n",
       "      <td>0</td>\n",
       "      <td>0</td>\n",
       "      <td>TN</td>\n",
       "      <td>0</td>\n",
       "      <td>0</td>\n",
       "      <td>TN</td>\n",
       "    </tr>\n",
       "    <tr>\n",
       "      <th>2591</th>\n",
       "      <td>b4637</td>\n",
       "      <td>0</td>\n",
       "      <td>0</td>\n",
       "      <td>TN</td>\n",
       "      <td>0</td>\n",
       "      <td>0</td>\n",
       "      <td>TN</td>\n",
       "      <td>0</td>\n",
       "      <td>0</td>\n",
       "      <td>TN</td>\n",
       "      <td>...</td>\n",
       "      <td>TN</td>\n",
       "      <td>0</td>\n",
       "      <td>0</td>\n",
       "      <td>TN</td>\n",
       "      <td>0</td>\n",
       "      <td>0</td>\n",
       "      <td>TN</td>\n",
       "      <td>0</td>\n",
       "      <td>0</td>\n",
       "      <td>TN</td>\n",
       "    </tr>\n",
       "    <tr>\n",
       "      <th>2592</th>\n",
       "      <td>b4669</td>\n",
       "      <td>0</td>\n",
       "      <td>0</td>\n",
       "      <td>TN</td>\n",
       "      <td>0</td>\n",
       "      <td>0</td>\n",
       "      <td>TN</td>\n",
       "      <td>0</td>\n",
       "      <td>0</td>\n",
       "      <td>TN</td>\n",
       "      <td>...</td>\n",
       "      <td>TN</td>\n",
       "      <td>0</td>\n",
       "      <td>0</td>\n",
       "      <td>TN</td>\n",
       "      <td>0</td>\n",
       "      <td>0</td>\n",
       "      <td>TN</td>\n",
       "      <td>0</td>\n",
       "      <td>0</td>\n",
       "      <td>TN</td>\n",
       "    </tr>\n",
       "    <tr>\n",
       "      <th>2593</th>\n",
       "      <td>b4702</td>\n",
       "      <td>0</td>\n",
       "      <td>0</td>\n",
       "      <td>TN</td>\n",
       "      <td>0</td>\n",
       "      <td>0</td>\n",
       "      <td>TN</td>\n",
       "      <td>0</td>\n",
       "      <td>0</td>\n",
       "      <td>TN</td>\n",
       "      <td>...</td>\n",
       "      <td>TN</td>\n",
       "      <td>0</td>\n",
       "      <td>0</td>\n",
       "      <td>TN</td>\n",
       "      <td>0</td>\n",
       "      <td>0</td>\n",
       "      <td>TN</td>\n",
       "      <td>0</td>\n",
       "      <td>0</td>\n",
       "      <td>TN</td>\n",
       "    </tr>\n",
       "  </tbody>\n",
       "</table>\n",
       "<p>2594 rows × 37 columns</p>\n",
       "</div>"
      ],
      "text/plain": [
       "         ID  AraC/AllR/FucR train  AraC/AllR/FucR test AraC/AllR/FucR assess  \\\n",
       "0     b0008                     0                    0                    TN   \n",
       "1     b0025                     0                    0                    TN   \n",
       "2     b0034                     0                    0                    TN   \n",
       "3     b0035                     0                    0                    TN   \n",
       "4     b0036                     0                    0                    TN   \n",
       "...     ...                   ...                  ...                   ...   \n",
       "2589  b4504                     0                    0                    TN   \n",
       "2590  b4616                     0                    0                    TN   \n",
       "2591  b4637                     0                    0                    TN   \n",
       "2592  b4669                     0                    0                    TN   \n",
       "2593  b4702                     0                    0                    TN   \n",
       "\n",
       "      ArcA-1 train  ArcA-1 test ArcA-1 assess  ArgR train  ArgR test  \\\n",
       "0                0            0            TN           0          0   \n",
       "1                0            0            TN           0          0   \n",
       "2                0            0            TN           0          0   \n",
       "3                0            0            TN           0          0   \n",
       "4                0            0            TN           0          0   \n",
       "...            ...          ...           ...         ...        ...   \n",
       "2589             0            0            TN           0          0   \n",
       "2590             0            0            TN           0          0   \n",
       "2591             0            0            TN           0          0   \n",
       "2592             0            0            TN           0          0   \n",
       "2593             0            0            TN           0          0   \n",
       "\n",
       "     ArgR assess  ...  Cra assess  EvgA train EvgA test  EvgA assess  \\\n",
       "0             TN  ...          TN           0         0           TN   \n",
       "1             TN  ...          TN           0         0           TN   \n",
       "2             TN  ...          TN           0         0           TN   \n",
       "3             TN  ...          TN           0         0           TN   \n",
       "4             TN  ...          TN           0         0           TN   \n",
       "...          ...  ...         ...         ...       ...          ...   \n",
       "2589          TN  ...          TN           0         0           TN   \n",
       "2590          TN  ...          TN           0         0           TN   \n",
       "2591          TN  ...          TN           0         0           TN   \n",
       "2592          TN  ...          TN           0         0           TN   \n",
       "2593          TN  ...          TN           0         0           TN   \n",
       "\n",
       "      CysB-1 train CysB-1 test  CysB-1 assess  CysB-2 train CysB-2 test  \\\n",
       "0                0           0             TN             0           0   \n",
       "1                0           0             TN             0           0   \n",
       "2                0           0             TN             0           0   \n",
       "3                0           0             TN             0           0   \n",
       "4                0           0             TN             0           0   \n",
       "...            ...         ...            ...           ...         ...   \n",
       "2589             0           0             TN             0           0   \n",
       "2590             0           0             TN             0           0   \n",
       "2591             0           0             TN             0           0   \n",
       "2592             0           0             TN             0           0   \n",
       "2593             0           0             TN             0           0   \n",
       "\n",
       "      CysB-2 assess  \n",
       "0                TN  \n",
       "1                TN  \n",
       "2                TN  \n",
       "3                TN  \n",
       "4                TN  \n",
       "...             ...  \n",
       "2589             TN  \n",
       "2590             TN  \n",
       "2591             TN  \n",
       "2592             TN  \n",
       "2593             TN  \n",
       "\n",
       "[2594 rows x 37 columns]"
      ]
     },
     "execution_count": 13,
     "metadata": {},
     "output_type": "execute_result"
    }
   ],
   "source": [
    "validation"
   ]
  },
  {
   "cell_type": "code",
   "execution_count": 14,
   "metadata": {},
   "outputs": [],
   "source": [
    "validation.to_csv('data/validation_0.csv')"
   ]
  },
  {
   "cell_type": "code",
   "execution_count": 43,
   "metadata": {},
   "outputs": [
    {
     "data": {
      "text/plain": [
       "(0.0, 60.0)"
      ]
     },
     "execution_count": 43,
     "metadata": {},
     "output_type": "execute_result"
    },
    {
     "data": {
      "image/png": "[encoded data removed]",
      "text/plain": [
       "<Figure size 432x288 with 1 Axes>"
      ]
     },
     "metadata": {
      "needs_background": "light"
     },
     "output_type": "display_data"
    }
   ],
   "source": [
    "plt.hist(  validation['CysB-1 assess'])\n",
    "plt.xlim(['TP','FP'])\n",
    "plt.ylim([0,60])"
   ]
  },
  {
   "cell_type": "code",
   "execution_count": 48,
   "metadata": {},
   "outputs": [
    {
     "data": {
      "text/plain": [
       "(0.0, 25.0)"
      ]
     },
     "execution_count": 48,
     "metadata": {},
     "output_type": "execute_result"
    },
    {
     "data": {
      "image/png": "[encoded data removed]",
      "text/plain": [
       "<Figure size 1296x288 with 4 Axes>"
      ]
     },
     "metadata": {
      "needs_background": "light"
     },
     "output_type": "display_data"
    }
   ],
   "source": [
    "#ArgP,CysB-1,2\n",
    "fig,( ax0,ax1,ax2,ax3) = plt.subplots(ncols=4, figsize=(18,4))\n",
    "ax0.hist(validation['ArgP assess'])\n",
    "ax0.set_title('ArgP')\n",
    "ax0.set_xlim(['TP','FP'])\n",
    "ax0.set_ylim([0,25])\n",
    "ax1.hist(validation['Cra assess'])\n",
    "ax1.set_title('Cra')\n",
    "ax1.set_xlim(['TP','FP'])\n",
    "ax1.set_ylim([0,25])\n",
    "ax2.hist(validation['CysB-1 assess'])\n",
    "ax2.set_title('CysB-1' )\n",
    "ax2.set_xlim(['TP','FP'])\n",
    "ax2.set_ylim([0,25])\n",
    "ax3.hist(validation['CysB-2 assess'])\n",
    "ax3.set_title('CysB-2' )\n",
    "ax3.set_xlim(['TP','FP'])\n",
    "ax3.set_ylim([0,25])"
   ]
  },
  {
   "cell_type": "code",
   "execution_count": 45,
   "metadata": {},
   "outputs": [],
   "source": [
    "tf_list = ['AraC', 'ArcA', 'ArgP', 'ArgR', 'CysB', 'CpxR', 'Cra', \n",
    "           'CRP', 'Mlc', 'MqsA', 'EvgA', 'ExuR', 'FadR', 'IclR', 'IscR', \n",
    "           'FhlA', 'FlhDC', 'FNR', 'Fur', 'GadE', 'GadW', 'GadX', 'GalR', 'GalS', \n",
    "           'GcvA', 'GlpR', 'GlrR', 'GntR', 'TyrR', 'LexA', 'LeuO', 'Lrp', 'MalT', 'MetJ', \n",
    "           'Nac', 'NagC', 'NanR', 'NarL', 'NarP', 'NrdR', 'NsrR', 'NtrC', 'OxyR', 'PhoB', 'PhoP', \n",
    "           'PurR', 'PuuR', 'RcsAB', 'RhaS', 'SoxS', 'TrpR', 'XylR']\n",
    "\n",
    "regulon_genes={}\n",
    "for TF in bitome.transcription_factors:\n",
    "    if TF.name in tf_list:\n",
    "        regulon_genes[TF.name] = []   \n",
    "        for r in TF.regulons:\n",
    "                for p in list(r.regulated_promoters.values())[0]:\n",
    "                    if p.transcription_unit != None and len(p.transcription_unit.genes)>0:\n",
    "                        for g in p.transcription_unit.genes:\n",
    "                            regulon_genes[TF.name].append( g.locus_tag)"
   ]
  },
  {
   "cell_type": "code",
   "execution_count": 46,
   "metadata": {},
   "outputs": [],
   "source": [
    "FP = {}\n",
    "for im in best_models_0.keys():\n",
    "    FP[im] = []\n",
    "    for i in range(len(validation[im+ ' assess'])):\n",
    "        if validation[im+ ' assess'][i] == 'FP':\n",
    "            FP[im].append( validation['ID'][i])  "
   ]
  },
  {
   "cell_type": "code",
   "execution_count": 56,
   "metadata": {},
   "outputs": [
    {
     "data": {
      "image/png": "[encoded data removed]",
      "text/plain": [
       "<Figure size 432x288 with 1 Axes>"
      ]
     },
     "metadata": {},
     "output_type": "display_data"
    }
   ],
   "source": [
    "from matplotlib_venn import venn2\n",
    "venn2([set(FP['Cra']),set(regulon_genes['Cra'])],set_labels = ('Cra_FP','Cra_regulon'))\n",
    "plt.show()"
   ]
  },
  {
   "cell_type": "markdown",
   "metadata": {},
   "source": [
    "# bad models"
   ]
  },
  {
   "cell_type": "code",
   "execution_count": 65,
   "metadata": {},
   "outputs": [],
   "source": [
    "badmodels = ['AppY-1','AppY-2','Copper','CsqR','FecI','Fnr','GadWX','GcvA',\n",
    "             'GlcC','NikR','PrpR','Pyruvate','RbsR','SrlR+GutM',\n",
    "             'Thiamine','YgbI','YieP','YneJ']"
   ]
  },
  {
   "cell_type": "code",
   "execution_count": 66,
   "metadata": {},
   "outputs": [],
   "source": [
    "bad_imcount={}\n",
    "for im in badmodels:\n",
    "    bad_imcount[im] = len(IM_genes[im])\n",
    "\n",
    "bad_imcount_data = {}\n",
    "for im in badmodels:\n",
    "    bad_imcount_data[im] = 0\n",
    "\n",
    "for im in bad_imcount_data.keys():\n",
    "    for g in ID:\n",
    "        if g in IM_genes[im]:\n",
    "            bad_imcount_data[im] += 1"
   ]
  },
  {
   "cell_type": "code",
   "execution_count": 67,
   "metadata": {},
   "outputs": [
    {
     "data": {
      "image/png": "[encoded data removed]",
      "text/plain": [
       "<Figure size 1800x576 with 1 Axes>"
      ]
     },
     "metadata": {
      "needs_background": "light"
     },
     "output_type": "display_data"
    }
   ],
   "source": [
    "plt.figure(figsize=(25,8))\n",
    "plt.bar(list(bad_imcount.keys()), list(bad_imcount.values()), width=0.8, \n",
    "        color='silver', label='im genes count')\n",
    "\n",
    "plt.bar( list(bad_imcount_data.keys()), list(bad_imcount_data.values()), \n",
    "        width=0.6*0.8, color='black', alpha=0.5, label='im genes covered by dataset')\n",
    "\n",
    "plt.xticks( list(bad_imcount.keys()) )\n",
    "plt.ylabel('count')\n",
    "plt.legend()\n",
    "plt.title('Data completeness of models not working')\n",
    "plt.show()"
   ]
  },
  {
   "cell_type": "markdown",
   "metadata": {},
   "source": [
    "## meme fasta "
   ]
  },
  {
   "cell_type": "code",
   "execution_count": 11,
   "metadata": {},
   "outputs": [],
   "source": [
    "from Bio import SeqIO\n",
    "from Bio.Seq import Seq\n",
    "from Bio.SeqRecord import SeqRecord"
   ]
  },
  {
   "cell_type": "code",
   "execution_count": 12,
   "metadata": {},
   "outputs": [],
   "source": [
    "bTog = {}\n",
    "for g in bitome.genes:\n",
    "    bTog[g.locus_tag] = g.name\n",
    "    \n",
    "def revstrand(inseq):\n",
    "    outseq=inseq[::-1]\n",
    "    return outseq\n",
    "\n",
    "def complement(inseq):\n",
    "    inseq.upper()\n",
    "    clist=[]\n",
    "    for ntide in inseq:\n",
    "        if ntide == 'A':\n",
    "            clist.append('T')\n",
    "        if ntide == 'C':\n",
    "            clist.append('G')\n",
    "        if ntide == 'G':\n",
    "            clist.append('C')\n",
    "        if ntide == 'T':\n",
    "            clist.append('A')\n",
    "    complement=''.join(clist)\n",
    "    return complement"
   ]
  },
  {
   "cell_type": "code",
   "execution_count": 22,
   "metadata": {},
   "outputs": [],
   "source": [
    "GalRGalS_genes=[]\n",
    "for b in IM_genes['GalR+GalS']:\n",
    "    GalRGalS_genes.append(bTog[b])\n",
    "    \n",
    "GalRGalS_records=[]\n",
    "for g in GalRGalS_genes:\n",
    "    gene = bitome.get_gene(g)\n",
    "    if len(gene.transcription_units)<1:\n",
    "        continue\n",
    "    \n",
    "    for i in range(len(gene.transcription_units) ):\n",
    "        tu = gene.transcription_units[i] \n",
    "        if tu.promoter == None:\n",
    "            continue\n",
    "        TSS=tu.tss\n",
    "        if tu.location.strand != -1:\n",
    "            left = TSS-150\n",
    "            right = TSS+30\n",
    "            s = str(bitome.sequence)[left:right]\n",
    "        else:\n",
    "            left = TSS-30\n",
    "            right = TSS+150\n",
    "            s = complement(revstrand( str(bitome.sequence)[left:right] ))\n",
    "            \n",
    "        GalRGalS_records.append(  SeqRecord(Seq( s ), id = gene.name+'_TU_'+str(i), name = tu.name, description='') )"
   ]
  },
  {
   "cell_type": "code",
   "execution_count": 23,
   "metadata": {},
   "outputs": [
    {
     "data": {
      "text/plain": [
       "35"
      ]
     },
     "execution_count": 23,
     "metadata": {},
     "output_type": "execute_result"
    }
   ],
   "source": [
    "SeqIO.write(GalRGalS_records,'MEME_results/GalRGalS/GalRGalS.fasta','fasta')"
   ]
  },
  {
   "cell_type": "code",
   "execution_count": 31,
   "metadata": {},
   "outputs": [],
   "source": [
    "nac_genes=[]\n",
    "for b in IM_genes['Nac']:\n",
    "    nac_genes.append(bTog[b])\n",
    "    \n",
    "nac_records=[]\n",
    "for g in nac_genes:\n",
    "    gene = bitome.get_gene(g)\n",
    "    if len(gene.transcription_units)<1:\n",
    "        continue\n",
    "    \n",
    "    for i in range(len(gene.transcription_units) ):\n",
    "        tu = gene.transcription_units[i] \n",
    "        if tu.promoter == None:\n",
    "            continue\n",
    "        TSS=tu.tss\n",
    "        if tu.location.strand != -1:\n",
    "            left = TSS-150\n",
    "            right = TSS+30\n",
    "            s = str(bitome.sequence)[left:right]\n",
    "        else:\n",
    "            left = TSS-30\n",
    "            right = TSS+150\n",
    "            s = complement(revstrand( str(bitome.sequence)[left:right] ))\n",
    "            \n",
    "        nac_records.append(  SeqRecord(Seq( s ), id = gene.name+'_TU_'+str(i), name = tu.name, description='') )"
   ]
  },
  {
   "cell_type": "code",
   "execution_count": 32,
   "metadata": {},
   "outputs": [
    {
     "data": {
      "text/plain": [
       "42"
      ]
     },
     "execution_count": 32,
     "metadata": {},
     "output_type": "execute_result"
    }
   ],
   "source": [
    "SeqIO.write(nac_records,'GLAM2_results/Nac/nac.fasta','fasta')"
   ]
  },
  {
   "cell_type": "markdown",
   "metadata": {},
   "source": [
    "soxs_genes=[]\n",
    "soxs_im = list(IM_genes['SoxS'])\n",
    "soxs_im.remove('b4744')\n",
    "for b in soxs_im:\n",
    "    soxs_genes.append(bTog[b])\n",
    "    \n",
    "soxs_records=[]\n",
    "for g in soxs_genes:\n",
    "    gene = bitome.get_gene(g)\n",
    "    if len(gene.transcription_units)<1:\n",
    "        continue\n",
    "    \n",
    "    for i in range(len(gene.transcription_units) ):\n",
    "        tu = gene.transcription_units[i] \n",
    "        if tu.promoter == None:\n",
    "            continue\n",
    "        TSS=tu.tss\n",
    "        if tu.location.strand != -1:\n",
    "            left = TSS-150\n",
    "            right = TSS+30\n",
    "            s = str(bitome.sequence)[left:right]\n",
    "        else:\n",
    "            left = TSS-30\n",
    "            right = TSS+150\n",
    "            s = complement(revstrand( str(bitome.sequence)[left:right] ))\n",
    "            \n",
    "        soxs_records.append(  SeqRecord(Seq( s ), id = gene.name+'_TU_'+str(i), name = tu.name, description='') )"
   ]
  },
  {
   "cell_type": "code",
   "execution_count": 14,
   "metadata": {},
   "outputs": [
    {
     "data": {
      "text/plain": [
       "26"
      ]
     },
     "execution_count": 14,
     "metadata": {},
     "output_type": "execute_result"
    }
   ],
   "source": [
    "soxs_bs = pd.read_csv('data/SoxSTFBS_PMID26279566.txt', sep=\" \", header=None)\n",
    "soxs_postuples = []\n",
    "for pos_tup in soxs_bs[0]:\n",
    "    pos_tuple = pos_tup.split('\\t')\n",
    "    soxs_postuples.append( (int(pos_tuple[0]), int(pos_tuple[1]),int(pos_tuple[2]))  )\n",
    "    \n",
    "soxs_recs=[]\n",
    "soxs_temp = []\n",
    "for strand, left, right in soxs_postuples:\n",
    "    mid = int( (left+right)/2 )\n",
    "    if strand == 1:\n",
    "        s = str(bitome.sequence[left: right])\n",
    "        temps =   str(bitome.sequence[mid - 50 : mid + 50 ])\n",
    "    else:\n",
    "        s = str( complement(revstrand( str(bitome.sequence)[left:right] )) )\n",
    "        temps = str( complement(revstrand( str(bitome.sequence)[mid - 50: mid + 50] )) )\n",
    "        \n",
    "    if len(s) == 32:\n",
    "        soxs_temp.append(str(s))\n",
    "    soxs_recs.append(  SeqRecord(  Seq( temps ) , id ='pos_'+str(left)+'_'+str(right), name ='', description='') )\n",
    "    \n",
    "SeqIO.write(soxs_recs,'MEME_results/SoxS/soxs_chip.fasta','fasta')"
   ]
  },
  {
   "cell_type": "code",
   "execution_count": 13,
   "metadata": {},
   "outputs": [
    {
     "data": {
      "text/plain": [
       "<logomaker.src.Logo.Logo at 0x7feb63e0ed90>"
      ]
     },
     "execution_count": 13,
     "metadata": {},
     "output_type": "execute_result"
    },
    {
     "data": {
      "image/png": "[encoded data removed]",
      "text/plain": [
       "<Figure size 720x180 with 1 Axes>"
      ]
     },
     "metadata": {
      "needs_background": "light"
     },
     "output_type": "display_data"
    }
   ],
   "source": [
    "import logomaker as lm\n",
    "counts_mat = lm.alignment_to_matrix( soxs_temp )\n",
    "lm.Logo(counts_mat)"
   ]
  },
  {
   "cell_type": "code",
   "execution_count": 22,
   "metadata": {},
   "outputs": [
    {
     "data": {
      "text/plain": [
       "125"
      ]
     },
     "execution_count": 22,
     "metadata": {},
     "output_type": "execute_result"
    }
   ],
   "source": [
    "SeqIO.write(soxs_records,'MEME_results/SoxS/soxs.fasta','fasta')"
   ]
  },
  {
   "cell_type": "code",
   "execution_count": 24,
   "metadata": {},
   "outputs": [],
   "source": [
    "cpxr_genes=[]\n",
    "CpxR_im = list(IM_genes['CpxR'])\n",
    "CpxR_im.remove('b4751')\n",
    "for b in CpxR_im:\n",
    "    cpxr_genes.append(bTog[b])\n",
    "    \n",
    "cpxr_records=[]\n",
    "for g in cpxr_genes:\n",
    "    gene = bitome.get_gene(g)\n",
    "    if len(gene.transcription_units)<1:\n",
    "        continue\n",
    "    \n",
    "    for i in range(len(gene.transcription_units) ):\n",
    "        tu = gene.transcription_units[i] \n",
    "        if tu.promoter == None:\n",
    "            continue\n",
    "        TSS=tu.tss\n",
    "        if tu.location.strand != -1:\n",
    "            left = TSS-150\n",
    "            right = TSS+30\n",
    "            s = str(bitome.sequence)[left:right]\n",
    "        else:\n",
    "            left = TSS-30\n",
    "            right = TSS+150\n",
    "            s = complement(revstrand( str(bitome.sequence)[left:right] ))\n",
    "            \n",
    "        cpxr_records.append(  SeqRecord(Seq( s ), id = gene.name+'_TU_'+str(i), name = tu.name, description='') )"
   ]
  },
  {
   "cell_type": "code",
   "execution_count": 25,
   "metadata": {},
   "outputs": [
    {
     "data": {
      "text/plain": [
       "52"
      ]
     },
     "execution_count": 25,
     "metadata": {},
     "output_type": "execute_result"
    }
   ],
   "source": [
    "SeqIO.write(cpxr_records,'MEME_results/CpxR/cpxr.fasta','fasta')"
   ]
  },
  {
   "cell_type": "code",
   "execution_count": 37,
   "metadata": {},
   "outputs": [],
   "source": [
    "cra_genes=[]\n",
    "for b in IM_genes['Cra']:\n",
    "    cra_genes.append(bTog[b])\n",
    "    \n",
    "cra_records=[]\n",
    "for g in cra_genes:\n",
    "    gene = bitome.get_gene(g)\n",
    "    if len(gene.transcription_units)<1:\n",
    "        continue\n",
    "    \n",
    "    for i in range(len(gene.transcription_units) ):\n",
    "        tu = gene.transcription_units[i] \n",
    "        if tu.promoter == None:\n",
    "            continue\n",
    "        TSS=tu.tss\n",
    "        if tu.location.strand != -1:\n",
    "            left = TSS-150\n",
    "            right = TSS+30\n",
    "            s = str(bitome.sequence)[left:right]\n",
    "        else:\n",
    "            left = TSS-30\n",
    "            right = TSS+150\n",
    "            s = complement(revstrand( str(bitome.sequence)[left:right] ))\n",
    "        cra_records.append(  SeqRecord(Seq( s ), id = gene.name+'_TU_'+str(i), name = tu.name, description='') )"
   ]
  },
  {
   "cell_type": "code",
   "execution_count": 38,
   "metadata": {},
   "outputs": [
    {
     "data": {
      "text/plain": [
       "25"
      ]
     },
     "execution_count": 38,
     "metadata": {},
     "output_type": "execute_result"
    }
   ],
   "source": [
    "SeqIO.write(cra_records,'MEME_results/Cra/cra.fasta','fasta')"
   ]
  },
  {
   "cell_type": "code",
   "execution_count": 39,
   "metadata": {},
   "outputs": [],
   "source": [
    "yiaj_genes = []\n",
    "for b in IM_genes['YiaJ']:\n",
    "    yiaj_genes.append(bTog[b])\n",
    "    \n",
    "yiaj_records=[]\n",
    "for g in yiaj_genes:\n",
    "    gene = bitome.get_gene(g)\n",
    "    if len(gene.transcription_units)<1:\n",
    "        continue\n",
    "    \n",
    "    for i in range(len(gene.transcription_units) ):\n",
    "        tu = gene.transcription_units[i] \n",
    "        if tu.promoter == None:\n",
    "            continue\n",
    "        TSS=tu.tss\n",
    "        if tu.location.strand != -1:\n",
    "            left = TSS-150\n",
    "            right = TSS+30\n",
    "            s = str(bitome.sequence)[left:right]\n",
    "        else:\n",
    "            left = TSS-30\n",
    "            right = TSS+150\n",
    "            s = complement(revstrand( str(bitome.sequence)[left:right] ))\n",
    "            \n",
    "        yiaj_records.append(  SeqRecord(Seq(s), id = gene.name+'_TU_'+str(i), name = tu.name, description='') )"
   ]
  },
  {
   "cell_type": "code",
   "execution_count": 40,
   "metadata": {},
   "outputs": [
    {
     "data": {
      "text/plain": [
       "19"
      ]
     },
     "execution_count": 40,
     "metadata": {},
     "output_type": "execute_result"
    }
   ],
   "source": [
    "SeqIO.write(yiaj_records,'MEME_results/YiaJ/yiaj.fasta','fasta')"
   ]
  },
  {
   "cell_type": "code",
   "execution_count": 42,
   "metadata": {},
   "outputs": [],
   "source": [
    "TyrR_genes = []\n",
    "for b in IM_genes['TyrR']:\n",
    "    TyrR_genes.append(bTog[b])\n",
    "    \n",
    "TyrR_records=[]\n",
    "for g in TyrR_genes:\n",
    "    gene = bitome.get_gene(g)\n",
    "    if len(gene.transcription_units)<1:\n",
    "        continue\n",
    "    \n",
    "    for i in range(len(gene.transcription_units) ):\n",
    "        tu = gene.transcription_units[i] \n",
    "        if tu.promoter == None:\n",
    "            continue\n",
    "        TSS=tu.tss\n",
    "        if tu.location.strand != -1:\n",
    "            left = TSS-150\n",
    "            right = TSS+30\n",
    "            s = str(bitome.sequence)[left:right]\n",
    "        else:\n",
    "            left = TSS-30\n",
    "            right = TSS+150\n",
    "            s = complement(revstrand( str(bitome.sequence)[left:right] ))\n",
    "            \n",
    "        TyrR_records.append(  SeqRecord(Seq( s ), id = gene.name+'_TU_'+str(i), name = tu.name, description='') )"
   ]
  },
  {
   "cell_type": "code",
   "execution_count": 43,
   "metadata": {},
   "outputs": [
    {
     "data": {
      "text/plain": [
       "15"
      ]
     },
     "execution_count": 43,
     "metadata": {},
     "output_type": "execute_result"
    }
   ],
   "source": [
    "SeqIO.write(TyrR_records,'MEME_results/TyrR/TyrR.fasta','fasta')"
   ]
  },
  {
   "cell_type": "code",
   "execution_count": 13,
   "metadata": {},
   "outputs": [],
   "source": [
    "fnr2_genes = []\n",
    "fnr2_im = list(IM_genes['Fnr-2'])\n",
    "fnr2_im.remove('b4752')\n",
    "for b in fnr2_im:\n",
    "    fnr2_genes.append(bTog[b])\n",
    "    \n",
    "fnr2_records=[]\n",
    "for g in fnr2_genes:\n",
    "    gene = bitome.get_gene(g)\n",
    "    if len(gene.transcription_units)<1:\n",
    "        continue\n",
    "    \n",
    "    for i in range(len(gene.transcription_units) ):\n",
    "        tu = gene.transcription_units[i] \n",
    "        if tu.promoter == None:\n",
    "            continue\n",
    "        TSS=tu.tss\n",
    "        if tu.location.strand != -1:\n",
    "            left = TSS-150\n",
    "            right = TSS+30\n",
    "            s = str(bitome.sequence)[left:right]\n",
    "        else:\n",
    "            left = TSS-30\n",
    "            right = TSS+150\n",
    "            s = complement(revstrand( str(bitome.sequence)[left:right] ))\n",
    "            \n",
    "        fnr2_records.append(  SeqRecord(Seq( s ), id = gene.name+'_TU_'+str(i), name = tu.name, description='') )"
   ]
  },
  {
   "cell_type": "code",
   "execution_count": 14,
   "metadata": {},
   "outputs": [
    {
     "data": {
      "text/plain": [
       "55"
      ]
     },
     "execution_count": 14,
     "metadata": {},
     "output_type": "execute_result"
    }
   ],
   "source": [
    "SeqIO.write(fnr2_records,'MEME_results/Fnr-2/Fnr-2.fasta','fasta')"
   ]
  },
  {
   "cell_type": "code",
   "execution_count": 19,
   "metadata": {},
   "outputs": [],
   "source": [
    "fnr1_genes = []\n",
    "fnr1_im = list(IM_genes['Fnr-1'])\n",
    "fnr1_im.remove('b4756')\n",
    "fnr1_im.remove('b4589')\n",
    "for b in fnr1_im:\n",
    "    fnr1_genes.append(bTog[b])\n",
    "    \n",
    "fnr1_records=[]\n",
    "for g in fnr1_genes:\n",
    "    gene = bitome.get_gene(g)\n",
    "    if len(gene.transcription_units)<1:\n",
    "        continue\n",
    "    \n",
    "    for i in range(len(gene.transcription_units) ):\n",
    "        tu = gene.transcription_units[i] \n",
    "        if tu.promoter == None:\n",
    "            continue\n",
    "        TSS=tu.tss\n",
    "        if tu.location.strand != -1:\n",
    "            left = TSS-150\n",
    "            right = TSS+30\n",
    "            s = str(bitome.sequence)[left:right]\n",
    "        else:\n",
    "            left = TSS-30\n",
    "            right = TSS+150\n",
    "            s = complement(revstrand( str(bitome.sequence)[left:right] ))\n",
    "            \n",
    "        fnr1_records.append(  SeqRecord(Seq( s ), id = gene.name+'_TU_'+str(i), name = tu.name, description='') )"
   ]
  },
  {
   "cell_type": "code",
   "execution_count": 20,
   "metadata": {},
   "outputs": [
    {
     "data": {
      "text/plain": [
       "35"
      ]
     },
     "execution_count": 20,
     "metadata": {},
     "output_type": "execute_result"
    }
   ],
   "source": [
    "SeqIO.write(fnr1_records,'MEME_results/Fnr-1/Fnr-1.fasta','fasta')"
   ]
  },
  {
   "cell_type": "code",
   "execution_count": 51,
   "metadata": {},
   "outputs": [],
   "source": [
    "argp_genes = []\n",
    "argp_im = list(IM_genes['ArgP'])\n",
    "argp_im.remove('b4756')\n",
    "\n",
    "for b in argp_im:\n",
    "    argp_genes.append(bTog[b])\n",
    "    \n",
    "argp_records=[]\n",
    "for g in argp_genes:\n",
    "    gene = bitome.get_gene(g)\n",
    "    if len(gene.transcription_units)<1:\n",
    "        continue\n",
    "    \n",
    "    for i in range(len(gene.transcription_units) ):\n",
    "        tu = gene.transcription_units[i] \n",
    "        if tu.promoter == None:\n",
    "            continue\n",
    "        TSS=tu.tss\n",
    "        if tu.location.strand != -1:\n",
    "            left = TSS-150\n",
    "            right = TSS+30\n",
    "            s = str(bitome.sequence)[left:right]\n",
    "        else:\n",
    "            left = TSS-30\n",
    "            right = TSS+150\n",
    "            s = complement(revstrand( str(bitome.sequence)[left:right] ))\n",
    "            \n",
    "        argp_records.append(  SeqRecord(Seq( s ), id = gene.name+'_TU_'+str(i), name = tu.name, description='') )"
   ]
  },
  {
   "cell_type": "code",
   "execution_count": 52,
   "metadata": {},
   "outputs": [
    {
     "data": {
      "text/plain": [
       "35"
      ]
     },
     "execution_count": 52,
     "metadata": {},
     "output_type": "execute_result"
    }
   ],
   "source": [
    "SeqIO.write(argp_records,'MEME_results/ArgP/ArgP.fasta','fasta')"
   ]
  },
  {
   "cell_type": "code",
   "execution_count": 55,
   "metadata": {},
   "outputs": [],
   "source": [
    "cysb2_genes = []\n",
    "cysb2_im = list(IM_genes['CysB-2'])\n",
    "cysb2_im.remove('b4720')\n",
    "cysb2_im.remove('b4721')\n",
    "for b in cysb2_im:\n",
    "    cysb2_genes.append(bTog[b])\n",
    "    \n",
    "cysb2_records=[]\n",
    "for g in cysb2_genes:\n",
    "    gene = bitome.get_gene(g)\n",
    "    if len(gene.transcription_units)<1:\n",
    "        continue\n",
    "    \n",
    "    for i in range(len(gene.transcription_units) ):\n",
    "        tu = gene.transcription_units[i] \n",
    "        if tu.promoter == None:\n",
    "            continue\n",
    "        TSS=tu.tss\n",
    "        if tu.location.strand != -1:\n",
    "            left = TSS-150\n",
    "            right = TSS+30\n",
    "            s = str(bitome.sequence)[left:right]\n",
    "        else:\n",
    "            left = TSS-30\n",
    "            right = TSS+150\n",
    "            s = complement(revstrand( str(bitome.sequence)[left:right] ))\n",
    "            \n",
    "        cysb2_records.append(  SeqRecord(Seq( s ), id = gene.name+'_TU_'+str(i), name = tu.name, description='') )"
   ]
  },
  {
   "cell_type": "code",
   "execution_count": 56,
   "metadata": {},
   "outputs": [
    {
     "data": {
      "text/plain": [
       "24"
      ]
     },
     "execution_count": 56,
     "metadata": {},
     "output_type": "execute_result"
    }
   ],
   "source": [
    "SeqIO.write(cysb2_records,'MEME_results/CysB-2/CysB-2.fasta','fasta')"
   ]
  },
  {
   "cell_type": "code",
   "execution_count": 28,
   "metadata": {},
   "outputs": [],
   "source": [
    "arca1_genes = []\n",
    "arca1_im = list(IM_genes['ArcA-1'])\n",
    "arca1_im.remove( 'b4735' )\n",
    "for b in arca1_im:\n",
    "    arca1_genes.append(bTog[b])\n",
    "    \n",
    "arca1_records=[]\n",
    "for g in arca1_genes:\n",
    "    gene = bitome.get_gene(g)\n",
    "    if len(gene.transcription_units)<1:\n",
    "        continue\n",
    "    \n",
    "    for i in range(len(gene.transcription_units) ):\n",
    "        tu = gene.transcription_units[i] \n",
    "        if tu.promoter == None:\n",
    "            continue\n",
    "        TSS=tu.tss\n",
    "        if tu.location.strand != -1:\n",
    "            left = TSS-150\n",
    "            right = TSS+30\n",
    "            s = str(bitome.sequence)[left:right]\n",
    "        else:\n",
    "            left = TSS-30\n",
    "            right = TSS+150\n",
    "            s = complement(revstrand( str(bitome.sequence)[left:right] ))\n",
    "            \n",
    "        arca1_records.append(  SeqRecord(Seq( s ), id = gene.name+'_TU_'+str(i), name = tu.name, description='') )"
   ]
  },
  {
   "cell_type": "code",
   "execution_count": 29,
   "metadata": {},
   "outputs": [
    {
     "data": {
      "text/plain": [
       "45"
      ]
     },
     "execution_count": 29,
     "metadata": {},
     "output_type": "execute_result"
    }
   ],
   "source": [
    "SeqIO.write(arca1_records,'MEME_results/ArcA-1/ArcA-1.fasta','fasta')"
   ]
  },
  {
   "cell_type": "code",
   "execution_count": 31,
   "metadata": {},
   "outputs": [],
   "source": [
    "arca2_genes = []\n",
    "arca2_im = list(IM_genes['ArcA-2'])\n",
    "for b in arca2_im:\n",
    "    arca2_genes.append(bTog[b])\n",
    "    \n",
    "arca2_records=[]\n",
    "for g in arca2_genes:\n",
    "    gene = bitome.get_gene(g)\n",
    "    if len(gene.transcription_units)<1:\n",
    "        continue\n",
    "    \n",
    "    for i in range(len(gene.transcription_units) ):\n",
    "        tu = gene.transcription_units[i] \n",
    "        if tu.promoter == None:\n",
    "            continue\n",
    "        TSS=tu.tss\n",
    "        if tu.location.strand != -1:\n",
    "            left = TSS-150\n",
    "            right = TSS+30\n",
    "            s = str(bitome.sequence)[left:right]\n",
    "        else:\n",
    "            left = TSS-30\n",
    "            right = TSS+150\n",
    "            s = complement(revstrand( str(bitome.sequence)[left:right] ))\n",
    "            \n",
    "        arca2_records.append(  SeqRecord(Seq( s ), id = gene.name+'_TU_'+str(i), name = tu.name, description='') )"
   ]
  },
  {
   "cell_type": "code",
   "execution_count": 32,
   "metadata": {},
   "outputs": [
    {
     "data": {
      "text/plain": [
       "42"
      ]
     },
     "execution_count": 32,
     "metadata": {},
     "output_type": "execute_result"
    }
   ],
   "source": [
    "SeqIO.write(arca2_records,'MEME_results/ArcA-2/ArcA-2.fasta','fasta')"
   ]
  },
  {
   "cell_type": "code",
   "execution_count": 33,
   "metadata": {},
   "outputs": [],
   "source": [
    "oxyr_genes = []\n",
    "oxyr_im = list(IM_genes['OxyR'])\n",
    "for b in oxyr_im:\n",
    "    oxyr_genes.append(bTog[b])\n",
    "    \n",
    "oxyr_records=[]\n",
    "for g in oxyr_genes:\n",
    "    gene = bitome.get_gene(g)\n",
    "    if len(gene.transcription_units)<1:\n",
    "        continue\n",
    "    \n",
    "    for i in range(len(gene.transcription_units) ):\n",
    "        tu = gene.transcription_units[i] \n",
    "        if tu.promoter == None:\n",
    "            continue\n",
    "        TSS=tu.tss\n",
    "        if tu.location.strand != -1:\n",
    "            left = TSS-150\n",
    "            right = TSS+30\n",
    "            s = str(bitome.sequence)[left:right]\n",
    "        else:\n",
    "            left = TSS-30\n",
    "            right = TSS+150\n",
    "            s = complement(revstrand( str(bitome.sequence)[left:right] ))\n",
    "            \n",
    "        oxyr_records.append(  SeqRecord(Seq( s ), id = gene.name+'_TU_'+str(i), name = tu.name, description='') )"
   ]
  },
  {
   "cell_type": "code",
   "execution_count": 34,
   "metadata": {},
   "outputs": [
    {
     "data": {
      "text/plain": [
       "27"
      ]
     },
     "execution_count": 34,
     "metadata": {},
     "output_type": "execute_result"
    }
   ],
   "source": [
    "SeqIO.write(  oxyr_records,'MEME_results/OxyR/OxyR.fasta','fasta')"
   ]
  },
  {
   "cell_type": "code",
   "execution_count": 36,
   "metadata": {},
   "outputs": [],
   "source": [
    "lrp_genes = []\n",
    "lrp_im = list(IM_genes['Lrp'])\n",
    "lrp_im.remove('b4740')\n",
    "for b in lrp_im:\n",
    "    lrp_genes.append(bTog[b])\n",
    "    \n",
    "lrp_records=[]\n",
    "for g in lrp_genes:\n",
    "    gene = bitome.get_gene(g)\n",
    "    if len(gene.transcription_units)<1:\n",
    "        continue\n",
    "    \n",
    "    for i in range(len(gene.transcription_units) ):\n",
    "        tu = gene.transcription_units[i] \n",
    "        if tu.promoter == None:\n",
    "            continue\n",
    "        TSS=tu.tss\n",
    "        if tu.location.strand != -1:\n",
    "            left = TSS-150\n",
    "            right = TSS+30\n",
    "            s = str(bitome.sequence)[left:right]\n",
    "        else:\n",
    "            left = TSS-30\n",
    "            right = TSS+150\n",
    "            s = complement(revstrand( str(bitome.sequence)[left:right] ))\n",
    "            \n",
    "        lrp_records.append(  SeqRecord(Seq( s ), id = gene.name+'_TU_'+str(i), name = tu.name, description='') )"
   ]
  },
  {
   "cell_type": "code",
   "execution_count": 37,
   "metadata": {},
   "outputs": [
    {
     "data": {
      "text/plain": [
       "39"
      ]
     },
     "execution_count": 37,
     "metadata": {},
     "output_type": "execute_result"
    }
   ],
   "source": [
    "SeqIO.write(  lrp_records,'MEME_results/Lrp/Lrp.fasta','fasta')"
   ]
  },
  {
   "cell_type": "code",
   "execution_count": 38,
   "metadata": {},
   "outputs": [],
   "source": [
    "nagc_genes = []\n",
    "nagc_im = list(IM_genes['NagC'])\n",
    "for b in nagc_im:\n",
    "    nagc_genes.append(bTog[b])\n",
    "    \n",
    "nagc_records=[]\n",
    "for g in nagc_genes:\n",
    "    gene = bitome.get_gene(g)\n",
    "    if len(gene.transcription_units)<1:\n",
    "        continue\n",
    "    \n",
    "    for i in range(len(gene.transcription_units) ):\n",
    "        tu = gene.transcription_units[i] \n",
    "        if tu.promoter == None:\n",
    "            continue\n",
    "        TSS=tu.tss\n",
    "        if tu.location.strand != -1:\n",
    "            left = TSS-150\n",
    "            right = TSS+30\n",
    "            s = str(bitome.sequence)[left:right]\n",
    "        else:\n",
    "            left = TSS-30\n",
    "            right = TSS+150\n",
    "            s = complement(revstrand( str(bitome.sequence)[left:right] ))\n",
    "            \n",
    "        nagc_records.append(  SeqRecord(Seq( s ), id = gene.name+'_TU_'+str(i), name = tu.name, description='') )"
   ]
  },
  {
   "cell_type": "code",
   "execution_count": 39,
   "metadata": {},
   "outputs": [
    {
     "data": {
      "text/plain": [
       "22"
      ]
     },
     "execution_count": 39,
     "metadata": {},
     "output_type": "execute_result"
    }
   ],
   "source": [
    "SeqIO.write(  nagc_records,'MEME_results/NagC/NagC.fasta','fasta')"
   ]
  },
  {
   "cell_type": "code",
   "execution_count": 42,
   "metadata": {},
   "outputs": [],
   "source": [
    "phop_genes = []\n",
    "phop_im = list(IM_genes['PhoP'])\n",
    "phop_im.remove( 'b4736' )\n",
    "phop_im.remove( 'b4751' )\n",
    "for b in phop_im:\n",
    "    phop_genes.append(bTog[b])\n",
    "    \n",
    "phop_records=[]\n",
    "for g in phop_genes:\n",
    "    gene = bitome.get_gene(g)\n",
    "    if len(gene.transcription_units)<1:\n",
    "        continue\n",
    "    \n",
    "    for i in range(len(gene.transcription_units) ):\n",
    "        tu = gene.transcription_units[i] \n",
    "        if tu.promoter == None:\n",
    "            continue\n",
    "        TSS=tu.tss\n",
    "        if tu.location.strand != -1:\n",
    "            left = TSS-150\n",
    "            right = TSS+30\n",
    "            s = str(bitome.sequence)[left:right]\n",
    "        else:\n",
    "            left = TSS-30\n",
    "            right = TSS+150\n",
    "            s = complement(revstrand( str(bitome.sequence)[left:right] ))\n",
    "            \n",
    "        phop_records.append(  SeqRecord(Seq( s ), id = gene.name+'_TU_'+str(i), name = tu.name, description='') )"
   ]
  },
  {
   "cell_type": "code",
   "execution_count": 43,
   "metadata": {},
   "outputs": [
    {
     "data": {
      "text/plain": [
       "18"
      ]
     },
     "execution_count": 43,
     "metadata": {},
     "output_type": "execute_result"
    }
   ],
   "source": [
    "SeqIO.write( phop_records ,'MEME_results/PhoP/PhoP.fasta','fasta')"
   ]
  },
  {
   "cell_type": "code",
   "execution_count": null,
   "metadata": {},
   "outputs": [],
   "source": [
    "fur1_genes = []\n",
    "fur1_im = list(IM_genes['Fur-1'])\n",
    "for b in fur1_im:\n",
    "    fur1_genes.append(bTog[b])\n",
    "    \n",
    "fur1_records=[]\n",
    "for g in fur1_genes:\n",
    "    gene = bitome.get_gene(g)\n",
    "    if len(gene.transcription_units)<1:\n",
    "        continue\n",
    "    \n",
    "    for i in range(len(gene.transcription_units) ):\n",
    "        tu = gene.transcription_units[i] \n",
    "        if tu.promoter == None:\n",
    "            continue\n",
    "        TSS=tu.tss\n",
    "        if tu.location.strand != -1:\n",
    "            left = TSS-150\n",
    "            right = TSS+30\n",
    "            s = str(bitome.sequence)[left:right]\n",
    "        else:\n",
    "            left = TSS-30\n",
    "            right = TSS+150\n",
    "            s = complement(revstrand( str(bitome.sequence)[left:right] ))\n",
    "            \n",
    "        fur1_records.append(  SeqRecord(Seq( s ), id = gene.name+'_TU_'+str(i), name = tu.name, description='') )"
   ]
  },
  {
   "cell_type": "code",
   "execution_count": null,
   "metadata": {},
   "outputs": [],
   "source": [
    "SeqIO.write(  fur1_records,'MEME_results/Fur-1/Fur-1.fasta','fasta')"
   ]
  },
  {
   "cell_type": "code",
   "execution_count": null,
   "metadata": {},
   "outputs": [],
   "source": [
    "fur2_genes = []\n",
    "fur2_im = list(IM_genes['Fur-2'])\n",
    "for b in fur2_im:\n",
    "    fur2_genes.append(bTog[b])\n",
    "    \n",
    "fur2_records=[]\n",
    "for g in fur2_genes:\n",
    "    gene = bitome.get_gene(g)\n",
    "    if len(gene.transcription_units)<1:\n",
    "        continue\n",
    "    \n",
    "    for i in range(len(gene.transcription_units) ):\n",
    "        tu = gene.transcription_units[i] \n",
    "        if tu.promoter == None:\n",
    "            continue\n",
    "        TSS=tu.tss\n",
    "        if tu.location.strand != -1:\n",
    "            left = TSS-150\n",
    "            right = TSS+30\n",
    "            s = str(bitome.sequence)[left:right]\n",
    "        else:\n",
    "            left = TSS-30\n",
    "            right = TSS+150\n",
    "            s = complement(revstrand( str(bitome.sequence)[left:right] ))\n",
    "            \n",
    "        fur2_records.append(  SeqRecord(Seq( s ), id = gene.name+'_TU_'+str(i), name = tu.name, description='') )"
   ]
  },
  {
   "cell_type": "code",
   "execution_count": null,
   "metadata": {},
   "outputs": [],
   "source": [
    "SeqIO.write(  fur2_records,'MEME_results/Fur-2/Fur-2.fasta','fasta')"
   ]
  }
 ],
 "metadata": {
  "kernelspec": {
   "display_name": "Python 3",
   "language": "python",
   "name": "python3"
  },
  "language_info": {
   "codemirror_mode": {
    "name": "ipython",
    "version": 3
   },
   "file_extension": ".py",
   "mimetype": "text/x-python",
   "name": "python",
   "nbconvert_exporter": "python",
   "pygments_lexer": "ipython3",
   "version": "3.8.2"
  }
 },
 "nbformat": 4,
 "nbformat_minor": 4
}
