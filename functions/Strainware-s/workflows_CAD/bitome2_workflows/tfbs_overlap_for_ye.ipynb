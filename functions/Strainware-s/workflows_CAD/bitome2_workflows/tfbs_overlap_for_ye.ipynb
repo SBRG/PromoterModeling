{
 "cells": [
  {
   "cell_type": "markdown",
   "metadata": {},
   "source": [
    "# Import Packages"
   ]
  },
  {
   "cell_type": "code",
   "execution_count": 120,
   "metadata": {},
   "outputs": [],
   "source": [
    "from collections import Counter, OrderedDict\n",
    "from itertools import chain, combinations\n",
    "from pathlib import Path\n",
    "import sys\n",
    "\n",
    "import networkx as nx\n",
    "import pandas as pd\n",
    "from tqdm.notebook import tqdm\n",
    "\n",
    "sys.path.append('../../bitome2')\n",
    "sys.path.append('../')\n",
    "\n",
    "from bitome.core import Bitome"
   ]
  },
  {
   "cell_type": "markdown",
   "metadata": {},
   "source": [
    "# Load E. coli K-12 MG1655 Bitome"
   ]
  },
  {
   "cell_type": "code",
   "execution_count": 2,
   "metadata": {},
   "outputs": [],
   "source": [
    "K12_DATA_PATH = Path('../data/bitome2/mg1655')"
   ]
  },
  {
   "cell_type": "code",
   "execution_count": 3,
   "metadata": {},
   "outputs": [],
   "source": [
    "# from GenBank annotation\n",
    "origin = (3925743, 3925975)\n",
    "# from 1. Duggin, I. G. & Bell, S. D. J. Mol. Biol. (2009). with the following terA/terC sequences:\n",
    "# ter_a = 'AATTAGTATGTTGTAACTAAAGT'\n",
    "# ter_c = 'ATATAGGATGTTGTAACTAATAT'\n",
    "terminus = (1341745, 1609180)"
   ]
  },
  {
   "cell_type": "code",
   "execution_count": 4,
   "metadata": {},
   "outputs": [],
   "source": [
    "mg1655 = Bitome(\n",
    "    Path(K12_DATA_PATH, 'NC_000913.3.gb'),\n",
    "    origin=origin, terminus=terminus,\n",
    "    gene_table=Path(K12_DATA_PATH, 'gene_info_supp.csv'),\n",
    "    tu_table=Path(K12_DATA_PATH, 'tu.csv'),\n",
    "    operon_table=Path(K12_DATA_PATH, 'operon.csv'),\n",
    "    tss_table=Path(K12_DATA_PATH, 'tss.csv'),\n",
    "    # TODO PARSE TTS data\n",
    "    tts_table=None,\n",
    "    tfbs_table=Path(K12_DATA_PATH, 'tfbs.csv'),\n",
    "    terminator_table=Path(K12_DATA_PATH, 'terminator.csv'),\n",
    "    attenuator_table=Path(K12_DATA_PATH, 'attenuator.csv'),\n",
    "    rbs_table=Path(K12_DATA_PATH, 'rbs.csv'),\n",
    "    riboswitch_table=Path(K12_DATA_PATH, 'riboswitch.csv')\n",
    ")"
   ]
  },
  {
   "cell_type": "markdown",
   "metadata": {},
   "source": [
    "# List 81 TFs of Interest"
   ]
  },
  {
   "cell_type": "markdown",
   "metadata": {},
   "source": [
    "Swapped IciA for ArgP (alternative name for same TF)"
   ]
  },
  {
   "cell_type": "code",
   "execution_count": 5,
   "metadata": {},
   "outputs": [
    {
     "name": "stdout",
     "output_type": "stream",
     "text": [
      "81\n"
     ]
    }
   ],
   "source": [
    "tfs_of_interest = [\n",
    "    'Lrp', 'TyrR', 'PdhR', 'Nac', 'NtrC', 'GadE', 'InfA', 'Tus', 'StpA', 'Rob', 'CspE', 'HupA', 'HupB',\n",
    "    'Cra', 'SdiA', 'LsrR', 'ArgR', 'PurR', 'AppY', 'ArgP', 'GadX', 'OxyR', 'SoxS', 'ArcA', 'Mlc',\n",
    "    'YdcI', 'YiaJ', 'YjhU', 'YagI', 'YeiE', 'YbiH', 'YafC', 'YieP', 'YddM', 'YiaG', 'YheO', 'YbaQ',\n",
    "    'YbaO', 'YchA', 'YihY', 'YjdC', 'YhjC', 'YdhB', 'YahB', 'YcjW', 'YidZ', 'YqhC', 'YfeD', 'YggD',\n",
    "    'YihW', 'YcfQ', 'YfeC', 'YebK', 'YedW', 'YciT', 'YgeR', 'YnfL', 'YiaU', 'YbeF', 'YjhI', 'YneJ',\n",
    "    'YbcM', 'YcaN', 'YbhD', 'YdiP', 'YdcN', 'YbdO', 'YfiE', 'YidL', 'YihL', 'YehT', 'YpdC', 'YgaV',\n",
    "    'YhjB', 'YeeY', 'YgfI', 'YidP', 'YdcR', 'YgbI', 'YjjJ', 'YeaM'\n",
    "]\n",
    "print(len(tfs_of_interest))"
   ]
  },
  {
   "cell_type": "markdown",
   "metadata": {},
   "source": [
    "# Get Binding Sites from Bitome"
   ]
  },
  {
   "cell_type": "code",
   "execution_count": 6,
   "metadata": {},
   "outputs": [
    {
     "data": {
      "text/html": [
       "<div>\n",
       "<style scoped>\n",
       "    .dataframe tbody tr th:only-of-type {\n",
       "        vertical-align: middle;\n",
       "    }\n",
       "\n",
       "    .dataframe tbody tr th {\n",
       "        vertical-align: top;\n",
       "    }\n",
       "\n",
       "    .dataframe thead th {\n",
       "        text-align: right;\n",
       "    }\n",
       "</style>\n",
       "<table border=\"1\" class=\"dataframe\">\n",
       "  <thead>\n",
       "    <tr style=\"text-align: right;\">\n",
       "      <th></th>\n",
       "      <th>left</th>\n",
       "      <th>right</th>\n",
       "      <th>mode</th>\n",
       "      <th>final_state</th>\n",
       "      <th>tf</th>\n",
       "      <th>strand</th>\n",
       "      <th>source</th>\n",
       "    </tr>\n",
       "    <tr>\n",
       "      <th>locus_tag</th>\n",
       "      <th></th>\n",
       "      <th></th>\n",
       "      <th></th>\n",
       "      <th></th>\n",
       "      <th></th>\n",
       "      <th></th>\n",
       "      <th></th>\n",
       "    </tr>\n",
       "  </thead>\n",
       "  <tbody>\n",
       "    <tr>\n",
       "      <th>ECK120011181</th>\n",
       "      <td>612650</td>\n",
       "      <td>612668</td>\n",
       "      <td>repressor</td>\n",
       "      <td>Fur-Fe&lt;SUP&gt;2+&lt;/SUP&gt;</td>\n",
       "      <td>Fur</td>\n",
       "      <td>NaN</td>\n",
       "      <td>RegulonDB</td>\n",
       "    </tr>\n",
       "    <tr>\n",
       "      <th>ECK120011181</th>\n",
       "      <td>612650</td>\n",
       "      <td>612668</td>\n",
       "      <td>repressor</td>\n",
       "      <td>Fur-Fe&lt;SUP&gt;2+&lt;/SUP&gt;</td>\n",
       "      <td>Fur</td>\n",
       "      <td>NaN</td>\n",
       "      <td>RegulonDB</td>\n",
       "    </tr>\n",
       "    <tr>\n",
       "      <th>ECK120011184</th>\n",
       "      <td>4516744</td>\n",
       "      <td>4516762</td>\n",
       "      <td>repressor</td>\n",
       "      <td>Fur-Fe&lt;SUP&gt;2+&lt;/SUP&gt;</td>\n",
       "      <td>Fur</td>\n",
       "      <td>NaN</td>\n",
       "      <td>RegulonDB</td>\n",
       "    </tr>\n",
       "    <tr>\n",
       "      <th>ECK120011188</th>\n",
       "      <td>1619005</td>\n",
       "      <td>1619019</td>\n",
       "      <td>activator</td>\n",
       "      <td>Fis</td>\n",
       "      <td>Fis</td>\n",
       "      <td>NaN</td>\n",
       "      <td>RegulonDB</td>\n",
       "    </tr>\n",
       "    <tr>\n",
       "      <th>ECK120011197</th>\n",
       "      <td>3305958</td>\n",
       "      <td>3305975</td>\n",
       "      <td>activator</td>\n",
       "      <td>TyrR-tyrosine</td>\n",
       "      <td>TyrR</td>\n",
       "      <td>NaN</td>\n",
       "      <td>RegulonDB</td>\n",
       "    </tr>\n",
       "  </tbody>\n",
       "</table>\n",
       "</div>"
      ],
      "text/plain": [
       "                 left    right       mode          final_state    tf  strand  \\\n",
       "locus_tag                                                                      \n",
       "ECK120011181   612650   612668  repressor  Fur-Fe<SUP>2+</SUP>   Fur     NaN   \n",
       "ECK120011181   612650   612668  repressor  Fur-Fe<SUP>2+</SUP>   Fur     NaN   \n",
       "ECK120011184  4516744  4516762  repressor  Fur-Fe<SUP>2+</SUP>   Fur     NaN   \n",
       "ECK120011188  1619005  1619019  activator                  Fis   Fis     NaN   \n",
       "ECK120011197  3305958  3305975  activator        TyrR-tyrosine  TyrR     NaN   \n",
       "\n",
       "                 source  \n",
       "locus_tag                \n",
       "ECK120011181  RegulonDB  \n",
       "ECK120011181  RegulonDB  \n",
       "ECK120011184  RegulonDB  \n",
       "ECK120011188  RegulonDB  \n",
       "ECK120011197  RegulonDB  "
      ]
     },
     "execution_count": 6,
     "metadata": {},
     "output_type": "execute_result"
    }
   ],
   "source": [
    "bitome_tfbs_df = mg1655.tfbs_table[mg1655.tfbs_table['left'].notna()]\n",
    "bitome_tfbs_df['source'] = 'RegulonDB'\n",
    "bitome_tfbs_df.head()"
   ]
  },
  {
   "cell_type": "markdown",
   "metadata": {},
   "source": [
    "# Get Binding Sites from Ye's yTF ChIP-Exo Data"
   ]
  },
  {
   "cell_type": "code",
   "execution_count": 7,
   "metadata": {},
   "outputs": [
    {
     "data": {
      "text/html": [
       "<div>\n",
       "<style scoped>\n",
       "    .dataframe tbody tr th:only-of-type {\n",
       "        vertical-align: middle;\n",
       "    }\n",
       "\n",
       "    .dataframe tbody tr th {\n",
       "        vertical-align: top;\n",
       "    }\n",
       "\n",
       "    .dataframe thead th {\n",
       "        text-align: right;\n",
       "    }\n",
       "</style>\n",
       "<table border=\"1\" class=\"dataframe\">\n",
       "  <thead>\n",
       "    <tr style=\"text-align: right;\">\n",
       "      <th></th>\n",
       "      <th>left</th>\n",
       "      <th>right</th>\n",
       "      <th>tf</th>\n",
       "      <th>mode</th>\n",
       "      <th>final_state</th>\n",
       "      <th>strand</th>\n",
       "      <th>source</th>\n",
       "    </tr>\n",
       "    <tr>\n",
       "      <th>locus_tag</th>\n",
       "      <th></th>\n",
       "      <th></th>\n",
       "      <th></th>\n",
       "      <th></th>\n",
       "      <th></th>\n",
       "      <th></th>\n",
       "      <th></th>\n",
       "    </tr>\n",
       "  </thead>\n",
       "  <tbody>\n",
       "    <tr>\n",
       "      <th>gaos4_0</th>\n",
       "      <td>96929</td>\n",
       "      <td>96970</td>\n",
       "      <td>YidZ</td>\n",
       "      <td>None</td>\n",
       "      <td>None</td>\n",
       "      <td>None</td>\n",
       "      <td>Gao</td>\n",
       "    </tr>\n",
       "    <tr>\n",
       "      <th>gaos4_1</th>\n",
       "      <td>149309</td>\n",
       "      <td>149359</td>\n",
       "      <td>YidZ</td>\n",
       "      <td>None</td>\n",
       "      <td>None</td>\n",
       "      <td>None</td>\n",
       "      <td>Gao</td>\n",
       "    </tr>\n",
       "    <tr>\n",
       "      <th>gaos4_2</th>\n",
       "      <td>213955</td>\n",
       "      <td>213985</td>\n",
       "      <td>YidZ</td>\n",
       "      <td>None</td>\n",
       "      <td>None</td>\n",
       "      <td>None</td>\n",
       "      <td>Gao</td>\n",
       "    </tr>\n",
       "    <tr>\n",
       "      <th>gaos4_3</th>\n",
       "      <td>296762</td>\n",
       "      <td>296809</td>\n",
       "      <td>YidZ</td>\n",
       "      <td>None</td>\n",
       "      <td>None</td>\n",
       "      <td>None</td>\n",
       "      <td>Gao</td>\n",
       "    </tr>\n",
       "    <tr>\n",
       "      <th>gaos4_4</th>\n",
       "      <td>365657</td>\n",
       "      <td>365697</td>\n",
       "      <td>YidZ</td>\n",
       "      <td>None</td>\n",
       "      <td>None</td>\n",
       "      <td>None</td>\n",
       "      <td>Gao</td>\n",
       "    </tr>\n",
       "  </tbody>\n",
       "</table>\n",
       "</div>"
      ],
      "text/plain": [
       "             left   right    tf  mode final_state strand source\n",
       "locus_tag                                                      \n",
       "gaos4_0     96929   96970  YidZ  None        None   None    Gao\n",
       "gaos4_1    149309  149359  YidZ  None        None   None    Gao\n",
       "gaos4_2    213955  213985  YidZ  None        None   None    Gao\n",
       "gaos4_3    296762  296809  YidZ  None        None   None    Gao\n",
       "gaos4_4    365657  365697  YidZ  None        None   None    Gao"
      ]
     },
     "execution_count": 7,
     "metadata": {},
     "output_type": "execute_result"
    }
   ],
   "source": [
    "gao_s4_df = pd.read_excel(Path('..', 'data', 'gao_dataset_s4.xlsx'), sheet_name='pre_formatted')\n",
    "gao_s4_df = gao_s4_df.rename(columns={'Start': 'left', 'End': 'right', 'protein': 'tf'})\n",
    "gao_s4_df = gao_s4_df.drop(columns=['S/N', 'b_number'])\n",
    "gao_s4_df['mode'] = None\n",
    "gao_s4_df['final_state'] = None\n",
    "gao_s4_df['strand'] = None\n",
    "gao_s4_df['source'] = 'Gao'\n",
    "gao_s4_df['locus_tag'] = [f'gaos4_{i}' for i in range(gao_s4_df.shape[0])]\n",
    "gao_s4_df = gao_s4_df.set_index('locus_tag')\n",
    "gao_s4_df.head()"
   ]
  },
  {
   "cell_type": "code",
   "execution_count": 8,
   "metadata": {},
   "outputs": [
    {
     "data": {
      "text/html": [
       "<div>\n",
       "<style scoped>\n",
       "    .dataframe tbody tr th:only-of-type {\n",
       "        vertical-align: middle;\n",
       "    }\n",
       "\n",
       "    .dataframe tbody tr th {\n",
       "        vertical-align: top;\n",
       "    }\n",
       "\n",
       "    .dataframe thead th {\n",
       "        text-align: right;\n",
       "    }\n",
       "</style>\n",
       "<table border=\"1\" class=\"dataframe\">\n",
       "  <thead>\n",
       "    <tr style=\"text-align: right;\">\n",
       "      <th></th>\n",
       "      <th>tf</th>\n",
       "      <th>left</th>\n",
       "      <th>right</th>\n",
       "      <th>mode</th>\n",
       "      <th>final_state</th>\n",
       "      <th>strand</th>\n",
       "      <th>source</th>\n",
       "    </tr>\n",
       "    <tr>\n",
       "      <th>locus_tag</th>\n",
       "      <th></th>\n",
       "      <th></th>\n",
       "      <th></th>\n",
       "      <th></th>\n",
       "      <th></th>\n",
       "      <th></th>\n",
       "      <th></th>\n",
       "    </tr>\n",
       "  </thead>\n",
       "  <tbody>\n",
       "    <tr>\n",
       "      <th>gaos5_0</th>\n",
       "      <td>YeiE</td>\n",
       "      <td>71350</td>\n",
       "      <td>72115</td>\n",
       "      <td>None</td>\n",
       "      <td>None</td>\n",
       "      <td>None</td>\n",
       "      <td>Gao</td>\n",
       "    </tr>\n",
       "    <tr>\n",
       "      <th>gaos5_1</th>\n",
       "      <td>YeiE</td>\n",
       "      <td>79463</td>\n",
       "      <td>80864</td>\n",
       "      <td>None</td>\n",
       "      <td>None</td>\n",
       "      <td>None</td>\n",
       "      <td>Gao</td>\n",
       "    </tr>\n",
       "    <tr>\n",
       "      <th>gaos5_2</th>\n",
       "      <td>YeiE</td>\n",
       "      <td>85629</td>\n",
       "      <td>87354</td>\n",
       "      <td>None</td>\n",
       "      <td>None</td>\n",
       "      <td>None</td>\n",
       "      <td>Gao</td>\n",
       "    </tr>\n",
       "    <tr>\n",
       "      <th>gaos5_3</th>\n",
       "      <td>YeiE</td>\n",
       "      <td>361149</td>\n",
       "      <td>362403</td>\n",
       "      <td>None</td>\n",
       "      <td>None</td>\n",
       "      <td>None</td>\n",
       "      <td>Gao</td>\n",
       "    </tr>\n",
       "    <tr>\n",
       "      <th>gaos5_4</th>\n",
       "      <td>YeiE</td>\n",
       "      <td>430352</td>\n",
       "      <td>431237</td>\n",
       "      <td>None</td>\n",
       "      <td>None</td>\n",
       "      <td>None</td>\n",
       "      <td>Gao</td>\n",
       "    </tr>\n",
       "  </tbody>\n",
       "</table>\n",
       "</div>"
      ],
      "text/plain": [
       "             tf    left   right  mode final_state strand source\n",
       "locus_tag                                                      \n",
       "gaos5_0    YeiE   71350   72115  None        None   None    Gao\n",
       "gaos5_1    YeiE   79463   80864  None        None   None    Gao\n",
       "gaos5_2    YeiE   85629   87354  None        None   None    Gao\n",
       "gaos5_3    YeiE  361149  362403  None        None   None    Gao\n",
       "gaos5_4    YeiE  430352  431237  None        None   None    Gao"
      ]
     },
     "execution_count": 8,
     "metadata": {},
     "output_type": "execute_result"
    }
   ],
   "source": [
    "gao_s5_df = pd.read_excel(Path('..', 'data', 'gao_dataset_s5.xlsx'), sheet_name='pre_formatted_bitome')\n",
    "gao_s5_df = gao_s5_df.rename(columns={'TF': 'tf'})\n",
    "def locus_to_l(locus):\n",
    "    l, r = locus.split(':')[-1].split('-')\n",
    "    return int(l)\n",
    "def locus_to_r(locus):\n",
    "    l, r = locus.split(':')[-1].split('-')\n",
    "    return int(r)\n",
    "gao_s5_df['left'] = gao_s5_df['Locus'].apply(locus_to_l)\n",
    "gao_s5_df['right'] = gao_s5_df['Locus'].apply(locus_to_r)\n",
    "gao_s5_df = gao_s5_df.drop(columns=['Binding Sites', 'b_number', 'Nearest gene', 'Transcription Unit ',\n",
    "                                   'Description', 'Location', 'Locus'])\n",
    "gao_s5_df['mode'] = None\n",
    "gao_s5_df['final_state'] = None\n",
    "gao_s5_df['strand'] = None\n",
    "gao_s5_df['source'] = 'Gao'\n",
    "gao_s5_df['locus_tag'] = [f'gaos5_{i}' for i in range(gao_s5_df.shape[0])]\n",
    "gao_s5_df = gao_s5_df.set_index('locus_tag')\n",
    "gao_s5_df.head()"
   ]
  },
  {
   "cell_type": "markdown",
   "metadata": {},
   "source": [
    "# Combine TFBS and Filter for TFs of Interest"
   ]
  },
  {
   "cell_type": "code",
   "execution_count": 9,
   "metadata": {},
   "outputs": [
    {
     "name": "stdout",
     "output_type": "stream",
     "text": [
      "1107 TFBS for all TFs of interest\n",
      "\n",
      "55 TFs with binding site data:\n",
      "['TyrR' 'ArgP' 'Mlc' 'Nac' 'NtrC' 'SoxS' 'OxyR' 'ArcA' 'Lrp' 'ArgR' 'GadE'\n",
      " 'PurR' 'Cra' 'Rob' 'YiaJ' 'PdhR' 'GadX' 'SdiA' 'YqhC' 'StpA' 'AppY'\n",
      " 'LsrR' 'YidZ' 'YcjW' 'YdcN' 'YfeC' 'YciT' 'YfeD' 'YdhB' 'YdcR' 'YebK'\n",
      " 'YbcM' 'YedW' 'YiaU' 'YhjC' 'YihW' 'YneJ' 'YcaN' 'YgaV' 'YdiP' 'YjhI'\n",
      " 'YbdO' 'YeaM' 'YfiE' 'YahB' 'YbeF' 'YcfQ' 'YihL' 'YidL' 'YehT' 'YgfI'\n",
      " 'YbhD' 'YgbI' 'YhjB' 'YnfL']\n",
      "\n",
      "26 TFs with no binding site data:\n",
      "['YagI', 'YpdC', 'YchA', 'InfA', 'YjdC', 'YiaG', 'YafC', 'CspE', 'YieP', 'YjhU', 'YeiE', 'YeeY', 'YgeR', 'YdcI', 'YihY', 'Tus', 'YbaQ', 'YjjJ', 'HupA', 'YggD', 'YddM', 'YidP', 'YbaO', 'HupB', 'YheO', 'YbiH']\n"
     ]
    }
   ],
   "source": [
    "# Don't actually use S5...it seems to not have precise binding locations\n",
    "all_tfbs_df = pd.concat([bitome_tfbs_df, gao_s4_df])\n",
    "all_tfbs_df_interest = all_tfbs_df[all_tfbs_df['tf'].isin(tfs_of_interest)]\n",
    "all_tfbs_df_interest = all_tfbs_df_interest.drop_duplicates(subset=['left', 'right', 'tf'])\n",
    "all_tfbs_df_interest = all_tfbs_df_interest.drop(columns='strand')\n",
    "\n",
    "tfs_included = all_tfbs_df_interest['tf'].unique()\n",
    "tfs_excluded = list(set(tfs_of_interest) - set(tfs_included))\n",
    "\n",
    "print(f'{all_tfbs_df_interest.shape[0]} TFBS for all TFs of interest')\n",
    "print()\n",
    "print(f'{len(tfs_included)} TFs with binding site data:')\n",
    "print(tfs_included)\n",
    "print()\n",
    "print(f'{len(tfs_excluded)} TFs with no binding site data:')\n",
    "print(tfs_excluded)"
   ]
  },
  {
   "cell_type": "markdown",
   "metadata": {},
   "source": [
    "# Find Overlaps"
   ]
  },
  {
   "cell_type": "code",
   "execution_count": 10,
   "metadata": {},
   "outputs": [],
   "source": [
    "overlap_finding_df = all_tfbs_df_interest.copy()\n",
    "\n",
    "overlap_dfs = []\n",
    "\n",
    "while overlap_finding_df.shape[0] != 0:\n",
    "    tfbs_row = overlap_finding_df.iloc[0, :]\n",
    "    l, r = tfbs_row.left, tfbs_row.right\n",
    "    \n",
    "    overlap_df = overlap_finding_df[\n",
    "        ((overlap_finding_df['left'] < l) & (l < overlap_finding_df['right'])) |\n",
    "        ((overlap_finding_df['left'] < r) & (r < overlap_finding_df['right'])) | \n",
    "        ((overlap_finding_df['left'] > l) & (overlap_finding_df['right'] < r))\n",
    "    ]\n",
    "    if not overlap_df.empty:\n",
    "        overlap_df = overlap_df.append(tfbs_row)\n",
    "        overlap_dfs.append(overlap_df)\n",
    "    drop_idx = [tfbs_row.name] + list(overlap_df.index)\n",
    "    overlap_finding_df = overlap_finding_df.drop(index=drop_idx)\n",
    "    \n",
    "overlap_df = pd.concat(overlap_dfs)"
   ]
  },
  {
   "cell_type": "markdown",
   "metadata": {},
   "source": [
    "# Summarize Overlap Info"
   ]
  },
  {
   "cell_type": "code",
   "execution_count": 123,
   "metadata": {
    "scrolled": true
   },
   "outputs": [
    {
     "name": "stdout",
     "output_type": "stream",
     "text": [
      "192 TFBS are involved in overlaps\n",
      "\n",
      "ArcA: 36\n",
      "SoxS: 16\n",
      "Lrp: 16\n",
      "YqhC: 11\n",
      "GadX: 9\n",
      "YdcN: 9\n",
      "Rob: 8\n",
      "YebK: 8\n",
      "YidZ: 7\n",
      "YdhB: 7\n",
      "YhjC: 6\n",
      "YedW: 5\n",
      "OxyR: 4\n",
      "ArgP: 3\n",
      "Nac: 3\n",
      "Cra: 3\n",
      "NtrC: 3\n",
      "YiaU: 3\n",
      "YjhI: 3\n",
      "GadE: 2\n",
      "YfeC: 2\n",
      "SdiA: 2\n",
      "YciT: 2\n",
      "YbeF: 2\n",
      "YcaN: 2\n",
      "YneJ: 2\n",
      "YdiP: 2\n",
      "YihW: 2\n",
      "YeaM: 2\n",
      "YgaV: 2\n",
      "Mlc: 1\n",
      "YbhD: 1\n",
      "YcjW: 1\n",
      "YfiE: 1\n",
      "YhjB: 1\n",
      "YidL: 1\n",
      "YehT: 1\n",
      "YcfQ: 1\n",
      "YahB: 1\n",
      "YihL: 1\n"
     ]
    }
   ],
   "source": [
    "print(f'{overlap_df.shape[0]} TFBS are involved in overlaps')\n",
    "print()\n",
    "\n",
    "tf_counts = Counter(overlap_df['tf'])\n",
    "for tf, count in sorted(tf_counts.items(), key=lambda tup: tup[1], reverse=True):\n",
    "    print(f'{tf}: {count}')"
   ]
  },
  {
   "cell_type": "markdown",
   "metadata": {},
   "source": [
    "# Write Results to File"
   ]
  },
  {
   "cell_type": "code",
   "execution_count": 124,
   "metadata": {},
   "outputs": [],
   "source": [
    "for i, df in enumerate(overlap_dfs):\n",
    "    with open(Path('..', 'data', 'tfbs_overlap.csv'),'a') as f:\n",
    "        df.to_csv(f, header=(i==0))\n",
    "        f.write(\"\\n\")"
   ]
  },
  {
   "cell_type": "markdown",
   "metadata": {},
   "source": [
    "# Compute Optimal Pools for ChIP-Exo"
   ]
  },
  {
   "cell_type": "code",
   "execution_count": 133,
   "metadata": {},
   "outputs": [
    {
     "name": "stdout",
     "output_type": "stream",
     "text": [
      "Pool 1: ['YdhB', 'Lrp', 'Cra', 'YjhI', 'OxyR', 'YiaU', 'YcfQ', 'YidL', 'Mlc', 'Nac', 'YcjW', 'YgaV', 'YihL', 'TyrR', 'NtrC', 'ArgR', 'PurR', 'YiaJ', 'PdhR', 'SdiA', 'StpA', 'AppY', 'LsrR', 'YfeD', 'YdcR', 'YbcM', 'YbdO', 'YgfI', 'YgbI', 'YnfL']\n",
      "Pool 2: ['YdcN', 'YhjC', 'YneJ', 'SoxS', 'YfeC', 'YdiP', 'ArgP', 'GadE', 'YahB', 'YeaM']\n",
      "Pool 3: ['YqhC', 'Rob', 'YcaN', 'YciT', 'YfiE', 'GadX', 'YehT']\n",
      "Pool 4: ['YidZ', 'YedW', 'ArcA', 'YhjB']\n",
      "Pool 5: ['YebK', 'YbeF']\n",
      "Pool 6: ['YihW', 'YbhD']\n"
     ]
    }
   ],
   "source": [
    "tf_blacklists = {}\n",
    "\n",
    "for tf in tfs_included:\n",
    "    overlap_dfs_with_tf = [odf for odf in overlap_dfs if tf in list(odf['tf'])]\n",
    "    if overlap_dfs_with_tf:\n",
    "        tf_blacklists[tf] = list(set(pd.concat(overlap_dfs_with_tf)['tf'].unique()) - set([tf]))\n",
    "    else:\n",
    "        tf_blacklists[tf] = []\n",
    "        \n",
    "sorted_blacklists = OrderedDict(sorted(tf_blacklists.items(), key=lambda tup: len(tup[1]), reverse=True))\n",
    "\n",
    "blacklists_copy = sorted_blacklists.copy()\n",
    "pools = []\n",
    "\n",
    "while len(blacklists_copy) > 0:\n",
    "    \n",
    "    pool = []\n",
    "    for tf in blacklists_copy.keys():\n",
    "        if not pool:\n",
    "            pool.append(tf)\n",
    "        else:\n",
    "            full_blacklist = list(chain(*[blacklists_copy[pool_tf] for pool_tf in pool]))\n",
    "            if tf not in full_blacklist:\n",
    "                pool.append(tf)\n",
    "    pools.append(pool)\n",
    "    for pool_tf in pool:\n",
    "        del blacklists_copy[pool_tf]\n",
    "        \n",
    "for i, pool in enumerate(pools):\n",
    "    print(f'Pool {i+1}: {pool}')"
   ]
  },
  {
   "cell_type": "code",
   "execution_count": null,
   "metadata": {},
   "outputs": [],
   "source": []
  }
 ],
 "metadata": {
  "kernelspec": {
   "display_name": "Python 3",
   "language": "python",
   "name": "python3"
  },
  "language_info": {
   "codemirror_mode": {
    "name": "ipython",
    "version": 3
   },
   "file_extension": ".py",
   "mimetype": "text/x-python",
   "name": "python",
   "nbconvert_exporter": "python",
   "pygments_lexer": "ipython3",
   "version": "3.8.5"
  },
  "toc": {
   "base_numbering": 1,
   "nav_menu": {},
   "number_sections": true,
   "sideBar": true,
   "skip_h1_title": false,
   "title_cell": "Table of Contents",
   "title_sidebar": "Contents",
   "toc_cell": false,
   "toc_position": {
    "height": "calc(100% - 180px)",
    "left": "10px",
    "top": "150px",
    "width": "384px"
   },
   "toc_section_display": true,
   "toc_window_display": true
  }
 },
 "nbformat": 4,
 "nbformat_minor": 4
}
