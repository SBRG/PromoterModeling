{
 "cells": [
  {
   "cell_type": "markdown",
   "metadata": {},
   "source": [
    "# Next Steps (1/5/21)"
   ]
  },
  {
   "cell_type": "markdown",
   "metadata": {},
   "source": [
    "## 1/5/21"
   ]
  },
  {
   "cell_type": "markdown",
   "metadata": {},
   "source": [
    "- get signed variable importances for regression models\n",
    "\n",
    "- case study for strongest TSS model: do genes with strong secondary TSS do worse?\n",
    "\n",
    "- what is minimal set of features we can augment 1-hot with to get better generalization?\n",
    "    - simplify 1-hot via featurization\n",
    "    - augment 1-hot with cherry-picked additional features\n",
    "    \n",
    "- take first step towards an inventory of feature engineering decisions/parameters\n",
    "\n",
    "- divide genes by expression and fit individual regressors on each subset"
   ]
  },
  {
   "cell_type": "markdown",
   "metadata": {},
   "source": [
    "## 12/18/20"
   ]
  },
  {
   "cell_type": "markdown",
   "metadata": {},
   "source": [
    "- get feedback\n",
    "- error analysis -> which cases are the models getting right vs wrong?\n",
    "- look at variable importances for SVR and RF\n",
    "- can we classify low, medium, and highly expressed genes? \n",
    "    - and if so, can we make quantitative models for just these buckets?\n",
    "- how do we handle slightly offset TSS for same promoter?\n",
    "    - investigate these cases and compare: offset between TSS, difference in TSS signal height\n",
    "    - try to align promoters by -10 box, not TSS\n",
    "        - profile: is this an issue?\n",
    "- within TU vs random expression for E. coli\n",
    "- [lost to aether of Dan's mind]\n",
    "    \n",
    "- Do our features incorporate base pair relationships?\n",
    "    - kmers -> count di- or tri-nucleotides\n",
    "        - drawback: blows up the number of features\n",
    "    - one-hot -> no\n",
    "    - more sophisticated model architecture -> recurrent neural networks\n",
    "        - these require much more data typically (tens of thousands of samples)\n",
    "\n",
    "- can we get more data?\n",
    "    - synthetic promoter libraries\n",
    "    - are there promoter libraries that haven't already been used for this exact purpose but are out there?"
   ]
  },
  {
   "cell_type": "markdown",
   "metadata": {},
   "source": [
    "# Import Packages and Construct Bitome"
   ]
  },
  {
   "cell_type": "code",
   "execution_count": 1,
   "metadata": {},
   "outputs": [],
   "source": [
    "from itertools import chain, product\n",
    "import os\n",
    "from pathlib import Path\n",
    "import shutil\n",
    "import subprocess\n",
    "import sys\n",
    "\n",
    "from Bio.SeqUtils import GC\n",
    "from IPython.display import Image\n",
    "import matplotlib.pyplot as plt\n",
    "import numpy as np\n",
    "import pandas as pd\n",
    "from pingouin import multicomp\n",
    "from scipy.stats import f_oneway, gaussian_kde, mannwhitneyu, ttest_ind\n",
    "import seaborn as sns\n",
    "import shap\n",
    "from sklearn.ensemble import RandomForestClassifier, RandomForestRegressor\n",
    "from sklearn.linear_model import ElasticNet, LogisticRegression\n",
    "from sklearn.metrics import confusion_matrix, r2_score\n",
    "from sklearn.model_selection import cross_validate, train_test_split, RandomizedSearchCV\n",
    "from sklearn.neural_network import MLPClassifier, MLPRegressor\n",
    "from sklearn.preprocessing import StandardScaler\n",
    "from sklearn.svm import SVC, SVR\n",
    "from weblogo import *\n",
    "\n",
    "sys.path.append('../../bitome2')\n",
    "sys.path.append('../')\n",
    "\n",
    "from bitome.core import Bitome\n",
    "from bitome.util import create_motif, genome_point_to_point, score_motif_match\n",
    "\n",
    "pd.set_option('display.max_rows', 100)\n",
    "pd.set_option('display.max_columns', 30)"
   ]
  },
  {
   "cell_type": "code",
   "execution_count": 2,
   "metadata": {},
   "outputs": [],
   "source": [
    "M_FLORUM_DATA_PATH = Path('../data/bitome2/m_florum')"
   ]
  },
  {
   "cell_type": "code",
   "execution_count": 3,
   "metadata": {},
   "outputs": [],
   "source": [
    "# terminus is assumed to be at the opposite end from the origin\n",
    "m_florum = Bitome(\n",
    "    Path(M_FLORUM_DATA_PATH, 'Mesoplasma_florum_L1.fasta'),\n",
    "    origin=(1, 1), terminus=(396612, 396612),\n",
    "    gene_table=Path(M_FLORUM_DATA_PATH, 'gene.csv'),\n",
    "    terminator_table=Path(M_FLORUM_DATA_PATH, 'terminator.csv'),\n",
    "    tss_table=Path(M_FLORUM_DATA_PATH, 'tss.csv'),\n",
    "    tu_table=Path(M_FLORUM_DATA_PATH, 'tu.csv')\n",
    ")"
   ]
  },
  {
   "cell_type": "code",
   "execution_count": 4,
   "metadata": {},
   "outputs": [
    {
     "data": {
      "text/html": [
       "<div>\n",
       "<style scoped>\n",
       "    .dataframe tbody tr th:only-of-type {\n",
       "        vertical-align: middle;\n",
       "    }\n",
       "\n",
       "    .dataframe tbody tr th {\n",
       "        vertical-align: top;\n",
       "    }\n",
       "\n",
       "    .dataframe thead th {\n",
       "        text-align: right;\n",
       "    }\n",
       "</style>\n",
       "<table border=\"1\" class=\"dataframe\">\n",
       "  <thead>\n",
       "    <tr style=\"text-align: right;\">\n",
       "      <th></th>\n",
       "      <th>left</th>\n",
       "      <th>right</th>\n",
       "      <th>strand</th>\n",
       "      <th>KO</th>\n",
       "      <th>category</th>\n",
       "      <th>subcategory</th>\n",
       "      <th>subsubcategory</th>\n",
       "      <th>product_name</th>\n",
       "      <th>name</th>\n",
       "      <th>fpkm</th>\n",
       "      <th>primary_tu</th>\n",
       "      <th>log_fpkm</th>\n",
       "    </tr>\n",
       "    <tr>\n",
       "      <th>locus_tag</th>\n",
       "      <th></th>\n",
       "      <th></th>\n",
       "      <th></th>\n",
       "      <th></th>\n",
       "      <th></th>\n",
       "      <th></th>\n",
       "      <th></th>\n",
       "      <th></th>\n",
       "      <th></th>\n",
       "      <th></th>\n",
       "      <th></th>\n",
       "      <th></th>\n",
       "    </tr>\n",
       "  </thead>\n",
       "  <tbody>\n",
       "    <tr>\n",
       "      <th>peg.1</th>\n",
       "      <td>1.0</td>\n",
       "      <td>1332.0</td>\n",
       "      <td>1</td>\n",
       "      <td>K02313</td>\n",
       "      <td>Genetic Information Processing</td>\n",
       "      <td>DNA Maintenance</td>\n",
       "      <td>DNA replication and partition</td>\n",
       "      <td>dnaA, chromosomal replication initiator protein</td>\n",
       "      <td>dnaA</td>\n",
       "      <td>192.793077</td>\n",
       "      <td>NaN</td>\n",
       "      <td>5.266791</td>\n",
       "    </tr>\n",
       "    <tr>\n",
       "      <th>peg.2</th>\n",
       "      <td>1560.0</td>\n",
       "      <td>2681.0</td>\n",
       "      <td>1</td>\n",
       "      <td>K02338</td>\n",
       "      <td>Genetic Information Processing</td>\n",
       "      <td>DNA Maintenance</td>\n",
       "      <td>DNA replication and partition</td>\n",
       "      <td>dnaN, DNA polymerase III subunit beta [EC:2.7....</td>\n",
       "      <td>dnaN</td>\n",
       "      <td>642.952373</td>\n",
       "      <td>TU_002</td>\n",
       "      <td>6.467625</td>\n",
       "    </tr>\n",
       "    <tr>\n",
       "      <th>peg.3</th>\n",
       "      <td>2708.0</td>\n",
       "      <td>3682.0</td>\n",
       "      <td>-1</td>\n",
       "      <td>K03569</td>\n",
       "      <td>Cellular Processes</td>\n",
       "      <td>Cytoskeleton</td>\n",
       "      <td>Cytoskeleton proteins</td>\n",
       "      <td>mreB, rod shape-determining protein MreB and r...</td>\n",
       "      <td>mreB</td>\n",
       "      <td>2046.205311</td>\n",
       "      <td>TU_004</td>\n",
       "      <td>7.624231</td>\n",
       "    </tr>\n",
       "    <tr>\n",
       "      <th>peg.4</th>\n",
       "      <td>3751.0</td>\n",
       "      <td>4278.0</td>\n",
       "      <td>1</td>\n",
       "      <td>K05985</td>\n",
       "      <td>Genetic Information Processing</td>\n",
       "      <td>Folding, Sorting and Degradation</td>\n",
       "      <td>Nucleases</td>\n",
       "      <td>rnmV, ribonuclease M5 [EC:3.1.26.8]</td>\n",
       "      <td>rnmV</td>\n",
       "      <td>8.156475</td>\n",
       "      <td>TU_005</td>\n",
       "      <td>2.214461</td>\n",
       "    </tr>\n",
       "    <tr>\n",
       "      <th>peg.5</th>\n",
       "      <td>4280.0</td>\n",
       "      <td>5083.0</td>\n",
       "      <td>1</td>\n",
       "      <td>K02528</td>\n",
       "      <td>Genetic Information Processing</td>\n",
       "      <td>Translation</td>\n",
       "      <td>Ribosome biogenesis</td>\n",
       "      <td>ksgA, 16S rRNA (adenine1518-N6/adenine1519-N6)...</td>\n",
       "      <td>ksgA</td>\n",
       "      <td>215.862583</td>\n",
       "      <td>TU_005</td>\n",
       "      <td>5.379264</td>\n",
       "    </tr>\n",
       "  </tbody>\n",
       "</table>\n",
       "</div>"
      ],
      "text/plain": [
       "             left   right  strand      KO                        category  \\\n",
       "locus_tag                                                                   \n",
       "peg.1         1.0  1332.0       1  K02313  Genetic Information Processing   \n",
       "peg.2      1560.0  2681.0       1  K02338  Genetic Information Processing   \n",
       "peg.3      2708.0  3682.0      -1  K03569              Cellular Processes   \n",
       "peg.4      3751.0  4278.0       1  K05985  Genetic Information Processing   \n",
       "peg.5      4280.0  5083.0       1  K02528  Genetic Information Processing   \n",
       "\n",
       "                                subcategory                 subsubcategory  \\\n",
       "locus_tag                                                                    \n",
       "peg.1                       DNA Maintenance  DNA replication and partition   \n",
       "peg.2                       DNA Maintenance  DNA replication and partition   \n",
       "peg.3                          Cytoskeleton          Cytoskeleton proteins   \n",
       "peg.4      Folding, Sorting and Degradation                      Nucleases   \n",
       "peg.5                           Translation            Ribosome biogenesis   \n",
       "\n",
       "                                                product_name  name  \\\n",
       "locus_tag                                                            \n",
       "peg.1        dnaA, chromosomal replication initiator protein  dnaA   \n",
       "peg.2      dnaN, DNA polymerase III subunit beta [EC:2.7....  dnaN   \n",
       "peg.3      mreB, rod shape-determining protein MreB and r...  mreB   \n",
       "peg.4                    rnmV, ribonuclease M5 [EC:3.1.26.8]  rnmV   \n",
       "peg.5      ksgA, 16S rRNA (adenine1518-N6/adenine1519-N6)...  ksgA   \n",
       "\n",
       "                  fpkm primary_tu  log_fpkm  \n",
       "locus_tag                                    \n",
       "peg.1       192.793077        NaN  5.266791  \n",
       "peg.2       642.952373     TU_002  6.467625  \n",
       "peg.3      2046.205311     TU_004  7.624231  \n",
       "peg.4         8.156475     TU_005  2.214461  \n",
       "peg.5       215.862583     TU_005  5.379264  "
      ]
     },
     "execution_count": 4,
     "metadata": {},
     "output_type": "execute_result"
    }
   ],
   "source": [
    "m_florum.gene_table.head()"
   ]
  },
  {
   "cell_type": "markdown",
   "metadata": {},
   "source": [
    "# Investigate Expression"
   ]
  },
  {
   "cell_type": "markdown",
   "metadata": {},
   "source": [
    "Ultimately the TU is what is transcribed; but how consistent are the FPKM values for the genes within a single TU? Of course this only applies to TUs with multiple genes"
   ]
  },
  {
   "cell_type": "markdown",
   "metadata": {},
   "source": [
    "## Variance within TUs"
   ]
  },
  {
   "cell_type": "code",
   "execution_count": 6,
   "metadata": {},
   "outputs": [
    {
     "name": "stdout",
     "output_type": "stream",
     "text": [
      "Most genes in single TU: 21\n"
     ]
    }
   ],
   "source": [
    "tu_expression_dict = {}\n",
    "\n",
    "# to avoid -inf with log\n",
    "ETA = 1\n",
    "\n",
    "gene_counts = []\n",
    "for tu_row in m_florum.tu_table.itertuples():\n",
    "    genes = list(set(tu_row.gene_names.split(';')).intersection(set(list(m_florum.gene_table.index))))\n",
    "    gene_expressions = np.log(np.array(m_florum.gene_table.loc[genes, 'fpkm']) + ETA)\n",
    "    if len(gene_expressions) > 1:\n",
    "        tu_expression_dict[tu_row.Index] = gene_expressions\n",
    "        gene_counts.append(len(gene_expressions))\n",
    "        \n",
    "print(f'Most genes in single TU: {max(gene_counts)}')"
   ]
  },
  {
   "cell_type": "code",
   "execution_count": 7,
   "metadata": {},
   "outputs": [
    {
     "data": {
      "text/plain": [
       "Text(0.5, 0.87, 'P=3.89E-06')"
      ]
     },
     "execution_count": 7,
     "metadata": {},
     "output_type": "execute_result"
    },
    {
     "data": {
      "image/png": "[encoded data removed]",
      "text/plain": [
       "<Figure size 432x288 with 1 Axes>"
      ]
     },
     "metadata": {
      "needs_background": "light"
     },
     "output_type": "display_data"
    }
   ],
   "source": [
    "sd_within_tu = [np.std(exps) for exps in tu_expression_dict.values()]\n",
    "\n",
    "# bootstrap by random sample groups of genes and getting their standard deviations; have to random sample \n",
    "# the number of genes too; sample from the same distribution as the empirical one\n",
    "\n",
    "tu_size_kde = gaussian_kde(gene_counts)\n",
    "\n",
    "sds_random = []\n",
    "for i in range(len(sd_within_tu)):\n",
    "    rand_n_genes = int(max(2, np.round(tu_size_kde.resample(1).flatten()[0])))\n",
    "    gene_idxes = np.random.choice(len(sd_within_tu), rand_n_genes)\n",
    "    exps = np.log(np.array(m_florum.gene_table.iloc[gene_idxes, :]['fpkm']) + ETA)\n",
    "    sds_random.append(np.std(exps))\n",
    "    \n",
    "t_stat, p_val = ttest_ind(sd_within_tu, sds_random, equal_var=False)\n",
    "    \n",
    "tu_exp_sd_df = pd.DataFrame(data={'Within TU': sd_within_tu, 'Random': sds_random})\n",
    "ax = tu_exp_sd_df.boxplot()\n",
    "ax.tick_params(axis='both', labelsize=13)\n",
    "ax.set_ylabel('SD of log[FPKM]')\n",
    "ax.text(0.5, 0.87, f'P={p_val:.2E}', fontsize=13, transform=ax.transAxes, ha='center')"
   ]
  },
  {
   "cell_type": "markdown",
   "metadata": {},
   "source": [
    "Okay, so it does seem visually as though variance in detected expression for genes within the same TU is markedly lower than that of randomly selected genes. However, there is still some decent variation there.\n",
    "\n",
    "So we should try:\n",
    "- predicting the average expression of the TU from the constituent genes based on TU's promoter\n",
    "- predicting the expression of the first gene in the TU from the promoter\n",
    "- using all gene expressions individually but with same promoter if in same TU (this seems like it'll be toughest for the model if the genes in the TU have different expressions; it'll be a duplicate sample with a different target value?)\n",
    "- averaging the promoters associated with the same gene"
   ]
  },
  {
   "cell_type": "markdown",
   "metadata": {},
   "source": [
    "## Expression Distribution"
   ]
  },
  {
   "cell_type": "code",
   "execution_count": 8,
   "metadata": {},
   "outputs": [
    {
     "data": {
      "text/plain": [
       "Text(0.5, 1.0, 'M. florum Gene Expression Distribution')"
      ]
     },
     "execution_count": 8,
     "metadata": {},
     "output_type": "execute_result"
    },
    {
     "data": {
      "image/png": "[encoded data removed]",
      "text/plain": [
       "<Figure size 576x360 with 1 Axes>"
      ]
     },
     "metadata": {
      "needs_background": "light"
     },
     "output_type": "display_data"
    }
   ],
   "source": [
    "_, ax = plt.subplots(figsize=(8, 5))\n",
    "sns.boxplot(x='fpkm', data=m_florum.gene_table, ax=ax)\n",
    "ax.set_xlabel('Mean FPKM', fontsize=13)\n",
    "ax.tick_params(axis='x', labelsize=12)\n",
    "ax.set_title('M. florum Gene Expression Distribution', fontsize=14)"
   ]
  },
  {
   "cell_type": "code",
   "execution_count": null,
   "metadata": {},
   "outputs": [],
   "source": [
    "gene_table_log = m_florum.gene_table.copy()\n",
    "gene_table_log['log_fpkm'] = gene_table_log['mean_fpkm'].apply(np.log)"
   ]
  },
  {
   "cell_type": "code",
   "execution_count": null,
   "metadata": {},
   "outputs": [],
   "source": [
    "_, ax = plt.subplots(figsize=(8, 5))\n",
    "sns.boxplot(x='log_fpkm', data=gene_table_log, ax=ax)\n",
    "ax.set_xlabel('Log FPKM', fontsize=13)\n",
    "ax.tick_params(axis='x', labelsize=12)"
   ]
  },
  {
   "cell_type": "markdown",
   "metadata": {},
   "source": [
    "Not sure which is better, so let's prepare a target lookup with 4 possibilities:\n",
    "- raw FPKM\n",
    "- log2-transformed FPKM\n",
    "- standard normalized raw FPKM\n",
    "- log2-transformed, standard normalized FPKM"
   ]
  },
  {
   "cell_type": "code",
   "execution_count": null,
   "metadata": {},
   "outputs": [],
   "source": [
    "target_df = pd.DataFrame(m_florum.gene_table['mean_fpkm'])\n",
    "target_df['mean_fpkm'] = target_df['mean_fpkm'] + ETA\n",
    "target_df['fpkm_log'] = target_df['mean_fpkm'].apply(np.log)\n",
    "target_df['fpkm_log_stand'] = StandardScaler().fit_transform(target_df['fpkm_log'].values.reshape(-1, 1))\n",
    "target_df['fpkm_stand'] = StandardScaler().fit_transform(target_df['mean_fpkm'].values.reshape(-1, 1))\n",
    "target_df.head()"
   ]
  },
  {
   "cell_type": "markdown",
   "metadata": {},
   "source": [
    "Validate these transformations with boxplots"
   ]
  },
  {
   "cell_type": "code",
   "execution_count": null,
   "metadata": {},
   "outputs": [],
   "source": [
    "target_df.drop(columns='mean_fpkm').boxplot()"
   ]
  },
  {
   "cell_type": "code",
   "execution_count": null,
   "metadata": {},
   "outputs": [],
   "source": [
    "print(f\"Log stand mean: {target_df['fpkm_log_stand'].mean()}\")\n",
    "print(f\"Log stand SD: {target_df['fpkm_log_stand'].std()}\")\n",
    "print(f\"Stand mean: {target_df['fpkm_stand'].mean()}\")\n",
    "print(f\"Stand SD: {target_df['fpkm_stand'].std()}\")"
   ]
  },
  {
   "cell_type": "markdown",
   "metadata": {},
   "source": [
    "# TSS Alignment Investigation\n",
    "\n",
    "We know that many genes are transcribed from multiple TSSes:\n",
    "- what are the relative strengths of these TSSes? \n",
    "- should we average the one-hot sequence of all TSSes for a gene, or use the strongest?\n",
    "- should we align multiple TSS at the TSS itself, or at the -10 box location?"
   ]
  },
  {
   "cell_type": "markdown",
   "metadata": {},
   "source": [
    "## Signal Height vs RSPM"
   ]
  },
  {
   "cell_type": "code",
   "execution_count": null,
   "metadata": {},
   "outputs": [],
   "source": [
    "sns.scatterplot(x='signal_height', y='rspm', data=m_florum.tss_table)"
   ]
  },
  {
   "cell_type": "markdown",
   "metadata": {},
   "source": [
    "So these seem to be perfectly correlated metrics; let's use RSPM to assess TSS strength\n",
    "\n",
    "RSPM = number of read starts per million of mapped reads"
   ]
  },
  {
   "cell_type": "markdown",
   "metadata": {},
   "source": [
    "## Relative TSS Strength for Multi-TSS Genes"
   ]
  },
  {
   "cell_type": "code",
   "execution_count": null,
   "metadata": {},
   "outputs": [],
   "source": [
    "tu_to_genes = dict(zip(m_florum.tu_table.index, m_florum.tu_table['gene_names']))\n",
    "tu_to_genes = {k: v.split(';') for k, v in tu_to_genes.items()}"
   ]
  },
  {
   "cell_type": "code",
   "execution_count": null,
   "metadata": {},
   "outputs": [],
   "source": [
    "tss_rspm_by_gene = []\n",
    "\n",
    "for gene_row in m_florum.gene_table.itertuples():\n",
    "    tus_for_gene = [tu for tu, genes in tu_to_genes.items() if gene_row.Index in genes]\n",
    "    if len(tus_for_gene) > 1:\n",
    "        gene_tu_df = m_florum.tu_table.loc[tus_for_gene, :]\n",
    "        gene_tsses = gene_tu_df['tss']\n",
    "        gene_tss_df = m_florum.tss_table[m_florum.tss_table['tss'].isin(gene_tsses)]\n",
    "        if gene_tss_df.shape[0] > 1:\n",
    "            tss_rspm_by_gene.append(list(gene_tss_df['rspm']))\n",
    "        \n",
    "rspm_stepdowns = {0: [1]*len(tss_rspm_by_gene)}\n",
    "\n",
    "for g_rspms in tss_rspm_by_gene:\n",
    "    rspm_sort = sorted(g_rspms, reverse=True)\n",
    "    for i in range(1, len(rspm_sort)):\n",
    "        if i in rspm_stepdowns:\n",
    "            rspm_stepdowns[i].append(rspm_sort[i]/rspm_sort[0])\n",
    "        else:\n",
    "            rspm_stepdowns[i] = [rspm_sort[i]/rspm_sort[0]]"
   ]
  },
  {
   "cell_type": "code",
   "execution_count": null,
   "metadata": {},
   "outputs": [],
   "source": [
    "_, ax = plt.subplots(figsize=(8, 5))\n",
    "\n",
    "ax.boxplot(list(rspm_stepdowns.values()))\n",
    "ax.set_xticklabels([f'{i+1} (n={len(vals)})' for i, vals in enumerate(rspm_stepdowns.values())])\n",
    "ax.set_xlabel('Ordered TSS for Gene', fontsize=13)\n",
    "ax.set_ylabel('RSPM Rel. to Largest', fontsize=13)\n",
    "ax.tick_params(axis='both', labelsize=12)\n",
    "ax.set_title('Relative Strengths of Minor TSSes', fontsize=14)"
   ]
  },
  {
   "cell_type": "markdown",
   "metadata": {},
   "source": [
    "So we're seeing that the secondary TSSes have a side range but are mostly much weaker than the primary. Tertiary and quaternary TSS are much less strong. Perhaps we should exclude the 3rd and 4th TSS where applicable (not many)"
   ]
  },
  {
   "cell_type": "markdown",
   "metadata": {},
   "source": [
    "## TSS Distances"
   ]
  },
  {
   "cell_type": "code",
   "execution_count": null,
   "metadata": {},
   "outputs": [],
   "source": [
    "tss_min_ranges = []\n",
    "tss_max_ranges = []\n",
    "\n",
    "for gene_row in m_florum.gene_table.itertuples():\n",
    "    tus_for_gene = [tu for tu, genes in tu_to_genes.items() if gene_row.Index in genes]\n",
    "    if len(tus_for_gene) > 1:\n",
    "        gene_tu_df = m_florum.tu_table.loc[tus_for_gene, :]\n",
    "        gene_tsses = sorted(list(gene_tu_df['tss']))\n",
    "        diffs = np.array(gene_tsses[1:]) - np.array(gene_tsses[:-1])\n",
    "        tss_min_ranges.append(min(diffs))\n",
    "        tss_max_ranges.append(max(diffs))"
   ]
  },
  {
   "cell_type": "code",
   "execution_count": null,
   "metadata": {},
   "outputs": [],
   "source": [
    "_, ax = plt.subplots(figsize=(8, 5))\n",
    "\n",
    "ax.boxplot([tss_min_ranges, tss_max_ranges], vert=False)\n",
    "ax.set_yticklabels(['Min', 'Max'])\n",
    "ax.set_xticks(np.arange(0, 10000, 1000))\n",
    "ax.set_xlabel('Inter-TSS Distance for Single Gene (bp)', fontsize=13)\n",
    "ax.tick_params(axis='both', labelsize=12)"
   ]
  },
  {
   "cell_type": "markdown",
   "metadata": {},
   "source": [
    "## TSS to -10 Box Distances"
   ]
  },
  {
   "cell_type": "code",
   "execution_count": null,
   "metadata": {},
   "outputs": [],
   "source": [
    "_, ax = plt.subplots(figsize=(8, 5))\n",
    "\n",
    "ax.boxplot(m_florum.tss_table['tss_box_10_dist'], vert=False)\n",
    "ax.set_yticklabels([''])\n",
    "ax.set_xlabel('TSS to Start of -10 Box (bp)', fontsize=13)\n",
    "ax.set_title('TSS and -10 Box Relative Locations', fontsize=13)\n",
    "ax.tick_params(axis='both', labelsize=12)"
   ]
  },
  {
   "cell_type": "markdown",
   "metadata": {},
   "source": [
    "This suggests that we may want to align promoters at the -10 box and not at the TSS for the same gene. We will do so below."
   ]
  },
  {
   "cell_type": "markdown",
   "metadata": {},
   "source": [
    "# Prepare X and y - One-Hot"
   ]
  },
  {
   "cell_type": "code",
   "execution_count": null,
   "metadata": {},
   "outputs": [],
   "source": [
    "N_UP, N_DOWN = 50, 10\n",
    "\n",
    "one_hot_tus = m_florum.one_hot_encode_tu_promoters(N_UP, N_DOWN)\n",
    "one_hot_tus"
   ]
  },
  {
   "cell_type": "code",
   "execution_count": null,
   "metadata": {},
   "outputs": [],
   "source": [
    "X_y_to_use = {}"
   ]
  },
  {
   "cell_type": "markdown",
   "metadata": {},
   "source": [
    "## TU Expression-Based\n",
    "\n",
    "Averaged Across all TU Genes (tu_avg)\n",
    "\n",
    "TU Expression of First Gene (tu_first)"
   ]
  },
  {
   "cell_type": "code",
   "execution_count": null,
   "metadata": {},
   "outputs": [],
   "source": [
    "tu_names = []\n",
    "tu_avgs = []\n",
    "tu_first_exps = []\n",
    "\n",
    "for tu_tag in one_hot_tus.index:\n",
    "    tu_genes = m_florum.tu_table.loc[tu_tag, 'gene_names'].split(';')\n",
    "    tu_genes_in_gene_table = list(set(tu_genes).intersection(set(list(m_florum.gene_table.index))))\n",
    "    if len(tu_genes_in_gene_table) > 0:\n",
    "        tu_names.append(tu_tag)\n",
    "        tu_gene_df = m_florum.gene_table.loc[tu_genes_in_gene_table, :]\n",
    "        # do the averaging of all tus\n",
    "        tu_avgs.append(np.mean(tu_gene_df['mean_fpkm']))\n",
    "        # figure out the first gene in the TU and just record that\n",
    "        first_gene_exp = tu_gene_df[tu_gene_df['left'] == min(tu_gene_df['left'])].iloc[0, :]['mean_fpkm']\n",
    "        tu_first_exps.append(first_gene_exp)\n",
    "        \n",
    "\n",
    "X_tu_avg = one_hot_tus.loc[tu_names, :]\n",
    "y_tu_avg = pd.Series(tu_avgs, index=tu_names)\n",
    "X_y_to_use['tu_avg'] = (X_tu_avg, y_tu_avg)\n",
    "\n",
    "X_tu_first = one_hot_tus.loc[tu_names, :]\n",
    "y_tu_first = pd.Series(tu_first_exps, index=tu_names)\n",
    "X_y_to_use['tu_first'] = (X_tu_first, y_tu_first)"
   ]
  },
  {
   "cell_type": "markdown",
   "metadata": {},
   "source": [
    "## Gene Expression-Based\n",
    "\n",
    "Using Average of Promoters for All TUs Containing Gene (gene_prom_avg)\n",
    "- also with promoters aligned by -10 box and not TSS (gene_prom_avg_m10)\n",
    "\n",
    "Using strongest TSS for each gene (gene_strong_tss)"
   ]
  },
  {
   "cell_type": "code",
   "execution_count": null,
   "metadata": {},
   "outputs": [],
   "source": [
    "tu_to_genes = dict(zip(m_florum.tu_table.index, m_florum.tu_table['gene_names']))\n",
    "tu_to_genes = {k: v.split(';') for k, v in tu_to_genes.items()}"
   ]
  },
  {
   "cell_type": "code",
   "execution_count": null,
   "metadata": {},
   "outputs": [],
   "source": [
    "M10_UP = 44\n",
    "M10_DOWN = 16\n",
    "\n",
    "gene_names = []\n",
    "gene_names_m10 = []\n",
    "gene_one_hot_promoter_rows = []\n",
    "gene_oh_prom_m10_rows = []\n",
    "gene_one_hot_prom_rows_strong = []\n",
    "\n",
    "gene_exps = []\n",
    "gene_exps_m10 = []\n",
    "\n",
    "for gene_row in m_florum.gene_table.itertuples():\n",
    "    tus_for_gene = [tu for tu, genes in tu_to_genes.items() if gene_row.Index in genes]\n",
    "    if tus_for_gene:\n",
    "        \n",
    "        tu_one_hots = one_hot_tus.loc[tus_for_gene, :]\n",
    "        tu_one_hot_avg = tu_one_hots.mean(axis=0)\n",
    "        gene_one_hot_promoter_rows.append(tu_one_hot_avg)\n",
    "        \n",
    "        gene_tu_df = m_florum.tu_table.loc[tus_for_gene, :]\n",
    "        \n",
    "        m10_one_hots = []\n",
    "        for tu_row in gene_tu_df.itertuples():\n",
    "            if not pd.isna(tu_row.box_10_right):\n",
    "                if tu_row.strand == 1:\n",
    "                    m10_anchor = tu_row.box_10_right\n",
    "                    m10_one_hot = m_florum.one_hot_encode_sequence(m10_anchor-M10_UP, m10_anchor+M10_DOWN, 1)\n",
    "                    m10_one_hots.append(m10_one_hot)\n",
    "                else:\n",
    "                    m10_anchor = tu_row.box_10_left\n",
    "                    m10_one_hot = m_florum.one_hot_encode_sequence(m10_anchor-M10_DOWN, m10_anchor+M10_UP, -1)\n",
    "                    m10_one_hots.append(m10_one_hot)\n",
    "        if m10_one_hots:\n",
    "            gene_names_m10.append(gene_row.Index)\n",
    "            gene_exps_m10.append(gene_row.mean_fpkm)\n",
    "            m10_oh_avg_row = pd.DataFrame(m10_one_hots).mean(axis=0)\n",
    "            gene_oh_prom_m10_rows.append(m10_oh_avg_row)\n",
    "        \n",
    "        def tss_to_rspm(tss):\n",
    "            tss_df = m_florum.tss_table[m_florum.tss_table['tss'] == tss]\n",
    "            if tss_df.empty:\n",
    "                return None\n",
    "            else:\n",
    "                return tss_df.iloc[0, :]['rspm']\n",
    "        gene_tu_df['rspm'] = gene_tu_df['tss'].apply(tss_to_rspm)\n",
    "        gene_tu_df = gene_tu_df.sort_values(by='rspm', ascending=False)\n",
    "        strong_tu = gene_tu_df.index[0]\n",
    "        strong_tu_oh = one_hot_tus.loc[strong_tu, :]\n",
    "        gene_one_hot_prom_rows_strong.append(strong_tu_oh)\n",
    "        \n",
    "        gene_names.append(gene_row.Index)\n",
    "        gene_exps.append(gene_row.mean_fpkm)\n",
    "\n",
    "X_gene_prom_avg = pd.DataFrame(gene_one_hot_promoter_rows, index=gene_names)\n",
    "y_prom_avg = pd.Series(gene_exps, index=gene_names)\n",
    "X_y_to_use['gene_prom_avg'] = (X_gene_prom_avg, y_prom_avg)\n",
    "\n",
    "X_gene_prom_avg_m10 = pd.DataFrame(gene_oh_prom_m10_rows, index=gene_names_m10)\n",
    "y_prom_avg_m10 = pd.Series(gene_exps_m10, index=gene_names_m10)\n",
    "X_y_to_use['gene_prom_avg_m10'] = (X_gene_prom_avg_m10, y_prom_avg_m10)\n",
    "\n",
    "X_strong_tss = pd.DataFrame(gene_one_hot_prom_rows_strong, index=gene_names)\n",
    "y_strong_tss = pd.Series(gene_exps, index=gene_names)\n",
    "X_y_to_use['gene_strong_tss'] = (X_strong_tss, y_strong_tss)"
   ]
  },
  {
   "cell_type": "markdown",
   "metadata": {},
   "source": [
    "## Finalize XY to Use"
   ]
  },
  {
   "cell_type": "code",
   "execution_count": null,
   "metadata": {},
   "outputs": [],
   "source": [
    "del X_y_to_use['tu_avg']\n",
    "del X_y_to_use['tu_first']\n",
    "del X_y_to_use['gene_prom_avg']\n",
    "del X_y_to_use['gene_prom_avg_m10']"
   ]
  },
  {
   "cell_type": "markdown",
   "metadata": {},
   "source": [
    "## Set Aside Lockbox Data"
   ]
  },
  {
   "cell_type": "code",
   "execution_count": null,
   "metadata": {},
   "outputs": [],
   "source": [
    "Xy_train_to_use = {}\n",
    "Xy_lockbox_to_use = {}\n",
    "\n",
    "for name, (X, y) in X_y_to_use.items():\n",
    "    if X.shape[0] > 500:\n",
    "        test_size = 0.1\n",
    "    else:\n",
    "        test_size = 0.2\n",
    "    X_train, X_lockbox, y_train, y_lockbox = train_test_split(X, y, test_size=test_size, random_state=42)\n",
    "    Xy_train_to_use[name] = (X_train, y_train)\n",
    "    Xy_lockbox_to_use[name] = (X_lockbox, y_lockbox)"
   ]
  },
  {
   "cell_type": "markdown",
   "metadata": {},
   "source": [
    "# Set Up Models to Try - Regression"
   ]
  },
  {
   "cell_type": "code",
   "execution_count": null,
   "metadata": {},
   "outputs": [],
   "source": [
    "models_to_try = {\n",
    "    'ElasticNet': ElasticNet(),\n",
    "    'SVR': SVR(),\n",
    "    'RF': RandomForestRegressor(n_jobs=4),\n",
    "    'NN': MLPRegressor()\n",
    "}"
   ]
  },
  {
   "cell_type": "markdown",
   "metadata": {},
   "source": [
    "# Initial Model Profiling - One-Hot\n",
    "\n",
    "For each model:\n",
    "- for each Xy pair:\n",
    "    - try all 8 combinations of the following:\n",
    "        - raw and normalized X matrix\n",
    "        - raw, normalized, log-transformed, and log-transformed + normalized targets (expressions)"
   ]
  },
  {
   "cell_type": "code",
   "execution_count": null,
   "metadata": {
    "scrolled": true
   },
   "outputs": [],
   "source": [
    "initial_profile_df = pd.DataFrame(\n",
    "    columns=['model', 'xy', 'train_r2', 'val_r2']\n",
    ")\n",
    "\n",
    "N_CV = 5\n",
    "\n",
    "for model_name, model in models_to_try.items():\n",
    "    for Xy_name, (X_train_raw, y_train_raw) in Xy_train_to_use.items():\n",
    "        \n",
    "        X_train_norm = StandardScaler().fit_transform(X_train_raw)\n",
    "        y_train_norm = StandardScaler().fit_transform(y_train_raw.values.reshape(-1, 1))\n",
    "        y_train_log = np.log(y_train_raw + ETA)\n",
    "        y_train_norm_log = StandardScaler().fit_transform(y_train_log.values.reshape(-1, 1))\n",
    "        \n",
    "        X_list = [('X_raw', X_train_raw), ('X_norm', X_train_norm)]\n",
    "        y_list = [('y_raw', y_train_raw), ('y_norm', y_train_norm),\n",
    "                 ('y_log', y_train_log), ('y_norm_log', y_train_norm_log)]\n",
    "        \n",
    "        Xy_final = {}\n",
    "        for (X_lab, X_mat), (y_lab, y_mat) in product(X_list, y_list):\n",
    "            Xy_lab_final = f'{Xy_name}__{X_lab}__{y_lab}'\n",
    "            Xy_final[Xy_lab_final] = (X_mat, y_mat)\n",
    "            \n",
    "        for Xy_full_name, (X_to_use, y_to_use) in Xy_final.items():\n",
    "\n",
    "            print(f'{model_name}: {Xy_full_name}')\n",
    "\n",
    "            cv_result = cross_validate(\n",
    "                model,\n",
    "                X_to_use,\n",
    "                y=y_to_use,\n",
    "                cv=N_CV,\n",
    "                scoring='r2',\n",
    "                return_train_score=True,\n",
    "                verbose=1,\n",
    "                n_jobs=N_CV\n",
    "            )\n",
    "\n",
    "            sub_result_df = pd.DataFrame(\n",
    "                data={\n",
    "                    'model': [model_name] * N_CV,\n",
    "                    'xy': [Xy_full_name] * N_CV,\n",
    "                    'train_r2': cv_result['train_score'],\n",
    "                    'val_r2': cv_result['test_score']\n",
    "                }\n",
    "            )\n",
    "\n",
    "            initial_profile_df = initial_profile_df.append(sub_result_df)"
   ]
  },
  {
   "cell_type": "code",
   "execution_count": null,
   "metadata": {},
   "outputs": [],
   "source": [
    "_, ax = plt.subplots(figsize=(10, 5))\n",
    "sns.boxplot(x='model', y='train_r2', data=initial_profile_df, hue='xy', dodge=True, ax=ax)\n",
    "ax.legend(loc='center left', bbox_to_anchor=(1.05, 0.5))\n",
    "ax.set_xlabel('')\n",
    "ax.set_ylabel('Training R-Squared')\n",
    "ax.set_ylim(bottom=0)"
   ]
  },
  {
   "cell_type": "code",
   "execution_count": null,
   "metadata": {
    "scrolled": false
   },
   "outputs": [],
   "source": [
    "_, ax = plt.subplots(figsize=(10, 5))\n",
    "sns.boxplot(x='model', y='val_r2', data=initial_profile_df, hue='xy', dodge=True, ax=ax)\n",
    "ax.legend(loc='center left', bbox_to_anchor=(1.05, 0.5))\n",
    "ax.set_xlabel('')\n",
    "ax.set_ylabel('Validation R-Squared')\n",
    "ax.set_ylim(bottom=0)"
   ]
  },
  {
   "cell_type": "markdown",
   "metadata": {},
   "source": [
    "# Error Analysis - One-Hot\n",
    "\n",
    "It's clear that the models using each gene as a training sample are better; let's analyze these in more detail. Specifically, let's use the \"X_raw_y_norm\" training set.\n",
    "\n",
    "Also, the SVR and RF models are better too. So let's focus on these as well. "
   ]
  },
  {
   "cell_type": "markdown",
   "metadata": {},
   "source": [
    "## Predicted vs Actual"
   ]
  },
  {
   "cell_type": "code",
   "execution_count": null,
   "metadata": {},
   "outputs": [],
   "source": [
    "X_error, y_error = Xy_train_to_use['gene_strong_tss']\n",
    "\n",
    "# need to quickly fix the feature names to make sense\n",
    "new_cols = []\n",
    "\n",
    "for col in X_error.columns:\n",
    "    ind, base = col.split('_')\n",
    "    new_ind = int(ind)-N_UP\n",
    "    new_col = f'{new_ind}_{base}'\n",
    "    new_cols.append(new_col)\n",
    "\n",
    "X_error.columns = new_cols\n",
    "\n",
    "X_error = pd.DataFrame(StandardScaler().fit_transform(X_error), columns=X_error.columns, index=X_error.index)\n",
    "y_error = StandardScaler().fit_transform(y_error.values.reshape(-1, 1)).flatten()\n",
    "\n",
    "X_error_train, X_error_val, y_error_train, y_error_val = train_test_split(\n",
    "    X_error, y_error, test_size=0.15, random_state=35)"
   ]
  },
  {
   "cell_type": "code",
   "execution_count": null,
   "metadata": {},
   "outputs": [],
   "source": [
    "rf_error = models_to_try['RF'].fit(X_error_train, y_error_train)\n",
    "rf_y_pred = rf_error.predict(X_error_val)"
   ]
  },
  {
   "cell_type": "code",
   "execution_count": null,
   "metadata": {},
   "outputs": [],
   "source": [
    "_, ax_rf = plt.subplots()\n",
    "\n",
    "ax_rf.scatter(y_error_val, rf_y_pred)\n",
    "ax_rf.set_xlabel('Actual FPKM (norm)', fontsize=13)\n",
    "ax_rf.set_ylabel('Predicted FPKM (norm)', fontsize=13)\n",
    "r2_rf = r2_score(y_error_val, rf_y_pred)\n",
    "ax_rf.set_title(f'Random Forest (R2={r2_rf:.2f})', fontsize=14)\n",
    "xmin, xmax = ax_rf.get_xlim()\n",
    "ymin, ymax = ax_rf.get_ylim()\n",
    "ax_rf.set_xlim(min(xmin, ymin), max(xmax, ymax))\n",
    "ax_rf.set_ylim(min(xmin, ymin), max(xmax, ymax))\n",
    "ax_rf.set_aspect('equal')\n",
    "ax_rf.plot([0, 1], [0, 1], transform=ax_rf.transAxes, color='gray', linestyle='--')"
   ]
  },
  {
   "cell_type": "markdown",
   "metadata": {},
   "source": [
    "## Residual Plot"
   ]
  },
  {
   "cell_type": "code",
   "execution_count": null,
   "metadata": {},
   "outputs": [],
   "source": [
    "_, ax_rf = plt.subplots()\n",
    "\n",
    "ax_rf.scatter(y_error_val, abs(rf_y_pred - y_error_val))\n",
    "ax_rf.set_xlabel('Actual FPKM (norm)', fontsize=13)\n",
    "ax_rf.set_ylabel('Raw Error (norm[FPKM])', fontsize=13)\n",
    "ax_rf.set_title('Random Forest', fontsize=14)"
   ]
  },
  {
   "cell_type": "markdown",
   "metadata": {},
   "source": [
    "Compare error percentages as well"
   ]
  },
  {
   "cell_type": "code",
   "execution_count": null,
   "metadata": {},
   "outputs": [],
   "source": [
    "_, ax_rf = plt.subplots()\n",
    "\n",
    "ax_rf.scatter(y_error_val, ((rf_y_pred - y_error_val)/(y_error_val))*100)\n",
    "ax_rf.set_xlabel('Actual FPKM (norm)', fontsize=13)\n",
    "ax_rf.set_ylabel('Error (% of Actual)', fontsize=13)\n",
    "ax_rf.set_title('Random Forest', fontsize=14)"
   ]
  },
  {
   "cell_type": "markdown",
   "metadata": {},
   "source": [
    "So we actually do quite poorly on the lower-expressed genes, a bit better on highly expressed. This definitely motivates a multiple model approach. "
   ]
  },
  {
   "cell_type": "markdown",
   "metadata": {},
   "source": [
    "## Error for Genes with Strong Secondary TSS\n",
    "\n",
    "In the strong-TSS case, we do have some genes that have multiple TSS with comparable signal intensities; are we doing worse on those than the ones with a clear strong TSS?"
   ]
  },
  {
   "cell_type": "code",
   "execution_count": null,
   "metadata": {},
   "outputs": [],
   "source": [
    "val_genes_tss2_ratio = []\n",
    "val_genes_err = []\n",
    "val_genes_err_pct = []\n",
    "\n",
    "for val_gene, y_pred, y_true in zip(X_error_val.index, rf_y_pred, y_error_val):\n",
    "    tus_for_gene = [tu for tu, genes in tu_to_genes.items() if val_gene in genes]\n",
    "    if len(tus_for_gene) > 1:\n",
    "        gene_tu_df = m_florum.tu_table.loc[tus_for_gene, :]\n",
    "        gene_tsses = gene_tu_df['tss']\n",
    "        gene_tss_df = m_florum.tss_table[m_florum.tss_table['tss'].isin(gene_tsses)]\n",
    "        if gene_tss_df.shape[0] > 1:\n",
    "            gene_tss_df = gene_tss_df.sort_values(by='rspm', ascending=False)\n",
    "            ratio = gene_tss_df['rspm'][1]/gene_tss_df['rspm'][0]\n",
    "            val_genes_tss2_ratio.append(ratio)\n",
    "            val_genes_err.append(abs(y_pred - y_true))\n",
    "            val_genes_err_pct.append((abs(y_pred - y_true)/y_true)*100)"
   ]
  },
  {
   "cell_type": "code",
   "execution_count": null,
   "metadata": {
    "scrolled": false
   },
   "outputs": [],
   "source": [
    "_, ax = plt.subplots()\n",
    "\n",
    "ax.scatter(val_genes_tss2_ratio, val_genes_err_pct)\n",
    "ax.set_xlabel('Strength of 2nd TSS Relative to 1st', fontsize=13)\n",
    "ax.set_ylabel('Error (% of Actual)', fontsize=13)\n",
    "ax.set_title('Error by Secondary TSS (Validation Set)', fontsize=14)"
   ]
  },
  {
   "cell_type": "markdown",
   "metadata": {},
   "source": [
    "Okay, so seems to be nothing doing here. "
   ]
  },
  {
   "cell_type": "markdown",
   "metadata": {},
   "source": [
    "# Feature Importances - One-Hot"
   ]
  },
  {
   "cell_type": "code",
   "execution_count": null,
   "metadata": {},
   "outputs": [],
   "source": [
    "cv_featimp_rf = cross_validate(\n",
    "    models_to_try['RF'],\n",
    "    X_error,\n",
    "    y=y_error,\n",
    "    cv=5,\n",
    "    scoring='r2',\n",
    "    return_train_score=True,\n",
    "    return_estimator=True,\n",
    "    verbose=1,\n",
    "    n_jobs=4\n",
    ")\n",
    "\n",
    "estimators = cv_featimp_rf['estimator']\n",
    "feat_imps = [est.feature_importances_ for est in estimators]\n",
    "\n",
    "feat_bps = []\n",
    "bases = []\n",
    "imps = []\n",
    "\n",
    "for feat, feat_imps in zip(X_error.columns, zip(*feat_imps)):\n",
    "    bp, base = feat.split('_')\n",
    "\n",
    "    feat_bps += [int(bp)] * len(feat_imps)\n",
    "    bases += [base] * len(feat_imps)\n",
    "    imps += list(feat_imps)\n",
    "    \n",
    "feat_imp_cv_df = pd.DataFrame(data={'bp': feat_bps, 'imp': imps, 'base': bases})\n",
    "\n",
    "_, ax = plt.subplots(figsize=(15, 6))\n",
    "sns.lineplot(x='bp', y='imp', hue='base', data=feat_imp_cv_df, ax=ax)\n",
    "ax.set_xlabel('bp from TSS')\n",
    "ax.set_ylabel('RF Importance')"
   ]
  },
  {
   "cell_type": "markdown",
   "metadata": {},
   "source": [
    "## Shapley Values"
   ]
  },
  {
   "cell_type": "code",
   "execution_count": null,
   "metadata": {},
   "outputs": [],
   "source": [
    "explainer = shap.TreeExplainer(rf_error)\n",
    "shap_values = explainer.shap_values(X_error_val)"
   ]
  },
  {
   "cell_type": "code",
   "execution_count": null,
   "metadata": {},
   "outputs": [],
   "source": [
    "shap.summary_plot(shap_values, X_error_val, plot_type=\"bar\")"
   ]
  },
  {
   "cell_type": "code",
   "execution_count": null,
   "metadata": {},
   "outputs": [],
   "source": [
    "shap.summary_plot(shap_values, X_error_val)"
   ]
  },
  {
   "cell_type": "markdown",
   "metadata": {},
   "source": [
    "# Classifying Expression Level - One-Hot\n",
    "\n",
    "Let's remind ourselves of the raw distribution of expression values"
   ]
  },
  {
   "cell_type": "markdown",
   "metadata": {},
   "source": [
    "## Re-examining Expression Distribution"
   ]
  },
  {
   "cell_type": "code",
   "execution_count": null,
   "metadata": {},
   "outputs": [],
   "source": [
    "_, ax = plt.subplots(figsize=(8, 5))\n",
    "sns.histplot(x='mean_fpkm', data=m_florum.gene_table, ax=ax)\n",
    "ax.set_xlabel('Mean FPKM', fontsize=13)\n",
    "ax.tick_params(axis='x', labelsize=12)\n",
    "ax.set_title('M. florum Gene Expression Distribution', fontsize=14)"
   ]
  },
  {
   "cell_type": "code",
   "execution_count": null,
   "metadata": {},
   "outputs": [],
   "source": [
    "_, ax = plt.subplots(figsize=(8, 5))\n",
    "sns.stripplot(x='log_fpkm', data=gene_table_log, ax=ax)\n",
    "ax.set_xlabel('Log FPKM', fontsize=13)\n",
    "ax.tick_params(axis='x', labelsize=12)"
   ]
  },
  {
   "cell_type": "markdown",
   "metadata": {},
   "source": [
    "Perhaps we can try:\n",
    "- Classifying the cutoff point from the main blob (call it 4 Log FPKM)\n",
    "- Regressing ONLY the main distribution (drop data points below the cutoff)"
   ]
  },
  {
   "cell_type": "markdown",
   "metadata": {},
   "source": [
    "## Prepare Classification Features and Targets"
   ]
  },
  {
   "cell_type": "code",
   "execution_count": null,
   "metadata": {},
   "outputs": [],
   "source": [
    "Xy_to_use_class = {}"
   ]
  },
  {
   "cell_type": "markdown",
   "metadata": {},
   "source": [
    "### Gene with Strongest TSS - Classify Around Cutoff\n",
    "\n",
    "Let's just use the strongest TSS dataset, which seems to perform best at regression. Try a few different cutoff points for defining the classes."
   ]
  },
  {
   "cell_type": "code",
   "execution_count": null,
   "metadata": {},
   "outputs": [],
   "source": [
    "raw_cutoffs = []\n",
    "for log_cutoff in [5, 6, 6.25, 6.5, 6.75, 7, 8]:\n",
    "    raw_cutoff = np.exp(log_cutoff) - 1\n",
    "    raw_cutoffs.append(raw_cutoff)\n",
    "    \n",
    "for raw_cutoff in raw_cutoffs:\n",
    "\n",
    "    y_strong_tss_class = (y_strong_tss < raw_cutoff).apply(int)\n",
    "\n",
    "    Xy_to_use_class[f'gene_strong_tss_{raw_cutoff:.2f}'] = (X_strong_tss, y_strong_tss_class)"
   ]
  },
  {
   "cell_type": "markdown",
   "metadata": {},
   "source": [
    "### Set Aside Lockbox Data"
   ]
  },
  {
   "cell_type": "code",
   "execution_count": null,
   "metadata": {},
   "outputs": [],
   "source": [
    "Xy_train_to_use_class = {}\n",
    "Xy_lockbox_to_use_class = {}\n",
    "\n",
    "for name, (X, y) in Xy_to_use_class.items():\n",
    "    if X.shape[0] > 500:\n",
    "        test_size = 0.1\n",
    "    else:\n",
    "        test_size = 0.2\n",
    "    X_train, X_lockbox, y_train, y_lockbox = train_test_split(X, y, test_size=test_size, random_state=42,\n",
    "                                                             stratify=y)\n",
    "    Xy_train_to_use_class[name] = (X_train, y_train)\n",
    "    Xy_lockbox_to_use_class[name] = (X_lockbox, y_lockbox)"
   ]
  },
  {
   "cell_type": "markdown",
   "metadata": {},
   "source": [
    "## Set Up Models to Try"
   ]
  },
  {
   "cell_type": "code",
   "execution_count": null,
   "metadata": {},
   "outputs": [],
   "source": [
    "models_to_try_class = {\n",
    "    'Logistic': LogisticRegression(class_weight='balanced'),\n",
    "    'SVM': SVC(),\n",
    "    'RF': RandomForestClassifier(n_jobs=4),\n",
    "    'NN': MLPClassifier()\n",
    "}"
   ]
  },
  {
   "cell_type": "markdown",
   "metadata": {},
   "source": [
    "## Initial Model Profiling\n",
    "\n",
    "For each model:\n",
    "- for each Xy pair:\n",
    "    - try all 8 combinations of the following:\n",
    "        - raw and normalized X matrix\n",
    "        - raw, normalized, log-transformed, and log-transformed + normalized targets (expressions)"
   ]
  },
  {
   "cell_type": "code",
   "execution_count": null,
   "metadata": {
    "scrolled": true
   },
   "outputs": [],
   "source": [
    "initial_profile_df = pd.DataFrame(\n",
    "    columns=['model', 'xy', 'train_auc', 'val_auc']\n",
    ")\n",
    "\n",
    "N_CV = 5\n",
    "\n",
    "for model_name, model in models_to_try_class.items():\n",
    "    for Xy_name, (X_train_raw, y_train_raw) in Xy_train_to_use_class.items():\n",
    "        \n",
    "        X_train_norm = StandardScaler().fit_transform(X_train_raw)\n",
    "        \n",
    "        # ONLY USE THE RAW DATASETS\n",
    "        X_list = [('X_raw', X_train_raw)]\n",
    "        y_list = [('y_raw', y_train_raw)]\n",
    "        \n",
    "        Xy_final = {}\n",
    "        for (X_lab, X_mat), (y_lab, y_mat) in product(X_list, y_list):\n",
    "            Xy_lab_final = f'{Xy_name}'\n",
    "            Xy_final[Xy_lab_final] = (X_mat, y_mat)\n",
    "            \n",
    "        for Xy_full_name, (X_to_use, y_to_use) in Xy_final.items():\n",
    "\n",
    "            print(f'{model_name}: {Xy_full_name}')\n",
    "\n",
    "            cv_result = cross_validate(\n",
    "                model,\n",
    "                X_to_use,\n",
    "                y=y_to_use,\n",
    "                cv=N_CV,\n",
    "                scoring='roc_auc',\n",
    "                return_train_score=True,\n",
    "                verbose=1,\n",
    "                n_jobs=N_CV\n",
    "            )\n",
    "\n",
    "            sub_result_df = pd.DataFrame(\n",
    "                data={\n",
    "                    'model': [model_name] * N_CV,\n",
    "                    'xy': [Xy_full_name] * N_CV,\n",
    "                    'train_auc': cv_result['train_score'],\n",
    "                    'val_auc': cv_result['test_score']\n",
    "                }\n",
    "            )\n",
    "\n",
    "            initial_profile_df = initial_profile_df.append(sub_result_df)"
   ]
  },
  {
   "cell_type": "code",
   "execution_count": null,
   "metadata": {},
   "outputs": [],
   "source": [
    "_, ax = plt.subplots(figsize=(10, 5))\n",
    "sns.boxplot(x='model', y='train_auc', data=initial_profile_df, hue='xy', dodge=True, ax=ax)\n",
    "ax.legend(loc='center left', bbox_to_anchor=(1.05, 0.5))\n",
    "ax.set_xlabel('')\n",
    "ax.set_ylabel('Training AUC')\n",
    "ax.set_ylim(bottom=0, top=1)"
   ]
  },
  {
   "cell_type": "code",
   "execution_count": null,
   "metadata": {
    "scrolled": false
   },
   "outputs": [],
   "source": [
    "_, ax = plt.subplots(figsize=(10, 5))\n",
    "sns.boxplot(x='model', y='val_auc', data=initial_profile_df, hue='xy', dodge=True, ax=ax)\n",
    "ax.legend(loc='center left', bbox_to_anchor=(1.05, 0.5))\n",
    "ax.set_xlabel('')\n",
    "ax.set_ylabel('Validation AUC')\n",
    "ax.set_ylim(bottom=0, top=1)"
   ]
  },
  {
   "cell_type": "markdown",
   "metadata": {},
   "source": [
    "So we're actually getting a pretty nice score with the random forest for the ~666 cutoff. Let's investigate that further, along with a general overview of error states"
   ]
  },
  {
   "cell_type": "code",
   "execution_count": null,
   "metadata": {},
   "outputs": [],
   "source": [
    "FPKM_CUTOFF = 664.14"
   ]
  },
  {
   "cell_type": "markdown",
   "metadata": {},
   "source": [
    "## Error Analysis\n",
    "\n",
    "Re-train a random forest cohort at the ~1000 cutoff as an exemplar of errors"
   ]
  },
  {
   "cell_type": "code",
   "execution_count": null,
   "metadata": {},
   "outputs": [],
   "source": [
    "X_error_class, y_error_class = Xy_train_to_use_class[f'gene_strong_tss_{FPKM_CUTOFF}']\n",
    "\n",
    "# need to quickly fix the feature names to make sense\n",
    "new_cols = []\n",
    "\n",
    "for col in X_error_class.columns:\n",
    "    ind, base = col.split('_')\n",
    "    new_ind = int(ind)-N_UP\n",
    "    new_col = f'{new_ind}_{base}'\n",
    "    new_cols.append(new_col)\n",
    "\n",
    "X_error_class.columns = new_cols\n",
    "\n",
    "X_error_class_train, X_error_class_val, y_error_class_train, y_error_class_val = train_test_split(\n",
    "    X_error_class, y_error_class, test_size=0.15, random_state=35, stratify=y_error_class)"
   ]
  },
  {
   "cell_type": "code",
   "execution_count": null,
   "metadata": {},
   "outputs": [],
   "source": [
    "rf_error_class = models_to_try_class['RF'].fit(X_error_class_train, y_error_class_train)\n",
    "rf_y_pred_class = rf_error_class.predict(X_error_class_val)\n",
    "\n",
    "conf_mat = confusion_matrix(y_error_class_val, rf_y_pred_class, normalize='true')\n",
    "\n",
    "_, ax = plt.subplots()\n",
    "sns.heatmap(\n",
    "    conf_mat,\n",
    "    cmap=\"PuBu\",\n",
    "    annot=True,\n",
    "    annot_kws={'fontsize': 13},\n",
    "    cbar=False,\n",
    "    square=True,\n",
    "    xticklabels=['High Exp', 'Low Exp'],\n",
    "    yticklabels=['High Exp', 'Low Exp'],\n",
    "    ax=ax\n",
    ")\n",
    "ax.tick_params(axis='both', labelsize=12)\n",
    "ax.tick_params(axis='y', rotation=0)\n",
    "ax.spines['right'].set_visible(True)\n",
    "ax.spines['left'].set_visible(True)\n",
    "ax.spines['top'].set_visible(True)\n",
    "ax.spines['bottom'].set_visible(True)\n",
    "ax.set_title(f'Random Forest (FPKM cut={FPKM_CUTOFF})')\n",
    "ax.set_xlabel('Predicted Class', fontsize=12)\n",
    "ax.set_ylabel('True Class', fontsize=12)"
   ]
  },
  {
   "cell_type": "markdown",
   "metadata": {},
   "source": [
    "## Feature Importances"
   ]
  },
  {
   "cell_type": "code",
   "execution_count": null,
   "metadata": {},
   "outputs": [],
   "source": [
    "cv_featimp_rf = cross_validate(\n",
    "    models_to_try_class['RF'],\n",
    "    X_error_class,\n",
    "    y=y_error_class,\n",
    "    cv=5,\n",
    "    scoring='roc_auc',\n",
    "    return_train_score=True,\n",
    "    return_estimator=True,\n",
    "    verbose=1,\n",
    "    n_jobs=4\n",
    ")\n",
    "\n",
    "estimators = cv_featimp_rf['estimator']\n",
    "feat_imps = [est.feature_importances_ for est in estimators]\n",
    "\n",
    "feat_bps = []\n",
    "bases = []\n",
    "imps = []\n",
    "\n",
    "for feat, feat_imps in zip(X_error_class.columns, zip(*feat_imps)):\n",
    "    bp, base = feat.split('_')\n",
    "\n",
    "    feat_bps += [int(bp)] * len(feat_imps)\n",
    "    bases += [base] * len(feat_imps)\n",
    "    imps += list(feat_imps)\n",
    "    \n",
    "feat_imp_cv_df = pd.DataFrame(data={'bp': feat_bps, 'imp': imps, 'base': bases})\n",
    "\n",
    "_, ax = plt.subplots(figsize=(15, 6))\n",
    "sns.lineplot(x='bp', y='imp', hue='base', data=feat_imp_cv_df, ax=ax)\n",
    "ax.set_xlabel('bp from TSS')\n",
    "ax.set_ylabel('RF Importance')"
   ]
  },
  {
   "cell_type": "markdown",
   "metadata": {},
   "source": [
    "The expected ranges (-35, -10, TSS) seem to contribute most to typing the classes.\n",
    "\n",
    "Can we use this classifier as part of model stacking to improve regression?"
   ]
  },
  {
   "cell_type": "markdown",
   "metadata": {},
   "source": [
    "### Shapley Values"
   ]
  },
  {
   "cell_type": "code",
   "execution_count": null,
   "metadata": {},
   "outputs": [],
   "source": [
    "explainer = shap.TreeExplainer(rf_error_class)\n",
    "shap_values = explainer.shap_values(X_error_class_val)\n",
    "shap.summary_plot(shap_values, X_error_class_val)"
   ]
  },
  {
   "cell_type": "markdown",
   "metadata": {},
   "source": [
    "# Model Stacking - One-Hot\n",
    "\n",
    "So we're going to try to use a classifier to decide whether we have high or low expression, then train models on each subset"
   ]
  },
  {
   "cell_type": "markdown",
   "metadata": {},
   "source": [
    "## Regression on Expression Subsets\n",
    "\n",
    "First let's see if we actually do better on regression when we look at the subsets"
   ]
  },
  {
   "cell_type": "markdown",
   "metadata": {},
   "source": [
    "### Prepare Feature Matrices and Targets"
   ]
  },
  {
   "cell_type": "code",
   "execution_count": null,
   "metadata": {},
   "outputs": [],
   "source": [
    "X_y_to_use_exp_split = {}\n",
    "\n",
    "X_strong_tss_lowexp = X_strong_tss[y_strong_tss < FPKM_CUTOFF]\n",
    "y_strong_tss_lowexp = y_strong_tss[y_strong_tss < FPKM_CUTOFF]\n",
    "\n",
    "X_y_to_use_exp_split['gene_strong_tss_low'] = (X_strong_tss_lowexp, y_strong_tss_lowexp)\n",
    "\n",
    "X_strong_tss_highexp = X_strong_tss[y_strong_tss > FPKM_CUTOFF]\n",
    "y_strong_tss_highexp = y_strong_tss[y_strong_tss > FPKM_CUTOFF]\n",
    "\n",
    "X_y_to_use_exp_split['gene_strong_tss_high'] = (X_strong_tss_highexp, y_strong_tss_highexp)"
   ]
  },
  {
   "cell_type": "code",
   "execution_count": null,
   "metadata": {},
   "outputs": [],
   "source": [
    "Xy_train_to_use_split = {}\n",
    "Xy_lockbox_to_use_split = {}\n",
    "\n",
    "for name, (X, y) in X_y_to_use_exp_split.items():\n",
    "    if X.shape[0] > 500:\n",
    "        test_size = 0.1\n",
    "    else:\n",
    "        test_size = 0.2\n",
    "    X_train, X_lockbox, y_train, y_lockbox = train_test_split(X, y, test_size=test_size, random_state=42)\n",
    "    Xy_train_to_use_split[name] = (X_train, y_train)\n",
    "    Xy_lockbox_to_use_split[name] = (X_lockbox, y_lockbox)"
   ]
  },
  {
   "cell_type": "markdown",
   "metadata": {},
   "source": [
    "### Initial Model Profiling"
   ]
  },
  {
   "cell_type": "code",
   "execution_count": null,
   "metadata": {
    "scrolled": true
   },
   "outputs": [],
   "source": [
    "initial_profile_df_split = pd.DataFrame(\n",
    "    columns=['model', 'xy', 'train_r2', 'val_r2']\n",
    ")\n",
    "\n",
    "N_CV = 5\n",
    "\n",
    "for model_name, model in models_to_try.items():\n",
    "    for Xy_name, (X_train_raw, y_train_raw) in Xy_train_to_use_split.items():\n",
    "        \n",
    "        X_train_norm = StandardScaler().fit_transform(X_train_raw)\n",
    "        y_train_norm = StandardScaler().fit_transform(y_train_raw.values.reshape(-1, 1))\n",
    "        y_train_log = np.log(y_train_raw + ETA)\n",
    "        y_train_norm_log = StandardScaler().fit_transform(y_train_log.values.reshape(-1, 1))\n",
    "        \n",
    "        X_list = [('X_raw', X_train_raw)]\n",
    "        y_list = [('y_raw', y_train_raw), ('y_norm', y_train_norm),\n",
    "                 ('y_log', y_train_log), ('y_norm_log', y_train_norm_log)]\n",
    "        \n",
    "        Xy_final = {}\n",
    "        for (X_lab, X_mat), (y_lab, y_mat) in product(X_list, y_list):\n",
    "            Xy_lab_final = f'{Xy_name}__{X_lab}__{y_lab}'\n",
    "            Xy_final[Xy_lab_final] = (X_mat, y_mat)\n",
    "            \n",
    "        for Xy_full_name, (X_to_use, y_to_use) in Xy_final.items():\n",
    "\n",
    "            print(f'{model_name}: {Xy_full_name}')\n",
    "\n",
    "            cv_result = cross_validate(\n",
    "                model,\n",
    "                X_to_use,\n",
    "                y=y_to_use,\n",
    "                cv=N_CV,\n",
    "                scoring='r2',\n",
    "                return_train_score=True,\n",
    "                verbose=1,\n",
    "                n_jobs=N_CV\n",
    "            )\n",
    "\n",
    "            sub_result_df = pd.DataFrame(\n",
    "                data={\n",
    "                    'model': [model_name] * N_CV,\n",
    "                    'xy': [Xy_full_name] * N_CV,\n",
    "                    'train_r2': cv_result['train_score'],\n",
    "                    'val_r2': cv_result['test_score']\n",
    "                }\n",
    "            )\n",
    "\n",
    "            initial_profile_df_split = initial_profile_df_split.append(sub_result_df)"
   ]
  },
  {
   "cell_type": "code",
   "execution_count": null,
   "metadata": {},
   "outputs": [],
   "source": [
    "_, ax = plt.subplots(figsize=(10, 5))\n",
    "sns.boxplot(x='model', y='train_r2', data=initial_profile_df_split, hue='xy', dodge=True, ax=ax)\n",
    "ax.legend(loc='center left', bbox_to_anchor=(1.05, 0.5))\n",
    "ax.set_xlabel('')\n",
    "ax.set_ylabel('Training R-Squared')\n",
    "ax.set_ylim(bottom=0)"
   ]
  },
  {
   "cell_type": "code",
   "execution_count": null,
   "metadata": {
    "scrolled": false
   },
   "outputs": [],
   "source": [
    "_, ax = plt.subplots(figsize=(10, 5))\n",
    "sns.boxplot(x='model', y='val_r2', data=initial_profile_df_split, hue='xy', dodge=True, ax=ax)\n",
    "ax.legend(loc='center left', bbox_to_anchor=(1.05, 0.5))\n",
    "ax.set_xlabel('')\n",
    "ax.set_ylabel('Validation R-Squared')\n",
    "ax.set_ylim(bottom=0)"
   ]
  },
  {
   "cell_type": "markdown",
   "metadata": {},
   "source": [
    "This doesn't really work well at all...let's table this for now"
   ]
  },
  {
   "cell_type": "markdown",
   "metadata": {},
   "source": [
    "# Genome Organization Features\n",
    "\n",
    "Switching gears a bit, we want to integrate our genome organization-style features into this one-hot model. Let's start with a baseline model that just uses these genome organization features at first, to see where that's at"
   ]
  },
  {
   "cell_type": "markdown",
   "metadata": {},
   "source": [
    "## Prepare Feature Matrix"
   ]
  },
  {
   "cell_type": "markdown",
   "metadata": {},
   "source": [
    "Plot expression on log scale as well for all feature plots"
   ]
  },
  {
   "cell_type": "markdown",
   "metadata": {},
   "source": [
    "### Replication Region"
   ]
  },
  {
   "cell_type": "code",
   "execution_count": 9,
   "metadata": {},
   "outputs": [
    {
     "data": {
      "text/html": [
       "<div>\n",
       "<style scoped>\n",
       "    .dataframe tbody tr th:only-of-type {\n",
       "        vertical-align: middle;\n",
       "    }\n",
       "\n",
       "    .dataframe tbody tr th {\n",
       "        vertical-align: top;\n",
       "    }\n",
       "\n",
       "    .dataframe thead th {\n",
       "        text-align: right;\n",
       "    }\n",
       "</style>\n",
       "<table border=\"1\" class=\"dataframe\">\n",
       "  <thead>\n",
       "    <tr style=\"text-align: right;\">\n",
       "      <th></th>\n",
       "      <th>left</th>\n",
       "      <th>right</th>\n",
       "      <th>strand</th>\n",
       "      <th>KO</th>\n",
       "      <th>category</th>\n",
       "      <th>subcategory</th>\n",
       "      <th>subsubcategory</th>\n",
       "      <th>product_name</th>\n",
       "      <th>name</th>\n",
       "      <th>fpkm</th>\n",
       "      <th>primary_tu</th>\n",
       "      <th>log_fpkm</th>\n",
       "      <th>rep_strand</th>\n",
       "    </tr>\n",
       "    <tr>\n",
       "      <th>locus_tag</th>\n",
       "      <th></th>\n",
       "      <th></th>\n",
       "      <th></th>\n",
       "      <th></th>\n",
       "      <th></th>\n",
       "      <th></th>\n",
       "      <th></th>\n",
       "      <th></th>\n",
       "      <th></th>\n",
       "      <th></th>\n",
       "      <th></th>\n",
       "      <th></th>\n",
       "      <th></th>\n",
       "    </tr>\n",
       "  </thead>\n",
       "  <tbody>\n",
       "    <tr>\n",
       "      <th>peg.1</th>\n",
       "      <td>1.0</td>\n",
       "      <td>1332.0</td>\n",
       "      <td>1</td>\n",
       "      <td>K02313</td>\n",
       "      <td>Genetic Information Processing</td>\n",
       "      <td>DNA Maintenance</td>\n",
       "      <td>DNA replication and partition</td>\n",
       "      <td>dnaA, chromosomal replication initiator protein</td>\n",
       "      <td>dnaA</td>\n",
       "      <td>192.793077</td>\n",
       "      <td>NaN</td>\n",
       "      <td>5.266791</td>\n",
       "      <td>leading</td>\n",
       "    </tr>\n",
       "    <tr>\n",
       "      <th>peg.2</th>\n",
       "      <td>1560.0</td>\n",
       "      <td>2681.0</td>\n",
       "      <td>1</td>\n",
       "      <td>K02338</td>\n",
       "      <td>Genetic Information Processing</td>\n",
       "      <td>DNA Maintenance</td>\n",
       "      <td>DNA replication and partition</td>\n",
       "      <td>dnaN, DNA polymerase III subunit beta [EC:2.7....</td>\n",
       "      <td>dnaN</td>\n",
       "      <td>642.952373</td>\n",
       "      <td>TU_002</td>\n",
       "      <td>6.467625</td>\n",
       "      <td>leading</td>\n",
       "    </tr>\n",
       "    <tr>\n",
       "      <th>peg.3</th>\n",
       "      <td>2708.0</td>\n",
       "      <td>3682.0</td>\n",
       "      <td>-1</td>\n",
       "      <td>K03569</td>\n",
       "      <td>Cellular Processes</td>\n",
       "      <td>Cytoskeleton</td>\n",
       "      <td>Cytoskeleton proteins</td>\n",
       "      <td>mreB, rod shape-determining protein MreB and r...</td>\n",
       "      <td>mreB</td>\n",
       "      <td>2046.205311</td>\n",
       "      <td>TU_004</td>\n",
       "      <td>7.624231</td>\n",
       "      <td>lagging</td>\n",
       "    </tr>\n",
       "    <tr>\n",
       "      <th>peg.4</th>\n",
       "      <td>3751.0</td>\n",
       "      <td>4278.0</td>\n",
       "      <td>1</td>\n",
       "      <td>K05985</td>\n",
       "      <td>Genetic Information Processing</td>\n",
       "      <td>Folding, Sorting and Degradation</td>\n",
       "      <td>Nucleases</td>\n",
       "      <td>rnmV, ribonuclease M5 [EC:3.1.26.8]</td>\n",
       "      <td>rnmV</td>\n",
       "      <td>8.156475</td>\n",
       "      <td>TU_005</td>\n",
       "      <td>2.214461</td>\n",
       "      <td>leading</td>\n",
       "    </tr>\n",
       "    <tr>\n",
       "      <th>peg.5</th>\n",
       "      <td>4280.0</td>\n",
       "      <td>5083.0</td>\n",
       "      <td>1</td>\n",
       "      <td>K02528</td>\n",
       "      <td>Genetic Information Processing</td>\n",
       "      <td>Translation</td>\n",
       "      <td>Ribosome biogenesis</td>\n",
       "      <td>ksgA, 16S rRNA (adenine1518-N6/adenine1519-N6)...</td>\n",
       "      <td>ksgA</td>\n",
       "      <td>215.862583</td>\n",
       "      <td>TU_005</td>\n",
       "      <td>5.379264</td>\n",
       "      <td>leading</td>\n",
       "    </tr>\n",
       "  </tbody>\n",
       "</table>\n",
       "</div>"
      ],
      "text/plain": [
       "             left   right  strand      KO                        category  \\\n",
       "locus_tag                                                                   \n",
       "peg.1         1.0  1332.0       1  K02313  Genetic Information Processing   \n",
       "peg.2      1560.0  2681.0       1  K02338  Genetic Information Processing   \n",
       "peg.3      2708.0  3682.0      -1  K03569              Cellular Processes   \n",
       "peg.4      3751.0  4278.0       1  K05985  Genetic Information Processing   \n",
       "peg.5      4280.0  5083.0       1  K02528  Genetic Information Processing   \n",
       "\n",
       "                                subcategory                 subsubcategory  \\\n",
       "locus_tag                                                                    \n",
       "peg.1                       DNA Maintenance  DNA replication and partition   \n",
       "peg.2                       DNA Maintenance  DNA replication and partition   \n",
       "peg.3                          Cytoskeleton          Cytoskeleton proteins   \n",
       "peg.4      Folding, Sorting and Degradation                      Nucleases   \n",
       "peg.5                           Translation            Ribosome biogenesis   \n",
       "\n",
       "                                                product_name  name  \\\n",
       "locus_tag                                                            \n",
       "peg.1        dnaA, chromosomal replication initiator protein  dnaA   \n",
       "peg.2      dnaN, DNA polymerase III subunit beta [EC:2.7....  dnaN   \n",
       "peg.3      mreB, rod shape-determining protein MreB and r...  mreB   \n",
       "peg.4                    rnmV, ribonuclease M5 [EC:3.1.26.8]  rnmV   \n",
       "peg.5      ksgA, 16S rRNA (adenine1518-N6/adenine1519-N6)...  ksgA   \n",
       "\n",
       "                  fpkm primary_tu  log_fpkm rep_strand  \n",
       "locus_tag                                               \n",
       "peg.1       192.793077        NaN  5.266791    leading  \n",
       "peg.2       642.952373     TU_002  6.467625    leading  \n",
       "peg.3      2046.205311     TU_004  7.624231    lagging  \n",
       "peg.4         8.156475     TU_005  2.214461    leading  \n",
       "peg.5       215.862583     TU_005  5.379264    leading  "
      ]
     },
     "execution_count": 9,
     "metadata": {},
     "output_type": "execute_result"
    }
   ],
   "source": [
    "gene_table_ml = m_florum.gene_table.copy()\n",
    "\n",
    "gene_table_ml['rep_strand'] = gene_table_ml.apply(m_florum.replication_region, axis=1)\n",
    "gene_table_ml.head()"
   ]
  },
  {
   "cell_type": "code",
   "execution_count": 11,
   "metadata": {},
   "outputs": [
    {
     "data": {
      "text/plain": [
       "Text(0.025, 0.05, 'P = 0.008')"
      ]
     },
     "execution_count": 11,
     "metadata": {},
     "output_type": "execute_result"
    },
    {
     "data": {
      "image/png": "[encoded data removed]",
      "text/plain": [
       "<Figure size 576x360 with 1 Axes>"
      ]
     },
     "metadata": {
      "needs_background": "light"
     },
     "output_type": "display_data"
    }
   ],
   "source": [
    "rep_strand_df = gene_table_ml[['rep_strand', 'fpkm']].dropna()\n",
    "rep_strand_df['log_fpkm'] = np.log(rep_strand_df['fpkm'] + ETA)\n",
    "\n",
    "# get an actual significance comparison here\n",
    "leading = rep_strand_df[rep_strand_df['rep_strand'] == 'leading']['log_fpkm']\n",
    "lagging = rep_strand_df[rep_strand_df['rep_strand'] == 'lagging']['log_fpkm']\n",
    "\n",
    "t_stat, p_value = ttest_ind(leading, lagging, equal_var=False)\n",
    "\n",
    "_, ax = plt.subplots(figsize=(8, 5))\n",
    "\n",
    "sns.boxplot(x='rep_strand', y='log_fpkm',\n",
    "            data=rep_strand_df, fliersize=0, ax=ax)\n",
    "ax.tick_params(axis='both', labelsize=13)\n",
    "ax.set_xlabel('')\n",
    "ax.set_xticklabels([f\"{lab.get_text()}\\n(n={rep_strand_df[rep_strand_df['rep_strand'] == lab.get_text()].shape[0]})\"\n",
    "                       for lab in ax.get_xticklabels()])    \n",
    "ax.set_ylabel('Log FPKM', fontsize=13)\n",
    "ax.text(0.025, 0.05, f'P = {p_value:.3f}', fontsize=13, transform=ax.transAxes)"
   ]
  },
  {
   "cell_type": "markdown",
   "metadata": {},
   "source": [
    "### Order in TU"
   ]
  },
  {
   "cell_type": "code",
   "execution_count": 12,
   "metadata": {},
   "outputs": [],
   "source": [
    "def strongest_tu_for_gene(gene_row):\n",
    "    \n",
    "    # get TUs associated with gene\n",
    "    tus_for_gene = [tu_id for tu_id, gene_ids in tu_to_genes.items() if gene_row.name in gene_ids]\n",
    "    tus_for_gene_df = m_florum.tu_table.loc[tus_for_gene]\n",
    "    if tus_for_gene_df.empty:\n",
    "        return None\n",
    "    \n",
    "    # get the strongest TU specifically; previous work indicates that this helps\n",
    "    def tss_to_rspm(tss):\n",
    "        tss_df = m_florum.tss_table[m_florum.tss_table['tss'] == tss]\n",
    "        if tss_df.empty:\n",
    "            return None\n",
    "        else:\n",
    "            return tss_df.iloc[0, :]['rspm']\n",
    "    tus_for_gene_df['rspm'] = tus_for_gene_df['tss'].apply(tss_to_rspm)\n",
    "    gene_strong_tu = tus_for_gene_df.sort_values(by='rspm', ascending=False).iloc[0, :]\n",
    "    \n",
    "    return gene_strong_tu"
   ]
  },
  {
   "cell_type": "code",
   "execution_count": 13,
   "metadata": {},
   "outputs": [],
   "source": [
    "def order_in_tu(gene_row):\n",
    "\n",
    "    gene_strong_tu = strongest_tu_for_gene(gene_row)\n",
    "    if gene_strong_tu is None:\n",
    "        return None\n",
    "    \n",
    "    all_tu_gene_ids = [gid for gid in gene_strong_tu.gene_names.split(';') if 'peg' in gid]\n",
    "    gene_df = m_florum.gene_table[m_florum.gene_table.index.isin(all_tu_gene_ids)]\n",
    "    if gene_strong_tu.strand == 1:\n",
    "        gene_starts = gene_df['left']\n",
    "        sorted_genes, _ = list(zip(*sorted(zip(all_tu_gene_ids, gene_starts),\n",
    "                                          key=lambda tup: tup[1])))\n",
    "    else:\n",
    "        gene_starts = gene_df['right']\n",
    "        # reverse the sort on the reverse strand so the highest gene start is first (that's closest to TSS)\n",
    "        sorted_genes, _ = list(zip(*sorted(zip(all_tu_gene_ids, gene_starts),\n",
    "                                          key=lambda tup: tup[1], reverse=True)))\n",
    "\n",
    "    gene_order_dict = {gene_id: i+1 for i, gene_id in enumerate(sorted_genes)}\n",
    "\n",
    "    return gene_order_dict[gene_row.name]"
   ]
  },
  {
   "cell_type": "code",
   "execution_count": 14,
   "metadata": {},
   "outputs": [
    {
     "ename": "NameError",
     "evalue": "name 'tu_to_genes' is not defined",
     "output_type": "error",
     "traceback": [
      "\u001b[0;31m---------------------------------------------------------------------------\u001b[0m",
      "\u001b[0;31mNameError\u001b[0m                                 Traceback (most recent call last)",
      "\u001b[0;32m<ipython-input-14-17775b78cac5>\u001b[0m in \u001b[0;36m<module>\u001b[0;34m\u001b[0m\n\u001b[0;32m----> 1\u001b[0;31m \u001b[0mgene_table_ml\u001b[0m\u001b[0;34m[\u001b[0m\u001b[0;34m'tu_order'\u001b[0m\u001b[0;34m]\u001b[0m \u001b[0;34m=\u001b[0m \u001b[0mgene_table_ml\u001b[0m\u001b[0;34m.\u001b[0m\u001b[0mapply\u001b[0m\u001b[0;34m(\u001b[0m\u001b[0morder_in_tu\u001b[0m\u001b[0;34m,\u001b[0m \u001b[0maxis\u001b[0m\u001b[0;34m=\u001b[0m\u001b[0;36m1\u001b[0m\u001b[0;34m)\u001b[0m\u001b[0;34m\u001b[0m\u001b[0;34m\u001b[0m\u001b[0m\n\u001b[0m\u001b[1;32m      2\u001b[0m \u001b[0mgene_table_ml\u001b[0m\u001b[0;34m.\u001b[0m\u001b[0mhead\u001b[0m\u001b[0;34m(\u001b[0m\u001b[0;34m)\u001b[0m\u001b[0;34m\u001b[0m\u001b[0;34m\u001b[0m\u001b[0m\n",
      "\u001b[0;32m~/.virtualenvs/strainware/lib/python3.8/site-packages/pandas/core/frame.py\u001b[0m in \u001b[0;36mapply\u001b[0;34m(self, func, axis, raw, result_type, args, **kwds)\u001b[0m\n\u001b[1;32m   7546\u001b[0m             \u001b[0mkwds\u001b[0m\u001b[0;34m=\u001b[0m\u001b[0mkwds\u001b[0m\u001b[0;34m,\u001b[0m\u001b[0;34m\u001b[0m\u001b[0;34m\u001b[0m\u001b[0m\n\u001b[1;32m   7547\u001b[0m         )\n\u001b[0;32m-> 7548\u001b[0;31m         \u001b[0;32mreturn\u001b[0m \u001b[0mop\u001b[0m\u001b[0;34m.\u001b[0m\u001b[0mget_result\u001b[0m\u001b[0;34m(\u001b[0m\u001b[0;34m)\u001b[0m\u001b[0;34m\u001b[0m\u001b[0;34m\u001b[0m\u001b[0m\n\u001b[0m\u001b[1;32m   7549\u001b[0m \u001b[0;34m\u001b[0m\u001b[0m\n\u001b[1;32m   7550\u001b[0m     \u001b[0;32mdef\u001b[0m \u001b[0mapplymap\u001b[0m\u001b[0;34m(\u001b[0m\u001b[0mself\u001b[0m\u001b[0;34m,\u001b[0m \u001b[0mfunc\u001b[0m\u001b[0;34m)\u001b[0m \u001b[0;34m->\u001b[0m \u001b[0;34m\"DataFrame\"\u001b[0m\u001b[0;34m:\u001b[0m\u001b[0;34m\u001b[0m\u001b[0;34m\u001b[0m\u001b[0m\n",
      "\u001b[0;32m~/.virtualenvs/strainware/lib/python3.8/site-packages/pandas/core/apply.py\u001b[0m in \u001b[0;36mget_result\u001b[0;34m(self)\u001b[0m\n\u001b[1;32m    178\u001b[0m             \u001b[0;32mreturn\u001b[0m \u001b[0mself\u001b[0m\u001b[0;34m.\u001b[0m\u001b[0mapply_raw\u001b[0m\u001b[0;34m(\u001b[0m\u001b[0;34m)\u001b[0m\u001b[0;34m\u001b[0m\u001b[0;34m\u001b[0m\u001b[0m\n\u001b[1;32m    179\u001b[0m \u001b[0;34m\u001b[0m\u001b[0m\n\u001b[0;32m--> 180\u001b[0;31m         \u001b[0;32mreturn\u001b[0m \u001b[0mself\u001b[0m\u001b[0;34m.\u001b[0m\u001b[0mapply_standard\u001b[0m\u001b[0;34m(\u001b[0m\u001b[0;34m)\u001b[0m\u001b[0;34m\u001b[0m\u001b[0;34m\u001b[0m\u001b[0m\n\u001b[0m\u001b[1;32m    181\u001b[0m \u001b[0;34m\u001b[0m\u001b[0m\n\u001b[1;32m    182\u001b[0m     \u001b[0;32mdef\u001b[0m \u001b[0mapply_empty_result\u001b[0m\u001b[0;34m(\u001b[0m\u001b[0mself\u001b[0m\u001b[0;34m)\u001b[0m\u001b[0;34m:\u001b[0m\u001b[0;34m\u001b[0m\u001b[0;34m\u001b[0m\u001b[0m\n",
      "\u001b[0;32m~/.virtualenvs/strainware/lib/python3.8/site-packages/pandas/core/apply.py\u001b[0m in \u001b[0;36mapply_standard\u001b[0;34m(self)\u001b[0m\n\u001b[1;32m    269\u001b[0m \u001b[0;34m\u001b[0m\u001b[0m\n\u001b[1;32m    270\u001b[0m     \u001b[0;32mdef\u001b[0m \u001b[0mapply_standard\u001b[0m\u001b[0;34m(\u001b[0m\u001b[0mself\u001b[0m\u001b[0;34m)\u001b[0m\u001b[0;34m:\u001b[0m\u001b[0;34m\u001b[0m\u001b[0;34m\u001b[0m\u001b[0m\n\u001b[0;32m--> 271\u001b[0;31m         \u001b[0mresults\u001b[0m\u001b[0;34m,\u001b[0m \u001b[0mres_index\u001b[0m \u001b[0;34m=\u001b[0m \u001b[0mself\u001b[0m\u001b[0;34m.\u001b[0m\u001b[0mapply_series_generator\u001b[0m\u001b[0;34m(\u001b[0m\u001b[0;34m)\u001b[0m\u001b[0;34m\u001b[0m\u001b[0;34m\u001b[0m\u001b[0m\n\u001b[0m\u001b[1;32m    272\u001b[0m \u001b[0;34m\u001b[0m\u001b[0m\n\u001b[1;32m    273\u001b[0m         \u001b[0;31m# wrap results\u001b[0m\u001b[0;34m\u001b[0m\u001b[0;34m\u001b[0m\u001b[0;34m\u001b[0m\u001b[0m\n",
      "\u001b[0;32m~/.virtualenvs/strainware/lib/python3.8/site-packages/pandas/core/apply.py\u001b[0m in \u001b[0;36mapply_series_generator\u001b[0;34m(self)\u001b[0m\n\u001b[1;32m    298\u001b[0m                 \u001b[0;32mfor\u001b[0m \u001b[0mi\u001b[0m\u001b[0;34m,\u001b[0m \u001b[0mv\u001b[0m \u001b[0;32min\u001b[0m \u001b[0menumerate\u001b[0m\u001b[0;34m(\u001b[0m\u001b[0mseries_gen\u001b[0m\u001b[0;34m)\u001b[0m\u001b[0;34m:\u001b[0m\u001b[0;34m\u001b[0m\u001b[0;34m\u001b[0m\u001b[0m\n\u001b[1;32m    299\u001b[0m                     \u001b[0;31m# ignore SettingWithCopy here in case the user mutates\u001b[0m\u001b[0;34m\u001b[0m\u001b[0;34m\u001b[0m\u001b[0;34m\u001b[0m\u001b[0m\n\u001b[0;32m--> 300\u001b[0;31m                     \u001b[0mresults\u001b[0m\u001b[0;34m[\u001b[0m\u001b[0mi\u001b[0m\u001b[0;34m]\u001b[0m \u001b[0;34m=\u001b[0m \u001b[0mself\u001b[0m\u001b[0;34m.\u001b[0m\u001b[0mf\u001b[0m\u001b[0;34m(\u001b[0m\u001b[0mv\u001b[0m\u001b[0;34m)\u001b[0m\u001b[0;34m\u001b[0m\u001b[0;34m\u001b[0m\u001b[0m\n\u001b[0m\u001b[1;32m    301\u001b[0m                     \u001b[0;32mif\u001b[0m \u001b[0misinstance\u001b[0m\u001b[0;34m(\u001b[0m\u001b[0mresults\u001b[0m\u001b[0;34m[\u001b[0m\u001b[0mi\u001b[0m\u001b[0;34m]\u001b[0m\u001b[0;34m,\u001b[0m \u001b[0mABCSeries\u001b[0m\u001b[0;34m)\u001b[0m\u001b[0;34m:\u001b[0m\u001b[0;34m\u001b[0m\u001b[0;34m\u001b[0m\u001b[0m\n\u001b[1;32m    302\u001b[0m                         \u001b[0;31m# If we have a view on v, we need to make a copy because\u001b[0m\u001b[0;34m\u001b[0m\u001b[0;34m\u001b[0m\u001b[0;34m\u001b[0m\u001b[0m\n",
      "\u001b[0;32m<ipython-input-13-e1c77b4f8a1d>\u001b[0m in \u001b[0;36morder_in_tu\u001b[0;34m(gene_row)\u001b[0m\n\u001b[1;32m      1\u001b[0m \u001b[0;32mdef\u001b[0m \u001b[0morder_in_tu\u001b[0m\u001b[0;34m(\u001b[0m\u001b[0mgene_row\u001b[0m\u001b[0;34m)\u001b[0m\u001b[0;34m:\u001b[0m\u001b[0;34m\u001b[0m\u001b[0;34m\u001b[0m\u001b[0m\n\u001b[1;32m      2\u001b[0m \u001b[0;34m\u001b[0m\u001b[0m\n\u001b[0;32m----> 3\u001b[0;31m     \u001b[0mgene_strong_tu\u001b[0m \u001b[0;34m=\u001b[0m \u001b[0mstrongest_tu_for_gene\u001b[0m\u001b[0;34m(\u001b[0m\u001b[0mgene_row\u001b[0m\u001b[0;34m)\u001b[0m\u001b[0;34m\u001b[0m\u001b[0;34m\u001b[0m\u001b[0m\n\u001b[0m\u001b[1;32m      4\u001b[0m     \u001b[0;32mif\u001b[0m \u001b[0mgene_strong_tu\u001b[0m \u001b[0;32mis\u001b[0m \u001b[0;32mNone\u001b[0m\u001b[0;34m:\u001b[0m\u001b[0;34m\u001b[0m\u001b[0;34m\u001b[0m\u001b[0m\n\u001b[1;32m      5\u001b[0m         \u001b[0;32mreturn\u001b[0m \u001b[0;32mNone\u001b[0m\u001b[0;34m\u001b[0m\u001b[0;34m\u001b[0m\u001b[0m\n",
      "\u001b[0;32m<ipython-input-12-235bf432e53b>\u001b[0m in \u001b[0;36mstrongest_tu_for_gene\u001b[0;34m(gene_row)\u001b[0m\n\u001b[1;32m      2\u001b[0m \u001b[0;34m\u001b[0m\u001b[0m\n\u001b[1;32m      3\u001b[0m     \u001b[0;31m# get TUs associated with gene\u001b[0m\u001b[0;34m\u001b[0m\u001b[0;34m\u001b[0m\u001b[0;34m\u001b[0m\u001b[0m\n\u001b[0;32m----> 4\u001b[0;31m     \u001b[0mtus_for_gene\u001b[0m \u001b[0;34m=\u001b[0m \u001b[0;34m[\u001b[0m\u001b[0mtu_id\u001b[0m \u001b[0;32mfor\u001b[0m \u001b[0mtu_id\u001b[0m\u001b[0;34m,\u001b[0m \u001b[0mgene_ids\u001b[0m \u001b[0;32min\u001b[0m \u001b[0mtu_to_genes\u001b[0m\u001b[0;34m.\u001b[0m\u001b[0mitems\u001b[0m\u001b[0;34m(\u001b[0m\u001b[0;34m)\u001b[0m \u001b[0;32mif\u001b[0m \u001b[0mgene_row\u001b[0m\u001b[0;34m.\u001b[0m\u001b[0mname\u001b[0m \u001b[0;32min\u001b[0m \u001b[0mgene_ids\u001b[0m\u001b[0;34m]\u001b[0m\u001b[0;34m\u001b[0m\u001b[0;34m\u001b[0m\u001b[0m\n\u001b[0m\u001b[1;32m      5\u001b[0m     \u001b[0mtus_for_gene_df\u001b[0m \u001b[0;34m=\u001b[0m \u001b[0mm_florum\u001b[0m\u001b[0;34m.\u001b[0m\u001b[0mtu_table\u001b[0m\u001b[0;34m.\u001b[0m\u001b[0mloc\u001b[0m\u001b[0;34m[\u001b[0m\u001b[0mtus_for_gene\u001b[0m\u001b[0;34m]\u001b[0m\u001b[0;34m\u001b[0m\u001b[0;34m\u001b[0m\u001b[0m\n\u001b[1;32m      6\u001b[0m     \u001b[0;32mif\u001b[0m \u001b[0mtus_for_gene_df\u001b[0m\u001b[0;34m.\u001b[0m\u001b[0mempty\u001b[0m\u001b[0;34m:\u001b[0m\u001b[0;34m\u001b[0m\u001b[0;34m\u001b[0m\u001b[0m\n",
      "\u001b[0;31mNameError\u001b[0m: name 'tu_to_genes' is not defined"
     ]
    }
   ],
   "source": [
    "gene_table_ml['tu_order'] = gene_table_ml.apply(order_in_tu, axis=1)\n",
    "gene_table_ml.head()"
   ]
  },
  {
   "cell_type": "code",
   "execution_count": null,
   "metadata": {},
   "outputs": [],
   "source": [
    "tu_rel_exps = {}\n",
    "\n",
    "for tu_row in m_florum.tu_table.itertuples():\n",
    "    tu_genes = tu_row.gene_names.split(';')\n",
    "    tu_gene_df = m_florum.gene_table[m_florum.gene_table.index.isin(tu_genes)]\n",
    "    if tu_gene_df.shape[0] > 1:\n",
    "        \n",
    "        if tu_row.strand == 1:\n",
    "            sorted_gene_df = tu_gene_df.sort_values(by='left')\n",
    "        else:\n",
    "            sorted_gene_df = tu_gene_df.sort_values(by='right', ascending=False)\n",
    "        \n",
    "        tu_gene_exps_rel = np.log(np.array(sorted_gene_df['mean_fpkm']) + ETA) / \\\n",
    "            np.log(sorted_gene_df['mean_fpkm'][0] + ETA)\n",
    "        \n",
    "        for i, rel_exp in enumerate(tu_gene_exps_rel):\n",
    "            if i in tu_rel_exps:\n",
    "                tu_rel_exps[i].append(rel_exp)\n",
    "            else:\n",
    "                tu_rel_exps[i] = [rel_exp]\n",
    "                \n",
    "tu_rel_exps = {k: v for k, v in tu_rel_exps.items() if len(v) > 10}"
   ]
  },
  {
   "cell_type": "code",
   "execution_count": null,
   "metadata": {},
   "outputs": [],
   "source": [
    "_, ax = plt.subplots(figsize=(15, 5))\n",
    "\n",
    "ax.boxplot(list(tu_rel_exps.values()))\n",
    "ax.set_xticklabels([f'{i+1}\\n(n={len(vals)})' for i, vals in enumerate(tu_rel_exps.values())])\n",
    "ax.set_xlabel('Order in TU', fontsize=13)\n",
    "ax.set_ylabel('log[FPKM] Relative to 1st Gene', fontsize=13)\n",
    "ax.tick_params(axis='both', labelsize=12)\n",
    "ax.set_ylim(bottom=0, top=3)\n",
    "for i, vals in enumerate(tu_rel_exps.values()):\n",
    "    med = np.median(vals)\n",
    "    ax.text(i+1, med+0.05, f'{med:.2f}x', ha='center')"
   ]
  },
  {
   "cell_type": "markdown",
   "metadata": {},
   "source": [
    "This comparison would be more informative at a TU-specific level (i.e. relative expression within multi-gene TUs)"
   ]
  },
  {
   "cell_type": "markdown",
   "metadata": {},
   "source": [
    "### TSS to Translation Start Distance"
   ]
  },
  {
   "cell_type": "code",
   "execution_count": null,
   "metadata": {},
   "outputs": [],
   "source": [
    "def tss_to_gene_start(gene_row):\n",
    "\n",
    "    gene_strong_tu = strongest_tu_for_gene(gene_row)\n",
    "    if gene_strong_tu is None:\n",
    "        return None\n",
    "        \n",
    "    strand = gene_strong_tu.strand\n",
    "    if strand == 1:\n",
    "        tu_start = gene_strong_tu.left\n",
    "        gene_start = gene_row.left\n",
    "    else:\n",
    "        tu_start = gene_strong_tu.right\n",
    "        gene_start = gene_row.right\n",
    "\n",
    "    return abs(tu_start - gene_start)"
   ]
  },
  {
   "cell_type": "code",
   "execution_count": null,
   "metadata": {},
   "outputs": [],
   "source": [
    "gene_table_ml['tss_dist'] = gene_table_ml.apply(tss_to_gene_start, axis=1)\n",
    "gene_table_ml.head()"
   ]
  },
  {
   "cell_type": "code",
   "execution_count": null,
   "metadata": {},
   "outputs": [],
   "source": [
    "all_tss_dists = []\n",
    "all_rel_exps_tss = []\n",
    "\n",
    "for tu_row in m_florum.tu_table.itertuples():\n",
    "    tu_genes = tu_row.gene_names.split(';')\n",
    "    tu_gene_df = m_florum.gene_table[m_florum.gene_table.index.isin(tu_genes)]\n",
    "    if tu_gene_df.shape[0] > 1:\n",
    "        \n",
    "        if tu_row.strand == 1:\n",
    "            sorted_gene_df = tu_gene_df.sort_values(by='left')\n",
    "            tss_dists = sorted_gene_df['left'].values - tu_row.tss\n",
    "        else:\n",
    "            sorted_gene_df = tu_gene_df.sort_values(by='right', ascending=False)\n",
    "            tss_dists = tu_row.tss - sorted_gene_df['right']\n",
    "        \n",
    "        tu_gene_exps_rel = np.log(np.array(sorted_gene_df['mean_fpkm']) + ETA) / \\\n",
    "            np.log(sorted_gene_df['mean_fpkm'][0] + ETA)\n",
    "        \n",
    "        all_tss_dists += list(tss_dists[1:])\n",
    "        all_rel_exps_tss += list(tu_gene_exps_rel[1:])"
   ]
  },
  {
   "cell_type": "code",
   "execution_count": null,
   "metadata": {},
   "outputs": [],
   "source": [
    "_, ax = plt.subplots(figsize=(15, 5))\n",
    "\n",
    "ax.scatter(all_tss_dists, all_rel_exps_tss)\n",
    "ax.set_xlabel('Distance to TSS (bp)', fontsize=13)\n",
    "ax.set_ylabel('log[FPKM] Relative to 1st Gene in TU', fontsize=13)\n",
    "ax.tick_params(axis='both', labelsize=12)\n",
    "ax.set_ylim(0, 3)"
   ]
  },
  {
   "cell_type": "markdown",
   "metadata": {},
   "source": [
    "This comparison would be more informative at a TU-specific level (i.e. relative expression within multi-gene TUs)"
   ]
  },
  {
   "cell_type": "markdown",
   "metadata": {},
   "source": [
    "### Distance to Origin"
   ]
  },
  {
   "cell_type": "code",
   "execution_count": null,
   "metadata": {},
   "outputs": [],
   "source": [
    "def dist_to_origin(gene_row):\n",
    "    l, r = gene_row.left, gene_row.right\n",
    "    seq_max = len(m_florum.sequence)\n",
    "    return np.min([\n",
    "        genome_point_to_point(m_florum.origin[0], l, seq_max),\n",
    "        genome_point_to_point(m_florum.origin[0], r, seq_max),\n",
    "        genome_point_to_point(m_florum.origin[1], l, seq_max),\n",
    "        genome_point_to_point(m_florum.origin[1], r, seq_max)\n",
    "    ])"
   ]
  },
  {
   "cell_type": "code",
   "execution_count": null,
   "metadata": {},
   "outputs": [],
   "source": [
    "gene_table_ml['origin_dist'] = gene_table_ml.apply(dist_to_origin, axis=1)\n",
    "gene_table_ml.head()"
   ]
  },
  {
   "cell_type": "code",
   "execution_count": null,
   "metadata": {},
   "outputs": [],
   "source": [
    "origin_dist_df = gene_table_ml[['origin_dist', 'mean_fpkm', 'tu_order', 'rep_strand']].dropna()\n",
    "origin_dist_df['log_fpkm'] = np.log(origin_dist_df['mean_fpkm'] + ETA)\n",
    "origin_dist_df = origin_dist_df[origin_dist_df['tu_order'] == 1]\n",
    "\n",
    "_, ax = plt.subplots(figsize=(10, 7))\n",
    "sns.scatterplot(x='origin_dist', y='log_fpkm', hue='rep_strand', data=origin_dist_df, ax=ax,\n",
    "               hue_order=['lagging', 'leading'])\n",
    "ax.tick_params(axis='both', labelsize=13)\n",
    "ax.set_xlabel('ORI to Gene Start (bp)', fontsize=13)\n",
    "ax.set_ylabel('log[FPKM]', fontsize=13)"
   ]
  },
  {
   "cell_type": "markdown",
   "metadata": {},
   "source": [
    "### 5'-UTR"
   ]
  },
  {
   "cell_type": "markdown",
   "metadata": {},
   "source": [
    "#### Length"
   ]
  },
  {
   "cell_type": "code",
   "execution_count": null,
   "metadata": {},
   "outputs": [],
   "source": [
    "def utr_len(gene_row):\n",
    "\n",
    "    gene_strong_tu = strongest_tu_for_gene(gene_row)\n",
    "    if gene_strong_tu is None:\n",
    "        return None\n",
    "    \n",
    "    all_tu_gene_ids = [gid for gid in gene_strong_tu.gene_names.split(';') if 'peg' in gid]\n",
    "    gene_df = m_florum.gene_table[m_florum.gene_table.index.isin(all_tu_gene_ids)]\n",
    "\n",
    "    if gene_strong_tu.strand == 1:\n",
    "        gene_starts = gene_df['left']\n",
    "        _, sorted_starts = list(zip(*sorted(zip(all_tu_gene_ids, gene_starts),\n",
    "                                          key=lambda tup: tup[1])))\n",
    "        utr_len = sorted_starts[0] - gene_strong_tu.tss\n",
    "    else:\n",
    "        gene_starts = gene_df['right']\n",
    "        # reverse the sort on the reverse strand so the highest gene start is first (that's closest to TSS)\n",
    "        _, sorted_starts = list(zip(*sorted(zip(all_tu_gene_ids, gene_starts),\n",
    "                                          key=lambda tup: tup[1], reverse=True)))\n",
    "        utr_len = gene_strong_tu.tss - sorted_starts[0]\n",
    "\n",
    "    return utr_len"
   ]
  },
  {
   "cell_type": "code",
   "execution_count": null,
   "metadata": {},
   "outputs": [],
   "source": [
    "gene_table_ml['utr_len'] = gene_table_ml.apply(utr_len, axis=1)\n",
    "gene_table_ml.head()"
   ]
  },
  {
   "cell_type": "code",
   "execution_count": null,
   "metadata": {},
   "outputs": [],
   "source": [
    "utr_len_df = gene_table_ml[['utr_len', 'mean_fpkm']].dropna()\n",
    "utr_len_df['log_fpkm'] = np.log(utr_len_df['mean_fpkm'] + ETA)\n",
    "utr_len_df = utr_len_df[utr_len_df['utr_len'] > 0]\n",
    "\n",
    "_, ax = plt.subplots(figsize=(10, 7))\n",
    "sns.scatterplot(x='utr_len', y='log_fpkm', data=utr_len_df, ax=ax)\n",
    "ax.tick_params(axis='both', labelsize=13)\n",
    "ax.set_xlabel(\"5' UTR Len (bp) \", fontsize=13)\n",
    "ax.set_ylabel('log[FPKM]', fontsize=13)"
   ]
  },
  {
   "cell_type": "markdown",
   "metadata": {},
   "source": [
    "#### GC Content"
   ]
  },
  {
   "cell_type": "code",
   "execution_count": null,
   "metadata": {},
   "outputs": [],
   "source": [
    "def utr_gc(gene_row):\n",
    "\n",
    "    gene_strong_tu = strongest_tu_for_gene(gene_row)\n",
    "    if gene_strong_tu is None:\n",
    "        return None\n",
    "    \n",
    "    all_tu_gene_ids = [gid for gid in gene_strong_tu.gene_names.split(';') if 'peg' in gid]\n",
    "    gene_df = m_florum.gene_table[m_florum.gene_table.index.isin(all_tu_gene_ids)]\n",
    "    if gene_strong_tu.strand == 1:\n",
    "        gene_starts = gene_df['left']\n",
    "        _, sorted_starts = list(zip(*sorted(zip(all_tu_gene_ids, gene_starts),\n",
    "                                          key=lambda tup: tup[1])))\n",
    "        utr_left, utr_right = gene_strong_tu.tss, sorted_starts[0]\n",
    "    else:\n",
    "        gene_starts = gene_df['right']\n",
    "        # reverse the sort on the reverse strand so the highest gene start is first (that's closest to TSS)\n",
    "        _, sorted_starts = list(zip(*sorted(zip(all_tu_gene_ids, gene_starts),\n",
    "                                          key=lambda tup: tup[1], reverse=True)))\n",
    "\n",
    "        utr_left, utr_right = sorted_starts[0], gene_strong_tu.tss\n",
    "        \n",
    "    # handle weird case with TU_052 and peg.78...double check data later\n",
    "    if utr_left > utr_right:\n",
    "        return None\n",
    "    else:\n",
    "        return GC(m_florum.get_sequence(utr_left, utr_right, gene_strong_tu.strand))"
   ]
  },
  {
   "cell_type": "code",
   "execution_count": null,
   "metadata": {},
   "outputs": [],
   "source": [
    "gene_table_ml['utr_gc'] = gene_table_ml.apply(utr_gc, axis=1)\n",
    "gene_table_ml.head()"
   ]
  },
  {
   "cell_type": "code",
   "execution_count": null,
   "metadata": {},
   "outputs": [],
   "source": [
    "utr_gc_df = gene_table_ml[['utr_gc', 'mean_fpkm']].dropna()\n",
    "utr_gc_df['log_fpkm'] = np.log(utr_gc_df['mean_fpkm'] + ETA)\n",
    "\n",
    "_, ax = plt.subplots(figsize=(10, 7))\n",
    "sns.scatterplot(x='utr_gc', y='log_fpkm', data=utr_gc_df, ax=ax)\n",
    "ax.tick_params(axis='both', labelsize=13)\n",
    "ax.set_xlabel(\"5' UTR GC %\", fontsize=13)\n",
    "ax.set_ylabel('log[FPKM]', fontsize=13)"
   ]
  },
  {
   "cell_type": "markdown",
   "metadata": {},
   "source": [
    "### Transcript Length"
   ]
  },
  {
   "cell_type": "code",
   "execution_count": null,
   "metadata": {},
   "outputs": [],
   "source": [
    "def tu_len(gene_row):\n",
    "\n",
    "    gene_strong_tu = strongest_tu_for_gene(gene_row)\n",
    "    if gene_strong_tu is None:\n",
    "        return None\n",
    "    else:\n",
    "        return gene_strong_tu.right - gene_strong_tu.left"
   ]
  },
  {
   "cell_type": "code",
   "execution_count": null,
   "metadata": {},
   "outputs": [],
   "source": [
    "gene_table_ml['tu_len'] = gene_table_ml.apply(tu_len, axis=1)\n",
    "gene_table_ml.head()"
   ]
  },
  {
   "cell_type": "code",
   "execution_count": null,
   "metadata": {},
   "outputs": [],
   "source": [
    "tu_len_df = gene_table_ml[['tu_len', 'mean_fpkm']].dropna()\n",
    "tu_len_df['log_fpkm'] = np.log(tu_len_df['mean_fpkm'] + ETA)\n",
    "\n",
    "_, ax = plt.subplots(figsize=(10, 7))\n",
    "sns.scatterplot(x='tu_len', y='log_fpkm', data=tu_len_df, ax=ax)\n",
    "ax.tick_params(axis='both', labelsize=13)\n",
    "ax.set_xlabel(\"TU Len (bp) \", fontsize=13)\n",
    "ax.set_ylabel('log[FPKM]', fontsize=13)"
   ]
  },
  {
   "cell_type": "markdown",
   "metadata": {},
   "source": [
    "### TU GC Content"
   ]
  },
  {
   "cell_type": "code",
   "execution_count": null,
   "metadata": {},
   "outputs": [],
   "source": [
    "def tu_gc(gene_row):\n",
    "\n",
    "    gene_strong_tu = strongest_tu_for_gene(gene_row)\n",
    "    if gene_strong_tu is None:\n",
    "        return None\n",
    "    else:\n",
    "        return GC(m_florum.get_feature_sequence(gene_strong_tu))"
   ]
  },
  {
   "cell_type": "code",
   "execution_count": null,
   "metadata": {},
   "outputs": [],
   "source": [
    "gene_table_ml['tu_gc'] = gene_table_ml.apply(tu_gc, axis=1)\n",
    "gene_table_ml.head()"
   ]
  },
  {
   "cell_type": "code",
   "execution_count": null,
   "metadata": {},
   "outputs": [],
   "source": [
    "tu_gc_df = gene_table_ml[['tu_gc', 'mean_fpkm']].dropna()\n",
    "tu_gc_df['log_fpkm'] = np.log(tu_gc_df['mean_fpkm'] + ETA)\n",
    "\n",
    "_, ax = plt.subplots(figsize=(10, 7))\n",
    "sns.scatterplot(x='tu_gc', y='log_fpkm', data=tu_gc_df, ax=ax)\n",
    "ax.tick_params(axis='both', labelsize=13)\n",
    "ax.set_xlabel(\"TU GC %\", fontsize=13)\n",
    "ax.set_ylabel('log[FPKM]', fontsize=13)"
   ]
  },
  {
   "cell_type": "markdown",
   "metadata": {},
   "source": [
    "### Genome Location\n",
    "\n",
    "Meant to be a crude approximation of the chromosome interacting domains discovered in M. pneumo (Cell Systems 2019)\n",
    "\n",
    "They discovered 44 CIDs; let's replicate that by just splitting the genome evenly into 44 pieces (yes very crude)\n",
    "\n",
    "Also to capture the circularity, do this in the sin of the radians"
   ]
  },
  {
   "cell_type": "code",
   "execution_count": null,
   "metadata": {},
   "outputs": [],
   "source": [
    "N_CID_BINS = 44\n",
    "\n",
    "def cid(gene_row):\n",
    "\n",
    "    gene_strong_tu = strongest_tu_for_gene(gene_row)\n",
    "    if gene_strong_tu is None:\n",
    "        return None\n",
    "    \n",
    "    if gene_strong_tu.strand == 1:\n",
    "        tu_start = gene_strong_tu.left\n",
    "    else:\n",
    "        tu_start = gene_strong_tu.right\n",
    "        \n",
    "    cid = np.floor(tu_start / len(m_florum.sequence) * N_CID_BINS)\n",
    "\n",
    "    return cid"
   ]
  },
  {
   "cell_type": "code",
   "execution_count": null,
   "metadata": {},
   "outputs": [],
   "source": [
    "gene_table_ml['cid'] = gene_table_ml.apply(cid, axis=1)\n",
    "gene_table_ml['cid_sin'] = gene_table_ml['cid'].apply(\n",
    "    lambda cid: np.round(np.sin(2 * np.pi * cid / N_CID_BINS), 4))\n",
    "gene_table_ml['cid_cos'] = gene_table_ml['cid'].apply(\n",
    "    lambda cid: np.round(np.cos(2 * np.pi * cid / N_CID_BINS), 4))\n",
    "gene_table_ml['cid_cat'] = gene_table_ml['cid'].apply(str)\n",
    "gene_table_ml = gene_table_ml.drop(columns=['cid'])\n",
    "gene_table_ml.plot.scatter('cid_sin','cid_cos').set_aspect('equal')"
   ]
  },
  {
   "cell_type": "code",
   "execution_count": null,
   "metadata": {},
   "outputs": [],
   "source": [
    "cid_df = gene_table_ml[['cid_sin', 'cid_cos', 'cid_cat', 'mean_fpkm']].dropna()\n",
    "cid_df['log_fpkm'] = np.log(cid_df['mean_fpkm'] + ETA)\n",
    "cid_df['sincos'] = cid_df.apply(lambda row: str(row.cid_sin) + str(row.cid_cos), axis=1)\n",
    "\n",
    "_, ax = plt.subplots(figsize=(15, 7))\n",
    "sns.boxplot(x='cid_cat', y='log_fpkm', data=cid_df, ax=ax, dodge=True)\n",
    "ax.tick_params(axis='both', labelsize=13)\n",
    "ax.tick_params(axis='x', rotation=90)\n",
    "ax.set_xlabel(\"CID\", fontsize=13)\n",
    "ax.set_ylabel('log[FPKM]', fontsize=13)"
   ]
  },
  {
   "cell_type": "markdown",
   "metadata": {},
   "source": [
    "#### ANOVA"
   ]
  },
  {
   "cell_type": "code",
   "execution_count": null,
   "metadata": {},
   "outputs": [],
   "source": [
    "exp_groups = []\n",
    "for sincos, sincos_df in cid_df.groupby('sincos'):\n",
    "    exp_groups.append(sincos_df['log_fpkm'])\n",
    "    \n",
    "f, p = f_oneway(*exp_groups)\n",
    "\n",
    "print(f'P value of ANOVA: {p:.2E}')"
   ]
  },
  {
   "cell_type": "markdown",
   "metadata": {},
   "source": [
    "### -10 Box\n",
    "\n",
    "Let's try something here; can we make these into categories?"
   ]
  },
  {
   "cell_type": "markdown",
   "metadata": {},
   "source": [
    "#### -10 Box Sequence"
   ]
  },
  {
   "cell_type": "code",
   "execution_count": null,
   "metadata": {},
   "outputs": [],
   "source": [
    "def box_10_seq(gene_row):\n",
    "\n",
    "    gene_strong_tu = strongest_tu_for_gene(gene_row)\n",
    "    if gene_strong_tu is None:\n",
    "        return None\n",
    "    \n",
    "    if not pd.isna(gene_strong_tu.box_10_left):\n",
    "        box_10_seq = str(m_florum.get_sequence(gene_strong_tu.box_10_left,\n",
    "                                           gene_strong_tu.box_10_right,\n",
    "                                           gene_strong_tu.strand))\n",
    "    else:\n",
    "        box_10_seq = None\n",
    "\n",
    "    return box_10_seq"
   ]
  },
  {
   "cell_type": "code",
   "execution_count": null,
   "metadata": {},
   "outputs": [],
   "source": [
    "gene_table_ml['box_10_seq'] = gene_table_ml.apply(box_10_seq, axis=1)\n",
    "gene_table_ml.head()"
   ]
  },
  {
   "cell_type": "code",
   "execution_count": null,
   "metadata": {},
   "outputs": [],
   "source": [
    "box_df = gene_table_ml[['box_10_seq', 'mean_fpkm']].dropna()\n",
    "box_df['log_fpkm'] = np.log(box_df['mean_fpkm'] + ETA)\n",
    "\n",
    "box_10_dfs = []\n",
    "\n",
    "for _, b10seq_df in box_df.groupby('box_10_seq'):\n",
    "    if b10seq_df.shape[0] > 5:\n",
    "        box_10_dfs.append(b10seq_df)\n",
    "        \n",
    "box_10_dfs = sorted(box_10_dfs, key=lambda df: df['log_fpkm'].median(), reverse=True)\n",
    "box_10_df = pd.concat(box_10_dfs)\n",
    "\n",
    "_, ax = plt.subplots(figsize=(15, 6))\n",
    "sns.boxplot(x='box_10_seq', y='log_fpkm', data=box_10_df, fliersize=0, ax=ax)\n",
    "sns.swarmplot(x='box_10_seq', y='log_fpkm', data=box_10_df, ax=ax)\n",
    "ax.tick_params(axis='both', labelsize=13)\n",
    "ax.set_xlabel('')\n",
    "ax.set_ylabel('log[FPKM]', fontsize=13)\n",
    "ax.set_xticklabels([f\"{lab.get_text()}\\n(n={box_10_df[box_10_df['box_10_seq'] == lab.get_text()].shape[0]})\"\n",
    "                   for lab in ax.get_xticklabels()])\n",
    "ax.set_title(f\"-10 Box Sequence (n={len(box_df['box_10_seq'].unique())}; 11 with >5 genes shown)\", fontsize=14)"
   ]
  },
  {
   "cell_type": "markdown",
   "metadata": {},
   "source": [
    "#### -10 Box Distance to TSS"
   ]
  },
  {
   "cell_type": "code",
   "execution_count": null,
   "metadata": {},
   "outputs": [],
   "source": [
    "def box_10_dist(gene_row):\n",
    "\n",
    "    gene_strong_tu = strongest_tu_for_gene(gene_row)\n",
    "    if gene_strong_tu is None:\n",
    "        return None\n",
    "    \n",
    "    if not pd.isna(gene_strong_tu.box_10_left):\n",
    "        box_10_tss_dist = int(min(\n",
    "            abs(gene_strong_tu.box_10_left - gene_strong_tu.tss),\n",
    "            abs(gene_strong_tu.box_10_right - gene_strong_tu.tss)\n",
    "        ))\n",
    "    else:\n",
    "        box_10_tss_dist = None\n",
    "\n",
    "    return box_10_tss_dist"
   ]
  },
  {
   "cell_type": "code",
   "execution_count": null,
   "metadata": {},
   "outputs": [],
   "source": [
    "gene_table_ml['box_10_dist'] = gene_table_ml.apply(box_10_dist, axis=1)\n",
    "gene_table_ml.head()"
   ]
  },
  {
   "cell_type": "code",
   "execution_count": null,
   "metadata": {},
   "outputs": [],
   "source": [
    "box_dist_df = gene_table_ml[['box_10_dist', 'mean_fpkm']].dropna()\n",
    "box_dist_df['log_fpkm'] = np.log(box_dist_df['mean_fpkm'] + ETA)\n",
    "box_dist_df = box_dist_df[box_dist_df['box_10_dist'] < 9]\n",
    "\n",
    "_, ax = plt.subplots(figsize=(15, 6))\n",
    "sns.boxplot(x='box_10_dist', y='log_fpkm', data=box_dist_df, fliersize=0, ax=ax)\n",
    "sns.swarmplot(x='box_10_dist', y='log_fpkm', data=box_dist_df, ax=ax)\n",
    "ax.tick_params(axis='both', labelsize=13)\n",
    "ax.set_xlabel('-10 Box Distance to TSS (bp)', fontsize=14)\n",
    "ax.set_xticklabels([\n",
    "    f\"{int(float(lab.get_text()))}\\n (n={box_dist_df[box_dist_df['box_10_dist'] == float(lab.get_text())].shape[0]})\"\n",
    "    for lab in ax.get_xticklabels()\n",
    "])\n",
    "ax.set_ylabel('log[FPKM]', fontsize=14)"
   ]
  },
  {
   "cell_type": "markdown",
   "metadata": {},
   "source": [
    "#### -10 Box Motif Strength"
   ]
  },
  {
   "cell_type": "code",
   "execution_count": null,
   "metadata": {},
   "outputs": [],
   "source": [
    "# let's recreate the -10 box motif using all known TUs\n",
    "box_10_seqs = []\n",
    "\n",
    "for tu_row in m_florum.tu_table.itertuples():\n",
    "    if not pd.isna(tu_row.box_10_left):\n",
    "        box_10_seq = m_florum.get_sequence(tu_row.box_10_left,\n",
    "                                           tu_row.box_10_right,\n",
    "                                           tu_row.strand)\n",
    "        box_10_seqs.append(box_10_seq)\n",
    "        \n",
    "box_10_motif = create_motif(box_10_seqs)\n",
    "box_10_pssm = box_10_motif.pssm"
   ]
  },
  {
   "cell_type": "code",
   "execution_count": null,
   "metadata": {},
   "outputs": [],
   "source": [
    "with open('temp.fa', 'w') as file_motif:\n",
    "    for i, seq in enumerate(box_10_seqs):\n",
    "        file_motif.write(f'>{i}\\n{str(seq)}\\n')\n",
    "        \n",
    "with open(\"temp.fa\") as file_motif:\n",
    "    seqs = read_seq_data(file_motif, alphabet=unambiguous_dna_alphabet)\n",
    "    \n",
    "os.remove('temp.fa')\n",
    "\n",
    "logodata = LogoData.from_seqs(seqs)\n",
    "logooptions = LogoOptions(\n",
    "    title='-10 Box Motif',\n",
    "    show_fineprint=False\n",
    ")\n",
    "logoformat = LogoFormat(logodata, logooptions)\n",
    "png = png_formatter(logodata, logoformat)\n",
    "Image(png)"
   ]
  },
  {
   "cell_type": "code",
   "execution_count": null,
   "metadata": {},
   "outputs": [],
   "source": [
    "def box_10_score(gene_row):\n",
    "\n",
    "    gene_strong_tu = strongest_tu_for_gene(gene_row)\n",
    "    if gene_strong_tu is None:\n",
    "        return None\n",
    "    \n",
    "    if not pd.isna(gene_strong_tu.box_10_left):\n",
    "        box_10_seq = m_florum.get_sequence(gene_strong_tu.box_10_left,\n",
    "                                          gene_strong_tu.box_10_right,\n",
    "                                          gene_strong_tu.strand)\n",
    "        box_10_score = score_motif_match(box_10_seq, box_10_pssm)\n",
    "    else:\n",
    "        box_10_score = None\n",
    "\n",
    "    return box_10_score"
   ]
  },
  {
   "cell_type": "code",
   "execution_count": null,
   "metadata": {},
   "outputs": [],
   "source": [
    "gene_table_ml['box_10_score'] = gene_table_ml.apply(box_10_score, axis=1)\n",
    "gene_table_ml.head()"
   ]
  },
  {
   "cell_type": "code",
   "execution_count": null,
   "metadata": {},
   "outputs": [],
   "source": [
    "box_10_score_df = gene_table_ml[['box_10_score', 'mean_fpkm']].dropna()\n",
    "box_10_score_df['log_fpkm'] = np.log(box_10_score_df['mean_fpkm'] + ETA)\n",
    "\n",
    "_, ax = plt.subplots()\n",
    "sns.scatterplot(x='box_10_score', y='log_fpkm', data=box_10_score_df, ax=ax)\n",
    "ax.tick_params(axis='both', labelsize=13)\n",
    "ax.set_xlabel('-10 Box Motif Score', fontsize=14)\n",
    "ax.set_ylabel('log[FPKM]', fontsize=14)"
   ]
  },
  {
   "cell_type": "markdown",
   "metadata": {},
   "source": [
    "#### Extended -10 Box AT Content\n",
    "\n",
    "AT content of 3 bp upstream of -10 box"
   ]
  },
  {
   "cell_type": "code",
   "execution_count": null,
   "metadata": {},
   "outputs": [],
   "source": [
    "def ext_10_at(gene_row):\n",
    "\n",
    "    gene_strong_tu = strongest_tu_for_gene(gene_row)\n",
    "    if gene_strong_tu is None:\n",
    "        return None\n",
    "    \n",
    "    if not pd.isna(gene_strong_tu.box_10_left):\n",
    "        if gene_strong_tu.strand == 1:\n",
    "            ext_10_seq = str(m_florum.get_sequence(gene_strong_tu.box_10_left - 3,\n",
    "                                           gene_strong_tu.box_10_left - 1,\n",
    "                                           gene_strong_tu.strand))\n",
    "        else:\n",
    "            ext_10_seq = str(m_florum.get_sequence(gene_strong_tu.box_10_right + 1,\n",
    "                                           gene_strong_tu.box_10_right + 3,\n",
    "                                           gene_strong_tu.strand))\n",
    "        ext_10_at = np.round((100 - GC(ext_10_seq)) / 100, decimals=2)\n",
    "    else:\n",
    "        ext_10_at = None\n",
    "\n",
    "    return ext_10_at"
   ]
  },
  {
   "cell_type": "code",
   "execution_count": null,
   "metadata": {},
   "outputs": [],
   "source": [
    "gene_table_ml['ext_10_at'] = gene_table_ml.apply(ext_10_at, axis=1)\n",
    "gene_table_ml.head()"
   ]
  },
  {
   "cell_type": "code",
   "execution_count": null,
   "metadata": {},
   "outputs": [],
   "source": [
    "ext_10_at_df = gene_table_ml[['ext_10_at', 'mean_fpkm']].dropna()\n",
    "ext_10_at_df['log_fpkm'] = np.log(ext_10_at_df['mean_fpkm'] + ETA)\n",
    "\n",
    "_, ax = plt.subplots()\n",
    "sns.boxplot(x='ext_10_at', y='log_fpkm', data=ext_10_at_df, ax=ax)\n",
    "ax.tick_params(axis='both', labelsize=13)\n",
    "ax.set_xlabel('Extended -10 Box AT Content', fontsize=14)\n",
    "ax.set_ylabel('log[FPKM]', fontsize=14)\n",
    "ax.set_xticklabels([\n",
    "    f\"{float(lab.get_text())}\\n (n={ext_10_at_df[ext_10_at_df['ext_10_at'] == float(lab.get_text())].shape[0]})\"\n",
    "    for lab in ax.get_xticklabels()\n",
    "])"
   ]
  },
  {
   "cell_type": "markdown",
   "metadata": {},
   "source": [
    "### CRE Sequence\n",
    "\n",
    "Let's try this again with the CRE (-4 to +2, core RNAP binding site)"
   ]
  },
  {
   "cell_type": "code",
   "execution_count": null,
   "metadata": {},
   "outputs": [],
   "source": [
    "def cre_seq(gene_row):\n",
    "\n",
    "    gene_strong_tu = strongest_tu_for_gene(gene_row)\n",
    "    if gene_strong_tu is None:\n",
    "        return None\n",
    "    \n",
    "    if not pd.isna(gene_strong_tu.tss):\n",
    "        if gene_strong_tu.strand == 1:\n",
    "            cre_seq = str(m_florum.get_sequence(gene_strong_tu.tss - 4,\n",
    "                                               gene_strong_tu.tss + 1,\n",
    "                                               gene_strong_tu.strand))\n",
    "        else:\n",
    "            cre_seq = str(m_florum.get_sequence(gene_strong_tu.tss - 1,\n",
    "                                               gene_strong_tu.tss + 4,\n",
    "                                               gene_strong_tu.strand))\n",
    "    else:\n",
    "        cre_seq = None\n",
    "\n",
    "    return cre_seq"
   ]
  },
  {
   "cell_type": "code",
   "execution_count": null,
   "metadata": {},
   "outputs": [],
   "source": [
    "gene_table_ml['cre_seq'] = gene_table_ml.apply(cre_seq, axis=1)\n",
    "gene_table_ml.head()"
   ]
  },
  {
   "cell_type": "code",
   "execution_count": null,
   "metadata": {},
   "outputs": [],
   "source": [
    "cre_df = gene_table_ml[['cre_seq', 'mean_fpkm']].dropna()\n",
    "\n",
    "_, ax = plt.subplots(figsize=(15, 6))\n",
    "sns.boxplot(x='cre_seq', y='mean_fpkm', data=cre_df, fliersize=0, ax=ax)\n",
    "ax.tick_params(axis='both', labelsize=13)\n",
    "ax.set_xlabel('')\n",
    "ax.tick_params(axis='x', rotation=90)\n",
    "ax.set_ylabel('Mean FPKM', fontsize=13)\n",
    "ax.set_title(f\"CRE Sequence (n={len(cre_df['cre_seq'].unique())})\", fontsize=14)"
   ]
  },
  {
   "cell_type": "markdown",
   "metadata": {},
   "source": [
    "#### TSS Nucleotide"
   ]
  },
  {
   "cell_type": "code",
   "execution_count": null,
   "metadata": {},
   "outputs": [],
   "source": [
    "def tss_base(gene_row):\n",
    "\n",
    "    gene_strong_tu = strongest_tu_for_gene(gene_row)\n",
    "    if gene_strong_tu is None:\n",
    "        return None\n",
    "    \n",
    "    if not pd.isna(gene_strong_tu.tss):\n",
    "        tss_base = str(m_florum.get_sequence(\n",
    "            gene_strong_tu.tss,\n",
    "            gene_strong_tu.tss,\n",
    "            gene_strong_tu.strand)\n",
    "                      )\n",
    "    else:\n",
    "        tss_base = None\n",
    "\n",
    "    return tss_base"
   ]
  },
  {
   "cell_type": "code",
   "execution_count": null,
   "metadata": {},
   "outputs": [],
   "source": [
    "gene_table_ml['tss_base'] = gene_table_ml.apply(tss_base, axis=1)\n",
    "gene_table_ml.head()"
   ]
  },
  {
   "cell_type": "code",
   "execution_count": null,
   "metadata": {},
   "outputs": [],
   "source": [
    "tss_base_df = gene_table_ml[['tss_base', 'mean_fpkm']].dropna()\n",
    "tss_base_df['log_fpkm'] = np.log(tss_base_df['mean_fpkm'] + ETA)\n",
    "\n",
    "_, ax = plt.subplots()\n",
    "sns.boxplot(x='tss_base', y='log_fpkm', data=tss_base_df, fliersize=0, ax=ax)\n",
    "sns.swarmplot(x='tss_base', y='log_fpkm', data=tss_base_df, ax=ax)\n",
    "ax.tick_params(axis='both', labelsize=13)\n",
    "ax.set_xlabel('')\n",
    "ax.set_ylabel('log[FPKM]', fontsize=13)\n",
    "ax.set_title(f\"TSS Base\", fontsize=14)\n",
    "ax.set_xticklabels([\n",
    "    f\"{lab.get_text()}\\n (n={tss_base_df[tss_base_df['tss_base'] == lab.get_text()].shape[0]})\"\n",
    "    for lab in ax.get_xticklabels()\n",
    "])"
   ]
  },
  {
   "cell_type": "markdown",
   "metadata": {},
   "source": [
    "#### TSS Dinucleotide (-1)"
   ]
  },
  {
   "cell_type": "code",
   "execution_count": null,
   "metadata": {},
   "outputs": [],
   "source": [
    "def tss_dinuc(gene_row):\n",
    "\n",
    "    gene_strong_tu = strongest_tu_for_gene(gene_row)\n",
    "    if gene_strong_tu is None:\n",
    "        return None\n",
    "    \n",
    "    if not pd.isna(gene_strong_tu.tss):\n",
    "        if gene_strong_tu.strand == 1:\n",
    "            tss_dinuc = str(m_florum.get_sequence(\n",
    "                gene_strong_tu.tss-1,\n",
    "                gene_strong_tu.tss,\n",
    "                gene_strong_tu.strand)\n",
    "                          )\n",
    "        else:\n",
    "            tss_dinuc = str(m_florum.get_sequence(\n",
    "                gene_strong_tu.tss,\n",
    "                gene_strong_tu.tss+1,\n",
    "                gene_strong_tu.strand)\n",
    "                          )\n",
    "    else:\n",
    "        tss_dinuc = None\n",
    "\n",
    "    return tss_dinuc"
   ]
  },
  {
   "cell_type": "code",
   "execution_count": null,
   "metadata": {},
   "outputs": [],
   "source": [
    "gene_table_ml['tss_dinuc'] = gene_table_ml.apply(tss_dinuc, axis=1)\n",
    "gene_table_ml.head()"
   ]
  },
  {
   "cell_type": "code",
   "execution_count": null,
   "metadata": {},
   "outputs": [],
   "source": [
    "tss_dinuc_df = gene_table_ml[['tss_dinuc', 'mean_fpkm']].dropna()\n",
    "tss_dinuc_df['log_fpkm'] = np.log(tss_dinuc_df['mean_fpkm'] + ETA)\n",
    "\n",
    "_, ax = plt.subplots(figsize=(10, 6))\n",
    "sns.boxplot(x='tss_dinuc', y='log_fpkm', data=tss_dinuc_df, fliersize=0, ax=ax)\n",
    "sns.swarmplot(x='tss_dinuc', y='log_fpkm', data=tss_dinuc_df, ax=ax)\n",
    "ax.tick_params(axis='both', labelsize=13)\n",
    "ax.set_xlabel('')\n",
    "ax.set_ylabel('log[FPKM]', fontsize=13)\n",
    "ax.set_title(f\"TSS Dinucleotide (-1/+1)\", fontsize=14)\n",
    "ax.set_xticklabels([\n",
    "    f\"{lab.get_text()}\\n (n={tss_dinuc_df[tss_dinuc_df['tss_dinuc'] == lab.get_text()].shape[0]})\"\n",
    "    for lab in ax.get_xticklabels()\n",
    "]);"
   ]
  },
  {
   "cell_type": "markdown",
   "metadata": {},
   "source": [
    "#### TSS Dinucleotide (+1)"
   ]
  },
  {
   "cell_type": "code",
   "execution_count": null,
   "metadata": {},
   "outputs": [],
   "source": [
    "def tss_dinuc_plus(gene_row):\n",
    "\n",
    "    gene_strong_tu = strongest_tu_for_gene(gene_row)\n",
    "    if gene_strong_tu is None:\n",
    "        return None\n",
    "    \n",
    "    if not pd.isna(gene_strong_tu.tss):\n",
    "        if gene_strong_tu.strand == 1:\n",
    "            tss_dinuc = str(m_florum.get_sequence(\n",
    "                gene_strong_tu.tss,\n",
    "                gene_strong_tu.tss+1,\n",
    "                gene_strong_tu.strand)\n",
    "                          )\n",
    "        else:\n",
    "            tss_dinuc = str(m_florum.get_sequence(\n",
    "                gene_strong_tu.tss-1,\n",
    "                gene_strong_tu.tss,\n",
    "                gene_strong_tu.strand)\n",
    "                          )\n",
    "    else:\n",
    "        tss_dinuc = None\n",
    "\n",
    "    return tss_dinuc"
   ]
  },
  {
   "cell_type": "code",
   "execution_count": null,
   "metadata": {},
   "outputs": [],
   "source": [
    "gene_table_ml['tss_dinuc_plus'] = gene_table_ml.apply(tss_dinuc_plus, axis=1)\n",
    "gene_table_ml.head()"
   ]
  },
  {
   "cell_type": "code",
   "execution_count": null,
   "metadata": {},
   "outputs": [],
   "source": [
    "tss_dinucp_df = gene_table_ml[['tss_dinuc_plus', 'mean_fpkm']].dropna()\n",
    "tss_dinucp_df['log_fpkm'] = np.log(tss_dinucp_df['mean_fpkm'] + ETA)\n",
    "\n",
    "_, ax = plt.subplots(figsize=(10, 6))\n",
    "sns.boxplot(x='tss_dinuc_plus', y='log_fpkm', data=tss_dinucp_df, fliersize=0, ax=ax)\n",
    "sns.swarmplot(x='tss_dinuc_plus', y='log_fpkm', data=tss_dinucp_df, ax=ax)\n",
    "ax.tick_params(axis='both', labelsize=13)\n",
    "ax.set_xlabel('')\n",
    "ax.set_ylabel('log[FPKM]', fontsize=13)\n",
    "ax.set_title(f\"TSS Dinucleotide (+1/+2)\", fontsize=14)\n",
    "ax.set_xticklabels([\n",
    "    f\"{lab.get_text()}\\n (n={tss_dinucp_df[tss_dinucp_df['tss_dinuc_plus'] == lab.get_text()].shape[0]})\"\n",
    "    for lab in ax.get_xticklabels()\n",
    "]);"
   ]
  },
  {
   "cell_type": "markdown",
   "metadata": {},
   "source": [
    "### Diverging Promoters\n",
    "\n",
    "Find and visualize instances where TUs are \"back-to-back\" (i.e. their TSSes are next to each other, going opposite ways)"
   ]
  },
  {
   "cell_type": "code",
   "execution_count": null,
   "metadata": {},
   "outputs": [],
   "source": [
    "sorted_tu_table = m_florum.tu_table.copy().sort_values(by='tss')\n",
    "\n",
    "i = 0\n",
    "\n",
    "ratios = []\n",
    "rand_ratios = []\n",
    "\n",
    "while i < sorted_tu_table.shape[0] - 1:\n",
    "    \n",
    "    tu_row_a = sorted_tu_table.iloc[i, :]\n",
    "    tu_row_b = sorted_tu_table.iloc[i+1, :]\n",
    "    \n",
    "    # this is the only way to have back-to-back, if we go along the positive strand\n",
    "    if tu_row_a.strand == -1 and tu_row_b.strand == 1:\n",
    "\n",
    "        tu_row_a_genes = tu_row_a.gene_names.split(';')\n",
    "        tu_a_gene_df = m_florum.gene_table[m_florum.gene_table.index.isin(tu_row_a_genes)]\n",
    "        tu_row_b_genes = tu_row_b.gene_names.split(';')\n",
    "        tu_b_gene_df = m_florum.gene_table[m_florum.gene_table.index.isin(tu_row_b_genes)]\n",
    "        \n",
    "        if not tu_a_gene_df.empty and not tu_b_gene_df.empty:\n",
    "            tu_a_exp = np.log(tu_a_gene_df.sort_values(by='right', ascending=False).iloc[0, :]['mean_fpkm'] + ETA)\n",
    "            tu_b_exp = np.log(tu_b_gene_df.sort_values(by='left').iloc[0, :]['mean_fpkm'] + ETA)\n",
    "        \n",
    "            ratio = min(tu_a_exp, tu_b_exp) / max(tu_a_exp, tu_b_exp)\n",
    "            ratios.append(ratio)\n",
    "            rand_exps = np.log(np.random.choice(m_florum.gene_table['mean_fpkm'], size=2) + ETA)\n",
    "            rand_ratio = min(rand_exps) / max(rand_exps)\n",
    "            rand_ratios.append(rand_ratio)\n",
    "            \n",
    "            i += 2\n",
    "        else:\n",
    "            i += 1\n",
    "    else:\n",
    "        i += 1\n",
    "        \n",
    "diverge_df = pd.DataFrame(data={'log[FPKM] Ratio': ratios + rand_ratios,\n",
    "                               'source': ['diverging'] * len(ratios) + ['random'] * len(rand_ratios)})\n",
    "\n",
    "_, ax = plt.subplots()\n",
    "\n",
    "t_stat, p_value = ttest_ind(ratios, rand_ratios, equal_var=False)\n",
    "\n",
    "sns.boxplot(x='source', y='log[FPKM] Ratio', data=diverge_df, ax=ax)\n",
    "ax.set_xlabel('')\n",
    "ax.set_ylabel('log[FPKM] Ratio', fontsize=13)\n",
    "ax.tick_params(axis='both', labelsize=13)\n",
    "ax.set_title('Effect of Diverging TUs on 1st Gene Expression', fontsize=14)\n",
    "ax.text(0.8, 0.2, f'P={p_value:.3f}', transform=ax.transAxes, fontsize=13)"
   ]
  },
  {
   "cell_type": "code",
   "execution_count": null,
   "metadata": {},
   "outputs": [],
   "source": [
    "_, ax = plt.subplots()\n",
    "\n",
    "t_stat, p_value = ttest_ind(ratios, rand_ratios, equal_var=False)\n",
    "\n",
    "sns.boxplot(x='source', y='log[FPKM] Ratio', data=diverge_df, ax=ax)\n",
    "ax.set_xlabel('')\n",
    "ax.set_ylabel('log[FPKM] Ratio', fontsize=13)\n",
    "ax.tick_params(axis='both', labelsize=13)\n",
    "ax.set_title('Effect of Diverging TUs on 1st Gene Expression', fontsize=14)\n",
    "ax.text(0.8, 0.2, f'P={p_value:.3f}', transform=ax.transAxes, fontsize=13)"
   ]
  },
  {
   "cell_type": "markdown",
   "metadata": {},
   "source": [
    "### Finalize Feature Matrices"
   ]
  },
  {
   "cell_type": "code",
   "execution_count": null,
   "metadata": {},
   "outputs": [],
   "source": [
    "X = gene_table_ml.drop(columns=['left', 'right', 'strand', 'KO', 'category', 'subcategory', 'subsubcategory',\n",
    "                               'product_name', 'name', 'sd_fpkm']).dropna()\n",
    "y = X['mean_fpkm']\n",
    "X = X.drop(columns=['mean_fpkm'])\n",
    "\n",
    "X_go_all = pd.get_dummies(X.copy())\n",
    "X_no_cre = pd.get_dummies(X.copy().drop(columns=['cre_seq']))\n",
    "X_no_box10 = pd.get_dummies(X.copy().drop(columns=['box_10_seq']))\n",
    "X_no_seqs = pd.get_dummies(X.copy().drop(columns=['cre_seq', 'box_10_seq']))\n",
    "\n",
    "Xy_to_try_go = {\n",
    "    'all': (X_go_all, y),\n",
    "    'no_cre': (X_no_cre, y),\n",
    "    'no_box10': (X_no_box10, y),\n",
    "    'no_seqs': (X_no_seqs, y)\n",
    "}"
   ]
  },
  {
   "cell_type": "markdown",
   "metadata": {},
   "source": [
    "### Set Aside Lockbox Data"
   ]
  },
  {
   "cell_type": "code",
   "execution_count": null,
   "metadata": {},
   "outputs": [],
   "source": [
    "Xy_train_to_use_go = {}\n",
    "Xy_lockbox_to_use_go = {}\n",
    "\n",
    "for name, (X, y) in Xy_to_try_go.items():\n",
    "    if X.shape[0] > 500:\n",
    "        test_size = 0.1\n",
    "    else:\n",
    "        test_size = 0.2\n",
    "    X_train, X_lockbox, y_train, y_lockbox = train_test_split(X, y, test_size=test_size, random_state=42)\n",
    "    Xy_train_to_use_go[name] = (X_train, y_train)\n",
    "    Xy_lockbox_to_use_go[name] = (X_lockbox, y_lockbox)"
   ]
  },
  {
   "cell_type": "markdown",
   "metadata": {},
   "source": [
    "# Initial Model Profiling - Genome Organization"
   ]
  },
  {
   "cell_type": "code",
   "execution_count": null,
   "metadata": {
    "scrolled": true
   },
   "outputs": [],
   "source": [
    "initial_profile_df_go = pd.DataFrame(\n",
    "    columns=['model', 'xy', 'train_r2', 'val_r2']\n",
    ")\n",
    "\n",
    "N_CV = 5\n",
    "\n",
    "for model_name, model in models_to_try.items():\n",
    "    for Xy_name, (X_train_raw, y_train_raw) in Xy_train_to_use_go.items():\n",
    "        \n",
    "        X_train_norm = StandardScaler().fit_transform(X_train_raw)\n",
    "        y_train_norm = StandardScaler().fit_transform(y_train_raw.values.reshape(-1, 1))\n",
    "        y_train_log = np.log(y_train_raw + ETA)\n",
    "        y_train_norm_log = StandardScaler().fit_transform(y_train_log.values.reshape(-1, 1))\n",
    "        \n",
    "        X_list = [('X_raw', X_train_raw), ('X_norm', X_train_norm)]\n",
    "        y_list = [('y_raw', y_train_raw), ('y_norm', y_train_norm),\n",
    "                 ('y_log', y_train_log), ('y_norm_log', y_train_norm_log)]\n",
    "        \n",
    "        Xy_final = {}\n",
    "        for (X_lab, X_mat), (y_lab, y_mat) in product(X_list, y_list):\n",
    "            Xy_lab_final = f'{Xy_name}__{X_lab}__{y_lab}'\n",
    "            Xy_final[Xy_lab_final] = (X_mat, y_mat)\n",
    "            \n",
    "        for Xy_full_name, (X_to_use, y_to_use) in Xy_final.items():\n",
    "\n",
    "            print(f'{model_name}: {Xy_full_name}')\n",
    "\n",
    "            cv_result = cross_validate(\n",
    "                model,\n",
    "                X_to_use,\n",
    "                y=y_to_use,\n",
    "                cv=N_CV,\n",
    "                scoring='r2',\n",
    "                return_train_score=True,\n",
    "                verbose=1,\n",
    "                n_jobs=N_CV\n",
    "            )\n",
    "\n",
    "            sub_result_df = pd.DataFrame(\n",
    "                data={\n",
    "                    'model': [model_name] * N_CV,\n",
    "                    'xy': [Xy_full_name] * N_CV,\n",
    "                    'train_r2': cv_result['train_score'],\n",
    "                    'val_r2': cv_result['test_score']\n",
    "                }\n",
    "            )\n",
    "\n",
    "            initial_profile_df_go = initial_profile_df_go.append(sub_result_df)"
   ]
  },
  {
   "cell_type": "code",
   "execution_count": null,
   "metadata": {},
   "outputs": [],
   "source": [
    "_, ax = plt.subplots(figsize=(10, 5))\n",
    "sns.boxplot(x='model', y='train_r2', data=initial_profile_df_go, hue='xy', dodge=True, ax=ax)\n",
    "ax.legend(loc='center left', bbox_to_anchor=(1.05, 0.5))\n",
    "ax.set_xlabel('')\n",
    "ax.set_ylabel('Training R-Squared')\n",
    "ax.set_ylim(bottom=0, top=1)"
   ]
  },
  {
   "cell_type": "code",
   "execution_count": null,
   "metadata": {
    "scrolled": false
   },
   "outputs": [],
   "source": [
    "to_plot_df = initial_profile_df_go[initial_profile_df_go['model'] == 'RF']\n",
    "\n",
    "_, ax = plt.subplots(figsize=(10, 5))\n",
    "sns.boxplot(x='model', y='val_r2', data=initial_profile_df_go, hue='xy', dodge=True, ax=ax)\n",
    "ax.legend(loc='center left', bbox_to_anchor=(1.05, 0.5))\n",
    "ax.set_xlabel('')\n",
    "ax.set_ylabel('Validation R-Squared')\n",
    "ax.set_ylim(0, 0.5)"
   ]
  },
  {
   "cell_type": "markdown",
   "metadata": {},
   "source": [
    "# Feature Importances - Genome Organization"
   ]
  },
  {
   "cell_type": "code",
   "execution_count": null,
   "metadata": {},
   "outputs": [],
   "source": [
    "X_fi_go, y_fi_go = Xy_train_to_use_go['no_cre']\n",
    "\n",
    "X_fi_go = pd.DataFrame(StandardScaler().fit_transform(X_fi_go), columns=X_fi_go.columns, index=X_fi_go.index)\n",
    "y_fi_go = np.log(y_fi_go + ETA)\n",
    "\n",
    "X_fi_go_train, X_fi_go_val, y_fi_go_train, y_fi_go_val = train_test_split(\n",
    "    X_fi_go, y_fi_go, test_size=0.15, random_state=35)"
   ]
  },
  {
   "cell_type": "code",
   "execution_count": null,
   "metadata": {},
   "outputs": [],
   "source": [
    "rf_fi_go = models_to_try['RF'].fit(X_fi_go_train, y_fi_go_train)\n",
    "explainer = shap.TreeExplainer(rf_fi_go)\n",
    "shap_values = explainer.shap_values(X_fi_go_val)"
   ]
  },
  {
   "cell_type": "code",
   "execution_count": null,
   "metadata": {},
   "outputs": [],
   "source": [
    "shap.summary_plot(shap_values, X_fi_go_val)"
   ]
  },
  {
   "cell_type": "markdown",
   "metadata": {},
   "source": [
    "# Hyperoptimization - Genome Organization"
   ]
  },
  {
   "cell_type": "code",
   "execution_count": null,
   "metadata": {},
   "outputs": [],
   "source": [
    "X_go_hyperopt, y_go_hyperopt = Xy_train_to_use_go['no_cre']\n",
    "\n",
    "X_go_hyperopt = pd.DataFrame(\n",
    "    StandardScaler().fit_transform(X_go_hyperopt), columns=X_go_hyperopt.columns, index=X_go_hyperopt.index)\n",
    "y_go_hyperopt = np.log(y_go_hyperopt + ETA)\n",
    "\n",
    "hyperopt_XY_go = {\n",
    "    'no_cre': (X_go_hyperopt, y_go_hyperopt)\n",
    "}"
   ]
  },
  {
   "cell_type": "code",
   "execution_count": null,
   "metadata": {},
   "outputs": [],
   "source": [
    "hyperopt_models = {\n",
    "    'RF': {\n",
    "        'model': RandomForestRegressor(),\n",
    "        'param_dists': {\n",
    "            'n_estimators': [25, 50, 100, 250],\n",
    "            'max_depth': np.arange(2, 20)\n",
    "        }\n",
    "    }\n",
    "}"
   ]
  },
  {
   "cell_type": "code",
   "execution_count": null,
   "metadata": {},
   "outputs": [],
   "source": [
    "hyperopt_results = {}\n",
    "\n",
    "for model_name, model_hyperopt_dict in hyperopt_models.items():\n",
    "\n",
    "    hyperopt_results[model_name] = {}\n",
    "    \n",
    "    for X_name, (X, y) in hyperopt_XY_go.items():\n",
    "        print(f'{model_name}: {X_name}')\n",
    "\n",
    "        random_search_hyperopt = RandomizedSearchCV(\n",
    "            model_hyperopt_dict['model'],\n",
    "            model_hyperopt_dict['param_dists'],\n",
    "            n_iter=25,\n",
    "            scoring='r2',\n",
    "            n_jobs=4,\n",
    "            cv=5,\n",
    "            verbose=3,\n",
    "            return_train_score=True\n",
    "        )\n",
    "\n",
    "        random_search_hyperopt.fit(X, y)\n",
    "\n",
    "        hyperopt_results_df = pd.DataFrame(random_search_hyperopt.cv_results_).sort_values(\n",
    "            by='mean_test_score',\n",
    "            ascending=False\n",
    "        )\n",
    "        hyperopt_results[model_name][X_name] = hyperopt_results_df"
   ]
  },
  {
   "cell_type": "code",
   "execution_count": null,
   "metadata": {
    "scrolled": false
   },
   "outputs": [],
   "source": [
    "hyperopt_results['RF']['no_cre'].iloc[:10, :][['params', 'mean_train_score', 'mean_test_score']]"
   ]
  },
  {
   "cell_type": "markdown",
   "metadata": {},
   "source": [
    "# TATAAT Group Variance"
   ]
  },
  {
   "cell_type": "markdown",
   "metadata": {},
   "source": [
    "## TSS Base"
   ]
  },
  {
   "cell_type": "code",
   "execution_count": null,
   "metadata": {},
   "outputs": [],
   "source": [
    "tata_df = gene_table_ml[gene_table_ml['box_10_seq'] == 'TATAAT'].copy()\n",
    "tata_df['log_fpkm'] = np.log(tata_df['mean_fpkm'] + ETA)\n",
    "# tata_df = tata_df[tata_df['tu_order'] == 1]\n",
    "\n",
    "_, ax = plt.subplots(figsize=(15, 6))\n",
    "sns.boxplot(x='tss_base', y='log_fpkm', data=tata_df, fliersize=0, ax=ax)\n",
    "sns.swarmplot(x='tss_base', y='log_fpkm', data=tata_df, ax=ax)\n",
    "ax.tick_params(axis='both', labelsize=13)\n",
    "ax.set_xlabel('')\n",
    "ax.set_ylabel('log[FPKM]', fontsize=13)\n",
    "ax.set_xticklabels([f\"{lab.get_text()}\\n(n={tata_df[tata_df['tss_base'] == lab.get_text()].shape[0]})\"\n",
    "                   for lab in ax.get_xticklabels()])\n",
    "ax.set_title('TSS Bases within TATAAT -10 Box Group', fontsize=14)"
   ]
  },
  {
   "cell_type": "markdown",
   "metadata": {},
   "source": [
    "## High-Expressed TATA/TSS A Genes"
   ]
  },
  {
   "cell_type": "code",
   "execution_count": null,
   "metadata": {
    "scrolled": true
   },
   "outputs": [],
   "source": [
    "tata_a_df = tata_df[tata_df['tss_base'] == 'A']\n",
    "tata_a_df['length'] = (tata_a_df['right'] - tata_a_df['left']).copy()\n",
    "\n",
    "tata_a_df[tata_a_df['log_fpkm'] > 8].sort_values(by='log_fpkm', ascending=False)"
   ]
  },
  {
   "cell_type": "markdown",
   "metadata": {},
   "source": [
    "- Many involved in central processes (central carbon metabolism, ribosome)\n",
    "- almost all on leading strand"
   ]
  },
  {
   "cell_type": "markdown",
   "metadata": {},
   "source": [
    "## Low-Expressed TATA/TSS A Genes"
   ]
  },
  {
   "cell_type": "code",
   "execution_count": null,
   "metadata": {
    "scrolled": true
   },
   "outputs": [],
   "source": [
    "tata_a_df[tata_a_df['log_fpkm'] < 4].sort_values(by='log_fpkm')"
   ]
  },
  {
   "cell_type": "markdown",
   "metadata": {},
   "source": [
    "## Origin Distance"
   ]
  },
  {
   "cell_type": "code",
   "execution_count": null,
   "metadata": {},
   "outputs": [],
   "source": [
    "_, ax = plt.subplots(figsize=(10, 7))\n",
    "sns.scatterplot(x='origin_dist', y='log_fpkm', data=tata_a_df, ax=ax)\n",
    "ax.tick_params(axis='both', labelsize=13)\n",
    "ax.set_xlabel('ORI to Gene Start (bp)', fontsize=13)\n",
    "ax.set_ylabel('log[FPKM]', fontsize=13)\n",
    "ax.set_title('ORI to Gene Start for TATAAT/TSS A Group', fontsize=14)"
   ]
  },
  {
   "cell_type": "markdown",
   "metadata": {},
   "source": [
    "## TU GC Content"
   ]
  },
  {
   "cell_type": "code",
   "execution_count": null,
   "metadata": {},
   "outputs": [],
   "source": [
    "_, ax = plt.subplots(figsize=(10, 7))\n",
    "sns.scatterplot(x='tu_gc', y='log_fpkm', data=tata_a_df, ax=ax)\n",
    "ax.tick_params(axis='both', labelsize=13)\n",
    "ax.set_xlabel('TU GC %', fontsize=13)\n",
    "ax.set_ylabel('log[FPKM]', fontsize=13)\n",
    "ax.set_title('TU GC Content for TATAAT/TSS A Group', fontsize=14)"
   ]
  },
  {
   "cell_type": "markdown",
   "metadata": {},
   "source": [
    "## 5'-UTR Length"
   ]
  },
  {
   "cell_type": "code",
   "execution_count": null,
   "metadata": {},
   "outputs": [],
   "source": [
    "_, ax = plt.subplots(figsize=(10, 7))\n",
    "sns.scatterplot(x='utr_len', y='log_fpkm', data=tata_a_df, ax=ax)\n",
    "ax.tick_params(axis='both', labelsize=13)\n",
    "ax.set_xlabel(\"5' UTR Len(bp)\", fontsize=13)\n",
    "ax.set_ylabel('log[FPKM]', fontsize=13)\n",
    "ax.set_title(\"5' UTR Length for TATAAT/TSS A Group\", fontsize=14)"
   ]
  },
  {
   "cell_type": "markdown",
   "metadata": {},
   "source": [
    "## TSS Dinucleotide"
   ]
  },
  {
   "cell_type": "code",
   "execution_count": null,
   "metadata": {},
   "outputs": [],
   "source": [
    "_, ax = plt.subplots(figsize=(15, 6))\n",
    "sns.boxplot(x='tss_dinuc', y='log_fpkm', data=tata_a_df, fliersize=0, ax=ax)\n",
    "sns.swarmplot(x='tss_dinuc', y='log_fpkm', data=tata_a_df, ax=ax)\n",
    "ax.tick_params(axis='both', labelsize=13)\n",
    "ax.set_xlabel('')\n",
    "ax.set_ylabel('log[FPKM]', fontsize=13)\n",
    "ax.set_xticklabels([f\"{lab.get_text()}\\n(n={tata_a_df[tata_a_df['tss_dinuc'] == lab.get_text()].shape[0]})\"\n",
    "                   for lab in ax.get_xticklabels()])\n",
    "ax.set_title('TSS Dinucleotide (-1/+1) within TATAAT -10 Box Group', fontsize=14)"
   ]
  },
  {
   "cell_type": "code",
   "execution_count": null,
   "metadata": {},
   "outputs": [],
   "source": [
    "_, ax = plt.subplots(figsize=(15, 6))\n",
    "sns.boxplot(x='tss_dinuc_plus', y='log_fpkm', data=tata_a_df, fliersize=0, ax=ax)\n",
    "sns.swarmplot(x='tss_dinuc_plus', y='log_fpkm', data=tata_a_df, ax=ax)\n",
    "ax.tick_params(axis='both', labelsize=13)\n",
    "ax.set_xlabel('')\n",
    "ax.set_ylabel('log[FPKM]', fontsize=13)\n",
    "ax.set_xticklabels([f\"{lab.get_text()}\\n(n={tata_a_df[tata_a_df['tss_dinuc_plus'] == lab.get_text()].shape[0]})\"\n",
    "                   for lab in ax.get_xticklabels()])\n",
    "ax.set_title('TSS Dinucleotide (+1/+2) within TATAAT -10 Box Group', fontsize=14)"
   ]
  },
  {
   "cell_type": "markdown",
   "metadata": {},
   "source": [
    "## Genome Location"
   ]
  },
  {
   "cell_type": "code",
   "execution_count": null,
   "metadata": {},
   "outputs": [],
   "source": [
    "tata_a_df['cid'] = tata_a_df.apply(cid, axis=1)\n",
    "\n",
    "_, ax = plt.subplots(figsize=(15, 6))\n",
    "sns.boxplot(x='cid', y='log_fpkm', data=tata_a_df, fliersize=0, ax=ax)\n",
    "sns.swarmplot(x='cid', y='log_fpkm', data=tata_a_df, ax=ax)\n",
    "ax.tick_params(axis='both', labelsize=13)\n",
    "ax.set_xlabel('')\n",
    "ax.tick_params(axis='x', rotation=90)\n",
    "ax.set_ylabel('log[FPKM]', fontsize=13)\n",
    "ax.set_xticklabels([f\"{lab.get_text()} (n={tata_a_df[tata_a_df['cid'] == lab.get_text()].shape[0]})\"\n",
    "                   for lab in ax.get_xticklabels()])\n",
    "ax.set_title('CID within TATAAT -10 Box Group', fontsize=14)"
   ]
  },
  {
   "cell_type": "markdown",
   "metadata": {},
   "source": [
    "## Modeling Expression within TATA/TSS A Group"
   ]
  },
  {
   "cell_type": "markdown",
   "metadata": {},
   "source": [
    "### Initial Model Profiling"
   ]
  },
  {
   "cell_type": "code",
   "execution_count": null,
   "metadata": {},
   "outputs": [],
   "source": [
    "X_no_cre_copy = Xy_to_try_go['no_cre'][0].copy()\n",
    "y_no_cre_copy = Xy_to_try_go['no_cre'][1].copy()\n",
    "\n",
    "X_tata_tss_a = X_no_cre_copy[\n",
    "    X_no_cre_copy.index.isin(tata_a_df.index)\n",
    "].drop(columns=[col for col in X_no_cre_copy.columns if ('tss_base' in col) or\n",
    "                (col == 'box_10_score') or ('box_10_seq' in col)])\n",
    "y_tata_tss_a = y_no_cre_copy[\n",
    "    X_no_cre_copy.index.isin(tata_a_df.index)\n",
    "]\n",
    "\n",
    "Xy_to_try_tata = {\n",
    "    'tata': (X_tata_tss_a, y_tata_tss_a)\n",
    "}\n",
    "\n",
    "Xy_train_to_use_tata = {}\n",
    "Xy_lockbox_to_use_tata = {}\n",
    "\n",
    "for name, (X, y) in Xy_to_try_tata.items():\n",
    "    if X.shape[0] > 500:\n",
    "        test_size = 0.1\n",
    "    else:\n",
    "        test_size = 0.2\n",
    "    X_train, X_lockbox, y_train, y_lockbox = train_test_split(X, y, test_size=test_size, random_state=42)\n",
    "    Xy_train_to_use_tata[name] = (X_train, y_train)\n",
    "    Xy_lockbox_to_use_tata[name] = (X_lockbox, y_lockbox)\n",
    "\n",
    "models_to_try_tata = {\n",
    "    'RF': models_to_try['RF']\n",
    "}"
   ]
  },
  {
   "cell_type": "code",
   "execution_count": null,
   "metadata": {
    "scrolled": true
   },
   "outputs": [],
   "source": [
    "initial_profile_df_tata = pd.DataFrame(\n",
    "    columns=['model', 'xy', 'train_r2', 'val_r2']\n",
    ")\n",
    "\n",
    "N_CV = 5\n",
    "\n",
    "for model_name, model in models_to_try_tata.items():\n",
    "    for Xy_name, (X_train_raw, y_train_raw) in Xy_train_to_use_tata.items():\n",
    "        \n",
    "        X_train_norm = StandardScaler().fit_transform(X_train_raw)\n",
    "        y_train_norm = StandardScaler().fit_transform(y_train_raw.values.reshape(-1, 1))\n",
    "        y_train_log = np.log(y_train_raw + ETA)\n",
    "        y_train_norm_log = StandardScaler().fit_transform(y_train_log.values.reshape(-1, 1))\n",
    "        \n",
    "        X_list = [('X_raw', X_train_raw), ('X_norm', X_train_norm)]\n",
    "        y_list = [('y_raw', y_train_raw), ('y_norm', y_train_norm),\n",
    "                 ('y_log', y_train_log), ('y_norm_log', y_train_norm_log)]\n",
    "        \n",
    "        Xy_final = {}\n",
    "        for (X_lab, X_mat), (y_lab, y_mat) in product(X_list, y_list):\n",
    "            Xy_lab_final = f'{Xy_name}__{X_lab}__{y_lab}'\n",
    "            Xy_final[Xy_lab_final] = (X_mat, y_mat)\n",
    "            \n",
    "        for Xy_full_name, (X_to_use, y_to_use) in Xy_final.items():\n",
    "\n",
    "            print(f'{model_name}: {Xy_full_name}')\n",
    "\n",
    "            cv_result = cross_validate(\n",
    "                model,\n",
    "                X_to_use,\n",
    "                y=y_to_use,\n",
    "                cv=N_CV,\n",
    "                scoring='r2',\n",
    "                return_train_score=True,\n",
    "                verbose=1,\n",
    "                n_jobs=N_CV\n",
    "            )\n",
    "\n",
    "            sub_result_df = pd.DataFrame(\n",
    "                data={\n",
    "                    'model': [model_name] * N_CV,\n",
    "                    'xy': [Xy_full_name] * N_CV,\n",
    "                    'train_r2': cv_result['train_score'],\n",
    "                    'val_r2': cv_result['test_score']\n",
    "                }\n",
    "            )\n",
    "\n",
    "            initial_profile_df_tata = initial_profile_df_tata.append(sub_result_df)"
   ]
  },
  {
   "cell_type": "code",
   "execution_count": null,
   "metadata": {},
   "outputs": [],
   "source": [
    "_, ax = plt.subplots(figsize=(10, 5))\n",
    "sns.boxplot(x='xy', y='train_r2', data=initial_profile_df_tata, dodge=True, ax=ax)\n",
    "ax.set_xlabel('')\n",
    "ax.tick_params(axis='x', rotation=90)\n",
    "ax.set_ylabel('Training R-Squared')\n",
    "ax.set_ylim(bottom=0, top=1)"
   ]
  },
  {
   "cell_type": "code",
   "execution_count": null,
   "metadata": {
    "scrolled": false
   },
   "outputs": [],
   "source": [
    "_, ax = plt.subplots(figsize=(10, 5))\n",
    "sns.boxplot(x='xy', y='val_r2', data=initial_profile_df_tata, dodge=True, ax=ax)\n",
    "ax.set_xlabel('')\n",
    "ax.tick_params(axis='x', rotation=90)\n",
    "ax.set_ylabel('Validation R-Squared')\n",
    "ax.set_ylim(0, 0.5)"
   ]
  },
  {
   "cell_type": "markdown",
   "metadata": {},
   "source": [
    "### Feature Importances"
   ]
  },
  {
   "cell_type": "code",
   "execution_count": null,
   "metadata": {},
   "outputs": [],
   "source": [
    "X_fi_tata, y_fi_tata = Xy_train_to_use_tata['tata']\n",
    "\n",
    "X_fi_tata = pd.DataFrame(StandardScaler().fit_transform(X_fi_tata), columns=X_fi_tata.columns,\n",
    "                         index=X_fi_tata.index)\n",
    "y_fi_tata = np.log(y_fi_tata + ETA)\n",
    "\n",
    "X_fi_tata_train, X_fi_tata_val, y_fi_tata_train, y_tata_go_val = train_test_split(\n",
    "    X_fi_tata, y_fi_tata, test_size=0.15, random_state=35)"
   ]
  },
  {
   "cell_type": "code",
   "execution_count": null,
   "metadata": {},
   "outputs": [],
   "source": [
    "rf_fi_tata = models_to_try_tata['RF'].fit(X_fi_tata_train, y_fi_tata_train)\n",
    "explainer = shap.TreeExplainer(rf_fi_tata)\n",
    "shap_values = explainer.shap_values(X_fi_tata_val)"
   ]
  },
  {
   "cell_type": "code",
   "execution_count": null,
   "metadata": {},
   "outputs": [],
   "source": [
    "shap.summary_plot(shap_values, X_fi_tata_val)"
   ]
  },
  {
   "cell_type": "markdown",
   "metadata": {},
   "source": [
    "# Alt -10 Box Distance Metrics"
   ]
  },
  {
   "cell_type": "markdown",
   "metadata": {},
   "source": [
    "## Significance of -10 Box Effect"
   ]
  },
  {
   "cell_type": "code",
   "execution_count": null,
   "metadata": {},
   "outputs": [],
   "source": [
    "box_10_counts = gene_table_ml['box_10_seq'].value_counts()\n",
    "box_10_common = box_10_counts[box_10_counts > 10]\n",
    "\n",
    "box_10_u_test_df = pd.DataFrame(columns=box_10_common.index, index=box_10_common.index)\n",
    "box_10_u_test_df = box_10_u_test_df.astype(float)\n",
    "\n",
    "for box_10_a, box_10_b in product(box_10_common.index, box_10_common.index):\n",
    "    box_10_a_exps = gene_table_ml[gene_table_ml['box_10_seq'] == box_10_a]['mean_fpkm']\n",
    "    box_10_b_exps = gene_table_ml[gene_table_ml['box_10_seq'] == box_10_b]['mean_fpkm']\n",
    "    u_stat, p_val = mannwhitneyu(box_10_a_exps, box_10_b_exps, alternative='two-sided')\n",
    "    box_10_u_test_df.loc[box_10_a, box_10_b] = p_val\n",
    "\n",
    "reject, pval_corr = multicomp(box_10_u_test_df.values, method='fdr_bh')\n",
    "sig_df = pd.DataFrame(reject, columns=box_10_common.index, index=box_10_common.index)\n",
    "\n",
    "_, ax = plt.subplots(figsize=(10, 7))\n",
    "sns.heatmap(sig_df, ax=ax)\n",
    "ax.tick_params(axis='y', rotation=0)"
   ]
  },
  {
   "cell_type": "markdown",
   "metadata": {},
   "source": [
    "# Next Steps - 2/2/21"
   ]
  },
  {
   "cell_type": "markdown",
   "metadata": {},
   "source": [
    "- Redo the above analysis with just the first gene in each TU that has a TATAAT box and TSS A\n",
    "- Ask Anand about estimating noise levels (technical, amplification) from raw RNAseq data\n",
    "- Add 5'UTR length as feature\n",
    "- Add transcript length as feature\n",
    "- Add transcript GC content\n",
    "- Investigate better distance metric for -10 box scores\n",
    "    - Wilcoxon test for significance of expression difference for different -10 box scores\n",
    "    - does DNA shape describe differences between these scores?\n",
    "    - Sizhe's linear discriminant method?\n",
    "    \n",
    "- try the one-hot model that centers some features on the pre-discovered locations of features\n",
    "    - i.e. +/-10 "
   ]
  },
  {
   "cell_type": "markdown",
   "metadata": {},
   "source": [
    "# Next Steps - 2/9/21\n",
    "\n",
    "- port this workflow over to E. coli to see where we're at there\n",
    "- try to get TRN/regulatory information for M. florum\n",
    "    - from ICA of M. pneumo\n",
    "    - from BLAST of putative M. florum regulators against M. pneumo (or maybe even E coli)\n",
    "- get the shape function added and actually look at -10 box shape\n",
    "    - with the goal of a distance metric for motifs that has something to do with expression"
   ]
  },
  {
   "cell_type": "code",
   "execution_count": null,
   "metadata": {},
   "outputs": [],
   "source": []
  }
 ],
 "metadata": {
  "kernelspec": {
   "display_name": "Python 3",
   "language": "python",
   "name": "python3"
  },
  "language_info": {
   "codemirror_mode": {
    "name": "ipython",
    "version": 3
   },
   "file_extension": ".py",
   "mimetype": "text/x-python",
   "name": "python",
   "nbconvert_exporter": "python",
   "pygments_lexer": "ipython3",
   "version": "3.8.3"
  },
  "toc": {
   "base_numbering": 1,
   "nav_menu": {
    "height": "12px",
    "width": "160px"
   },
   "number_sections": true,
   "sideBar": true,
   "skip_h1_title": false,
   "title_cell": "Table of Contents",
   "title_sidebar": "Contents",
   "toc_cell": false,
   "toc_position": {
    "height": "calc(100% - 180px)",
    "left": "10px",
    "top": "150px",
    "width": "459px"
   },
   "toc_section_display": true,
   "toc_window_display": true
  }
 },
 "nbformat": 4,
 "nbformat_minor": 4
}
