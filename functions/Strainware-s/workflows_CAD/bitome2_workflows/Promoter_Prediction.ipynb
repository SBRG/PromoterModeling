{
 "cells": [
  {
   "cell_type": "code",
   "execution_count": 1,
   "metadata": {},
   "outputs": [],
   "source": [
    "import itertools\n",
    "import os\n",
    "from pathlib import Path\n",
    "import subprocess\n",
    "import sys\n",
    "\n",
    "from Bio import SeqIO\n",
    "from Bio.Align import MultipleSeqAlignment\n",
    "from Bio.Seq import Seq\n",
    "from Bio.SeqRecord import SeqRecord\n",
    "from matplotlib.cm import get_cmap\n",
    "import matplotlib.pyplot as plt\n",
    "from scipy.spatial.distance import hamming\n",
    "import seaborn as sns\n",
    "from tqdm.notebook import tqdm\n",
    "\n",
    "sys.path.append('../../bitome2')\n",
    "sys.path.append('../')\n",
    "\n",
    "from bitome.core import Bitome\n",
    "from feature_functions import *\n",
    "from math import log,inf"
   ]
  },
  {
   "cell_type": "code",
   "execution_count": 2,
   "metadata": {},
   "outputs": [],
   "source": [
    "K12_DATA_PATH = Path('../data/bitome2/mg1655')\n",
    "\n",
    "# need to edit the path\n",
    "FINDER_PATH = Path('../../BTSSFINDER/BTSSFINDER/bTSSfinder')\n",
    "BLAST_PATH = Path('../data/multi_strain_blast/')\n",
    "OP_PATH = Path('../data/multistrain_blast_operon/')\n",
    "Prom_PATH = Path('../data/promoter_pred/')"
   ]
  },
  {
   "cell_type": "code",
   "execution_count": 3,
   "metadata": {},
   "outputs": [],
   "source": [
    "origin = (3925743, 3925975)\n",
    "terminus = (1341745, 1609180)\n",
    "cid_boundaries = [50000, 142779, 223485, 446815, 927474, 985894, 1080000, 1195008, 1301085, 1577657,\n",
    "                 1799393, 1852621, 2102875, 2259719, 2380722, 2533498, 2726069, 2905711, 2996372, 3297098,\n",
    "                 3423423, 3440040, 3652182, 3811250, 3941516, 4035239, 4166484, 4470986]\n",
    "\n",
    "mg1655 = Bitome(\n",
    "    Path(K12_DATA_PATH, 'NC_000913.3.gb'),\n",
    "    name='MG1655',\n",
    "    origin=origin, terminus=terminus,\n",
    "    cid_boundaries=cid_boundaries,\n",
    "    gene_table=Path(K12_DATA_PATH, 'gene_info_supp.csv'),\n",
    "    tu_table=Path(K12_DATA_PATH, 'tu.csv'),\n",
    "    operon_table=Path(K12_DATA_PATH, 'operon_bitomekb.csv'),\n",
    "    tss_table=Path(K12_DATA_PATH, 'tss.csv'),\n",
    "    # TODO PARSE TTS data\n",
    "    tts_table=None,\n",
    "    tfbs_table=Path(K12_DATA_PATH, 'tfbs.csv'),\n",
    "    terminator_table=Path(K12_DATA_PATH, 'terminator.csv'),\n",
    "    attenuator_table=Path(K12_DATA_PATH, 'attenuator.csv'),\n",
    "    rbs_table=Path(K12_DATA_PATH, 'rbs.csv'),\n",
    "    riboswitch_table=Path(K12_DATA_PATH, 'riboswitch.csv')\n",
    ")"
   ]
  },
  {
   "cell_type": "markdown",
   "metadata": {},
   "source": [
    "## multistrain bitomes"
   ]
  },
  {
   "cell_type": "code",
   "execution_count": 4,
   "metadata": {},
   "outputs": [],
   "source": [
    "bitomes_by_id = {}\n",
    "\n",
    "genome_dir = Path('..', 'data', 'e_coli_genomes', 'refseq')\n",
    "\n",
    "for file in os.listdir(genome_dir):\n",
    "    gb_id = file.split('.')[0]\n",
    "    bitome = Bitome(Path(genome_dir, file),cid_boundaries=cid_boundaries)\n",
    "    b_id = bitome.reference_id\n",
    "    # print(b_id)\n",
    "    tu_table_path = Path('../data/Fur_multistrain_SN/'+b_id[0:-2] +'_' + b_id[-1], 'tu.csv')\n",
    "    op_table_path = Path('../data/Fur_multistrain_SN/'+b_id[0:-2] +'_' + b_id[-1], 'operon.csv')\n",
    "    bitome = Bitome(Path(genome_dir, file),cid_boundaries=cid_boundaries,\n",
    "                    tu_table= tu_table_path, operon_table = op_table_path)\n",
    "    bitomes_by_id[bitome.reference_id] = bitome"
   ]
  },
  {
   "cell_type": "code",
   "execution_count": 5,
   "metadata": {},
   "outputs": [
    {
     "data": {
      "text/plain": [
       "{'NC_012971.2': <bitome.core.Bitome at 0x7f28c8721580>,\n",
       " 'NC_010468.1': <bitome.core.Bitome at 0x7f2800505340>,\n",
       " 'NC_004431.1': <bitome.core.Bitome at 0x7f28000ff880>,\n",
       " 'NC_007779.1': <bitome.core.Bitome at 0x7f2800ee62e0>,\n",
       " 'NC_017660.1': <bitome.core.Bitome at 0x7f28013f5250>,\n",
       " 'NC_017626.1': <bitome.core.Bitome at 0x7f27f9a8adc0>,\n",
       " 'NC_002695.1': <bitome.core.Bitome at 0x7f27f37cf310>,\n",
       " 'NC_017635.1': <bitome.core.Bitome at 0x7f2800789790>}"
      ]
     },
     "execution_count": 5,
     "metadata": {},
     "output_type": "execute_result"
    }
   ],
   "source": [
    "bitomes_by_id"
   ]
  },
  {
   "cell_type": "code",
   "execution_count": 6,
   "metadata": {},
   "outputs": [
    {
     "name": "stdout",
     "output_type": "stream",
     "text": [
      "[('Escherichia coli BL21(DE3), complete genome', 'NC_012971.2'), ('Escherichia coli ATCC 8739, complete genome', 'NC_010468.1'), ('Escherichia coli CFT073, complete genome', 'NC_004431.1'), ('Escherichia coli str. K-12 substr. W3110 DNA, complete genome', 'NC_007779.1'), ('Escherichia coli KO11FL, complete genome', 'NC_017660.1'), ('Escherichia coli 042 complete genome', 'NC_017626.1'), ('Escherichia coli O157:H7 str. Sakai, complete genome', 'NC_002695.1'), ('Escherichia coli W, complete genome', 'NC_017635.1')]\n"
     ]
    }
   ],
   "source": [
    "print([(b.description, b.reference_id) for b in bitomes_by_id.values()])\n",
    "id_to_name = {\n",
    "    'NC_004431.1': 'CFT073','NC_017626.1': '042','NC_007779.1': 'W3110',\n",
    "    'NC_002695.1': 'O157:H7','NC_010468.1': 'Crooks','NC_017660.1': 'KO11FL',\n",
    "    'NC_012971.2': 'BL21','NC_017635.1': 'W'\n",
    "}\n",
    "name_to_id = {}\n",
    "for ID in id_to_name.keys():\n",
    "    name_to_id[ id_to_name[ID]] = ID"
   ]
  },
  {
   "cell_type": "markdown",
   "metadata": {},
   "source": [
    "## assess sequence quality"
   ]
  },
  {
   "cell_type": "code",
   "execution_count": 7,
   "metadata": {},
   "outputs": [],
   "source": [
    "def count_und( seq ):\n",
    "    count = seq.count('A') + seq.count('T') + seq.count('C') + seq.count('G')\n",
    "    return len(seq) - count"
   ]
  },
  {
   "cell_type": "code",
   "execution_count": 8,
   "metadata": {},
   "outputs": [
    {
     "data": {
      "text/plain": [
       "{'CFT073': 'NC_004431.1',\n",
       " '042': 'NC_017626.1',\n",
       " 'W3110': 'NC_007779.1',\n",
       " 'O157:H7': 'NC_002695.1',\n",
       " 'Crooks': 'NC_010468.1',\n",
       " 'KO11FL': 'NC_017660.1',\n",
       " 'BL21': 'NC_012971.2',\n",
       " 'W': 'NC_017635.1'}"
      ]
     },
     "execution_count": 8,
     "metadata": {},
     "output_type": "execute_result"
    }
   ],
   "source": [
    "name_to_id"
   ]
  },
  {
   "cell_type": "code",
   "execution_count": 9,
   "metadata": {},
   "outputs": [
    {
     "data": {
      "text/plain": [
       "<BarContainer object of 8 artists>"
      ]
     },
     "execution_count": 9,
     "metadata": {},
     "output_type": "execute_result"
    },
    {
     "data": {
      "image/png": "[encoded data removed]",
      "text/plain": [
       "<Figure size 432x288 with 1 Axes>"
      ]
     },
     "metadata": {
      "needs_background": "light"
     },
     "output_type": "display_data"
    }
   ],
   "source": [
    "und_count = []\n",
    "for k in name_to_id.keys():\n",
    "    num = count_und( bitomes_by_id[name_to_id[k]].sequence )\n",
    "    und_count.append( num )\n",
    "\n",
    "plt.bar( list(name_to_id.keys()) , und_count )"
   ]
  },
  {
   "cell_type": "code",
   "execution_count": 10,
   "metadata": {},
   "outputs": [],
   "source": [
    "with open(Path(Prom_PATH, 'mg1655_genes.fasta'), 'w') as file_out:\n",
    "    \n",
    "    clean_gene_table = mg1655.gene_table[(mg1655.gene_table['left'].notna()) & (mg1655.gene_table['right'].notna()) & \n",
    "                                    (mg1655.gene_table['strand'].notna()) ]\n",
    "    \n",
    "    for row in clean_gene_table.itertuples():\n",
    "        if row.left < 400:\n",
    "            continue\n",
    "        if row.strand == 1:\n",
    "            seq = str(mg1655.get_sequence(row.left-400, row.right, row.strand))\n",
    "        else:\n",
    "            seq = str(mg1655.get_sequence(row.left, row.right+400, row.strand))\n",
    "            \n",
    "        file_out.write(f'>{row.Index}\\n{seq}\\n')"
   ]
  },
  {
   "cell_type": "code",
   "execution_count": 11,
   "metadata": {},
   "outputs": [],
   "source": [
    "import os\n",
    "os.environ[\"bTSSfinder_Data\"] = \"../../BTSSFINDER/BTSSFINDER/Data\" \n",
    "#export bTSSfinder_Data=\"../../BTSSFINDER/BTSSFINDER/Data\""
   ]
  },
  {
   "cell_type": "code",
   "execution_count": 12,
   "metadata": {},
   "outputs": [
    {
     "data": {
      "text/plain": [
       "b''"
      ]
     },
     "execution_count": 12,
     "metadata": {},
     "output_type": "execute_result"
    }
   ],
   "source": [
    "# RUN BTSSFINDER \n",
    "# 1.90, 1.91, 1.92, 1.95\n",
    "\n",
    "subprocess.check_output([FINDER_PATH,\n",
    "                             '-i', Path(Prom_PATH, 'mg1655_genes.fasta'),\n",
    "                             '-o', Path(Prom_PATH, 'mg1655'), '-h', '2','-t', 'e', '-c', '70', '-a', '1.90' ])"
   ]
  },
  {
   "cell_type": "code",
   "execution_count": 13,
   "metadata": {},
   "outputs": [],
   "source": [
    "pred_columns = ['gene_id','pred_start','pred_end','feature_name',\n",
    "                'score','strand','thickStart','thickEnd','RGB','num_blocks','block_size','block_start']"
   ]
  },
  {
   "cell_type": "code",
   "execution_count": 14,
   "metadata": {},
   "outputs": [],
   "source": [
    "mg1655_pred = pd.read_table( Path(Prom_PATH, 'mg1655.bed'), header= None )\n",
    "mg1655_pred.columns = pred_columns\n",
    "mg1655_pred = mg1655_pred[ (mg1655_pred['thickStart']<400) ]\n",
    "mg1655_pred = mg1655_pred.reset_index()\n",
    "mg1655_pred = mg1655_pred.drop(columns=['index'])"
   ]
  },
  {
   "cell_type": "code",
   "execution_count": 15,
   "metadata": {},
   "outputs": [
    {
     "data": {
      "text/html": [
       "<div>\n",
       "<style scoped>\n",
       "    .dataframe tbody tr th:only-of-type {\n",
       "        vertical-align: middle;\n",
       "    }\n",
       "\n",
       "    .dataframe tbody tr th {\n",
       "        vertical-align: top;\n",
       "    }\n",
       "\n",
       "    .dataframe thead th {\n",
       "        text-align: right;\n",
       "    }\n",
       "</style>\n",
       "<table border=\"1\" class=\"dataframe\">\n",
       "  <thead>\n",
       "    <tr style=\"text-align: right;\">\n",
       "      <th></th>\n",
       "      <th>gene_id</th>\n",
       "      <th>pred_start</th>\n",
       "      <th>pred_end</th>\n",
       "      <th>feature_name</th>\n",
       "      <th>score</th>\n",
       "      <th>strand</th>\n",
       "      <th>thickStart</th>\n",
       "      <th>thickEnd</th>\n",
       "      <th>RGB</th>\n",
       "      <th>num_blocks</th>\n",
       "      <th>block_size</th>\n",
       "      <th>block_start</th>\n",
       "    </tr>\n",
       "  </thead>\n",
       "  <tbody>\n",
       "    <tr>\n",
       "      <th>0</th>\n",
       "      <td>b0005</td>\n",
       "      <td>1</td>\n",
       "      <td>500</td>\n",
       "      <td>sigma70_TSS1+</td>\n",
       "      <td>0</td>\n",
       "      <td>+</td>\n",
       "      <td>257</td>\n",
       "      <td>257</td>\n",
       "      <td>255,0,0</td>\n",
       "      <td>2</td>\n",
       "      <td>6,6</td>\n",
       "      <td>218,243</td>\n",
       "    </tr>\n",
       "    <tr>\n",
       "      <th>1</th>\n",
       "      <td>b0005</td>\n",
       "      <td>1</td>\n",
       "      <td>500</td>\n",
       "      <td>sigma70_TSS1-</td>\n",
       "      <td>0</td>\n",
       "      <td>-</td>\n",
       "      <td>243</td>\n",
       "      <td>243</td>\n",
       "      <td>255,0,0</td>\n",
       "      <td>2</td>\n",
       "      <td>6,6</td>\n",
       "      <td>276,255</td>\n",
       "    </tr>\n",
       "    <tr>\n",
       "      <th>2</th>\n",
       "      <td>b0006</td>\n",
       "      <td>1</td>\n",
       "      <td>500</td>\n",
       "      <td>sigma70_TSS1-</td>\n",
       "      <td>0</td>\n",
       "      <td>-</td>\n",
       "      <td>133</td>\n",
       "      <td>133</td>\n",
       "      <td>255,0,0</td>\n",
       "      <td>2</td>\n",
       "      <td>6,6</td>\n",
       "      <td>168,145</td>\n",
       "    </tr>\n",
       "    <tr>\n",
       "      <th>3</th>\n",
       "      <td>b0007</td>\n",
       "      <td>1</td>\n",
       "      <td>500</td>\n",
       "      <td>sigma70_TSS1+</td>\n",
       "      <td>0</td>\n",
       "      <td>+</td>\n",
       "      <td>344</td>\n",
       "      <td>344</td>\n",
       "      <td>255,0,0</td>\n",
       "      <td>2</td>\n",
       "      <td>6,6</td>\n",
       "      <td>311,332</td>\n",
       "    </tr>\n",
       "    <tr>\n",
       "      <th>4</th>\n",
       "      <td>b0007</td>\n",
       "      <td>1</td>\n",
       "      <td>500</td>\n",
       "      <td>sigma70_TSS1-</td>\n",
       "      <td>0</td>\n",
       "      <td>-</td>\n",
       "      <td>299</td>\n",
       "      <td>299</td>\n",
       "      <td>255,0,0</td>\n",
       "      <td>2</td>\n",
       "      <td>6,6</td>\n",
       "      <td>335,312</td>\n",
       "    </tr>\n",
       "    <tr>\n",
       "      <th>...</th>\n",
       "      <td>...</td>\n",
       "      <td>...</td>\n",
       "      <td>...</td>\n",
       "      <td>...</td>\n",
       "      <td>...</td>\n",
       "      <td>...</td>\n",
       "      <td>...</td>\n",
       "      <td>...</td>\n",
       "      <td>...</td>\n",
       "      <td>...</td>\n",
       "      <td>...</td>\n",
       "      <td>...</td>\n",
       "    </tr>\n",
       "    <tr>\n",
       "      <th>4845</th>\n",
       "      <td>b4401</td>\n",
       "      <td>1</td>\n",
       "      <td>500</td>\n",
       "      <td>sigma70_TSS1+</td>\n",
       "      <td>0</td>\n",
       "      <td>+</td>\n",
       "      <td>237</td>\n",
       "      <td>237</td>\n",
       "      <td>255,0,0</td>\n",
       "      <td>2</td>\n",
       "      <td>6,6</td>\n",
       "      <td>203,225</td>\n",
       "    </tr>\n",
       "    <tr>\n",
       "      <th>4846</th>\n",
       "      <td>b4401</td>\n",
       "      <td>1</td>\n",
       "      <td>500</td>\n",
       "      <td>sigma70_TSS1-</td>\n",
       "      <td>0</td>\n",
       "      <td>-</td>\n",
       "      <td>297</td>\n",
       "      <td>297</td>\n",
       "      <td>255,0,0</td>\n",
       "      <td>2</td>\n",
       "      <td>6,6</td>\n",
       "      <td>331,309</td>\n",
       "    </tr>\n",
       "    <tr>\n",
       "      <th>4847</th>\n",
       "      <td>b4402</td>\n",
       "      <td>1</td>\n",
       "      <td>500</td>\n",
       "      <td>sigma70_TSS1-</td>\n",
       "      <td>0</td>\n",
       "      <td>-</td>\n",
       "      <td>231</td>\n",
       "      <td>231</td>\n",
       "      <td>255,0,0</td>\n",
       "      <td>2</td>\n",
       "      <td>6,6</td>\n",
       "      <td>269,243</td>\n",
       "    </tr>\n",
       "    <tr>\n",
       "      <th>4848</th>\n",
       "      <td>b4403</td>\n",
       "      <td>1</td>\n",
       "      <td>500</td>\n",
       "      <td>sigma70_TSS1+</td>\n",
       "      <td>0</td>\n",
       "      <td>+</td>\n",
       "      <td>209</td>\n",
       "      <td>209</td>\n",
       "      <td>255,0,0</td>\n",
       "      <td>2</td>\n",
       "      <td>6,6</td>\n",
       "      <td>172,197</td>\n",
       "    </tr>\n",
       "    <tr>\n",
       "      <th>4849</th>\n",
       "      <td>b4403</td>\n",
       "      <td>1</td>\n",
       "      <td>500</td>\n",
       "      <td>sigma70_TSS1-</td>\n",
       "      <td>0</td>\n",
       "      <td>-</td>\n",
       "      <td>263</td>\n",
       "      <td>263</td>\n",
       "      <td>255,0,0</td>\n",
       "      <td>2</td>\n",
       "      <td>6,6</td>\n",
       "      <td>296,275</td>\n",
       "    </tr>\n",
       "  </tbody>\n",
       "</table>\n",
       "<p>4850 rows × 12 columns</p>\n",
       "</div>"
      ],
      "text/plain": [
       "     gene_id  pred_start  pred_end   feature_name  score strand  thickStart  \\\n",
       "0      b0005           1       500  sigma70_TSS1+      0      +         257   \n",
       "1      b0005           1       500  sigma70_TSS1-      0      -         243   \n",
       "2      b0006           1       500  sigma70_TSS1-      0      -         133   \n",
       "3      b0007           1       500  sigma70_TSS1+      0      +         344   \n",
       "4      b0007           1       500  sigma70_TSS1-      0      -         299   \n",
       "...      ...         ...       ...            ...    ...    ...         ...   \n",
       "4845   b4401           1       500  sigma70_TSS1+      0      +         237   \n",
       "4846   b4401           1       500  sigma70_TSS1-      0      -         297   \n",
       "4847   b4402           1       500  sigma70_TSS1-      0      -         231   \n",
       "4848   b4403           1       500  sigma70_TSS1+      0      +         209   \n",
       "4849   b4403           1       500  sigma70_TSS1-      0      -         263   \n",
       "\n",
       "      thickEnd      RGB  num_blocks block_size block_start  \n",
       "0          257  255,0,0           2        6,6     218,243  \n",
       "1          243  255,0,0           2        6,6     276,255  \n",
       "2          133  255,0,0           2        6,6     168,145  \n",
       "3          344  255,0,0           2        6,6     311,332  \n",
       "4          299  255,0,0           2        6,6     335,312  \n",
       "...        ...      ...         ...        ...         ...  \n",
       "4845       237  255,0,0           2        6,6     203,225  \n",
       "4846       297  255,0,0           2        6,6     331,309  \n",
       "4847       231  255,0,0           2        6,6     269,243  \n",
       "4848       209  255,0,0           2        6,6     172,197  \n",
       "4849       263  255,0,0           2        6,6     296,275  \n",
       "\n",
       "[4850 rows x 12 columns]"
      ]
     },
     "execution_count": 15,
     "metadata": {},
     "output_type": "execute_result"
    }
   ],
   "source": [
    "mg1655_pred"
   ]
  },
  {
   "cell_type": "code",
   "execution_count": 16,
   "metadata": {},
   "outputs": [
    {
     "data": {
      "text/plain": [
       "(array([ 60.,  43.,  33.,  40.,  55.,  38.,  44.,  41.,  46.,  28.,  41.,\n",
       "         39.,  37.,  56.,  60.,  54.,  52.,  52.,  72.,  57.,  68., 110.,\n",
       "        133., 104.,  99., 126., 152., 137., 152., 160., 165., 162., 174.,\n",
       "        183., 217., 231.,  70.,  82.,  79., 100.,  82.,  92.,  88.,  94.,\n",
       "        125., 145., 246., 115., 122.,  89.]),\n",
       " array([-349.  , -342.04, -335.08, -328.12, -321.16, -314.2 , -307.24,\n",
       "        -300.28, -293.32, -286.36, -279.4 , -272.44, -265.48, -258.52,\n",
       "        -251.56, -244.6 , -237.64, -230.68, -223.72, -216.76, -209.8 ,\n",
       "        -202.84, -195.88, -188.92, -181.96, -175.  , -168.04, -161.08,\n",
       "        -154.12, -147.16, -140.2 , -133.24, -126.28, -119.32, -112.36,\n",
       "        -105.4 ,  -98.44,  -91.48,  -84.52,  -77.56,  -70.6 ,  -63.64,\n",
       "         -56.68,  -49.72,  -42.76,  -35.8 ,  -28.84,  -21.88,  -14.92,\n",
       "          -7.96,   -1.  ]),\n",
       " <BarContainer object of 50 artists>)"
      ]
     },
     "execution_count": 16,
     "metadata": {},
     "output_type": "execute_result"
    },
    {
     "data": {
      "image/png": "[encoded data removed]",
      "text/plain": [
       "<Figure size 432x288 with 1 Axes>"
      ]
     },
     "metadata": {
      "needs_background": "light"
     },
     "output_type": "display_data"
    }
   ],
   "source": [
    "plt.hist( np.array( [(x-400) for x in mg1655_pred['thickStart']] ), bins = 50)"
   ]
  },
  {
   "cell_type": "code",
   "execution_count": 17,
   "metadata": {},
   "outputs": [],
   "source": [
    "tss_list = []\n",
    "for i in range( len(mg1655_pred['gene_id']) ):\n",
    "    g_id = list(mg1655_pred['gene_id'])[i]\n",
    "    thickstart = list(mg1655_pred['thickStart'])[i]\n",
    "    strand = mg1655.gene_table.loc[g_id].strand\n",
    "    left = mg1655.gene_table.loc[g_id].left\n",
    "    right = mg1655.gene_table.loc[g_id].right\n",
    "    if type(strand) != np.int64:\n",
    "        strand = strand[0]\n",
    "        left = left[0]\n",
    "        right = right[0]\n",
    "    if strand == 1:\n",
    "        tss_list.append( left -400 + thickstart )\n",
    "    else:\n",
    "        tss_list.append( right+400 - thickstart )\n",
    "mg1655_pred['tss_pred'] = tss_list"
   ]
  },
  {
   "cell_type": "code",
   "execution_count": 129,
   "metadata": {
    "scrolled": true
   },
   "outputs": [
    {
     "data": {
      "text/html": [
       "<div>\n",
       "<style scoped>\n",
       "    .dataframe tbody tr th:only-of-type {\n",
       "        vertical-align: middle;\n",
       "    }\n",
       "\n",
       "    .dataframe tbody tr th {\n",
       "        vertical-align: top;\n",
       "    }\n",
       "\n",
       "    .dataframe thead th {\n",
       "        text-align: right;\n",
       "    }\n",
       "</style>\n",
       "<table border=\"1\" class=\"dataframe\">\n",
       "  <thead>\n",
       "    <tr style=\"text-align: right;\">\n",
       "      <th></th>\n",
       "      <th>gene_id</th>\n",
       "      <th>pred_start</th>\n",
       "      <th>pred_end</th>\n",
       "      <th>feature_name</th>\n",
       "      <th>score</th>\n",
       "      <th>strand</th>\n",
       "      <th>thickStart</th>\n",
       "      <th>thickEnd</th>\n",
       "      <th>RGB</th>\n",
       "      <th>num_blocks</th>\n",
       "      <th>block_size</th>\n",
       "      <th>block_start</th>\n",
       "      <th>tss_pred</th>\n",
       "    </tr>\n",
       "  </thead>\n",
       "  <tbody>\n",
       "    <tr>\n",
       "      <th>5</th>\n",
       "      <td>b0007</td>\n",
       "      <td>1</td>\n",
       "      <td>500</td>\n",
       "      <td>sigma70_TSS1-</td>\n",
       "      <td>0</td>\n",
       "      <td>-</td>\n",
       "      <td>299</td>\n",
       "      <td>299</td>\n",
       "      <td>255,0,0</td>\n",
       "      <td>2</td>\n",
       "      <td>6,6</td>\n",
       "      <td>335,312</td>\n",
       "      <td>8060</td>\n",
       "    </tr>\n",
       "    <tr>\n",
       "      <th>6</th>\n",
       "      <td>b0008</td>\n",
       "      <td>1</td>\n",
       "      <td>500</td>\n",
       "      <td>sigma70_TSS1+</td>\n",
       "      <td>0</td>\n",
       "      <td>+</td>\n",
       "      <td>224</td>\n",
       "      <td>224</td>\n",
       "      <td>255,0,0</td>\n",
       "      <td>2</td>\n",
       "      <td>6,6</td>\n",
       "      <td>188,211</td>\n",
       "      <td>8062</td>\n",
       "    </tr>\n",
       "    <tr>\n",
       "      <th>7</th>\n",
       "      <td>b0008</td>\n",
       "      <td>1</td>\n",
       "      <td>500</td>\n",
       "      <td>sigma70_TSS1-</td>\n",
       "      <td>0</td>\n",
       "      <td>-</td>\n",
       "      <td>179</td>\n",
       "      <td>179</td>\n",
       "      <td>255,0,0</td>\n",
       "      <td>2</td>\n",
       "      <td>6,6</td>\n",
       "      <td>212,191</td>\n",
       "      <td>8017</td>\n",
       "    </tr>\n",
       "    <tr>\n",
       "      <th>8</th>\n",
       "      <td>b0009</td>\n",
       "      <td>1</td>\n",
       "      <td>500</td>\n",
       "      <td>sigma70_TSS1-</td>\n",
       "      <td>0</td>\n",
       "      <td>-</td>\n",
       "      <td>227</td>\n",
       "      <td>227</td>\n",
       "      <td>255,0,0</td>\n",
       "      <td>2</td>\n",
       "      <td>6,6</td>\n",
       "      <td>263,239</td>\n",
       "      <td>9133</td>\n",
       "    </tr>\n",
       "    <tr>\n",
       "      <th>9</th>\n",
       "      <td>b0010</td>\n",
       "      <td>1</td>\n",
       "      <td>500</td>\n",
       "      <td>sigma70_TSS1+</td>\n",
       "      <td>0</td>\n",
       "      <td>+</td>\n",
       "      <td>333</td>\n",
       "      <td>333</td>\n",
       "      <td>255,0,0</td>\n",
       "      <td>2</td>\n",
       "      <td>6,6</td>\n",
       "      <td>297,320</td>\n",
       "      <td>10561</td>\n",
       "    </tr>\n",
       "    <tr>\n",
       "      <th>...</th>\n",
       "      <td>...</td>\n",
       "      <td>...</td>\n",
       "      <td>...</td>\n",
       "      <td>...</td>\n",
       "      <td>...</td>\n",
       "      <td>...</td>\n",
       "      <td>...</td>\n",
       "      <td>...</td>\n",
       "      <td>...</td>\n",
       "      <td>...</td>\n",
       "      <td>...</td>\n",
       "      <td>...</td>\n",
       "      <td>...</td>\n",
       "    </tr>\n",
       "    <tr>\n",
       "      <th>7583</th>\n",
       "      <td>b4401</td>\n",
       "      <td>1</td>\n",
       "      <td>500</td>\n",
       "      <td>sigma70_TSS1+</td>\n",
       "      <td>0</td>\n",
       "      <td>+</td>\n",
       "      <td>237</td>\n",
       "      <td>237</td>\n",
       "      <td>255,0,0</td>\n",
       "      <td>2</td>\n",
       "      <td>6,6</td>\n",
       "      <td>203,225</td>\n",
       "      <td>4640469</td>\n",
       "    </tr>\n",
       "    <tr>\n",
       "      <th>7584</th>\n",
       "      <td>b4401</td>\n",
       "      <td>1</td>\n",
       "      <td>500</td>\n",
       "      <td>sigma70_TSS1-</td>\n",
       "      <td>0</td>\n",
       "      <td>-</td>\n",
       "      <td>297</td>\n",
       "      <td>297</td>\n",
       "      <td>255,0,0</td>\n",
       "      <td>2</td>\n",
       "      <td>6,6</td>\n",
       "      <td>331,309</td>\n",
       "      <td>4640409</td>\n",
       "    </tr>\n",
       "    <tr>\n",
       "      <th>7585</th>\n",
       "      <td>b4402</td>\n",
       "      <td>1</td>\n",
       "      <td>500</td>\n",
       "      <td>sigma70_TSS1-</td>\n",
       "      <td>0</td>\n",
       "      <td>-</td>\n",
       "      <td>231</td>\n",
       "      <td>231</td>\n",
       "      <td>255,0,0</td>\n",
       "      <td>2</td>\n",
       "      <td>6,6</td>\n",
       "      <td>269,243</td>\n",
       "      <td>4640233</td>\n",
       "    </tr>\n",
       "    <tr>\n",
       "      <th>7586</th>\n",
       "      <td>b4403</td>\n",
       "      <td>1</td>\n",
       "      <td>500</td>\n",
       "      <td>sigma70_TSS1+</td>\n",
       "      <td>0</td>\n",
       "      <td>+</td>\n",
       "      <td>209</td>\n",
       "      <td>209</td>\n",
       "      <td>255,0,0</td>\n",
       "      <td>2</td>\n",
       "      <td>6,6</td>\n",
       "      <td>172,197</td>\n",
       "      <td>4640751</td>\n",
       "    </tr>\n",
       "    <tr>\n",
       "      <th>7587</th>\n",
       "      <td>b4403</td>\n",
       "      <td>1</td>\n",
       "      <td>500</td>\n",
       "      <td>sigma70_TSS1-</td>\n",
       "      <td>0</td>\n",
       "      <td>-</td>\n",
       "      <td>263</td>\n",
       "      <td>263</td>\n",
       "      <td>255,0,0</td>\n",
       "      <td>2</td>\n",
       "      <td>6,6</td>\n",
       "      <td>296,275</td>\n",
       "      <td>4640805</td>\n",
       "    </tr>\n",
       "  </tbody>\n",
       "</table>\n",
       "<p>7583 rows × 13 columns</p>\n",
       "</div>"
      ],
      "text/plain": [
       "     gene_id  pred_start  pred_end   feature_name  score strand  thickStart  \\\n",
       "5      b0007           1       500  sigma70_TSS1-      0      -         299   \n",
       "6      b0008           1       500  sigma70_TSS1+      0      +         224   \n",
       "7      b0008           1       500  sigma70_TSS1-      0      -         179   \n",
       "8      b0009           1       500  sigma70_TSS1-      0      -         227   \n",
       "9      b0010           1       500  sigma70_TSS1+      0      +         333   \n",
       "...      ...         ...       ...            ...    ...    ...         ...   \n",
       "7583   b4401           1       500  sigma70_TSS1+      0      +         237   \n",
       "7584   b4401           1       500  sigma70_TSS1-      0      -         297   \n",
       "7585   b4402           1       500  sigma70_TSS1-      0      -         231   \n",
       "7586   b4403           1       500  sigma70_TSS1+      0      +         209   \n",
       "7587   b4403           1       500  sigma70_TSS1-      0      -         263   \n",
       "\n",
       "      thickEnd      RGB  num_blocks block_size block_start  tss_pred  \n",
       "5          299  255,0,0           2        6,6     335,312      8060  \n",
       "6          224  255,0,0           2        6,6     188,211      8062  \n",
       "7          179  255,0,0           2        6,6     212,191      8017  \n",
       "8          227  255,0,0           2        6,6     263,239      9133  \n",
       "9          333  255,0,0           2        6,6     297,320     10561  \n",
       "...        ...      ...         ...        ...         ...       ...  \n",
       "7583       237  255,0,0           2        6,6     203,225   4640469  \n",
       "7584       297  255,0,0           2        6,6     331,309   4640409  \n",
       "7585       231  255,0,0           2        6,6     269,243   4640233  \n",
       "7586       209  255,0,0           2        6,6     172,197   4640751  \n",
       "7587       263  255,0,0           2        6,6     296,275   4640805  \n",
       "\n",
       "[7583 rows x 13 columns]"
      ]
     },
     "execution_count": 129,
     "metadata": {},
     "output_type": "execute_result"
    }
   ],
   "source": [
    "mg1655_pred[5:]"
   ]
  },
  {
   "cell_type": "code",
   "execution_count": 20,
   "metadata": {},
   "outputs": [
    {
     "data": {
      "text/html": [
       "<div>\n",
       "<style scoped>\n",
       "    .dataframe tbody tr th:only-of-type {\n",
       "        vertical-align: middle;\n",
       "    }\n",
       "\n",
       "    .dataframe tbody tr th {\n",
       "        vertical-align: top;\n",
       "    }\n",
       "\n",
       "    .dataframe thead th {\n",
       "        text-align: right;\n",
       "    }\n",
       "</style>\n",
       "<table border=\"1\" class=\"dataframe\">\n",
       "  <thead>\n",
       "    <tr style=\"text-align: right;\">\n",
       "      <th></th>\n",
       "      <th>left</th>\n",
       "      <th>right</th>\n",
       "      <th>strand</th>\n",
       "      <th>pseudo</th>\n",
       "      <th>name</th>\n",
       "      <th>cog</th>\n",
       "      <th>essential</th>\n",
       "      <th>y-ome</th>\n",
       "      <th>tpm</th>\n",
       "      <th>tpm_ctrl</th>\n",
       "      <th>tpm_all</th>\n",
       "      <th>reg_effect</th>\n",
       "      <th>log_tpm</th>\n",
       "      <th>type</th>\n",
       "      <th>tss</th>\n",
       "      <th>sigma_factor</th>\n",
       "      <th>box_10_left</th>\n",
       "      <th>box_10_right</th>\n",
       "      <th>box_35_left</th>\n",
       "      <th>box_35_right</th>\n",
       "    </tr>\n",
       "    <tr>\n",
       "      <th>locus_tag</th>\n",
       "      <th></th>\n",
       "      <th></th>\n",
       "      <th></th>\n",
       "      <th></th>\n",
       "      <th></th>\n",
       "      <th></th>\n",
       "      <th></th>\n",
       "      <th></th>\n",
       "      <th></th>\n",
       "      <th></th>\n",
       "      <th></th>\n",
       "      <th></th>\n",
       "      <th></th>\n",
       "      <th></th>\n",
       "      <th></th>\n",
       "      <th></th>\n",
       "      <th></th>\n",
       "      <th></th>\n",
       "      <th></th>\n",
       "      <th></th>\n",
       "    </tr>\n",
       "  </thead>\n",
       "  <tbody>\n",
       "    <tr>\n",
       "      <th>b0036</th>\n",
       "      <td>35377.0</td>\n",
       "      <td>36162.0</td>\n",
       "      <td>-1.0</td>\n",
       "      <td>False</td>\n",
       "      <td>caiD</td>\n",
       "      <td>I</td>\n",
       "      <td>NaN</td>\n",
       "      <td>well-annotated</td>\n",
       "      <td>1.415302</td>\n",
       "      <td>1.183032</td>\n",
       "      <td>1.416581</td>\n",
       "      <td>dual</td>\n",
       "      <td>1.272204</td>\n",
       "      <td>gene</td>\n",
       "      <td>NaN</td>\n",
       "      <td>NaN</td>\n",
       "      <td>NaN</td>\n",
       "      <td>NaN</td>\n",
       "      <td>NaN</td>\n",
       "      <td>NaN</td>\n",
       "    </tr>\n",
       "    <tr>\n",
       "      <th>b0036</th>\n",
       "      <td>35377.0</td>\n",
       "      <td>36162.0</td>\n",
       "      <td>-1.0</td>\n",
       "      <td>NaN</td>\n",
       "      <td>carnitinyl-CoA dehydratase</td>\n",
       "      <td>NaN</td>\n",
       "      <td>NaN</td>\n",
       "      <td>NaN</td>\n",
       "      <td>NaN</td>\n",
       "      <td>NaN</td>\n",
       "      <td>NaN</td>\n",
       "      <td>NaN</td>\n",
       "      <td>NaN</td>\n",
       "      <td>protein</td>\n",
       "      <td>NaN</td>\n",
       "      <td>NaN</td>\n",
       "      <td>NaN</td>\n",
       "      <td>NaN</td>\n",
       "      <td>NaN</td>\n",
       "      <td>NaN</td>\n",
       "    </tr>\n",
       "    <tr>\n",
       "      <th>ECK120009437</th>\n",
       "      <td>34781.0</td>\n",
       "      <td>42037.0</td>\n",
       "      <td>-1.0</td>\n",
       "      <td>NaN</td>\n",
       "      <td>caiTABCDE</td>\n",
       "      <td>NaN</td>\n",
       "      <td>NaN</td>\n",
       "      <td>NaN</td>\n",
       "      <td>NaN</td>\n",
       "      <td>NaN</td>\n",
       "      <td>NaN</td>\n",
       "      <td>NaN</td>\n",
       "      <td>NaN</td>\n",
       "      <td>tu</td>\n",
       "      <td>42037.0</td>\n",
       "      <td>Sigma70</td>\n",
       "      <td>42044.0</td>\n",
       "      <td>42049.0</td>\n",
       "      <td>42071.0</td>\n",
       "      <td>42076.0</td>\n",
       "    </tr>\n",
       "    <tr>\n",
       "      <th>ECK120033587</th>\n",
       "      <td>34781.0</td>\n",
       "      <td>37824.0</td>\n",
       "      <td>-1.0</td>\n",
       "      <td>NaN</td>\n",
       "      <td>caiCDE</td>\n",
       "      <td>NaN</td>\n",
       "      <td>NaN</td>\n",
       "      <td>NaN</td>\n",
       "      <td>NaN</td>\n",
       "      <td>NaN</td>\n",
       "      <td>NaN</td>\n",
       "      <td>NaN</td>\n",
       "      <td>NaN</td>\n",
       "      <td>tu</td>\n",
       "      <td>NaN</td>\n",
       "      <td>NaN</td>\n",
       "      <td>NaN</td>\n",
       "      <td>NaN</td>\n",
       "      <td>NaN</td>\n",
       "      <td>NaN</td>\n",
       "    </tr>\n",
       "    <tr>\n",
       "      <th>ECK120014786</th>\n",
       "      <td>34781.0</td>\n",
       "      <td>42272.0</td>\n",
       "      <td>-1.0</td>\n",
       "      <td>NaN</td>\n",
       "      <td>caiTABCDE</td>\n",
       "      <td>NaN</td>\n",
       "      <td>NaN</td>\n",
       "      <td>NaN</td>\n",
       "      <td>NaN</td>\n",
       "      <td>NaN</td>\n",
       "      <td>NaN</td>\n",
       "      <td>NaN</td>\n",
       "      <td>NaN</td>\n",
       "      <td>operon</td>\n",
       "      <td>NaN</td>\n",
       "      <td>NaN</td>\n",
       "      <td>NaN</td>\n",
       "      <td>NaN</td>\n",
       "      <td>NaN</td>\n",
       "      <td>NaN</td>\n",
       "    </tr>\n",
       "  </tbody>\n",
       "</table>\n",
       "</div>"
      ],
      "text/plain": [
       "                 left    right  strand pseudo                        name  \\\n",
       "locus_tag                                                                   \n",
       "b0036         35377.0  36162.0    -1.0  False                        caiD   \n",
       "b0036         35377.0  36162.0    -1.0    NaN  carnitinyl-CoA dehydratase   \n",
       "ECK120009437  34781.0  42037.0    -1.0    NaN                   caiTABCDE   \n",
       "ECK120033587  34781.0  37824.0    -1.0    NaN                      caiCDE   \n",
       "ECK120014786  34781.0  42272.0    -1.0    NaN                   caiTABCDE   \n",
       "\n",
       "              cog essential           y-ome       tpm  tpm_ctrl   tpm_all  \\\n",
       "locus_tag                                                                   \n",
       "b0036           I       NaN  well-annotated  1.415302  1.183032  1.416581   \n",
       "b0036         NaN       NaN             NaN       NaN       NaN       NaN   \n",
       "ECK120009437  NaN       NaN             NaN       NaN       NaN       NaN   \n",
       "ECK120033587  NaN       NaN             NaN       NaN       NaN       NaN   \n",
       "ECK120014786  NaN       NaN             NaN       NaN       NaN       NaN   \n",
       "\n",
       "             reg_effect   log_tpm     type      tss sigma_factor  box_10_left  \\\n",
       "locus_tag                                                                       \n",
       "b0036              dual  1.272204     gene      NaN          NaN          NaN   \n",
       "b0036               NaN       NaN  protein      NaN          NaN          NaN   \n",
       "ECK120009437        NaN       NaN       tu  42037.0      Sigma70      42044.0   \n",
       "ECK120033587        NaN       NaN       tu      NaN          NaN          NaN   \n",
       "ECK120014786        NaN       NaN   operon      NaN          NaN          NaN   \n",
       "\n",
       "              box_10_right  box_35_left  box_35_right  \n",
       "locus_tag                                              \n",
       "b0036                  NaN          NaN           NaN  \n",
       "b0036                  NaN          NaN           NaN  \n",
       "ECK120009437       42049.0      42071.0       42076.0  \n",
       "ECK120033587           NaN          NaN           NaN  \n",
       "ECK120014786           NaN          NaN           NaN  "
      ]
     },
     "execution_count": 20,
     "metadata": {},
     "output_type": "execute_result"
    }
   ],
   "source": [
    "tss = 36166\n",
    "mg1655.features_in_range( tss-20, tss+20)"
   ]
  },
  {
   "cell_type": "code",
   "execution_count": 18,
   "metadata": {},
   "outputs": [
    {
     "data": {
      "text/html": [
       "<div>\n",
       "<style scoped>\n",
       "    .dataframe tbody tr th:only-of-type {\n",
       "        vertical-align: middle;\n",
       "    }\n",
       "\n",
       "    .dataframe tbody tr th {\n",
       "        vertical-align: top;\n",
       "    }\n",
       "\n",
       "    .dataframe thead th {\n",
       "        text-align: right;\n",
       "    }\n",
       "</style>\n",
       "<table border=\"1\" class=\"dataframe\">\n",
       "  <thead>\n",
       "    <tr style=\"text-align: right;\">\n",
       "      <th></th>\n",
       "      <th>name</th>\n",
       "      <th>strand</th>\n",
       "      <th>tss</th>\n",
       "      <th>sigma_factor</th>\n",
       "      <th>box_10_left</th>\n",
       "      <th>box_10_right</th>\n",
       "      <th>box_35_left</th>\n",
       "      <th>box_35_right</th>\n",
       "      <th>left</th>\n",
       "      <th>right</th>\n",
       "    </tr>\n",
       "    <tr>\n",
       "      <th>locus_tag</th>\n",
       "      <th></th>\n",
       "      <th></th>\n",
       "      <th></th>\n",
       "      <th></th>\n",
       "      <th></th>\n",
       "      <th></th>\n",
       "      <th></th>\n",
       "      <th></th>\n",
       "      <th></th>\n",
       "      <th></th>\n",
       "    </tr>\n",
       "  </thead>\n",
       "  <tbody>\n",
       "    <tr>\n",
       "      <th>ECK120008913</th>\n",
       "      <td>astCADBE</td>\n",
       "      <td>-1.0</td>\n",
       "      <td>1832013.0</td>\n",
       "      <td>Sigma70</td>\n",
       "      <td>1832022.0</td>\n",
       "      <td>1832027.0</td>\n",
       "      <td>1832047.0</td>\n",
       "      <td>1832052.0</td>\n",
       "      <td>1825955.0</td>\n",
       "      <td>1832013.0</td>\n",
       "    </tr>\n",
       "    <tr>\n",
       "      <th>ECK120008914</th>\n",
       "      <td>astCADBE</td>\n",
       "      <td>-1.0</td>\n",
       "      <td>1832044.0</td>\n",
       "      <td>Sigma54</td>\n",
       "      <td>1832054.0</td>\n",
       "      <td>1832058.0</td>\n",
       "      <td>1832065.0</td>\n",
       "      <td>1832070.0</td>\n",
       "      <td>1825955.0</td>\n",
       "      <td>1832044.0</td>\n",
       "    </tr>\n",
       "    <tr>\n",
       "      <th>ECK120008915</th>\n",
       "      <td>astCADBE</td>\n",
       "      <td>-1.0</td>\n",
       "      <td>1832039.0</td>\n",
       "      <td>Sigma38</td>\n",
       "      <td>1832046.0</td>\n",
       "      <td>1832056.0</td>\n",
       "      <td>1832070.0</td>\n",
       "      <td>1832075.0</td>\n",
       "      <td>1825955.0</td>\n",
       "      <td>1832039.0</td>\n",
       "    </tr>\n",
       "    <tr>\n",
       "      <th>ECK120008916</th>\n",
       "      <td>nrdHIEF</td>\n",
       "      <td>1.0</td>\n",
       "      <td>2800656.0</td>\n",
       "      <td>Sigma70</td>\n",
       "      <td>2800644.0</td>\n",
       "      <td>2800649.0</td>\n",
       "      <td>2800621.0</td>\n",
       "      <td>2800626.0</td>\n",
       "      <td>2800656.0</td>\n",
       "      <td>2804461.0</td>\n",
       "    </tr>\n",
       "    <tr>\n",
       "      <th>ECK120008917</th>\n",
       "      <td>cpxPQ</td>\n",
       "      <td>1.0</td>\n",
       "      <td>4105785.0</td>\n",
       "      <td>Sigma70</td>\n",
       "      <td>4105772.0</td>\n",
       "      <td>4105777.0</td>\n",
       "      <td>4105746.0</td>\n",
       "      <td>4105751.0</td>\n",
       "      <td>4105785.0</td>\n",
       "      <td>4106379.0</td>\n",
       "    </tr>\n",
       "    <tr>\n",
       "      <th>...</th>\n",
       "      <td>...</td>\n",
       "      <td>...</td>\n",
       "      <td>...</td>\n",
       "      <td>...</td>\n",
       "      <td>...</td>\n",
       "      <td>...</td>\n",
       "      <td>...</td>\n",
       "      <td>...</td>\n",
       "      <td>...</td>\n",
       "      <td>...</td>\n",
       "    </tr>\n",
       "    <tr>\n",
       "      <th>ECK125285343</th>\n",
       "      <td>argH</td>\n",
       "      <td>1.0</td>\n",
       "      <td>NaN</td>\n",
       "      <td>NaN</td>\n",
       "      <td>NaN</td>\n",
       "      <td>NaN</td>\n",
       "      <td>NaN</td>\n",
       "      <td>NaN</td>\n",
       "      <td>4156850.0</td>\n",
       "      <td>4158223.0</td>\n",
       "    </tr>\n",
       "    <tr>\n",
       "      <th>ECK125285344</th>\n",
       "      <td>aroD</td>\n",
       "      <td>1.0</td>\n",
       "      <td>1774571.0</td>\n",
       "      <td>Sigma70</td>\n",
       "      <td>1774561.0</td>\n",
       "      <td>1774566.0</td>\n",
       "      <td>1774535.0</td>\n",
       "      <td>1774540.0</td>\n",
       "      <td>1774571.0</td>\n",
       "      <td>1775444.0</td>\n",
       "    </tr>\n",
       "    <tr>\n",
       "      <th>ECK125285345</th>\n",
       "      <td>yihUTS</td>\n",
       "      <td>-1.0</td>\n",
       "      <td>4073606.0</td>\n",
       "      <td>Sigma70</td>\n",
       "      <td>NaN</td>\n",
       "      <td>NaN</td>\n",
       "      <td>NaN</td>\n",
       "      <td>NaN</td>\n",
       "      <td>4070515.0</td>\n",
       "      <td>4073606.0</td>\n",
       "    </tr>\n",
       "    <tr>\n",
       "      <th>ECK125285346</th>\n",
       "      <td>yihW</td>\n",
       "      <td>1.0</td>\n",
       "      <td>4074641.0</td>\n",
       "      <td>Sigma70</td>\n",
       "      <td>NaN</td>\n",
       "      <td>NaN</td>\n",
       "      <td>NaN</td>\n",
       "      <td>NaN</td>\n",
       "      <td>4074641.0</td>\n",
       "      <td>4075454.0</td>\n",
       "    </tr>\n",
       "    <tr>\n",
       "      <th>ECK125285347</th>\n",
       "      <td>NaN</td>\n",
       "      <td>-1.0</td>\n",
       "      <td>4073663.0</td>\n",
       "      <td>Sigma70</td>\n",
       "      <td>NaN</td>\n",
       "      <td>NaN</td>\n",
       "      <td>NaN</td>\n",
       "      <td>NaN</td>\n",
       "      <td>4070515.0</td>\n",
       "      <td>4073663.0</td>\n",
       "    </tr>\n",
       "  </tbody>\n",
       "</table>\n",
       "<p>3542 rows × 10 columns</p>\n",
       "</div>"
      ],
      "text/plain": [
       "                  name  strand        tss sigma_factor  box_10_left  \\\n",
       "locus_tag                                                             \n",
       "ECK120008913  astCADBE    -1.0  1832013.0      Sigma70    1832022.0   \n",
       "ECK120008914  astCADBE    -1.0  1832044.0      Sigma54    1832054.0   \n",
       "ECK120008915  astCADBE    -1.0  1832039.0      Sigma38    1832046.0   \n",
       "ECK120008916   nrdHIEF     1.0  2800656.0      Sigma70    2800644.0   \n",
       "ECK120008917     cpxPQ     1.0  4105785.0      Sigma70    4105772.0   \n",
       "...                ...     ...        ...          ...          ...   \n",
       "ECK125285343      argH     1.0        NaN          NaN          NaN   \n",
       "ECK125285344      aroD     1.0  1774571.0      Sigma70    1774561.0   \n",
       "ECK125285345    yihUTS    -1.0  4073606.0      Sigma70          NaN   \n",
       "ECK125285346      yihW     1.0  4074641.0      Sigma70          NaN   \n",
       "ECK125285347       NaN    -1.0  4073663.0      Sigma70          NaN   \n",
       "\n",
       "              box_10_right  box_35_left  box_35_right       left      right  \n",
       "locus_tag                                                                    \n",
       "ECK120008913     1832027.0    1832047.0     1832052.0  1825955.0  1832013.0  \n",
       "ECK120008914     1832058.0    1832065.0     1832070.0  1825955.0  1832044.0  \n",
       "ECK120008915     1832056.0    1832070.0     1832075.0  1825955.0  1832039.0  \n",
       "ECK120008916     2800649.0    2800621.0     2800626.0  2800656.0  2804461.0  \n",
       "ECK120008917     4105777.0    4105746.0     4105751.0  4105785.0  4106379.0  \n",
       "...                    ...          ...           ...        ...        ...  \n",
       "ECK125285343           NaN          NaN           NaN  4156850.0  4158223.0  \n",
       "ECK125285344     1774566.0    1774535.0     1774540.0  1774571.0  1775444.0  \n",
       "ECK125285345           NaN          NaN           NaN  4070515.0  4073606.0  \n",
       "ECK125285346           NaN          NaN           NaN  4074641.0  4075454.0  \n",
       "ECK125285347           NaN          NaN           NaN  4070515.0  4073663.0  \n",
       "\n",
       "[3542 rows x 10 columns]"
      ]
     },
     "execution_count": 18,
     "metadata": {},
     "output_type": "execute_result"
    }
   ],
   "source": [
    "tu_df = mg1655.tu_table\n",
    "tu_df"
   ]
  },
  {
   "cell_type": "code",
   "execution_count": 19,
   "metadata": {},
   "outputs": [],
   "source": [
    "# ignore the NAN tss since there's only three of them\n",
    "tu_clean = tu_df[tu_df['sigma_factor'] =='Sigma70']\n",
    "tu_clean = tu_clean.dropna(subset=['tss'])"
   ]
  },
  {
   "cell_type": "code",
   "execution_count": 20,
   "metadata": {},
   "outputs": [],
   "source": [
    "# ## known tss +/- 50bp and test whether it works\n",
    "\n",
    "# true_pos = 0\n",
    "# true_neg = 10000\n",
    "\n",
    "\n",
    "# for pred_tss in mg1655_pred['tss_pred']:\n",
    "\n",
    "#         find_tss = mg1655.features_in_range( pred_tss-10, pred_tss+10)\n",
    "#         if (len(find_tss) != 0) and ('sigma_factor' in find_tss.columns):\n",
    "#             true_tss = find_tss[(find_tss['sigma_factor']=='Sigma70') ]\n",
    "#             if true_tss.shape[0] == 1:\n",
    "#                 true_pos += 1\n",
    "            \n",
    "#                 truepos_gene.append(find_tss['tss'])\n",
    "                \n",
    "true_pos = 0\n",
    "truepos_gene = []\n",
    "for pred_tss in mg1655_pred['tss_pred']:\n",
    "    for true_tss in tu_clean['tss']:\n",
    "        if pred_tss in range(int(true_tss)-10, int(true_tss)+10):\n",
    "            true_pos += 1\n",
    "            truepos_gene.append(pred_tss)\n",
    "        "
   ]
  },
  {
   "cell_type": "code",
   "execution_count": 28,
   "metadata": {},
   "outputs": [
    {
     "data": {
      "text/html": [
       "<div>\n",
       "<style scoped>\n",
       "    .dataframe tbody tr th:only-of-type {\n",
       "        vertical-align: middle;\n",
       "    }\n",
       "\n",
       "    .dataframe tbody tr th {\n",
       "        vertical-align: top;\n",
       "    }\n",
       "\n",
       "    .dataframe thead th {\n",
       "        text-align: right;\n",
       "    }\n",
       "</style>\n",
       "<table border=\"1\" class=\"dataframe\">\n",
       "  <thead>\n",
       "    <tr style=\"text-align: right;\">\n",
       "      <th></th>\n",
       "      <th>name</th>\n",
       "      <th>strand</th>\n",
       "      <th>tss</th>\n",
       "      <th>sigma_factor</th>\n",
       "      <th>box_10_left</th>\n",
       "      <th>box_10_right</th>\n",
       "      <th>box_35_left</th>\n",
       "      <th>box_35_right</th>\n",
       "      <th>left</th>\n",
       "      <th>right</th>\n",
       "      <th>locus_tag</th>\n",
       "    </tr>\n",
       "  </thead>\n",
       "  <tbody>\n",
       "    <tr>\n",
       "      <th>0</th>\n",
       "      <td>rrsH-ileV-alaV-rrlH-rrfH</td>\n",
       "      <td>1.0</td>\n",
       "      <td>223593.0</td>\n",
       "      <td>Sigma70</td>\n",
       "      <td>223581.0</td>\n",
       "      <td>223586.0</td>\n",
       "      <td>NaN</td>\n",
       "      <td>NaN</td>\n",
       "      <td>223593.0</td>\n",
       "      <td>228875.0</td>\n",
       "      <td>ECK120008935</td>\n",
       "    </tr>\n",
       "    <tr>\n",
       "      <th>1</th>\n",
       "      <td>pth-ychF</td>\n",
       "      <td>-1.0</td>\n",
       "      <td>1258542.0</td>\n",
       "      <td>Sigma70</td>\n",
       "      <td>1258550.0</td>\n",
       "      <td>1258555.0</td>\n",
       "      <td>1258573.0</td>\n",
       "      <td>1258578.0</td>\n",
       "      <td>1256721.0</td>\n",
       "      <td>1258542.0</td>\n",
       "      <td>ECK120008956</td>\n",
       "    </tr>\n",
       "    <tr>\n",
       "      <th>2</th>\n",
       "      <td>metNIQ</td>\n",
       "      <td>-1.0</td>\n",
       "      <td>222714.0</td>\n",
       "      <td>Sigma70</td>\n",
       "      <td>222722.0</td>\n",
       "      <td>222727.0</td>\n",
       "      <td>222745.0</td>\n",
       "      <td>222750.0</td>\n",
       "      <td>220113.0</td>\n",
       "      <td>222714.0</td>\n",
       "      <td>ECK120008970</td>\n",
       "    </tr>\n",
       "    <tr>\n",
       "      <th>3</th>\n",
       "      <td>metJ</td>\n",
       "      <td>-1.0</td>\n",
       "      <td>4128529.0</td>\n",
       "      <td>Sigma70</td>\n",
       "      <td>4128537.0</td>\n",
       "      <td>4128542.0</td>\n",
       "      <td>4128560.0</td>\n",
       "      <td>4128565.0</td>\n",
       "      <td>4128078.0</td>\n",
       "      <td>4128529.0</td>\n",
       "      <td>ECK120008984</td>\n",
       "    </tr>\n",
       "    <tr>\n",
       "      <th>4</th>\n",
       "      <td>metBL</td>\n",
       "      <td>1.0</td>\n",
       "      <td>4128636.0</td>\n",
       "      <td>Sigma70</td>\n",
       "      <td>4128623.0</td>\n",
       "      <td>4128628.0</td>\n",
       "      <td>4128600.0</td>\n",
       "      <td>4128605.0</td>\n",
       "      <td>4128636.0</td>\n",
       "      <td>4132456.0</td>\n",
       "      <td>ECK120009005</td>\n",
       "    </tr>\n",
       "    <tr>\n",
       "      <th>...</th>\n",
       "      <td>...</td>\n",
       "      <td>...</td>\n",
       "      <td>...</td>\n",
       "      <td>...</td>\n",
       "      <td>...</td>\n",
       "      <td>...</td>\n",
       "      <td>...</td>\n",
       "      <td>...</td>\n",
       "      <td>...</td>\n",
       "      <td>...</td>\n",
       "      <td>...</td>\n",
       "    </tr>\n",
       "    <tr>\n",
       "      <th>61</th>\n",
       "      <td>dapB</td>\n",
       "      <td>1.0</td>\n",
       "      <td>28288.0</td>\n",
       "      <td>Sigma70</td>\n",
       "      <td>28275.0</td>\n",
       "      <td>28280.0</td>\n",
       "      <td>28253.0</td>\n",
       "      <td>28258.0</td>\n",
       "      <td>28288.0</td>\n",
       "      <td>29272.0</td>\n",
       "      <td>ECK120030636</td>\n",
       "    </tr>\n",
       "    <tr>\n",
       "      <th>62</th>\n",
       "      <td>NaN</td>\n",
       "      <td>-1.0</td>\n",
       "      <td>1582554.0</td>\n",
       "      <td>Sigma70</td>\n",
       "      <td>1582562.0</td>\n",
       "      <td>1582567.0</td>\n",
       "      <td>1582585.0</td>\n",
       "      <td>1582590.0</td>\n",
       "      <td>1579633.0</td>\n",
       "      <td>1582554.0</td>\n",
       "      <td>ECK125135682</td>\n",
       "    </tr>\n",
       "    <tr>\n",
       "      <th>63</th>\n",
       "      <td>rybA-mntS</td>\n",
       "      <td>-1.0</td>\n",
       "      <td>853064.0</td>\n",
       "      <td>Sigma70</td>\n",
       "      <td>853072.0</td>\n",
       "      <td>853077.0</td>\n",
       "      <td>853093.0</td>\n",
       "      <td>853098.0</td>\n",
       "      <td>852725.0</td>\n",
       "      <td>853064.0</td>\n",
       "      <td>ECK125140764</td>\n",
       "    </tr>\n",
       "    <tr>\n",
       "      <th>64</th>\n",
       "      <td>dksA-gluQ</td>\n",
       "      <td>-1.0</td>\n",
       "      <td>160751.0</td>\n",
       "      <td>Sigma70</td>\n",
       "      <td>160759.0</td>\n",
       "      <td>160764.0</td>\n",
       "      <td>160782.0</td>\n",
       "      <td>160787.0</td>\n",
       "      <td>159186.0</td>\n",
       "      <td>160751.0</td>\n",
       "      <td>ECK125145765</td>\n",
       "    </tr>\n",
       "    <tr>\n",
       "      <th>65</th>\n",
       "      <td>ssrA</td>\n",
       "      <td>1.0</td>\n",
       "      <td>2755586.0</td>\n",
       "      <td>Sigma70</td>\n",
       "      <td>2755573.0</td>\n",
       "      <td>2755578.0</td>\n",
       "      <td>2755549.0</td>\n",
       "      <td>2755554.0</td>\n",
       "      <td>2755586.0</td>\n",
       "      <td>2755955.0</td>\n",
       "      <td>ECK125158012</td>\n",
       "    </tr>\n",
       "  </tbody>\n",
       "</table>\n",
       "<p>66 rows × 11 columns</p>\n",
       "</div>"
      ],
      "text/plain": [
       "                        name  strand        tss sigma_factor  box_10_left  \\\n",
       "0   rrsH-ileV-alaV-rrlH-rrfH     1.0   223593.0      Sigma70     223581.0   \n",
       "1                   pth-ychF    -1.0  1258542.0      Sigma70    1258550.0   \n",
       "2                     metNIQ    -1.0   222714.0      Sigma70     222722.0   \n",
       "3                       metJ    -1.0  4128529.0      Sigma70    4128537.0   \n",
       "4                      metBL     1.0  4128636.0      Sigma70    4128623.0   \n",
       "..                       ...     ...        ...          ...          ...   \n",
       "61                      dapB     1.0    28288.0      Sigma70      28275.0   \n",
       "62                       NaN    -1.0  1582554.0      Sigma70    1582562.0   \n",
       "63                 rybA-mntS    -1.0   853064.0      Sigma70     853072.0   \n",
       "64                 dksA-gluQ    -1.0   160751.0      Sigma70     160759.0   \n",
       "65                      ssrA     1.0  2755586.0      Sigma70    2755573.0   \n",
       "\n",
       "    box_10_right  box_35_left  box_35_right       left      right  \\\n",
       "0       223586.0          NaN           NaN   223593.0   228875.0   \n",
       "1      1258555.0    1258573.0     1258578.0  1256721.0  1258542.0   \n",
       "2       222727.0     222745.0      222750.0   220113.0   222714.0   \n",
       "3      4128542.0    4128560.0     4128565.0  4128078.0  4128529.0   \n",
       "4      4128628.0    4128600.0     4128605.0  4128636.0  4132456.0   \n",
       "..           ...          ...           ...        ...        ...   \n",
       "61       28280.0      28253.0       28258.0    28288.0    29272.0   \n",
       "62     1582567.0    1582585.0     1582590.0  1579633.0  1582554.0   \n",
       "63      853077.0     853093.0      853098.0   852725.0   853064.0   \n",
       "64      160764.0     160782.0      160787.0   159186.0   160751.0   \n",
       "65     2755578.0    2755549.0     2755554.0  2755586.0  2755955.0   \n",
       "\n",
       "       locus_tag  \n",
       "0   ECK120008935  \n",
       "1   ECK120008956  \n",
       "2   ECK120008970  \n",
       "3   ECK120008984  \n",
       "4   ECK120009005  \n",
       "..           ...  \n",
       "61  ECK120030636  \n",
       "62  ECK125135682  \n",
       "63  ECK125140764  \n",
       "64  ECK125145765  \n",
       "65  ECK125158012  \n",
       "\n",
       "[66 rows x 11 columns]"
      ]
     },
     "execution_count": 28,
     "metadata": {},
     "output_type": "execute_result"
    }
   ],
   "source": [
    "tu_truepos"
   ]
  },
  {
   "cell_type": "markdown",
   "metadata": {},
   "source": [
    "# Profiling"
   ]
  },
  {
   "cell_type": "code",
   "execution_count": 22,
   "metadata": {},
   "outputs": [],
   "source": [
    "# extract the truepos and falsepos\n",
    "tss_truepos = mg1655_pred[mg1655_pred['tss_pred'].isin(truepos_gene)]\n",
    "tss_falsepos = mg1655_pred[~mg1655_pred['tss_pred'].isin(truepos_gene)]"
   ]
  },
  {
   "cell_type": "code",
   "execution_count": 23,
   "metadata": {},
   "outputs": [],
   "source": [
    "tu_truepos = tu_clean[tu_clean['tss'].isin(truepos_gene)]\n",
    "tu_falseneg = tu_clean[~tu_clean['tss'].isin(truepos_gene)]"
   ]
  },
  {
   "cell_type": "code",
   "execution_count": 24,
   "metadata": {},
   "outputs": [
    {
     "name": "stderr",
     "output_type": "stream",
     "text": [
      "\n",
      "A value is trying to be set on a copy of a slice from a DataFrame.\n",
      "Try using .loc[row_indexer,col_indexer] = value instead\n",
      "\n",
      "See the caveats in the documentation: https://pandas.pydata.org/pandas-docs/stable/user_guide/indexing.html#returning-a-view-versus-a-copy\n",
      "\n",
      "A value is trying to be set on a copy of a slice from a DataFrame.\n",
      "Try using .loc[row_indexer,col_indexer] = value instead\n",
      "\n",
      "See the caveats in the documentation: https://pandas.pydata.org/pandas-docs/stable/user_guide/indexing.html#returning-a-view-versus-a-copy\n"
     ]
    }
   ],
   "source": [
    "locus_tag = tu_truepos.index\n",
    "tu_truepos.set_index(pd.Index(list(range(len(locus_tag)))),inplace=True)\n",
    "tu_truepos['locus_tag'] = locus_tag\n",
    "\n",
    "locus_tag = tu_falseneg.index\n",
    "tu_falseneg.set_index(pd.Index(list(range(len(locus_tag)))),inplace=True)\n",
    "tu_falseneg['locus_tag'] = locus_tag\n",
    "\n",
    "\n",
    "tu_truepos.to_csv(Path(Prom_PATH, 'tu_truepos.csv'))\n",
    "tu_falseneg.to_csv(Path(Prom_PATH, 'tu_falseneg.csv'))"
   ]
  },
  {
   "cell_type": "code",
   "execution_count": 27,
   "metadata": {},
   "outputs": [],
   "source": [
    "tss_falsepos.to_csv(Path(Prom_PATH, 'tss_falsepos.csv'))"
   ]
  },
  {
   "cell_type": "code",
   "execution_count": 150,
   "metadata": {
    "scrolled": true
   },
   "outputs": [],
   "source": [
    "mg1655_truepos = Bitome(\n",
    "    Path(K12_DATA_PATH, 'NC_000913.3.gb'),\n",
    "    name='MG1655',\n",
    "    origin=origin, terminus=terminus,\n",
    "    cid_boundaries=cid_boundaries,\n",
    "    gene_table=Path(K12_DATA_PATH, 'gene_info_supp.csv'),\n",
    "    tu_table=Path(Prom_PATH, 'tu_truepos.csv'),\n",
    "    operon_table=Path(K12_DATA_PATH, 'operon_bitomekb.csv'),\n",
    "    #tss_table=Path(K12_DATA_PATH, 'tss.csv'),\n",
    "    # TODO PARSE TTS data\n",
    "    tts_table=None,\n",
    "    tfbs_table=Path(K12_DATA_PATH, 'tfbs.csv'),\n",
    "    terminator_table=Path(K12_DATA_PATH, 'terminator.csv'),\n",
    "    attenuator_table=Path(K12_DATA_PATH, 'attenuator.csv'),\n",
    "    rbs_table=Path(K12_DATA_PATH, 'rbs.csv'),\n",
    "    riboswitch_table=Path(K12_DATA_PATH, 'riboswitch.csv')\n",
    ")"
   ]
  },
  {
   "cell_type": "code",
   "execution_count": 151,
   "metadata": {},
   "outputs": [],
   "source": [
    "mg1655_falseneg = Bitome(\n",
    "    Path(K12_DATA_PATH, 'NC_000913.3.gb'),\n",
    "    name='MG1655',\n",
    "    origin=origin, terminus=terminus,\n",
    "    cid_boundaries=cid_boundaries,\n",
    "    gene_table=Path(K12_DATA_PATH, 'gene_info_supp.csv'),\n",
    "    tu_table=Path(Prom_PATH, 'tu_falseneg.csv'),\n",
    "    operon_table=Path(K12_DATA_PATH, 'operon_bitomekb.csv'),\n",
    "    #tss_table=Path(K12_DATA_PATH, 'tss.csv'),\n",
    "    # TODO PARSE TTS data\n",
    "    tts_table=None,\n",
    "    tfbs_table=Path(K12_DATA_PATH, 'tfbs.csv'),\n",
    "    terminator_table=Path(K12_DATA_PATH, 'terminator.csv'),\n",
    "    attenuator_table=Path(K12_DATA_PATH, 'attenuator.csv'),\n",
    "    rbs_table=Path(K12_DATA_PATH, 'rbs.csv'),\n",
    "    riboswitch_table=Path(K12_DATA_PATH, 'riboswitch.csv')\n",
    ")"
   ]
  },
  {
   "cell_type": "markdown",
   "metadata": {},
   "source": [
    "## Profiling 5' UTRs"
   ]
  },
  {
   "cell_type": "code",
   "execution_count": 152,
   "metadata": {
    "scrolled": false
   },
   "outputs": [],
   "source": [
    "# true_pos\n",
    "utr_lens = []\n",
    "for tu_row in mg1655_truepos.tu_table.itertuples():\n",
    "    if pd.notna(tu_row.tss):\n",
    "        tu_gene_df = mg1655_truepos.gene_table.loc[mg1655_truepos._tu_to_genes[tu_row.Index]]\n",
    "        if not tu_gene_df.empty:\n",
    "            if tu_row.strand == 1:\n",
    "                first_gene_start = tu_gene_df.sort_values(by='left').iloc[0, :]['left']\n",
    "            else:\n",
    "                first_gene_start = tu_gene_df.sort_values(by='right', ascending=False).iloc[0, :]['right']\n",
    "            utr_len = abs(tu_row.tss - first_gene_start)\n",
    "            utr_lens.append(utr_len)"
   ]
  },
  {
   "cell_type": "code",
   "execution_count": 153,
   "metadata": {},
   "outputs": [
    {
     "data": {
      "image/png": "[encoded data removed]",
      "text/plain": [
       "<Figure size 432x288 with 1 Axes>"
      ]
     },
     "metadata": {
      "needs_background": "light"
     },
     "output_type": "display_data"
    }
   ],
   "source": [
    "_, ax = plt.subplots()\n",
    "sns.histplot(utr_lens)\n",
    "ax.set_xlim(0, 500)\n",
    "ax.set_xlabel(\"5' UTR Length (bp)\", fontsize=14)\n",
    "ax.set_ylabel('Count', fontsize=14)\n",
    "ax.tick_params(axis='both', labelsize=13)"
   ]
  },
  {
   "cell_type": "code",
   "execution_count": 154,
   "metadata": {},
   "outputs": [],
   "source": [
    "# false_neg\n",
    "utr_lens = []\n",
    "for tu_row in mg1655_falseneg.tu_table.itertuples():\n",
    "    if pd.notna(tu_row.tss):\n",
    "        tu_gene_df = mg1655_falseneg.gene_table.loc[mg1655_falseneg._tu_to_genes[tu_row.Index]]\n",
    "        if not tu_gene_df.empty:\n",
    "            if tu_row.strand == 1:\n",
    "                first_gene_start = tu_gene_df.sort_values(by='left').iloc[0, :]['left']\n",
    "            else:\n",
    "                first_gene_start = tu_gene_df.sort_values(by='right', ascending=False).iloc[0, :]['right']\n",
    "            utr_len = abs(tu_row.tss - first_gene_start)\n",
    "            utr_lens.append(utr_len)"
   ]
  },
  {
   "cell_type": "code",
   "execution_count": 155,
   "metadata": {},
   "outputs": [
    {
     "data": {
      "image/png": "[encoded data removed]",
      "text/plain": [
       "<Figure size 432x288 with 1 Axes>"
      ]
     },
     "metadata": {
      "needs_background": "light"
     },
     "output_type": "display_data"
    }
   ],
   "source": [
    "_, ax = plt.subplots()\n",
    "sns.histplot(utr_lens)\n",
    "ax.set_xlim(0, 500)\n",
    "ax.set_xlabel(\"5' UTR Length (bp)\", fontsize=14)\n",
    "ax.set_ylabel('Count', fontsize=14)\n",
    "ax.tick_params(axis='both', labelsize=13)"
   ]
  },
  {
   "cell_type": "markdown",
   "metadata": {},
   "source": [
    "## TSS within gene"
   ]
  },
  {
   "cell_type": "code",
   "execution_count": 156,
   "metadata": {},
   "outputs": [
    {
     "name": "stdout",
     "output_type": "stream",
     "text": [
      "6 cases of TSS located within gene on same strand\n"
     ]
    }
   ],
   "source": [
    "tss_in_gene_count = 0\n",
    "for tu_row in mg1655_truepos.tu_table.itertuples():\n",
    "    if pd.notna(tu_row.tss):\n",
    "        gene_in_tss = mg1655_truepos.gene_table[\n",
    "            (mg1655_truepos.gene_table['left'] < tu_row.tss) & \n",
    "            (mg1655_truepos.gene_table['right'] > tu_row.tss) & \n",
    "            (mg1655_truepos.gene_table['strand'] == tu_row.strand)\n",
    "        ]\n",
    "        tss_in_gene_count += gene_in_tss.shape[0]\n",
    "\n",
    "print(f'{tss_in_gene_count} cases of TSS located within gene on same strand')"
   ]
  },
  {
   "cell_type": "code",
   "execution_count": 157,
   "metadata": {},
   "outputs": [
    {
     "name": "stdout",
     "output_type": "stream",
     "text": [
      "89 cases of TSS located within gene on same strand\n"
     ]
    }
   ],
   "source": [
    "tss_in_gene_count = 0\n",
    "for tu_row in mg1655_falseneg.tu_table.itertuples():\n",
    "    if pd.notna(tu_row.tss):\n",
    "        gene_in_tss = mg1655_falseneg.gene_table[\n",
    "            (mg1655_falseneg.gene_table['left'] < tu_row.tss) & \n",
    "            (mg1655_falseneg.gene_table['right'] > tu_row.tss) & \n",
    "            (mg1655_falseneg.gene_table['strand'] == tu_row.strand)\n",
    "        ]\n",
    "        tss_in_gene_count += gene_in_tss.shape[0]\n",
    "\n",
    "print(f'{tss_in_gene_count} cases of TSS located within gene on same strand')"
   ]
  },
  {
   "cell_type": "markdown",
   "metadata": {},
   "source": [
    "## Promoter shape"
   ]
  },
  {
   "cell_type": "code",
   "execution_count": 167,
   "metadata": {},
   "outputs": [
    {
     "ename": "CalledProcessError",
     "evalue": "Command '['Rscript', '../../bitome2/bitome/shape_work_dir/compute_shape.R']' died with <Signals.SIGSEGV: 11>.",
     "output_type": "error",
     "traceback": [
      "\u001b[0;31m---------------------------------------------------------------------------\u001b[0m",
      "\u001b[0;31mCalledProcessError\u001b[0m                        Traceback (most recent call last)",
      "\u001b[0;32m<ipython-input-167-2becd6c37e9e>\u001b[0m in \u001b[0;36m<module>\u001b[0;34m\u001b[0m\n\u001b[0;32m----> 1\u001b[0;31m \u001b[0mshape_z_score_df\u001b[0m \u001b[0;34m=\u001b[0m \u001b[0mmg1655\u001b[0m\u001b[0;34m.\u001b[0m\u001b[0mtss_search_shape_stats\u001b[0m\u001b[0;34m(\u001b[0m\u001b[0;34m)\u001b[0m\u001b[0;34m\u001b[0m\u001b[0;34m\u001b[0m\u001b[0m\n\u001b[0m\u001b[1;32m      2\u001b[0m \u001b[0mshape_z_score_df\u001b[0m\u001b[0;34m\u001b[0m\u001b[0;34m\u001b[0m\u001b[0m\n",
      "\u001b[0;32m/mnt/d/Strainware-s/bitome2/bitome/core.py\u001b[0m in \u001b[0;36mtss_search_shape_stats\u001b[0;34m(self, n_upstream, cache)\u001b[0m\n\u001b[1;32m   1807\u001b[0m         \u001b[0;31m# compute shape for all of these search areas\u001b[0m\u001b[0;34m\u001b[0m\u001b[0;34m\u001b[0m\u001b[0;34m\u001b[0m\u001b[0m\n\u001b[1;32m   1808\u001b[0m         \u001b[0mtss_search_get_shape_df\u001b[0m \u001b[0;34m=\u001b[0m \u001b[0mpd\u001b[0m\u001b[0;34m.\u001b[0m\u001b[0mDataFrame\u001b[0m\u001b[0;34m(\u001b[0m\u001b[0mtss_search_shape_rows\u001b[0m\u001b[0;34m)\u001b[0m\u001b[0;34m.\u001b[0m\u001b[0mset_index\u001b[0m\u001b[0;34m(\u001b[0m\u001b[0;34m'locus_tag'\u001b[0m\u001b[0;34m)\u001b[0m\u001b[0;34m\u001b[0m\u001b[0;34m\u001b[0m\u001b[0m\n\u001b[0;32m-> 1809\u001b[0;31m         \u001b[0mtss_search_shape_df_dict\u001b[0m \u001b[0;34m=\u001b[0m \u001b[0mself\u001b[0m\u001b[0;34m.\u001b[0m\u001b[0mget_dna_shape\u001b[0m\u001b[0;34m(\u001b[0m\u001b[0mtss_search_get_shape_df\u001b[0m\u001b[0;34m)\u001b[0m\u001b[0;34m\u001b[0m\u001b[0;34m\u001b[0m\u001b[0m\n\u001b[0m\u001b[1;32m   1810\u001b[0m         \u001b[0mtss_search_shape_df\u001b[0m \u001b[0;34m=\u001b[0m \u001b[0mpd\u001b[0m\u001b[0;34m.\u001b[0m\u001b[0mconcat\u001b[0m\u001b[0;34m(\u001b[0m\u001b[0mlist\u001b[0m\u001b[0;34m(\u001b[0m\u001b[0mtss_search_shape_df_dict\u001b[0m\u001b[0;34m.\u001b[0m\u001b[0mvalues\u001b[0m\u001b[0;34m(\u001b[0m\u001b[0;34m)\u001b[0m\u001b[0;34m)\u001b[0m\u001b[0;34m)\u001b[0m\u001b[0;34m\u001b[0m\u001b[0;34m\u001b[0m\u001b[0m\n\u001b[1;32m   1811\u001b[0m \u001b[0;34m\u001b[0m\u001b[0m\n",
      "\u001b[0;32m/mnt/d/Strainware-s/bitome2/bitome/core.py\u001b[0m in \u001b[0;36mget_dna_shape\u001b[0;34m(self, feature_table)\u001b[0m\n\u001b[1;32m   1677\u001b[0m \u001b[0;34m\u001b[0m\u001b[0m\n\u001b[1;32m   1678\u001b[0m         \u001b[0;31m# call the R script that computes shape\u001b[0m\u001b[0;34m\u001b[0m\u001b[0;34m\u001b[0m\u001b[0;34m\u001b[0m\u001b[0m\n\u001b[0;32m-> 1679\u001b[0;31m         \u001b[0msubprocess\u001b[0m\u001b[0;34m.\u001b[0m\u001b[0mcheck_output\u001b[0m\u001b[0;34m(\u001b[0m\u001b[0;34m[\u001b[0m\u001b[0;34m'Rscript'\u001b[0m\u001b[0;34m,\u001b[0m \u001b[0mstr\u001b[0m\u001b[0;34m(\u001b[0m\u001b[0mPath\u001b[0m\u001b[0;34m(\u001b[0m\u001b[0mshape_work_dir\u001b[0m\u001b[0;34m,\u001b[0m \u001b[0;34m'compute_shape.R'\u001b[0m\u001b[0;34m)\u001b[0m\u001b[0;34m)\u001b[0m\u001b[0;34m]\u001b[0m\u001b[0;34m)\u001b[0m\u001b[0;34m\u001b[0m\u001b[0;34m\u001b[0m\u001b[0m\n\u001b[0m\u001b[1;32m   1680\u001b[0m \u001b[0;34m\u001b[0m\u001b[0m\n\u001b[1;32m   1681\u001b[0m         \u001b[0;31m# read in the result files by shape\u001b[0m\u001b[0;34m\u001b[0m\u001b[0;34m\u001b[0m\u001b[0;34m\u001b[0m\u001b[0m\n",
      "\u001b[0;32m~/miniconda3/lib/python3.8/subprocess.py\u001b[0m in \u001b[0;36mcheck_output\u001b[0;34m(timeout, *popenargs, **kwargs)\u001b[0m\n\u001b[1;32m    409\u001b[0m         \u001b[0mkwargs\u001b[0m\u001b[0;34m[\u001b[0m\u001b[0;34m'input'\u001b[0m\u001b[0;34m]\u001b[0m \u001b[0;34m=\u001b[0m \u001b[0;34m''\u001b[0m \u001b[0;32mif\u001b[0m \u001b[0mkwargs\u001b[0m\u001b[0;34m.\u001b[0m\u001b[0mget\u001b[0m\u001b[0;34m(\u001b[0m\u001b[0;34m'universal_newlines'\u001b[0m\u001b[0;34m,\u001b[0m \u001b[0;32mFalse\u001b[0m\u001b[0;34m)\u001b[0m \u001b[0;32melse\u001b[0m \u001b[0;34mb''\u001b[0m\u001b[0;34m\u001b[0m\u001b[0;34m\u001b[0m\u001b[0m\n\u001b[1;32m    410\u001b[0m \u001b[0;34m\u001b[0m\u001b[0m\n\u001b[0;32m--> 411\u001b[0;31m     return run(*popenargs, stdout=PIPE, timeout=timeout, check=True,\n\u001b[0m\u001b[1;32m    412\u001b[0m                **kwargs).stdout\n\u001b[1;32m    413\u001b[0m \u001b[0;34m\u001b[0m\u001b[0m\n",
      "\u001b[0;32m~/miniconda3/lib/python3.8/subprocess.py\u001b[0m in \u001b[0;36mrun\u001b[0;34m(input, capture_output, timeout, check, *popenargs, **kwargs)\u001b[0m\n\u001b[1;32m    510\u001b[0m         \u001b[0mretcode\u001b[0m \u001b[0;34m=\u001b[0m \u001b[0mprocess\u001b[0m\u001b[0;34m.\u001b[0m\u001b[0mpoll\u001b[0m\u001b[0;34m(\u001b[0m\u001b[0;34m)\u001b[0m\u001b[0;34m\u001b[0m\u001b[0;34m\u001b[0m\u001b[0m\n\u001b[1;32m    511\u001b[0m         \u001b[0;32mif\u001b[0m \u001b[0mcheck\u001b[0m \u001b[0;32mand\u001b[0m \u001b[0mretcode\u001b[0m\u001b[0;34m:\u001b[0m\u001b[0;34m\u001b[0m\u001b[0;34m\u001b[0m\u001b[0m\n\u001b[0;32m--> 512\u001b[0;31m             raise CalledProcessError(retcode, process.args,\n\u001b[0m\u001b[1;32m    513\u001b[0m                                      output=stdout, stderr=stderr)\n\u001b[1;32m    514\u001b[0m     \u001b[0;32mreturn\u001b[0m \u001b[0mCompletedProcess\u001b[0m\u001b[0;34m(\u001b[0m\u001b[0mprocess\u001b[0m\u001b[0;34m.\u001b[0m\u001b[0margs\u001b[0m\u001b[0;34m,\u001b[0m \u001b[0mretcode\u001b[0m\u001b[0;34m,\u001b[0m \u001b[0mstdout\u001b[0m\u001b[0;34m,\u001b[0m \u001b[0mstderr\u001b[0m\u001b[0;34m)\u001b[0m\u001b[0;34m\u001b[0m\u001b[0;34m\u001b[0m\u001b[0m\n",
      "\u001b[0;31mCalledProcessError\u001b[0m: Command '['Rscript', '../../bitome2/bitome/shape_work_dir/compute_shape.R']' died with <Signals.SIGSEGV: 11>."
     ]
    }
   ],
   "source": [
    "shape_z_score_df = mg1655.tss_search_shape_stats()\n",
    "shape_z_score_df"
   ]
  },
  {
   "cell_type": "markdown",
   "metadata": {},
   "source": [
    "# Different threshold and plotting"
   ]
  },
  {
   "cell_type": "code",
   "execution_count": 309,
   "metadata": {},
   "outputs": [
    {
     "data": {
      "text/plain": [
       "<AxesSubplot:>"
      ]
     },
     "execution_count": 309,
     "metadata": {},
     "output_type": "execute_result"
    },
    {
     "data": {
      "image/png": "[encoded data removed]",
      "text/plain": [
       "<Figure size 432x288 with 2 Axes>"
      ]
     },
     "metadata": {
      "needs_background": "light"
     },
     "output_type": "display_data"
    }
   ],
   "source": [
    "false_neg = tu_clean.shape[0]- true_pos\n",
    "false_pos = mg1655_pred.shape[0] - true_pos\n",
    "confusion_M = np.array([[true_pos, false_pos], [false_neg, true_neg]])\n",
    "sns.heatmap(confusion_M, xticklabels = ['actual_pos', 'actual_neg'], yticklabels = ['pred_pos', 'pred_neg'], \n",
    "            fmt = '.5g', annot=True)\n",
    "\n",
    "# 1.90 almost get all the positive"
   ]
  },
  {
   "cell_type": "code",
   "execution_count": 347,
   "metadata": {},
   "outputs": [
    {
     "data": {
      "text/plain": [
       "array([[[   34,   926],\n",
       "        [  794, 10000]]])"
      ]
     },
     "execution_count": 347,
     "metadata": {},
     "output_type": "execute_result"
    }
   ],
   "source": [
    "confusion_M.reshape(1,2,2)"
   ]
  },
  {
   "cell_type": "code",
   "execution_count": 327,
   "metadata": {},
   "outputs": [],
   "source": [
    "precision = true_pos/(true_pos + false_pos)\n",
    "recall = true_pos/(true_pos + false_neg)"
   ]
  },
  {
   "cell_type": "code",
   "execution_count": 328,
   "metadata": {},
   "outputs": [],
   "source": [
    "f1 = 2*precision*recall/(precision+recall)"
   ]
  },
  {
   "cell_type": "code",
   "execution_count": 343,
   "metadata": {},
   "outputs": [],
   "source": [
    "M = np.dstack((np.zeros((2,2)),np.zeros((2,2))))"
   ]
  },
  {
   "cell_type": "code",
   "execution_count": 348,
   "metadata": {},
   "outputs": [
    {
     "data": {
      "text/plain": [
       "array([[[    0.,     0.],\n",
       "        [    0.,     0.]],\n",
       "\n",
       "       [[    0.,     0.],\n",
       "        [    0.,     0.]],\n",
       "\n",
       "       [[   34.,   926.],\n",
       "        [  794., 10000.]]])"
      ]
     },
     "execution_count": 348,
     "metadata": {},
     "output_type": "execute_result"
    }
   ],
   "source": [
    "np.concatenate((M, confusion_M.reshape(1,2,2)))"
   ]
  },
  {
   "cell_type": "code",
   "execution_count": 421,
   "metadata": {},
   "outputs": [
    {
     "ename": "KeyboardInterrupt",
     "evalue": "",
     "output_type": "error",
     "traceback": [
      "\u001b[0;31m---------------------------------------------------------------------------\u001b[0m",
      "\u001b[0;31mKeyboardInterrupt\u001b[0m                         Traceback (most recent call last)",
      "\u001b[0;32m<ipython-input-421-189b9941667c>\u001b[0m in \u001b[0;36m<module>\u001b[0;34m\u001b[0m\n\u001b[1;32m      9\u001b[0m \u001b[0;34m\u001b[0m\u001b[0m\n\u001b[1;32m     10\u001b[0m \u001b[0;32mfor\u001b[0m \u001b[0mthres\u001b[0m \u001b[0;32min\u001b[0m \u001b[0;34m[\u001b[0m\u001b[0;34m'0.5'\u001b[0m\u001b[0;34m,\u001b[0m \u001b[0;34m'1'\u001b[0m\u001b[0;34m,\u001b[0m \u001b[0;34m'1.25'\u001b[0m\u001b[0;34m,\u001b[0m \u001b[0;34m'1.5'\u001b[0m\u001b[0;34m,\u001b[0m \u001b[0;34m'1.90'\u001b[0m\u001b[0;34m,\u001b[0m \u001b[0;34m'1.91'\u001b[0m\u001b[0;34m,\u001b[0m \u001b[0;34m'1.92'\u001b[0m\u001b[0;34m,\u001b[0m\u001b[0;34m'1.93'\u001b[0m\u001b[0;34m,\u001b[0m \u001b[0;34m'1.95'\u001b[0m\u001b[0;34m,\u001b[0m \u001b[0;34m'1.98'\u001b[0m\u001b[0;34m]\u001b[0m\u001b[0;34m:\u001b[0m\u001b[0;34m\u001b[0m\u001b[0;34m\u001b[0m\u001b[0m\n\u001b[0;32m---> 11\u001b[0;31m     subprocess.check_output([FINDER_PATH,\n\u001b[0m\u001b[1;32m     12\u001b[0m                              \u001b[0;34m'-i'\u001b[0m\u001b[0;34m,\u001b[0m \u001b[0mPath\u001b[0m\u001b[0;34m(\u001b[0m\u001b[0mProm_PATH\u001b[0m\u001b[0;34m,\u001b[0m \u001b[0;34m'mg1655_genes.fasta'\u001b[0m\u001b[0;34m)\u001b[0m\u001b[0;34m,\u001b[0m\u001b[0;34m\u001b[0m\u001b[0;34m\u001b[0m\u001b[0m\n\u001b[1;32m     13\u001b[0m                              '-o', Path(Prom_PATH, 'mg1655'), '-h', '2','-t', 'e', '-c', '70', '-a', thres ])\n",
      "\u001b[0;32m~/miniconda3/lib/python3.8/subprocess.py\u001b[0m in \u001b[0;36mcheck_output\u001b[0;34m(timeout, *popenargs, **kwargs)\u001b[0m\n\u001b[1;32m    409\u001b[0m         \u001b[0mkwargs\u001b[0m\u001b[0;34m[\u001b[0m\u001b[0;34m'input'\u001b[0m\u001b[0;34m]\u001b[0m \u001b[0;34m=\u001b[0m \u001b[0;34m''\u001b[0m \u001b[0;32mif\u001b[0m \u001b[0mkwargs\u001b[0m\u001b[0;34m.\u001b[0m\u001b[0mget\u001b[0m\u001b[0;34m(\u001b[0m\u001b[0;34m'universal_newlines'\u001b[0m\u001b[0;34m,\u001b[0m \u001b[0;32mFalse\u001b[0m\u001b[0;34m)\u001b[0m \u001b[0;32melse\u001b[0m \u001b[0;34mb''\u001b[0m\u001b[0;34m\u001b[0m\u001b[0;34m\u001b[0m\u001b[0m\n\u001b[1;32m    410\u001b[0m \u001b[0;34m\u001b[0m\u001b[0m\n\u001b[0;32m--> 411\u001b[0;31m     return run(*popenargs, stdout=PIPE, timeout=timeout, check=True,\n\u001b[0m\u001b[1;32m    412\u001b[0m                **kwargs).stdout\n\u001b[1;32m    413\u001b[0m \u001b[0;34m\u001b[0m\u001b[0m\n",
      "\u001b[0;32m~/miniconda3/lib/python3.8/subprocess.py\u001b[0m in \u001b[0;36mrun\u001b[0;34m(input, capture_output, timeout, check, *popenargs, **kwargs)\u001b[0m\n\u001b[1;32m    489\u001b[0m     \u001b[0;32mwith\u001b[0m \u001b[0mPopen\u001b[0m\u001b[0;34m(\u001b[0m\u001b[0;34m*\u001b[0m\u001b[0mpopenargs\u001b[0m\u001b[0;34m,\u001b[0m \u001b[0;34m**\u001b[0m\u001b[0mkwargs\u001b[0m\u001b[0;34m)\u001b[0m \u001b[0;32mas\u001b[0m \u001b[0mprocess\u001b[0m\u001b[0;34m:\u001b[0m\u001b[0;34m\u001b[0m\u001b[0;34m\u001b[0m\u001b[0m\n\u001b[1;32m    490\u001b[0m         \u001b[0;32mtry\u001b[0m\u001b[0;34m:\u001b[0m\u001b[0;34m\u001b[0m\u001b[0;34m\u001b[0m\u001b[0m\n\u001b[0;32m--> 491\u001b[0;31m             \u001b[0mstdout\u001b[0m\u001b[0;34m,\u001b[0m \u001b[0mstderr\u001b[0m \u001b[0;34m=\u001b[0m \u001b[0mprocess\u001b[0m\u001b[0;34m.\u001b[0m\u001b[0mcommunicate\u001b[0m\u001b[0;34m(\u001b[0m\u001b[0minput\u001b[0m\u001b[0;34m,\u001b[0m \u001b[0mtimeout\u001b[0m\u001b[0;34m=\u001b[0m\u001b[0mtimeout\u001b[0m\u001b[0;34m)\u001b[0m\u001b[0;34m\u001b[0m\u001b[0;34m\u001b[0m\u001b[0m\n\u001b[0m\u001b[1;32m    492\u001b[0m         \u001b[0;32mexcept\u001b[0m \u001b[0mTimeoutExpired\u001b[0m \u001b[0;32mas\u001b[0m \u001b[0mexc\u001b[0m\u001b[0;34m:\u001b[0m\u001b[0;34m\u001b[0m\u001b[0;34m\u001b[0m\u001b[0m\n\u001b[1;32m    493\u001b[0m             \u001b[0mprocess\u001b[0m\u001b[0;34m.\u001b[0m\u001b[0mkill\u001b[0m\u001b[0;34m(\u001b[0m\u001b[0;34m)\u001b[0m\u001b[0;34m\u001b[0m\u001b[0;34m\u001b[0m\u001b[0m\n",
      "\u001b[0;32m~/miniconda3/lib/python3.8/subprocess.py\u001b[0m in \u001b[0;36mcommunicate\u001b[0;34m(self, input, timeout)\u001b[0m\n\u001b[1;32m   1009\u001b[0m                 \u001b[0mself\u001b[0m\u001b[0;34m.\u001b[0m\u001b[0m_stdin_write\u001b[0m\u001b[0;34m(\u001b[0m\u001b[0minput\u001b[0m\u001b[0;34m)\u001b[0m\u001b[0;34m\u001b[0m\u001b[0;34m\u001b[0m\u001b[0m\n\u001b[1;32m   1010\u001b[0m             \u001b[0;32melif\u001b[0m \u001b[0mself\u001b[0m\u001b[0;34m.\u001b[0m\u001b[0mstdout\u001b[0m\u001b[0;34m:\u001b[0m\u001b[0;34m\u001b[0m\u001b[0;34m\u001b[0m\u001b[0m\n\u001b[0;32m-> 1011\u001b[0;31m                 \u001b[0mstdout\u001b[0m \u001b[0;34m=\u001b[0m \u001b[0mself\u001b[0m\u001b[0;34m.\u001b[0m\u001b[0mstdout\u001b[0m\u001b[0;34m.\u001b[0m\u001b[0mread\u001b[0m\u001b[0;34m(\u001b[0m\u001b[0;34m)\u001b[0m\u001b[0;34m\u001b[0m\u001b[0;34m\u001b[0m\u001b[0m\n\u001b[0m\u001b[1;32m   1012\u001b[0m                 \u001b[0mself\u001b[0m\u001b[0;34m.\u001b[0m\u001b[0mstdout\u001b[0m\u001b[0;34m.\u001b[0m\u001b[0mclose\u001b[0m\u001b[0;34m(\u001b[0m\u001b[0;34m)\u001b[0m\u001b[0;34m\u001b[0m\u001b[0;34m\u001b[0m\u001b[0m\n\u001b[1;32m   1013\u001b[0m             \u001b[0;32melif\u001b[0m \u001b[0mself\u001b[0m\u001b[0;34m.\u001b[0m\u001b[0mstderr\u001b[0m\u001b[0;34m:\u001b[0m\u001b[0;34m\u001b[0m\u001b[0;34m\u001b[0m\u001b[0m\n",
      "\u001b[0;31mKeyboardInterrupt\u001b[0m: "
     ]
    }
   ],
   "source": [
    "true_neg = 2200000\n",
    "results_dict = {\n",
    "    'confsM': np.zeros((2,2)),\n",
    "    'precision': [],\n",
    "    'recall': [],\n",
    "    'f1': [],\n",
    "    \n",
    "}\n",
    "   \n",
    "for thres in ['0.5', '1', '1.25', '1.5', '1.90', '1.91', '1.92','1.93', '1.95', '1.98']:\n",
    "    subprocess.check_output([FINDER_PATH,\n",
    "                             '-i', Path(Prom_PATH, 'mg1655_genes.fasta'),\n",
    "                             '-o', Path(Prom_PATH, 'mg1655'), '-h', '2','-t', 'e', '-c', '70', '-a', thres ])\n",
    "    \n",
    "    mg1655_pred = pd.read_table( Path(Prom_PATH, 'mg1655.bed'), header= None )\n",
    "    mg1655_pred.columns = pred_columns\n",
    "    mg1655_pred = mg1655_pred[ (mg1655_pred['thickStart']<400) ]\n",
    "    mg1655_pred = mg1655_pred.reset_index()\n",
    "    mg1655_pred = mg1655_pred.drop(columns=['index'])\n",
    "    \n",
    "    tss_list = []\n",
    "    \n",
    "    for i in range( len(mg1655_pred['gene_id']) ):\n",
    "        g_id = list(mg1655_pred['gene_id'])[i]\n",
    "        thickstart = list(mg1655_pred['thickStart'])[i]\n",
    "        strand = mg1655.gene_table.loc[g_id].strand\n",
    "        left = mg1655.gene_table.loc[g_id].left\n",
    "        right = mg1655.gene_table.loc[g_id].right\n",
    "        if type(strand) != np.int64:\n",
    "            strand = strand[0]\n",
    "            left = left[0]\n",
    "            right = right[0]\n",
    "        if strand == 1:\n",
    "            tss_list.append( left -400 + thickstart )\n",
    "        else:\n",
    "            tss_list.append( right+400 - thickstart )\n",
    "    mg1655_pred['tss_pred'] = tss_list\n",
    "    \n",
    "    \n",
    "    true_pos = 0\n",
    "    truepos_gene = []\n",
    "    for pred_tss in mg1655_pred['tss_pred']:\n",
    "        for true_tss in tu_clean['tss']:\n",
    "            if pred_tss in range(int(true_tss)-10, int(true_tss)+10):\n",
    "                true_pos += 1\n",
    "                truepos_gene.append(pred_tss)\n",
    "                    \n",
    "        \n",
    "    false_neg = tu_clean.shape[0]- true_pos\n",
    "    false_pos = mg1655_pred.shape[0] - true_pos\n",
    "    confusion_M = np.array([[true_pos, false_neg], [false_pos, true_neg]])\n",
    "    \n",
    "    # print(true_pos)\n",
    "        \n",
    "        \n",
    "    precision = true_pos/(true_pos + false_pos)\n",
    "    recall = true_pos/(true_pos + false_neg)\n",
    "    f1 = 2*precision*recall/(precision+recall)\n",
    "        \n",
    "    results_dict['confsM'] = np.dstack((results_dict['confsM'], confusion_M))\n",
    "    results_dict['precision'].append(precision)\n",
    "    results_dict['recall'].append(recall)\n",
    "    results_dict['f1'].append(f1)\n",
    "\n",
    "        \n",
    "results_dict['confsM'] = results_dict['confsM'].T\n",
    "results_dict['confsM'] = results_dict['confsM'][1:]"
   ]
  },
  {
   "cell_type": "code",
   "execution_count": 381,
   "metadata": {},
   "outputs": [],
   "source": [
    "fpr = np.divide(results_dict['confsM'][:,0,1], (np.ones(8)*true_neg + results_dict['confsM'][:,1,0]))\n",
    "tpr = results_dict['recall']"
   ]
  },
  {
   "cell_type": "code",
   "execution_count": 382,
   "metadata": {},
   "outputs": [
    {
     "data": {
      "text/plain": [
       "Text(0.5, 1.0, 'AUC curve for eight thresholds')"
      ]
     },
     "execution_count": 382,
     "metadata": {},
     "output_type": "execute_result"
    },
    {
     "data": {
      "image/png": "[encoded data removed]",
      "text/plain": [
       "<Figure size 432x288 with 1 Axes>"
      ]
     },
     "metadata": {
      "needs_background": "light"
     },
     "output_type": "display_data"
    }
   ],
   "source": [
    "plt.plot(fpr, tpr)\n",
    "plt.xlabel('fpr')\n",
    "plt.ylabel('tpr')\n",
    "plt.title('AUC curve for eight thresholds')"
   ]
  },
  {
   "cell_type": "code",
   "execution_count": 383,
   "metadata": {},
   "outputs": [
    {
     "data": {
      "text/plain": [
       "Text(0.5, 1.0, 'PR curve for eight thresholds')"
      ]
     },
     "execution_count": 383,
     "metadata": {},
     "output_type": "execute_result"
    },
    {
     "data": {
      "image/png": "[encoded data removed]",
      "text/plain": [
       "<Figure size 432x288 with 1 Axes>"
      ]
     },
     "metadata": {
      "needs_background": "light"
     },
     "output_type": "display_data"
    }
   ],
   "source": [
    "plt.plot(results_dict['recall'], results_dict['precision'])\n",
    "plt.xlabel('recall')\n",
    "plt.ylabel('precision')\n",
    "plt.title('PR curve for eight thresholds')"
   ]
  },
  {
   "cell_type": "code",
   "execution_count": 379,
   "metadata": {},
   "outputs": [
    {
     "data": {
      "text/plain": [
       "[0.05783606557377049,\n",
       " 0.058118081180811805,\n",
       " 0.08164948453608248,\n",
       " 0.0926189797663152,\n",
       " 0.10317771675166731,\n",
       " 0.10289236605026078,\n",
       " 0.04106280193236715,\n",
       " 0.04106280193236715]"
      ]
     },
     "execution_count": 379,
     "metadata": {},
     "output_type": "execute_result"
    }
   ],
   "source": [
    "results_dict['precision']"
   ]
  },
  {
   "cell_type": "code",
   "execution_count": 380,
   "metadata": {},
   "outputs": [
    {
     "data": {
      "text/plain": [
       "[0.459375,\n",
       " 0.459375,\n",
       " 0.4125,\n",
       " 0.3385416666666667,\n",
       " 0.27395833333333336,\n",
       " 0.22604166666666667,\n",
       " 0.035416666666666666,\n",
       " 0.035416666666666666]"
      ]
     },
     "execution_count": 380,
     "metadata": {},
     "output_type": "execute_result"
    }
   ],
   "source": [
    "results_dict['recall']"
   ]
  },
  {
   "cell_type": "code",
   "execution_count": 384,
   "metadata": {},
   "outputs": [
    {
     "data": {
      "text/plain": [
       "[0.10273733255678508,\n",
       " 0.1031820308844174,\n",
       " 0.13631669535283994,\n",
       " 0.1454464085925263,\n",
       " 0.14990025648332858,\n",
       " 0.1414141414141414,\n",
       " 0.03803131991051454,\n",
       " 0.03803131991051454]"
      ]
     },
     "execution_count": 384,
     "metadata": {},
     "output_type": "execute_result"
    }
   ],
   "source": [
    "results_dict['f1']"
   ]
  },
  {
   "cell_type": "code",
   "execution_count": null,
   "metadata": {},
   "outputs": [],
   "source": []
  }
 ],
 "metadata": {
  "kernelspec": {
   "display_name": "Python 3",
   "language": "python",
   "name": "python3"
  },
  "language_info": {
   "codemirror_mode": {
    "name": "ipython",
    "version": 3
   },
   "file_extension": ".py",
   "mimetype": "text/x-python",
   "name": "python",
   "nbconvert_exporter": "python",
   "pygments_lexer": "ipython3",
   "version": "3.8.3"
  }
 },
 "nbformat": 4,
 "nbformat_minor": 4
}
