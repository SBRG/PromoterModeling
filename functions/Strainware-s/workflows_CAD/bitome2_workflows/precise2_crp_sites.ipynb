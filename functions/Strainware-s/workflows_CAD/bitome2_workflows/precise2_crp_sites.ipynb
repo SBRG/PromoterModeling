{
 "cells": [
  {
   "cell_type": "markdown",
   "metadata": {},
   "source": [
    "# Import Packages and Construct Bitome"
   ]
  },
  {
   "cell_type": "code",
   "execution_count": 1,
   "metadata": {},
   "outputs": [],
   "source": [
    "from pathlib import Path\n",
    "\n",
    "import pandas as pd\n",
    "from pymodulon.io import load_json_model\n",
    "from pymodulon.plotting import *\n",
    "import sys\n",
    "\n",
    "sys.path.append('../../bitome2')\n",
    "\n",
    "from bitome.core import Bitome"
   ]
  },
  {
   "cell_type": "code",
   "execution_count": 2,
   "metadata": {},
   "outputs": [],
   "source": [
    "K12_DATA_PATH = Path('../data/bitome2/mg1655')"
   ]
  },
  {
   "cell_type": "code",
   "execution_count": 3,
   "metadata": {},
   "outputs": [],
   "source": [
    "# from GenBank annotation\n",
    "origin = (3925743, 3925975)\n",
    "# from 1. Duggin, I. G. & Bell, S. D. J. Mol. Biol. (2009). with the following terA/terC sequences:\n",
    "# ter_a = 'AATTAGTATGTTGTAACTAAAGT'\n",
    "# ter_c = 'ATATAGGATGTTGTAACTAATAT'\n",
    "terminus = (1341745, 1609180)\n",
    "cid_boundaries = [50000, 142779, 223485, 446815, 927474, 985894, 1080000, 1195008, 1301085, 1577657,\n",
    "                 1799393, 1852621, 2102875, 2259719, 2380722, 2533498, 2726069, 2905711, 2996372, 3297098,\n",
    "                 3423423, 3440040, 3652182, 3811250, 3941516, 4035239, 4166484, 4470986]"
   ]
  },
  {
   "cell_type": "code",
   "execution_count": 4,
   "metadata": {},
   "outputs": [],
   "source": [
    "mg1655 = Bitome(\n",
    "    Path(K12_DATA_PATH, 'NC_000913.3.gb'),\n",
    "    name='MG1655',\n",
    "    origin=origin, terminus=terminus,\n",
    "    cid_boundaries=cid_boundaries,\n",
    "    gene_table=Path(K12_DATA_PATH, 'gene_info_supp.csv'),\n",
    "    tu_table=Path(K12_DATA_PATH, 'tu.csv'),\n",
    "    operon_table=Path(K12_DATA_PATH, 'operon.csv'),\n",
    "    tss_table=Path(K12_DATA_PATH, 'tss.csv'),\n",
    "    tfbs_table=Path(K12_DATA_PATH, 'tfbs.csv'),\n",
    "    terminator_table=Path(K12_DATA_PATH, 'terminator.csv'),\n",
    "    attenuator_table=Path(K12_DATA_PATH, 'attenuator.csv'),\n",
    "    rbs_table=Path(K12_DATA_PATH, 'rbs.csv'),\n",
    "    riboswitch_table=Path(K12_DATA_PATH, 'riboswitch.csv')\n",
    ")"
   ]
  },
  {
   "cell_type": "code",
   "execution_count": 5,
   "metadata": {},
   "outputs": [],
   "source": [
    "p1k = load_json_model('/Users/cam/Projects/precise1k/data/precise1k/precise1k.json.gz')"
   ]
  },
  {
   "cell_type": "markdown",
   "metadata": {},
   "source": [
    "# Crp"
   ]
  },
  {
   "cell_type": "code",
   "execution_count": 6,
   "metadata": {},
   "outputs": [],
   "source": [
    "crp1_df = p1k.view_imodulon('Crp-1')\n",
    "crp2_df = p1k.view_imodulon('Crp-2')\n",
    "\n",
    "crp_shared_genes = set(crp1_df.index).intersection(crp2_df.index)\n",
    "\n",
    "crp1_df_unique = crp1_df.drop(index=crp_shared_genes)\n",
    "crp1_df_unique = crp1_df_unique[(crp1_df_unique.regulator.notna()) &\n",
    "                                (crp1_df_unique.regulator.str.contains('Crp'))]\n",
    "\n",
    "crp2_df_unique = crp2_df.drop(index=crp_shared_genes)\n",
    "crp2_df_unique = crp2_df_unique[(crp2_df_unique.regulator.notna()) &\n",
    "                                (crp2_df_unique.regulator.str.contains('Crp'))]\n",
    "\n",
    "crp_tfbs_df = mg1655.tfbs_table[mg1655.tfbs_table['tf'] == 'CRP'].drop_duplicates()\n",
    "n_up, n_down = 150, 50"
   ]
  },
  {
   "cell_type": "markdown",
   "metadata": {},
   "source": [
    "## Crp-1"
   ]
  },
  {
   "cell_type": "markdown",
   "metadata": {},
   "source": [
    "### By genes"
   ]
  },
  {
   "cell_type": "code",
   "execution_count": 7,
   "metadata": {},
   "outputs": [],
   "source": [
    "crp1_tfbs_dists = []\n",
    "for crp1_gene_row in crp1_df_unique.itertuples():\n",
    "    crp1_tus = mg1655._gene_to_tus[crp1_gene_row.Index]\n",
    "    crp1_tu_df = mg1655.tu_table.loc[crp1_tus]\n",
    "\n",
    "    for crp1_tu_row in crp1_tu_df.itertuples():\n",
    "        if crp1_tu_row.strand == 1:\n",
    "            area_l, area_r = crp1_tu_row.tss - n_up, crp1_tu_row.tss + n_down\n",
    "        else:\n",
    "            area_l, area_r = crp1_tu_row.tss - n_down, crp1_tu_row.tss + n_up\n",
    "        tfbs_tu_df = crp_tfbs_df[\n",
    "            ((crp_tfbs_df['left'] > area_l) & (crp_tfbs_df['left'] < area_r)) | \n",
    "            ((crp_tfbs_df['right'] > area_l) & (crp_tfbs_df['right'] < area_r))\n",
    "        ].copy()\n",
    "        tfbs_tu_df['center'] = tfbs_tu_df[['left', 'right']].mean(axis=1)\n",
    "        for tfbs_row in tfbs_tu_df.itertuples():\n",
    "            if crp1_tu_row.strand == 1:\n",
    "                crp1_tfbs_dists.append(tfbs_row.center - crp1_tu_row.tss)\n",
    "            else:\n",
    "                crp1_tfbs_dists.append(crp1_tu_row.tss - tfbs_row.center)"
   ]
  },
  {
   "cell_type": "markdown",
   "metadata": {},
   "source": [
    "## Crp-2"
   ]
  },
  {
   "cell_type": "code",
   "execution_count": 11,
   "metadata": {},
   "outputs": [],
   "source": [
    "test = pd.read_csv('/Users/cam/Projects/precise1k/data/k12_modulome/bioproject_list_curated.csv')"
   ]
  },
  {
   "cell_type": "code",
   "execution_count": 8,
   "metadata": {},
   "outputs": [],
   "source": [
    "crp2_tfbs_dists = []\n",
    "for crp2_gene_row in crp2_df_unique.itertuples():\n",
    "    crp2_tus = mg1655._gene_to_tus[crp2_gene_row.Index]\n",
    "    crp2_tu_df = mg1655.tu_table.loc[crp2_tus]  \n",
    "\n",
    "    for crp2_tu_row in crp2_tu_df.itertuples():\n",
    "        if crp2_tu_row.strand == 1:\n",
    "            area_l, area_r = crp2_tu_row.tss - n_up, crp2_tu_row.tss + n_down\n",
    "        else:\n",
    "            area_l, area_r = crp2_tu_row.tss - n_down, crp2_tu_row.tss + n_up\n",
    "        tfbs_tu_df = crp_tfbs_df[\n",
    "            ((crp_tfbs_df['left'] > area_l) & (crp_tfbs_df['left'] < area_r)) | \n",
    "            ((crp_tfbs_df['right'] > area_l) & (crp_tfbs_df['right'] < area_r))\n",
    "        ].copy()\n",
    "        tfbs_tu_df['center'] = tfbs_tu_df[['left', 'right']].mean(axis=1)\n",
    "        for tfbs_row in tfbs_tu_df.itertuples():\n",
    "            if crp2_tu_row.strand == 1:\n",
    "                dist = tfbs_row.center - crp2_tu_row.tss\n",
    "            else:\n",
    "                dist = crp2_tu_row.tss - tfbs_row.center\n",
    "            crp2_tfbs_dists.append(dist)"
   ]
  },
  {
   "cell_type": "markdown",
   "metadata": {},
   "source": [
    "https://www.researchgate.net/figure/Transcription-activation-at-class-I-and-class-II-cyclic-AMP-receptor-protein_fig6_11091723"
   ]
  },
  {
   "cell_type": "markdown",
   "metadata": {},
   "source": [
    "## Plot"
   ]
  },
  {
   "cell_type": "code",
   "execution_count": 18,
   "metadata": {},
   "outputs": [
    {
     "data": {
      "image/png": "[encoded data removed]",
      "text/plain": [
       "<Figure size 600x400 with 1 Axes>"
      ]
     },
     "metadata": {},
     "output_type": "display_data"
    }
   ],
   "source": [
    "_, ax = plt.subplots(figsize=(6, 4))\n",
    "sns.histplot(crp1_tfbs_dists, ax=ax, binwidth=2, label='Crp-1', color='blue', alpha=0.5)\n",
    "sns.histplot(crp2_tfbs_dists, ax=ax, binwidth=2, label='Crp-2', color='red', alpha=0.5)\n",
    "ax.set_xlabel('Dist to TSS (bp)', fontsize=14)\n",
    "ax.set_ylabel('# Genes', fontsize=14)\n",
    "ax.tick_params(axis='both', labelsize=11)\n",
    "ax.legend(fontsize=13)\n",
    "for s in ax.spines.values():\n",
    "    s.set_linewidth(1.5)\n",
    "ax.set_xticks(np.arange(-160, 50, 40));\n",
    "plt.savefig('/Users/cam/Projects/precise1k/notebooks/precise1k/investigate_activities_figs/crp_sites.png', dpi=300)\n",
    "plt.savefig('/Users/cam/Projects/precise1k/notebooks/precise1k/investigate_activities_figs/crp_sites.svg', dpi=300)"
   ]
  },
  {
   "cell_type": "markdown",
   "metadata": {},
   "source": [
    "## Binding Kinetics\n",
    "\n",
    "Data Taken from Mathematica notebook; just for plotting"
   ]
  },
  {
   "cell_type": "code",
   "execution_count": 184,
   "metadata": {},
   "outputs": [
    {
     "data": {
      "text/html": [
       "<div>\n",
       "<style scoped>\n",
       "    .dataframe tbody tr th:only-of-type {\n",
       "        vertical-align: middle;\n",
       "    }\n",
       "\n",
       "    .dataframe tbody tr th {\n",
       "        vertical-align: top;\n",
       "    }\n",
       "\n",
       "    .dataframe thead th {\n",
       "        text-align: right;\n",
       "    }\n",
       "</style>\n",
       "<table border=\"1\" class=\"dataframe\">\n",
       "  <thead>\n",
       "    <tr style=\"text-align: right;\">\n",
       "      <th></th>\n",
       "      <th>x</th>\n",
       "      <th>y</th>\n",
       "    </tr>\n",
       "  </thead>\n",
       "  <tbody>\n",
       "    <tr>\n",
       "      <th>0</th>\n",
       "      <td>0.991237</td>\n",
       "      <td>0.999647</td>\n",
       "    </tr>\n",
       "    <tr>\n",
       "      <th>1</th>\n",
       "      <td>0.990800</td>\n",
       "      <td>0.999629</td>\n",
       "    </tr>\n",
       "    <tr>\n",
       "      <th>2</th>\n",
       "      <td>0.990340</td>\n",
       "      <td>0.999610</td>\n",
       "    </tr>\n",
       "    <tr>\n",
       "      <th>3</th>\n",
       "      <td>0.989858</td>\n",
       "      <td>0.999590</td>\n",
       "    </tr>\n",
       "    <tr>\n",
       "      <th>4</th>\n",
       "      <td>0.989352</td>\n",
       "      <td>0.999570</td>\n",
       "    </tr>\n",
       "  </tbody>\n",
       "</table>\n",
       "</div>"
      ],
      "text/plain": [
       "          x         y\n",
       "0  0.991237  0.999647\n",
       "1  0.990800  0.999629\n",
       "2  0.990340  0.999610\n",
       "3  0.989858  0.999590\n",
       "4  0.989352  0.999570"
      ]
     },
     "execution_count": 184,
     "metadata": {},
     "output_type": "execute_result"
    }
   ],
   "source": [
    "kinetic_data = pd.read_csv('../data/crp_binding.csv', header=None)\n",
    "kinetic_data.columns = ['x', 'y']\n",
    "kinetic_data.head()"
   ]
  },
  {
   "cell_type": "code",
   "execution_count": 187,
   "metadata": {},
   "outputs": [
    {
     "data": {
      "image/png": "[encoded data removed]",
      "text/plain": [
       "<Figure size 360x288 with 1 Axes>"
      ]
     },
     "metadata": {
      "needs_background": "light"
     },
     "output_type": "display_data"
    }
   ],
   "source": [
    "_, ax = plt.subplots(figsize=(5, 4))\n",
    "sns.scatterplot(x='x', y='y', data=kinetic_data, s=10)\n",
    "ax.tick_params(axis='both', labelsize=12)\n",
    "ax.set_xlabel('Class I Fraction Bound', fontsize=13)\n",
    "ax.set_ylabel('Class II Fraction Bound', fontsize=13)\n",
    "for s in ax.spines.values():\n",
    "    s.set_linewidth(1.5)\n",
    "    \n",
    "plt.savefig('/Users/cam/Projects/precise2/notebooks/fig5/kinetics.svg')"
   ]
  },
  {
   "cell_type": "markdown",
   "metadata": {},
   "source": [
    "# Fur"
   ]
  },
  {
   "cell_type": "code",
   "execution_count": 35,
   "metadata": {},
   "outputs": [
    {
     "data": {
      "text/plain": [
       "{'b0151',\n",
       " 'b0152',\n",
       " 'b0585',\n",
       " 'b0588',\n",
       " 'b0589',\n",
       " 'b0591',\n",
       " 'b0593',\n",
       " 'b0595',\n",
       " 'b0596',\n",
       " 'b0597',\n",
       " 'b1452',\n",
       " 'b1705',\n",
       " 'b4511'}"
      ]
     },
     "execution_count": 35,
     "metadata": {},
     "output_type": "execute_result"
    }
   ],
   "source": [
    "fur1_df = precise2.view_imodulon('Fur-1')\n",
    "fur2_df = precise2.view_imodulon('Fur-2')\n",
    "\n",
    "fur_shared_genes = set(fur1_df.index).intersection(fur2_df.index)\n",
    "fur_shared_genes"
   ]
  },
  {
   "cell_type": "markdown",
   "metadata": {},
   "source": [
    "## Fur-1"
   ]
  },
  {
   "cell_type": "code",
   "execution_count": 51,
   "metadata": {
    "scrolled": true
   },
   "outputs": [
    {
     "data": {
      "image/png": "[encoded data removed]",
      "text/plain": [
       "<Figure size 360x288 with 1 Axes>"
      ]
     },
     "metadata": {
      "needs_background": "light"
     },
     "output_type": "display_data"
    }
   ],
   "source": [
    "fur1_df_all = precise2.view_imodulon('Fur-1')\n",
    "fur1_df = fur1_df_all.drop(index=fur_shared_genes)\n",
    "\n",
    "# get unique TUs for genes in this iModulon that are regulated by CRP\n",
    "fur1_tus = []\n",
    "for fur1_row in fur1_df.itertuples():\n",
    "    if pd.notna(fur1_row.regulator) and 'Fur' in fur1_row.regulator:\n",
    "        fur1_tus += mg1655._gene_to_tus[fur1_row.Index]\n",
    "\n",
    "fur1_tus = list(set(fur1_tus))\n",
    "fur1_tu_df = mg1655.tu_table.loc[fur1_tus]\n",
    "\n",
    "fur_tfbs_df = mg1655.tfbs_table[mg1655.tfbs_table['tf'] == 'Fur'].drop_duplicates()\n",
    "n_up, n_down = 150, 50\n",
    "\n",
    "tss_tfbs_dists = []\n",
    "tsses = []\n",
    "reg_types = []\n",
    "for fur1_tu_row in fur1_tu_df.itertuples():\n",
    "    tsses.append(fur1_tu_row.tss)\n",
    "    if fur1_tu_row.strand == 1:\n",
    "        area_l, area_r = fur1_tu_row.tss - n_up, fur1_tu_row.tss + n_down\n",
    "    else:\n",
    "        area_l, area_r = fur1_tu_row.tss - n_down, fur1_tu_row.tss + n_up\n",
    "    tfbs_tu_df = fur_tfbs_df[\n",
    "        ((fur_tfbs_df['left'] > area_l) & (fur_tfbs_df['left'] < area_r)) | \n",
    "        ((fur_tfbs_df['right'] > area_l) & (fur_tfbs_df['right'] < area_r))\n",
    "    ].copy()\n",
    "    tfbs_tu_df['center'] = tfbs_tu_df[['left', 'right']].mean(axis=1)\n",
    "    for tfbs_row in tfbs_tu_df.itertuples():\n",
    "        reg_types.append(tfbs_row.mode)\n",
    "        if fur1_tu_row.strand == 1:\n",
    "            tss_tfbs_dists.append(tfbs_row.center - fur1_tu_row.tss)\n",
    "        else:\n",
    "            tss_tfbs_dists.append(fur1_tu_row.tss - tfbs_row.center)\n",
    "    \n",
    "\n",
    "_, ax = plt.subplots(figsize=(5, 4))\n",
    "ax.hist(tss_tfbs_dists, bins=20)\n",
    "ax.set_title('Fur-1 TSS-TFBS Dists')\n",
    "ax.set_xlabel('Dist to TSS (bp)')\n",
    "ax.set_ylabel('# Fur-1 TUs')\n",
    "ax.set_xticks(np.arange(-100, 60, 20));"
   ]
  },
  {
   "cell_type": "markdown",
   "metadata": {},
   "source": [
    "## Fur-2"
   ]
  },
  {
   "cell_type": "code",
   "execution_count": 52,
   "metadata": {},
   "outputs": [
    {
     "data": {
      "image/png": "[encoded data removed]",
      "text/plain": [
       "<Figure size 360x288 with 1 Axes>"
      ]
     },
     "metadata": {
      "needs_background": "light"
     },
     "output_type": "display_data"
    }
   ],
   "source": [
    "fur2_df_all = precise2.view_imodulon('Fur-2')\n",
    "fur2_df = fur2_df_all.drop(index=fur_shared_genes)\n",
    "\n",
    "# get unique TUs for genes in this iModulon that are regulated by CRP\n",
    "fur2_tus = []\n",
    "for fur2_row in fur2_df.itertuples():\n",
    "    if pd.notna(fur2_row.regulator) and 'Fur' in fur2_row.regulator:\n",
    "        fur2_tus += mg1655._gene_to_tus[fur2_row.Index]\n",
    "\n",
    "fur2_tus = list(set(fur2_tus))\n",
    "fur2_tu_df = mg1655.tu_table.loc[fur2_tus]\n",
    "\n",
    "fur_tfbs_df = mg1655.tfbs_table[mg1655.tfbs_table['tf'] == 'Fur'].drop_duplicates()\n",
    "n_up, n_down = 150, 50\n",
    "\n",
    "tss_tfbs_dists2 = []\n",
    "tsses = []\n",
    "reg_types = []\n",
    "for fur2_tu_row in fur2_tu_df.itertuples():\n",
    "    tsses.append(fur2_tu_row.tss)\n",
    "    if fur2_tu_row.strand == 1:\n",
    "        area_l, area_r = fur2_tu_row.tss - n_up, fur2_tu_row.tss + n_down\n",
    "    else:\n",
    "        area_l, area_r = fur2_tu_row.tss - n_down, fur2_tu_row.tss + n_up\n",
    "    tfbs_tu_df = fur_tfbs_df[\n",
    "        ((fur_tfbs_df['left'] > area_l) & (fur_tfbs_df['left'] < area_r)) | \n",
    "        ((fur_tfbs_df['right'] > area_l) & (fur_tfbs_df['right'] < area_r))\n",
    "    ].copy()\n",
    "    tfbs_tu_df['center'] = tfbs_tu_df[['left', 'right']].mean(axis=1)\n",
    "    for tfbs_row in tfbs_tu_df.itertuples():\n",
    "        reg_types.append(tfbs_row.mode)\n",
    "        if fur2_tu_row.strand == 1:\n",
    "            tss_tfbs_dists2.append(tfbs_row.center - fur2_tu_row.tss)\n",
    "        else:\n",
    "            tss_tfbs_dists2.append(fur2_tu_row.tss - tfbs_row.center)\n",
    "    \n",
    "\n",
    "_, ax = plt.subplots(figsize=(5, 4))\n",
    "ax.hist(tss_tfbs_dists2, bins=5)\n",
    "ax.set_title('Fur-2 TSS-TFBS Dists')\n",
    "ax.set_xlabel('Dist to TSS (bp)')\n",
    "ax.set_ylabel('# Fur-2 TUs')\n",
    "ax.set_xticks(np.arange(-100, 60, 20));"
   ]
  },
  {
   "cell_type": "code",
   "execution_count": null,
   "metadata": {},
   "outputs": [],
   "source": []
  }
 ],
 "metadata": {
  "kernelspec": {
   "display_name": "Python 3 (ipykernel)",
   "language": "python",
   "name": "python3"
  },
  "language_info": {
   "codemirror_mode": {
    "name": "ipython",
    "version": 3
   },
   "file_extension": ".py",
   "mimetype": "text/x-python",
   "name": "python",
   "nbconvert_exporter": "python",
   "pygments_lexer": "ipython3",
   "version": "3.10.8"
  },
  "toc": {
   "base_numbering": 1,
   "nav_menu": {},
   "number_sections": true,
   "sideBar": true,
   "skip_h1_title": false,
   "title_cell": "Table of Contents",
   "title_sidebar": "Contents",
   "toc_cell": false,
   "toc_position": {
    "height": "calc(100% - 180px)",
    "left": "10px",
    "top": "150px",
    "width": "384px"
   },
   "toc_section_display": true,
   "toc_window_display": true
  }
 },
 "nbformat": 4,
 "nbformat_minor": 4
}
