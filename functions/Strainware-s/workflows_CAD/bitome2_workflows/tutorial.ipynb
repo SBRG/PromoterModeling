{
 "cells": [
  {
   "cell_type": "markdown",
   "metadata": {},
   "source": [
    "# Bitome 2.0 Tutorial\n",
    "\n",
    "This notebook contains a broad overview of the new Bitome codebase, used for organizing, analyzing, and visualizing all features associated with a prokaryotic genome sequence. \n",
    "\n",
    "Features are represented in tables, organized by feature type, and stored as pandas DataFrames for ease of use and storage. "
   ]
  },
  {
   "cell_type": "markdown",
   "metadata": {},
   "source": [
    "## Input/Output"
   ]
  },
  {
   "cell_type": "code",
   "execution_count": 1,
   "metadata": {},
   "outputs": [],
   "source": [
    "import sys\n",
    "\n",
    "sys.path.append('../../bitome2/')\n",
    "sys.path.append('../')\n",
    "\n",
    "from bitome.core import Bitome\n",
    "from feature_functions import *"
   ]
  },
  {
   "cell_type": "markdown",
   "metadata": {},
   "source": [
    "The most basic input to a `Bitome` object is a reference sequence, in either FASTA or GenBank format. If GenBank format is provided, you have the option to automagically parse GenBank feature information into tabular format for further use in the bitome. "
   ]
  },
  {
   "cell_type": "markdown",
   "metadata": {},
   "source": [
    "### FASTA"
   ]
  },
  {
   "cell_type": "code",
   "execution_count": 2,
   "metadata": {},
   "outputs": [],
   "source": [
    "bitome_fasta = Bitome('../../bitome2/data/example/NC_000913.3.fasta')"
   ]
  },
  {
   "cell_type": "markdown",
   "metadata": {},
   "source": [
    "With FASTA input, no feature tables are populated by default; we just have a reference sequence:"
   ]
  },
  {
   "cell_type": "code",
   "execution_count": 3,
   "metadata": {},
   "outputs": [
    {
     "name": "stdout",
     "output_type": "stream",
     "text": [
      "Sequence 1st 50: AGCTTTTCATTCTGACTGCAACGGGCAATATGTCTCTGTGTGGATTAAAA\n",
      "Description: NC_000913.3 Escherichia coli str. K-12 substr. MG1655, complete genome\n",
      "Sequence ID: NC_000913.3\n"
     ]
    }
   ],
   "source": [
    "print(f'Sequence 1st 50: {bitome_fasta.sequence[:50]}')\n",
    "print(f'Description: {bitome_fasta.description}')\n",
    "print(f'Sequence ID: {bitome_fasta.reference_id}')"
   ]
  },
  {
   "cell_type": "markdown",
   "metadata": {},
   "source": [
    "### GenBank\n",
    "\n",
    "With GenBank input, by default, gene, protein, and miscellaneous feature tables are parsed and prepared:"
   ]
  },
  {
   "cell_type": "code",
   "execution_count": 4,
   "metadata": {},
   "outputs": [],
   "source": [
    "bitome_genbank = Bitome('../../bitome2/data/example/NC_000913.3.gb')"
   ]
  },
  {
   "cell_type": "code",
   "execution_count": 5,
   "metadata": {},
   "outputs": [
    {
     "data": {
      "text/html": [
       "<div>\n",
       "<style scoped>\n",
       "    .dataframe tbody tr th:only-of-type {\n",
       "        vertical-align: middle;\n",
       "    }\n",
       "\n",
       "    .dataframe tbody tr th {\n",
       "        vertical-align: top;\n",
       "    }\n",
       "\n",
       "    .dataframe thead th {\n",
       "        text-align: right;\n",
       "    }\n",
       "</style>\n",
       "<table border=\"1\" class=\"dataframe\">\n",
       "  <thead>\n",
       "    <tr style=\"text-align: right;\">\n",
       "      <th></th>\n",
       "      <th>left</th>\n",
       "      <th>right</th>\n",
       "      <th>strand</th>\n",
       "      <th>pseudo</th>\n",
       "      <th>name</th>\n",
       "    </tr>\n",
       "    <tr>\n",
       "      <th>locus_tag</th>\n",
       "      <th></th>\n",
       "      <th></th>\n",
       "      <th></th>\n",
       "      <th></th>\n",
       "      <th></th>\n",
       "    </tr>\n",
       "  </thead>\n",
       "  <tbody>\n",
       "    <tr>\n",
       "      <th>b0001</th>\n",
       "      <td>190</td>\n",
       "      <td>255</td>\n",
       "      <td>1</td>\n",
       "      <td>False</td>\n",
       "      <td>thrL</td>\n",
       "    </tr>\n",
       "    <tr>\n",
       "      <th>b0002</th>\n",
       "      <td>337</td>\n",
       "      <td>2799</td>\n",
       "      <td>1</td>\n",
       "      <td>False</td>\n",
       "      <td>thrA</td>\n",
       "    </tr>\n",
       "    <tr>\n",
       "      <th>b0003</th>\n",
       "      <td>2801</td>\n",
       "      <td>3733</td>\n",
       "      <td>1</td>\n",
       "      <td>False</td>\n",
       "      <td>thrB</td>\n",
       "    </tr>\n",
       "    <tr>\n",
       "      <th>b0004</th>\n",
       "      <td>3734</td>\n",
       "      <td>5020</td>\n",
       "      <td>1</td>\n",
       "      <td>False</td>\n",
       "      <td>thrC</td>\n",
       "    </tr>\n",
       "    <tr>\n",
       "      <th>b0005</th>\n",
       "      <td>5234</td>\n",
       "      <td>5530</td>\n",
       "      <td>1</td>\n",
       "      <td>False</td>\n",
       "      <td>yaaX</td>\n",
       "    </tr>\n",
       "  </tbody>\n",
       "</table>\n",
       "</div>"
      ],
      "text/plain": [
       "           left  right  strand  pseudo  name\n",
       "locus_tag                                   \n",
       "b0001       190    255       1   False  thrL\n",
       "b0002       337   2799       1   False  thrA\n",
       "b0003      2801   3733       1   False  thrB\n",
       "b0004      3734   5020       1   False  thrC\n",
       "b0005      5234   5530       1   False  yaaX"
      ]
     },
     "execution_count": 5,
     "metadata": {},
     "output_type": "execute_result"
    }
   ],
   "source": [
    "bitome_genbank.gene_table.head()"
   ]
  },
  {
   "cell_type": "code",
   "execution_count": 6,
   "metadata": {},
   "outputs": [
    {
     "data": {
      "text/html": [
       "<div>\n",
       "<style scoped>\n",
       "    .dataframe tbody tr th:only-of-type {\n",
       "        vertical-align: middle;\n",
       "    }\n",
       "\n",
       "    .dataframe tbody tr th {\n",
       "        vertical-align: top;\n",
       "    }\n",
       "\n",
       "    .dataframe thead th {\n",
       "        text-align: right;\n",
       "    }\n",
       "</style>\n",
       "<table border=\"1\" class=\"dataframe\">\n",
       "  <thead>\n",
       "    <tr style=\"text-align: right;\">\n",
       "      <th></th>\n",
       "      <th>left</th>\n",
       "      <th>right</th>\n",
       "      <th>strand</th>\n",
       "      <th>name</th>\n",
       "    </tr>\n",
       "    <tr>\n",
       "      <th>locus_tag</th>\n",
       "      <th></th>\n",
       "      <th></th>\n",
       "      <th></th>\n",
       "      <th></th>\n",
       "    </tr>\n",
       "  </thead>\n",
       "  <tbody>\n",
       "    <tr>\n",
       "      <th>b0001</th>\n",
       "      <td>190</td>\n",
       "      <td>255</td>\n",
       "      <td>1</td>\n",
       "      <td>thr operon leader peptide</td>\n",
       "    </tr>\n",
       "    <tr>\n",
       "      <th>b0002</th>\n",
       "      <td>337</td>\n",
       "      <td>2799</td>\n",
       "      <td>1</td>\n",
       "      <td>Bifunctional aspartokinase/homoserine dehydrog...</td>\n",
       "    </tr>\n",
       "    <tr>\n",
       "      <th>b0003</th>\n",
       "      <td>2801</td>\n",
       "      <td>3733</td>\n",
       "      <td>1</td>\n",
       "      <td>homoserine kinase</td>\n",
       "    </tr>\n",
       "    <tr>\n",
       "      <th>b0004</th>\n",
       "      <td>3734</td>\n",
       "      <td>5020</td>\n",
       "      <td>1</td>\n",
       "      <td>L-threonine synthase</td>\n",
       "    </tr>\n",
       "    <tr>\n",
       "      <th>b0005</th>\n",
       "      <td>5234</td>\n",
       "      <td>5530</td>\n",
       "      <td>1</td>\n",
       "      <td>DUF2502 family putative periplasmic protein</td>\n",
       "    </tr>\n",
       "  </tbody>\n",
       "</table>\n",
       "</div>"
      ],
      "text/plain": [
       "           left  right  strand  \\\n",
       "locus_tag                        \n",
       "b0001       190    255       1   \n",
       "b0002       337   2799       1   \n",
       "b0003      2801   3733       1   \n",
       "b0004      3734   5020       1   \n",
       "b0005      5234   5530       1   \n",
       "\n",
       "                                                        name  \n",
       "locus_tag                                                     \n",
       "b0001                              thr operon leader peptide  \n",
       "b0002      Bifunctional aspartokinase/homoserine dehydrog...  \n",
       "b0003                                      homoserine kinase  \n",
       "b0004                                   L-threonine synthase  \n",
       "b0005            DUF2502 family putative periplasmic protein  "
      ]
     },
     "execution_count": 6,
     "metadata": {},
     "output_type": "execute_result"
    }
   ],
   "source": [
    "bitome_genbank.protein_table.head()"
   ]
  },
  {
   "cell_type": "code",
   "execution_count": 7,
   "metadata": {},
   "outputs": [
    {
     "data": {
      "text/html": [
       "<div>\n",
       "<style scoped>\n",
       "    .dataframe tbody tr th:only-of-type {\n",
       "        vertical-align: middle;\n",
       "    }\n",
       "\n",
       "    .dataframe tbody tr th {\n",
       "        vertical-align: top;\n",
       "    }\n",
       "\n",
       "    .dataframe thead th {\n",
       "        text-align: right;\n",
       "    }\n",
       "</style>\n",
       "<table border=\"1\" class=\"dataframe\">\n",
       "  <thead>\n",
       "    <tr style=\"text-align: right;\">\n",
       "      <th></th>\n",
       "      <th>left</th>\n",
       "      <th>right</th>\n",
       "      <th>strand</th>\n",
       "      <th>type</th>\n",
       "    </tr>\n",
       "    <tr>\n",
       "      <th>locus_tag</th>\n",
       "      <th></th>\n",
       "      <th></th>\n",
       "      <th></th>\n",
       "      <th></th>\n",
       "    </tr>\n",
       "  </thead>\n",
       "  <tbody>\n",
       "    <tr>\n",
       "      <th>NC_000913.3_1</th>\n",
       "      <td>5565</td>\n",
       "      <td>5669</td>\n",
       "      <td>1</td>\n",
       "      <td>repeat_region</td>\n",
       "    </tr>\n",
       "    <tr>\n",
       "      <th>NC_000913.3_2</th>\n",
       "      <td>15387</td>\n",
       "      <td>16731</td>\n",
       "      <td>1</td>\n",
       "      <td>mobile_element</td>\n",
       "    </tr>\n",
       "    <tr>\n",
       "      <th>b4413</th>\n",
       "      <td>16952</td>\n",
       "      <td>17006</td>\n",
       "      <td>1</td>\n",
       "      <td>ncRNA</td>\n",
       "    </tr>\n",
       "    <tr>\n",
       "      <th>NC_000913.3_3</th>\n",
       "      <td>19796</td>\n",
       "      <td>20563</td>\n",
       "      <td>-1</td>\n",
       "      <td>mobile_element</td>\n",
       "    </tr>\n",
       "    <tr>\n",
       "      <th>NC_000913.3_4</th>\n",
       "      <td>25710</td>\n",
       "      <td>25795</td>\n",
       "      <td>1</td>\n",
       "      <td>repeat_region</td>\n",
       "    </tr>\n",
       "  </tbody>\n",
       "</table>\n",
       "</div>"
      ],
      "text/plain": [
       "                left  right  strand            type\n",
       "locus_tag                                          \n",
       "NC_000913.3_1   5565   5669       1   repeat_region\n",
       "NC_000913.3_2  15387  16731       1  mobile_element\n",
       "b4413          16952  17006       1           ncRNA\n",
       "NC_000913.3_3  19796  20563      -1  mobile_element\n",
       "NC_000913.3_4  25710  25795       1   repeat_region"
      ]
     },
     "execution_count": 7,
     "metadata": {},
     "output_type": "execute_result"
    }
   ],
   "source": [
    "bitome_genbank.misc_feature_table.head()"
   ]
  },
  {
   "cell_type": "markdown",
   "metadata": {},
   "source": [
    "Automatic GenBank parsing can be controlled with the `use_genbank` option:"
   ]
  },
  {
   "cell_type": "code",
   "execution_count": 8,
   "metadata": {},
   "outputs": [
    {
     "data": {
      "text/html": [
       "<div>\n",
       "<style scoped>\n",
       "    .dataframe tbody tr th:only-of-type {\n",
       "        vertical-align: middle;\n",
       "    }\n",
       "\n",
       "    .dataframe tbody tr th {\n",
       "        vertical-align: top;\n",
       "    }\n",
       "\n",
       "    .dataframe thead th {\n",
       "        text-align: right;\n",
       "    }\n",
       "</style>\n",
       "<table border=\"1\" class=\"dataframe\">\n",
       "  <thead>\n",
       "    <tr style=\"text-align: right;\">\n",
       "      <th></th>\n",
       "      <th>left</th>\n",
       "      <th>right</th>\n",
       "      <th>strand</th>\n",
       "    </tr>\n",
       "    <tr>\n",
       "      <th>locus_tag</th>\n",
       "      <th></th>\n",
       "      <th></th>\n",
       "      <th></th>\n",
       "    </tr>\n",
       "  </thead>\n",
       "  <tbody>\n",
       "  </tbody>\n",
       "</table>\n",
       "</div>"
      ],
      "text/plain": [
       "Empty DataFrame\n",
       "Columns: [left, right, strand]\n",
       "Index: []"
      ]
     },
     "execution_count": 8,
     "metadata": {},
     "output_type": "execute_result"
    }
   ],
   "source": [
    "bitome_genbank_no_auto = Bitome('../../bitome2/data/example/NC_000913.3.gb', use_genbank=False)\n",
    "bitome_genbank_no_auto.gene_table.head()"
   ]
  },
  {
   "cell_type": "markdown",
   "metadata": {},
   "source": [
    "Use a GenBank file automatically created by the prokka annotation tool:"
   ]
  },
  {
   "cell_type": "code",
   "execution_count": 9,
   "metadata": {},
   "outputs": [
    {
     "data": {
      "text/html": [
       "<div>\n",
       "<style scoped>\n",
       "    .dataframe tbody tr th:only-of-type {\n",
       "        vertical-align: middle;\n",
       "    }\n",
       "\n",
       "    .dataframe tbody tr th {\n",
       "        vertical-align: top;\n",
       "    }\n",
       "\n",
       "    .dataframe thead th {\n",
       "        text-align: right;\n",
       "    }\n",
       "</style>\n",
       "<table border=\"1\" class=\"dataframe\">\n",
       "  <thead>\n",
       "    <tr style=\"text-align: right;\">\n",
       "      <th></th>\n",
       "      <th>left</th>\n",
       "      <th>right</th>\n",
       "      <th>strand</th>\n",
       "      <th>pseudo</th>\n",
       "      <th>name</th>\n",
       "    </tr>\n",
       "    <tr>\n",
       "      <th>locus_tag</th>\n",
       "      <th></th>\n",
       "      <th></th>\n",
       "      <th></th>\n",
       "      <th></th>\n",
       "      <th></th>\n",
       "    </tr>\n",
       "  </thead>\n",
       "  <tbody>\n",
       "    <tr>\n",
       "      <th>U00096_00001</th>\n",
       "      <td>337</td>\n",
       "      <td>2799</td>\n",
       "      <td>1</td>\n",
       "      <td>False</td>\n",
       "      <td>thrA</td>\n",
       "    </tr>\n",
       "    <tr>\n",
       "      <th>U00096_00002</th>\n",
       "      <td>2801</td>\n",
       "      <td>3733</td>\n",
       "      <td>1</td>\n",
       "      <td>False</td>\n",
       "      <td>thrB</td>\n",
       "    </tr>\n",
       "    <tr>\n",
       "      <th>U00096_00003</th>\n",
       "      <td>3734</td>\n",
       "      <td>5020</td>\n",
       "      <td>1</td>\n",
       "      <td>False</td>\n",
       "      <td>thrC</td>\n",
       "    </tr>\n",
       "    <tr>\n",
       "      <th>U00096_00004</th>\n",
       "      <td>5234</td>\n",
       "      <td>5530</td>\n",
       "      <td>1</td>\n",
       "      <td>False</td>\n",
       "      <td>None</td>\n",
       "    </tr>\n",
       "    <tr>\n",
       "      <th>U00096_00005</th>\n",
       "      <td>5683</td>\n",
       "      <td>6459</td>\n",
       "      <td>-1</td>\n",
       "      <td>False</td>\n",
       "      <td>None</td>\n",
       "    </tr>\n",
       "  </tbody>\n",
       "</table>\n",
       "</div>"
      ],
      "text/plain": [
       "              left  right  strand  pseudo  name\n",
       "locus_tag                                      \n",
       "U00096_00001   337   2799       1   False  thrA\n",
       "U00096_00002  2801   3733       1   False  thrB\n",
       "U00096_00003  3734   5020       1   False  thrC\n",
       "U00096_00004  5234   5530       1   False  None\n",
       "U00096_00005  5683   6459      -1   False  None"
      ]
     },
     "execution_count": 9,
     "metadata": {},
     "output_type": "execute_result"
    }
   ],
   "source": [
    "bitome_genbank_prokka = Bitome('../../bitome2/data/example/U00096_prokka.gb')\n",
    "bitome_genbank_prokka.gene_table.head()"
   ]
  },
  {
   "cell_type": "code",
   "execution_count": 10,
   "metadata": {},
   "outputs": [
    {
     "data": {
      "text/html": [
       "<div>\n",
       "<style scoped>\n",
       "    .dataframe tbody tr th:only-of-type {\n",
       "        vertical-align: middle;\n",
       "    }\n",
       "\n",
       "    .dataframe tbody tr th {\n",
       "        vertical-align: top;\n",
       "    }\n",
       "\n",
       "    .dataframe thead th {\n",
       "        text-align: right;\n",
       "    }\n",
       "</style>\n",
       "<table border=\"1\" class=\"dataframe\">\n",
       "  <thead>\n",
       "    <tr style=\"text-align: right;\">\n",
       "      <th></th>\n",
       "      <th>left</th>\n",
       "      <th>right</th>\n",
       "      <th>strand</th>\n",
       "      <th>type</th>\n",
       "    </tr>\n",
       "    <tr>\n",
       "      <th>locus_tag</th>\n",
       "      <th></th>\n",
       "      <th></th>\n",
       "      <th></th>\n",
       "      <th></th>\n",
       "    </tr>\n",
       "  </thead>\n",
       "  <tbody>\n",
       "    <tr>\n",
       "      <th>U00096_00197</th>\n",
       "      <td>225381</td>\n",
       "      <td>225457</td>\n",
       "      <td>1</td>\n",
       "      <td>tRNA</td>\n",
       "    </tr>\n",
       "    <tr>\n",
       "      <th>U00096_00198</th>\n",
       "      <td>225500</td>\n",
       "      <td>225575</td>\n",
       "      <td>1</td>\n",
       "      <td>tRNA</td>\n",
       "    </tr>\n",
       "    <tr>\n",
       "      <th>U00096_00199</th>\n",
       "      <td>228928</td>\n",
       "      <td>229004</td>\n",
       "      <td>1</td>\n",
       "      <td>tRNA</td>\n",
       "    </tr>\n",
       "    <tr>\n",
       "      <th>U00096_00209</th>\n",
       "      <td>236931</td>\n",
       "      <td>237007</td>\n",
       "      <td>1</td>\n",
       "      <td>tRNA</td>\n",
       "    </tr>\n",
       "    <tr>\n",
       "      <th>U00096_00240</th>\n",
       "      <td>262871</td>\n",
       "      <td>262946</td>\n",
       "      <td>1</td>\n",
       "      <td>tRNA</td>\n",
       "    </tr>\n",
       "  </tbody>\n",
       "</table>\n",
       "</div>"
      ],
      "text/plain": [
       "                left   right  strand  type\n",
       "locus_tag                                 \n",
       "U00096_00197  225381  225457       1  tRNA\n",
       "U00096_00198  225500  225575       1  tRNA\n",
       "U00096_00199  228928  229004       1  tRNA\n",
       "U00096_00209  236931  237007       1  tRNA\n",
       "U00096_00240  262871  262946       1  tRNA"
      ]
     },
     "execution_count": 10,
     "metadata": {},
     "output_type": "execute_result"
    }
   ],
   "source": [
    "bitome_genbank_prokka.misc_feature_table.head()"
   ]
  },
  {
   "cell_type": "markdown",
   "metadata": {},
   "source": [
    "### Feature Tables\n",
    "\n",
    "All other feature data is expected in tabular format. Gene and protein data may also be provided in this way; let's focus on these as examples. \n",
    "\n",
    "Looking above, we see the expected format for the feature tables based on the auto-parsed GenBank tables.\n",
    "\n",
    "The following columns are required for ALL feature tables, as they enable localization of the feature:\n",
    "- left\n",
    "- right\n",
    "- strand [can have NA]\n",
    "\n",
    "Additional columns that other optional functionalities will use include:\n",
    "- name\n",
    "- locus_tag\n",
    "\n",
    "Certain input tables also require particular feature-specific columns (i.e. the TU table requires a 'tss' column)\n",
    "\n",
    "Let's use the FASTA reference sequence but tell the Bitome about some genes and proteins:"
   ]
  },
  {
   "cell_type": "code",
   "execution_count": 13,
   "metadata": {},
   "outputs": [
    {
     "data": {
      "text/html": [
       "<div>\n",
       "<style scoped>\n",
       "    .dataframe tbody tr th:only-of-type {\n",
       "        vertical-align: middle;\n",
       "    }\n",
       "\n",
       "    .dataframe tbody tr th {\n",
       "        vertical-align: top;\n",
       "    }\n",
       "\n",
       "    .dataframe thead th {\n",
       "        text-align: right;\n",
       "    }\n",
       "</style>\n",
       "<table border=\"1\" class=\"dataframe\">\n",
       "  <thead>\n",
       "    <tr style=\"text-align: right;\">\n",
       "      <th></th>\n",
       "      <th>name</th>\n",
       "      <th>left</th>\n",
       "      <th>right</th>\n",
       "      <th>strand</th>\n",
       "    </tr>\n",
       "    <tr>\n",
       "      <th>locus_tag</th>\n",
       "      <th></th>\n",
       "      <th></th>\n",
       "      <th></th>\n",
       "      <th></th>\n",
       "    </tr>\n",
       "  </thead>\n",
       "  <tbody>\n",
       "    <tr>\n",
       "      <th>b0001</th>\n",
       "      <td>thrL</td>\n",
       "      <td>190</td>\n",
       "      <td>255</td>\n",
       "      <td>1</td>\n",
       "    </tr>\n",
       "    <tr>\n",
       "      <th>b0002</th>\n",
       "      <td>thrA</td>\n",
       "      <td>337</td>\n",
       "      <td>2799</td>\n",
       "      <td>1</td>\n",
       "    </tr>\n",
       "    <tr>\n",
       "      <th>b0003</th>\n",
       "      <td>thrB</td>\n",
       "      <td>2801</td>\n",
       "      <td>3733</td>\n",
       "      <td>1</td>\n",
       "    </tr>\n",
       "    <tr>\n",
       "      <th>b0004</th>\n",
       "      <td>thrC</td>\n",
       "      <td>3734</td>\n",
       "      <td>5020</td>\n",
       "      <td>1</td>\n",
       "    </tr>\n",
       "    <tr>\n",
       "      <th>b0005</th>\n",
       "      <td>yaaX</td>\n",
       "      <td>5234</td>\n",
       "      <td>5530</td>\n",
       "      <td>1</td>\n",
       "    </tr>\n",
       "  </tbody>\n",
       "</table>\n",
       "</div>"
      ],
      "text/plain": [
       "           name  left  right  strand\n",
       "locus_tag                           \n",
       "b0001      thrL   190    255       1\n",
       "b0002      thrA   337   2799       1\n",
       "b0003      thrB  2801   3733       1\n",
       "b0004      thrC  3734   5020       1\n",
       "b0005      yaaX  5234   5530       1"
      ]
     },
     "execution_count": 13,
     "metadata": {},
     "output_type": "execute_result"
    }
   ],
   "source": [
    "bitome_fasta_tables = Bitome(\n",
    "    '../../bitome2/data/example/NC_000913.3.fasta',\n",
    "    gene_table='../../bitome2/data/example/gene_table_good.csv',\n",
    "    protein_table='../../bitome2/data/example/protein_table_good.csv',\n",
    ")\n",
    "bitome_fasta_tables.gene_table.head()"
   ]
  },
  {
   "cell_type": "markdown",
   "metadata": {},
   "source": [
    "Required columns are error-checked:"
   ]
  },
  {
   "cell_type": "code",
   "execution_count": 14,
   "metadata": {
    "scrolled": true
   },
   "outputs": [
    {
     "ename": "FileNotFoundError",
     "evalue": "[Errno 2] No such file or directory: '../bitome2/data/example/NC_000913.3.fasta'",
     "output_type": "error",
     "traceback": [
      "\u001b[0;31m---------------------------------------------------------------------------\u001b[0m",
      "\u001b[0;31mFileNotFoundError\u001b[0m                         Traceback (most recent call last)",
      "\u001b[0;32m<ipython-input-14-c6f98f811b42>\u001b[0m in \u001b[0;36m<module>\u001b[0;34m\u001b[0m\n\u001b[0;32m----> 1\u001b[0;31m bitome_fasta_tables = Bitome(\n\u001b[0m\u001b[1;32m      2\u001b[0m     \u001b[0;34m'../bitome2/data/example/NC_000913.3.fasta'\u001b[0m\u001b[0;34m,\u001b[0m\u001b[0;34m\u001b[0m\u001b[0;34m\u001b[0m\u001b[0m\n\u001b[1;32m      3\u001b[0m     \u001b[0mgene_table\u001b[0m\u001b[0;34m=\u001b[0m\u001b[0;34m'../bitome2/data/example/gene_table_bad.csv'\u001b[0m\u001b[0;34m\u001b[0m\u001b[0;34m\u001b[0m\u001b[0m\n\u001b[1;32m      4\u001b[0m )\n",
      "\u001b[0;32m~/Projects/Strainware-s/bitome2/bitome/core.py\u001b[0m in \u001b[0;36m__init__\u001b[0;34m(self, reference_sequence, use_genbank, origin, terminus, gene_table, protein_table, tu_table, operon_table, tss_table, tts_table, tfbs_table, terminator_table, attenuator_table, rbs_table, riboswitch_table, additional_tables)\u001b[0m\n\u001b[1;32m    136\u001b[0m         \u001b[0;32mif\u001b[0m \u001b[0mreference_sequence_file_type\u001b[0m \u001b[0;32min\u001b[0m \u001b[0;34m[\u001b[0m\u001b[0;34m'fasta'\u001b[0m\u001b[0;34m,\u001b[0m \u001b[0;34m'gb'\u001b[0m\u001b[0;34m]\u001b[0m\u001b[0;34m:\u001b[0m\u001b[0;34m\u001b[0m\u001b[0;34m\u001b[0m\u001b[0m\n\u001b[1;32m    137\u001b[0m             \u001b[0;31m# this Biopython function errors if the FASTA file doesn't have exactly one record\u001b[0m\u001b[0;34m\u001b[0m\u001b[0;34m\u001b[0m\u001b[0;34m\u001b[0m\u001b[0m\n\u001b[0;32m--> 138\u001b[0;31m             \u001b[0mreference_record\u001b[0m \u001b[0;34m=\u001b[0m \u001b[0mSeqIO\u001b[0m\u001b[0;34m.\u001b[0m\u001b[0mread\u001b[0m\u001b[0;34m(\u001b[0m\u001b[0mreference_sequence_path\u001b[0m\u001b[0;34m,\u001b[0m \u001b[0mreference_sequence_file_type\u001b[0m\u001b[0;34m)\u001b[0m\u001b[0;34m\u001b[0m\u001b[0;34m\u001b[0m\u001b[0m\n\u001b[0m\u001b[1;32m    139\u001b[0m         \u001b[0;32melse\u001b[0m\u001b[0;34m:\u001b[0m\u001b[0;34m\u001b[0m\u001b[0;34m\u001b[0m\u001b[0m\n\u001b[1;32m    140\u001b[0m             raise ValueError(f'{reference_sequence_file_type} file extension not recognized. Please'\n",
      "\u001b[0;32m~/.virtualenvs/strainware/lib/python3.8/site-packages/Bio/SeqIO/__init__.py\u001b[0m in \u001b[0;36mread\u001b[0;34m(handle, format, alphabet)\u001b[0m\n\u001b[1;32m    652\u001b[0m     \u001b[0mto\u001b[0m \u001b[0mread\u001b[0m \u001b[0mmultiple\u001b[0m \u001b[0mrecords\u001b[0m \u001b[0;32mfrom\u001b[0m \u001b[0mthe\u001b[0m \u001b[0mhandle\u001b[0m\u001b[0;34m.\u001b[0m\u001b[0;34m\u001b[0m\u001b[0;34m\u001b[0m\u001b[0m\n\u001b[1;32m    653\u001b[0m     \"\"\"\n\u001b[0;32m--> 654\u001b[0;31m     \u001b[0miterator\u001b[0m \u001b[0;34m=\u001b[0m \u001b[0mparse\u001b[0m\u001b[0;34m(\u001b[0m\u001b[0mhandle\u001b[0m\u001b[0;34m,\u001b[0m \u001b[0mformat\u001b[0m\u001b[0;34m,\u001b[0m \u001b[0malphabet\u001b[0m\u001b[0;34m)\u001b[0m\u001b[0;34m\u001b[0m\u001b[0;34m\u001b[0m\u001b[0m\n\u001b[0m\u001b[1;32m    655\u001b[0m     \u001b[0;32mtry\u001b[0m\u001b[0;34m:\u001b[0m\u001b[0;34m\u001b[0m\u001b[0;34m\u001b[0m\u001b[0m\n\u001b[1;32m    656\u001b[0m         \u001b[0mrecord\u001b[0m \u001b[0;34m=\u001b[0m \u001b[0mnext\u001b[0m\u001b[0;34m(\u001b[0m\u001b[0miterator\u001b[0m\u001b[0;34m)\u001b[0m\u001b[0;34m\u001b[0m\u001b[0;34m\u001b[0m\u001b[0m\n",
      "\u001b[0;32m~/.virtualenvs/strainware/lib/python3.8/site-packages/Bio/SeqIO/__init__.py\u001b[0m in \u001b[0;36mparse\u001b[0;34m(handle, format, alphabet)\u001b[0m\n\u001b[1;32m    605\u001b[0m     \u001b[0miterator_generator\u001b[0m \u001b[0;34m=\u001b[0m \u001b[0m_FormatToIterator\u001b[0m\u001b[0;34m.\u001b[0m\u001b[0mget\u001b[0m\u001b[0;34m(\u001b[0m\u001b[0mformat\u001b[0m\u001b[0;34m)\u001b[0m\u001b[0;34m\u001b[0m\u001b[0;34m\u001b[0m\u001b[0m\n\u001b[1;32m    606\u001b[0m     \u001b[0;32mif\u001b[0m \u001b[0miterator_generator\u001b[0m\u001b[0;34m:\u001b[0m\u001b[0;34m\u001b[0m\u001b[0;34m\u001b[0m\u001b[0m\n\u001b[0;32m--> 607\u001b[0;31m         \u001b[0;32mreturn\u001b[0m \u001b[0miterator_generator\u001b[0m\u001b[0;34m(\u001b[0m\u001b[0mhandle\u001b[0m\u001b[0;34m)\u001b[0m\u001b[0;34m\u001b[0m\u001b[0;34m\u001b[0m\u001b[0m\n\u001b[0m\u001b[1;32m    608\u001b[0m     \u001b[0;32mif\u001b[0m \u001b[0mformat\u001b[0m \u001b[0;32min\u001b[0m \u001b[0mAlignIO\u001b[0m\u001b[0;34m.\u001b[0m\u001b[0m_FormatToIterator\u001b[0m\u001b[0;34m:\u001b[0m\u001b[0;34m\u001b[0m\u001b[0;34m\u001b[0m\u001b[0m\n\u001b[1;32m    609\u001b[0m         \u001b[0;31m# Use Bio.AlignIO to read in the alignments\u001b[0m\u001b[0;34m\u001b[0m\u001b[0;34m\u001b[0m\u001b[0;34m\u001b[0m\u001b[0m\n",
      "\u001b[0;32m~/.virtualenvs/strainware/lib/python3.8/site-packages/Bio/SeqIO/FastaIO.py\u001b[0m in \u001b[0;36m__init__\u001b[0;34m(self, source, alphabet, title2ids)\u001b[0m\n\u001b[1;32m    181\u001b[0m             \u001b[0;32mraise\u001b[0m \u001b[0mValueError\u001b[0m\u001b[0;34m(\u001b[0m\u001b[0;34m\"The alphabet argument is no longer supported\"\u001b[0m\u001b[0;34m)\u001b[0m\u001b[0;34m\u001b[0m\u001b[0;34m\u001b[0m\u001b[0m\n\u001b[1;32m    182\u001b[0m         \u001b[0mself\u001b[0m\u001b[0;34m.\u001b[0m\u001b[0mtitle2ids\u001b[0m \u001b[0;34m=\u001b[0m \u001b[0mtitle2ids\u001b[0m\u001b[0;34m\u001b[0m\u001b[0;34m\u001b[0m\u001b[0m\n\u001b[0;32m--> 183\u001b[0;31m         \u001b[0msuper\u001b[0m\u001b[0;34m(\u001b[0m\u001b[0;34m)\u001b[0m\u001b[0;34m.\u001b[0m\u001b[0m__init__\u001b[0m\u001b[0;34m(\u001b[0m\u001b[0msource\u001b[0m\u001b[0;34m,\u001b[0m \u001b[0mmode\u001b[0m\u001b[0;34m=\u001b[0m\u001b[0;34m\"t\"\u001b[0m\u001b[0;34m,\u001b[0m \u001b[0mfmt\u001b[0m\u001b[0;34m=\u001b[0m\u001b[0;34m\"Fasta\"\u001b[0m\u001b[0;34m)\u001b[0m\u001b[0;34m\u001b[0m\u001b[0;34m\u001b[0m\u001b[0m\n\u001b[0m\u001b[1;32m    184\u001b[0m \u001b[0;34m\u001b[0m\u001b[0m\n\u001b[1;32m    185\u001b[0m     \u001b[0;32mdef\u001b[0m \u001b[0mparse\u001b[0m\u001b[0;34m(\u001b[0m\u001b[0mself\u001b[0m\u001b[0;34m,\u001b[0m \u001b[0mhandle\u001b[0m\u001b[0;34m)\u001b[0m\u001b[0;34m:\u001b[0m\u001b[0;34m\u001b[0m\u001b[0;34m\u001b[0m\u001b[0m\n",
      "\u001b[0;32m~/.virtualenvs/strainware/lib/python3.8/site-packages/Bio/SeqIO/Interfaces.py\u001b[0m in \u001b[0;36m__init__\u001b[0;34m(self, source, alphabet, mode, fmt)\u001b[0m\n\u001b[1;32m     45\u001b[0m             \u001b[0;32mraise\u001b[0m \u001b[0mValueError\u001b[0m\u001b[0;34m(\u001b[0m\u001b[0;34m\"The alphabet argument is no longer supported\"\u001b[0m\u001b[0;34m)\u001b[0m\u001b[0;34m\u001b[0m\u001b[0;34m\u001b[0m\u001b[0m\n\u001b[1;32m     46\u001b[0m         \u001b[0;32mtry\u001b[0m\u001b[0;34m:\u001b[0m\u001b[0;34m\u001b[0m\u001b[0;34m\u001b[0m\u001b[0m\n\u001b[0;32m---> 47\u001b[0;31m             \u001b[0mself\u001b[0m\u001b[0;34m.\u001b[0m\u001b[0mstream\u001b[0m \u001b[0;34m=\u001b[0m \u001b[0mopen\u001b[0m\u001b[0;34m(\u001b[0m\u001b[0msource\u001b[0m\u001b[0;34m,\u001b[0m \u001b[0;34m\"r\"\u001b[0m \u001b[0;34m+\u001b[0m \u001b[0mmode\u001b[0m\u001b[0;34m)\u001b[0m\u001b[0;34m\u001b[0m\u001b[0;34m\u001b[0m\u001b[0m\n\u001b[0m\u001b[1;32m     48\u001b[0m             \u001b[0mself\u001b[0m\u001b[0;34m.\u001b[0m\u001b[0mshould_close_stream\u001b[0m \u001b[0;34m=\u001b[0m \u001b[0;32mTrue\u001b[0m\u001b[0;34m\u001b[0m\u001b[0;34m\u001b[0m\u001b[0m\n\u001b[1;32m     49\u001b[0m         \u001b[0;32mexcept\u001b[0m \u001b[0mTypeError\u001b[0m\u001b[0;34m:\u001b[0m  \u001b[0;31m# not a path, assume we received a stream\u001b[0m\u001b[0;34m\u001b[0m\u001b[0;34m\u001b[0m\u001b[0m\n",
      "\u001b[0;31mFileNotFoundError\u001b[0m: [Errno 2] No such file or directory: '../bitome2/data/example/NC_000913.3.fasta'"
     ]
    }
   ],
   "source": [
    "bitome_fasta_tables = Bitome(\n",
    "    '../bitome2/data/example/NC_000913.3.fasta',\n",
    "    gene_table='../bitome2/data/example/gene_table_bad.csv'\n",
    ")"
   ]
  },
  {
   "cell_type": "markdown",
   "metadata": {},
   "source": [
    "Additional table inputs work in much the same way:"
   ]
  },
  {
   "cell_type": "code",
   "execution_count": 17,
   "metadata": {},
   "outputs": [],
   "source": [
    "bitome_many_tables = Bitome(\n",
    "    '../../bitome2/data/example/NC_000913.3.fasta',\n",
    "    gene_table='../../bitome2/data/example/gene_table_good.csv',\n",
    "    protein_table='../../bitome2/data/example/protein_table_good.csv',\n",
    "    tu_table='../../bitome2/data/example/tu.csv',\n",
    "    tss_table='../../bitome2/data/example/tss.csv',\n",
    "    riboswitch_table='../../bitome2/data/example/riboswitch.csv',\n",
    "    terminator_table='../../bitome2/data/example/terminator.csv',\n",
    "    rbs_table='../../bitome2/data/example/rbs.csv',\n",
    ")"
   ]
  },
  {
   "cell_type": "code",
   "execution_count": 18,
   "metadata": {
    "scrolled": false
   },
   "outputs": [
    {
     "data": {
      "text/html": [
       "<div>\n",
       "<style scoped>\n",
       "    .dataframe tbody tr th:only-of-type {\n",
       "        vertical-align: middle;\n",
       "    }\n",
       "\n",
       "    .dataframe tbody tr th {\n",
       "        vertical-align: top;\n",
       "    }\n",
       "\n",
       "    .dataframe thead th {\n",
       "        text-align: right;\n",
       "    }\n",
       "</style>\n",
       "<table border=\"1\" class=\"dataframe\">\n",
       "  <thead>\n",
       "    <tr style=\"text-align: right;\">\n",
       "      <th></th>\n",
       "      <th>name</th>\n",
       "      <th>left</th>\n",
       "      <th>right</th>\n",
       "      <th>strand</th>\n",
       "      <th>tss</th>\n",
       "      <th>sigma_factor</th>\n",
       "      <th>box10_left</th>\n",
       "      <th>box10_right</th>\n",
       "      <th>box35_left</th>\n",
       "      <th>box35_right</th>\n",
       "    </tr>\n",
       "    <tr>\n",
       "      <th>locus_tag</th>\n",
       "      <th></th>\n",
       "      <th></th>\n",
       "      <th></th>\n",
       "      <th></th>\n",
       "      <th></th>\n",
       "      <th></th>\n",
       "      <th></th>\n",
       "      <th></th>\n",
       "      <th></th>\n",
       "      <th></th>\n",
       "    </tr>\n",
       "  </thead>\n",
       "  <tbody>\n",
       "    <tr>\n",
       "      <th>ECK120008913</th>\n",
       "      <td>astCADBE</td>\n",
       "      <td>1825955</td>\n",
       "      <td>1832013</td>\n",
       "      <td>reverse</td>\n",
       "      <td>1832013.0</td>\n",
       "      <td>Sigma70</td>\n",
       "      <td>1832022.0</td>\n",
       "      <td>1832027.0</td>\n",
       "      <td>1832047.0</td>\n",
       "      <td>1832052.0</td>\n",
       "    </tr>\n",
       "    <tr>\n",
       "      <th>ECK120008914</th>\n",
       "      <td>astCADBE</td>\n",
       "      <td>1825955</td>\n",
       "      <td>1832327</td>\n",
       "      <td>reverse</td>\n",
       "      <td>1832044.0</td>\n",
       "      <td>Sigma54</td>\n",
       "      <td>1832054.0</td>\n",
       "      <td>1832058.0</td>\n",
       "      <td>1832065.0</td>\n",
       "      <td>1832070.0</td>\n",
       "    </tr>\n",
       "    <tr>\n",
       "      <th>ECK120008915</th>\n",
       "      <td>astCADBE</td>\n",
       "      <td>1825955</td>\n",
       "      <td>1832039</td>\n",
       "      <td>reverse</td>\n",
       "      <td>1832039.0</td>\n",
       "      <td>Sigma38</td>\n",
       "      <td>1832046.0</td>\n",
       "      <td>1832056.0</td>\n",
       "      <td>1832070.0</td>\n",
       "      <td>1832075.0</td>\n",
       "    </tr>\n",
       "    <tr>\n",
       "      <th>ECK120008916</th>\n",
       "      <td>nrdHIEF</td>\n",
       "      <td>2800586</td>\n",
       "      <td>2804461</td>\n",
       "      <td>forward</td>\n",
       "      <td>2800656.0</td>\n",
       "      <td>NaN</td>\n",
       "      <td>NaN</td>\n",
       "      <td>NaN</td>\n",
       "      <td>NaN</td>\n",
       "      <td>NaN</td>\n",
       "    </tr>\n",
       "    <tr>\n",
       "      <th>ECK120008917</th>\n",
       "      <td>cpxPQ</td>\n",
       "      <td>4105726</td>\n",
       "      <td>4106387</td>\n",
       "      <td>forward</td>\n",
       "      <td>4105785.0</td>\n",
       "      <td>NaN</td>\n",
       "      <td>NaN</td>\n",
       "      <td>NaN</td>\n",
       "      <td>NaN</td>\n",
       "      <td>NaN</td>\n",
       "    </tr>\n",
       "  </tbody>\n",
       "</table>\n",
       "</div>"
      ],
      "text/plain": [
       "                  name     left    right   strand        tss sigma_factor  \\\n",
       "locus_tag                                                                   \n",
       "ECK120008913  astCADBE  1825955  1832013  reverse  1832013.0      Sigma70   \n",
       "ECK120008914  astCADBE  1825955  1832327  reverse  1832044.0      Sigma54   \n",
       "ECK120008915  astCADBE  1825955  1832039  reverse  1832039.0      Sigma38   \n",
       "ECK120008916   nrdHIEF  2800586  2804461  forward  2800656.0          NaN   \n",
       "ECK120008917     cpxPQ  4105726  4106387  forward  4105785.0          NaN   \n",
       "\n",
       "              box10_left  box10_right  box35_left  box35_right  \n",
       "locus_tag                                                       \n",
       "ECK120008913   1832022.0    1832027.0   1832047.0    1832052.0  \n",
       "ECK120008914   1832054.0    1832058.0   1832065.0    1832070.0  \n",
       "ECK120008915   1832046.0    1832056.0   1832070.0    1832075.0  \n",
       "ECK120008916         NaN          NaN         NaN          NaN  \n",
       "ECK120008917         NaN          NaN         NaN          NaN  "
      ]
     },
     "execution_count": 18,
     "metadata": {},
     "output_type": "execute_result"
    }
   ],
   "source": [
    "bitome_many_tables.tu_table.head()"
   ]
  },
  {
   "cell_type": "code",
   "execution_count": 19,
   "metadata": {},
   "outputs": [
    {
     "data": {
      "text/plain": [
       "{'gene':            name     left    right  strand\n",
       " locus_tag                                \n",
       " b0001      thrL      190      255       1\n",
       " b0002      thrA      337     2799       1\n",
       " b0003      thrB     2801     3733       1\n",
       " b0004      thrC     3734     5020       1\n",
       " b0005      yaaX     5234     5530       1\n",
       " ...         ...      ...      ...     ...\n",
       " b4399      creC  4636696  4638120       1\n",
       " b4400      creD  4638178  4639530       1\n",
       " b4401      arcA  4639590  4640306      -1\n",
       " b4402      yjjY  4640402  4640542       1\n",
       " b4403      yjtD  4640942  4641628       1\n",
       " \n",
       " [4355 rows x 4 columns],\n",
       " 'protein':            left  right  strand  \\\n",
       " locus_tag                        \n",
       " b0001       190    255       1   \n",
       " b0002       337   2799       1   \n",
       " b0003      2801   3733       1   \n",
       " b0004      3734   5020       1   \n",
       " b0005      5234   5530       1   \n",
       " b0006      5683   6459      -1   \n",
       " b0007      6529   7959      -1   \n",
       " b0008      8238   9191       1   \n",
       " b0009      9306   9893       1   \n",
       " b0010      9928  10494      -1   \n",
       " \n",
       "                                                         name  \n",
       " locus_tag                                                     \n",
       " b0001                              thr operon leader peptide  \n",
       " b0002      fused aspartate kinase/homoserine dehydrogenase 1  \n",
       " b0003                                      homoserine kinase  \n",
       " b0004                                     threonine synthase  \n",
       " b0005                 DUF2502 domain-containing protein YaaX  \n",
       " b0006                peroxide stress resistance protein YaaA  \n",
       " b0007                              putative transporter YaaJ  \n",
       " b0008                                        transaldolase B  \n",
       " b0009                      molybdopterin adenylyltransferase  \n",
       " b0010                       acetate/succinate:H(+) symporter  ,\n",
       " 'tu':                                   name     left    right   strand        tss  \\\n",
       " locus_tag                                                                      \n",
       " ECK120008913                  astCADBE  1825955  1832013  reverse  1832013.0   \n",
       " ECK120008914                  astCADBE  1825955  1832327  reverse  1832044.0   \n",
       " ECK120008915                  astCADBE  1825955  1832039  reverse  1832039.0   \n",
       " ECK120008916                   nrdHIEF  2800586  2804461  forward  2800656.0   \n",
       " ECK120008917                     cpxPQ  4105726  4106387  forward  4105785.0   \n",
       " ECK120008918                 srkA-dsbA  4042335  4044044  forward  4042391.0   \n",
       " ECK120008919                      dsbA  4043377  4044044  forward  4043377.0   \n",
       " ECK120008920                      aqpZ   915352   916047  reverse        NaN   \n",
       " ECK120008921                    dmsABC   940850   944896  forward   940878.0   \n",
       " ECK120008922                  moaABCDE   816845   819747  forward   816914.0   \n",
       " ECK120008923                      ptsG  1157614  1159302  forward  1157766.0   \n",
       " ECK120008924                      ptsG  1157580  1159302  forward  1157626.0   \n",
       " ECK120008925                      grcA  2716066  2716689  reverse  2716523.0   \n",
       " ECK120008926                      ldcC   209679   211820  forward        NaN   \n",
       " ECK120008927  rrsA-ileT-alaT-rrlA-rrfA  4035099  4040636  forward  4035239.0   \n",
       " ECK120008928       rrsB-gltT-rrlB-rrfB  4166217  4171962  forward  4166367.0   \n",
       " ECK120008929       rrsC-gltU-rrlC-rrfC  3941388  3947067  forward  3941516.0   \n",
       " ECK120008930       rrsC-gltU-rrlC-rrfC  3941633  3947067  forward  3941633.0   \n",
       " \n",
       "              sigma_factor  box10_left  box10_right  box35_left  box35_right  \n",
       " locus_tag                                                                    \n",
       " ECK120008913      Sigma70   1832022.0    1832027.0   1832047.0    1832052.0  \n",
       " ECK120008914      Sigma54   1832054.0    1832058.0   1832065.0    1832070.0  \n",
       " ECK120008915      Sigma38   1832046.0    1832056.0   1832070.0    1832075.0  \n",
       " ECK120008916          NaN         NaN          NaN         NaN          NaN  \n",
       " ECK120008917          NaN         NaN          NaN         NaN          NaN  \n",
       " ECK120008918          NaN         NaN          NaN         NaN          NaN  \n",
       " ECK120008919          NaN         NaN          NaN         NaN          NaN  \n",
       " ECK120008920          NaN         NaN          NaN         NaN          NaN  \n",
       " ECK120008921          NaN         NaN          NaN         NaN          NaN  \n",
       " ECK120008922          NaN         NaN          NaN         NaN          NaN  \n",
       " ECK120008923          NaN         NaN          NaN         NaN          NaN  \n",
       " ECK120008924          NaN         NaN          NaN         NaN          NaN  \n",
       " ECK120008925          NaN         NaN          NaN         NaN          NaN  \n",
       " ECK120008926          NaN         NaN          NaN         NaN          NaN  \n",
       " ECK120008927          NaN         NaN          NaN         NaN          NaN  \n",
       " ECK120008928          NaN         NaN          NaN         NaN          NaN  \n",
       " ECK120008929          NaN         NaN          NaN         NaN          NaN  \n",
       " ECK120008930          NaN         NaN          NaN         NaN          NaN  ,\n",
       " 'tss':                   name      tss  strand     left    right\n",
       " locus_tag                                                \n",
       " ECK125240325  TSS_5176  4630555      -1  4630555  4630555,\n",
       " 'tts': Empty DataFrame\n",
       " Columns: [tts, strand, left, right]\n",
       " Index: [],\n",
       " 'tfbs': Empty DataFrame\n",
       " Columns: [left, right, strand]\n",
       " Index: [],\n",
       " 'terminator':                  left    right  strand            class\n",
       " locus_tag                                              \n",
       " ECK120010779  2738912  2738940       1  rho-independent\n",
       " ECK120010779  2738912  2738940       1  rho-independent\n",
       " ECK120010780  2684075  2684093       1  rho-independent\n",
       " ECK120010781  2311610  2311624       1  rho-independent\n",
       " ECK120010781  2311610  2311624       1  rho-independent\n",
       " ECK120010781  2311610  2311624       1  rho-independent\n",
       " ECK120010782  1159325  1159346      -1  rho-independent\n",
       " ECK120010783  1113532  1113560       1  rho-independent\n",
       " ECK120010783  1113532  1113560       1  rho-independent\n",
       " ECK120010784  2597803  2597824       1  rho-independent,\n",
       " 'attenuator': Empty DataFrame\n",
       " Columns: [left, right, strand]\n",
       " Index: [],\n",
       " 'rbs':                  left    right  strand\n",
       " locus_tag                             \n",
       " ECK120014181  3151252  3151257       1\n",
       " ECK120014182  3151991  3151996       1\n",
       " ECK120014183  3957829  3957834      -1\n",
       " ECK120014184  3957957  3957962      -1\n",
       " ECK120014185  3469859  3469864       1,\n",
       " 'riboswitch':                           riboswitch_type  \\\n",
       " locus_tag                                   \n",
       " ECK125145739          Cis-reg; riboswitch   \n",
       " ECK125230739                      Cis-reg   \n",
       " ECK125230740  Cis-reg; frameshift_element   \n",
       " ECK125230741                      Cis-reg   \n",
       " ECK125230742                      Cis-reg   \n",
       " ECK125230743                      Cis-reg   \n",
       " ECK125230744                      Cis-reg   \n",
       " ECK125230745                      Cis-reg   \n",
       " ECK125230746                      Cis-reg   \n",
       " ECK125230747                      Cis-reg   \n",
       " ECK125230748                      Cis-reg   \n",
       " ECK125230749                      Cis-reg   \n",
       " ECK125230750          Cis-reg; riboswitch   \n",
       " \n",
       "                                               name     left    right  strand  \n",
       " locus_tag                                                                     \n",
       " ECK125145739          TPP riboswitch (THI element)    75511    75610     NaN  \n",
       " ECK125230739                RNase E 5' UTR element  1144392  1144728     NaN  \n",
       " ECK125230740  DnaX ribosomal frameshifting element   493356   493420     NaN  \n",
       " ECK125230741                               RtT RNA   780561   780729     NaN  \n",
       " ECK125230742                               RtT RNA   780850   781016     NaN  \n",
       " ECK125230743                               RtT RNA  3708448  3708581     NaN  \n",
       " ECK125230744                               RtT RNA  1286888  1287019     NaN  \n",
       " ECK125230745                               RtT RNA  2521359  2521484     NaN  \n",
       " ECK125230746                               RtT RNA  1287363  1287494     NaN  \n",
       " ECK125230747                               RtT RNA  1287066  1287197     NaN  \n",
       " ECK125230748                               RtT RNA  1286710  1286841     NaN  \n",
       " ECK125230749                               RtT RNA   781683   781808     NaN  \n",
       " ECK125230750          FMN riboswitch (RFN element)  3184570  3184718     NaN  ,\n",
       " 'misc': Empty DataFrame\n",
       " Columns: [left, right, strand]\n",
       " Index: []}"
      ]
     },
     "execution_count": 19,
     "metadata": {},
     "output_type": "execute_result"
    }
   ],
   "source": [
    "bitome_many_tables._all_tables"
   ]
  },
  {
   "cell_type": "markdown",
   "metadata": {},
   "source": [
    "## Utilities"
   ]
  },
  {
   "cell_type": "markdown",
   "metadata": {},
   "source": [
    "### Get Sequence\n",
    "\n",
    "Features can be inputted to utility functions as rows sliced from dataframes"
   ]
  },
  {
   "cell_type": "code",
   "execution_count": 20,
   "metadata": {},
   "outputs": [
    {
     "data": {
      "text/plain": [
       "Seq('ATGAAACGCATTAGCACCACCATTACCACCACCATCACCATTACCACAGGTAAC...TGA')"
      ]
     },
     "execution_count": 20,
     "metadata": {},
     "output_type": "execute_result"
    }
   ],
   "source": [
    "bitome_genbank.get_feature_sequence(bitome_genbank.gene_table.loc['b0001'])"
   ]
  },
  {
   "cell_type": "code",
   "execution_count": 21,
   "metadata": {},
   "outputs": [
    {
     "data": {
      "text/plain": [
       "Seq('ATGCGTTTCATGGATGTTGTGTACTCTGTAATTTTTATCTGTCTGTGCGCTATG...TAA')"
      ]
     },
     "execution_count": 21,
     "metadata": {},
     "output_type": "execute_result"
    }
   ],
   "source": [
    "bitome_genbank.get_sequence(100, 200, -1)"
   ]
  },
  {
   "cell_type": "markdown",
   "metadata": {},
   "source": [
    "### Inter-Feature Distance"
   ]
  },
  {
   "cell_type": "code",
   "execution_count": 22,
   "metadata": {},
   "outputs": [
    {
     "data": {
      "text/plain": [
       "1063585"
      ]
     },
     "execution_count": 22,
     "metadata": {},
     "output_type": "execute_result"
    }
   ],
   "source": [
    "bitome_genbank.inter_feature_distance(\n",
    "    bitome_genbank.gene_table.loc['b0001'], bitome_genbank.gene_table.loc['b1000']\n",
    ")"
   ]
  },
  {
   "cell_type": "markdown",
   "metadata": {},
   "source": [
    "### Features in Region\n",
    "\n",
    "This helpful function returns a DataFrame of all features in a given range"
   ]
  },
  {
   "cell_type": "code",
   "execution_count": 23,
   "metadata": {},
   "outputs": [
    {
     "data": {
      "text/html": [
       "<div>\n",
       "<style scoped>\n",
       "    .dataframe tbody tr th:only-of-type {\n",
       "        vertical-align: middle;\n",
       "    }\n",
       "\n",
       "    .dataframe tbody tr th {\n",
       "        vertical-align: top;\n",
       "    }\n",
       "\n",
       "    .dataframe thead th {\n",
       "        text-align: right;\n",
       "    }\n",
       "</style>\n",
       "<table border=\"1\" class=\"dataframe\">\n",
       "  <thead>\n",
       "    <tr style=\"text-align: right;\">\n",
       "      <th></th>\n",
       "      <th>left</th>\n",
       "      <th>right</th>\n",
       "      <th>strand</th>\n",
       "      <th>pseudo</th>\n",
       "      <th>name</th>\n",
       "      <th>type</th>\n",
       "    </tr>\n",
       "    <tr>\n",
       "      <th>locus_tag</th>\n",
       "      <th></th>\n",
       "      <th></th>\n",
       "      <th></th>\n",
       "      <th></th>\n",
       "      <th></th>\n",
       "      <th></th>\n",
       "    </tr>\n",
       "  </thead>\n",
       "  <tbody>\n",
       "    <tr>\n",
       "      <th>b0001</th>\n",
       "      <td>190</td>\n",
       "      <td>255</td>\n",
       "      <td>1</td>\n",
       "      <td>False</td>\n",
       "      <td>thrL</td>\n",
       "      <td>gene</td>\n",
       "    </tr>\n",
       "    <tr>\n",
       "      <th>b0002</th>\n",
       "      <td>337</td>\n",
       "      <td>2799</td>\n",
       "      <td>1</td>\n",
       "      <td>False</td>\n",
       "      <td>thrA</td>\n",
       "      <td>gene</td>\n",
       "    </tr>\n",
       "    <tr>\n",
       "      <th>b0003</th>\n",
       "      <td>2801</td>\n",
       "      <td>3733</td>\n",
       "      <td>1</td>\n",
       "      <td>False</td>\n",
       "      <td>thrB</td>\n",
       "      <td>gene</td>\n",
       "    </tr>\n",
       "    <tr>\n",
       "      <th>b0004</th>\n",
       "      <td>3734</td>\n",
       "      <td>5020</td>\n",
       "      <td>1</td>\n",
       "      <td>False</td>\n",
       "      <td>thrC</td>\n",
       "      <td>gene</td>\n",
       "    </tr>\n",
       "    <tr>\n",
       "      <th>b0005</th>\n",
       "      <td>5234</td>\n",
       "      <td>5530</td>\n",
       "      <td>1</td>\n",
       "      <td>False</td>\n",
       "      <td>yaaX</td>\n",
       "      <td>gene</td>\n",
       "    </tr>\n",
       "    <tr>\n",
       "      <th>b0006</th>\n",
       "      <td>5683</td>\n",
       "      <td>6459</td>\n",
       "      <td>-1</td>\n",
       "      <td>False</td>\n",
       "      <td>yaaA</td>\n",
       "      <td>gene</td>\n",
       "    </tr>\n",
       "    <tr>\n",
       "      <th>b0007</th>\n",
       "      <td>6529</td>\n",
       "      <td>7959</td>\n",
       "      <td>-1</td>\n",
       "      <td>False</td>\n",
       "      <td>yaaJ</td>\n",
       "      <td>gene</td>\n",
       "    </tr>\n",
       "    <tr>\n",
       "      <th>b0008</th>\n",
       "      <td>8238</td>\n",
       "      <td>9191</td>\n",
       "      <td>1</td>\n",
       "      <td>False</td>\n",
       "      <td>talB</td>\n",
       "      <td>gene</td>\n",
       "    </tr>\n",
       "    <tr>\n",
       "      <th>b0009</th>\n",
       "      <td>9306</td>\n",
       "      <td>9893</td>\n",
       "      <td>1</td>\n",
       "      <td>False</td>\n",
       "      <td>mog</td>\n",
       "      <td>gene</td>\n",
       "    </tr>\n",
       "    <tr>\n",
       "      <th>b0010</th>\n",
       "      <td>9928</td>\n",
       "      <td>10494</td>\n",
       "      <td>-1</td>\n",
       "      <td>False</td>\n",
       "      <td>satP</td>\n",
       "      <td>gene</td>\n",
       "    </tr>\n",
       "    <tr>\n",
       "      <th>b0001</th>\n",
       "      <td>190</td>\n",
       "      <td>255</td>\n",
       "      <td>1</td>\n",
       "      <td>NaN</td>\n",
       "      <td>thr operon leader peptide</td>\n",
       "      <td>protein</td>\n",
       "    </tr>\n",
       "    <tr>\n",
       "      <th>b0002</th>\n",
       "      <td>337</td>\n",
       "      <td>2799</td>\n",
       "      <td>1</td>\n",
       "      <td>NaN</td>\n",
       "      <td>Bifunctional aspartokinase/homoserine dehydrog...</td>\n",
       "      <td>protein</td>\n",
       "    </tr>\n",
       "    <tr>\n",
       "      <th>b0003</th>\n",
       "      <td>2801</td>\n",
       "      <td>3733</td>\n",
       "      <td>1</td>\n",
       "      <td>NaN</td>\n",
       "      <td>homoserine kinase</td>\n",
       "      <td>protein</td>\n",
       "    </tr>\n",
       "    <tr>\n",
       "      <th>b0004</th>\n",
       "      <td>3734</td>\n",
       "      <td>5020</td>\n",
       "      <td>1</td>\n",
       "      <td>NaN</td>\n",
       "      <td>L-threonine synthase</td>\n",
       "      <td>protein</td>\n",
       "    </tr>\n",
       "    <tr>\n",
       "      <th>b0005</th>\n",
       "      <td>5234</td>\n",
       "      <td>5530</td>\n",
       "      <td>1</td>\n",
       "      <td>NaN</td>\n",
       "      <td>DUF2502 family putative periplasmic protein</td>\n",
       "      <td>protein</td>\n",
       "    </tr>\n",
       "    <tr>\n",
       "      <th>b0006</th>\n",
       "      <td>5683</td>\n",
       "      <td>6459</td>\n",
       "      <td>-1</td>\n",
       "      <td>NaN</td>\n",
       "      <td>peroxide resistance protein, lowers intracellu...</td>\n",
       "      <td>protein</td>\n",
       "    </tr>\n",
       "    <tr>\n",
       "      <th>b0007</th>\n",
       "      <td>6529</td>\n",
       "      <td>7959</td>\n",
       "      <td>-1</td>\n",
       "      <td>NaN</td>\n",
       "      <td>putative transporter</td>\n",
       "      <td>protein</td>\n",
       "    </tr>\n",
       "    <tr>\n",
       "      <th>b0008</th>\n",
       "      <td>8238</td>\n",
       "      <td>9191</td>\n",
       "      <td>1</td>\n",
       "      <td>NaN</td>\n",
       "      <td>transaldolase B</td>\n",
       "      <td>protein</td>\n",
       "    </tr>\n",
       "    <tr>\n",
       "      <th>b0009</th>\n",
       "      <td>9306</td>\n",
       "      <td>9893</td>\n",
       "      <td>1</td>\n",
       "      <td>NaN</td>\n",
       "      <td>molybdochelatase incorporating molybdenum into...</td>\n",
       "      <td>protein</td>\n",
       "    </tr>\n",
       "    <tr>\n",
       "      <th>b0010</th>\n",
       "      <td>9928</td>\n",
       "      <td>10494</td>\n",
       "      <td>-1</td>\n",
       "      <td>NaN</td>\n",
       "      <td>succinate-acetate transporter</td>\n",
       "      <td>protein</td>\n",
       "    </tr>\n",
       "    <tr>\n",
       "      <th>NC_000913.3_1</th>\n",
       "      <td>5565</td>\n",
       "      <td>5669</td>\n",
       "      <td>1</td>\n",
       "      <td>NaN</td>\n",
       "      <td>NaN</td>\n",
       "      <td>repeat_region</td>\n",
       "    </tr>\n",
       "  </tbody>\n",
       "</table>\n",
       "</div>"
      ],
      "text/plain": [
       "               left  right  strand pseudo  \\\n",
       "locus_tag                                   \n",
       "b0001           190    255       1  False   \n",
       "b0002           337   2799       1  False   \n",
       "b0003          2801   3733       1  False   \n",
       "b0004          3734   5020       1  False   \n",
       "b0005          5234   5530       1  False   \n",
       "b0006          5683   6459      -1  False   \n",
       "b0007          6529   7959      -1  False   \n",
       "b0008          8238   9191       1  False   \n",
       "b0009          9306   9893       1  False   \n",
       "b0010          9928  10494      -1  False   \n",
       "b0001           190    255       1    NaN   \n",
       "b0002           337   2799       1    NaN   \n",
       "b0003          2801   3733       1    NaN   \n",
       "b0004          3734   5020       1    NaN   \n",
       "b0005          5234   5530       1    NaN   \n",
       "b0006          5683   6459      -1    NaN   \n",
       "b0007          6529   7959      -1    NaN   \n",
       "b0008          8238   9191       1    NaN   \n",
       "b0009          9306   9893       1    NaN   \n",
       "b0010          9928  10494      -1    NaN   \n",
       "NC_000913.3_1  5565   5669       1    NaN   \n",
       "\n",
       "                                                            name  \\\n",
       "locus_tag                                                          \n",
       "b0001                                                       thrL   \n",
       "b0002                                                       thrA   \n",
       "b0003                                                       thrB   \n",
       "b0004                                                       thrC   \n",
       "b0005                                                       yaaX   \n",
       "b0006                                                       yaaA   \n",
       "b0007                                                       yaaJ   \n",
       "b0008                                                       talB   \n",
       "b0009                                                        mog   \n",
       "b0010                                                       satP   \n",
       "b0001                                  thr operon leader peptide   \n",
       "b0002          Bifunctional aspartokinase/homoserine dehydrog...   \n",
       "b0003                                          homoserine kinase   \n",
       "b0004                                       L-threonine synthase   \n",
       "b0005                DUF2502 family putative periplasmic protein   \n",
       "b0006          peroxide resistance protein, lowers intracellu...   \n",
       "b0007                                       putative transporter   \n",
       "b0008                                            transaldolase B   \n",
       "b0009          molybdochelatase incorporating molybdenum into...   \n",
       "b0010                              succinate-acetate transporter   \n",
       "NC_000913.3_1                                                NaN   \n",
       "\n",
       "                        type  \n",
       "locus_tag                     \n",
       "b0001                   gene  \n",
       "b0002                   gene  \n",
       "b0003                   gene  \n",
       "b0004                   gene  \n",
       "b0005                   gene  \n",
       "b0006                   gene  \n",
       "b0007                   gene  \n",
       "b0008                   gene  \n",
       "b0009                   gene  \n",
       "b0010                   gene  \n",
       "b0001                protein  \n",
       "b0002                protein  \n",
       "b0003                protein  \n",
       "b0004                protein  \n",
       "b0005                protein  \n",
       "b0006                protein  \n",
       "b0007                protein  \n",
       "b0008                protein  \n",
       "b0009                protein  \n",
       "b0010                protein  \n",
       "NC_000913.3_1  repeat_region  "
      ]
     },
     "execution_count": 23,
     "metadata": {},
     "output_type": "execute_result"
    }
   ],
   "source": [
    "bitome_genbank.features_in_range(1, 10000)"
   ]
  },
  {
   "cell_type": "markdown",
   "metadata": {},
   "source": [
    "## Visualization"
   ]
  },
  {
   "cell_type": "markdown",
   "metadata": {},
   "source": [
    "### Genome Browser\n",
    "\n",
    "Prepare a genome browser-style figure showing an extracted region's features\n",
    "\n",
    "This is a bit buggy and needs improvement"
   ]
  },
  {
   "cell_type": "code",
   "execution_count": 25,
   "metadata": {},
   "outputs": [
    {
     "data": {
      "text/plain": [
       "<AxesSubplot:>"
      ]
     },
     "execution_count": 25,
     "metadata": {},
     "output_type": "execute_result"
    },
    {
     "data": {
      "image/png": "[encoded data removed]",
      "text/plain": [
       "<Figure size 576x158.4 with 1 Axes>"
      ]
     },
     "metadata": {},
     "output_type": "display_data"
    }
   ],
   "source": [
    "bitome_genbank.view_region(1, 5000)"
   ]
  },
  {
   "cell_type": "code",
   "execution_count": 26,
   "metadata": {},
   "outputs": [
    {
     "data": {
      "text/plain": [
       "<AxesSubplot:>"
      ]
     },
     "execution_count": 26,
     "metadata": {},
     "output_type": "execute_result"
    },
    {
     "data": {
      "image/png": "[encoded data removed]",
      "text/plain": [
       "<Figure size 576x187.2 with 1 Axes>"
      ]
     },
     "metadata": {},
     "output_type": "display_data"
    }
   ],
   "source": [
    "bitome_genbank.view_region(1, 15000)"
   ]
  },
  {
   "cell_type": "markdown",
   "metadata": {},
   "source": [
    "## Promoters and Motifs"
   ]
  },
  {
   "cell_type": "markdown",
   "metadata": {},
   "source": [
    "### General Motif Matching\n",
    "\n",
    "The most low-level motif function can find and rank motif matches to a particular position-specific scoring matrix (PSSM) within a specified genomic region:"
   ]
  },
  {
   "cell_type": "code",
   "execution_count": 28,
   "metadata": {},
   "outputs": [],
   "source": [
    "# modify legacy PSSM format into Bitome 2 format\n",
    "tf_pwm_db = rpwm('../data/motif_pwm_db.txt')\n",
    "argp_pwm_old = tf_pwm_db['ArgP']\n",
    "argp_pssm = {base: [pos_dict[base] for pos_dict in argp_pwm_old] for base in 'ATCG'}"
   ]
  },
  {
   "cell_type": "markdown",
   "metadata": {},
   "source": [
    "Can we find known ArgP binding sites according to RegulonDB?\n",
    "28252 \t28271, and 28272 \t28291"
   ]
  },
  {
   "cell_type": "code",
   "execution_count": 29,
   "metadata": {},
   "outputs": [
    {
     "data": {
      "text/html": [
       "<div>\n",
       "<style scoped>\n",
       "    .dataframe tbody tr th:only-of-type {\n",
       "        vertical-align: middle;\n",
       "    }\n",
       "\n",
       "    .dataframe tbody tr th {\n",
       "        vertical-align: top;\n",
       "    }\n",
       "\n",
       "    .dataframe thead th {\n",
       "        text-align: right;\n",
       "    }\n",
       "</style>\n",
       "<table border=\"1\" class=\"dataframe\">\n",
       "  <thead>\n",
       "    <tr style=\"text-align: right;\">\n",
       "      <th></th>\n",
       "      <th>match_sequence</th>\n",
       "      <th>log_odds</th>\n",
       "      <th>left</th>\n",
       "      <th>right</th>\n",
       "    </tr>\n",
       "  </thead>\n",
       "  <tbody>\n",
       "    <tr>\n",
       "      <th>0</th>\n",
       "      <td>TTTATCATTAATTTCTAAT</td>\n",
       "      <td>6.2</td>\n",
       "      <td>28273</td>\n",
       "      <td>28291</td>\n",
       "    </tr>\n",
       "    <tr>\n",
       "      <th>1</th>\n",
       "      <td>TTTCACTGATATCCCTCCC</td>\n",
       "      <td>4.2</td>\n",
       "      <td>28252</td>\n",
       "      <td>28270</td>\n",
       "    </tr>\n",
       "    <tr>\n",
       "      <th>2</th>\n",
       "      <td>ATCTTCTTTACTGGGCAGC</td>\n",
       "      <td>3.5</td>\n",
       "      <td>28496</td>\n",
       "      <td>28514</td>\n",
       "    </tr>\n",
       "    <tr>\n",
       "      <th>3</th>\n",
       "      <td>CGTTAACGTCATGCTTAAG</td>\n",
       "      <td>3.4</td>\n",
       "      <td>28769</td>\n",
       "      <td>28787</td>\n",
       "    </tr>\n",
       "    <tr>\n",
       "      <th>4</th>\n",
       "      <td>CTTTGCTGCCAATTTTAGC</td>\n",
       "      <td>2.1</td>\n",
       "      <td>28745</td>\n",
       "      <td>28763</td>\n",
       "    </tr>\n",
       "  </tbody>\n",
       "</table>\n",
       "</div>"
      ],
      "text/plain": [
       "        match_sequence  log_odds   left  right\n",
       "0  TTTATCATTAATTTCTAAT       6.2  28273  28291\n",
       "1  TTTCACTGATATCCCTCCC       4.2  28252  28270\n",
       "2  ATCTTCTTTACTGGGCAGC       3.5  28496  28514\n",
       "3  CGTTAACGTCATGCTTAAG       3.4  28769  28787\n",
       "4  CTTTGCTGCCAATTTTAGC       2.1  28745  28763"
      ]
     },
     "execution_count": 29,
     "metadata": {},
     "output_type": "execute_result"
    }
   ],
   "source": [
    "bitome_genbank.motif_search(28000, 29000, +1, argp_pssm, n_best_matches=5)"
   ]
  },
  {
   "cell_type": "markdown",
   "metadata": {},
   "source": [
    "We also have a convenient wrapper for finding binding sites in range of a TSS:"
   ]
  },
  {
   "cell_type": "markdown",
   "metadata": {},
   "source": [
    "### Motif Matching near TSS"
   ]
  },
  {
   "cell_type": "code",
   "execution_count": 30,
   "metadata": {},
   "outputs": [
    {
     "data": {
      "text/html": [
       "<div>\n",
       "<style scoped>\n",
       "    .dataframe tbody tr th:only-of-type {\n",
       "        vertical-align: middle;\n",
       "    }\n",
       "\n",
       "    .dataframe tbody tr th {\n",
       "        vertical-align: top;\n",
       "    }\n",
       "\n",
       "    .dataframe thead th {\n",
       "        text-align: right;\n",
       "    }\n",
       "</style>\n",
       "<table border=\"1\" class=\"dataframe\">\n",
       "  <thead>\n",
       "    <tr style=\"text-align: right;\">\n",
       "      <th></th>\n",
       "      <th>match_sequence</th>\n",
       "      <th>log_odds</th>\n",
       "      <th>left</th>\n",
       "      <th>right</th>\n",
       "    </tr>\n",
       "  </thead>\n",
       "  <tbody>\n",
       "    <tr>\n",
       "      <th>0</th>\n",
       "      <td>TTTATCATTAATTTCTAAT</td>\n",
       "      <td>6.2</td>\n",
       "      <td>28273</td>\n",
       "      <td>28291</td>\n",
       "    </tr>\n",
       "    <tr>\n",
       "      <th>1</th>\n",
       "      <td>TTTCACTGATATCCCTCCC</td>\n",
       "      <td>4.2</td>\n",
       "      <td>28252</td>\n",
       "      <td>28270</td>\n",
       "    </tr>\n",
       "    <tr>\n",
       "      <th>2</th>\n",
       "      <td>AATTTCTAATTATCAGCGT</td>\n",
       "      <td>2.0</td>\n",
       "      <td>28282</td>\n",
       "      <td>28300</td>\n",
       "    </tr>\n",
       "    <tr>\n",
       "      <th>3</th>\n",
       "      <td>TTAATTTCTAATTATCAGC</td>\n",
       "      <td>0.7</td>\n",
       "      <td>28280</td>\n",
       "      <td>28298</td>\n",
       "    </tr>\n",
       "    <tr>\n",
       "      <th>4</th>\n",
       "      <td>GCATGCAGTCATTCATCGA</td>\n",
       "      <td>0.6</td>\n",
       "      <td>28225</td>\n",
       "      <td>28243</td>\n",
       "    </tr>\n",
       "  </tbody>\n",
       "</table>\n",
       "</div>"
      ],
      "text/plain": [
       "        match_sequence  log_odds   left  right\n",
       "0  TTTATCATTAATTTCTAAT       6.2  28273  28291\n",
       "1  TTTCACTGATATCCCTCCC       4.2  28252  28270\n",
       "2  AATTTCTAATTATCAGCGT       2.0  28282  28300\n",
       "3  TTAATTTCTAATTATCAGC       0.7  28280  28298\n",
       "4  GCATGCAGTCATTCATCGA       0.6  28225  28243"
      ]
     },
     "execution_count": 30,
     "metadata": {},
     "output_type": "execute_result"
    }
   ],
   "source": [
    "bitome_genbank.promoter_motif_search(28288, 1, argp_pssm, n_best_matches=5)"
   ]
  },
  {
   "cell_type": "markdown",
   "metadata": {},
   "source": [
    "### Featurizing Promoter\n",
    "\n",
    "Note: not using actual sigma factor motifs, so the scores are bad"
   ]
  },
  {
   "cell_type": "code",
   "execution_count": 31,
   "metadata": {},
   "outputs": [
    {
     "data": {
      "text/plain": [
       "{'m10_sequence': 'CCTGTTTATCATTAATTTC',\n",
       " 'm10_score': -4.8,\n",
       " 'm10_location': -10.0,\n",
       " 'm35_sequence': 'TCATGCCTTTCACTGATAT',\n",
       " 'm35_score': -5.499999999999999,\n",
       " 'm35_location': -34.0,\n",
       " 'spacer_sequence': Seq('TCCCTCC'),\n",
       " 'spacer_length': 7,\n",
       " 'spacer_at': 0.2857142857142857,\n",
       " 'usr_at': 0.5238095238095237,\n",
       " 'dsr_ag': 0.3333333333333333}"
      ]
     },
     "execution_count": 31,
     "metadata": {},
     "output_type": "execute_result"
    }
   ],
   "source": [
    "bitome_genbank.featurize_promoter(28288, 1, minus_10_motif=argp_pssm, minus_35_motif=argp_pssm,\n",
    "                                 usr=(-65, -45))"
   ]
  },
  {
   "cell_type": "code",
   "execution_count": 32,
   "metadata": {},
   "outputs": [],
   "source": [
    "from bitome.util import create_motif"
   ]
  },
  {
   "cell_type": "code",
   "execution_count": 33,
   "metadata": {},
   "outputs": [
    {
     "data": {
      "text/plain": [
       "{'A': (1.0, 0.0, 0.0, 0.0),\n",
       " 'C': (0.0, 0.0, 1.0, 0.3333333333333333),\n",
       " 'G': (0.0, 0.0, 0.0, 0.3333333333333333),\n",
       " 'T': (0.0, 1.0, 0.0, 0.3333333333333333)}"
      ]
     },
     "execution_count": 33,
     "metadata": {},
     "output_type": "execute_result"
    }
   ],
   "source": [
    "create_motif(['ATCG', 'ATCC', 'ATCT']).pwm"
   ]
  },
  {
   "cell_type": "code",
   "execution_count": null,
   "metadata": {},
   "outputs": [],
   "source": []
  }
 ],
 "metadata": {
  "kernelspec": {
   "display_name": "Python 3",
   "language": "python",
   "name": "python3"
  },
  "language_info": {
   "codemirror_mode": {
    "name": "ipython",
    "version": 3
   },
   "file_extension": ".py",
   "mimetype": "text/x-python",
   "name": "python",
   "nbconvert_exporter": "python",
   "pygments_lexer": "ipython3",
   "version": "3.8.3"
  },
  "toc": {
   "base_numbering": 1,
   "nav_menu": {},
   "number_sections": true,
   "sideBar": true,
   "skip_h1_title": false,
   "title_cell": "Table of Contents",
   "title_sidebar": "Contents",
   "toc_cell": false,
   "toc_position": {},
   "toc_section_display": true,
   "toc_window_display": true
  }
 },
 "nbformat": 4,
 "nbformat_minor": 4
}
