{
 "cells": [
  {
   "cell_type": "markdown",
   "id": "acccce2a",
   "metadata": {},
   "source": [
    "## Reannotating sigma70 promoters"
   ]
  },
  {
   "cell_type": "code",
   "execution_count": 1,
   "id": "d690c7f0",
   "metadata": {},
   "outputs": [],
   "source": [
    "from pathlib import Path\n",
    "import sys\n",
    "sys.path.append('bitome2')\n",
    "sys.path.append('')\n",
    "\n",
    "from bitome.core import Bitome\n",
    "from bitome.ml import *"
   ]
  },
  {
   "cell_type": "code",
   "execution_count": 2,
   "id": "d1baf907",
   "metadata": {},
   "outputs": [],
   "source": [
    "import pickle\n",
    "with open('sigma_pssm_ecoli.txt', 'rb') as handle: \n",
    "    data = handle.read()   \n",
    "d = pickle.loads(data)\n",
    "M_prib = d['M_prib']\n",
    "M_m35 = d['M_m35']\n",
    "m10_seq = d['m10_seq']\n",
    "m35_seq = d['m35_seq']\n",
    "M_prib_sigma70 = {base: [pos_dict[base] for pos_dict in M_prib['Sigma70']] for base in 'ATCG'}\n",
    "M_m35_sigma70 = {base: [pos_dict[base] for pos_dict in M_m35['Sigma70']] for base in 'ATCG'}"
   ]
  },
  {
   "cell_type": "code",
   "execution_count": 3,
   "id": "dd918b11",
   "metadata": {},
   "outputs": [],
   "source": [
    "bitome_genbank = Bitome('NC_000913.3.gb')\n",
    "tfbs = pd.read_csv('TFBS_regulondb.csv')\n",
    "tfbs = tfbs.rename(columns={'Transcription_unit_id_regulated_by_TF': 'locus_tag'})\n",
    "tu_table = pd.read_csv('tu.csv')\n",
    "result_df = pd.merge(tfbs, tu_table, on='locus_tag', how='left')\n",
    "result_df.to_csv('tfbs_tu_merged.csv')"
   ]
  },
  {
   "cell_type": "code",
   "execution_count": 4,
   "id": "e8882845",
   "metadata": {},
   "outputs": [
    {
     "name": "stdout",
     "output_type": "stream",
     "text": [
      "484\n"
     ]
    }
   ],
   "source": [
    "a=[]\n",
    "for i,j,k in zip(tu_table['sigma_factor'], tu_table['strand'], tu_table['tss']):\n",
    "    if not isinstance(i, str):\n",
    "        if k.is_integer():\n",
    "            if j == 1:\n",
    "                #print(k)\n",
    "                m_10_left = (k + int(bitome_genbank.featurize_promoter(k, j, minus_10_motif=M_prib_sigma70, minus_35_motif=M_m35_sigma70,\n",
    "                                 usr=(-65, -45))['m10_location'])) -3\n",
    "                m_10_right = (k + int(bitome_genbank.featurize_promoter(k, j, minus_10_motif=M_prib_sigma70, minus_35_motif=M_m35_sigma70,\n",
    "                                 usr=(-65, -45))['m10_location'])) +3\n",
    "                m_35_left = (k + int(bitome_genbank.featurize_promoter(k, j, minus_10_motif=M_prib_sigma70, minus_35_motif=M_m35_sigma70,\n",
    "                                 usr=(-65, -45))['m35_location'])) -3\n",
    "                m_35_right = (k + int(bitome_genbank.featurize_promoter(k, j, minus_10_motif=M_prib_sigma70, minus_35_motif=M_m35_sigma70,\n",
    "                                 usr=(-65, -45))['m35_location'])) +3\n",
    "                #spacer length < 23\n",
    "                if (-m_35_right + m_10_left) < 23:\n",
    "                    a.append(['Sigma70', k, m_10_left, m_10_right, m_35_left, m_35_right])\n",
    "            if j == -1:\n",
    "                m_10_left = (k - int(bitome_genbank.featurize_promoter(k, j, minus_10_motif=M_prib_sigma70, minus_35_motif=M_m35_sigma70,\n",
    "                                 usr=(-65, -45))['m10_location'])) -3\n",
    "                m_10_right = (k - int(bitome_genbank.featurize_promoter(k, j, minus_10_motif=M_prib_sigma70, minus_35_motif=M_m35_sigma70,\n",
    "                                 usr=(-65, -45))['m10_location'])) +3\n",
    "                m_35_left = (k - int(bitome_genbank.featurize_promoter(k, j, minus_10_motif=M_prib_sigma70, minus_35_motif=M_m35_sigma70,\n",
    "                                 usr=(-65, -45))['m35_location'])) -3\n",
    "                m_35_right = (k - int(bitome_genbank.featurize_promoter(k, j, minus_10_motif=M_prib_sigma70, minus_35_motif=M_m35_sigma70,\n",
    "                                 usr=(-65, -45))['m35_location'])) +3\n",
    "                #spacer length < 23\n",
    "                if (-m_10_right + m_35_left) < 23:\n",
    "                    a.append(['Sigma70', k, m_10_left, m_10_right, m_35_left, m_35_right])\n",
    "            \n",
    "print(len(a))"
   ]
  },
  {
   "cell_type": "code",
   "execution_count": 5,
   "id": "111aa23f",
   "metadata": {},
   "outputs": [
    {
     "name": "stdout",
     "output_type": "stream",
     "text": [
      "             TF_identifier TF_name    Confornation_name  \\\n",
      "locus_tag                                                 \n",
      "ECK120027580  ECK125328145    AaeR                 AaeR   \n",
      "ECK120009421  ECK125286586    AccB                 AccB   \n",
      "ECK120009381  ECK120015994    AcrR                 AcrR   \n",
      "ECK120009328  ECK120015994    AcrR                 AcrR   \n",
      "ECK120008981  ECK120015994    AcrR                 AcrR   \n",
      "...                    ...     ...                  ...   \n",
      "ECK120009822  ECK120014103    ZraR  ZraR-phosphorylated   \n",
      "ECK120009038  ECK120012020     Zur  Zur-Zn<SUP>2+</SUP>   \n",
      "ECK120009040  ECK120012020     Zur  Zur-Zn<SUP>2+</SUP>   \n",
      "ECK120015950  ECK120012020     Zur  Zur-Zn<SUP>2+</SUP>   \n",
      "ECK120026596  ECK120012020     Zur  Zur-Zn<SUP>2+</SUP>   \n",
      "\n",
      "             TF_binding site_identifier  TF_bs_left_end_position  \\\n",
      "locus_tag                                                          \n",
      "ECK120027580               ECK125258258                      NaN   \n",
      "ECK120009421               ECK125258258                      NaN   \n",
      "ECK120009381               ECK125202663                1619048.0   \n",
      "ECK120009328               ECK125242724                1978422.0   \n",
      "ECK120008981               ECK120035040                2313112.0   \n",
      "...                                 ...                      ...   \n",
      "ECK120009822               ECK120014105                4201811.0   \n",
      "ECK120009038               ECK120012022                1942613.0   \n",
      "ECK120009040               ECK120012022                1942613.0   \n",
      "ECK120015950               ECK120051670                2041319.0   \n",
      "ECK120026596               ECK120051672                 312784.0   \n",
      "\n",
      "              TF_bs_right_end_position   Strand  \\\n",
      "locus_tag                                         \n",
      "ECK120027580                       NaN  reverse   \n",
      "ECK120009421                       NaN  forward   \n",
      "ECK120009381                 1619058.0  forward   \n",
      "ECK120009328                 1978432.0  reverse   \n",
      "ECK120008981                 2313135.0  forward   \n",
      "...                                ...      ...   \n",
      "ECK120009822                 4201827.0  forward   \n",
      "ECK120009038                 1942636.0  forward   \n",
      "ECK120009040                 1942636.0  reverse   \n",
      "ECK120015950                 2041341.0  forward   \n",
      "ECK120026596                  312807.0  reverse   \n",
      "\n",
      "             TF_Gene_interaction_identifier  \\\n",
      "locus_tag                                     \n",
      "ECK120027580                   ECK125328167   \n",
      "ECK120009421                   ECK125257898   \n",
      "ECK120009381                   ECK125202664   \n",
      "ECK120009328                   ECK125242725   \n",
      "ECK120008981                   ECK120035041   \n",
      "...                                     ...   \n",
      "ECK120009822                   ECK120031168   \n",
      "ECK120009038                   ECK120051627   \n",
      "ECK120009040                   ECK125141967   \n",
      "ECK120015950                   ECK120051671   \n",
      "ECK120026596                   ECK120051673   \n",
      "\n",
      "             Transcription_unit_name_regulated_by_TF Gene_expression_effect  \\\n",
      "locus_tag                                                                     \n",
      "ECK120027580                                  aaeXAB                      +   \n",
      "ECK120009421                                   accBC                      -   \n",
      "ECK120009381                                  marRAB                      -   \n",
      "ECK120009328                                   flhDC                      -   \n",
      "ECK120008981                                    micF                      -   \n",
      "...                                              ...                    ...   \n",
      "ECK120009822                                   zraSR                      +   \n",
      "ECK120009038                                   znuCB                      -   \n",
      "ECK120009040                                    znuA                      -   \n",
      "ECK120015950                                    zinT                      -   \n",
      "ECK120026596                                   ykgMO                      -   \n",
      "\n",
      "              ...    name  strand        tss      sigma_factor box_10_left  \\\n",
      "locus_tag     ...                                                            \n",
      "ECK120027580  ...     NaN    -1.0  3389430.0           Sigma70   3389442.0   \n",
      "ECK120009421  ...   accBC     1.0  3405140.0           Sigma70   3405127.0   \n",
      "ECK120009381  ...  marRAB     1.0  1619093.0           Sigma70   1619080.0   \n",
      "ECK120009328  ...   flhDC    -1.0  1978395.0           Sigma70   1978402.0   \n",
      "ECK120008981  ...    micF     1.0  2313084.0  Sigma38, Sigma70   2313071.0   \n",
      "...           ...     ...     ...        ...               ...         ...   \n",
      "ECK120009822  ...   zraSR     1.0  4201905.0           Sigma54   4201891.0   \n",
      "ECK120009038  ...   znuCB     1.0  1942634.0           Sigma70   1942622.0   \n",
      "ECK120009040  ...    znuA    -1.0  1942661.0           Sigma38   1942668.0   \n",
      "ECK120015950  ...    zinT     1.0  2041346.0           Sigma70   2041331.0   \n",
      "ECK120026596  ...     NaN    -1.0   312805.0           Sigma70    312811.0   \n",
      "\n",
      "             box_10_right box_35_left box_35_right       left      right  \n",
      "locus_tag                                                                 \n",
      "ECK120027580    3389448.0   3389463.0    3389469.0  3386221.0  3389430.0  \n",
      "ECK120009421    3405132.0   3405104.0    3405109.0  3405140.0  3407302.0  \n",
      "ECK120009381    1619085.0   1619057.0    1619062.0  1619093.0  1620207.0  \n",
      "ECK120009328    1978407.0   1978425.0    1978430.0  1977200.0  1978395.0  \n",
      "ECK120008981    2313076.0   2313045.0    2313050.0  2313084.0  2313176.0  \n",
      "...                   ...         ...          ...        ...        ...  \n",
      "ECK120009822    4201895.0   4201879.0    4201884.0  4201905.0  4204645.0  \n",
      "ECK120009038    1942627.0   1942597.0    1942602.0  1942634.0  1944199.0  \n",
      "ECK120009040    1942678.0   1942690.0    1942695.0  1941651.0  1942661.0  \n",
      "ECK120015950    2041336.0   2041308.0    2041313.0  2041346.0  2042025.0  \n",
      "ECK120026596     312816.0    312834.0     312839.0   312374.0   312805.0  \n",
      "\n",
      "[4205 rows x 29 columns]\n"
     ]
    }
   ],
   "source": [
    "update_columns = ['sigma_factor', 'tss', 'box_10_left', 'box_10_right','box_35_left', 'box_35_right']\n",
    "\n",
    "for sublist in a:\n",
    "    match_value = sublist[1]\n",
    "    matching_index = result_df[result_df['tss'] == match_value].index\n",
    "    if not matching_index.empty:\n",
    "        result_df.loc[matching_index, update_columns] = sublist[0:len(update_columns)]\n",
    "\n",
    "result_df = result_df.set_index('locus_tag')\n",
    "print(result_df)"
   ]
  },
  {
   "cell_type": "code",
   "execution_count": 6,
   "id": "53852747",
   "metadata": {},
   "outputs": [],
   "source": [
    "result_df.to_csv('result_df_updated.csv')"
   ]
  }
 ],
 "metadata": {
  "kernelspec": {
   "display_name": "Python 3 (ipykernel)",
   "language": "python",
   "name": "python3"
  },
  "language_info": {
   "codemirror_mode": {
    "name": "ipython",
    "version": 3
   },
   "file_extension": ".py",
   "mimetype": "text/x-python",
   "name": "python",
   "nbconvert_exporter": "python",
   "pygments_lexer": "ipython3",
   "version": "3.9.18"
  }
 },
 "nbformat": 4,
 "nbformat_minor": 5
}
