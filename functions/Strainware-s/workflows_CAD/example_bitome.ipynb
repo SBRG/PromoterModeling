{
 "cells": [
  {
   "cell_type": "markdown",
   "metadata": {},
   "source": [
    "# Bitome Knowledgebase: Example Usage\n",
    "\n",
    "The following notebook provides some demonstrations for the usage of the Bitome knowledgebase.\n",
    "\n",
    "Requires Python 3.7 and the following third-party packages (all can be installed via `pip install <package>`)\n",
    "- biopython\n",
    "- CAI\n",
    "- matplotlib\n",
    "- numpy\n",
    "- pandas\n",
    "- scipy\n",
    "- seaborn"
   ]
  },
  {
   "cell_type": "markdown",
   "metadata": {},
   "source": [
    "## Import the Knowledgebase Class\n",
    "\n",
    "The following code imports the base class, called Bitome, that will load and contain the knowledgebase (along with a\n",
    "useful built-in Python package for ensuring compatibility of file paths across operating systems):"
   ]
  },
  {
   "cell_type": "code",
   "execution_count": 1,
   "metadata": {
    "pycharm": {
     "name": "#%%\n"
    }
   },
   "outputs": [],
   "source": [
    "from pathlib import Path\n",
    "import sys\n",
    "\n",
    "import matplotlib.pyplot as plt\n",
    "import networkx as nx\n",
    "\n",
    "sys.path.append('../bitome-kb/')\n",
    "\n",
    "from bitome.core import Bitome"
   ]
  },
  {
   "cell_type": "markdown",
   "metadata": {
    "pycharm": {
     "name": "#%% md\n"
    }
   },
   "source": [
    "## Save and Reload the Knowledgebase\n",
    "\n",
    "For convenience, the fully-loaded Bitome knowledgebase can be dumped to a `pickle` file for easy re-loading\n",
    "if the underlying data has not changed. Once the following cell has been executed, the `bitome.pkl` file created in the\n",
    "`data` directory can be loaded (instead of running the more time-consuming `load_data` method)."
   ]
  },
  {
   "cell_type": "code",
   "execution_count": 2,
   "metadata": {
    "pycharm": {
     "name": "#%%\n"
    }
   },
   "outputs": [],
   "source": [
    "# now, let's initiate a new Bitome knowledgebase from that file\n",
    "bitome = Bitome.init_from_file('bitome.pkl')"
   ]
  },
  {
   "cell_type": "markdown",
   "metadata": {},
   "source": [
    "## Exploring the Bitome \n"
   ]
  },
  {
   "cell_type": "markdown",
   "metadata": {},
   "source": [
    "The Bitome knowledgebase is a collection of heavily-linked objects. These objects may be accessed via attributes of the bitome object we've instantiated above. An example of such \"link-hopping\" is given below:"
   ]
  },
  {
   "cell_type": "markdown",
   "metadata": {},
   "source": [
    "### Simple Example of Link-Hopping"
   ]
  },
  {
   "cell_type": "code",
   "execution_count": 3,
   "metadata": {},
   "outputs": [
    {
     "name": "stdout",
     "output_type": "stream",
     "text": [
      "Gene name: speB\n",
      "Gene location: [3082876:3083797](-)\n",
      "Gene sequence: ATGAGCACCTTAGGTCATCAATACGATAACTCACTGGTTTCCAATGCCTTTGGTTTTTTACGCCTGCCGATGAACTTCCAGCCGTATGACAGCGATGCAGACTGGGTGATTACTGGCGTGCCGTTCGATATGGCCACTTCTGGTCGTGCGGGTGGTCGCCACGGTCCGGCAGCGATCCGTCAGGTTTCGACGAATCTGGCCTGGGAACACAACCGCTTCCCGTGGAATTTCGACATGCGTGAGCGTCTGAACGTCGTGGACTGCGGCGATCTGGTATATGCCTTTGGCGATGCCCGTGAGATGAGCGAAAAGCTGCAGGCGCACGCCGAGAAGCTGCTGGCTGCCGGTAAGCGTATGCTCTCTTTCGGTGGTGACCACTTTGTTACGCTGCCGCTGCTGCGTGCTCATGCGAAGCATTTCGGCAAAATGGCGCTGGTACACTTTGACGCCCACACCGATACCTATGCGAACGGTTGTGAATTTGACCACGGCACTATGTTCTATACCGCGCCGAAAGAAGGTCTGATCGACCCGAATCATTCCGTGCAGATTGGTATTCGTACCGAGTTTGATAAAGACAACGGCTTTACCGTGCTGGACGCCTGCCAGGTGAACGATCGCAGCGTGGATGACGTTATCGCCCAAGTGAAACAGATTGTGGGTGATATGCCGGTTTACCTGACTTTTGATATCGACTGCCTGGATCCTGCTTTTGCACCAGGCACCGGTACGCCAGTGATTGGCGGCCTGACCTCCGATCGCGCTATTAAACTGGTACGCGGCCTGAAAGATCTCAACATTGTTGGGATGGACGTAGTGGAAGTGGCTCCGGCATACGATCAGTCGGAAATCACTGCTCTGGCAGCGGCAACGCTGGCGCTGGAAATGCTGTATATTCAGGCGGCGAAAAAGGGCGAGTAA\n",
      "Type of random_gene object: <class 'bitome.features.Gene'>\n"
     ]
    }
   ],
   "source": [
    "# pull out the speB gene (chosen at random) from the master list of genes in the knowledgebase \n",
    "# NOTE: I just entered 3000 and then later added this comment to determine the gene is speB; I need to add \n",
    "# a convenient function for pulling out a gene object by name...\n",
    "speB = bitome.genes[3000]\n",
    "\n",
    "# print out some features of this gene\n",
    "print(f'Gene name: {speB.name}')\n",
    "print(f'Gene location: {speB.location}')\n",
    "print(f'Gene sequence: {speB.sequence}')\n",
    "print(f'Type of random_gene object: {type(speB)}')"
   ]
  },
  {
   "cell_type": "markdown",
   "metadata": {},
   "source": [
    "So we've pulled out the speB gene. It is represented by an object of type Gene. The Gene object (and other types of features within the Bitome, as we'll see in a moment) has some useful attributes such as its absolute location, its sequence, its name, and links to other related objects.\n",
    "\n",
    "Note that: speB is on the reverse strand. However, the sequence attribute is in the CODING direction.\n",
    "\n",
    "Now, let's say we're interested in where the TSS (or multiple TSS for this gene are located). Let's first access any transcription units associated with this gene:"
   ]
  },
  {
   "cell_type": "code",
   "execution_count": 4,
   "metadata": {},
   "outputs": [
    {
     "data": {
      "text/plain": [
       "[<bitome.features.TranscriptionUnit at 0x121926050>,\n",
       " <bitome.features.TranscriptionUnit at 0x121920c10>]"
      ]
     },
     "execution_count": 4,
     "metadata": {},
     "output_type": "execute_result"
    }
   ],
   "source": [
    "speB.transcription_units"
   ]
  },
  {
   "cell_type": "markdown",
   "metadata": {},
   "source": [
    "So this particular gene is involved in two transcription units; let's pull out some information on them:"
   ]
  },
  {
   "cell_type": "code",
   "execution_count": 5,
   "metadata": {},
   "outputs": [
    {
     "name": "stdout",
     "output_type": "stream",
     "text": [
      "TU name: speB\n",
      "Part of operon: speAB\n",
      "TU location: [3082876:3083946](-)\n",
      "TU object type: <class 'bitome.features.TranscriptionUnit'>\n",
      "\n",
      "\n",
      "TU name: speAB\n",
      "Part of operon: speAB\n",
      "TU location: [3082876:3086048](-)\n",
      "TU object type: <class 'bitome.features.TranscriptionUnit'>\n",
      "\n",
      "\n"
     ]
    }
   ],
   "source": [
    "for speB_tu in speB.transcription_units:\n",
    "    print(f'TU name: {speB_tu.name}')\n",
    "    print(f'Part of operon: {speB_tu.operon.name}')\n",
    "    print(f'TU location: {speB_tu.location}')\n",
    "    print(f'TU object type: {type(speB_tu)}')\n",
    "    print('\\n')"
   ]
  },
  {
   "cell_type": "markdown",
   "metadata": {},
   "source": [
    "What about promoters? Each TranscriptionUnit object has a promoter attribute, which in turn links to things like TF binding sites, attenuators, and more:\n",
    "\n",
    "NOTE: not all TUs have an annotated promoter (in those cases, the tu.promoter attribute will be `None`)\n",
    "\n",
    "The Promoter object houses the TSS information:"
   ]
  },
  {
   "cell_type": "code",
   "execution_count": 6,
   "metadata": {},
   "outputs": [
    {
     "name": "stdout",
     "output_type": "stream",
     "text": [
      "TU name: speB\n",
      "Promoter name: speBp\n",
      "Promoter location: [3083925:3084006](-)\n",
      "Promoter object type: <class 'bitome.features.Promoter'>\n",
      "\n",
      "\n",
      "TU name: speAB\n",
      "Promoter name: speAp\n",
      "Promoter location: [3086027:3086108](-)\n",
      "Promoter object type: <class 'bitome.features.Promoter'>\n",
      "\n",
      "\n"
     ]
    }
   ],
   "source": [
    "for speB_tu in speB.transcription_units:\n",
    "    print(f'TU name: {speB_tu.name}')\n",
    "    print(f'Promoter name: {speB_tu.promoter.name}')\n",
    "    print(f'Promoter location: {speB_tu.promoter.location}')\n",
    "    print(f'Promoter object type: {type(speB_tu.promoter)}')\n",
    "    print('\\n')"
   ]
  },
  {
   "cell_type": "markdown",
   "metadata": {},
   "source": [
    "Let's see how we would locate all TSS for a given gene in a one-liner:"
   ]
  },
  {
   "cell_type": "code",
   "execution_count": 7,
   "metadata": {},
   "outputs": [
    {
     "data": {
      "text/plain": [
       "[3083946, 3086048]"
      ]
     },
     "execution_count": 7,
     "metadata": {},
     "output_type": "execute_result"
    }
   ],
   "source": [
    "[tu.promoter.tss for tu in speB.transcription_units]"
   ]
  },
  {
   "cell_type": "markdown",
   "metadata": {},
   "source": [
    "Note that these TSS are in very different places becauseone of them skips the speA gene entirely"
   ]
  },
  {
   "cell_type": "markdown",
   "metadata": {},
   "source": [
    "### Bitome Table of Contents"
   ]
  },
  {
   "cell_type": "markdown",
   "metadata": {},
   "source": [
    "The Bitome contains master lists of many different types of objects, all that can be located on the provided reference sequence. Below is shown a master list of those attributes:"
   ]
  },
  {
   "cell_type": "code",
   "execution_count": 8,
   "metadata": {},
   "outputs": [
    {
     "name": "stdout",
     "output_type": "stream",
     "text": [
      "Genes: 4497\n",
      "Proteins: 4140\n",
      "Mobile Elements: 49\n",
      "Repeat Regions: 355\n",
      "Operons: 2619\n",
      "Transcription Units: 3560\n",
      "Promoters: 8631\n",
      "Terminators: 512\n",
      "Attenuators: 1466\n",
      "Shine-Dalgarnos: 179\n",
      "Riboswitches: 51\n",
      "Transcription Factors: 224\n",
      "TF binding sites: 3235\n",
      "Regulons: 493\n",
      "iModulons: 61\n"
     ]
    }
   ],
   "source": [
    "print(f'Genes: {len(bitome.genes)}')\n",
    "print(f'Proteins: {len(bitome.proteins)}')\n",
    "print(f'Mobile Elements: {len(bitome.mobile_elements)}')\n",
    "print(f'Repeat Regions: {len(bitome.repeat_regions)}')\n",
    "print(f'Operons: {len(bitome.operons)}')\n",
    "print(f'Transcription Units: {len(bitome.transcription_units)}')\n",
    "print(f'Promoters: {len(bitome.promoters)}')\n",
    "print(f'Terminators: {len(bitome.terminators)}')\n",
    "print(f'Attenuators: {len(bitome.attenuators)}')\n",
    "print(f'Shine-Dalgarnos: {len(bitome.shine_dalgarnos)}')\n",
    "print(f'Riboswitches: {len(bitome.riboswitches)}')\n",
    "print(f'Transcription Factors: {len(bitome.transcription_factors)}')\n",
    "print(f'TF binding sites: {len(bitome.tf_binding_sites)}')\n",
    "print(f'Regulons: {len(bitome.regulons)}')\n",
    "print(f'iModulons: {len(bitome.i_modulons)}')"
   ]
  },
  {
   "cell_type": "markdown",
   "metadata": {},
   "source": [
    "The Bitome also retains the full sequence, along with the GenBank record and ID:"
   ]
  },
  {
   "cell_type": "code",
   "execution_count": 9,
   "metadata": {
    "scrolled": true
   },
   "outputs": [
    {
     "name": "stdout",
     "output_type": "stream",
     "text": [
      "GenBank ID: NC_000913.3\n",
      "Full Sequence (first 200 bps): AGCTTTTCATTCTGACTGCAACGGGCAATATGTCTCTGTGTGGATTAAAAAAAGAGTGTCTGATAGCAGCTTCTGAACTGGTTACCTGCCGTGAGTAAATTAAAATTTTATTGACTTAGGTCACTAAATACTTTAACCAATATAGGCATAGCGCACAGACAGATAAAAATTACAGAGTACACAACATCCATGAAACGCAT\n",
      "GenBank description: Escherichia coli str. K-12 substr. MG1655, complete genome\n"
     ]
    }
   ],
   "source": [
    "print(f'GenBank ID: {bitome.genbank_id}')\n",
    "print(f'Full Sequence (first 200 bps): {bitome.sequence[:200]}')\n",
    "print(f'GenBank description: {bitome.description}')"
   ]
  },
  {
   "cell_type": "markdown",
   "metadata": {},
   "source": [
    "### Bitome Linkage Map"
   ]
  },
  {
   "cell_type": "code",
   "execution_count": 10,
   "metadata": {
    "scrolled": false
   },
   "outputs": [
    {
     "data": {
      "image/png": "[encoded data removed]",
      "text/plain": [
       "<Figure size 720x720 with 1 Axes>"
      ]
     },
     "metadata": {},
     "output_type": "display_data"
    }
   ],
   "source": [
    "bitome_graph = nx.MultiDiGraph()\n",
    "bitome_graph.add_edges_from([\n",
    "    ('bitome', 'gene', 'multi'),\n",
    "    ('gene', 'protein', 'single'),\n",
    "    ('gene', 'tRNA', 'single'),\n",
    "    ('gene', 'TU', 'multi'),\n",
    "    ('gene', 'attenuator', 'multi'),\n",
    "    ('gene', 'riboswitch', 'multi'),\n",
    "    ('gene', 'shine_dalgarno', 'single'),\n",
    "    ('gene', 'iModulon', 'multi'),\n",
    "    ('bitome', 'protein', 'multi'),\n",
    "    ('protein', 'gene', 'single'),\n",
    "    ('tRNA', 'gene', 'single'),\n",
    "    ('bitome', 'mobile_element', 'multi'),\n",
    "    ('bitome', 'repeat_region', 'multi'),\n",
    "    ('bitome', 'origin', 'single'),\n",
    "    ('bitome', 'operon', 'multi'),\n",
    "    ('operon', 'TU', 'multi'),\n",
    "    ('bitome', 'TU', 'multi'),\n",
    "    ('TU', 'operon', 'single'),\n",
    "    ('TU', 'promoter', 'single'),\n",
    "    ('TU', 'gene', 'multi'),\n",
    "    ('TU', 'terminator', 'multi'),\n",
    "    ('bitome', 'promoter', 'multi'),\n",
    "    ('promoter', 'TU', 'single'),\n",
    "    ('promoter', 'TFBS', 'multi'),\n",
    "    ('promoter', 'regulon', 'multi'),\n",
    "    ('bitome', 'terminator', 'multi'),\n",
    "    ('terminator', 'TU', 'multi'),\n",
    "    ('bitome', 'attenuator', 'multi'),\n",
    "    ('attenuator', 'gene', 'single'),\n",
    "    ('bitome', 'shine_dalgarno', 'multi'),\n",
    "    ('shine_dalgarno', 'gene', 'single'),\n",
    "    ('bitome', 'riboswitch', 'multi'),\n",
    "    ('riboswitch', 'gene', 'single'),\n",
    "    ('bitome', 'TF', 'multi'),\n",
    "    ('TF', 'TFBS', 'multi'),\n",
    "    ('TF', 'regulon', 'multi'),\n",
    "    ('TF', 'iModulon', 'multi'),\n",
    "    ('bitome', 'regulon', 'multi'),\n",
    "    ('regulon', 'promoter', 'multi'),\n",
    "    ('regulon', 'TF', 'multi'),\n",
    "    ('bitome', 'iModulon', 'multi'),\n",
    "    ('iModulon', 'TF', 'multi'),\n",
    "    ('iModulon', 'gene', 'multi'),\n",
    "    ('bitome', 'TFBS', 'multi'),\n",
    "    ('TFBS', 'TF', 'single'),\n",
    "    ('TFBS', 'promoter', 'multi')\n",
    "])\n",
    "\n",
    "_, ax = plt.subplots(figsize=(10, 10))\n",
    "nx.draw_networkx(\n",
    "    bitome_graph,\n",
    "    pos=nx.spring_layout(bitome_graph, k=1),\n",
    "    ax=ax,\n",
    "    node_size=150,\n",
    "    node_color='skyblue',\n",
    "    font_size='16'\n",
    ")"
   ]
  },
  {
   "cell_type": "markdown",
   "metadata": {},
   "source": [
    "## Utilities\n",
    "\n",
    "A function for finding a feature with a given name."
   ]
  },
  {
   "cell_type": "code",
   "execution_count": 11,
   "metadata": {},
   "outputs": [
    {
     "name": "stdout",
     "output_type": "stream",
     "text": [
      "glpR\n",
      "[3559847:3560605](-)\n"
     ]
    }
   ],
   "source": [
    "glpR = [gene for gene in bitome.genes if gene.name == 'glpR'][0]\n",
    "print(glpR.name)\n",
    "print(glpR.location)"
   ]
  },
  {
   "cell_type": "markdown",
   "metadata": {},
   "source": [
    "Sequence location slicing\n",
    "\n",
    "This example shows how to extract an arbitrary genomic locus from the main sequence. Let's say we wanted to pull out the sequence of the 5' UTR for glpR (from above). Note that glpR is on the (-), or reverse, strand; so the \"right\" end of the position is the 5' end. \n",
    "\n",
    "In Biopython's SeqLocation terms, left = \"start\" and right = \"end\", REGARDLESS of strand. It's annoying and confusing...\n",
    "\n",
    "I can write some better utility functions for this sort of thing if desired."
   ]
  },
  {
   "cell_type": "code",
   "execution_count": 12,
   "metadata": {},
   "outputs": [
    {
     "data": {
      "text/plain": [
       "Seq('TTATAAATCCCTGGAATTATTTTCGTTTTCGCGCATTGAGCGAATCAACAAAAG...AGT', IUPACAmbiguousDNA())"
      ]
     },
     "execution_count": 12,
     "metadata": {},
     "output_type": "execute_result"
    }
   ],
   "source": [
    "from Bio.SeqFeature import FeatureLocation\n",
    "\n",
    "# so we're giving as the left end, the START of the gene, which is the \"end\" of its location...\n",
    "# and as the right end for the 5' UTR, we're giving the TSS for the promoter (just taking the first one arbitrarily)\n",
    "FeatureLocation(glpR.location.end.position, glpR.transcription_units[0].promoter.tss).extract(bitome.sequence)"
   ]
  },
  {
   "cell_type": "markdown",
   "metadata": {},
   "source": [
    "## There are a lot of possibilities for accessing data from the Bitome knowledgebase, so please ask! Also, don't be afraid to dive into the source code (in the `bitome` directory), it is very heavily commented and documented. "
   ]
  }
 ],
 "metadata": {
  "kernelspec": {
   "display_name": "Python 3",
   "language": "python",
   "name": "python3"
  },
  "language_info": {
   "codemirror_mode": {
    "name": "ipython",
    "version": 3
   },
   "file_extension": ".py",
   "mimetype": "text/x-python",
   "name": "python",
   "nbconvert_exporter": "python",
   "pygments_lexer": "ipython3",
   "version": "3.7.7"
  }
 },
 "nbformat": 4,
 "nbformat_minor": 1
}
