{
 "cells": [
  {
   "cell_type": "markdown",
   "metadata": {},
   "source": [
    "# Processing DNAShape Features for Bitome"
   ]
  },
  {
   "cell_type": "markdown",
   "metadata": {},
   "source": [
    "## Setup"
   ]
  },
  {
   "cell_type": "code",
   "execution_count": 4,
   "metadata": {},
   "outputs": [],
   "source": [
    "from pathlib import Path\n",
    "\n",
    "import pandas as pd"
   ]
  },
  {
   "cell_type": "code",
   "execution_count": 5,
   "metadata": {},
   "outputs": [],
   "source": [
    "seq_beginning = 'AGCTTTTCATTCTGACTGCA'\n",
    "seq_end = 'CGCCTTAGTAAGTATTTTTC'"
   ]
  },
  {
   "cell_type": "markdown",
   "metadata": {},
   "source": [
    "## Minor Groove Width"
   ]
  },
  {
   "cell_type": "code",
   "execution_count": 6,
   "metadata": {},
   "outputs": [
    {
     "data": {
      "text/html": [
       "<div>\n",
       "<style scoped>\n",
       "    .dataframe tbody tr th:only-of-type {\n",
       "        vertical-align: middle;\n",
       "    }\n",
       "\n",
       "    .dataframe tbody tr th {\n",
       "        vertical-align: top;\n",
       "    }\n",
       "\n",
       "    .dataframe thead th {\n",
       "        text-align: right;\n",
       "    }\n",
       "</style>\n",
       "<table border=\"1\" class=\"dataframe\">\n",
       "  <thead>\n",
       "    <tr style=\"text-align: right;\">\n",
       "      <th></th>\n",
       "      <th>start</th>\n",
       "      <th>end</th>\n",
       "      <th>MGW</th>\n",
       "    </tr>\n",
       "  </thead>\n",
       "  <tbody>\n",
       "    <tr>\n",
       "      <th>0</th>\n",
       "      <td>2</td>\n",
       "      <td>3</td>\n",
       "      <td>4.14</td>\n",
       "    </tr>\n",
       "    <tr>\n",
       "      <th>1</th>\n",
       "      <td>3</td>\n",
       "      <td>4</td>\n",
       "      <td>4.03</td>\n",
       "    </tr>\n",
       "    <tr>\n",
       "      <th>2</th>\n",
       "      <td>4</td>\n",
       "      <td>5</td>\n",
       "      <td>3.68</td>\n",
       "    </tr>\n",
       "    <tr>\n",
       "      <th>3</th>\n",
       "      <td>5</td>\n",
       "      <td>6</td>\n",
       "      <td>4.35</td>\n",
       "    </tr>\n",
       "    <tr>\n",
       "      <th>4</th>\n",
       "      <td>6</td>\n",
       "      <td>7</td>\n",
       "      <td>5.40</td>\n",
       "    </tr>\n",
       "    <tr>\n",
       "      <th>...</th>\n",
       "      <td>...</td>\n",
       "      <td>...</td>\n",
       "      <td>...</td>\n",
       "    </tr>\n",
       "    <tr>\n",
       "      <th>4641643</th>\n",
       "      <td>4641645</td>\n",
       "      <td>4641646</td>\n",
       "      <td>5.30</td>\n",
       "    </tr>\n",
       "    <tr>\n",
       "      <th>4641644</th>\n",
       "      <td>4641646</td>\n",
       "      <td>4641647</td>\n",
       "      <td>3.79</td>\n",
       "    </tr>\n",
       "    <tr>\n",
       "      <th>4641645</th>\n",
       "      <td>4641647</td>\n",
       "      <td>4641648</td>\n",
       "      <td>3.63</td>\n",
       "    </tr>\n",
       "    <tr>\n",
       "      <th>4641646</th>\n",
       "      <td>4641648</td>\n",
       "      <td>4641649</td>\n",
       "      <td>3.38</td>\n",
       "    </tr>\n",
       "    <tr>\n",
       "      <th>4641647</th>\n",
       "      <td>4641649</td>\n",
       "      <td>4641650</td>\n",
       "      <td>4.35</td>\n",
       "    </tr>\n",
       "  </tbody>\n",
       "</table>\n",
       "<p>4641648 rows × 3 columns</p>\n",
       "</div>"
      ],
      "text/plain": [
       "           start      end   MGW\n",
       "0              2        3  4.14\n",
       "1              3        4  4.03\n",
       "2              4        5  3.68\n",
       "3              5        6  4.35\n",
       "4              6        7  5.40\n",
       "...          ...      ...   ...\n",
       "4641643  4641645  4641646  5.30\n",
       "4641644  4641646  4641647  3.79\n",
       "4641645  4641647  4641648  3.63\n",
       "4641646  4641648  4641649  3.38\n",
       "4641647  4641649  4641650  4.35\n",
       "\n",
       "[4641648 rows x 3 columns]"
      ]
     },
     "execution_count": 6,
     "metadata": {},
     "output_type": "execute_result"
    }
   ],
   "source": [
    "mgw = pd.read_csv(Path('ecolik12-MGW.txt'), sep='\\t', skiprows=1, usecols=[1, 2, 3], names=['start', 'end', 'MGW'])\n",
    "mgw"
   ]
  },
  {
   "cell_type": "markdown",
   "metadata": {},
   "source": [
    "Based on web server test, this feature is calculated for each actual base, and the first and last two are ommitted; so the second base position is correct"
   ]
  },
  {
   "cell_type": "code",
   "execution_count": 7,
   "metadata": {},
   "outputs": [
    {
     "data": {
      "text/plain": [
       "base\n",
       "3          4.14\n",
       "4          4.03\n",
       "5          3.68\n",
       "6          4.35\n",
       "7          5.40\n",
       "           ... \n",
       "4641646    5.30\n",
       "4641647    3.79\n",
       "4641648    3.63\n",
       "4641649    3.38\n",
       "4641650    4.35\n",
       "Name: MGW, Length: 4641648, dtype: float64"
      ]
     },
     "execution_count": 7,
     "metadata": {},
     "output_type": "execute_result"
    }
   ],
   "source": [
    "mgw_series = mgw.drop(columns='start').rename(columns={'end': 'base'}).set_index('base').squeeze()\n",
    "mgw_series"
   ]
  },
  {
   "cell_type": "markdown",
   "metadata": {},
   "source": [
    "## ORChlD2"
   ]
  },
  {
   "cell_type": "code",
   "execution_count": 8,
   "metadata": {},
   "outputs": [
    {
     "data": {
      "text/html": [
       "<div>\n",
       "<style scoped>\n",
       "    .dataframe tbody tr th:only-of-type {\n",
       "        vertical-align: middle;\n",
       "    }\n",
       "\n",
       "    .dataframe tbody tr th {\n",
       "        vertical-align: top;\n",
       "    }\n",
       "\n",
       "    .dataframe thead th {\n",
       "        text-align: right;\n",
       "    }\n",
       "</style>\n",
       "<table border=\"1\" class=\"dataframe\">\n",
       "  <thead>\n",
       "    <tr style=\"text-align: right;\">\n",
       "      <th></th>\n",
       "      <th>start</th>\n",
       "      <th>end</th>\n",
       "      <th>ORChLD</th>\n",
       "    </tr>\n",
       "  </thead>\n",
       "  <tbody>\n",
       "    <tr>\n",
       "      <th>0</th>\n",
       "      <td>0</td>\n",
       "      <td>1</td>\n",
       "      <td>-0.308000</td>\n",
       "    </tr>\n",
       "    <tr>\n",
       "      <th>1</th>\n",
       "      <td>1</td>\n",
       "      <td>2</td>\n",
       "      <td>0.737000</td>\n",
       "    </tr>\n",
       "    <tr>\n",
       "      <th>2</th>\n",
       "      <td>2</td>\n",
       "      <td>3</td>\n",
       "      <td>0.596667</td>\n",
       "    </tr>\n",
       "    <tr>\n",
       "      <th>3</th>\n",
       "      <td>3</td>\n",
       "      <td>4</td>\n",
       "      <td>-0.108625</td>\n",
       "    </tr>\n",
       "    <tr>\n",
       "      <th>4</th>\n",
       "      <td>4</td>\n",
       "      <td>5</td>\n",
       "      <td>0.374125</td>\n",
       "    </tr>\n",
       "    <tr>\n",
       "      <th>...</th>\n",
       "      <td>...</td>\n",
       "      <td>...</td>\n",
       "      <td>...</td>\n",
       "    </tr>\n",
       "    <tr>\n",
       "      <th>4641647</th>\n",
       "      <td>4641647</td>\n",
       "      <td>4641648</td>\n",
       "      <td>-0.325125</td>\n",
       "    </tr>\n",
       "    <tr>\n",
       "      <th>4641648</th>\n",
       "      <td>4641648</td>\n",
       "      <td>4641649</td>\n",
       "      <td>-0.115750</td>\n",
       "    </tr>\n",
       "    <tr>\n",
       "      <th>4641649</th>\n",
       "      <td>4641649</td>\n",
       "      <td>4641650</td>\n",
       "      <td>-0.612833</td>\n",
       "    </tr>\n",
       "    <tr>\n",
       "      <th>4641650</th>\n",
       "      <td>4641650</td>\n",
       "      <td>4641651</td>\n",
       "      <td>-0.588500</td>\n",
       "    </tr>\n",
       "    <tr>\n",
       "      <th>4641651</th>\n",
       "      <td>4641651</td>\n",
       "      <td>4641652</td>\n",
       "      <td>-0.464000</td>\n",
       "    </tr>\n",
       "  </tbody>\n",
       "</table>\n",
       "<p>4641652 rows × 3 columns</p>\n",
       "</div>"
      ],
      "text/plain": [
       "           start      end    ORChLD\n",
       "0              0        1 -0.308000\n",
       "1              1        2  0.737000\n",
       "2              2        3  0.596667\n",
       "3              3        4 -0.108625\n",
       "4              4        5  0.374125\n",
       "...          ...      ...       ...\n",
       "4641647  4641647  4641648 -0.325125\n",
       "4641648  4641648  4641649 -0.115750\n",
       "4641649  4641649  4641650 -0.612833\n",
       "4641650  4641650  4641651 -0.588500\n",
       "4641651  4641651  4641652 -0.464000\n",
       "\n",
       "[4641652 rows x 3 columns]"
      ]
     },
     "execution_count": 8,
     "metadata": {},
     "output_type": "execute_result"
    }
   ],
   "source": [
    "orchid2 = pd.read_csv(Path('ecolik12-ORChlD2.txt'), sep='\\t', skiprows=1, usecols=[1, 2, 3], names=['start', 'end', 'ORChLD'])\n",
    "orchid2"
   ]
  },
  {
   "cell_type": "markdown",
   "metadata": {},
   "source": [
    "So this is one number per base, and has all bases; but the rest don't have the first and last two; so drop here too"
   ]
  },
  {
   "cell_type": "code",
   "execution_count": 45,
   "metadata": {},
   "outputs": [
    {
     "data": {
      "text/plain": [
       "base\n",
       "3          0.596667\n",
       "4         -0.108625\n",
       "5          0.374125\n",
       "6          0.260833\n",
       "7         -0.210375\n",
       "             ...   \n",
       "4641646   -0.214500\n",
       "4641647    0.485500\n",
       "4641648   -0.325125\n",
       "4641649   -0.115750\n",
       "4641650   -0.612833\n",
       "Name: ORChLD, Length: 4641648, dtype: float64"
      ]
     },
     "execution_count": 45,
     "metadata": {},
     "output_type": "execute_result"
    }
   ],
   "source": [
    "orchid2_series = orchid2.drop(columns='start').rename(columns={'end': 'base'}).set_index('base').squeeze()\n",
    "orchid2_series = orchid2_series.iloc[2:-2]\n",
    "orchid2_series"
   ]
  },
  {
   "cell_type": "markdown",
   "metadata": {},
   "source": [
    "## Helical Twist"
   ]
  },
  {
   "cell_type": "code",
   "execution_count": 10,
   "metadata": {},
   "outputs": [
    {
     "data": {
      "text/html": [
       "<div>\n",
       "<style scoped>\n",
       "    .dataframe tbody tr th:only-of-type {\n",
       "        vertical-align: middle;\n",
       "    }\n",
       "\n",
       "    .dataframe tbody tr th {\n",
       "        vertical-align: top;\n",
       "    }\n",
       "\n",
       "    .dataframe thead th {\n",
       "        text-align: right;\n",
       "    }\n",
       "</style>\n",
       "<table border=\"1\" class=\"dataframe\">\n",
       "  <thead>\n",
       "    <tr style=\"text-align: right;\">\n",
       "      <th></th>\n",
       "      <th>start</th>\n",
       "      <th>end</th>\n",
       "      <th>HelT</th>\n",
       "    </tr>\n",
       "  </thead>\n",
       "  <tbody>\n",
       "    <tr>\n",
       "      <th>0</th>\n",
       "      <td>1</td>\n",
       "      <td>2</td>\n",
       "      <td>38.05</td>\n",
       "    </tr>\n",
       "    <tr>\n",
       "      <th>1</th>\n",
       "      <td>2</td>\n",
       "      <td>3</td>\n",
       "      <td>32.48</td>\n",
       "    </tr>\n",
       "    <tr>\n",
       "      <th>2</th>\n",
       "      <td>3</td>\n",
       "      <td>4</td>\n",
       "      <td>36.87</td>\n",
       "    </tr>\n",
       "    <tr>\n",
       "      <th>3</th>\n",
       "      <td>4</td>\n",
       "      <td>5</td>\n",
       "      <td>37.01</td>\n",
       "    </tr>\n",
       "    <tr>\n",
       "      <th>4</th>\n",
       "      <td>5</td>\n",
       "      <td>6</td>\n",
       "      <td>36.11</td>\n",
       "    </tr>\n",
       "    <tr>\n",
       "      <th>...</th>\n",
       "      <td>...</td>\n",
       "      <td>...</td>\n",
       "      <td>...</td>\n",
       "    </tr>\n",
       "    <tr>\n",
       "      <th>4641644</th>\n",
       "      <td>4641645</td>\n",
       "      <td>4641646</td>\n",
       "      <td>33.31</td>\n",
       "    </tr>\n",
       "    <tr>\n",
       "      <th>4641645</th>\n",
       "      <td>4641646</td>\n",
       "      <td>4641647</td>\n",
       "      <td>37.45</td>\n",
       "    </tr>\n",
       "    <tr>\n",
       "      <th>4641646</th>\n",
       "      <td>4641647</td>\n",
       "      <td>4641648</td>\n",
       "      <td>37.47</td>\n",
       "    </tr>\n",
       "    <tr>\n",
       "      <th>4641647</th>\n",
       "      <td>4641648</td>\n",
       "      <td>4641649</td>\n",
       "      <td>37.37</td>\n",
       "    </tr>\n",
       "    <tr>\n",
       "      <th>4641648</th>\n",
       "      <td>4641649</td>\n",
       "      <td>4641650</td>\n",
       "      <td>36.32</td>\n",
       "    </tr>\n",
       "  </tbody>\n",
       "</table>\n",
       "<p>4641649 rows × 3 columns</p>\n",
       "</div>"
      ],
      "text/plain": [
       "           start      end   HelT\n",
       "0              1        2  38.05\n",
       "1              2        3  32.48\n",
       "2              3        4  36.87\n",
       "3              4        5  37.01\n",
       "4              5        6  36.11\n",
       "...          ...      ...    ...\n",
       "4641644  4641645  4641646  33.31\n",
       "4641645  4641646  4641647  37.45\n",
       "4641646  4641647  4641648  37.47\n",
       "4641647  4641648  4641649  37.37\n",
       "4641648  4641649  4641650  36.32\n",
       "\n",
       "[4641649 rows x 3 columns]"
      ]
     },
     "execution_count": 10,
     "metadata": {},
     "output_type": "execute_result"
    }
   ],
   "source": [
    "helt = pd.read_csv(Path('ecolik12-HelT.txt'), sep='\\t', skiprows=1, usecols=[1, 2, 3], names=['start', 'end', 'HelT'])\n",
    "helt"
   ]
  },
  {
   "cell_type": "markdown",
   "metadata": {},
   "source": [
    "This is actually applicable to the gap between bases, not the specific base pairs; also, using the web server, I determined that the base \"pairs\" at each end of the sequence are excluded, so the \"end\" column is actually the start"
   ]
  },
  {
   "cell_type": "code",
   "execution_count": 39,
   "metadata": {},
   "outputs": [
    {
     "data": {
      "text/plain": [
       "base\n",
       "2          38.05\n",
       "3          32.48\n",
       "4          36.87\n",
       "5          37.01\n",
       "6          36.11\n",
       "           ...  \n",
       "4641646    33.31\n",
       "4641647    37.45\n",
       "4641648    37.47\n",
       "4641649    37.37\n",
       "4641650    36.32\n",
       "Name: HelT, Length: 4641649, dtype: float64"
      ]
     },
     "execution_count": 39,
     "metadata": {},
     "output_type": "execute_result"
    }
   ],
   "source": [
    "helt_series = helt.drop(columns='start').rename(columns={'end': 'base'}).set_index('base').squeeze()\n",
    "helt_series"
   ]
  },
  {
   "cell_type": "markdown",
   "metadata": {},
   "source": [
    "We also want this to just be associated with each base; average between the two flanking values to get this:\n",
    "NOTE: the label \"base\" for the index is wrong, it's actually START of pair; just doing this for later"
   ]
  },
  {
   "cell_type": "code",
   "execution_count": 49,
   "metadata": {},
   "outputs": [
    {
     "data": {
      "text/plain": [
       "base\n",
       "3          35.265\n",
       "4          34.675\n",
       "5          36.940\n",
       "6          36.560\n",
       "7          35.625\n",
       "            ...  \n",
       "4641646    33.960\n",
       "4641647    35.380\n",
       "4641648    37.460\n",
       "4641649    37.420\n",
       "4641650    36.845\n",
       "Name: HelT, Length: 4641648, dtype: float64"
      ]
     },
     "execution_count": 49,
     "metadata": {},
     "output_type": "execute_result"
    }
   ],
   "source": [
    "helt_series_interp = pd.Series(\n",
    "    (helt_series.iloc[:-1].values + helt_series.iloc[1:].values) / 2,\n",
    "    index=helt_series.index[1:]\n",
    ").rename('HelT')\n",
    "helt_series_interp"
   ]
  },
  {
   "cell_type": "markdown",
   "metadata": {},
   "source": [
    "## Propeller Twist"
   ]
  },
  {
   "cell_type": "code",
   "execution_count": 32,
   "metadata": {},
   "outputs": [
    {
     "data": {
      "text/html": [
       "<div>\n",
       "<style scoped>\n",
       "    .dataframe tbody tr th:only-of-type {\n",
       "        vertical-align: middle;\n",
       "    }\n",
       "\n",
       "    .dataframe tbody tr th {\n",
       "        vertical-align: top;\n",
       "    }\n",
       "\n",
       "    .dataframe thead th {\n",
       "        text-align: right;\n",
       "    }\n",
       "</style>\n",
       "<table border=\"1\" class=\"dataframe\">\n",
       "  <thead>\n",
       "    <tr style=\"text-align: right;\">\n",
       "      <th></th>\n",
       "      <th>start</th>\n",
       "      <th>end</th>\n",
       "      <th>ProT</th>\n",
       "    </tr>\n",
       "  </thead>\n",
       "  <tbody>\n",
       "    <tr>\n",
       "      <th>0</th>\n",
       "      <td>2</td>\n",
       "      <td>3</td>\n",
       "      <td>-1.56</td>\n",
       "    </tr>\n",
       "    <tr>\n",
       "      <th>1</th>\n",
       "      <td>3</td>\n",
       "      <td>4</td>\n",
       "      <td>-10.58</td>\n",
       "    </tr>\n",
       "    <tr>\n",
       "      <th>2</th>\n",
       "      <td>4</td>\n",
       "      <td>5</td>\n",
       "      <td>-14.68</td>\n",
       "    </tr>\n",
       "    <tr>\n",
       "      <th>3</th>\n",
       "      <td>5</td>\n",
       "      <td>6</td>\n",
       "      <td>-13.16</td>\n",
       "    </tr>\n",
       "    <tr>\n",
       "      <th>4</th>\n",
       "      <td>6</td>\n",
       "      <td>7</td>\n",
       "      <td>-10.81</td>\n",
       "    </tr>\n",
       "    <tr>\n",
       "      <th>...</th>\n",
       "      <td>...</td>\n",
       "      <td>...</td>\n",
       "      <td>...</td>\n",
       "    </tr>\n",
       "    <tr>\n",
       "      <th>4641643</th>\n",
       "      <td>4641645</td>\n",
       "      <td>4641646</td>\n",
       "      <td>-10.45</td>\n",
       "    </tr>\n",
       "    <tr>\n",
       "      <th>4641644</th>\n",
       "      <td>4641646</td>\n",
       "      <td>4641647</td>\n",
       "      <td>-12.63</td>\n",
       "    </tr>\n",
       "    <tr>\n",
       "      <th>4641645</th>\n",
       "      <td>4641647</td>\n",
       "      <td>4641648</td>\n",
       "      <td>-14.89</td>\n",
       "    </tr>\n",
       "    <tr>\n",
       "      <th>4641646</th>\n",
       "      <td>4641648</td>\n",
       "      <td>4641649</td>\n",
       "      <td>-16.51</td>\n",
       "    </tr>\n",
       "    <tr>\n",
       "      <th>4641647</th>\n",
       "      <td>4641649</td>\n",
       "      <td>4641650</td>\n",
       "      <td>-13.16</td>\n",
       "    </tr>\n",
       "  </tbody>\n",
       "</table>\n",
       "<p>4641648 rows × 3 columns</p>\n",
       "</div>"
      ],
      "text/plain": [
       "           start      end   ProT\n",
       "0              2        3  -1.56\n",
       "1              3        4 -10.58\n",
       "2              4        5 -14.68\n",
       "3              5        6 -13.16\n",
       "4              6        7 -10.81\n",
       "...          ...      ...    ...\n",
       "4641643  4641645  4641646 -10.45\n",
       "4641644  4641646  4641647 -12.63\n",
       "4641645  4641647  4641648 -14.89\n",
       "4641646  4641648  4641649 -16.51\n",
       "4641647  4641649  4641650 -13.16\n",
       "\n",
       "[4641648 rows x 3 columns]"
      ]
     },
     "execution_count": 32,
     "metadata": {},
     "output_type": "execute_result"
    }
   ],
   "source": [
    "prot = pd.read_csv(Path('ecolik12-ProT.txt'), sep='\\t', skiprows=1, usecols=[1, 2, 3], names=['start', 'end', 'ProT'])\n",
    "prot"
   ]
  },
  {
   "cell_type": "markdown",
   "metadata": {},
   "source": [
    "Same as MGW, one value per base, but skips the first and last 2; so end is actually base"
   ]
  },
  {
   "cell_type": "code",
   "execution_count": 33,
   "metadata": {},
   "outputs": [
    {
     "data": {
      "text/plain": [
       "base\n",
       "3          -1.56\n",
       "4         -10.58\n",
       "5         -14.68\n",
       "6         -13.16\n",
       "7         -10.81\n",
       "           ...  \n",
       "4641646   -10.45\n",
       "4641647   -12.63\n",
       "4641648   -14.89\n",
       "4641649   -16.51\n",
       "4641650   -13.16\n",
       "Name: ProT, Length: 4641648, dtype: float64"
      ]
     },
     "execution_count": 33,
     "metadata": {},
     "output_type": "execute_result"
    }
   ],
   "source": [
    "prot_series = prot.drop(columns='start').rename(columns={'end': 'base'}).set_index('base').squeeze()\n",
    "prot_series"
   ]
  },
  {
   "cell_type": "markdown",
   "metadata": {},
   "source": [
    "## Roll"
   ]
  },
  {
   "cell_type": "code",
   "execution_count": 34,
   "metadata": {},
   "outputs": [
    {
     "data": {
      "text/html": [
       "<div>\n",
       "<style scoped>\n",
       "    .dataframe tbody tr th:only-of-type {\n",
       "        vertical-align: middle;\n",
       "    }\n",
       "\n",
       "    .dataframe tbody tr th {\n",
       "        vertical-align: top;\n",
       "    }\n",
       "\n",
       "    .dataframe thead th {\n",
       "        text-align: right;\n",
       "    }\n",
       "</style>\n",
       "<table border=\"1\" class=\"dataframe\">\n",
       "  <thead>\n",
       "    <tr style=\"text-align: right;\">\n",
       "      <th></th>\n",
       "      <th>start</th>\n",
       "      <th>end</th>\n",
       "      <th>Roll</th>\n",
       "    </tr>\n",
       "  </thead>\n",
       "  <tbody>\n",
       "    <tr>\n",
       "      <th>0</th>\n",
       "      <td>1</td>\n",
       "      <td>2</td>\n",
       "      <td>-4.35</td>\n",
       "    </tr>\n",
       "    <tr>\n",
       "      <th>1</th>\n",
       "      <td>2</td>\n",
       "      <td>3</td>\n",
       "      <td>-3.60</td>\n",
       "    </tr>\n",
       "    <tr>\n",
       "      <th>2</th>\n",
       "      <td>3</td>\n",
       "      <td>4</td>\n",
       "      <td>-5.77</td>\n",
       "    </tr>\n",
       "    <tr>\n",
       "      <th>3</th>\n",
       "      <td>4</td>\n",
       "      <td>5</td>\n",
       "      <td>-4.28</td>\n",
       "    </tr>\n",
       "    <tr>\n",
       "      <th>4</th>\n",
       "      <td>5</td>\n",
       "      <td>6</td>\n",
       "      <td>-2.65</td>\n",
       "    </tr>\n",
       "    <tr>\n",
       "      <th>...</th>\n",
       "      <td>...</td>\n",
       "      <td>...</td>\n",
       "      <td>...</td>\n",
       "    </tr>\n",
       "    <tr>\n",
       "      <th>4641644</th>\n",
       "      <td>4641645</td>\n",
       "      <td>4641646</td>\n",
       "      <td>-5.34</td>\n",
       "    </tr>\n",
       "    <tr>\n",
       "      <th>4641645</th>\n",
       "      <td>4641646</td>\n",
       "      <td>4641647</td>\n",
       "      <td>-4.52</td>\n",
       "    </tr>\n",
       "    <tr>\n",
       "      <th>4641646</th>\n",
       "      <td>4641647</td>\n",
       "      <td>4641648</td>\n",
       "      <td>-4.33</td>\n",
       "    </tr>\n",
       "    <tr>\n",
       "      <th>4641647</th>\n",
       "      <td>4641648</td>\n",
       "      <td>4641649</td>\n",
       "      <td>-4.69</td>\n",
       "    </tr>\n",
       "    <tr>\n",
       "      <th>4641648</th>\n",
       "      <td>4641649</td>\n",
       "      <td>4641650</td>\n",
       "      <td>-3.67</td>\n",
       "    </tr>\n",
       "  </tbody>\n",
       "</table>\n",
       "<p>4641649 rows × 3 columns</p>\n",
       "</div>"
      ],
      "text/plain": [
       "           start      end  Roll\n",
       "0              1        2 -4.35\n",
       "1              2        3 -3.60\n",
       "2              3        4 -5.77\n",
       "3              4        5 -4.28\n",
       "4              5        6 -2.65\n",
       "...          ...      ...   ...\n",
       "4641644  4641645  4641646 -5.34\n",
       "4641645  4641646  4641647 -4.52\n",
       "4641646  4641647  4641648 -4.33\n",
       "4641647  4641648  4641649 -4.69\n",
       "4641648  4641649  4641650 -3.67\n",
       "\n",
       "[4641649 rows x 3 columns]"
      ]
     },
     "execution_count": 34,
     "metadata": {},
     "output_type": "execute_result"
    }
   ],
   "source": [
    "roll = pd.read_csv(Path('ecolik12-Roll.txt'), sep='\\t', skiprows=1, usecols=[1, 2, 3], names=['start', 'end', 'Roll'])\n",
    "roll"
   ]
  },
  {
   "cell_type": "markdown",
   "metadata": {},
   "source": [
    "Same as HelT, is based on 2 adjacent bases, and the first and last are omitted; same caveat re: name of index as HelT"
   ]
  },
  {
   "cell_type": "code",
   "execution_count": 41,
   "metadata": {},
   "outputs": [
    {
     "data": {
      "text/plain": [
       "base\n",
       "2         -4.35\n",
       "3         -3.60\n",
       "4         -5.77\n",
       "5         -4.28\n",
       "6         -2.65\n",
       "           ... \n",
       "4641646   -5.34\n",
       "4641647   -4.52\n",
       "4641648   -4.33\n",
       "4641649   -4.69\n",
       "4641650   -3.67\n",
       "Name: Roll, Length: 4641649, dtype: float64"
      ]
     },
     "execution_count": 41,
     "metadata": {},
     "output_type": "execute_result"
    }
   ],
   "source": [
    "roll_series = roll.drop(columns='start').rename(columns={'end': 'base'}).set_index('base').squeeze()\n",
    "roll_series"
   ]
  },
  {
   "cell_type": "markdown",
   "metadata": {},
   "source": [
    "We also want this to just be associated with each base; average between the two flanking values to get this:"
   ]
  },
  {
   "cell_type": "code",
   "execution_count": 48,
   "metadata": {},
   "outputs": [
    {
     "data": {
      "text/plain": [
       "base\n",
       "3         -3.975\n",
       "4         -4.685\n",
       "5         -5.025\n",
       "6         -3.465\n",
       "7         -1.190\n",
       "           ...  \n",
       "4641646    0.445\n",
       "4641647   -4.930\n",
       "4641648   -4.425\n",
       "4641649   -4.510\n",
       "4641650   -4.180\n",
       "Name: Roll, Length: 4641648, dtype: float64"
      ]
     },
     "execution_count": 48,
     "metadata": {},
     "output_type": "execute_result"
    }
   ],
   "source": [
    "roll_series_interp = pd.Series(\n",
    "    (roll_series.iloc[:-1].values + roll_series.iloc[1:].values) / 2,\n",
    "    index=roll_series.index[1:]\n",
    ").rename('Roll')\n",
    "roll_series_interp"
   ]
  },
  {
   "cell_type": "markdown",
   "metadata": {},
   "source": [
    "## Write to H5"
   ]
  },
  {
   "cell_type": "code",
   "execution_count": 50,
   "metadata": {},
   "outputs": [],
   "source": [
    "keys = ['MGW', 'ORChLD2', 'HelT', 'ProT', 'Roll']\n",
    "series = [mgw_series, orchid2_series, helt_series_interp, prot_series, roll_series_interp]\n",
    "\n",
    "for key, series in zip(keys, series):\n",
    "    series.to_hdf(f'~/Projects/bitome-kb/data/shape/{key}.h5', key, format='table', complevel=9)"
   ]
  },
  {
   "cell_type": "code",
   "execution_count": 51,
   "metadata": {},
   "outputs": [
    {
     "ename": "FileNotFoundError",
     "evalue": "File shape_HelT.h5 does not exist",
     "output_type": "error",
     "traceback": [
      "\u001b[0;31m---------------------------------------------------------------------------\u001b[0m",
      "\u001b[0;31mFileNotFoundError\u001b[0m                         Traceback (most recent call last)",
      "\u001b[0;32m<ipython-input-51-bcf4946a3f00>\u001b[0m in \u001b[0;36m<module>\u001b[0;34m\u001b[0m\n\u001b[0;32m----> 1\u001b[0;31m \u001b[0mhelt_test\u001b[0m \u001b[0;34m=\u001b[0m \u001b[0mpd\u001b[0m\u001b[0;34m.\u001b[0m\u001b[0mread_hdf\u001b[0m\u001b[0;34m(\u001b[0m\u001b[0;34m'shape_HelT.h5'\u001b[0m\u001b[0;34m)\u001b[0m\u001b[0;34m\u001b[0m\u001b[0;34m\u001b[0m\u001b[0m\n\u001b[0m\u001b[1;32m      2\u001b[0m \u001b[0mhelt_test\u001b[0m\u001b[0;34m\u001b[0m\u001b[0;34m\u001b[0m\u001b[0m\n",
      "\u001b[0;32m~/.virtualenvs/strainware-s/lib/python3.7/site-packages/pandas/io/pytables.py\u001b[0m in \u001b[0;36mread_hdf\u001b[0;34m(path_or_buf, key, mode, errors, where, start, stop, columns, iterator, chunksize, **kwargs)\u001b[0m\n\u001b[1;32m    393\u001b[0m \u001b[0;34m\u001b[0m\u001b[0m\n\u001b[1;32m    394\u001b[0m         \u001b[0;32mif\u001b[0m \u001b[0;32mnot\u001b[0m \u001b[0mexists\u001b[0m\u001b[0;34m:\u001b[0m\u001b[0;34m\u001b[0m\u001b[0;34m\u001b[0m\u001b[0m\n\u001b[0;32m--> 395\u001b[0;31m             \u001b[0;32mraise\u001b[0m \u001b[0mFileNotFoundError\u001b[0m\u001b[0;34m(\u001b[0m\u001b[0;34mf\"File {path_or_buf} does not exist\"\u001b[0m\u001b[0;34m)\u001b[0m\u001b[0;34m\u001b[0m\u001b[0;34m\u001b[0m\u001b[0m\n\u001b[0m\u001b[1;32m    396\u001b[0m \u001b[0;34m\u001b[0m\u001b[0m\n\u001b[1;32m    397\u001b[0m         \u001b[0mstore\u001b[0m \u001b[0;34m=\u001b[0m \u001b[0mHDFStore\u001b[0m\u001b[0;34m(\u001b[0m\u001b[0mpath_or_buf\u001b[0m\u001b[0;34m,\u001b[0m \u001b[0mmode\u001b[0m\u001b[0;34m=\u001b[0m\u001b[0mmode\u001b[0m\u001b[0;34m,\u001b[0m \u001b[0merrors\u001b[0m\u001b[0;34m=\u001b[0m\u001b[0merrors\u001b[0m\u001b[0;34m,\u001b[0m \u001b[0;34m**\u001b[0m\u001b[0mkwargs\u001b[0m\u001b[0;34m)\u001b[0m\u001b[0;34m\u001b[0m\u001b[0;34m\u001b[0m\u001b[0m\n",
      "\u001b[0;31mFileNotFoundError\u001b[0m: File shape_HelT.h5 does not exist"
     ]
    }
   ],
   "source": [
    "helt_test = pd.read_hdf('shape_HelT.h5')\n",
    "helt_test"
   ]
  },
  {
   "cell_type": "code",
   "execution_count": null,
   "metadata": {},
   "outputs": [],
   "source": []
  }
 ],
 "metadata": {
  "kernelspec": {
   "display_name": "Python 3",
   "language": "python",
   "name": "python3"
  },
  "language_info": {
   "codemirror_mode": {
    "name": "ipython",
    "version": 3
   },
   "file_extension": ".py",
   "mimetype": "text/x-python",
   "name": "python",
   "nbconvert_exporter": "python",
   "pygments_lexer": "ipython3",
   "version": "3.7.7"
  }
 },
 "nbformat": 4,
 "nbformat_minor": 4
}
