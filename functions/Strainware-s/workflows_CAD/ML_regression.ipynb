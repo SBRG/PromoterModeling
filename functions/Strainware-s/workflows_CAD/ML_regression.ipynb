{
 "cells": [
  {
   "cell_type": "code",
   "execution_count": 1,
   "metadata": {},
   "outputs": [],
   "source": [
    "from pathlib import Path\n",
    "import sys\n",
    "sys.path.append('../bitome-kb/')\n",
    "\n",
    "import matplotlib.pyplot as plt\n",
    "import numpy as np\n",
    "import pandas as pd\n",
    "import scipy.sparse as sparse\n",
    "import seaborn as sns\n",
    "\n",
    "from sklearn.ensemble import RandomForestRegressor\n",
    "from sklearn.linear_model import ElasticNet\n",
    "from sklearn.svm import SVR\n",
    "\n",
    "    \n",
    "from sklearn.model_selection import cross_validate, RandomizedSearchCV\n",
    "from sklearn.preprocessing import StandardScaler\n",
    "from sklearn.utils.class_weight import compute_class_weight\n",
    "from bitome.core import Bitome\n",
    "from math import log,exp,inf\n",
    "bitome = Bitome.init_from_file('bitome.pkl')"
   ]
  },
  {
   "cell_type": "markdown",
   "metadata": {},
   "source": [
    "# try zeroing out all values under cutoff values.\n",
    "## cutoff = 0.065"
   ]
  },
  {
   "cell_type": "code",
   "execution_count": 2,
   "metadata": {},
   "outputs": [],
   "source": [
    "features = pd.read_csv('features_multiAvg.csv')\n",
    "S = pd.read_csv('data/S.csv')\n",
    "ID = list(features['ID'])"
   ]
  },
  {
   "cell_type": "code",
   "execution_count": 3,
   "metadata": {},
   "outputs": [],
   "source": [
    "bnumber = list(S['Unnamed: 0'])\n",
    "imodulons = list(S.columns[1:])\n",
    "\n",
    "S_dict={}\n",
    "for r in imodulons:\n",
    "    S_dict[r]=[]\n",
    "    for i in range(len(features['ID'])):\n",
    "        if ID[i] not in bnumber:\n",
    "            S_dict[r].append(None)\n",
    "        else:\n",
    "            x = bnumber.index( ID[i])\n",
    "            y = imodulons.index( r ) + 1\n",
    "            S_dict[r].append( S.iloc[x,y] )"
   ]
  },
  {
   "cell_type": "code",
   "execution_count": 4,
   "metadata": {},
   "outputs": [
    {
     "data": {
      "text/html": [
       "<div>\n",
       "<style scoped>\n",
       "    .dataframe tbody tr th:only-of-type {\n",
       "        vertical-align: middle;\n",
       "    }\n",
       "\n",
       "    .dataframe tbody tr th {\n",
       "        vertical-align: top;\n",
       "    }\n",
       "\n",
       "    .dataframe thead th {\n",
       "        text-align: right;\n",
       "    }\n",
       "</style>\n",
       "<table border=\"1\" class=\"dataframe\">\n",
       "  <thead>\n",
       "    <tr style=\"text-align: right;\">\n",
       "      <th></th>\n",
       "      <th>AllR/AraC/FucR</th>\n",
       "      <th>ArcA-1</th>\n",
       "      <th>ArcA-2</th>\n",
       "      <th>ArgR</th>\n",
       "      <th>AtoC</th>\n",
       "      <th>BW25113</th>\n",
       "      <th>Cbl+CysB</th>\n",
       "      <th>CdaR</th>\n",
       "      <th>CecR</th>\n",
       "      <th>Copper</th>\n",
       "      <th>...</th>\n",
       "      <th>thrA-KO</th>\n",
       "      <th>translation</th>\n",
       "      <th>uncharacterized-1</th>\n",
       "      <th>uncharacterized-2</th>\n",
       "      <th>uncharacterized-3</th>\n",
       "      <th>uncharacterized-4</th>\n",
       "      <th>uncharacterized-5</th>\n",
       "      <th>uncharacterized-6</th>\n",
       "      <th>ydcI-KO</th>\n",
       "      <th>yheO-KO</th>\n",
       "    </tr>\n",
       "  </thead>\n",
       "  <tbody>\n",
       "    <tr>\n",
       "      <th>0</th>\n",
       "      <td>-0.010888</td>\n",
       "      <td>-0.007717</td>\n",
       "      <td>-0.008502</td>\n",
       "      <td>-0.012186</td>\n",
       "      <td>-0.061489</td>\n",
       "      <td>-0.005599</td>\n",
       "      <td>-0.007377</td>\n",
       "      <td>-0.000795</td>\n",
       "      <td>0.004331</td>\n",
       "      <td>0.001845</td>\n",
       "      <td>...</td>\n",
       "      <td>0.479209</td>\n",
       "      <td>0.035685</td>\n",
       "      <td>0.024778</td>\n",
       "      <td>-0.010660</td>\n",
       "      <td>-0.002123</td>\n",
       "      <td>-0.004416</td>\n",
       "      <td>-0.005428</td>\n",
       "      <td>-0.009219</td>\n",
       "      <td>-0.004345</td>\n",
       "      <td>-0.007838</td>\n",
       "    </tr>\n",
       "    <tr>\n",
       "      <th>1</th>\n",
       "      <td>-0.011467</td>\n",
       "      <td>0.003042</td>\n",
       "      <td>0.011448</td>\n",
       "      <td>-0.003685</td>\n",
       "      <td>-0.006106</td>\n",
       "      <td>0.006680</td>\n",
       "      <td>-0.043512</td>\n",
       "      <td>0.005107</td>\n",
       "      <td>0.000474</td>\n",
       "      <td>0.007650</td>\n",
       "      <td>...</td>\n",
       "      <td>0.011420</td>\n",
       "      <td>0.040811</td>\n",
       "      <td>0.003324</td>\n",
       "      <td>-0.008424</td>\n",
       "      <td>-0.004415</td>\n",
       "      <td>-0.016126</td>\n",
       "      <td>-0.016476</td>\n",
       "      <td>-0.003497</td>\n",
       "      <td>-0.003583</td>\n",
       "      <td>0.003381</td>\n",
       "    </tr>\n",
       "    <tr>\n",
       "      <th>2</th>\n",
       "      <td>-0.008693</td>\n",
       "      <td>0.003944</td>\n",
       "      <td>0.012347</td>\n",
       "      <td>-0.008104</td>\n",
       "      <td>0.000585</td>\n",
       "      <td>0.003245</td>\n",
       "      <td>-0.041283</td>\n",
       "      <td>0.006390</td>\n",
       "      <td>0.004260</td>\n",
       "      <td>0.007109</td>\n",
       "      <td>...</td>\n",
       "      <td>0.011339</td>\n",
       "      <td>0.036244</td>\n",
       "      <td>0.003710</td>\n",
       "      <td>-0.005212</td>\n",
       "      <td>0.000700</td>\n",
       "      <td>-0.011096</td>\n",
       "      <td>-0.006140</td>\n",
       "      <td>-0.003155</td>\n",
       "      <td>-0.008418</td>\n",
       "      <td>0.000129</td>\n",
       "    </tr>\n",
       "    <tr>\n",
       "      <th>3</th>\n",
       "      <td>0.001805</td>\n",
       "      <td>0.004035</td>\n",
       "      <td>-0.003115</td>\n",
       "      <td>-0.008237</td>\n",
       "      <td>-0.004015</td>\n",
       "      <td>0.002857</td>\n",
       "      <td>-0.010257</td>\n",
       "      <td>0.002438</td>\n",
       "      <td>-0.002663</td>\n",
       "      <td>0.003988</td>\n",
       "      <td>...</td>\n",
       "      <td>0.011253</td>\n",
       "      <td>0.012013</td>\n",
       "      <td>0.005996</td>\n",
       "      <td>-0.002813</td>\n",
       "      <td>-0.012959</td>\n",
       "      <td>-0.005412</td>\n",
       "      <td>-0.012124</td>\n",
       "      <td>-0.005203</td>\n",
       "      <td>0.001696</td>\n",
       "      <td>-0.002487</td>\n",
       "    </tr>\n",
       "    <tr>\n",
       "      <th>4</th>\n",
       "      <td>0.000832</td>\n",
       "      <td>0.003892</td>\n",
       "      <td>0.003911</td>\n",
       "      <td>-0.004145</td>\n",
       "      <td>-0.009006</td>\n",
       "      <td>0.004765</td>\n",
       "      <td>-0.010501</td>\n",
       "      <td>-0.003789</td>\n",
       "      <td>-0.003763</td>\n",
       "      <td>-0.000172</td>\n",
       "      <td>...</td>\n",
       "      <td>0.002125</td>\n",
       "      <td>0.002445</td>\n",
       "      <td>-0.000679</td>\n",
       "      <td>-0.006768</td>\n",
       "      <td>-0.000475</td>\n",
       "      <td>0.003448</td>\n",
       "      <td>0.002953</td>\n",
       "      <td>-0.006742</td>\n",
       "      <td>0.001252</td>\n",
       "      <td>0.001143</td>\n",
       "    </tr>\n",
       "  </tbody>\n",
       "</table>\n",
       "<p>5 rows × 92 columns</p>\n",
       "</div>"
      ],
      "text/plain": [
       "   AllR/AraC/FucR    ArcA-1    ArcA-2      ArgR      AtoC   BW25113  Cbl+CysB  \\\n",
       "0       -0.010888 -0.007717 -0.008502 -0.012186 -0.061489 -0.005599 -0.007377   \n",
       "1       -0.011467  0.003042  0.011448 -0.003685 -0.006106  0.006680 -0.043512   \n",
       "2       -0.008693  0.003944  0.012347 -0.008104  0.000585  0.003245 -0.041283   \n",
       "3        0.001805  0.004035 -0.003115 -0.008237 -0.004015  0.002857 -0.010257   \n",
       "4        0.000832  0.003892  0.003911 -0.004145 -0.009006  0.004765 -0.010501   \n",
       "\n",
       "       CdaR      CecR    Copper  ...   thrA-KO  translation  \\\n",
       "0 -0.000795  0.004331  0.001845  ...  0.479209     0.035685   \n",
       "1  0.005107  0.000474  0.007650  ...  0.011420     0.040811   \n",
       "2  0.006390  0.004260  0.007109  ...  0.011339     0.036244   \n",
       "3  0.002438 -0.002663  0.003988  ...  0.011253     0.012013   \n",
       "4 -0.003789 -0.003763 -0.000172  ...  0.002125     0.002445   \n",
       "\n",
       "   uncharacterized-1  uncharacterized-2  uncharacterized-3  uncharacterized-4  \\\n",
       "0           0.024778          -0.010660          -0.002123          -0.004416   \n",
       "1           0.003324          -0.008424          -0.004415          -0.016126   \n",
       "2           0.003710          -0.005212           0.000700          -0.011096   \n",
       "3           0.005996          -0.002813          -0.012959          -0.005412   \n",
       "4          -0.000679          -0.006768          -0.000475           0.003448   \n",
       "\n",
       "   uncharacterized-5  uncharacterized-6   ydcI-KO   yheO-KO  \n",
       "0          -0.005428          -0.009219 -0.004345 -0.007838  \n",
       "1          -0.016476          -0.003497 -0.003583  0.003381  \n",
       "2          -0.006140          -0.003155 -0.008418  0.000129  \n",
       "3          -0.012124          -0.005203  0.001696 -0.002487  \n",
       "4           0.002953          -0.006742  0.001252  0.001143  \n",
       "\n",
       "[5 rows x 92 columns]"
      ]
     },
     "execution_count": 4,
     "metadata": {},
     "output_type": "execute_result"
    }
   ],
   "source": [
    "S_ex = pd.DataFrame(S_dict)\n",
    "S_ex = S_ex[ imodulons ]\n",
    "S_ex.head()"
   ]
  },
  {
   "cell_type": "code",
   "execution_count": 5,
   "metadata": {},
   "outputs": [],
   "source": [
    "S_features = pd.concat([features, S_ex], axis=1)\n",
    "S_features = S_features.dropna()\n",
    "S_features = S_features.reset_index()\n",
    "S_features = S_features.drop(columns=['index'])"
   ]
  },
  {
   "cell_type": "code",
   "execution_count": 8,
   "metadata": {},
   "outputs": [],
   "source": [
    "X = S_features.iloc[:,1:303].values\n",
    "X = StandardScaler().fit_transform(X)\n",
    "targets = {}\n",
    "for r in imodulons:\n",
    "    temp = list(S_features[r].values)\n",
    "    targets[r] = []\n",
    "    for i in range (len(temp)):\n",
    "        if temp[i] >= 0.065 or temp[i] <= -0.065:\n",
    "            targets[r].append( temp[i] )\n",
    "        else:\n",
    "            targets[r].append(0)"
   ]
  },
  {
   "cell_type": "code",
   "execution_count": 9,
   "metadata": {},
   "outputs": [
    {
     "data": {
      "text/plain": [
       "dict_keys(['AllR/AraC/FucR', 'ArcA-1', 'ArcA-2', 'ArgR', 'AtoC', 'BW25113', 'Cbl+CysB', 'CdaR', 'CecR', 'Copper', 'CpxR', 'Cra', 'Crp-1', 'Crp-2', 'CsqR', 'CysB', 'DhaR/Mlc', 'EvgA', 'ExuR/FucR', 'FadR', 'FecI', 'FlhDC', 'FliA', 'Fnr', 'Fur-1', 'Fur-2', 'GadEWX', 'GadWX', 'GcvA', 'GlcC', 'GlpR', 'GntR/TyrR', 'His-tRNA', 'Leu/Ile', 'Lrp', 'MalT', 'MetJ', 'Nac', 'NagC/TyrR', 'NarL', 'NikR', 'NtrC+RpoN', 'OxyR', 'PrpR', 'PurR-1', 'PurR-2', 'PuuR', 'Pyruvate', 'RbsR', 'RcsAB', 'RpoH', 'RpoS', 'SoxS', 'SrlR+GutM', 'Thiamine', 'Tryptophan', 'XylR', 'YgbI', 'YiaJ', 'YieP', 'YneJ', 'Zinc', 'crp-KO', 'curli', 'deletion-1', 'deletion-2', 'duplication-1', 'e14-deletion', 'efeU-repair', 'entC-menF-KO', 'fimbriae', 'flu-yeeRS', 'fur-KO', 'gadWX-KO', 'insertion', 'iron-related', 'lipopolysaccharide', 'membrane', 'nitrate-related', 'proVWX', 'purR-KO', 'sgrT', 'thrA-KO', 'translation', 'uncharacterized-1', 'uncharacterized-2', 'uncharacterized-3', 'uncharacterized-4', 'uncharacterized-5', 'uncharacterized-6', 'ydcI-KO', 'yheO-KO'])"
      ]
     },
     "execution_count": 9,
     "metadata": {},
     "output_type": "execute_result"
    }
   ],
   "source": [
    "targets.keys()"
   ]
  },
  {
   "cell_type": "markdown",
   "metadata": {},
   "source": [
    "# define models to try"
   ]
  },
  {
   "cell_type": "code",
   "execution_count": 10,
   "metadata": {},
   "outputs": [],
   "source": [
    "y_to_try = {\n",
    "    'AllR/AraC/FucR':targets['AllR/AraC/FucR'],\n",
    "    'ArcA-1':targets['ArcA-1'],\n",
    "    'ArcA-2':targets['ArcA-2'],\n",
    "    'ArgR':targets['ArgR'],\n",
    "    'Crp-1':targets['Crp-1'],\n",
    "    'Crp-2':targets['Crp-2'],\n",
    "    'DhaR/Mlc':targets['DhaR/Mlc'],\n",
    "    'CysB': targets['CysB']  \n",
    "}"
   ]
  },
  {
   "cell_type": "code",
   "execution_count": 11,
   "metadata": {},
   "outputs": [],
   "source": [
    "models_to_try = {\n",
    "    'RFR':RandomForestRegressor( random_state=42),\n",
    "    'ElasticNet':ElasticNet(alpha=1,l1_ratio=0.5,\n",
    "            max_iter=1000, random_state=42,selection='cyclic'),\n",
    "    'SVR': SVR(kernel='rbf',degree=3, C=1.0, epsilon=0.1)\n",
    "}"
   ]
  },
  {
   "cell_type": "code",
   "execution_count": 12,
   "metadata": {},
   "outputs": [
    {
     "name": "stdout",
     "output_type": "stream",
     "text": [
      "RFR\n",
      "RFR: AllR/AraC/FucR\n"
     ]
    },
    {
     "name": "stderr",
     "output_type": "stream",
     "text": [
      "[Parallel(n_jobs=4)]: Using backend LokyBackend with 4 concurrent workers.\n",
      "[Parallel(n_jobs=4)]: Done   5 out of   5 | elapsed:   25.1s finished\n",
      "[Parallel(n_jobs=4)]: Using backend LokyBackend with 4 concurrent workers.\n"
     ]
    },
    {
     "name": "stdout",
     "output_type": "stream",
     "text": [
      "RFR: ArcA-1\n"
     ]
    },
    {
     "name": "stderr",
     "output_type": "stream",
     "text": [
      "[Parallel(n_jobs=4)]: Done   5 out of   5 | elapsed:   44.6s finished\n",
      "[Parallel(n_jobs=4)]: Using backend LokyBackend with 4 concurrent workers.\n"
     ]
    },
    {
     "name": "stdout",
     "output_type": "stream",
     "text": [
      "RFR: ArcA-2\n"
     ]
    },
    {
     "name": "stderr",
     "output_type": "stream",
     "text": [
      "[Parallel(n_jobs=4)]: Done   5 out of   5 | elapsed:   38.8s finished\n",
      "[Parallel(n_jobs=4)]: Using backend LokyBackend with 4 concurrent workers.\n"
     ]
    },
    {
     "name": "stdout",
     "output_type": "stream",
     "text": [
      "RFR: ArgR\n"
     ]
    },
    {
     "name": "stderr",
     "output_type": "stream",
     "text": [
      "[Parallel(n_jobs=4)]: Done   5 out of   5 | elapsed:   16.8s finished\n",
      "[Parallel(n_jobs=4)]: Using backend LokyBackend with 4 concurrent workers.\n"
     ]
    },
    {
     "name": "stdout",
     "output_type": "stream",
     "text": [
      "RFR: Crp-1\n"
     ]
    },
    {
     "name": "stderr",
     "output_type": "stream",
     "text": [
      "[Parallel(n_jobs=4)]: Done   5 out of   5 | elapsed:   30.4s finished\n",
      "[Parallel(n_jobs=4)]: Using backend LokyBackend with 4 concurrent workers.\n"
     ]
    },
    {
     "name": "stdout",
     "output_type": "stream",
     "text": [
      "RFR: Crp-2\n"
     ]
    },
    {
     "name": "stderr",
     "output_type": "stream",
     "text": [
      "[Parallel(n_jobs=4)]: Done   5 out of   5 | elapsed:   13.8s finished\n",
      "[Parallel(n_jobs=4)]: Using backend LokyBackend with 4 concurrent workers.\n"
     ]
    },
    {
     "name": "stdout",
     "output_type": "stream",
     "text": [
      "RFR: DhaR/Mlc\n"
     ]
    },
    {
     "name": "stderr",
     "output_type": "stream",
     "text": [
      "[Parallel(n_jobs=4)]: Done   5 out of   5 | elapsed:   22.2s finished\n",
      "[Parallel(n_jobs=4)]: Using backend LokyBackend with 4 concurrent workers.\n"
     ]
    },
    {
     "name": "stdout",
     "output_type": "stream",
     "text": [
      "RFR: CysB\n"
     ]
    },
    {
     "name": "stderr",
     "output_type": "stream",
     "text": [
      "[Parallel(n_jobs=4)]: Done   5 out of   5 | elapsed:   20.6s finished\n",
      "[Parallel(n_jobs=4)]: Using backend LokyBackend with 4 concurrent workers.\n",
      "[Parallel(n_jobs=4)]: Done   5 out of   5 | elapsed:    0.1s finished\n",
      "[Parallel(n_jobs=4)]: Using backend LokyBackend with 4 concurrent workers.\n",
      "[Parallel(n_jobs=4)]: Done   5 out of   5 | elapsed:    0.1s finished\n"
     ]
    },
    {
     "name": "stdout",
     "output_type": "stream",
     "text": [
      "ElasticNet\n",
      "ElasticNet: AllR/AraC/FucR\n",
      "ElasticNet: ArcA-1\n",
      "ElasticNet: ArcA-2\n"
     ]
    },
    {
     "name": "stderr",
     "output_type": "stream",
     "text": [
      "[Parallel(n_jobs=4)]: Using backend LokyBackend with 4 concurrent workers.\n",
      "[Parallel(n_jobs=4)]: Done   5 out of   5 | elapsed:    0.1s finished\n",
      "[Parallel(n_jobs=4)]: Using backend LokyBackend with 4 concurrent workers.\n",
      "[Parallel(n_jobs=4)]: Done   5 out of   5 | elapsed:    0.1s finished\n",
      "[Parallel(n_jobs=4)]: Using backend LokyBackend with 4 concurrent workers.\n"
     ]
    },
    {
     "name": "stdout",
     "output_type": "stream",
     "text": [
      "ElasticNet: ArgR\n",
      "ElasticNet: Crp-1\n",
      "ElasticNet: Crp-2\n"
     ]
    },
    {
     "name": "stderr",
     "output_type": "stream",
     "text": [
      "[Parallel(n_jobs=4)]: Done   5 out of   5 | elapsed:    0.1s finished\n",
      "[Parallel(n_jobs=4)]: Using backend LokyBackend with 4 concurrent workers.\n",
      "[Parallel(n_jobs=4)]: Done   5 out of   5 | elapsed:    0.1s finished\n",
      "[Parallel(n_jobs=4)]: Using backend LokyBackend with 4 concurrent workers.\n",
      "[Parallel(n_jobs=4)]: Done   5 out of   5 | elapsed:    0.1s finished\n",
      "[Parallel(n_jobs=4)]: Using backend LokyBackend with 4 concurrent workers.\n"
     ]
    },
    {
     "name": "stdout",
     "output_type": "stream",
     "text": [
      "ElasticNet: DhaR/Mlc\n",
      "ElasticNet: CysB\n",
      "SVR\n",
      "SVR: AllR/AraC/FucR\n"
     ]
    },
    {
     "name": "stderr",
     "output_type": "stream",
     "text": [
      "[Parallel(n_jobs=4)]: Done   5 out of   5 | elapsed:    0.1s finished\n",
      "[Parallel(n_jobs=4)]: Using backend LokyBackend with 4 concurrent workers.\n",
      "[Parallel(n_jobs=4)]: Done   5 out of   5 | elapsed:    0.2s finished\n",
      "[Parallel(n_jobs=4)]: Using backend LokyBackend with 4 concurrent workers.\n"
     ]
    },
    {
     "name": "stdout",
     "output_type": "stream",
     "text": [
      "SVR: ArcA-1\n",
      "SVR: ArcA-2\n"
     ]
    },
    {
     "name": "stderr",
     "output_type": "stream",
     "text": [
      "[Parallel(n_jobs=4)]: Done   5 out of   5 | elapsed:    0.1s finished\n",
      "[Parallel(n_jobs=4)]: Using backend LokyBackend with 4 concurrent workers.\n",
      "[Parallel(n_jobs=4)]: Done   5 out of   5 | elapsed:    0.1s finished\n",
      "[Parallel(n_jobs=4)]: Using backend LokyBackend with 4 concurrent workers.\n"
     ]
    },
    {
     "name": "stdout",
     "output_type": "stream",
     "text": [
      "SVR: ArgR\n"
     ]
    },
    {
     "name": "stderr",
     "output_type": "stream",
     "text": [
      "[Parallel(n_jobs=4)]: Done   5 out of   5 | elapsed:    0.3s finished\n",
      "[Parallel(n_jobs=4)]: Using backend LokyBackend with 4 concurrent workers.\n",
      "[Parallel(n_jobs=4)]: Done   5 out of   5 | elapsed:    0.0s finished\n",
      "[Parallel(n_jobs=4)]: Using backend LokyBackend with 4 concurrent workers.\n",
      "[Parallel(n_jobs=4)]: Done   5 out of   5 | elapsed:    0.1s finished\n",
      "[Parallel(n_jobs=4)]: Using backend LokyBackend with 4 concurrent workers.\n"
     ]
    },
    {
     "name": "stdout",
     "output_type": "stream",
     "text": [
      "SVR: Crp-1\n",
      "SVR: Crp-2\n",
      "SVR: DhaR/Mlc\n"
     ]
    },
    {
     "name": "stderr",
     "output_type": "stream",
     "text": [
      "[Parallel(n_jobs=4)]: Done   5 out of   5 | elapsed:    0.1s finished\n",
      "[Parallel(n_jobs=4)]: Using backend LokyBackend with 4 concurrent workers.\n"
     ]
    },
    {
     "name": "stdout",
     "output_type": "stream",
     "text": [
      "SVR: CysB\n"
     ]
    },
    {
     "name": "stderr",
     "output_type": "stream",
     "text": [
      "[Parallel(n_jobs=4)]: Done   5 out of   5 | elapsed:    0.3s finished\n"
     ]
    }
   ],
   "source": [
    "result_df = pd.DataFrame(\n",
    "    columns=['model', 'im', 'train_r2', 'test_r2']\n",
    ")\n",
    "\n",
    "N_CV = 5\n",
    "\n",
    "for model_name, model in models_to_try.items():\n",
    "    print(f'{model_name}')\n",
    "    \n",
    "    for y_name, y_labels in y_to_try.items():\n",
    "        print(f'{model_name}: {y_name}')\n",
    "        \n",
    "        cv_result = cross_validate(\n",
    "            model,\n",
    "            X,\n",
    "            y= y_labels,\n",
    "            cv=N_CV,\n",
    "            scoring='r2',\n",
    "            return_train_score=True,\n",
    "            verbose=1,\n",
    "            n_jobs=4\n",
    "        )\n",
    "\n",
    "        sub_result_df = pd.DataFrame(\n",
    "            data={\n",
    "                'model': [model_name] * N_CV,\n",
    "                'im': [y_name] * N_CV,\n",
    "                'train_r2': cv_result['train_score'],\n",
    "                'test_r2': cv_result['test_score']\n",
    "            }\n",
    "        )\n",
    "\n",
    "        result_df = result_df.append(sub_result_df)"
   ]
  },
  {
   "cell_type": "code",
   "execution_count": 13,
   "metadata": {},
   "outputs": [],
   "source": [
    "result_df.to_csv('data/regression_model_selection.csv')"
   ]
  },
  {
   "cell_type": "code",
   "execution_count": 14,
   "metadata": {},
   "outputs": [
    {
     "data": {
      "text/plain": [
       "<matplotlib.axes._subplots.AxesSubplot at 0x7f079d446e80>"
      ]
     },
     "execution_count": 14,
     "metadata": {},
     "output_type": "execute_result"
    },
    {
     "name": "stderr",
     "output_type": "stream",
     "text": [
      "findfont: Font family ['sans-serif'] not found. Falling back to DejaVu Sans.\n"
     ]
    },
    {
     "data": {
      "image/png": "[encoded data removed]",
      "text/plain": [
       "<Figure size 432x288 with 1 Axes>"
      ]
     },
     "metadata": {
      "needs_background": "light"
     },
     "output_type": "display_data"
    }
   ],
   "source": [
    "result_df = pd.read_csv('data/regression_model_selection.csv')\n",
    "_, ax = plt.subplots()\n",
    "sns.swarmplot(x='model', y='train_r2', data=result_df, hue='im', dodge=True, ax=ax)"
   ]
  },
  {
   "cell_type": "code",
   "execution_count": 15,
   "metadata": {},
   "outputs": [
    {
     "data": {
      "text/plain": [
       "<matplotlib.legend.Legend at 0x7f079d15d310>"
      ]
     },
     "execution_count": 15,
     "metadata": {},
     "output_type": "execute_result"
    },
    {
     "data": {
      "image/png": "[encoded data removed]",
      "text/plain": [
       "<Figure size 432x288 with 1 Axes>"
      ]
     },
     "metadata": {
      "needs_background": "light"
     },
     "output_type": "display_data"
    }
   ],
   "source": [
    "_, ax = plt.subplots()\n",
    "sns.swarmplot(x='model', y='test_r2', data=result_df, hue='im', dodge=True, ax=ax)\n",
    "plt.legend(loc='right', bbox_to_anchor=(1.5, 0.5))"
   ]
  },
  {
   "cell_type": "markdown",
   "metadata": {},
   "source": [
    "# hyper param tunning"
   ]
  },
  {
   "cell_type": "code",
   "execution_count": 16,
   "metadata": {},
   "outputs": [],
   "source": [
    "hyperopt_models = {\n",
    "    'ElasticNet': {\n",
    "        'model':ElasticNet(alpha=1,l1_ratio=0.5,\n",
    "            max_iter=1000, random_state=42),\n",
    "        'param_dists': {\n",
    "            'l1_ratio': np.arange(0.0, 1, 20),\n",
    "             'alpha': [0.0001, 0.001, 0.01, 0.1, 1, 10, 100],\n",
    "             'selection':['cyclic', 'random'],\n",
    "            'max_iter':[10,100,1000]          \n",
    "        }\n",
    "    },\n",
    "    'SVR': {\n",
    "        'model': SVR(kernel='rbf',degree=3, C=1.0, epsilon=0.1),\n",
    "        'param_dists': {\n",
    "            'gamma': [1e-4, 1e-3, 0.01, 0.1, 0.2, 0.5, 0.6, 0.9],\n",
    "            'C': np.arange(0.01, 10, 0.05),\n",
    "        }\n",
    "    },\n",
    "    'RFR': {\n",
    "        'model': RandomForestRegressor( verbose=1,random_state=42),\n",
    "        'param_dists': {\n",
    "            'n_estimators': np.arange(50, 250, 10),\n",
    "            'max_depth': np.arange(3, 15),\n",
    "            'min_samples_split': np.arange(0.001, 0.02, 0.001),\n",
    "            'min_samples_leaf': np.arange(5, 15)\n",
    "        }\n",
    "    }\n",
    "}"
   ]
  },
  {
   "cell_type": "code",
   "execution_count": 17,
   "metadata": {},
   "outputs": [
    {
     "name": "stdout",
     "output_type": "stream",
     "text": [
      "AllR/AraC/FucR\n",
      "Fitting 5 folds for each of 25 candidates, totalling 125 fits\n"
     ]
    },
    {
     "name": "stderr",
     "output_type": "stream",
     "text": [
      "[Parallel(n_jobs=4)]: Using backend LokyBackend with 4 concurrent workers.\n",
      "[Parallel(n_jobs=4)]: Done  42 tasks      | elapsed:  3.4min\n",
      "[Parallel(n_jobs=4)]: Done 125 out of 125 | elapsed: 10.8min finished\n",
      "[Parallel(n_jobs=1)]: Using backend SequentialBackend with 1 concurrent workers.\n",
      "[Parallel(n_jobs=1)]: Done  90 out of  90 | elapsed:    8.3s finished\n",
      "[Parallel(n_jobs=4)]: Using backend LokyBackend with 4 concurrent workers.\n"
     ]
    },
    {
     "name": "stdout",
     "output_type": "stream",
     "text": [
      "ArcA-1\n",
      "Fitting 5 folds for each of 25 candidates, totalling 125 fits\n"
     ]
    },
    {
     "name": "stderr",
     "output_type": "stream",
     "text": [
      "[Parallel(n_jobs=4)]: Done  42 tasks      | elapsed:  6.0min\n",
      "[Parallel(n_jobs=4)]: Done 125 out of 125 | elapsed: 21.7min finished\n",
      "[Parallel(n_jobs=1)]: Using backend SequentialBackend with 1 concurrent workers.\n",
      "[Parallel(n_jobs=1)]: Done 120 out of 120 | elapsed:    7.5s finished\n",
      "[Parallel(n_jobs=4)]: Using backend LokyBackend with 4 concurrent workers.\n"
     ]
    },
    {
     "name": "stdout",
     "output_type": "stream",
     "text": [
      "ArcA-2\n",
      "Fitting 5 folds for each of 25 candidates, totalling 125 fits\n"
     ]
    },
    {
     "name": "stderr",
     "output_type": "stream",
     "text": [
      "[Parallel(n_jobs=4)]: Done  42 tasks      | elapsed:  4.6min\n",
      "[Parallel(n_jobs=4)]: Done 125 out of 125 | elapsed: 16.0min finished\n",
      "[Parallel(n_jobs=1)]: Using backend SequentialBackend with 1 concurrent workers.\n",
      "[Parallel(n_jobs=1)]: Done 230 out of 230 | elapsed:   15.7s finished\n",
      "[Parallel(n_jobs=4)]: Using backend LokyBackend with 4 concurrent workers.\n"
     ]
    },
    {
     "name": "stdout",
     "output_type": "stream",
     "text": [
      "ArgR\n",
      "Fitting 5 folds for each of 25 candidates, totalling 125 fits\n"
     ]
    },
    {
     "name": "stderr",
     "output_type": "stream",
     "text": [
      "[Parallel(n_jobs=4)]: Done  42 tasks      | elapsed:  3.6min\n",
      "[Parallel(n_jobs=4)]: Done 125 out of 125 | elapsed: 11.7min finished\n",
      "[Parallel(n_jobs=1)]: Using backend SequentialBackend with 1 concurrent workers.\n",
      "[Parallel(n_jobs=1)]: Done 200 out of 200 | elapsed:   18.2s finished\n",
      "[Parallel(n_jobs=4)]: Using backend LokyBackend with 4 concurrent workers.\n"
     ]
    },
    {
     "name": "stdout",
     "output_type": "stream",
     "text": [
      "Crp-1\n",
      "Fitting 5 folds for each of 25 candidates, totalling 125 fits\n"
     ]
    },
    {
     "name": "stderr",
     "output_type": "stream",
     "text": [
      "[Parallel(n_jobs=4)]: Done  42 tasks      | elapsed:  3.4min\n",
      "[Parallel(n_jobs=4)]: Done 125 out of 125 | elapsed: 12.5min finished\n",
      "[Parallel(n_jobs=1)]: Using backend SequentialBackend with 1 concurrent workers.\n",
      "[Parallel(n_jobs=1)]: Done 120 out of 120 | elapsed:    8.2s finished\n",
      "[Parallel(n_jobs=4)]: Using backend LokyBackend with 4 concurrent workers.\n"
     ]
    },
    {
     "name": "stdout",
     "output_type": "stream",
     "text": [
      "Crp-2\n",
      "Fitting 5 folds for each of 25 candidates, totalling 125 fits\n"
     ]
    },
    {
     "name": "stderr",
     "output_type": "stream",
     "text": [
      "[Parallel(n_jobs=4)]: Done  42 tasks      | elapsed:  3.7min\n",
      "[Parallel(n_jobs=4)]: Done 125 out of 125 | elapsed:  8.2min finished\n",
      "[Parallel(n_jobs=1)]: Using backend SequentialBackend with 1 concurrent workers.\n",
      "[Parallel(n_jobs=1)]: Done  50 out of  50 | elapsed:    3.8s finished\n",
      "[Parallel(n_jobs=4)]: Using backend LokyBackend with 4 concurrent workers.\n"
     ]
    },
    {
     "name": "stdout",
     "output_type": "stream",
     "text": [
      "DhaR/Mlc\n",
      "Fitting 5 folds for each of 25 candidates, totalling 125 fits\n"
     ]
    },
    {
     "name": "stderr",
     "output_type": "stream",
     "text": [
      "[Parallel(n_jobs=4)]: Done  42 tasks      | elapsed:  3.5min\n",
      "[Parallel(n_jobs=4)]: Done 125 out of 125 | elapsed: 10.5min finished\n",
      "[Parallel(n_jobs=1)]: Using backend SequentialBackend with 1 concurrent workers.\n",
      "[Parallel(n_jobs=1)]: Done 160 out of 160 | elapsed:   15.2s finished\n",
      "[Parallel(n_jobs=4)]: Using backend LokyBackend with 4 concurrent workers.\n"
     ]
    },
    {
     "name": "stdout",
     "output_type": "stream",
     "text": [
      "CysB\n",
      "Fitting 5 folds for each of 25 candidates, totalling 125 fits\n"
     ]
    },
    {
     "name": "stderr",
     "output_type": "stream",
     "text": [
      "[Parallel(n_jobs=4)]: Done  42 tasks      | elapsed:  3.6min\n",
      "[Parallel(n_jobs=4)]: Done 125 out of 125 | elapsed: 11.0min finished\n",
      "[Parallel(n_jobs=1)]: Using backend SequentialBackend with 1 concurrent workers.\n",
      "[Parallel(n_jobs=1)]: Done 170 out of 170 | elapsed:   16.4s finished\n"
     ]
    }
   ],
   "source": [
    "hyperopt_RFR = {}\n",
    "\n",
    "for y_name, y_labels in y_to_try.items():\n",
    "    print(y_name)\n",
    "\n",
    "    random_search_hyperopt = RandomizedSearchCV(\n",
    "        hyperopt_models['RFR']['model'],\n",
    "        hyperopt_models['RFR']['param_dists'],\n",
    "        n_iter=25,\n",
    "        scoring='r2',\n",
    "        n_jobs=4,\n",
    "        cv=5,\n",
    "        verbose=1,\n",
    "        return_train_score=True\n",
    "    )\n",
    "\n",
    "    random_search_hyperopt.fit(X,y_labels )\n",
    "    \n",
    "    hyperopt_results_df = pd.DataFrame(random_search_hyperopt.cv_results_).sort_values(\n",
    "        by='mean_test_score',\n",
    "        ascending=False\n",
    "    )\n",
    "    hyperopt_RFR[y_name] = hyperopt_results_df"
   ]
  },
  {
   "cell_type": "code",
   "execution_count": 18,
   "metadata": {},
   "outputs": [],
   "source": [
    "dfs_with_ims = []\n",
    "for y_name, hyperopt_df in hyperopt_RFR.items():\n",
    "    hyperopt_df['im'] = [y_name] * hyperopt_df.shape[0]\n",
    "    dfs_with_ims.append(hyperopt_df)\n",
    "    \n",
    "hyperopt_RFR_df = pd.concat(dfs_with_ims, axis=0, ignore_index=True)\n",
    "hyperopt_RFR_df.to_csv('data/hyperopt_RFR.csv')"
   ]
  },
  {
   "cell_type": "code",
   "execution_count": 19,
   "metadata": {},
   "outputs": [
    {
     "data": {
      "text/plain": [
       "Text(0.5, 1.0, 'RandomForest_Regression')"
      ]
     },
     "execution_count": 19,
     "metadata": {},
     "output_type": "execute_result"
    },
    {
     "name": "stderr",
     "output_type": "stream",
     "text": [
      "findfont: Font family ['sans-serif'] not found. Falling back to DejaVu Sans.\n"
     ]
    },
    {
     "data": {
      "image/png": "[encoded data removed]",
      "text/plain": [
       "<Figure size 576x288 with 1 Axes>"
      ]
     },
     "metadata": {
      "needs_background": "light"
     },
     "output_type": "display_data"
    }
   ],
   "source": [
    "hyperopt_result_df = pd.read_csv( 'data/hyperopt_RFR.csv' , index_col=0)\n",
    "plt.figure( figsize=(8,4))\n",
    "sns.swarmplot(x='im', y='mean_test_score', data=hyperopt_result_df)\n",
    "plt.ylabel('mean_test_r2')\n",
    "plt.title('RandomForest_Regression')"
   ]
  },
  {
   "cell_type": "code",
   "execution_count": 19,
   "metadata": {},
   "outputs": [
    {
     "name": "stdout",
     "output_type": "stream",
     "text": [
      "AllR/AraC/FucR\n",
      "Fitting 5 folds for each of 25 candidates, totalling 125 fits\n"
     ]
    },
    {
     "name": "stderr",
     "output_type": "stream",
     "text": [
      "[Parallel(n_jobs=4)]: Using backend LokyBackend with 4 concurrent workers.\n",
      "[Parallel(n_jobs=4)]: Done  54 tasks      | elapsed:    9.6s\n",
      "[Parallel(n_jobs=4)]: Done 125 out of 125 | elapsed:   16.8s finished\n",
      "/usr/local/lib/python3.8/dist-packages/sklearn/linear_model/_coordinate_descent.py:529: ConvergenceWarning: Objective did not converge. You might want to increase the number of iterations. Duality gap: 0.2808472212606948, tolerance: 5.6995345240050245e-05\n",
      "  model = cd_fast.enet_coordinate_descent(\n",
      "[Parallel(n_jobs=4)]: Using backend LokyBackend with 4 concurrent workers.\n"
     ]
    },
    {
     "name": "stdout",
     "output_type": "stream",
     "text": [
      "ArcA-1\n",
      "Fitting 5 folds for each of 25 candidates, totalling 125 fits\n"
     ]
    },
    {
     "name": "stderr",
     "output_type": "stream",
     "text": [
      "[Parallel(n_jobs=4)]: Done  58 tasks      | elapsed:   13.5s\n",
      "[Parallel(n_jobs=4)]: Done 125 out of 125 | elapsed:   26.5s finished\n",
      "/usr/local/lib/python3.8/dist-packages/sklearn/linear_model/_coordinate_descent.py:529: ConvergenceWarning: Objective did not converge. You might want to increase the number of iterations. Duality gap: 0.11980395185543433, tolerance: 2.430448136889806e-05\n",
      "  model = cd_fast.enet_coordinate_descent(\n",
      "[Parallel(n_jobs=4)]: Using backend LokyBackend with 4 concurrent workers.\n"
     ]
    },
    {
     "name": "stdout",
     "output_type": "stream",
     "text": [
      "ArcA-2\n",
      "Fitting 5 folds for each of 25 candidates, totalling 125 fits\n"
     ]
    },
    {
     "name": "stderr",
     "output_type": "stream",
     "text": [
      "[Parallel(n_jobs=4)]: Done  42 tasks      | elapsed:   15.4s\n",
      "[Parallel(n_jobs=4)]: Done 125 out of 125 | elapsed:   25.9s finished\n",
      "/usr/local/lib/python3.8/dist-packages/sklearn/linear_model/_coordinate_descent.py:529: ConvergenceWarning: Objective did not converge. You might want to increase the number of iterations. Duality gap: 0.16734497486198266, tolerance: 3.358175157298669e-05\n",
      "  model = cd_fast.enet_coordinate_descent(\n",
      "[Parallel(n_jobs=4)]: Using backend LokyBackend with 4 concurrent workers.\n"
     ]
    },
    {
     "name": "stdout",
     "output_type": "stream",
     "text": [
      "ArgR\n",
      "Fitting 5 folds for each of 25 candidates, totalling 125 fits\n"
     ]
    },
    {
     "name": "stderr",
     "output_type": "stream",
     "text": [
      "[Parallel(n_jobs=4)]: Done  42 tasks      | elapsed:    3.6s\n",
      "[Parallel(n_jobs=4)]: Done 125 out of 125 | elapsed:   18.6s finished\n",
      "/usr/local/lib/python3.8/dist-packages/sklearn/linear_model/_coordinate_descent.py:529: ConvergenceWarning: Objective did not converge. You might want to increase the number of iterations. Duality gap: 0.25171383608454234, tolerance: 5.1622970979601615e-05\n",
      "  model = cd_fast.enet_coordinate_descent(\n",
      "[Parallel(n_jobs=4)]: Using backend LokyBackend with 4 concurrent workers.\n"
     ]
    },
    {
     "name": "stdout",
     "output_type": "stream",
     "text": [
      "Crp-1\n",
      "Fitting 5 folds for each of 25 candidates, totalling 125 fits\n"
     ]
    },
    {
     "name": "stderr",
     "output_type": "stream",
     "text": [
      "[Parallel(n_jobs=4)]: Done  54 tasks      | elapsed:    6.3s\n",
      "[Parallel(n_jobs=4)]: Done 125 out of 125 | elapsed:   17.5s finished\n",
      "/usr/local/lib/python3.8/dist-packages/sklearn/linear_model/_coordinate_descent.py:529: ConvergenceWarning: Objective did not converge. You might want to increase the number of iterations. Duality gap: 0.07368920959913972, tolerance: 1.4756631717394612e-05\n",
      "  model = cd_fast.enet_coordinate_descent(\n",
      "[Parallel(n_jobs=4)]: Using backend LokyBackend with 4 concurrent workers.\n"
     ]
    },
    {
     "name": "stdout",
     "output_type": "stream",
     "text": [
      "Crp-2\n",
      "Fitting 5 folds for each of 25 candidates, totalling 125 fits\n"
     ]
    },
    {
     "name": "stderr",
     "output_type": "stream",
     "text": [
      "[Parallel(n_jobs=4)]: Done  42 tasks      | elapsed:    7.5s\n",
      "[Parallel(n_jobs=4)]: Done 125 out of 125 | elapsed:   18.7s finished\n",
      "/usr/local/lib/python3.8/dist-packages/sklearn/linear_model/_coordinate_descent.py:529: ConvergenceWarning: Objective did not converge. You might want to increase the number of iterations. Duality gap: 0.17411200496847515, tolerance: 3.497904866585616e-05\n",
      "  model = cd_fast.enet_coordinate_descent(\n",
      "[Parallel(n_jobs=4)]: Using backend LokyBackend with 4 concurrent workers.\n"
     ]
    },
    {
     "name": "stdout",
     "output_type": "stream",
     "text": [
      "DhaR/Mlc\n",
      "Fitting 5 folds for each of 25 candidates, totalling 125 fits\n"
     ]
    },
    {
     "name": "stderr",
     "output_type": "stream",
     "text": [
      "[Parallel(n_jobs=4)]: Done  66 tasks      | elapsed:    8.8s\n",
      "[Parallel(n_jobs=4)]: Done 125 out of 125 | elapsed:   16.7s finished\n",
      "/usr/local/lib/python3.8/dist-packages/sklearn/linear_model/_coordinate_descent.py:529: ConvergenceWarning: Objective did not converge. You might want to increase the number of iterations. Duality gap: 0.19596003991688452, tolerance: 3.928489644914378e-05\n",
      "  model = cd_fast.enet_coordinate_descent(\n",
      "[Parallel(n_jobs=4)]: Using backend LokyBackend with 4 concurrent workers.\n"
     ]
    },
    {
     "name": "stdout",
     "output_type": "stream",
     "text": [
      "CysB\n",
      "Fitting 5 folds for each of 25 candidates, totalling 125 fits\n"
     ]
    },
    {
     "name": "stderr",
     "output_type": "stream",
     "text": [
      "[Parallel(n_jobs=4)]: Done  73 tasks      | elapsed:    7.5s\n",
      "[Parallel(n_jobs=4)]: Done 125 out of 125 | elapsed:   18.4s finished\n",
      "/usr/local/lib/python3.8/dist-packages/sklearn/linear_model/_coordinate_descent.py:529: ConvergenceWarning: Objective did not converge. You might want to increase the number of iterations. Duality gap: 0.2875334061311481, tolerance: 5.765809526151326e-05\n",
      "  model = cd_fast.enet_coordinate_descent(\n"
     ]
    }
   ],
   "source": [
    "hyperopt_ElasticNet = {}\n",
    "\n",
    "for y_name, y_labels in y_to_try.items():\n",
    "    print(y_name)\n",
    "\n",
    "    random_search_hyperopt = RandomizedSearchCV(\n",
    "        hyperopt_models['ElasticNet']['model'],\n",
    "        hyperopt_models['ElasticNet']['param_dists'],\n",
    "        n_iter=25,\n",
    "        scoring='r2',\n",
    "        n_jobs=4,\n",
    "        cv=5,\n",
    "        verbose=1,\n",
    "        return_train_score=True\n",
    "    )\n",
    "\n",
    "    random_search_hyperopt.fit(X,y_labels )\n",
    "    \n",
    "    hyperopt_results_df = pd.DataFrame(random_search_hyperopt.cv_results_).sort_values(\n",
    "        by='mean_test_score',\n",
    "        ascending=False\n",
    "    )\n",
    "    hyperopt_ElasticNet[y_name] = hyperopt_results_df"
   ]
  },
  {
   "cell_type": "code",
   "execution_count": 20,
   "metadata": {},
   "outputs": [],
   "source": [
    "dfs_with_ims = []\n",
    "for y_name, hyperopt_df in hyperopt_ElasticNet.items():\n",
    "    hyperopt_df['im'] = [y_name] * hyperopt_df.shape[0]\n",
    "    dfs_with_ims.append(hyperopt_df)\n",
    "    \n",
    "hyperopt_ElasticNet_df = pd.concat(dfs_with_ims, axis=0, ignore_index=True)\n",
    "hyperopt_ElasticNet_df.to_csv('data/hyperopt_ElasticNet.csv')"
   ]
  },
  {
   "cell_type": "code",
   "execution_count": 21,
   "metadata": {},
   "outputs": [
    {
     "data": {
      "text/plain": [
       "Text(0.5, 1.0, 'ElasticNet')"
      ]
     },
     "execution_count": 21,
     "metadata": {},
     "output_type": "execute_result"
    },
    {
     "data": {
      "image/png": "[encoded data removed]",
      "text/plain": [
       "<Figure size 576x288 with 1 Axes>"
      ]
     },
     "metadata": {
      "needs_background": "light"
     },
     "output_type": "display_data"
    }
   ],
   "source": [
    "hyperopt_result_df = pd.read_csv( 'data/hyperopt_ElasticNet.csv' , index_col=0)\n",
    "plt.figure( figsize=(8,4))\n",
    "sns.swarmplot(x='im', y='mean_test_score', data=hyperopt_result_df)\n",
    "plt.ylabel('mean_test_r2')\n",
    "plt.title('ElasticNet')"
   ]
  },
  {
   "cell_type": "markdown",
   "metadata": {},
   "source": [
    "## after hyperopt, still slightly worse than baseline model"
   ]
  },
  {
   "cell_type": "markdown",
   "metadata": {},
   "source": [
    "# try to remove all under cutoff 0.065"
   ]
  },
  {
   "cell_type": "code",
   "execution_count": 6,
   "metadata": {},
   "outputs": [
    {
     "data": {
      "text/html": [
       "<div>\n",
       "<style scoped>\n",
       "    .dataframe tbody tr th:only-of-type {\n",
       "        vertical-align: middle;\n",
       "    }\n",
       "\n",
       "    .dataframe tbody tr th {\n",
       "        vertical-align: top;\n",
       "    }\n",
       "\n",
       "    .dataframe thead th {\n",
       "        text-align: right;\n",
       "    }\n",
       "</style>\n",
       "<table border=\"1\" class=\"dataframe\">\n",
       "  <thead>\n",
       "    <tr style=\"text-align: right;\">\n",
       "      <th></th>\n",
       "      <th>ID</th>\n",
       "      <th>Sigma70</th>\n",
       "      <th>Sigma32</th>\n",
       "      <th>Sigma38</th>\n",
       "      <th>Sigma24</th>\n",
       "      <th>Sigma28</th>\n",
       "      <th>Sigma54</th>\n",
       "      <th>Sigma19</th>\n",
       "      <th>unknown</th>\n",
       "      <th>Sigma70_Prib_score</th>\n",
       "      <th>...</th>\n",
       "      <th>thrA-KO</th>\n",
       "      <th>translation</th>\n",
       "      <th>uncharacterized-1</th>\n",
       "      <th>uncharacterized-2</th>\n",
       "      <th>uncharacterized-3</th>\n",
       "      <th>uncharacterized-4</th>\n",
       "      <th>uncharacterized-5</th>\n",
       "      <th>uncharacterized-6</th>\n",
       "      <th>ydcI-KO</th>\n",
       "      <th>yheO-KO</th>\n",
       "    </tr>\n",
       "  </thead>\n",
       "  <tbody>\n",
       "    <tr>\n",
       "      <th>0</th>\n",
       "      <td>b0002</td>\n",
       "      <td>1.0</td>\n",
       "      <td>0.0</td>\n",
       "      <td>0.0</td>\n",
       "      <td>0.0</td>\n",
       "      <td>0.0</td>\n",
       "      <td>0.0</td>\n",
       "      <td>0.0</td>\n",
       "      <td>0.0</td>\n",
       "      <td>-7.762165</td>\n",
       "      <td>...</td>\n",
       "      <td>0.479209</td>\n",
       "      <td>0.035685</td>\n",
       "      <td>0.024778</td>\n",
       "      <td>-0.010660</td>\n",
       "      <td>-0.002123</td>\n",
       "      <td>-0.004416</td>\n",
       "      <td>-0.005428</td>\n",
       "      <td>-0.009219</td>\n",
       "      <td>-0.004345</td>\n",
       "      <td>-0.007838</td>\n",
       "    </tr>\n",
       "    <tr>\n",
       "      <th>1</th>\n",
       "      <td>b0003</td>\n",
       "      <td>1.0</td>\n",
       "      <td>0.0</td>\n",
       "      <td>0.0</td>\n",
       "      <td>0.0</td>\n",
       "      <td>0.0</td>\n",
       "      <td>0.0</td>\n",
       "      <td>0.0</td>\n",
       "      <td>0.0</td>\n",
       "      <td>-7.762165</td>\n",
       "      <td>...</td>\n",
       "      <td>0.011420</td>\n",
       "      <td>0.040811</td>\n",
       "      <td>0.003324</td>\n",
       "      <td>-0.008424</td>\n",
       "      <td>-0.004415</td>\n",
       "      <td>-0.016126</td>\n",
       "      <td>-0.016476</td>\n",
       "      <td>-0.003497</td>\n",
       "      <td>-0.003583</td>\n",
       "      <td>0.003381</td>\n",
       "    </tr>\n",
       "    <tr>\n",
       "      <th>2</th>\n",
       "      <td>b0004</td>\n",
       "      <td>1.0</td>\n",
       "      <td>0.0</td>\n",
       "      <td>0.0</td>\n",
       "      <td>0.0</td>\n",
       "      <td>0.0</td>\n",
       "      <td>0.0</td>\n",
       "      <td>0.0</td>\n",
       "      <td>0.0</td>\n",
       "      <td>-7.762165</td>\n",
       "      <td>...</td>\n",
       "      <td>0.011339</td>\n",
       "      <td>0.036244</td>\n",
       "      <td>0.003710</td>\n",
       "      <td>-0.005212</td>\n",
       "      <td>0.000700</td>\n",
       "      <td>-0.011096</td>\n",
       "      <td>-0.006140</td>\n",
       "      <td>-0.003155</td>\n",
       "      <td>-0.008418</td>\n",
       "      <td>0.000129</td>\n",
       "    </tr>\n",
       "    <tr>\n",
       "      <th>3</th>\n",
       "      <td>b0008</td>\n",
       "      <td>0.0</td>\n",
       "      <td>0.0</td>\n",
       "      <td>0.0</td>\n",
       "      <td>0.0</td>\n",
       "      <td>0.0</td>\n",
       "      <td>0.0</td>\n",
       "      <td>0.0</td>\n",
       "      <td>1.0</td>\n",
       "      <td>-4.060455</td>\n",
       "      <td>...</td>\n",
       "      <td>0.011253</td>\n",
       "      <td>0.012013</td>\n",
       "      <td>0.005996</td>\n",
       "      <td>-0.002813</td>\n",
       "      <td>-0.012959</td>\n",
       "      <td>-0.005412</td>\n",
       "      <td>-0.012124</td>\n",
       "      <td>-0.005203</td>\n",
       "      <td>0.001696</td>\n",
       "      <td>-0.002487</td>\n",
       "    </tr>\n",
       "    <tr>\n",
       "      <th>4</th>\n",
       "      <td>b0025</td>\n",
       "      <td>1.0</td>\n",
       "      <td>0.0</td>\n",
       "      <td>0.0</td>\n",
       "      <td>0.0</td>\n",
       "      <td>0.0</td>\n",
       "      <td>0.0</td>\n",
       "      <td>0.0</td>\n",
       "      <td>0.0</td>\n",
       "      <td>-3.290289</td>\n",
       "      <td>...</td>\n",
       "      <td>0.002125</td>\n",
       "      <td>0.002445</td>\n",
       "      <td>-0.000679</td>\n",
       "      <td>-0.006768</td>\n",
       "      <td>-0.000475</td>\n",
       "      <td>0.003448</td>\n",
       "      <td>0.002953</td>\n",
       "      <td>-0.006742</td>\n",
       "      <td>0.001252</td>\n",
       "      <td>0.001143</td>\n",
       "    </tr>\n",
       "  </tbody>\n",
       "</table>\n",
       "<p>5 rows × 395 columns</p>\n",
       "</div>"
      ],
      "text/plain": [
       "      ID  Sigma70  Sigma32  Sigma38  Sigma24  Sigma28  Sigma54  Sigma19  \\\n",
       "0  b0002      1.0      0.0      0.0      0.0      0.0      0.0      0.0   \n",
       "1  b0003      1.0      0.0      0.0      0.0      0.0      0.0      0.0   \n",
       "2  b0004      1.0      0.0      0.0      0.0      0.0      0.0      0.0   \n",
       "3  b0008      0.0      0.0      0.0      0.0      0.0      0.0      0.0   \n",
       "4  b0025      1.0      0.0      0.0      0.0      0.0      0.0      0.0   \n",
       "\n",
       "   unknown  Sigma70_Prib_score  ...   thrA-KO  translation  uncharacterized-1  \\\n",
       "0      0.0           -7.762165  ...  0.479209     0.035685           0.024778   \n",
       "1      0.0           -7.762165  ...  0.011420     0.040811           0.003324   \n",
       "2      0.0           -7.762165  ...  0.011339     0.036244           0.003710   \n",
       "3      1.0           -4.060455  ...  0.011253     0.012013           0.005996   \n",
       "4      0.0           -3.290289  ...  0.002125     0.002445          -0.000679   \n",
       "\n",
       "   uncharacterized-2  uncharacterized-3  uncharacterized-4  uncharacterized-5  \\\n",
       "0          -0.010660          -0.002123          -0.004416          -0.005428   \n",
       "1          -0.008424          -0.004415          -0.016126          -0.016476   \n",
       "2          -0.005212           0.000700          -0.011096          -0.006140   \n",
       "3          -0.002813          -0.012959          -0.005412          -0.012124   \n",
       "4          -0.006768          -0.000475           0.003448           0.002953   \n",
       "\n",
       "   uncharacterized-6   ydcI-KO   yheO-KO  \n",
       "0          -0.009219 -0.004345 -0.007838  \n",
       "1          -0.003497 -0.003583  0.003381  \n",
       "2          -0.003155 -0.008418  0.000129  \n",
       "3          -0.005203  0.001696 -0.002487  \n",
       "4          -0.006742  0.001252  0.001143  \n",
       "\n",
       "[5 rows x 395 columns]"
      ]
     },
     "execution_count": 6,
     "metadata": {},
     "output_type": "execute_result"
    }
   ],
   "source": [
    "S_features.head()"
   ]
  },
  {
   "cell_type": "code",
   "execution_count": 7,
   "metadata": {},
   "outputs": [],
   "source": [
    "S_features_dict = {}\n",
    "X_dict={}\n",
    "target_values = {}\n",
    "for r in imodulons:\n",
    "    S_features_dict[r] = S_features[list(S_features.columns[0:303]) + [str(r)]]\n",
    "    \n",
    "for r in imodulons:\n",
    "    temp = list(S_features_dict[r][r].values)\n",
    "    removal = []\n",
    "    for i in range (len(temp)):\n",
    "        if not ( temp[i] >= 0.05 or temp[i] <= -0.05 ):\n",
    "            removal.append( i )\n",
    "    \n",
    "    S_features_dict[r] = S_features_dict[r].drop(removal)\n",
    "    S_features_dict[r] = S_features_dict[r].reset_index()\n",
    "    S_features_dict[r] = S_features_dict[r].drop(columns=['index'])\n",
    "\n",
    "for r in imodulons:\n",
    "    target_values[r] = list( S_features_dict[r][r] )\n",
    "    X_dict[r] = S_features_dict[r].iloc[:,1:303].values\n",
    "    X_dict[r] = StandardScaler().fit_transform( X_dict[r] )"
   ]
  },
  {
   "cell_type": "code",
   "execution_count": 8,
   "metadata": {},
   "outputs": [],
   "source": [
    "y_to_try = {\n",
    "    'AllR/AraC/FucR':target_values['AllR/AraC/FucR'],\n",
    "    'ArcA-1':target_values['ArcA-1'],\n",
    "    'ArcA-2':target_values['ArcA-2'],\n",
    "    'ArgR':target_values['ArgR'],\n",
    "    'Crp-1':target_values['Crp-1'],\n",
    "    'Crp-2':target_values['Crp-2'],\n",
    "    'DhaR/Mlc':target_values['DhaR/Mlc'],\n",
    "    'CysB': target_values['CysB']  \n",
    "}\n",
    "\n",
    "models_to_try = {\n",
    "    'RFR':RandomForestRegressor( random_state=42),\n",
    "    'ElasticNet':ElasticNet(alpha=1,l1_ratio=0.5,\n",
    "            max_iter=1000, random_state=42,selection='cyclic'),\n",
    "    'SVR': SVR(kernel='rbf',degree=3, C=1.0, epsilon=0.1)\n",
    "}"
   ]
  },
  {
   "cell_type": "code",
   "execution_count": 9,
   "metadata": {},
   "outputs": [
    {
     "name": "stdout",
     "output_type": "stream",
     "text": [
      "RFR\n",
      "RFR: AllR/AraC/FucR\n"
     ]
    },
    {
     "name": "stderr",
     "output_type": "stream",
     "text": [
      "[Parallel(n_jobs=4)]: Using backend LokyBackend with 4 concurrent workers.\n",
      "[Parallel(n_jobs=4)]: Done   5 out of   5 | elapsed:    3.2s finished\n",
      "[Parallel(n_jobs=4)]: Using backend LokyBackend with 4 concurrent workers.\n"
     ]
    },
    {
     "name": "stdout",
     "output_type": "stream",
     "text": [
      "RFR: ArcA-1\n"
     ]
    },
    {
     "name": "stderr",
     "output_type": "stream",
     "text": [
      "[Parallel(n_jobs=4)]: Done   5 out of   5 | elapsed:    1.7s finished\n"
     ]
    },
    {
     "name": "stdout",
     "output_type": "stream",
     "text": [
      "RFR: ArcA-2\n"
     ]
    },
    {
     "name": "stderr",
     "output_type": "stream",
     "text": [
      "[Parallel(n_jobs=4)]: Using backend LokyBackend with 4 concurrent workers.\n",
      "[Parallel(n_jobs=4)]: Done   5 out of   5 | elapsed:    1.3s finished\n",
      "[Parallel(n_jobs=4)]: Using backend LokyBackend with 4 concurrent workers.\n"
     ]
    },
    {
     "name": "stdout",
     "output_type": "stream",
     "text": [
      "RFR: ArgR\n"
     ]
    },
    {
     "name": "stderr",
     "output_type": "stream",
     "text": [
      "[Parallel(n_jobs=4)]: Done   5 out of   5 | elapsed:    1.7s finished\n",
      "[Parallel(n_jobs=4)]: Using backend LokyBackend with 4 concurrent workers.\n"
     ]
    },
    {
     "name": "stdout",
     "output_type": "stream",
     "text": [
      "RFR: Crp-1\n"
     ]
    },
    {
     "name": "stderr",
     "output_type": "stream",
     "text": [
      "[Parallel(n_jobs=4)]: Done   5 out of   5 | elapsed:    1.7s finished\n",
      "[Parallel(n_jobs=4)]: Using backend LokyBackend with 4 concurrent workers.\n"
     ]
    },
    {
     "name": "stdout",
     "output_type": "stream",
     "text": [
      "RFR: Crp-2\n"
     ]
    },
    {
     "name": "stderr",
     "output_type": "stream",
     "text": [
      "[Parallel(n_jobs=4)]: Done   5 out of   5 | elapsed:    1.2s finished\n",
      "[Parallel(n_jobs=4)]: Using backend LokyBackend with 4 concurrent workers.\n"
     ]
    },
    {
     "name": "stdout",
     "output_type": "stream",
     "text": [
      "RFR: DhaR/Mlc\n"
     ]
    },
    {
     "name": "stderr",
     "output_type": "stream",
     "text": [
      "[Parallel(n_jobs=4)]: Done   5 out of   5 | elapsed:    1.6s finished\n",
      "[Parallel(n_jobs=4)]: Using backend LokyBackend with 4 concurrent workers.\n"
     ]
    },
    {
     "name": "stdout",
     "output_type": "stream",
     "text": [
      "RFR: CysB\n"
     ]
    },
    {
     "name": "stderr",
     "output_type": "stream",
     "text": [
      "[Parallel(n_jobs=4)]: Done   5 out of   5 | elapsed:    1.0s finished\n",
      "[Parallel(n_jobs=4)]: Using backend LokyBackend with 4 concurrent workers.\n",
      "[Parallel(n_jobs=4)]: Done   5 out of   5 | elapsed:    0.0s finished\n",
      "[Parallel(n_jobs=4)]: Using backend LokyBackend with 4 concurrent workers.\n",
      "[Parallel(n_jobs=4)]: Done   5 out of   5 | elapsed:    0.0s finished\n",
      "[Parallel(n_jobs=4)]: Using backend LokyBackend with 4 concurrent workers.\n",
      "[Parallel(n_jobs=4)]: Done   5 out of   5 | elapsed:    0.0s finished\n"
     ]
    },
    {
     "name": "stdout",
     "output_type": "stream",
     "text": [
      "ElasticNet\n",
      "ElasticNet: AllR/AraC/FucR\n",
      "ElasticNet: ArcA-1\n",
      "ElasticNet: ArcA-2\n",
      "ElasticNet: ArgR\n"
     ]
    },
    {
     "name": "stderr",
     "output_type": "stream",
     "text": [
      "[Parallel(n_jobs=4)]: Using backend LokyBackend with 4 concurrent workers.\n",
      "[Parallel(n_jobs=4)]: Done   5 out of   5 | elapsed:    0.0s finished\n",
      "[Parallel(n_jobs=4)]: Using backend LokyBackend with 4 concurrent workers.\n",
      "[Parallel(n_jobs=4)]: Done   5 out of   5 | elapsed:    0.1s finished\n",
      "[Parallel(n_jobs=4)]: Using backend LokyBackend with 4 concurrent workers.\n"
     ]
    },
    {
     "name": "stdout",
     "output_type": "stream",
     "text": [
      "ElasticNet: Crp-1\n",
      "ElasticNet: Crp-2\n",
      "ElasticNet: DhaR/Mlc\n"
     ]
    },
    {
     "name": "stderr",
     "output_type": "stream",
     "text": [
      "[Parallel(n_jobs=4)]: Done   5 out of   5 | elapsed:    0.0s finished\n",
      "[Parallel(n_jobs=4)]: Using backend LokyBackend with 4 concurrent workers.\n",
      "[Parallel(n_jobs=4)]: Done   5 out of   5 | elapsed:    0.1s finished\n",
      "[Parallel(n_jobs=4)]: Using backend LokyBackend with 4 concurrent workers.\n",
      "[Parallel(n_jobs=4)]: Done   5 out of   5 | elapsed:    0.1s finished\n",
      "[Parallel(n_jobs=4)]: Using backend LokyBackend with 4 concurrent workers.\n"
     ]
    },
    {
     "name": "stdout",
     "output_type": "stream",
     "text": [
      "ElasticNet: CysB\n",
      "SVR\n",
      "SVR: AllR/AraC/FucR\n"
     ]
    },
    {
     "name": "stderr",
     "output_type": "stream",
     "text": [
      "[Parallel(n_jobs=4)]: Done   5 out of   5 | elapsed:    0.1s finished\n",
      "[Parallel(n_jobs=4)]: Using backend LokyBackend with 4 concurrent workers.\n",
      "[Parallel(n_jobs=4)]: Done   5 out of   5 | elapsed:    0.1s finished\n",
      "[Parallel(n_jobs=4)]: Using backend LokyBackend with 4 concurrent workers.\n"
     ]
    },
    {
     "name": "stdout",
     "output_type": "stream",
     "text": [
      "SVR: ArcA-1\n",
      "SVR: ArcA-2\n"
     ]
    },
    {
     "name": "stderr",
     "output_type": "stream",
     "text": [
      "[Parallel(n_jobs=4)]: Done   5 out of   5 | elapsed:    0.1s finished\n",
      "[Parallel(n_jobs=4)]: Using backend LokyBackend with 4 concurrent workers.\n",
      "[Parallel(n_jobs=4)]: Done   5 out of   5 | elapsed:    0.0s finished\n",
      "[Parallel(n_jobs=4)]: Using backend LokyBackend with 4 concurrent workers.\n",
      "[Parallel(n_jobs=4)]: Done   5 out of   5 | elapsed:    0.1s finished\n",
      "[Parallel(n_jobs=4)]: Using backend LokyBackend with 4 concurrent workers.\n"
     ]
    },
    {
     "name": "stdout",
     "output_type": "stream",
     "text": [
      "SVR: ArgR\n",
      "SVR: Crp-1\n",
      "SVR: Crp-2\n",
      "SVR: DhaR/Mlc\n",
      "SVR: CysB\n"
     ]
    },
    {
     "name": "stderr",
     "output_type": "stream",
     "text": [
      "[Parallel(n_jobs=4)]: Done   5 out of   5 | elapsed:    0.1s finished\n",
      "[Parallel(n_jobs=4)]: Using backend LokyBackend with 4 concurrent workers.\n",
      "[Parallel(n_jobs=4)]: Done   5 out of   5 | elapsed:    0.0s finished\n",
      "[Parallel(n_jobs=4)]: Using backend LokyBackend with 4 concurrent workers.\n",
      "[Parallel(n_jobs=4)]: Done   5 out of   5 | elapsed:    0.0s finished\n"
     ]
    }
   ],
   "source": [
    "result_df = pd.DataFrame(\n",
    "    columns=['model', 'im', 'train_max_error', 'test_max_error']\n",
    ")\n",
    "\n",
    "N_CV = 5\n",
    "\n",
    "for model_name, model in models_to_try.items():\n",
    "    print(f'{model_name}')\n",
    "    \n",
    "    for y_name, y_labels in y_to_try.items():\n",
    "        print(f'{model_name}: {y_name}')\n",
    "        \n",
    "        cv_result = cross_validate(\n",
    "            model,\n",
    "            X_dict[y_name],\n",
    "            y= y_labels,\n",
    "            cv=N_CV,\n",
    "            scoring='max_error',\n",
    "            return_train_score=True,\n",
    "            verbose=1,\n",
    "            n_jobs=4\n",
    "        )\n",
    "\n",
    "        sub_result_df = pd.DataFrame(\n",
    "            data={\n",
    "                'model': [model_name] * N_CV,\n",
    "                'im': [y_name] * N_CV,\n",
    "                'train_max_error': cv_result['train_score'],\n",
    "                'test_max_error': cv_result['test_score']\n",
    "            }\n",
    "        )\n",
    "\n",
    "        result_df = result_df.append(sub_result_df)"
   ]
  },
  {
   "cell_type": "code",
   "execution_count": 10,
   "metadata": {},
   "outputs": [
    {
     "data": {
      "text/plain": [
       "<matplotlib.axes._subplots.AxesSubplot at 0x7facdcef7910>"
      ]
     },
     "execution_count": 10,
     "metadata": {},
     "output_type": "execute_result"
    },
    {
     "name": "stderr",
     "output_type": "stream",
     "text": [
      "findfont: Font family ['sans-serif'] not found. Falling back to DejaVu Sans.\n"
     ]
    },
    {
     "data": {
      "image/png": "[encoded data removed]",
      "text/plain": [
       "<Figure size 432x288 with 1 Axes>"
      ]
     },
     "metadata": {
      "needs_background": "light"
     },
     "output_type": "display_data"
    }
   ],
   "source": [
    "_, ax = plt.subplots()\n",
    "sns.swarmplot(x='model', y='train_max_error', data=result_df, hue='im', dodge=True, ax=ax)"
   ]
  },
  {
   "cell_type": "code",
   "execution_count": 11,
   "metadata": {},
   "outputs": [
    {
     "data": {
      "text/plain": [
       "<matplotlib.legend.Legend at 0x7facdc47d3d0>"
      ]
     },
     "execution_count": 11,
     "metadata": {},
     "output_type": "execute_result"
    },
    {
     "data": {
      "image/png": "[encoded data removed]",
      "text/plain": [
       "<Figure size 432x288 with 1 Axes>"
      ]
     },
     "metadata": {
      "needs_background": "light"
     },
     "output_type": "display_data"
    }
   ],
   "source": [
    "_, ax = plt.subplots()\n",
    "sns.swarmplot(x='model', y='test_max_error', data=result_df, hue='im', dodge=True, ax=ax)\n",
    "plt.legend(loc='right', bbox_to_anchor=(1.5, 0.5))"
   ]
  },
  {
   "cell_type": "code",
   "execution_count": 12,
   "metadata": {},
   "outputs": [],
   "source": [
    "hyperopt_models = {\n",
    "    'ElasticNet': {\n",
    "        'model':ElasticNet(alpha=1,l1_ratio=0.5,\n",
    "            max_iter=1000, random_state=42),\n",
    "        'param_dists': {\n",
    "            'l1_ratio': np.arange(0.0, 1, 20),\n",
    "             'alpha': [0.0001, 0.001, 0.01, 0.1, 1, 10, 100],\n",
    "             'selection':['cyclic', 'random'],\n",
    "            'max_iter':[10,100,1000]          \n",
    "        }\n",
    "    },\n",
    "    'SVR': {\n",
    "        'model': SVR(kernel='rbf',degree=3, C=1.0, epsilon=0.1),\n",
    "        'param_dists': {\n",
    "            'gamma': [1e-4, 1e-3, 0.01, 0.1, 0.2, 0.5, 0.6, 0.9],\n",
    "            'C': np.arange(0.01, 10, 0.05),\n",
    "        }\n",
    "    },\n",
    "    'RFR': {\n",
    "        'model': RandomForestRegressor( verbose=1,random_state=42),\n",
    "        'param_dists': {\n",
    "            'n_estimators': np.arange(50, 250, 10),\n",
    "            'max_depth': np.arange(3, 15),\n",
    "            'min_samples_split': np.arange(0.001, 0.02, 0.001),\n",
    "            'min_samples_leaf': np.arange(5, 15)\n",
    "        }\n",
    "    }\n",
    "}"
   ]
  },
  {
   "cell_type": "code",
   "execution_count": 13,
   "metadata": {},
   "outputs": [
    {
     "name": "stdout",
     "output_type": "stream",
     "text": [
      "AllR/AraC/FucR\n",
      "Fitting 5 folds for each of 25 candidates, totalling 125 fits\n"
     ]
    },
    {
     "name": "stderr",
     "output_type": "stream",
     "text": [
      "[Parallel(n_jobs=4)]: Using backend LokyBackend with 4 concurrent workers.\n",
      "[Parallel(n_jobs=4)]: Done  42 tasks      | elapsed:    4.1s\n",
      "[Parallel(n_jobs=4)]: Done 125 out of 125 | elapsed:   11.9s finished\n",
      "[Parallel(n_jobs=1)]: Using backend SequentialBackend with 1 concurrent workers.\n",
      "[Parallel(n_jobs=1)]: Done 170 out of 170 | elapsed:    0.3s finished\n",
      "[Parallel(n_jobs=4)]: Using backend LokyBackend with 4 concurrent workers.\n"
     ]
    },
    {
     "name": "stdout",
     "output_type": "stream",
     "text": [
      "ArcA-1\n",
      "Fitting 5 folds for each of 25 candidates, totalling 125 fits\n"
     ]
    },
    {
     "name": "stderr",
     "output_type": "stream",
     "text": [
      "[Parallel(n_jobs=4)]: Done  42 tasks      | elapsed:    5.5s\n",
      "[Parallel(n_jobs=4)]: Done 125 out of 125 | elapsed:   19.7s finished\n",
      "[Parallel(n_jobs=1)]: Using backend SequentialBackend with 1 concurrent workers.\n",
      "[Parallel(n_jobs=1)]: Done  90 out of  90 | elapsed:    0.5s finished\n",
      "[Parallel(n_jobs=4)]: Using backend LokyBackend with 4 concurrent workers.\n"
     ]
    },
    {
     "name": "stdout",
     "output_type": "stream",
     "text": [
      "ArcA-2\n",
      "Fitting 5 folds for each of 25 candidates, totalling 125 fits\n"
     ]
    },
    {
     "name": "stderr",
     "output_type": "stream",
     "text": [
      "[Parallel(n_jobs=4)]: Done  42 tasks      | elapsed:   10.6s\n",
      "[Parallel(n_jobs=4)]: Done 125 out of 125 | elapsed:   21.7s finished\n",
      "[Parallel(n_jobs=1)]: Using backend SequentialBackend with 1 concurrent workers.\n",
      "[Parallel(n_jobs=1)]: Done 200 out of 200 | elapsed:    0.3s finished\n",
      "[Parallel(n_jobs=4)]: Using backend LokyBackend with 4 concurrent workers.\n"
     ]
    },
    {
     "name": "stdout",
     "output_type": "stream",
     "text": [
      "ArgR\n",
      "Fitting 5 folds for each of 25 candidates, totalling 125 fits\n"
     ]
    },
    {
     "name": "stderr",
     "output_type": "stream",
     "text": [
      "[Parallel(n_jobs=4)]: Done  42 tasks      | elapsed:    3.4s\n",
      "[Parallel(n_jobs=4)]: Done 125 out of 125 | elapsed:   13.0s finished\n",
      "[Parallel(n_jobs=1)]: Using backend SequentialBackend with 1 concurrent workers.\n",
      "[Parallel(n_jobs=1)]: Done  60 out of  60 | elapsed:    0.1s finished\n",
      "[Parallel(n_jobs=4)]: Using backend LokyBackend with 4 concurrent workers.\n"
     ]
    },
    {
     "name": "stdout",
     "output_type": "stream",
     "text": [
      "Crp-1\n",
      "Fitting 5 folds for each of 25 candidates, totalling 125 fits\n"
     ]
    },
    {
     "name": "stderr",
     "output_type": "stream",
     "text": [
      "[Parallel(n_jobs=4)]: Done  42 tasks      | elapsed:    5.8s\n",
      "[Parallel(n_jobs=4)]: Done 125 out of 125 | elapsed:   15.5s finished\n",
      "[Parallel(n_jobs=1)]: Using backend SequentialBackend with 1 concurrent workers.\n",
      "[Parallel(n_jobs=1)]: Done  50 out of  50 | elapsed:    0.1s finished\n",
      "[Parallel(n_jobs=4)]: Using backend LokyBackend with 4 concurrent workers.\n"
     ]
    },
    {
     "name": "stdout",
     "output_type": "stream",
     "text": [
      "Crp-2\n",
      "Fitting 5 folds for each of 25 candidates, totalling 125 fits\n"
     ]
    },
    {
     "name": "stderr",
     "output_type": "stream",
     "text": [
      "[Parallel(n_jobs=4)]: Done  42 tasks      | elapsed:    4.8s\n",
      "[Parallel(n_jobs=4)]: Done 125 out of 125 | elapsed:   15.0s finished\n",
      "[Parallel(n_jobs=1)]: Using backend SequentialBackend with 1 concurrent workers.\n",
      "[Parallel(n_jobs=1)]: Done  80 out of  80 | elapsed:    0.3s finished\n",
      "[Parallel(n_jobs=4)]: Using backend LokyBackend with 4 concurrent workers.\n"
     ]
    },
    {
     "name": "stdout",
     "output_type": "stream",
     "text": [
      "DhaR/Mlc\n",
      "Fitting 5 folds for each of 25 candidates, totalling 125 fits\n"
     ]
    },
    {
     "name": "stderr",
     "output_type": "stream",
     "text": [
      "[Parallel(n_jobs=4)]: Done  42 tasks      | elapsed:   12.5s\n",
      "[Parallel(n_jobs=4)]: Done 125 out of 125 | elapsed:   31.2s finished\n",
      "[Parallel(n_jobs=1)]: Using backend SequentialBackend with 1 concurrent workers.\n",
      "[Parallel(n_jobs=1)]: Done  90 out of  90 | elapsed:    0.1s finished\n",
      "[Parallel(n_jobs=4)]: Using backend LokyBackend with 4 concurrent workers.\n"
     ]
    },
    {
     "name": "stdout",
     "output_type": "stream",
     "text": [
      "CysB\n",
      "Fitting 5 folds for each of 25 candidates, totalling 125 fits\n"
     ]
    },
    {
     "name": "stderr",
     "output_type": "stream",
     "text": [
      "[Parallel(n_jobs=4)]: Done  42 tasks      | elapsed:    8.8s\n",
      "[Parallel(n_jobs=4)]: Done 125 out of 125 | elapsed:   25.8s finished\n",
      "[Parallel(n_jobs=1)]: Using backend SequentialBackend with 1 concurrent workers.\n",
      "[Parallel(n_jobs=1)]: Done 230 out of 230 | elapsed:    0.3s finished\n"
     ]
    }
   ],
   "source": [
    "hyperopt_RFR = {}\n",
    "\n",
    "for y_name, y_labels in y_to_try.items():\n",
    "    print(y_name)\n",
    "\n",
    "    random_search_hyperopt = RandomizedSearchCV(\n",
    "        hyperopt_models['RFR']['model'],\n",
    "        hyperopt_models['RFR']['param_dists'],\n",
    "        n_iter=25,\n",
    "        scoring='max_error',\n",
    "        n_jobs=4,\n",
    "        cv=5,\n",
    "        verbose=1,\n",
    "        return_train_score=True\n",
    "    )\n",
    "\n",
    "    random_search_hyperopt.fit( X_dict[y_name] ,y_labels )\n",
    "    \n",
    "    hyperopt_results_df = pd.DataFrame(random_search_hyperopt.cv_results_).sort_values(\n",
    "        by='mean_test_score',\n",
    "        ascending=False\n",
    "    )\n",
    "    hyperopt_RFR[y_name] = hyperopt_results_df"
   ]
  },
  {
   "cell_type": "code",
   "execution_count": 14,
   "metadata": {},
   "outputs": [
    {
     "data": {
      "text/plain": [
       "Text(0.5, 1.0, 'RandomForest_Regression')"
      ]
     },
     "execution_count": 14,
     "metadata": {},
     "output_type": "execute_result"
    },
    {
     "name": "stderr",
     "output_type": "stream",
     "text": [
      "findfont: Font family ['sans-serif'] not found. Falling back to DejaVu Sans.\n"
     ]
    },
    {
     "data": {
      "image/png": "[encoded data removed]",
      "text/plain": [
       "<Figure size 576x288 with 1 Axes>"
      ]
     },
     "metadata": {
      "needs_background": "light"
     },
     "output_type": "display_data"
    }
   ],
   "source": [
    "dfs_with_ims = []\n",
    "for y_name, hyperopt_df in hyperopt_RFR.items():\n",
    "    hyperopt_df['im'] = [y_name] * hyperopt_df.shape[0]\n",
    "    dfs_with_ims.append(hyperopt_df)  \n",
    "hyperopt_RFR_df = pd.concat(dfs_with_ims, axis=0, ignore_index=True)\n",
    "\n",
    "plt.figure( figsize=(8,4))\n",
    "sns.swarmplot(x='im', y='mean_test_score', data=hyperopt_RFR_df)\n",
    "plt.ylabel('mean_test_max_error')\n",
    "plt.title('RandomForest_Regression')"
   ]
  },
  {
   "cell_type": "code",
   "execution_count": null,
   "metadata": {},
   "outputs": [],
   "source": []
  }
 ],
 "metadata": {
  "kernelspec": {
   "display_name": "Python 3",
   "language": "python",
   "name": "python3"
  },
  "language_info": {
   "codemirror_mode": {
    "name": "ipython",
    "version": 3
   },
   "file_extension": ".py",
   "mimetype": "text/x-python",
   "name": "python",
   "nbconvert_exporter": "python",
   "pygments_lexer": "ipython3",
   "version": "3.8.2"
  }
 },
 "nbformat": 4,
 "nbformat_minor": 4
}
