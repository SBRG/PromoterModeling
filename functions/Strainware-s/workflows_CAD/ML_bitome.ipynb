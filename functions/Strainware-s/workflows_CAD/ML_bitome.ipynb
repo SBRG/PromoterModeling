{
 "cells": [
  {
   "cell_type": "code",
   "execution_count": 1,
   "metadata": {},
   "outputs": [],
   "source": [
    "from pathlib import Path\n",
    "import sys\n",
    "sys.path.append('../bitome-kb/')\n",
    "import matplotlib.pyplot as plt\n",
    "import numpy as np\n",
    "import pandas as pd\n",
    "import scipy.sparse as sparse\n",
    "import seaborn as sns\n",
    "from sklearn.ensemble import RandomForestClassifier\n",
    "from sklearn.linear_model import LogisticRegression\n",
    "from sklearn.model_selection import cross_validate, RandomizedSearchCV\n",
    "from sklearn.neural_network import MLPClassifier\n",
    "from sklearn.preprocessing import StandardScaler\n",
    "from sklearn.svm import LinearSVC\n",
    "from sklearn.utils.class_weight import compute_class_weight\n",
    "from bitome.core import Bitome\n",
    "from math import log,exp,inf\n",
    "bitome = Bitome.init_from_file('../bitome-kb/bitome.pkl')"
   ]
  },
  {
   "cell_type": "code",
   "execution_count": 2,
   "metadata": {},
   "outputs": [
    {
     "name": "stderr",
     "output_type": "stream",
     "text": [
      "The name visualization is deprecated. Please use plotting\n"
     ]
    }
   ],
   "source": [
    "from feature_functions import *\n",
    "from pymodulon.io import load_json_model\n",
    "from pymodulon.visualization import *"
   ]
  },
  {
   "cell_type": "code",
   "execution_count": 3,
   "metadata": {},
   "outputs": [
    {
     "data": {
      "text/plain": [
       "FeatureLocation(ExactPosition(4634440), ExactPosition(4635382), strand=-1)"
      ]
     },
     "execution_count": 3,
     "metadata": {},
     "output_type": "execute_result"
    }
   ],
   "source": [
    "bitome.operons[0].location"
   ]
  },
  {
   "cell_type": "markdown",
   "metadata": {},
   "source": [
    "# load shape data"
   ]
  },
  {
   "cell_type": "code",
   "execution_count": 4,
   "metadata": {},
   "outputs": [],
   "source": [
    "shape_table = pd.read_pickle('../../K12DNA_structure/ecoli_U00096/ecoli_U00096_shape.pickle')"
   ]
  },
  {
   "cell_type": "code",
   "execution_count": 5,
   "metadata": {},
   "outputs": [
    {
     "data": {
      "text/html": [
       "<div>\n",
       "<style scoped>\n",
       "    .dataframe tbody tr th:only-of-type {\n",
       "        vertical-align: middle;\n",
       "    }\n",
       "\n",
       "    .dataframe tbody tr th {\n",
       "        vertical-align: top;\n",
       "    }\n",
       "\n",
       "    .dataframe thead th {\n",
       "        text-align: right;\n",
       "    }\n",
       "</style>\n",
       "<table border=\"1\" class=\"dataframe\">\n",
       "  <thead>\n",
       "    <tr style=\"text-align: right;\">\n",
       "      <th></th>\n",
       "      <th>HelT</th>\n",
       "      <th>Roll</th>\n",
       "      <th>Shift</th>\n",
       "      <th>Slide</th>\n",
       "      <th>Rise</th>\n",
       "      <th>TilT</th>\n",
       "      <th>Buckle</th>\n",
       "      <th>Shear</th>\n",
       "      <th>Stretch</th>\n",
       "      <th>Stagger</th>\n",
       "      <th>Opening</th>\n",
       "      <th>MGW</th>\n",
       "      <th>ProT</th>\n",
       "      <th>EP</th>\n",
       "      <th>loc</th>\n",
       "    </tr>\n",
       "  </thead>\n",
       "  <tbody>\n",
       "    <tr>\n",
       "      <th>10</th>\n",
       "      <td>34.325</td>\n",
       "      <td>-4.875</td>\n",
       "      <td>-0.030</td>\n",
       "      <td>-1.385</td>\n",
       "      <td>3.235</td>\n",
       "      <td>0.670</td>\n",
       "      <td>-4.13</td>\n",
       "      <td>-0.15</td>\n",
       "      <td>-0.02</td>\n",
       "      <td>-0.03</td>\n",
       "      <td>-1.00</td>\n",
       "      <td>4.39</td>\n",
       "      <td>-9.43</td>\n",
       "      <td>-8.53</td>\n",
       "      <td>10</td>\n",
       "    </tr>\n",
       "    <tr>\n",
       "      <th>11</th>\n",
       "      <td>36.200</td>\n",
       "      <td>-2.365</td>\n",
       "      <td>0.215</td>\n",
       "      <td>-1.375</td>\n",
       "      <td>3.320</td>\n",
       "      <td>-0.445</td>\n",
       "      <td>0.42</td>\n",
       "      <td>-0.08</td>\n",
       "      <td>-0.03</td>\n",
       "      <td>-0.29</td>\n",
       "      <td>-0.39</td>\n",
       "      <td>4.43</td>\n",
       "      <td>-10.15</td>\n",
       "      <td>-8.34</td>\n",
       "      <td>11</td>\n",
       "    </tr>\n",
       "    <tr>\n",
       "      <th>12</th>\n",
       "      <td>33.985</td>\n",
       "      <td>-1.405</td>\n",
       "      <td>0.030</td>\n",
       "      <td>-1.605</td>\n",
       "      <td>3.390</td>\n",
       "      <td>-0.380</td>\n",
       "      <td>-3.69</td>\n",
       "      <td>0.26</td>\n",
       "      <td>-0.03</td>\n",
       "      <td>0.13</td>\n",
       "      <td>0.05</td>\n",
       "      <td>5.14</td>\n",
       "      <td>-3.52</td>\n",
       "      <td>-5.96</td>\n",
       "      <td>12</td>\n",
       "    </tr>\n",
       "    <tr>\n",
       "      <th>13</th>\n",
       "      <td>32.910</td>\n",
       "      <td>1.335</td>\n",
       "      <td>0.005</td>\n",
       "      <td>-1.535</td>\n",
       "      <td>3.340</td>\n",
       "      <td>0.885</td>\n",
       "      <td>-0.55</td>\n",
       "      <td>-0.10</td>\n",
       "      <td>-0.03</td>\n",
       "      <td>-0.05</td>\n",
       "      <td>-0.72</td>\n",
       "      <td>5.47</td>\n",
       "      <td>-6.32</td>\n",
       "      <td>-6.97</td>\n",
       "      <td>13</td>\n",
       "    </tr>\n",
       "    <tr>\n",
       "      <th>14</th>\n",
       "      <td>34.775</td>\n",
       "      <td>1.485</td>\n",
       "      <td>0.035</td>\n",
       "      <td>-1.420</td>\n",
       "      <td>3.295</td>\n",
       "      <td>0.070</td>\n",
       "      <td>-1.24</td>\n",
       "      <td>-0.28</td>\n",
       "      <td>-0.04</td>\n",
       "      <td>0.02</td>\n",
       "      <td>0.27</td>\n",
       "      <td>5.67</td>\n",
       "      <td>-6.43</td>\n",
       "      <td>-5.23</td>\n",
       "      <td>14</td>\n",
       "    </tr>\n",
       "    <tr>\n",
       "      <th>15</th>\n",
       "      <td>35.015</td>\n",
       "      <td>-2.205</td>\n",
       "      <td>0.030</td>\n",
       "      <td>-1.555</td>\n",
       "      <td>3.340</td>\n",
       "      <td>-0.680</td>\n",
       "      <td>2.75</td>\n",
       "      <td>0.11</td>\n",
       "      <td>-0.02</td>\n",
       "      <td>-0.02</td>\n",
       "      <td>-0.23</td>\n",
       "      <td>4.89</td>\n",
       "      <td>-8.11</td>\n",
       "      <td>-7.61</td>\n",
       "      <td>15</td>\n",
       "    </tr>\n",
       "    <tr>\n",
       "      <th>16</th>\n",
       "      <td>33.170</td>\n",
       "      <td>-2.145</td>\n",
       "      <td>0.010</td>\n",
       "      <td>-1.680</td>\n",
       "      <td>3.390</td>\n",
       "      <td>0.315</td>\n",
       "      <td>0.06</td>\n",
       "      <td>0.25</td>\n",
       "      <td>-0.02</td>\n",
       "      <td>0.12</td>\n",
       "      <td>0.33</td>\n",
       "      <td>5.00</td>\n",
       "      <td>-3.96</td>\n",
       "      <td>-5.57</td>\n",
       "      <td>16</td>\n",
       "    </tr>\n",
       "    <tr>\n",
       "      <th>17</th>\n",
       "      <td>32.855</td>\n",
       "      <td>1.070</td>\n",
       "      <td>0.040</td>\n",
       "      <td>-1.560</td>\n",
       "      <td>3.325</td>\n",
       "      <td>0.735</td>\n",
       "      <td>1.05</td>\n",
       "      <td>-0.11</td>\n",
       "      <td>-0.03</td>\n",
       "      <td>-0.13</td>\n",
       "      <td>-0.54</td>\n",
       "      <td>5.40</td>\n",
       "      <td>-7.79</td>\n",
       "      <td>-6.89</td>\n",
       "      <td>17</td>\n",
       "    </tr>\n",
       "    <tr>\n",
       "      <th>18</th>\n",
       "      <td>34.895</td>\n",
       "      <td>1.290</td>\n",
       "      <td>0.130</td>\n",
       "      <td>-1.485</td>\n",
       "      <td>3.345</td>\n",
       "      <td>-0.670</td>\n",
       "      <td>-0.33</td>\n",
       "      <td>-0.26</td>\n",
       "      <td>-0.04</td>\n",
       "      <td>0.12</td>\n",
       "      <td>0.26</td>\n",
       "      <td>5.79</td>\n",
       "      <td>-3.68</td>\n",
       "      <td>-5.00</td>\n",
       "      <td>18</td>\n",
       "    </tr>\n",
       "    <tr>\n",
       "      <th>19</th>\n",
       "      <td>35.130</td>\n",
       "      <td>1.830</td>\n",
       "      <td>-0.235</td>\n",
       "      <td>-1.360</td>\n",
       "      <td>3.345</td>\n",
       "      <td>1.095</td>\n",
       "      <td>0.73</td>\n",
       "      <td>0.25</td>\n",
       "      <td>-0.04</td>\n",
       "      <td>0.14</td>\n",
       "      <td>0.20</td>\n",
       "      <td>5.78</td>\n",
       "      <td>-3.80</td>\n",
       "      <td>-5.27</td>\n",
       "      <td>19</td>\n",
       "    </tr>\n",
       "    <tr>\n",
       "      <th>20</th>\n",
       "      <td>34.860</td>\n",
       "      <td>0.825</td>\n",
       "      <td>-0.255</td>\n",
       "      <td>-1.135</td>\n",
       "      <td>3.200</td>\n",
       "      <td>0.070</td>\n",
       "      <td>2.23</td>\n",
       "      <td>0.10</td>\n",
       "      <td>-0.03</td>\n",
       "      <td>-0.20</td>\n",
       "      <td>-1.35</td>\n",
       "      <td>5.70</td>\n",
       "      <td>-10.75</td>\n",
       "      <td>-6.99</td>\n",
       "      <td>20</td>\n",
       "    </tr>\n",
       "  </tbody>\n",
       "</table>\n",
       "</div>"
      ],
      "text/plain": [
       "      HelT   Roll  Shift  Slide   Rise   TilT  Buckle  Shear  Stretch  \\\n",
       "10  34.325 -4.875 -0.030 -1.385  3.235  0.670   -4.13  -0.15    -0.02   \n",
       "11  36.200 -2.365  0.215 -1.375  3.320 -0.445    0.42  -0.08    -0.03   \n",
       "12  33.985 -1.405  0.030 -1.605  3.390 -0.380   -3.69   0.26    -0.03   \n",
       "13  32.910  1.335  0.005 -1.535  3.340  0.885   -0.55  -0.10    -0.03   \n",
       "14  34.775  1.485  0.035 -1.420  3.295  0.070   -1.24  -0.28    -0.04   \n",
       "15  35.015 -2.205  0.030 -1.555  3.340 -0.680    2.75   0.11    -0.02   \n",
       "16  33.170 -2.145  0.010 -1.680  3.390  0.315    0.06   0.25    -0.02   \n",
       "17  32.855  1.070  0.040 -1.560  3.325  0.735    1.05  -0.11    -0.03   \n",
       "18  34.895  1.290  0.130 -1.485  3.345 -0.670   -0.33  -0.26    -0.04   \n",
       "19  35.130  1.830 -0.235 -1.360  3.345  1.095    0.73   0.25    -0.04   \n",
       "20  34.860  0.825 -0.255 -1.135  3.200  0.070    2.23   0.10    -0.03   \n",
       "\n",
       "    Stagger  Opening   MGW   ProT    EP  loc  \n",
       "10    -0.03    -1.00  4.39  -9.43 -8.53   10  \n",
       "11    -0.29    -0.39  4.43 -10.15 -8.34   11  \n",
       "12     0.13     0.05  5.14  -3.52 -5.96   12  \n",
       "13    -0.05    -0.72  5.47  -6.32 -6.97   13  \n",
       "14     0.02     0.27  5.67  -6.43 -5.23   14  \n",
       "15    -0.02    -0.23  4.89  -8.11 -7.61   15  \n",
       "16     0.12     0.33  5.00  -3.96 -5.57   16  \n",
       "17    -0.13    -0.54  5.40  -7.79 -6.89   17  \n",
       "18     0.12     0.26  5.79  -3.68 -5.00   18  \n",
       "19     0.14     0.20  5.78  -3.80 -5.27   19  \n",
       "20    -0.20    -1.35  5.70 -10.75 -6.99   20  "
      ]
     },
     "execution_count": 5,
     "metadata": {},
     "output_type": "execute_result"
    }
   ],
   "source": [
    "get_shape(10,20,shape_table)"
   ]
  },
  {
   "cell_type": "markdown",
   "metadata": {},
   "source": [
    "# load IM membership"
   ]
  },
  {
   "cell_type": "code",
   "execution_count": 4,
   "metadata": {},
   "outputs": [],
   "source": [
    "import pymodulon"
   ]
  },
  {
   "cell_type": "code",
   "execution_count": 5,
   "metadata": {},
   "outputs": [],
   "source": [
    "precise2 = load_json_model('data/precise2.json.gz')\n",
    "im_table = precise2.imodulon_table\n",
    "regulatory_ims = im_table[im_table['regulator'].notna()]"
   ]
  },
  {
   "cell_type": "code",
   "execution_count": 7,
   "metadata": {},
   "outputs": [],
   "source": [
    "S = precise2.M\n",
    "#S.to_csv('data/S.csv')"
   ]
  },
  {
   "cell_type": "code",
   "execution_count": 8,
   "metadata": {},
   "outputs": [
    {
     "data": {
      "text/html": [
       "<div>\n",
       "<style scoped>\n",
       "    .dataframe tbody tr th:only-of-type {\n",
       "        vertical-align: middle;\n",
       "    }\n",
       "\n",
       "    .dataframe tbody tr th {\n",
       "        vertical-align: top;\n",
       "    }\n",
       "\n",
       "    .dataframe thead th {\n",
       "        text-align: right;\n",
       "    }\n",
       "</style>\n",
       "<table border=\"1\" class=\"dataframe\">\n",
       "  <thead>\n",
       "    <tr style=\"text-align: right;\">\n",
       "      <th></th>\n",
       "      <th>regulator</th>\n",
       "      <th>pvalue</th>\n",
       "      <th>qvalue</th>\n",
       "      <th>precision</th>\n",
       "      <th>recall</th>\n",
       "      <th>f1score</th>\n",
       "      <th>TP</th>\n",
       "      <th>regulon_size</th>\n",
       "      <th>imodulon_size</th>\n",
       "      <th>n_regs</th>\n",
       "      <th>single_gene</th>\n",
       "      <th>category</th>\n",
       "      <th>exp_var</th>\n",
       "      <th>trn_enrich_params</th>\n",
       "      <th>note</th>\n",
       "    </tr>\n",
       "  </thead>\n",
       "  <tbody>\n",
       "    <tr>\n",
       "      <th>CysB-1</th>\n",
       "      <td>CysB</td>\n",
       "      <td>0.000000e+00</td>\n",
       "      <td>1.980000e-07</td>\n",
       "      <td>0.411765</td>\n",
       "      <td>0.225806</td>\n",
       "      <td>0.291667</td>\n",
       "      <td>7.0</td>\n",
       "      <td>17.0</td>\n",
       "      <td>31</td>\n",
       "      <td>1.0</td>\n",
       "      <td>NaN</td>\n",
       "      <td>Regulatory</td>\n",
       "      <td>0.964488</td>\n",
       "      <td>None</td>\n",
       "      <td>None</td>\n",
       "    </tr>\n",
       "    <tr>\n",
       "      <th>HprR+CusR</th>\n",
       "      <td>HprR+CusR</td>\n",
       "      <td>4.190000e-16</td>\n",
       "      <td>0.000000e+00</td>\n",
       "      <td>0.857143</td>\n",
       "      <td>0.545455</td>\n",
       "      <td>0.666667</td>\n",
       "      <td>6.0</td>\n",
       "      <td>7.0</td>\n",
       "      <td>11</td>\n",
       "      <td>2.0</td>\n",
       "      <td>NaN</td>\n",
       "      <td>Regulatory</td>\n",
       "      <td>0.795047</td>\n",
       "      <td>None</td>\n",
       "      <td>None</td>\n",
       "    </tr>\n",
       "    <tr>\n",
       "      <th>PhoB-1</th>\n",
       "      <td>PhoB</td>\n",
       "      <td>1.190000e-17</td>\n",
       "      <td>0.000000e+00</td>\n",
       "      <td>0.191489</td>\n",
       "      <td>0.900000</td>\n",
       "      <td>0.315789</td>\n",
       "      <td>9.0</td>\n",
       "      <td>47.0</td>\n",
       "      <td>10</td>\n",
       "      <td>1.0</td>\n",
       "      <td>NaN</td>\n",
       "      <td>Regulatory</td>\n",
       "      <td>0.103377</td>\n",
       "      <td>None</td>\n",
       "      <td>None</td>\n",
       "    </tr>\n",
       "    <tr>\n",
       "      <th>Fnr-1</th>\n",
       "      <td>Fnr</td>\n",
       "      <td>7.500000e-24</td>\n",
       "      <td>2.840000e-19</td>\n",
       "      <td>0.207921</td>\n",
       "      <td>0.488372</td>\n",
       "      <td>0.291667</td>\n",
       "      <td>21.0</td>\n",
       "      <td>101.0</td>\n",
       "      <td>43</td>\n",
       "      <td>1.0</td>\n",
       "      <td>NaN</td>\n",
       "      <td>Regulatory</td>\n",
       "      <td>1.230918</td>\n",
       "      <td>None</td>\n",
       "      <td>None</td>\n",
       "    </tr>\n",
       "    <tr>\n",
       "      <th>TdcAR</th>\n",
       "      <td>TdcR+TdcA+IHF+Crp</td>\n",
       "      <td>1.710000e-19</td>\n",
       "      <td>0.000000e+00</td>\n",
       "      <td>1.000000</td>\n",
       "      <td>0.583333</td>\n",
       "      <td>0.736842</td>\n",
       "      <td>7.0</td>\n",
       "      <td>7.0</td>\n",
       "      <td>12</td>\n",
       "      <td>4.0</td>\n",
       "      <td>NaN</td>\n",
       "      <td>Regulatory</td>\n",
       "      <td>0.510933</td>\n",
       "      <td>max_regs=4</td>\n",
       "      <td>None</td>\n",
       "    </tr>\n",
       "  </tbody>\n",
       "</table>\n",
       "</div>"
      ],
      "text/plain": [
       "                   regulator        pvalue        qvalue  precision    recall  \\\n",
       "CysB-1                  CysB  0.000000e+00  1.980000e-07   0.411765  0.225806   \n",
       "HprR+CusR          HprR+CusR  4.190000e-16  0.000000e+00   0.857143  0.545455   \n",
       "PhoB-1                  PhoB  1.190000e-17  0.000000e+00   0.191489  0.900000   \n",
       "Fnr-1                    Fnr  7.500000e-24  2.840000e-19   0.207921  0.488372   \n",
       "TdcAR      TdcR+TdcA+IHF+Crp  1.710000e-19  0.000000e+00   1.000000  0.583333   \n",
       "\n",
       "            f1score    TP  regulon_size  imodulon_size  n_regs  single_gene  \\\n",
       "CysB-1     0.291667   7.0          17.0             31     1.0          NaN   \n",
       "HprR+CusR  0.666667   6.0           7.0             11     2.0          NaN   \n",
       "PhoB-1     0.315789   9.0          47.0             10     1.0          NaN   \n",
       "Fnr-1      0.291667  21.0         101.0             43     1.0          NaN   \n",
       "TdcAR      0.736842   7.0           7.0             12     4.0          NaN   \n",
       "\n",
       "             category   exp_var trn_enrich_params  note  \n",
       "CysB-1     Regulatory  0.964488              None  None  \n",
       "HprR+CusR  Regulatory  0.795047              None  None  \n",
       "PhoB-1     Regulatory  0.103377              None  None  \n",
       "Fnr-1      Regulatory  1.230918              None  None  \n",
       "TdcAR      Regulatory  0.510933        max_regs=4  None  "
      ]
     },
     "execution_count": 8,
     "metadata": {},
     "output_type": "execute_result"
    }
   ],
   "source": [
    "regulatory_ims.head()"
   ]
  },
  {
   "cell_type": "code",
   "execution_count": 9,
   "metadata": {},
   "outputs": [
    {
     "data": {
      "text/plain": [
       "Text(0, 0.5, 'precision / recall')"
      ]
     },
     "execution_count": 9,
     "metadata": {},
     "output_type": "execute_result"
    },
    {
     "name": "stderr",
     "output_type": "stream",
     "text": [
      "findfont: Font family ['sans-serif'] not found. Falling back to DejaVu Sans.\n"
     ]
    },
    {
     "data": {
      "image/png": "[encoded data removed]",
      "text/plain": [
       "<Figure size 576x216 with 2 Axes>"
      ]
     },
     "metadata": {
      "needs_background": "light"
     },
     "output_type": "display_data"
    }
   ],
   "source": [
    "fig,axs = plt.subplots(1,2,figsize=(8,3))\n",
    "axs[0].scatter(regulatory_ims['regulon_size'],regulatory_ims['f1score'])\n",
    "axs[0].set_xlabel('IM_size')\n",
    "axs[0].set_ylabel('f1score')\n",
    "pre_d_rec = [ (regulatory_ims['precision'][i]/regulatory_ims['recall'][i]) for i in range(len(regulatory_ims['precision']))]\n",
    "axs[1].scatter(regulatory_ims['regulon_size'],pre_d_rec)\n",
    "axs[1].set_xlabel('IM_size')\n",
    "axs[1].set_ylabel('precision / recall')"
   ]
  },
  {
   "cell_type": "code",
   "execution_count": 11,
   "metadata": {},
   "outputs": [
    {
     "data": {
      "text/plain": [
       "Text(0, 0.5, 'f1score')"
      ]
     },
     "execution_count": 11,
     "metadata": {},
     "output_type": "execute_result"
    },
    {
     "data": {
      "image/png": "[encoded data removed]",
      "text/plain": [
       "<Figure size 1008x288 with 3 Axes>"
      ]
     },
     "metadata": {
      "needs_background": "light"
     },
     "output_type": "display_data"
    }
   ],
   "source": [
    "fig,axs = plt.subplots(1,3,figsize=(14,4))\n",
    "axs[0].scatter(regulatory_ims['regulon_size'],regulatory_ims['precision'])\n",
    "axs[0].set_xlabel('IM_size')\n",
    "axs[0].set_ylabel('precision')\n",
    "axs[1].scatter(regulatory_ims['regulon_size'],regulatory_ims['recall'])\n",
    "axs[1].set_xlabel('IM_size')\n",
    "axs[1].set_ylabel('recall')\n",
    "axs[2].scatter(regulatory_ims['regulon_size'],regulatory_ims['f1score'])\n",
    "axs[2].set_xlabel('IM_size')\n",
    "axs[2].set_ylabel('f1score')"
   ]
  },
  {
   "cell_type": "code",
   "execution_count": 8,
   "metadata": {},
   "outputs": [],
   "source": [
    "TRN = precise2.trn\n",
    "TRN = TRN[TRN['evidence'].notna()]"
   ]
  },
  {
   "cell_type": "code",
   "execution_count": 9,
   "metadata": {},
   "outputs": [],
   "source": [
    "im_names = list(regulatory_ims.index)\n",
    "tf = list(regulatory_ims['regulator'] )\n",
    "\n",
    "gene_list = []\n",
    "im_size = []\n",
    "for im in im_names:\n",
    "    genes = list( precise2.view_imodulon(im).index )\n",
    "    gene_list.append( genes )\n",
    "    im_size.append( len(genes) )"
   ]
  },
  {
   "cell_type": "code",
   "execution_count": 10,
   "metadata": {},
   "outputs": [],
   "source": [
    "p_im_db = pd.DataFrame( list(zip(im_names, tf, gene_list,im_size)), columns =['im_name', 'tf','genes','size'])\n",
    "p_im_db.to_csv('data/precise2_im_info_new.csv',index=None)"
   ]
  },
  {
   "cell_type": "markdown",
   "metadata": {},
   "source": [
    "## IM membership"
   ]
  },
  {
   "cell_type": "code",
   "execution_count": 6,
   "metadata": {},
   "outputs": [],
   "source": [
    "import ast\n",
    "im_info = pd.read_csv('data/precise2_im_info_new.csv')"
   ]
  },
  {
   "cell_type": "code",
   "execution_count": 7,
   "metadata": {},
   "outputs": [
    {
     "data": {
      "text/html": [
       "<div>\n",
       "<style scoped>\n",
       "    .dataframe tbody tr th:only-of-type {\n",
       "        vertical-align: middle;\n",
       "    }\n",
       "\n",
       "    .dataframe tbody tr th {\n",
       "        vertical-align: top;\n",
       "    }\n",
       "\n",
       "    .dataframe thead th {\n",
       "        text-align: right;\n",
       "    }\n",
       "</style>\n",
       "<table border=\"1\" class=\"dataframe\">\n",
       "  <thead>\n",
       "    <tr style=\"text-align: right;\">\n",
       "      <th></th>\n",
       "      <th>im_name</th>\n",
       "      <th>tf</th>\n",
       "      <th>genes</th>\n",
       "      <th>size</th>\n",
       "    </tr>\n",
       "  </thead>\n",
       "  <tbody>\n",
       "    <tr>\n",
       "      <th>0</th>\n",
       "      <td>CysB-1</td>\n",
       "      <td>CysB</td>\n",
       "      <td>['b0828', 'b0829', 'b0830', 'b1287', 'b1729', ...</td>\n",
       "      <td>31</td>\n",
       "    </tr>\n",
       "    <tr>\n",
       "      <th>1</th>\n",
       "      <td>HprR+CusR</td>\n",
       "      <td>HprR+CusR</td>\n",
       "      <td>['b0123', 'b0484', 'b0570', 'b0571', 'b0572', ...</td>\n",
       "      <td>11</td>\n",
       "    </tr>\n",
       "    <tr>\n",
       "      <th>2</th>\n",
       "      <td>PhoB-1</td>\n",
       "      <td>PhoB</td>\n",
       "      <td>['b0241', 'b0383', 'b0399', 'b0400', 'b3723', ...</td>\n",
       "      <td>10</td>\n",
       "    </tr>\n",
       "    <tr>\n",
       "      <th>3</th>\n",
       "      <td>Fnr-1</td>\n",
       "      <td>Fnr</td>\n",
       "      <td>['b0894', 'b0895', 'b0896', 'b0903', 'b1127', ...</td>\n",
       "      <td>43</td>\n",
       "    </tr>\n",
       "    <tr>\n",
       "      <th>4</th>\n",
       "      <td>TdcAR</td>\n",
       "      <td>TdcR+TdcA+IHF+Crp</td>\n",
       "      <td>['b0114', 'b2579', 'b4471', 'b3113', 'b3114', ...</td>\n",
       "      <td>12</td>\n",
       "    </tr>\n",
       "  </tbody>\n",
       "</table>\n",
       "</div>"
      ],
      "text/plain": [
       "     im_name                 tf  \\\n",
       "0     CysB-1               CysB   \n",
       "1  HprR+CusR          HprR+CusR   \n",
       "2     PhoB-1               PhoB   \n",
       "3      Fnr-1                Fnr   \n",
       "4      TdcAR  TdcR+TdcA+IHF+Crp   \n",
       "\n",
       "                                               genes  size  \n",
       "0  ['b0828', 'b0829', 'b0830', 'b1287', 'b1729', ...    31  \n",
       "1  ['b0123', 'b0484', 'b0570', 'b0571', 'b0572', ...    11  \n",
       "2  ['b0241', 'b0383', 'b0399', 'b0400', 'b3723', ...    10  \n",
       "3  ['b0894', 'b0895', 'b0896', 'b0903', 'b1127', ...    43  \n",
       "4  ['b0114', 'b2579', 'b4471', 'b3113', 'b3114', ...    12  "
      ]
     },
     "execution_count": 7,
     "metadata": {},
     "output_type": "execute_result"
    }
   ],
   "source": [
    "im_info.head()"
   ]
  },
  {
   "cell_type": "code",
   "execution_count": 8,
   "metadata": {},
   "outputs": [
    {
     "data": {
      "text/plain": [
       "dict_keys(['CysB-1', 'HprR+CusR', 'PhoB-1', 'Fnr-1', 'TdcAR', 'Fimbriae', 'PurR-2', 'Fnr+NarL', 'GalRS', 'BtsR', 'PyrR', 'PlaR', 'RpoN+FhlA', 'RhaS', 'NanR', 'FadR', 'NrdR', 'GlcC', 'BaeR+CpxR', 'NikR', 'Isoleucine', 'RpoN+PspF', 'OxyR', 'TrpR', 'CsqR', 'LldR', 'Thiamine-1', 'PuuR', 'YcjW', 'PdhR+OmpR', 'NsrR', 'GntR', 'Fnr+NarLP', 'RcsAB', 'MalT', 'TyrR', 'Molybdopterin', 'Fnr-2', 'AtoC', 'Leucine', 'SoxS', 'Translation', 'RcnR', 'Lrp', 'Nac', 'KdpE', 'PhoB-2', 'RbsR', 'CysB-2', 'FlhDC-1', 'GatR', 'ArgR', 'GadX', 'RpoN+NtrC-1', 'XylR', 'ArcA', 'BirA', 'EvgA', 'BluR', 'LsrR', 'Zur', 'RpoE', 'Fur-1', 'PurR-1', 'ArgP', 'AllR', 'FucR', 'Fur-2', 'Mlc', 'CecR', 'Fnr+IHF+gcvB', 'YgbI', 'LexA', 'Cra', 'GlpR', 'RpoN+NtrC-2', 'PaaX', 'Oligopeptide', 'CdaR', 'RpoN+PrpR+Cra', 'FliA', 'CpxR', 'Histidine', 'RpoH', 'GadE+FliZ', 'GcvA', 'YdeO+H-NS', 'NagC', 'GutM+SrlR', 'MetJ', 'RpoS', 'CysB-3', 'FlhDC-2', 'RutR', 'PhoP', 'RyhB', 'BasR', 'NarL', 'RpoS+ArgR+RpoN', 'Crp-related-2'])"
      ]
     },
     "execution_count": 8,
     "metadata": {},
     "output_type": "execute_result"
    }
   ],
   "source": [
    "IM_genes = {}\n",
    "for i in range(len(im_info['im_name'])):\n",
    "    IM_genes[im_info['im_name'][i]] = ast.literal_eval( im_info['genes'][i] )\n",
    "IM_genes.keys()"
   ]
  },
  {
   "cell_type": "markdown",
   "metadata": {},
   "source": [
    "## generate PWMs"
   ]
  },
  {
   "cell_type": "code",
   "execution_count": 9,
   "metadata": {},
   "outputs": [],
   "source": [
    "prib_sig = {'Sigma70':[],'Sigma32':[],'Sigma38':[],'Sigma24':[],'Sigma28':[],'Sigma54':[]}\n",
    "m35_sig = {'Sigma70':[],'Sigma32':[],'Sigma38':[],'Sigma24':[],'Sigma28':[],'Sigma54':[]}\n",
    "for p in bitome.promoters:\n",
    "    for k in prib_sig.keys():\n",
    "        if p.sigma_factors == [k]:\n",
    "            if p.box_10_location != None:\n",
    "                prib_sig[k].append(p)\n",
    "            if p.box_35_location != None:\n",
    "                m35_sig[k].append(p)\n",
    "                \n",
    "M_prib = {'Sigma70':[],'Sigma32':[],'Sigma38':[],'Sigma24':[],'Sigma28':[],'Sigma54':[]}\n",
    "M_m35 = {'Sigma70':[],'Sigma32':[],'Sigma38':[],'Sigma24':[],'Sigma28':[],'Sigma54':[]}\n",
    "for k in M_prib.keys():\n",
    "    if k == 'Sigma70':\n",
    "        M_prib[k] = [{'A': 0, 'C':0, 'G':0, 'T':0} for i in range(6)]\n",
    "        M_m35[k] = [{'A': 0, 'C':0, 'G':0, 'T':0} for i in range(6)]\n",
    "    elif k == 'Sigma32':\n",
    "        M_prib[k] = [{'A': 0, 'C':0, 'G':0, 'T':0} for i in range(6)]\n",
    "        M_m35[k] = [{'A': 0, 'C':0, 'G':0, 'T':0} for i in range(7)]\n",
    "    elif k == 'Sigma38':\n",
    "        M_prib[k] = [{'A': 0, 'C':0, 'G':0, 'T':0} for i in range(11)]\n",
    "        M_m35[k] = [{'A': 0, 'C':0, 'G':0, 'T':0} for i in range(6)]\n",
    "    elif k == 'Sigma24':\n",
    "        M_prib[k] = [{'A': 0, 'C':0, 'G':0, 'T':0} for i in range(7)]\n",
    "        M_m35[k] = [{'A': 0, 'C':0, 'G':0, 'T':0} for i in range(7)]\n",
    "    elif k == 'Sigma28':\n",
    "        M_prib[k] = [{'A': 0, 'C':0, 'G':0, 'T':0} for i in range(8)]\n",
    "        M_m35[k] = [{'A': 0, 'C':0, 'G':0, 'T':0} for i in range(6)]\n",
    "    elif k == 'Sigma54':\n",
    "        M_prib[k] = [{'A': 0, 'C':0, 'G':0, 'T':0} for i in range(5)]\n",
    "        M_m35[k] = [{'A': 0, 'C':0, 'G':0, 'T':0} for i in range(6)]\n",
    "\n",
    "for k in M_prib.keys():\n",
    "    for p in prib_sig[k]:\n",
    "        if int(p.box_10_location.strand) == -1:\n",
    "            s = complement(revstrand( str(bitome.sequence)[ int(p.box_10_location.start):int(p.box_10_location.end)] ))\n",
    "        else:\n",
    "            s = str(bitome.sequence)[ int(p.box_10_location.start):int(p.box_10_location.end)]\n",
    "           \n",
    "        if len(s) != len(M_prib[k]):\n",
    "            continue\n",
    "            \n",
    "        for i in range(len(s)):\n",
    "            M_prib[k][i][s[i]] = M_prib[k][i][s[i]] + 1\n",
    "        \n",
    "        if int(p.box_35_location.strand) == -1:\n",
    "            s2 = complement(revstrand( str(bitome.sequence)[ int(p.box_35_location.start):int(p.box_35_location.end)] ))\n",
    "        else:\n",
    "            s2 = str(bitome.sequence)[ int(p.box_35_location.start):int(p.box_35_location.end)]\n",
    "            \n",
    "        if len(s2) != len(M_m35[k]):\n",
    "            continue\n",
    "            \n",
    "        for i in range(len(s2)):\n",
    "            M_m35[k][i][s2[i]] = M_m35[k][i][s2[i]] + 1          \n",
    "            \n",
    "for k in M_prib.keys():\n",
    "    for i in range(len(M_prib[k])):\n",
    "        SUM = M_prib[k][i]['A']+M_prib[k][i]['C']+M_prib[k][i]['G']+M_prib[k][i]['T']+4 # avoid log(0)\n",
    "        for nu in ['A','C','G','T']:\n",
    "            M_prib[k][i][nu] = log( (M_prib[k][i][nu]+1)/ SUM )\n",
    "                    \n",
    "for k in M_m35.keys():\n",
    "    for i in range(len(M_m35[k])):\n",
    "        SUM = M_m35[k][i]['A']+M_m35[k][i]['C']+M_m35[k][i]['G']+M_m35[k][i]['T'] + 4\n",
    "        for nu in ['A','C','G','T']:\n",
    "            M_m35[k][i][nu] = log( (M_m35[k][i][nu]+1)/ SUM )\n",
    "            \n",
    "M_prib['Sigma38'] = M_prib['Sigma38'][4:11]"
   ]
  },
  {
   "cell_type": "code",
   "execution_count": 10,
   "metadata": {},
   "outputs": [],
   "source": [
    "m10_seq = { 'Sigma70':'TATAAT','Sigma38':'CTATACT','Sigma32':'CCCCAT','Sigma24':'TGTCAAA','Sigma28':'GCCGATAA','Sigma54':'TGCAT'}\n",
    "m35_seq = { 'Sigma70':'TTGACA','Sigma38':'TTGACA','Sigma32':'CTTGAAA','Sigma24':'TGAACTT','Sigma28':'CTAAAG','Sigma54':'TGGCAC'}"
   ]
  },
  {
   "cell_type": "code",
   "execution_count": 12,
   "metadata": {},
   "outputs": [],
   "source": [
    "sigma_pssm = {}\n",
    "sigma_pssm['M_prib'] = M_prib\n",
    "sigma_pssm['M_m35'] = M_m35\n",
    "sigma_pssm['m10_seq'] = m10_seq\n",
    "sigma_pssm['m35_seq'] = m35_seq\n",
    "# save sigma factor PSSM\n",
    "import pickle \n",
    "file = open(\"data/sigma_pssm_ecoli.txt\", \"wb\")\n",
    "pickle.dump( sigma_pssm , file) \n",
    "file.close()"
   ]
  },
  {
   "cell_type": "markdown",
   "metadata": {},
   "source": [
    "### Load Sigma PSSM"
   ]
  },
  {
   "cell_type": "code",
   "execution_count": 13,
   "metadata": {},
   "outputs": [],
   "source": [
    "# reading the data from the file \n",
    "with open('data/sigma_pssm_ecoli.txt', 'rb') as handle: \n",
    "    data = handle.read()  \n",
    "# reconstructing the data as dictionary \n",
    "d = pickle.loads(data)\n",
    "M_prib = d['M_prib']\n",
    "M_m35 = d['M_m35']\n",
    "m10_seq = d['m10_seq']\n",
    "m35_seq = d['m35_seq']"
   ]
  },
  {
   "cell_type": "markdown",
   "metadata": {},
   "source": [
    "###  Load TF and IM motifs"
   ]
  },
  {
   "cell_type": "code",
   "execution_count": 14,
   "metadata": {},
   "outputs": [],
   "source": [
    "pwm_db = rpwm('data/motif_pwm_db.txt')\n",
    "pwm_im = rlogodds('data/motif_logodds.txt')\n",
    "IM_motif_to_use = list( set(pwm_im.keys())&set(IM_genes.keys()) )\n",
    "\n",
    "tf_genes = ['araC', 'arcA', 'argR','argP','baeR','basR','cysB', 'cpxR', 'cra',\n",
    "       'crp', 'mlc','mqsA' ,'evgA', 'exuR', 'fadR','iclR','ihfA','ihfB','iscR','fhlA','flhD','flhC', 'fnr',\n",
    "       'fur','gadE','gadW','gadX','galR','galS','gcvA', 'glpR','glrR','gntR', 'tyrR','lexA','leuO',\n",
    "        'lrp', 'malT', 'metJ','nac', 'nagC','nanR' ,'narL','narP','nrdR','nsrR',\n",
    "        'glnG','ompR','oxyR','pdhR','phoB','phoP','purR', 'puuR', 'rcsA','rcsB','rhaS','rutR','soxS', 'trpR', 'xylR','ydeO']"
   ]
  },
  {
   "cell_type": "code",
   "execution_count": 15,
   "metadata": {},
   "outputs": [],
   "source": [
    "tf_list =['AraC', 'ArcA', 'ArgP', 'ArgR', 'BaeR', 'BasR', 'CysB', 'CpxR', \n",
    "          'Cra', 'CRP', 'Mlc', 'MqsA', 'EvgA', 'ExuR', 'FadR', 'IclR', 'IscR', \n",
    "          'IHF', 'FhlA', 'FlhDC', 'FNR', 'Fur', 'GadE', 'GadW', 'GadX', 'GalR', 'GalS', \n",
    "          'GcvA', 'GlpR', 'GlrR', 'GntR', 'TyrR', 'LexA', 'LeuO', 'Lrp', 'MalT', 'MetJ', 'Nac', \n",
    "          'NagC', 'NanR', 'NarL', 'NarP', 'NrdR', 'NsrR', 'NtrC', 'OmpR', 'OxyR', 'PdhR', 'PhoB', 'PhoP',\n",
    "          'PurR', 'PuuR', 'RcsAB', 'RhaS', 'RutR', 'SoxS', 'TrpR', 'XylR', 'YdeO']\n",
    "\n",
    "regulon_genes={}\n",
    "for TF in bitome.transcription_factors:\n",
    "    if TF.name in tf_list:\n",
    "        regulon_genes[TF.name] = []   \n",
    "        for r in TF.regulons:\n",
    "                for p in list(r.regulated_promoters.values())[0]:\n",
    "                    if p.transcription_unit != None and len(p.transcription_unit.genes)>0:\n",
    "                        for g in p.transcription_unit.genes:\n",
    "                            regulon_genes[TF.name].append( g.name)"
   ]
  },
  {
   "cell_type": "code",
   "execution_count": 16,
   "metadata": {},
   "outputs": [],
   "source": [
    "# cobvert gene name and b number.\n",
    "b_g = {}\n",
    "for g in bitome.genes:\n",
    "    b_g[g.name] = g.locus_tag"
   ]
  },
  {
   "cell_type": "code",
   "execution_count": 17,
   "metadata": {},
   "outputs": [
    {
     "name": "stdout",
     "output_type": "stream",
     "text": [
      "Time:  4.935015899999996\n",
      "{'Cra im Matched Motif': 'CAACGAAAACAATAATGCGTAAGGTAGAA', 'Cra im score': -531, 'Cra im upstreamTSS': 1, 'Cra im distToTSS': 16.0, 'Cra im HelT_avg': 34.78068965517242, 'Cra im HelT_range': 4.095000000000006, 'Cra im MGW_avg': 5.073448275862069, 'Cra im MGW_range': 2.3600000000000003, 'Cra im ProT_avg': -8.945862068965518, 'Cra im ProT_range': 12.99, 'Cra im Roll_avg': -0.5175862068965518, 'Cra im Roll_range': 6.425000000000001, 'Cra im HelT_max': 36.915000000000006, 'Cra im HelT_min': 32.82, 'Cra im MGW_max': 6.11, 'Cra im MGW_min': 3.75, 'Cra im ProT_max': -1.48, 'Cra im ProT_min': -14.47, 'Cra im Roll_max': 2.4800000000000004, 'Cra im Roll_min': -3.9450000000000003, 'Cra im HelT_peak_width': 1.594420590572675, 'Cra im HelT_num_peaks': 4, 'Cra im HelT_peak_dist': 8.333333333333334, 'Cra im Roll_peak_width': 2.9421339071868244, 'Cra im Roll_num_peaks': 4, 'Cra im Roll_peak_dist': 7.0, 'Cra im MGW_peak_width': 2.745880436770283, 'Cra im MGW_num_peaks': 4, 'Cra im MGW_peak_dist': 7.0, 'Cra im ProT_peak_width': 1.8351624651939145, 'Cra im ProT_num_peaks': 4, 'Cra im ProT_peak_dist': 6.0}\n"
     ]
    }
   ],
   "source": [
    "# test runtime\n",
    "import timeit\n",
    "start = timeit.default_timer()\n",
    "\n",
    "gltX = bitome.transcription_units[220]\n",
    "tempr= bitome.motif_match(pwm_im,  gltX,'Cra' , True, True)\n",
    "\n",
    "stop = timeit.default_timer()\n",
    "\n",
    "print('Time: ', stop - start) \n",
    "print(tempr)"
   ]
  },
  {
   "cell_type": "markdown",
   "metadata": {},
   "source": [
    "## generate feature matrix"
   ]
  },
  {
   "cell_type": "code",
   "execution_count": null,
   "metadata": {},
   "outputs": [],
   "source": [
    "motif_feature = []\n",
    "for g in bitome.genes:\n",
    "    if len(g.transcription_units) < 1:\n",
    "        continue\n",
    "    \n",
    "    for tu in g.transcription_units:\n",
    "        if tu.tss == None or int(tu.tss) < 200:\n",
    "            continue\n",
    "            \n",
    "        data = {}\n",
    "        data['ID'] = g.locus_tag\n",
    "        data['gene'] = g.name\n",
    "        data['TU'] = tu.name\n",
    "        data['strand'] = int(tu.location.strand)\n",
    "        data['TU_length'] = len(tu.sequence)\n",
    "        \n",
    "        # replication strand\n",
    "        data['leading'] = 0\n",
    "        data['lagging'] = 0\n",
    "        data['terminus'] = 0\n",
    "        data[ str(g.replication_strand) ] = 1\n",
    "        \n",
    "        #sigmulon features ( sigma 38 excluded )\n",
    "        for signame in m10_seq.keys():\n",
    "            result = bitome.score_pribnow_m35( tu, signame, M_prib, M_m35,m10_seq,m35_seq)\n",
    "            result.pop(signame+'_Matched_Prib')\n",
    "            result.pop(signame+'_Matched_m35')\n",
    "            data.update( result )\n",
    "            \n",
    "        #USR and DSR\n",
    "        data['USR_AT'] = bitome.USR_AT(tu)\n",
    "        data['DSR_AG'] = bitome.DSR_AG(tu)\n",
    "        \n",
    "        #TF and IM motif features\n",
    "        for tf in list(pwm_db.keys()):\n",
    "            result = bitome.motif_match(pwm_db,  tu,  tf, False,False)\n",
    "            result.pop(tf+' Matched Motif')\n",
    "            data.update(result)\n",
    "        \n",
    "        for im in IM_motif_to_use:\n",
    "            result = bitome.motif_match(pwm_im,  tu, im, True,False)\n",
    "            result.pop(im +' im'+' Matched Motif')\n",
    "            data.update(result)\n",
    "        \n",
    "        #distance features    \n",
    "        for tg in tf_genes:\n",
    "            data['distTo_'+tg] = bitome.inter_gene_distance(g,bitome.get_gene(tg))\n",
    "            \n",
    "        data['distToOrigin'] = g.origin_distance\n",
    "        data['distToTer'] = g.terminus_distance\n",
    "        data['Ori/(Ori+Ter)'] = g.origin_distance/(g.origin_distance+g.terminus_distance)\n",
    "        data['orderInOperon'] = g.position_in_operon\n",
    "        \n",
    "        for tf in regulon_genes.keys():\n",
    "            regulon_list = regulon_genes[tf]\n",
    "            data['distTo_'+tf+'_regulated'] = bitome.distToRegulon(g, regulon_list )\n",
    "        \n",
    "        data.update( bitome.nucleotide_composition( tu ) )\n",
    "        \n",
    "        motif_feature.append(data)"
   ]
  },
  {
   "cell_type": "code",
   "execution_count": null,
   "metadata": {},
   "outputs": [],
   "source": [
    "motif_data = pd.DataFrame(motif_feature)\n",
    "motif_data.head()"
   ]
  },
  {
   "cell_type": "markdown",
   "metadata": {},
   "source": [
    "HelT\tRoll\tShift\tSlide\tRise\tTilT\tBuckle\tShear\tStretch\tStagger\tOpening\tMGW\tProT\tEP\t"
   ]
  },
  {
   "cell_type": "code",
   "execution_count": null,
   "metadata": {},
   "outputs": [],
   "source": [
    "n_up = 40\n",
    "n_down = 10\n",
    "\n",
    "shape_feature = []\n",
    "for g in bitome.genes:\n",
    "    if len(g.transcription_units) < 1:\n",
    "        continue\n",
    "    \n",
    "    for tu in g.transcription_units:\n",
    "        if tu.tss == None or int(tu.tss) < 200:\n",
    "            continue\n",
    "        data = {}\n",
    "        data['ID'] = g.locus_tag\n",
    "        data['gene'] = g.name\n",
    "        data['TU'] = tu.name\n",
    "        TSS= tu.tss\n",
    "        if int(tu.location.strand) == -1:\n",
    "            start = TSS - n_up\n",
    "            end = TSS + n_down\n",
    "        else:\n",
    "            start = TSS - n_down\n",
    "            end= TSS + n_up\n",
    "            \n",
    "        table = get_shape(start,end,shape_table)\n",
    "        helt =  list(table['HelT'])\n",
    "        roll =  list(table['Roll'])\n",
    "        mgw = list(table['MGW'])\n",
    "        prot=  list(table['ProT'])\n",
    "        slide = list(table['Slide'])\n",
    "        stretch = list(table['Stretch'])\n",
    "        stagger = list(table['Stagger'])\n",
    "        opening = list(table['Opening'])\n",
    "        ep = list(table['EP'])\n",
    "        \n",
    "        \n",
    "        if tu.location.strand == -1:\n",
    "            helt.reverse()\n",
    "            mgw.reverse()\n",
    "            prot.reverse()\n",
    "            roll.reverse()\n",
    "            slide.reverse()\n",
    "            stretch.reverse()\n",
    "            stagger.reverse()\n",
    "            opening.reverse()\n",
    "            ep.reverse()\n",
    "            \n",
    "        temp = {'HelT':helt, 'MGW':mgw,'ProT':prot, 'Roll':roll,'Slide':slide,\n",
    "                'Stretch':stretch,'Stagger': stagger,'Opening':opening,'EP': ep}\n",
    "        for shape in temp.keys():\n",
    "            for i in range(51):\n",
    "                index = i - 40\n",
    "                data[shape+'_TSS_'+ str(index)] = temp[shape][i]\n",
    "                \n",
    "        shape_feature.append(data)"
   ]
  },
  {
   "cell_type": "code",
   "execution_count": null,
   "metadata": {},
   "outputs": [],
   "source": [
    "shape_data = pd.DataFrame(shape_feature)\n",
    "shape_data.head()"
   ]
  },
  {
   "cell_type": "code",
   "execution_count": null,
   "metadata": {},
   "outputs": [],
   "source": [
    "data_table = pd.concat([motif_data, shape_data[shape_data.columns[3:]]], axis=1)\n",
    "data_table.head()"
   ]
  },
  {
   "cell_type": "code",
   "execution_count": null,
   "metadata": {},
   "outputs": [],
   "source": [
    "data_table.to_csv('data.csv', index = None)"
   ]
  },
  {
   "cell_type": "markdown",
   "metadata": {},
   "source": [
    "## average  by gene"
   ]
  },
  {
   "cell_type": "code",
   "execution_count": 18,
   "metadata": {},
   "outputs": [],
   "source": [
    "data_table = pd.read_csv('data.csv')"
   ]
  },
  {
   "cell_type": "code",
   "execution_count": 19,
   "metadata": {},
   "outputs": [],
   "source": [
    "unique_ids = np.unique(list(data_table['ID']))\n",
    "\n",
    "multiple_ids = {}\n",
    "for n in unique_ids:\n",
    "    if list(data_table['ID']).count(n) > 1:\n",
    "        multiple_ids[n] = list(data_table['ID']).count(n)\n",
    "\n",
    "remove_list = []\n",
    "length = len(data_table['ID'])\n",
    "for i in range(length):\n",
    "    if data_table.iloc[i,0] in multiple_ids.keys():\n",
    "        remove_list.append(i)\n",
    "\n",
    "single_features = data_table.drop(remove_list)\n",
    "single_features = single_features.reset_index()\n",
    "single_features = single_features.drop(columns=['index'])\n",
    "single_features = single_features[['ID']+list(single_features.columns)[3:]]"
   ]
  },
  {
   "cell_type": "code",
   "execution_count": 20,
   "metadata": {},
   "outputs": [],
   "source": [
    "featureList = list(single_features.columns)[1:]\n",
    "multi = {}\n",
    "for g in multiple_ids.keys():\n",
    "    multi[g] = {}\n",
    "    multi[g]['ID'] = str(g)\n",
    "    for f in featureList:\n",
    "        multi[g][f] = 0\n",
    "        \n",
    "for i in range(len(data_table['ID']) ):\n",
    "    if data_table['ID'][i] in multiple_ids.keys():\n",
    "        for f in featureList:\n",
    "            multi[ str(data_table['ID'][i]) ][f] += float(data_table[f][i]/multiple_ids[str(data_table['ID'][i])])"
   ]
  },
  {
   "cell_type": "code",
   "execution_count": 21,
   "metadata": {},
   "outputs": [],
   "source": [
    "multi_table = []\n",
    "for k in multi.keys():\n",
    "    multi_table.append(multi[k])\n",
    "multi_pd = pd.DataFrame(multi_table)"
   ]
  },
  {
   "cell_type": "code",
   "execution_count": 22,
   "metadata": {},
   "outputs": [
    {
     "data": {
      "text/html": [
       "<div>\n",
       "<style scoped>\n",
       "    .dataframe tbody tr th:only-of-type {\n",
       "        vertical-align: middle;\n",
       "    }\n",
       "\n",
       "    .dataframe tbody tr th {\n",
       "        vertical-align: top;\n",
       "    }\n",
       "\n",
       "    .dataframe thead th {\n",
       "        text-align: right;\n",
       "    }\n",
       "</style>\n",
       "<table border=\"1\" class=\"dataframe\">\n",
       "  <thead>\n",
       "    <tr style=\"text-align: right;\">\n",
       "      <th></th>\n",
       "      <th>ID</th>\n",
       "      <th>strand</th>\n",
       "      <th>TU_length</th>\n",
       "      <th>leading</th>\n",
       "      <th>lagging</th>\n",
       "      <th>terminus</th>\n",
       "      <th>Sigma70_Prib_Start</th>\n",
       "      <th>Sigma70_Prib_score</th>\n",
       "      <th>Sigma70_Prib_hmd</th>\n",
       "      <th>Sigma70_Prib_Tm</th>\n",
       "      <th>...</th>\n",
       "      <th>EP_TSS_1</th>\n",
       "      <th>EP_TSS_2</th>\n",
       "      <th>EP_TSS_3</th>\n",
       "      <th>EP_TSS_4</th>\n",
       "      <th>EP_TSS_5</th>\n",
       "      <th>EP_TSS_6</th>\n",
       "      <th>EP_TSS_7</th>\n",
       "      <th>EP_TSS_8</th>\n",
       "      <th>EP_TSS_9</th>\n",
       "      <th>EP_TSS_10</th>\n",
       "    </tr>\n",
       "  </thead>\n",
       "  <tbody>\n",
       "    <tr>\n",
       "      <th>0</th>\n",
       "      <td>b0008</td>\n",
       "      <td>1.0</td>\n",
       "      <td>1040.0</td>\n",
       "      <td>1.0</td>\n",
       "      <td>0.0</td>\n",
       "      <td>0.0</td>\n",
       "      <td>-13.0</td>\n",
       "      <td>-4.060455</td>\n",
       "      <td>1.0</td>\n",
       "      <td>14.0</td>\n",
       "      <td>...</td>\n",
       "      <td>-7.41</td>\n",
       "      <td>-8.13</td>\n",
       "      <td>-8.79</td>\n",
       "      <td>-5.82</td>\n",
       "      <td>-7.34</td>\n",
       "      <td>-6.16</td>\n",
       "      <td>-8.05</td>\n",
       "      <td>-9.42</td>\n",
       "      <td>-8.51</td>\n",
       "      <td>-7.43</td>\n",
       "    </tr>\n",
       "    <tr>\n",
       "      <th>1</th>\n",
       "      <td>b0025</td>\n",
       "      <td>1.0</td>\n",
       "      <td>5897.0</td>\n",
       "      <td>1.0</td>\n",
       "      <td>0.0</td>\n",
       "      <td>0.0</td>\n",
       "      <td>-12.0</td>\n",
       "      <td>-3.290289</td>\n",
       "      <td>1.0</td>\n",
       "      <td>14.0</td>\n",
       "      <td>...</td>\n",
       "      <td>-6.70</td>\n",
       "      <td>-5.47</td>\n",
       "      <td>-7.24</td>\n",
       "      <td>-7.10</td>\n",
       "      <td>-6.78</td>\n",
       "      <td>-5.03</td>\n",
       "      <td>-4.86</td>\n",
       "      <td>-4.76</td>\n",
       "      <td>-5.10</td>\n",
       "      <td>-5.05</td>\n",
       "    </tr>\n",
       "    <tr>\n",
       "      <th>2</th>\n",
       "      <td>b0034</td>\n",
       "      <td>1.0</td>\n",
       "      <td>478.0</td>\n",
       "      <td>1.0</td>\n",
       "      <td>0.0</td>\n",
       "      <td>0.0</td>\n",
       "      <td>-13.0</td>\n",
       "      <td>-4.642584</td>\n",
       "      <td>2.0</td>\n",
       "      <td>14.0</td>\n",
       "      <td>...</td>\n",
       "      <td>-5.93</td>\n",
       "      <td>-5.99</td>\n",
       "      <td>-7.86</td>\n",
       "      <td>-7.47</td>\n",
       "      <td>-5.63</td>\n",
       "      <td>-7.57</td>\n",
       "      <td>-8.76</td>\n",
       "      <td>-8.97</td>\n",
       "      <td>-8.27</td>\n",
       "      <td>-5.64</td>\n",
       "    </tr>\n",
       "    <tr>\n",
       "      <th>3</th>\n",
       "      <td>b0035</td>\n",
       "      <td>-1.0</td>\n",
       "      <td>7920.0</td>\n",
       "      <td>0.0</td>\n",
       "      <td>1.0</td>\n",
       "      <td>0.0</td>\n",
       "      <td>-12.0</td>\n",
       "      <td>-5.778186</td>\n",
       "      <td>2.0</td>\n",
       "      <td>14.0</td>\n",
       "      <td>...</td>\n",
       "      <td>-8.38</td>\n",
       "      <td>-7.69</td>\n",
       "      <td>-6.76</td>\n",
       "      <td>-6.79</td>\n",
       "      <td>-7.65</td>\n",
       "      <td>-7.61</td>\n",
       "      <td>-7.47</td>\n",
       "      <td>-7.41</td>\n",
       "      <td>-8.29</td>\n",
       "      <td>-9.42</td>\n",
       "    </tr>\n",
       "    <tr>\n",
       "      <th>4</th>\n",
       "      <td>b0036</td>\n",
       "      <td>-1.0</td>\n",
       "      <td>7920.0</td>\n",
       "      <td>0.0</td>\n",
       "      <td>1.0</td>\n",
       "      <td>0.0</td>\n",
       "      <td>-12.0</td>\n",
       "      <td>-5.778186</td>\n",
       "      <td>2.0</td>\n",
       "      <td>14.0</td>\n",
       "      <td>...</td>\n",
       "      <td>-8.38</td>\n",
       "      <td>-7.69</td>\n",
       "      <td>-6.76</td>\n",
       "      <td>-6.79</td>\n",
       "      <td>-7.65</td>\n",
       "      <td>-7.61</td>\n",
       "      <td>-7.47</td>\n",
       "      <td>-7.41</td>\n",
       "      <td>-8.29</td>\n",
       "      <td>-9.42</td>\n",
       "    </tr>\n",
       "  </tbody>\n",
       "</table>\n",
       "<p>5 rows × 2192 columns</p>\n",
       "</div>"
      ],
      "text/plain": [
       "      ID  strand  TU_length  leading  lagging  terminus  Sigma70_Prib_Start  \\\n",
       "0  b0008     1.0     1040.0      1.0      0.0       0.0               -13.0   \n",
       "1  b0025     1.0     5897.0      1.0      0.0       0.0               -12.0   \n",
       "2  b0034     1.0      478.0      1.0      0.0       0.0               -13.0   \n",
       "3  b0035    -1.0     7920.0      0.0      1.0       0.0               -12.0   \n",
       "4  b0036    -1.0     7920.0      0.0      1.0       0.0               -12.0   \n",
       "\n",
       "   Sigma70_Prib_score  Sigma70_Prib_hmd  Sigma70_Prib_Tm  ...  EP_TSS_1  \\\n",
       "0           -4.060455               1.0             14.0  ...     -7.41   \n",
       "1           -3.290289               1.0             14.0  ...     -6.70   \n",
       "2           -4.642584               2.0             14.0  ...     -5.93   \n",
       "3           -5.778186               2.0             14.0  ...     -8.38   \n",
       "4           -5.778186               2.0             14.0  ...     -8.38   \n",
       "\n",
       "   EP_TSS_2  EP_TSS_3  EP_TSS_4  EP_TSS_5  EP_TSS_6  EP_TSS_7  EP_TSS_8  \\\n",
       "0     -8.13     -8.79     -5.82     -7.34     -6.16     -8.05     -9.42   \n",
       "1     -5.47     -7.24     -7.10     -6.78     -5.03     -4.86     -4.76   \n",
       "2     -5.99     -7.86     -7.47     -5.63     -7.57     -8.76     -8.97   \n",
       "3     -7.69     -6.76     -6.79     -7.65     -7.61     -7.47     -7.41   \n",
       "4     -7.69     -6.76     -6.79     -7.65     -7.61     -7.47     -7.41   \n",
       "\n",
       "   EP_TSS_9  EP_TSS_10  \n",
       "0     -8.51      -7.43  \n",
       "1     -5.10      -5.05  \n",
       "2     -8.27      -5.64  \n",
       "3     -8.29      -9.42  \n",
       "4     -8.29      -9.42  \n",
       "\n",
       "[5 rows x 2192 columns]"
      ]
     },
     "execution_count": 22,
     "metadata": {},
     "output_type": "execute_result"
    }
   ],
   "source": [
    "avg_features = single_features.append(multi_pd)\n",
    "avg_features=avg_features.reset_index()\n",
    "avg_features=avg_features.drop(columns=['index'])\n",
    "avg_features.head()"
   ]
  },
  {
   "cell_type": "code",
   "execution_count": 23,
   "metadata": {},
   "outputs": [],
   "source": [
    "avg_features.to_csv('features_avg.csv',index=None)"
   ]
  },
  {
   "cell_type": "markdown",
   "metadata": {},
   "source": [
    "## asess motif quality by ttest"
   ]
  },
  {
   "cell_type": "code",
   "execution_count": 24,
   "metadata": {},
   "outputs": [],
   "source": [
    "from scipy.stats import ttest_ind"
   ]
  },
  {
   "cell_type": "code",
   "execution_count": 25,
   "metadata": {},
   "outputs": [
    {
     "data": {
      "text/html": [
       "<div>\n",
       "<style scoped>\n",
       "    .dataframe tbody tr th:only-of-type {\n",
       "        vertical-align: middle;\n",
       "    }\n",
       "\n",
       "    .dataframe tbody tr th {\n",
       "        vertical-align: top;\n",
       "    }\n",
       "\n",
       "    .dataframe thead th {\n",
       "        text-align: right;\n",
       "    }\n",
       "</style>\n",
       "<table border=\"1\" class=\"dataframe\">\n",
       "  <thead>\n",
       "    <tr style=\"text-align: right;\">\n",
       "      <th></th>\n",
       "      <th>IM</th>\n",
       "      <th>IM avg score</th>\n",
       "      <th>avg score</th>\n",
       "      <th>p value</th>\n",
       "    </tr>\n",
       "  </thead>\n",
       "  <tbody>\n",
       "    <tr>\n",
       "      <th>0</th>\n",
       "      <td>Lrp</td>\n",
       "      <td>1892.048780</td>\n",
       "      <td>-302.338962</td>\n",
       "      <td>2.689605e-105</td>\n",
       "    </tr>\n",
       "    <tr>\n",
       "      <th>1</th>\n",
       "      <td>ArgP</td>\n",
       "      <td>1947.181818</td>\n",
       "      <td>-512.361063</td>\n",
       "      <td>2.213739e-103</td>\n",
       "    </tr>\n",
       "    <tr>\n",
       "      <th>2</th>\n",
       "      <td>Cra</td>\n",
       "      <td>2139.400000</td>\n",
       "      <td>-1578.247331</td>\n",
       "      <td>5.696442e-91</td>\n",
       "    </tr>\n",
       "    <tr>\n",
       "      <th>3</th>\n",
       "      <td>MetJ</td>\n",
       "      <td>859.750000</td>\n",
       "      <td>-4839.809784</td>\n",
       "      <td>3.942486e-84</td>\n",
       "    </tr>\n",
       "    <tr>\n",
       "      <th>4</th>\n",
       "      <td>PurR-1</td>\n",
       "      <td>1089.700000</td>\n",
       "      <td>-2754.147753</td>\n",
       "      <td>4.098817e-75</td>\n",
       "    </tr>\n",
       "    <tr>\n",
       "      <th>5</th>\n",
       "      <td>Fur-2</td>\n",
       "      <td>1042.756098</td>\n",
       "      <td>-2141.906630</td>\n",
       "      <td>4.107295e-71</td>\n",
       "    </tr>\n",
       "    <tr>\n",
       "      <th>6</th>\n",
       "      <td>Nac</td>\n",
       "      <td>1683.909091</td>\n",
       "      <td>-147.677427</td>\n",
       "      <td>1.800089e-69</td>\n",
       "    </tr>\n",
       "    <tr>\n",
       "      <th>7</th>\n",
       "      <td>CpxR</td>\n",
       "      <td>1237.000000</td>\n",
       "      <td>207.219767</td>\n",
       "      <td>1.448529e-65</td>\n",
       "    </tr>\n",
       "    <tr>\n",
       "      <th>8</th>\n",
       "      <td>TyrR</td>\n",
       "      <td>2597.692308</td>\n",
       "      <td>-2450.497641</td>\n",
       "      <td>2.263764e-63</td>\n",
       "    </tr>\n",
       "    <tr>\n",
       "      <th>9</th>\n",
       "      <td>Fur-1</td>\n",
       "      <td>1021.482759</td>\n",
       "      <td>-2055.628508</td>\n",
       "      <td>2.855673e-45</td>\n",
       "    </tr>\n",
       "    <tr>\n",
       "      <th>10</th>\n",
       "      <td>CysB-2</td>\n",
       "      <td>2443.000000</td>\n",
       "      <td>-1645.763099</td>\n",
       "      <td>1.080597e-41</td>\n",
       "    </tr>\n",
       "    <tr>\n",
       "      <th>11</th>\n",
       "      <td>OxyR</td>\n",
       "      <td>1551.444444</td>\n",
       "      <td>-7.378197</td>\n",
       "      <td>6.739715e-40</td>\n",
       "    </tr>\n",
       "    <tr>\n",
       "      <th>12</th>\n",
       "      <td>NagC</td>\n",
       "      <td>1476.045455</td>\n",
       "      <td>-539.339459</td>\n",
       "      <td>8.102469e-38</td>\n",
       "    </tr>\n",
       "    <tr>\n",
       "      <th>13</th>\n",
       "      <td>PhoP</td>\n",
       "      <td>1163.400000</td>\n",
       "      <td>-1083.374721</td>\n",
       "      <td>3.389995e-35</td>\n",
       "    </tr>\n",
       "    <tr>\n",
       "      <th>14</th>\n",
       "      <td>ArgR</td>\n",
       "      <td>-1095.850000</td>\n",
       "      <td>-3967.185498</td>\n",
       "      <td>2.296676e-26</td>\n",
       "    </tr>\n",
       "    <tr>\n",
       "      <th>15</th>\n",
       "      <td>Fnr-1</td>\n",
       "      <td>802.278689</td>\n",
       "      <td>303.705736</td>\n",
       "      <td>9.871819e-19</td>\n",
       "    </tr>\n",
       "    <tr>\n",
       "      <th>16</th>\n",
       "      <td>Fnr-2</td>\n",
       "      <td>602.095890</td>\n",
       "      <td>242.248075</td>\n",
       "      <td>3.398360e-11</td>\n",
       "    </tr>\n",
       "    <tr>\n",
       "      <th>17</th>\n",
       "      <td>EvgA</td>\n",
       "      <td>-4819.125000</td>\n",
       "      <td>-6193.121679</td>\n",
       "      <td>1.689162e-06</td>\n",
       "    </tr>\n",
       "    <tr>\n",
       "      <th>18</th>\n",
       "      <td>SoxS</td>\n",
       "      <td>549.340426</td>\n",
       "      <td>488.888254</td>\n",
       "      <td>1.027534e-02</td>\n",
       "    </tr>\n",
       "    <tr>\n",
       "      <th>19</th>\n",
       "      <td>CdaR</td>\n",
       "      <td>-4746.600000</td>\n",
       "      <td>-5505.214800</td>\n",
       "      <td>1.582886e-01</td>\n",
       "    </tr>\n",
       "    <tr>\n",
       "      <th>20</th>\n",
       "      <td>XylR</td>\n",
       "      <td>-5645.666667</td>\n",
       "      <td>-5295.365533</td>\n",
       "      <td>3.330737e-01</td>\n",
       "    </tr>\n",
       "  </tbody>\n",
       "</table>\n",
       "</div>"
      ],
      "text/plain": [
       "        IM  IM avg score    avg score        p value\n",
       "0      Lrp   1892.048780  -302.338962  2.689605e-105\n",
       "1     ArgP   1947.181818  -512.361063  2.213739e-103\n",
       "2      Cra   2139.400000 -1578.247331   5.696442e-91\n",
       "3     MetJ    859.750000 -4839.809784   3.942486e-84\n",
       "4   PurR-1   1089.700000 -2754.147753   4.098817e-75\n",
       "5    Fur-2   1042.756098 -2141.906630   4.107295e-71\n",
       "6      Nac   1683.909091  -147.677427   1.800089e-69\n",
       "7     CpxR   1237.000000   207.219767   1.448529e-65\n",
       "8     TyrR   2597.692308 -2450.497641   2.263764e-63\n",
       "9    Fur-1   1021.482759 -2055.628508   2.855673e-45\n",
       "10  CysB-2   2443.000000 -1645.763099   1.080597e-41\n",
       "11    OxyR   1551.444444    -7.378197   6.739715e-40\n",
       "12    NagC   1476.045455  -539.339459   8.102469e-38\n",
       "13    PhoP   1163.400000 -1083.374721   3.389995e-35\n",
       "14    ArgR  -1095.850000 -3967.185498   2.296676e-26\n",
       "15   Fnr-1    802.278689   303.705736   9.871819e-19\n",
       "16   Fnr-2    602.095890   242.248075   3.398360e-11\n",
       "17    EvgA  -4819.125000 -6193.121679   1.689162e-06\n",
       "18    SoxS    549.340426   488.888254   1.027534e-02\n",
       "19    CdaR  -4746.600000 -5505.214800   1.582886e-01\n",
       "20    XylR  -5645.666667 -5295.365533   3.330737e-01"
      ]
     },
     "execution_count": 25,
     "metadata": {},
     "output_type": "execute_result"
    }
   ],
   "source": [
    "im_motif_ttest=[]\n",
    "for name in IM_motif_to_use:\n",
    "    d={}\n",
    "    d['IM'] = name\n",
    "    temp = []\n",
    "    for i in range(len(data_table['ID'])):\n",
    "        if data_table['ID'][i] in IM_genes[name]:\n",
    "            temp.append(data_table[ name+ ' im score'][i])\n",
    "    \n",
    "    if len(temp) == 0:\n",
    "        continue\n",
    "        \n",
    "    d['IM avg score'] = sum(temp)/len(temp)\n",
    "    d['avg score'] = sum(data_table[name+ ' im score'])/len(data_table[name+ ' im score'])\n",
    "    d['p value'] = ttest_ind(temp, list(data_table[name+ ' im score'])).pvalue \n",
    "    im_motif_ttest.append(d)\n",
    "\n",
    "pvalueTable = pd.DataFrame(im_motif_ttest)\n",
    "pvalueTable = pvalueTable.dropna()\n",
    "pvalueTable = pvalueTable.sort_values(by=['p value'])\n",
    "pvalueTable = pvalueTable.reset_index()\n",
    "pvalueTable = pvalueTable.drop(columns=['index'])\n",
    "pvalueTable"
   ]
  },
  {
   "cell_type": "code",
   "execution_count": 26,
   "metadata": {},
   "outputs": [
    {
     "name": "stderr",
     "output_type": "stream",
     "text": [
      "findfont: Font family ['sans-serif'] not found. Falling back to DejaVu Sans.\n"
     ]
    },
    {
     "data": {
      "image/png": "[encoded data removed]",
      "text/plain": [
       "<Figure size 1728x504 with 1 Axes>"
      ]
     },
     "metadata": {
      "needs_background": "light"
     },
     "output_type": "display_data"
    }
   ],
   "source": [
    "plt.figure(figsize=(24,7))\n",
    "plt.bar(list(pvalueTable['IM']), list(pvalueTable['IM avg score']), width=0.8, \n",
    "        color='r', label='IM avg score')\n",
    "\n",
    "plt.bar( list(pvalueTable['IM']), list(pvalueTable['avg score']), \n",
    "        width=0.6*0.8, color='b', alpha=0.5, label='Avg score')\n",
    "\n",
    "plt.xticks( list(pvalueTable['IM']) )\n",
    "plt.ylabel('motif matching score')\n",
    "plt.xlabel(' ordered by increasing p value ')\n",
    "plt.legend()\n",
    "plt.show()"
   ]
  },
  {
   "cell_type": "code",
   "execution_count": 27,
   "metadata": {},
   "outputs": [
    {
     "data": {
      "text/html": [
       "<div>\n",
       "<style scoped>\n",
       "    .dataframe tbody tr th:only-of-type {\n",
       "        vertical-align: middle;\n",
       "    }\n",
       "\n",
       "    .dataframe tbody tr th {\n",
       "        vertical-align: top;\n",
       "    }\n",
       "\n",
       "    .dataframe thead th {\n",
       "        text-align: right;\n",
       "    }\n",
       "</style>\n",
       "<table border=\"1\" class=\"dataframe\">\n",
       "  <thead>\n",
       "    <tr style=\"text-align: right;\">\n",
       "      <th></th>\n",
       "      <th>TF</th>\n",
       "      <th>Regulon avg score</th>\n",
       "      <th>avg score</th>\n",
       "      <th>p value</th>\n",
       "    </tr>\n",
       "  </thead>\n",
       "  <tbody>\n",
       "    <tr>\n",
       "      <th>0</th>\n",
       "      <td>Mlc</td>\n",
       "      <td>17.208000</td>\n",
       "      <td>-1.370723</td>\n",
       "      <td>1.252569e-127</td>\n",
       "    </tr>\n",
       "    <tr>\n",
       "      <th>1</th>\n",
       "      <td>PurR</td>\n",
       "      <td>9.592683</td>\n",
       "      <td>-1.242960</td>\n",
       "      <td>1.012670e-106</td>\n",
       "    </tr>\n",
       "    <tr>\n",
       "      <th>2</th>\n",
       "      <td>NarP</td>\n",
       "      <td>8.159459</td>\n",
       "      <td>2.757785</td>\n",
       "      <td>5.709479e-97</td>\n",
       "    </tr>\n",
       "    <tr>\n",
       "      <th>3</th>\n",
       "      <td>BaeR</td>\n",
       "      <td>17.822222</td>\n",
       "      <td>0.684629</td>\n",
       "      <td>4.525441e-78</td>\n",
       "    </tr>\n",
       "    <tr>\n",
       "      <th>4</th>\n",
       "      <td>NarL</td>\n",
       "      <td>5.962424</td>\n",
       "      <td>3.590365</td>\n",
       "      <td>6.727302e-75</td>\n",
       "    </tr>\n",
       "    <tr>\n",
       "      <th>5</th>\n",
       "      <td>Fur</td>\n",
       "      <td>5.546277</td>\n",
       "      <td>1.310082</td>\n",
       "      <td>1.141213e-72</td>\n",
       "    </tr>\n",
       "    <tr>\n",
       "      <th>6</th>\n",
       "      <td>Crp</td>\n",
       "      <td>5.633333</td>\n",
       "      <td>3.745791</td>\n",
       "      <td>7.547461e-70</td>\n",
       "    </tr>\n",
       "    <tr>\n",
       "      <th>7</th>\n",
       "      <td>FadR</td>\n",
       "      <td>7.973529</td>\n",
       "      <td>0.894140</td>\n",
       "      <td>3.568757e-57</td>\n",
       "    </tr>\n",
       "    <tr>\n",
       "      <th>8</th>\n",
       "      <td>RutR</td>\n",
       "      <td>7.767857</td>\n",
       "      <td>1.281897</td>\n",
       "      <td>1.477410e-51</td>\n",
       "    </tr>\n",
       "    <tr>\n",
       "      <th>9</th>\n",
       "      <td>EvgA</td>\n",
       "      <td>5.987879</td>\n",
       "      <td>-1.298808</td>\n",
       "      <td>6.578273e-48</td>\n",
       "    </tr>\n",
       "    <tr>\n",
       "      <th>10</th>\n",
       "      <td>PuuR</td>\n",
       "      <td>12.045455</td>\n",
       "      <td>1.208369</td>\n",
       "      <td>7.677637e-43</td>\n",
       "    </tr>\n",
       "    <tr>\n",
       "      <th>11</th>\n",
       "      <td>NagC</td>\n",
       "      <td>6.080645</td>\n",
       "      <td>0.445120</td>\n",
       "      <td>1.355335e-41</td>\n",
       "    </tr>\n",
       "    <tr>\n",
       "      <th>12</th>\n",
       "      <td>GlpR</td>\n",
       "      <td>13.511111</td>\n",
       "      <td>2.422523</td>\n",
       "      <td>1.414867e-40</td>\n",
       "    </tr>\n",
       "    <tr>\n",
       "      <th>13</th>\n",
       "      <td>FhlA</td>\n",
       "      <td>6.721739</td>\n",
       "      <td>3.129575</td>\n",
       "      <td>1.834382e-34</td>\n",
       "    </tr>\n",
       "    <tr>\n",
       "      <th>14</th>\n",
       "      <td>TrpR</td>\n",
       "      <td>8.223077</td>\n",
       "      <td>0.368115</td>\n",
       "      <td>5.141105e-34</td>\n",
       "    </tr>\n",
       "    <tr>\n",
       "      <th>15</th>\n",
       "      <td>TyrR</td>\n",
       "      <td>7.805263</td>\n",
       "      <td>1.465111</td>\n",
       "      <td>1.675652e-31</td>\n",
       "    </tr>\n",
       "    <tr>\n",
       "      <th>16</th>\n",
       "      <td>GalS</td>\n",
       "      <td>6.396667</td>\n",
       "      <td>1.158306</td>\n",
       "      <td>2.576307e-31</td>\n",
       "    </tr>\n",
       "    <tr>\n",
       "      <th>17</th>\n",
       "      <td>FlhDC</td>\n",
       "      <td>5.307143</td>\n",
       "      <td>2.591557</td>\n",
       "      <td>1.942956e-30</td>\n",
       "    </tr>\n",
       "    <tr>\n",
       "      <th>18</th>\n",
       "      <td>GntR</td>\n",
       "      <td>8.088889</td>\n",
       "      <td>1.413161</td>\n",
       "      <td>3.070129e-29</td>\n",
       "    </tr>\n",
       "    <tr>\n",
       "      <th>19</th>\n",
       "      <td>LexA</td>\n",
       "      <td>3.767143</td>\n",
       "      <td>1.235436</td>\n",
       "      <td>1.229574e-28</td>\n",
       "    </tr>\n",
       "    <tr>\n",
       "      <th>20</th>\n",
       "      <td>NtrC</td>\n",
       "      <td>4.821186</td>\n",
       "      <td>2.041743</td>\n",
       "      <td>1.492430e-28</td>\n",
       "    </tr>\n",
       "    <tr>\n",
       "      <th>21</th>\n",
       "      <td>ArgR</td>\n",
       "      <td>6.273770</td>\n",
       "      <td>2.012938</td>\n",
       "      <td>1.811581e-28</td>\n",
       "    </tr>\n",
       "    <tr>\n",
       "      <th>22</th>\n",
       "      <td>MetJ</td>\n",
       "      <td>6.877778</td>\n",
       "      <td>1.934641</td>\n",
       "      <td>1.697288e-27</td>\n",
       "    </tr>\n",
       "    <tr>\n",
       "      <th>23</th>\n",
       "      <td>XylR</td>\n",
       "      <td>11.542857</td>\n",
       "      <td>2.163472</td>\n",
       "      <td>3.767063e-26</td>\n",
       "    </tr>\n",
       "    <tr>\n",
       "      <th>24</th>\n",
       "      <td>OxyR</td>\n",
       "      <td>5.965217</td>\n",
       "      <td>3.584008</td>\n",
       "      <td>8.063861e-26</td>\n",
       "    </tr>\n",
       "    <tr>\n",
       "      <th>25</th>\n",
       "      <td>YdeO</td>\n",
       "      <td>5.929412</td>\n",
       "      <td>1.017358</td>\n",
       "      <td>1.036303e-25</td>\n",
       "    </tr>\n",
       "    <tr>\n",
       "      <th>26</th>\n",
       "      <td>ArcA</td>\n",
       "      <td>5.071296</td>\n",
       "      <td>3.598858</td>\n",
       "      <td>2.215440e-24</td>\n",
       "    </tr>\n",
       "    <tr>\n",
       "      <th>27</th>\n",
       "      <td>NsrR</td>\n",
       "      <td>4.880315</td>\n",
       "      <td>2.806630</td>\n",
       "      <td>2.743094e-24</td>\n",
       "    </tr>\n",
       "    <tr>\n",
       "      <th>28</th>\n",
       "      <td>GlrR</td>\n",
       "      <td>5.700000</td>\n",
       "      <td>1.971244</td>\n",
       "      <td>5.178582e-24</td>\n",
       "    </tr>\n",
       "    <tr>\n",
       "      <th>29</th>\n",
       "      <td>IscR</td>\n",
       "      <td>5.250000</td>\n",
       "      <td>1.827117</td>\n",
       "      <td>5.408972e-24</td>\n",
       "    </tr>\n",
       "    <tr>\n",
       "      <th>30</th>\n",
       "      <td>BasR</td>\n",
       "      <td>6.190909</td>\n",
       "      <td>0.637100</td>\n",
       "      <td>9.332815e-24</td>\n",
       "    </tr>\n",
       "    <tr>\n",
       "      <th>31</th>\n",
       "      <td>Fnr</td>\n",
       "      <td>4.418299</td>\n",
       "      <td>3.254060</td>\n",
       "      <td>1.784213e-23</td>\n",
       "    </tr>\n",
       "    <tr>\n",
       "      <th>32</th>\n",
       "      <td>Cra</td>\n",
       "      <td>4.517647</td>\n",
       "      <td>2.111547</td>\n",
       "      <td>5.859244e-23</td>\n",
       "    </tr>\n",
       "    <tr>\n",
       "      <th>33</th>\n",
       "      <td>PhoB</td>\n",
       "      <td>5.170370</td>\n",
       "      <td>3.131413</td>\n",
       "      <td>7.458089e-23</td>\n",
       "    </tr>\n",
       "    <tr>\n",
       "      <th>34</th>\n",
       "      <td>NrdR</td>\n",
       "      <td>7.844444</td>\n",
       "      <td>1.171666</td>\n",
       "      <td>3.878110e-21</td>\n",
       "    </tr>\n",
       "    <tr>\n",
       "      <th>35</th>\n",
       "      <td>MqsA</td>\n",
       "      <td>5.925000</td>\n",
       "      <td>1.496548</td>\n",
       "      <td>3.208222e-19</td>\n",
       "    </tr>\n",
       "    <tr>\n",
       "      <th>36</th>\n",
       "      <td>IHF</td>\n",
       "      <td>4.656997</td>\n",
       "      <td>3.759573</td>\n",
       "      <td>6.674701e-19</td>\n",
       "    </tr>\n",
       "    <tr>\n",
       "      <th>37</th>\n",
       "      <td>AraC</td>\n",
       "      <td>8.657143</td>\n",
       "      <td>2.910007</td>\n",
       "      <td>3.420682e-16</td>\n",
       "    </tr>\n",
       "    <tr>\n",
       "      <th>38</th>\n",
       "      <td>ExuR</td>\n",
       "      <td>6.990909</td>\n",
       "      <td>1.271840</td>\n",
       "      <td>4.196471e-14</td>\n",
       "    </tr>\n",
       "    <tr>\n",
       "      <th>39</th>\n",
       "      <td>PhoP</td>\n",
       "      <td>5.300000</td>\n",
       "      <td>3.180159</td>\n",
       "      <td>4.226533e-14</td>\n",
       "    </tr>\n",
       "    <tr>\n",
       "      <th>40</th>\n",
       "      <td>MalT</td>\n",
       "      <td>7.600000</td>\n",
       "      <td>2.545394</td>\n",
       "      <td>2.468140e-13</td>\n",
       "    </tr>\n",
       "    <tr>\n",
       "      <th>41</th>\n",
       "      <td>RcsAB</td>\n",
       "      <td>4.673333</td>\n",
       "      <td>1.763323</td>\n",
       "      <td>2.699077e-13</td>\n",
       "    </tr>\n",
       "    <tr>\n",
       "      <th>42</th>\n",
       "      <td>SoxS</td>\n",
       "      <td>4.825676</td>\n",
       "      <td>3.107152</td>\n",
       "      <td>3.385131e-13</td>\n",
       "    </tr>\n",
       "    <tr>\n",
       "      <th>43</th>\n",
       "      <td>LeuO</td>\n",
       "      <td>6.819048</td>\n",
       "      <td>2.337745</td>\n",
       "      <td>7.099300e-13</td>\n",
       "    </tr>\n",
       "    <tr>\n",
       "      <th>44</th>\n",
       "      <td>RhaS</td>\n",
       "      <td>8.614286</td>\n",
       "      <td>3.223889</td>\n",
       "      <td>5.565959e-12</td>\n",
       "    </tr>\n",
       "    <tr>\n",
       "      <th>45</th>\n",
       "      <td>GalR</td>\n",
       "      <td>4.216667</td>\n",
       "      <td>1.805612</td>\n",
       "      <td>1.523291e-09</td>\n",
       "    </tr>\n",
       "    <tr>\n",
       "      <th>46</th>\n",
       "      <td>GcvA</td>\n",
       "      <td>8.250000</td>\n",
       "      <td>1.949913</td>\n",
       "      <td>4.627606e-09</td>\n",
       "    </tr>\n",
       "    <tr>\n",
       "      <th>47</th>\n",
       "      <td>PdhR</td>\n",
       "      <td>2.459406</td>\n",
       "      <td>1.213757</td>\n",
       "      <td>1.885829e-07</td>\n",
       "    </tr>\n",
       "    <tr>\n",
       "      <th>48</th>\n",
       "      <td>ArgP</td>\n",
       "      <td>4.634483</td>\n",
       "      <td>3.506233</td>\n",
       "      <td>1.079783e-04</td>\n",
       "    </tr>\n",
       "    <tr>\n",
       "      <th>49</th>\n",
       "      <td>GadW</td>\n",
       "      <td>4.475862</td>\n",
       "      <td>2.979985</td>\n",
       "      <td>1.601921e-04</td>\n",
       "    </tr>\n",
       "    <tr>\n",
       "      <th>50</th>\n",
       "      <td>Nac</td>\n",
       "      <td>4.408333</td>\n",
       "      <td>3.387857</td>\n",
       "      <td>3.357809e-04</td>\n",
       "    </tr>\n",
       "    <tr>\n",
       "      <th>51</th>\n",
       "      <td>IclR</td>\n",
       "      <td>6.575000</td>\n",
       "      <td>3.624385</td>\n",
       "      <td>4.558262e-04</td>\n",
       "    </tr>\n",
       "    <tr>\n",
       "      <th>52</th>\n",
       "      <td>OmpR</td>\n",
       "      <td>4.350000</td>\n",
       "      <td>2.929128</td>\n",
       "      <td>6.470109e-04</td>\n",
       "    </tr>\n",
       "    <tr>\n",
       "      <th>53</th>\n",
       "      <td>GadX</td>\n",
       "      <td>4.310417</td>\n",
       "      <td>3.562627</td>\n",
       "      <td>1.259586e-03</td>\n",
       "    </tr>\n",
       "    <tr>\n",
       "      <th>54</th>\n",
       "      <td>CpxR</td>\n",
       "      <td>4.306024</td>\n",
       "      <td>3.705016</td>\n",
       "      <td>1.363919e-03</td>\n",
       "    </tr>\n",
       "    <tr>\n",
       "      <th>55</th>\n",
       "      <td>Lrp</td>\n",
       "      <td>4.380952</td>\n",
       "      <td>4.020263</td>\n",
       "      <td>2.280179e-03</td>\n",
       "    </tr>\n",
       "    <tr>\n",
       "      <th>56</th>\n",
       "      <td>CysB</td>\n",
       "      <td>0.179310</td>\n",
       "      <td>-1.633300</td>\n",
       "      <td>4.495696e-03</td>\n",
       "    </tr>\n",
       "    <tr>\n",
       "      <th>57</th>\n",
       "      <td>GadE</td>\n",
       "      <td>2.922917</td>\n",
       "      <td>2.018624</td>\n",
       "      <td>1.404662e-02</td>\n",
       "    </tr>\n",
       "    <tr>\n",
       "      <th>58</th>\n",
       "      <td>NanR</td>\n",
       "      <td>3.145455</td>\n",
       "      <td>2.666327</td>\n",
       "      <td>3.458148e-01</td>\n",
       "    </tr>\n",
       "  </tbody>\n",
       "</table>\n",
       "</div>"
      ],
      "text/plain": [
       "       TF  Regulon avg score  avg score        p value\n",
       "0     Mlc          17.208000  -1.370723  1.252569e-127\n",
       "1    PurR           9.592683  -1.242960  1.012670e-106\n",
       "2    NarP           8.159459   2.757785   5.709479e-97\n",
       "3    BaeR          17.822222   0.684629   4.525441e-78\n",
       "4    NarL           5.962424   3.590365   6.727302e-75\n",
       "5     Fur           5.546277   1.310082   1.141213e-72\n",
       "6     Crp           5.633333   3.745791   7.547461e-70\n",
       "7    FadR           7.973529   0.894140   3.568757e-57\n",
       "8    RutR           7.767857   1.281897   1.477410e-51\n",
       "9    EvgA           5.987879  -1.298808   6.578273e-48\n",
       "10   PuuR          12.045455   1.208369   7.677637e-43\n",
       "11   NagC           6.080645   0.445120   1.355335e-41\n",
       "12   GlpR          13.511111   2.422523   1.414867e-40\n",
       "13   FhlA           6.721739   3.129575   1.834382e-34\n",
       "14   TrpR           8.223077   0.368115   5.141105e-34\n",
       "15   TyrR           7.805263   1.465111   1.675652e-31\n",
       "16   GalS           6.396667   1.158306   2.576307e-31\n",
       "17  FlhDC           5.307143   2.591557   1.942956e-30\n",
       "18   GntR           8.088889   1.413161   3.070129e-29\n",
       "19   LexA           3.767143   1.235436   1.229574e-28\n",
       "20   NtrC           4.821186   2.041743   1.492430e-28\n",
       "21   ArgR           6.273770   2.012938   1.811581e-28\n",
       "22   MetJ           6.877778   1.934641   1.697288e-27\n",
       "23   XylR          11.542857   2.163472   3.767063e-26\n",
       "24   OxyR           5.965217   3.584008   8.063861e-26\n",
       "25   YdeO           5.929412   1.017358   1.036303e-25\n",
       "26   ArcA           5.071296   3.598858   2.215440e-24\n",
       "27   NsrR           4.880315   2.806630   2.743094e-24\n",
       "28   GlrR           5.700000   1.971244   5.178582e-24\n",
       "29   IscR           5.250000   1.827117   5.408972e-24\n",
       "30   BasR           6.190909   0.637100   9.332815e-24\n",
       "31    Fnr           4.418299   3.254060   1.784213e-23\n",
       "32    Cra           4.517647   2.111547   5.859244e-23\n",
       "33   PhoB           5.170370   3.131413   7.458089e-23\n",
       "34   NrdR           7.844444   1.171666   3.878110e-21\n",
       "35   MqsA           5.925000   1.496548   3.208222e-19\n",
       "36    IHF           4.656997   3.759573   6.674701e-19\n",
       "37   AraC           8.657143   2.910007   3.420682e-16\n",
       "38   ExuR           6.990909   1.271840   4.196471e-14\n",
       "39   PhoP           5.300000   3.180159   4.226533e-14\n",
       "40   MalT           7.600000   2.545394   2.468140e-13\n",
       "41  RcsAB           4.673333   1.763323   2.699077e-13\n",
       "42   SoxS           4.825676   3.107152   3.385131e-13\n",
       "43   LeuO           6.819048   2.337745   7.099300e-13\n",
       "44   RhaS           8.614286   3.223889   5.565959e-12\n",
       "45   GalR           4.216667   1.805612   1.523291e-09\n",
       "46   GcvA           8.250000   1.949913   4.627606e-09\n",
       "47   PdhR           2.459406   1.213757   1.885829e-07\n",
       "48   ArgP           4.634483   3.506233   1.079783e-04\n",
       "49   GadW           4.475862   2.979985   1.601921e-04\n",
       "50    Nac           4.408333   3.387857   3.357809e-04\n",
       "51   IclR           6.575000   3.624385   4.558262e-04\n",
       "52   OmpR           4.350000   2.929128   6.470109e-04\n",
       "53   GadX           4.310417   3.562627   1.259586e-03\n",
       "54   CpxR           4.306024   3.705016   1.363919e-03\n",
       "55    Lrp           4.380952   4.020263   2.280179e-03\n",
       "56   CysB           0.179310  -1.633300   4.495696e-03\n",
       "57   GadE           2.922917   2.018624   1.404662e-02\n",
       "58   NanR           3.145455   2.666327   3.458148e-01"
      ]
     },
     "execution_count": 27,
     "metadata": {},
     "output_type": "execute_result"
    }
   ],
   "source": [
    "tf_motif_ttest=[]\n",
    "for name in pwm_db.keys():\n",
    "    if name == 'Crp':\n",
    "        tfname = 'CRP'\n",
    "    elif name == 'Fnr':\n",
    "        tfname = 'FNR'\n",
    "    else:\n",
    "        tfname = name\n",
    "    d={}\n",
    "    d['TF'] = name    \n",
    "    temp = []\n",
    "    for i in range(len(data_table['gene'])):\n",
    "        if data_table['gene'][i] in regulon_genes[tfname]:\n",
    "            temp.append(data_table[name+' score'][i])\n",
    "    d['Regulon avg score'] = sum(temp)/len(temp)\n",
    "    d['avg score'] = sum(data_table[name+' score'])/len(data_table[name+' score'])\n",
    "    d['p value'] = ttest_ind(temp, list(data_table[name+' score'])).pvalue \n",
    "    tf_motif_ttest.append(d)\n",
    "    \n",
    "pvalTable = pd.DataFrame(tf_motif_ttest)\n",
    "pvalTable = pvalTable.dropna()\n",
    "pvalTable = pvalTable.sort_values(by=['p value'])\n",
    "pvalTable = pvalTable.reset_index()\n",
    "pvalTable = pvalTable.drop(columns=['index'])\n",
    "pvalTable"
   ]
  },
  {
   "cell_type": "code",
   "execution_count": 28,
   "metadata": {},
   "outputs": [
    {
     "name": "stderr",
     "output_type": "stream",
     "text": [
      "findfont: Font family ['sans-serif'] not found. Falling back to DejaVu Sans.\n"
     ]
    },
    {
     "data": {
      "image/png": "[encoded data removed]",
      "text/plain": [
       "<Figure size 3600x720 with 1 Axes>"
      ]
     },
     "metadata": {
      "needs_background": "light"
     },
     "output_type": "display_data"
    }
   ],
   "source": [
    "plt.figure(figsize=(50,10))\n",
    "plt.bar(list(pvalTable['TF']), list(pvalTable['Regulon avg score']), width=0.8, \n",
    "        color='r', label='Regulon avg score')\n",
    "\n",
    "plt.bar( list(pvalTable['TF']), list(pvalTable['avg score']), \n",
    "        width=0.6*0.8, color='b', alpha=0.5, label='Avg score')\n",
    "\n",
    "plt.xticks( list(pvalTable['TF']) )\n",
    "plt.ylabel('motif matching score')\n",
    "plt.xlabel(' ordered by increasing p value ')\n",
    "plt.legend(fontsize = 20)\n",
    "plt.show()"
   ]
  },
  {
   "cell_type": "markdown",
   "metadata": {},
   "source": [
    "# ML workflow( if features_avg.csv file exists)"
   ]
  },
  {
   "cell_type": "code",
   "execution_count": 13,
   "metadata": {},
   "outputs": [],
   "source": [
    "avg_features = pd.read_csv('features_avg.csv')\n",
    "X = avg_features.iloc[:,1:].values\n",
    "X = StandardScaler().fit_transform(X)\n",
    "ID = list(avg_features['ID'])\n",
    "\n",
    "# generate labels, classify im membership\n",
    "target_labels={}\n",
    "for r in IM_genes.keys():\n",
    "    target_labels[r] = []\n",
    "    for i in range( len(ID) ):\n",
    "        if ID[i] in IM_genes[r]:\n",
    "            target_labels[r].append( 1 )\n",
    "        else:\n",
    "            target_labels[r].append( 0 )"
   ]
  },
  {
   "cell_type": "markdown",
   "metadata": {},
   "source": [
    "### Define Models to Try"
   ]
  },
  {
   "cell_type": "code",
   "execution_count": 14,
   "metadata": {},
   "outputs": [],
   "source": [
    "y_to_try = {\n",
    "    'AllR':target_labels['AllR'],\n",
    "    'ArcA':target_labels['ArcA'],\n",
    "    'ArgR':target_labels['ArgR'],\n",
    "    'ArgP':target_labels['ArgP'],\n",
    "    'BaeR+CpxR':target_labels['BaeR+CpxR'],\n",
    "    #'BasR':target_labels['BasR'],\n",
    "    'CpxR':target_labels['CpxR'],\n",
    "    'CdaR':target_labels['CdaR'],\n",
    "    'Cra':target_labels['Cra'],\n",
    "    'Crp-related-2':target_labels['Crp-related-2'],\n",
    "    'EvgA':target_labels['EvgA'],\n",
    "    'CysB-1':target_labels['CysB-1'],\n",
    "    'CysB-2':target_labels['CysB-2'],\n",
    "    'CysB-3':target_labels['CysB-3'],\n",
    "    'FadR':target_labels['FadR'],\n",
    "    'FlhDC-1':target_labels['FlhDC-1'],\n",
    "    'FlhDC-2':target_labels['FlhDC-2'],\n",
    "    'Fimbriae':target_labels['Fimbriae']\n",
    "}"
   ]
  },
  {
   "cell_type": "code",
   "execution_count": 15,
   "metadata": {},
   "outputs": [],
   "source": [
    "models_to_try = {\n",
    "    'LR': LogisticRegression(\n",
    "        penalty='l1',\n",
    "        solver='saga',\n",
    "        class_weight='balanced',\n",
    "        random_state=42\n",
    "    ),\n",
    "    'SVM': LinearSVC(\n",
    "        penalty='l1',\n",
    "        class_weight='balanced',\n",
    "        dual=False,\n",
    "        random_state=42,\n",
    "        verbose=1\n",
    "    ),\n",
    "    'RF': RandomForestClassifier(\n",
    "        class_weight='balanced',\n",
    "        random_state=42,\n",
    "        verbose=1\n",
    "    )\n",
    "}"
   ]
  },
  {
   "cell_type": "code",
   "execution_count": 18,
   "metadata": {},
   "outputs": [
    {
     "name": "stdout",
     "output_type": "stream",
     "text": [
      "LR\n",
      "LR: AllR\n"
     ]
    },
    {
     "name": "stderr",
     "output_type": "stream",
     "text": [
      "[Parallel(n_jobs=4)]: Using backend LokyBackend with 4 concurrent workers.\n",
      "[Parallel(n_jobs=4)]: Done   5 out of   5 | elapsed:   29.3s finished\n",
      "[Parallel(n_jobs=4)]: Using backend LokyBackend with 4 concurrent workers.\n"
     ]
    },
    {
     "name": "stdout",
     "output_type": "stream",
     "text": [
      "LR: ArcA\n"
     ]
    },
    {
     "name": "stderr",
     "output_type": "stream",
     "text": [
      "[Parallel(n_jobs=4)]: Done   5 out of   5 | elapsed:   28.4s finished\n",
      "[Parallel(n_jobs=4)]: Using backend LokyBackend with 4 concurrent workers.\n"
     ]
    },
    {
     "name": "stdout",
     "output_type": "stream",
     "text": [
      "LR: ArgR\n"
     ]
    },
    {
     "name": "stderr",
     "output_type": "stream",
     "text": [
      "[Parallel(n_jobs=4)]: Done   5 out of   5 | elapsed:   23.3s finished\n",
      "[Parallel(n_jobs=4)]: Using backend LokyBackend with 4 concurrent workers.\n"
     ]
    },
    {
     "name": "stdout",
     "output_type": "stream",
     "text": [
      "LR: ArgP\n"
     ]
    },
    {
     "name": "stderr",
     "output_type": "stream",
     "text": [
      "[Parallel(n_jobs=4)]: Done   5 out of   5 | elapsed:   23.3s finished\n",
      "[Parallel(n_jobs=4)]: Using backend LokyBackend with 4 concurrent workers.\n"
     ]
    },
    {
     "name": "stdout",
     "output_type": "stream",
     "text": [
      "LR: BaeR+CpxR\n"
     ]
    },
    {
     "name": "stderr",
     "output_type": "stream",
     "text": [
      "[Parallel(n_jobs=4)]: Done   5 out of   5 | elapsed:   23.9s finished\n",
      "[Parallel(n_jobs=4)]: Using backend LokyBackend with 4 concurrent workers.\n"
     ]
    },
    {
     "name": "stdout",
     "output_type": "stream",
     "text": [
      "LR: CpxR\n"
     ]
    },
    {
     "name": "stderr",
     "output_type": "stream",
     "text": [
      "[Parallel(n_jobs=4)]: Done   5 out of   5 | elapsed:   23.9s finished\n",
      "[Parallel(n_jobs=4)]: Using backend LokyBackend with 4 concurrent workers.\n"
     ]
    },
    {
     "name": "stdout",
     "output_type": "stream",
     "text": [
      "LR: CdaR\n"
     ]
    },
    {
     "name": "stderr",
     "output_type": "stream",
     "text": [
      "[Parallel(n_jobs=4)]: Done   5 out of   5 | elapsed:   23.4s finished\n",
      "[Parallel(n_jobs=4)]: Using backend LokyBackend with 4 concurrent workers.\n"
     ]
    },
    {
     "name": "stdout",
     "output_type": "stream",
     "text": [
      "LR: Cra\n"
     ]
    },
    {
     "name": "stderr",
     "output_type": "stream",
     "text": [
      "[Parallel(n_jobs=4)]: Done   5 out of   5 | elapsed:   23.1s finished\n",
      "[Parallel(n_jobs=4)]: Using backend LokyBackend with 4 concurrent workers.\n"
     ]
    },
    {
     "name": "stdout",
     "output_type": "stream",
     "text": [
      "LR: Crp-related-2\n"
     ]
    },
    {
     "name": "stderr",
     "output_type": "stream",
     "text": [
      "[Parallel(n_jobs=4)]: Done   5 out of   5 | elapsed:   24.0s finished\n",
      "[Parallel(n_jobs=4)]: Using backend LokyBackend with 4 concurrent workers.\n"
     ]
    },
    {
     "name": "stdout",
     "output_type": "stream",
     "text": [
      "LR: EvgA\n"
     ]
    },
    {
     "name": "stderr",
     "output_type": "stream",
     "text": [
      "[Parallel(n_jobs=4)]: Done   5 out of   5 | elapsed:   22.9s finished\n",
      "[Parallel(n_jobs=4)]: Using backend LokyBackend with 4 concurrent workers.\n"
     ]
    },
    {
     "name": "stdout",
     "output_type": "stream",
     "text": [
      "LR: CysB-1\n"
     ]
    },
    {
     "name": "stderr",
     "output_type": "stream",
     "text": [
      "[Parallel(n_jobs=4)]: Done   5 out of   5 | elapsed:   23.4s finished\n",
      "[Parallel(n_jobs=4)]: Using backend LokyBackend with 4 concurrent workers.\n"
     ]
    },
    {
     "name": "stdout",
     "output_type": "stream",
     "text": [
      "LR: CysB-2\n"
     ]
    },
    {
     "name": "stderr",
     "output_type": "stream",
     "text": [
      "[Parallel(n_jobs=4)]: Done   5 out of   5 | elapsed:   25.1s finished\n",
      "[Parallel(n_jobs=4)]: Using backend LokyBackend with 4 concurrent workers.\n"
     ]
    },
    {
     "name": "stdout",
     "output_type": "stream",
     "text": [
      "LR: CysB-3\n"
     ]
    },
    {
     "name": "stderr",
     "output_type": "stream",
     "text": [
      "[Parallel(n_jobs=4)]: Done   5 out of   5 | elapsed:   24.4s finished\n",
      "[Parallel(n_jobs=4)]: Using backend LokyBackend with 4 concurrent workers.\n"
     ]
    },
    {
     "name": "stdout",
     "output_type": "stream",
     "text": [
      "LR: FadR\n"
     ]
    },
    {
     "name": "stderr",
     "output_type": "stream",
     "text": [
      "[Parallel(n_jobs=4)]: Done   5 out of   5 | elapsed:   23.5s finished\n",
      "[Parallel(n_jobs=4)]: Using backend LokyBackend with 4 concurrent workers.\n"
     ]
    },
    {
     "name": "stdout",
     "output_type": "stream",
     "text": [
      "LR: FlhDC-1\n"
     ]
    },
    {
     "name": "stderr",
     "output_type": "stream",
     "text": [
      "[Parallel(n_jobs=4)]: Done   5 out of   5 | elapsed:   24.4s finished\n",
      "[Parallel(n_jobs=4)]: Using backend LokyBackend with 4 concurrent workers.\n"
     ]
    },
    {
     "name": "stdout",
     "output_type": "stream",
     "text": [
      "LR: FlhDC-2\n"
     ]
    },
    {
     "name": "stderr",
     "output_type": "stream",
     "text": [
      "[Parallel(n_jobs=4)]: Done   5 out of   5 | elapsed:   24.6s finished\n",
      "[Parallel(n_jobs=4)]: Using backend LokyBackend with 4 concurrent workers.\n"
     ]
    },
    {
     "name": "stdout",
     "output_type": "stream",
     "text": [
      "LR: Fimbriae\n"
     ]
    },
    {
     "name": "stderr",
     "output_type": "stream",
     "text": [
      "[Parallel(n_jobs=4)]: Done   5 out of   5 | elapsed:   22.3s finished\n",
      "[Parallel(n_jobs=4)]: Using backend LokyBackend with 4 concurrent workers.\n"
     ]
    },
    {
     "name": "stdout",
     "output_type": "stream",
     "text": [
      "SVM\n",
      "SVM: AllR\n"
     ]
    },
    {
     "name": "stderr",
     "output_type": "stream",
     "text": [
      "[Parallel(n_jobs=4)]: Done   5 out of   5 | elapsed:   10.1s finished\n",
      "[Parallel(n_jobs=4)]: Using backend LokyBackend with 4 concurrent workers.\n"
     ]
    },
    {
     "name": "stdout",
     "output_type": "stream",
     "text": [
      "SVM: ArcA\n"
     ]
    },
    {
     "name": "stderr",
     "output_type": "stream",
     "text": [
      "[Parallel(n_jobs=4)]: Done   5 out of   5 | elapsed:   16.2s finished\n",
      "[Parallel(n_jobs=4)]: Using backend LokyBackend with 4 concurrent workers.\n"
     ]
    },
    {
     "name": "stdout",
     "output_type": "stream",
     "text": [
      "SVM: ArgR\n"
     ]
    },
    {
     "name": "stderr",
     "output_type": "stream",
     "text": [
      "[Parallel(n_jobs=4)]: Done   5 out of   5 | elapsed:   11.1s finished\n",
      "[Parallel(n_jobs=4)]: Using backend LokyBackend with 4 concurrent workers.\n"
     ]
    },
    {
     "name": "stdout",
     "output_type": "stream",
     "text": [
      "SVM: ArgP\n"
     ]
    },
    {
     "name": "stderr",
     "output_type": "stream",
     "text": [
      "[Parallel(n_jobs=4)]: Done   5 out of   5 | elapsed:   11.4s finished\n",
      "[Parallel(n_jobs=4)]: Using backend LokyBackend with 4 concurrent workers.\n"
     ]
    },
    {
     "name": "stdout",
     "output_type": "stream",
     "text": [
      "SVM: BaeR+CpxR\n"
     ]
    },
    {
     "name": "stderr",
     "output_type": "stream",
     "text": [
      "[Parallel(n_jobs=4)]: Done   5 out of   5 | elapsed:    9.2s finished\n",
      "[Parallel(n_jobs=4)]: Using backend LokyBackend with 4 concurrent workers.\n"
     ]
    },
    {
     "name": "stdout",
     "output_type": "stream",
     "text": [
      "SVM: CpxR\n"
     ]
    },
    {
     "name": "stderr",
     "output_type": "stream",
     "text": [
      "[Parallel(n_jobs=4)]: Done   5 out of   5 | elapsed:   14.8s finished\n",
      "[Parallel(n_jobs=4)]: Using backend LokyBackend with 4 concurrent workers.\n"
     ]
    },
    {
     "name": "stdout",
     "output_type": "stream",
     "text": [
      "SVM: CdaR\n"
     ]
    },
    {
     "name": "stderr",
     "output_type": "stream",
     "text": [
      "[Parallel(n_jobs=4)]: Done   5 out of   5 | elapsed:    7.2s finished\n",
      "[Parallel(n_jobs=4)]: Using backend LokyBackend with 4 concurrent workers.\n"
     ]
    },
    {
     "name": "stdout",
     "output_type": "stream",
     "text": [
      "SVM: Cra\n"
     ]
    },
    {
     "name": "stderr",
     "output_type": "stream",
     "text": [
      "[Parallel(n_jobs=4)]: Done   5 out of   5 | elapsed:    9.1s finished\n",
      "[Parallel(n_jobs=4)]: Using backend LokyBackend with 4 concurrent workers.\n"
     ]
    },
    {
     "name": "stdout",
     "output_type": "stream",
     "text": [
      "SVM: Crp-related-2\n"
     ]
    },
    {
     "name": "stderr",
     "output_type": "stream",
     "text": [
      "[Parallel(n_jobs=4)]: Done   5 out of   5 | elapsed:    7.0s finished\n",
      "[Parallel(n_jobs=4)]: Using backend LokyBackend with 4 concurrent workers.\n"
     ]
    },
    {
     "name": "stdout",
     "output_type": "stream",
     "text": [
      "SVM: EvgA\n"
     ]
    },
    {
     "name": "stderr",
     "output_type": "stream",
     "text": [
      "[Parallel(n_jobs=4)]: Done   5 out of   5 | elapsed:    7.3s finished\n",
      "[Parallel(n_jobs=4)]: Using backend LokyBackend with 4 concurrent workers.\n"
     ]
    },
    {
     "name": "stdout",
     "output_type": "stream",
     "text": [
      "SVM: CysB-1\n"
     ]
    },
    {
     "name": "stderr",
     "output_type": "stream",
     "text": [
      "[Parallel(n_jobs=4)]: Done   5 out of   5 | elapsed:    9.6s finished\n",
      "[Parallel(n_jobs=4)]: Using backend LokyBackend with 4 concurrent workers.\n"
     ]
    },
    {
     "name": "stdout",
     "output_type": "stream",
     "text": [
      "SVM: CysB-2\n"
     ]
    },
    {
     "name": "stderr",
     "output_type": "stream",
     "text": [
      "[Parallel(n_jobs=4)]: Done   5 out of   5 | elapsed:    7.7s finished\n",
      "[Parallel(n_jobs=4)]: Using backend LokyBackend with 4 concurrent workers.\n"
     ]
    },
    {
     "name": "stdout",
     "output_type": "stream",
     "text": [
      "SVM: CysB-3\n"
     ]
    },
    {
     "name": "stderr",
     "output_type": "stream",
     "text": [
      "[Parallel(n_jobs=4)]: Done   5 out of   5 | elapsed:    8.4s finished\n",
      "[Parallel(n_jobs=4)]: Using backend LokyBackend with 4 concurrent workers.\n"
     ]
    },
    {
     "name": "stdout",
     "output_type": "stream",
     "text": [
      "SVM: FadR\n"
     ]
    },
    {
     "name": "stderr",
     "output_type": "stream",
     "text": [
      "[Parallel(n_jobs=4)]: Done   5 out of   5 | elapsed:    8.1s finished\n",
      "[Parallel(n_jobs=4)]: Using backend LokyBackend with 4 concurrent workers.\n"
     ]
    },
    {
     "name": "stdout",
     "output_type": "stream",
     "text": [
      "SVM: FlhDC-1\n"
     ]
    },
    {
     "name": "stderr",
     "output_type": "stream",
     "text": [
      "[Parallel(n_jobs=4)]: Done   5 out of   5 | elapsed:   12.5s finished\n",
      "[Parallel(n_jobs=4)]: Using backend LokyBackend with 4 concurrent workers.\n"
     ]
    },
    {
     "name": "stdout",
     "output_type": "stream",
     "text": [
      "SVM: FlhDC-2\n"
     ]
    },
    {
     "name": "stderr",
     "output_type": "stream",
     "text": [
      "[Parallel(n_jobs=4)]: Done   5 out of   5 | elapsed:    9.6s finished\n",
      "[Parallel(n_jobs=4)]: Using backend LokyBackend with 4 concurrent workers.\n"
     ]
    },
    {
     "name": "stdout",
     "output_type": "stream",
     "text": [
      "SVM: Fimbriae\n"
     ]
    },
    {
     "name": "stderr",
     "output_type": "stream",
     "text": [
      "[Parallel(n_jobs=4)]: Done   5 out of   5 | elapsed:    5.2s finished\n",
      "[Parallel(n_jobs=4)]: Using backend LokyBackend with 4 concurrent workers.\n"
     ]
    },
    {
     "name": "stdout",
     "output_type": "stream",
     "text": [
      "RF\n",
      "RF: AllR\n"
     ]
    },
    {
     "name": "stderr",
     "output_type": "stream",
     "text": [
      "[Parallel(n_jobs=4)]: Done   5 out of   5 | elapsed:    4.6s finished\n",
      "[Parallel(n_jobs=4)]: Using backend LokyBackend with 4 concurrent workers.\n"
     ]
    },
    {
     "name": "stdout",
     "output_type": "stream",
     "text": [
      "RF: ArcA\n"
     ]
    },
    {
     "name": "stderr",
     "output_type": "stream",
     "text": [
      "[Parallel(n_jobs=4)]: Done   5 out of   5 | elapsed:    6.1s finished\n",
      "[Parallel(n_jobs=4)]: Using backend LokyBackend with 4 concurrent workers.\n"
     ]
    },
    {
     "name": "stdout",
     "output_type": "stream",
     "text": [
      "RF: ArgR\n"
     ]
    },
    {
     "name": "stderr",
     "output_type": "stream",
     "text": [
      "[Parallel(n_jobs=4)]: Done   5 out of   5 | elapsed:    4.6s finished\n",
      "[Parallel(n_jobs=4)]: Using backend LokyBackend with 4 concurrent workers.\n"
     ]
    },
    {
     "name": "stdout",
     "output_type": "stream",
     "text": [
      "RF: ArgP\n"
     ]
    },
    {
     "name": "stderr",
     "output_type": "stream",
     "text": [
      "[Parallel(n_jobs=4)]: Done   5 out of   5 | elapsed:    5.0s finished\n",
      "[Parallel(n_jobs=4)]: Using backend LokyBackend with 4 concurrent workers.\n"
     ]
    },
    {
     "name": "stdout",
     "output_type": "stream",
     "text": [
      "RF: BaeR+CpxR\n"
     ]
    },
    {
     "name": "stderr",
     "output_type": "stream",
     "text": [
      "[Parallel(n_jobs=4)]: Done   5 out of   5 | elapsed:    3.8s finished\n",
      "[Parallel(n_jobs=4)]: Using backend LokyBackend with 4 concurrent workers.\n"
     ]
    },
    {
     "name": "stdout",
     "output_type": "stream",
     "text": [
      "RF: CpxR\n"
     ]
    },
    {
     "name": "stderr",
     "output_type": "stream",
     "text": [
      "[Parallel(n_jobs=4)]: Done   5 out of   5 | elapsed:    6.5s finished\n",
      "[Parallel(n_jobs=4)]: Using backend LokyBackend with 4 concurrent workers.\n"
     ]
    },
    {
     "name": "stdout",
     "output_type": "stream",
     "text": [
      "RF: CdaR\n"
     ]
    },
    {
     "name": "stderr",
     "output_type": "stream",
     "text": [
      "[Parallel(n_jobs=4)]: Done   5 out of   5 | elapsed:    2.9s finished\n",
      "[Parallel(n_jobs=4)]: Using backend LokyBackend with 4 concurrent workers.\n"
     ]
    },
    {
     "name": "stdout",
     "output_type": "stream",
     "text": [
      "RF: Cra\n"
     ]
    },
    {
     "name": "stderr",
     "output_type": "stream",
     "text": [
      "[Parallel(n_jobs=4)]: Done   5 out of   5 | elapsed:    4.4s finished\n",
      "[Parallel(n_jobs=4)]: Using backend LokyBackend with 4 concurrent workers.\n"
     ]
    },
    {
     "name": "stdout",
     "output_type": "stream",
     "text": [
      "RF: Crp-related-2\n"
     ]
    },
    {
     "name": "stderr",
     "output_type": "stream",
     "text": [
      "[Parallel(n_jobs=4)]: Done   5 out of   5 | elapsed:    3.6s finished\n",
      "[Parallel(n_jobs=4)]: Using backend LokyBackend with 4 concurrent workers.\n"
     ]
    },
    {
     "name": "stdout",
     "output_type": "stream",
     "text": [
      "RF: EvgA\n"
     ]
    },
    {
     "name": "stderr",
     "output_type": "stream",
     "text": [
      "[Parallel(n_jobs=4)]: Done   5 out of   5 | elapsed:    4.9s finished\n",
      "[Parallel(n_jobs=4)]: Using backend LokyBackend with 4 concurrent workers.\n"
     ]
    },
    {
     "name": "stdout",
     "output_type": "stream",
     "text": [
      "RF: CysB-1\n"
     ]
    },
    {
     "name": "stderr",
     "output_type": "stream",
     "text": [
      "[Parallel(n_jobs=4)]: Done   5 out of   5 | elapsed:    5.5s finished\n",
      "[Parallel(n_jobs=4)]: Using backend LokyBackend with 4 concurrent workers.\n"
     ]
    },
    {
     "name": "stdout",
     "output_type": "stream",
     "text": [
      "RF: CysB-2\n"
     ]
    },
    {
     "name": "stderr",
     "output_type": "stream",
     "text": [
      "[Parallel(n_jobs=4)]: Done   5 out of   5 | elapsed:    4.1s finished\n",
      "[Parallel(n_jobs=4)]: Using backend LokyBackend with 4 concurrent workers.\n"
     ]
    },
    {
     "name": "stdout",
     "output_type": "stream",
     "text": [
      "RF: CysB-3\n"
     ]
    },
    {
     "name": "stderr",
     "output_type": "stream",
     "text": [
      "[Parallel(n_jobs=4)]: Done   5 out of   5 | elapsed:    5.1s finished\n",
      "[Parallel(n_jobs=4)]: Using backend LokyBackend with 4 concurrent workers.\n"
     ]
    },
    {
     "name": "stdout",
     "output_type": "stream",
     "text": [
      "RF: FadR\n"
     ]
    },
    {
     "name": "stderr",
     "output_type": "stream",
     "text": [
      "[Parallel(n_jobs=4)]: Done   5 out of   5 | elapsed:    3.9s finished\n",
      "[Parallel(n_jobs=4)]: Using backend LokyBackend with 4 concurrent workers.\n"
     ]
    },
    {
     "name": "stdout",
     "output_type": "stream",
     "text": [
      "RF: FlhDC-1\n"
     ]
    },
    {
     "name": "stderr",
     "output_type": "stream",
     "text": [
      "[Parallel(n_jobs=4)]: Done   5 out of   5 | elapsed:    5.1s finished\n",
      "[Parallel(n_jobs=4)]: Using backend LokyBackend with 4 concurrent workers.\n"
     ]
    },
    {
     "name": "stdout",
     "output_type": "stream",
     "text": [
      "RF: FlhDC-2\n"
     ]
    },
    {
     "name": "stderr",
     "output_type": "stream",
     "text": [
      "[Parallel(n_jobs=4)]: Done   5 out of   5 | elapsed:    4.6s finished\n",
      "[Parallel(n_jobs=4)]: Using backend LokyBackend with 4 concurrent workers.\n"
     ]
    },
    {
     "name": "stdout",
     "output_type": "stream",
     "text": [
      "RF: Fimbriae\n"
     ]
    },
    {
     "name": "stderr",
     "output_type": "stream",
     "text": [
      "[Parallel(n_jobs=4)]: Done   5 out of   5 | elapsed:    3.8s finished\n"
     ]
    }
   ],
   "source": [
    "result_df = pd.DataFrame(\n",
    "    columns=['model', 'im', 'train_auc', 'test_auc']\n",
    ")\n",
    "\n",
    "N_CV = 5\n",
    "\n",
    "for model_name, model in models_to_try.items():\n",
    "    print(f'{model_name}')\n",
    "    \n",
    "    for y_name, y_labels in y_to_try.items():\n",
    "        print(f'{model_name}: {y_name}')\n",
    "        \n",
    "        cv_result = cross_validate(\n",
    "            model,\n",
    "            X,\n",
    "            y= y_labels,\n",
    "            cv=N_CV,\n",
    "            scoring='roc_auc',\n",
    "            return_train_score=True,\n",
    "            verbose=1,\n",
    "            n_jobs=4\n",
    "        )\n",
    "\n",
    "        sub_result_df = pd.DataFrame(\n",
    "            data={\n",
    "                'model': [model_name] * N_CV,\n",
    "                'im': [y_name] * N_CV,\n",
    "                'train_auc': cv_result['train_score'],\n",
    "                'test_auc': cv_result['test_score']\n",
    "            }\n",
    "        )\n",
    "\n",
    "        result_df = result_df.append(sub_result_df)"
   ]
  },
  {
   "cell_type": "code",
   "execution_count": 19,
   "metadata": {},
   "outputs": [],
   "source": [
    "result_df.to_csv('data/model_selection.csv')"
   ]
  },
  {
   "cell_type": "code",
   "execution_count": 20,
   "metadata": {},
   "outputs": [],
   "source": [
    "result_df = pd.read_csv('data/model_selection.csv')"
   ]
  },
  {
   "cell_type": "code",
   "execution_count": 21,
   "metadata": {},
   "outputs": [
    {
     "data": {
      "text/plain": [
       "<matplotlib.lines.Line2D at 0x7f33cae65160>"
      ]
     },
     "execution_count": 21,
     "metadata": {},
     "output_type": "execute_result"
    },
    {
     "name": "stderr",
     "output_type": "stream",
     "text": [
      "findfont: Font family ['sans-serif'] not found. Falling back to DejaVu Sans.\n"
     ]
    },
    {
     "data": {
      "image/png": "[encoded data removed]",
      "text/plain": [
       "<Figure size 432x288 with 1 Axes>"
      ]
     },
     "metadata": {
      "needs_background": "light"
     },
     "output_type": "display_data"
    }
   ],
   "source": [
    "_, ax = plt.subplots()\n",
    "sns.swarmplot(x='model', y='test_auc', data=result_df, hue='im', dodge=True, ax=ax)\n",
    "plt.legend(loc='right', bbox_to_anchor=(1.5, 0.5))\n",
    "plt.axhline(y= 0.5, color = 'r', ls = '--')"
   ]
  },
  {
   "cell_type": "markdown",
   "metadata": {},
   "source": [
    "### Hyperparameter Optimization"
   ]
  },
  {
   "cell_type": "code",
   "execution_count": 16,
   "metadata": {},
   "outputs": [],
   "source": [
    "hyperopt_models = {\n",
    "    'LR': {\n",
    "        'model': LogisticRegression(\n",
    "            solver='saga',\n",
    "            class_weight='balanced',\n",
    "            verbose=1\n",
    "        ),\n",
    "        'param_dists': {\n",
    "            'penalty': ['l1', 'l2'],\n",
    "            'C': np.arange(0.01, 5, 0.05)\n",
    "        }\n",
    "    },\n",
    "    'SVM': {\n",
    "        'model': LinearSVC(\n",
    "            class_weight='balanced',\n",
    "            dual=False,\n",
    "            verbose=1\n",
    "        ),\n",
    "        'param_dists': {\n",
    "            'penalty': ['l1', 'l2'],\n",
    "            'loss': ['hinge', 'squared_hinge'],\n",
    "            'C': np.arange(0.01, 5, 0.05)\n",
    "        }\n",
    "    },\n",
    "    'RF': {\n",
    "        'model': RandomForestClassifier(\n",
    "            class_weight='balanced',\n",
    "            verbose=1\n",
    "        ),\n",
    "        'param_dists': {\n",
    "            'n_estimators': np.arange(10, 100, 5), # use smaller number of trees to reduce overfit\n",
    "            'max_depth': np.arange(3, 15),\n",
    "            'min_samples_split': np.arange(0.001, 0.02, 0.001),\n",
    "            'min_samples_leaf': np.arange(5, 15)\n",
    "        }\n",
    "    }\n",
    "}"
   ]
  },
  {
   "cell_type": "code",
   "execution_count": 23,
   "metadata": {},
   "outputs": [
    {
     "name": "stdout",
     "output_type": "stream",
     "text": [
      "AllR\n",
      "Fitting 5 folds for each of 25 candidates, totalling 125 fits\n"
     ]
    },
    {
     "name": "stderr",
     "output_type": "stream",
     "text": [
      "[Parallel(n_jobs=4)]: Using backend LokyBackend with 4 concurrent workers.\n",
      "[Parallel(n_jobs=4)]: Done  42 tasks      | elapsed:   28.9s\n",
      "[Parallel(n_jobs=4)]: Done 125 out of 125 | elapsed:   58.6s finished\n",
      "[Parallel(n_jobs=1)]: Using backend SequentialBackend with 1 concurrent workers.\n",
      "[Parallel(n_jobs=1)]: Done  70 out of  70 | elapsed:    0.9s finished\n",
      "[Parallel(n_jobs=4)]: Using backend LokyBackend with 4 concurrent workers.\n"
     ]
    },
    {
     "name": "stdout",
     "output_type": "stream",
     "text": [
      "ArcA\n",
      "Fitting 5 folds for each of 25 candidates, totalling 125 fits\n"
     ]
    },
    {
     "name": "stderr",
     "output_type": "stream",
     "text": [
      "[Parallel(n_jobs=4)]: Done  42 tasks      | elapsed:   30.9s\n",
      "[Parallel(n_jobs=4)]: Done 125 out of 125 | elapsed:  1.3min finished\n",
      "[Parallel(n_jobs=1)]: Using backend SequentialBackend with 1 concurrent workers.\n",
      "[Parallel(n_jobs=1)]: Done  80 out of  80 | elapsed:    1.7s finished\n",
      "[Parallel(n_jobs=4)]: Using backend LokyBackend with 4 concurrent workers.\n"
     ]
    },
    {
     "name": "stdout",
     "output_type": "stream",
     "text": [
      "ArgR\n",
      "Fitting 5 folds for each of 25 candidates, totalling 125 fits\n"
     ]
    },
    {
     "name": "stderr",
     "output_type": "stream",
     "text": [
      "[Parallel(n_jobs=4)]: Done  42 tasks      | elapsed:   15.2s\n",
      "[Parallel(n_jobs=4)]: Done 125 out of 125 | elapsed:   49.2s finished\n",
      "[Parallel(n_jobs=1)]: Using backend SequentialBackend with 1 concurrent workers.\n",
      "[Parallel(n_jobs=1)]: Done  75 out of  75 | elapsed:    1.0s finished\n",
      "[Parallel(n_jobs=4)]: Using backend LokyBackend with 4 concurrent workers.\n"
     ]
    },
    {
     "name": "stdout",
     "output_type": "stream",
     "text": [
      "ArgP\n",
      "Fitting 5 folds for each of 25 candidates, totalling 125 fits\n"
     ]
    },
    {
     "name": "stderr",
     "output_type": "stream",
     "text": [
      "[Parallel(n_jobs=4)]: Done  42 tasks      | elapsed:   18.1s\n",
      "[Parallel(n_jobs=4)]: Done 125 out of 125 | elapsed:   56.3s finished\n",
      "[Parallel(n_jobs=1)]: Using backend SequentialBackend with 1 concurrent workers.\n",
      "[Parallel(n_jobs=1)]: Done  55 out of  55 | elapsed:    0.9s finished\n",
      "[Parallel(n_jobs=4)]: Using backend LokyBackend with 4 concurrent workers.\n"
     ]
    },
    {
     "name": "stdout",
     "output_type": "stream",
     "text": [
      "BaeR+CpxR\n",
      "Fitting 5 folds for each of 25 candidates, totalling 125 fits\n"
     ]
    },
    {
     "name": "stderr",
     "output_type": "stream",
     "text": [
      "[Parallel(n_jobs=4)]: Done  42 tasks      | elapsed:   19.6s\n",
      "[Parallel(n_jobs=4)]: Done 125 out of 125 | elapsed:   48.9s finished\n",
      "[Parallel(n_jobs=1)]: Using backend SequentialBackend with 1 concurrent workers.\n",
      "[Parallel(n_jobs=1)]: Done  65 out of  65 | elapsed:    1.2s finished\n",
      "[Parallel(n_jobs=4)]: Using backend LokyBackend with 4 concurrent workers.\n"
     ]
    },
    {
     "name": "stdout",
     "output_type": "stream",
     "text": [
      "CpxR\n",
      "Fitting 5 folds for each of 25 candidates, totalling 125 fits\n"
     ]
    },
    {
     "name": "stderr",
     "output_type": "stream",
     "text": [
      "[Parallel(n_jobs=4)]: Done  42 tasks      | elapsed:   27.0s\n",
      "[Parallel(n_jobs=4)]: Done 125 out of 125 | elapsed:  1.3min finished\n",
      "[Parallel(n_jobs=1)]: Using backend SequentialBackend with 1 concurrent workers.\n",
      "[Parallel(n_jobs=1)]: Done  95 out of  95 | elapsed:    2.2s finished\n",
      "[Parallel(n_jobs=4)]: Using backend LokyBackend with 4 concurrent workers.\n"
     ]
    },
    {
     "name": "stdout",
     "output_type": "stream",
     "text": [
      "CdaR\n",
      "Fitting 5 folds for each of 25 candidates, totalling 125 fits\n"
     ]
    },
    {
     "name": "stderr",
     "output_type": "stream",
     "text": [
      "[Parallel(n_jobs=4)]: Done  42 tasks      | elapsed:   14.5s\n",
      "[Parallel(n_jobs=4)]: Done 125 out of 125 | elapsed:   37.7s finished\n",
      "[Parallel(n_jobs=1)]: Using backend SequentialBackend with 1 concurrent workers.\n",
      "[Parallel(n_jobs=1)]: Done  60 out of  60 | elapsed:    0.8s finished\n",
      "[Parallel(n_jobs=4)]: Using backend LokyBackend with 4 concurrent workers.\n"
     ]
    },
    {
     "name": "stdout",
     "output_type": "stream",
     "text": [
      "Cra\n",
      "Fitting 5 folds for each of 25 candidates, totalling 125 fits\n"
     ]
    },
    {
     "name": "stderr",
     "output_type": "stream",
     "text": [
      "[Parallel(n_jobs=4)]: Done  42 tasks      | elapsed:   18.9s\n",
      "[Parallel(n_jobs=4)]: Done 125 out of 125 | elapsed:   57.3s finished\n",
      "[Parallel(n_jobs=1)]: Using backend SequentialBackend with 1 concurrent workers.\n",
      "[Parallel(n_jobs=1)]: Done  55 out of  55 | elapsed:    0.8s finished\n",
      "[Parallel(n_jobs=4)]: Using backend LokyBackend with 4 concurrent workers.\n"
     ]
    },
    {
     "name": "stdout",
     "output_type": "stream",
     "text": [
      "Crp-related-2\n",
      "Fitting 5 folds for each of 25 candidates, totalling 125 fits\n"
     ]
    },
    {
     "name": "stderr",
     "output_type": "stream",
     "text": [
      "[Parallel(n_jobs=4)]: Done  42 tasks      | elapsed:   17.5s\n",
      "[Parallel(n_jobs=4)]: Done 125 out of 125 | elapsed:   42.9s finished\n",
      "[Parallel(n_jobs=1)]: Using backend SequentialBackend with 1 concurrent workers.\n",
      "[Parallel(n_jobs=1)]: Done  55 out of  55 | elapsed:    0.7s finished\n",
      "[Parallel(n_jobs=4)]: Using backend LokyBackend with 4 concurrent workers.\n"
     ]
    },
    {
     "name": "stdout",
     "output_type": "stream",
     "text": [
      "EvgA\n",
      "Fitting 5 folds for each of 25 candidates, totalling 125 fits\n"
     ]
    },
    {
     "name": "stderr",
     "output_type": "stream",
     "text": [
      "[Parallel(n_jobs=4)]: Done  42 tasks      | elapsed:   21.8s\n",
      "[Parallel(n_jobs=4)]: Done 125 out of 125 | elapsed:  1.0min finished\n",
      "[Parallel(n_jobs=1)]: Using backend SequentialBackend with 1 concurrent workers.\n",
      "[Parallel(n_jobs=1)]: Done  55 out of  55 | elapsed:    0.6s finished\n",
      "[Parallel(n_jobs=4)]: Using backend LokyBackend with 4 concurrent workers.\n"
     ]
    },
    {
     "name": "stdout",
     "output_type": "stream",
     "text": [
      "CysB-1\n",
      "Fitting 5 folds for each of 25 candidates, totalling 125 fits\n"
     ]
    },
    {
     "name": "stderr",
     "output_type": "stream",
     "text": [
      "[Parallel(n_jobs=4)]: Done  42 tasks      | elapsed:   19.5s\n",
      "[Parallel(n_jobs=4)]: Done 125 out of 125 | elapsed:  1.0min finished\n",
      "[Parallel(n_jobs=1)]: Using backend SequentialBackend with 1 concurrent workers.\n",
      "[Parallel(n_jobs=1)]: Done  90 out of  90 | elapsed:    1.5s finished\n",
      "[Parallel(n_jobs=4)]: Using backend LokyBackend with 4 concurrent workers.\n"
     ]
    },
    {
     "name": "stdout",
     "output_type": "stream",
     "text": [
      "CysB-2\n",
      "Fitting 5 folds for each of 25 candidates, totalling 125 fits\n"
     ]
    },
    {
     "name": "stderr",
     "output_type": "stream",
     "text": [
      "[Parallel(n_jobs=4)]: Done  42 tasks      | elapsed:   16.7s\n",
      "[Parallel(n_jobs=4)]: Done 125 out of 125 | elapsed:   50.6s finished\n",
      "[Parallel(n_jobs=1)]: Using backend SequentialBackend with 1 concurrent workers.\n",
      "[Parallel(n_jobs=1)]: Done  90 out of  90 | elapsed:    1.3s finished\n",
      "[Parallel(n_jobs=4)]: Using backend LokyBackend with 4 concurrent workers.\n"
     ]
    },
    {
     "name": "stdout",
     "output_type": "stream",
     "text": [
      "CysB-3\n",
      "Fitting 5 folds for each of 25 candidates, totalling 125 fits\n"
     ]
    },
    {
     "name": "stderr",
     "output_type": "stream",
     "text": [
      "[Parallel(n_jobs=4)]: Done  42 tasks      | elapsed:   17.7s\n",
      "[Parallel(n_jobs=4)]: Done 125 out of 125 | elapsed:   53.1s finished\n",
      "[Parallel(n_jobs=1)]: Using backend SequentialBackend with 1 concurrent workers.\n",
      "[Parallel(n_jobs=1)]: Done  80 out of  80 | elapsed:    1.0s finished\n",
      "[Parallel(n_jobs=4)]: Using backend LokyBackend with 4 concurrent workers.\n"
     ]
    },
    {
     "name": "stdout",
     "output_type": "stream",
     "text": [
      "FadR\n",
      "Fitting 5 folds for each of 25 candidates, totalling 125 fits\n"
     ]
    },
    {
     "name": "stderr",
     "output_type": "stream",
     "text": [
      "[Parallel(n_jobs=4)]: Done  42 tasks      | elapsed:   16.4s\n",
      "[Parallel(n_jobs=4)]: Done 125 out of 125 | elapsed:   59.0s finished\n",
      "[Parallel(n_jobs=1)]: Using backend SequentialBackend with 1 concurrent workers.\n",
      "[Parallel(n_jobs=1)]: Done  80 out of  80 | elapsed:    1.5s finished\n",
      "[Parallel(n_jobs=4)]: Using backend LokyBackend with 4 concurrent workers.\n"
     ]
    },
    {
     "name": "stdout",
     "output_type": "stream",
     "text": [
      "FlhDC-1\n",
      "Fitting 5 folds for each of 25 candidates, totalling 125 fits\n"
     ]
    },
    {
     "name": "stderr",
     "output_type": "stream",
     "text": [
      "[Parallel(n_jobs=4)]: Done  42 tasks      | elapsed:   33.7s\n",
      "[Parallel(n_jobs=4)]: Done 125 out of 125 | elapsed:  1.4min finished\n",
      "[Parallel(n_jobs=1)]: Using backend SequentialBackend with 1 concurrent workers.\n",
      "[Parallel(n_jobs=1)]: Done  50 out of  50 | elapsed:    1.3s finished\n",
      "[Parallel(n_jobs=4)]: Using backend LokyBackend with 4 concurrent workers.\n"
     ]
    },
    {
     "name": "stdout",
     "output_type": "stream",
     "text": [
      "FlhDC-2\n",
      "Fitting 5 folds for each of 25 candidates, totalling 125 fits\n"
     ]
    },
    {
     "name": "stderr",
     "output_type": "stream",
     "text": [
      "[Parallel(n_jobs=4)]: Done  42 tasks      | elapsed:   15.8s\n",
      "[Parallel(n_jobs=4)]: Done 125 out of 125 | elapsed:   48.6s finished\n",
      "[Parallel(n_jobs=1)]: Using backend SequentialBackend with 1 concurrent workers.\n",
      "[Parallel(n_jobs=1)]: Done  65 out of  65 | elapsed:    1.7s finished\n",
      "[Parallel(n_jobs=4)]: Using backend LokyBackend with 4 concurrent workers.\n"
     ]
    },
    {
     "name": "stdout",
     "output_type": "stream",
     "text": [
      "Fimbriae\n",
      "Fitting 5 folds for each of 25 candidates, totalling 125 fits\n"
     ]
    },
    {
     "name": "stderr",
     "output_type": "stream",
     "text": [
      "[Parallel(n_jobs=4)]: Done  42 tasks      | elapsed:   15.5s\n",
      "[Parallel(n_jobs=4)]: Done 125 out of 125 | elapsed:   43.9s finished\n",
      "[Parallel(n_jobs=1)]: Using backend SequentialBackend with 1 concurrent workers.\n",
      "[Parallel(n_jobs=1)]: Done  40 out of  40 | elapsed:    0.6s finished\n"
     ]
    }
   ],
   "source": [
    "hyperopt_RF = {}\n",
    "\n",
    "for y_name, y_labels in y_to_try.items():\n",
    "    print(y_name)\n",
    "\n",
    "    random_search_hyperopt = RandomizedSearchCV(\n",
    "        hyperopt_models['RF']['model'],\n",
    "        hyperopt_models['RF']['param_dists'],\n",
    "        n_iter=25,\n",
    "        scoring='roc_auc',\n",
    "        n_jobs=4,\n",
    "        cv=5,\n",
    "        verbose=1,\n",
    "        return_train_score=True\n",
    "    )\n",
    "\n",
    "    random_search_hyperopt.fit(X,y_labels )\n",
    "    \n",
    "    hyperopt_results_df = pd.DataFrame(random_search_hyperopt.cv_results_).sort_values(\n",
    "        by='mean_test_score',\n",
    "        ascending=False\n",
    "    )\n",
    "    hyperopt_RF[y_name] = hyperopt_results_df"
   ]
  },
  {
   "cell_type": "code",
   "execution_count": 24,
   "metadata": {},
   "outputs": [],
   "source": [
    "dfs_with_ims = []\n",
    "for y_name, hyperopt_df in hyperopt_RF.items():\n",
    "    hyperopt_df['im'] = [y_name] * hyperopt_df.shape[0]\n",
    "    dfs_with_ims.append(hyperopt_df)\n",
    "    \n",
    "hyperopt_RF_df = pd.concat(dfs_with_ims, axis=0, ignore_index=True)\n",
    "hyperopt_RF_df.to_csv('data/hyperopt_RF.csv')"
   ]
  },
  {
   "cell_type": "code",
   "execution_count": 27,
   "metadata": {},
   "outputs": [
    {
     "data": {
      "text/plain": [
       "Text(0.5, 1.0, 'RF')"
      ]
     },
     "execution_count": 27,
     "metadata": {},
     "output_type": "execute_result"
    },
    {
     "data": {
      "image/png": "[encoded data removed]",
      "text/plain": [
       "<Figure size 1440x432 with 1 Axes>"
      ]
     },
     "metadata": {
      "needs_background": "light"
     },
     "output_type": "display_data"
    }
   ],
   "source": [
    "hyperopt_result_df = pd.read_csv( 'data/hyperopt_RF.csv' , index_col=0)\n",
    "plt.figure( figsize=(20,6))\n",
    "sns.swarmplot(x='im', y='mean_train_score', data=hyperopt_result_df)\n",
    "sns.boxplot(x='im', y='mean_test_score', data=hyperopt_result_df)\n",
    "plt.axhline(y= 0.8, color = 'purple', ls = '--')\n",
    "plt.axhline(y= 0.5, color = 'r', ls = '--')\n",
    "plt.title('RF')"
   ]
  },
  {
   "cell_type": "code",
   "execution_count": 17,
   "metadata": {},
   "outputs": [
    {
     "name": "stdout",
     "output_type": "stream",
     "text": [
      "AllR\n",
      "Fitting 5 folds for each of 25 candidates, totalling 125 fits\n"
     ]
    },
    {
     "name": "stderr",
     "output_type": "stream",
     "text": [
      "[Parallel(n_jobs=4)]: Using backend LokyBackend with 4 concurrent workers.\n",
      "[Parallel(n_jobs=4)]: Done  42 tasks      | elapsed:  1.9min\n",
      "[Parallel(n_jobs=4)]: Done 125 out of 125 | elapsed:  5.2min finished\n",
      "[Parallel(n_jobs=1)]: Using backend SequentialBackend with 1 concurrent workers.\n"
     ]
    },
    {
     "name": "stdout",
     "output_type": "stream",
     "text": [
      "max_iter reached after 7 seconds\n",
      "ArcA\n",
      "Fitting 5 folds for each of 25 candidates, totalling 125 fits\n"
     ]
    },
    {
     "name": "stderr",
     "output_type": "stream",
     "text": [
      "/usr/local/lib/python3.8/dist-packages/sklearn/linear_model/_sag.py:329: ConvergenceWarning: The max_iter was reached which means the coef_ did not converge\n",
      "  warnings.warn(\"The max_iter was reached which means \"\n",
      "[Parallel(n_jobs=1)]: Done   1 out of   1 | elapsed:    7.7s finished\n",
      "[Parallel(n_jobs=4)]: Using backend LokyBackend with 4 concurrent workers.\n",
      "[Parallel(n_jobs=4)]: Done  42 tasks      | elapsed:  1.6min\n",
      "[Parallel(n_jobs=4)]: Done 125 out of 125 | elapsed:  5.5min finished\n",
      "[Parallel(n_jobs=1)]: Using backend SequentialBackend with 1 concurrent workers.\n"
     ]
    },
    {
     "name": "stdout",
     "output_type": "stream",
     "text": [
      "max_iter reached after 5 seconds\n",
      "ArgR\n",
      "Fitting 5 folds for each of 25 candidates, totalling 125 fits\n"
     ]
    },
    {
     "name": "stderr",
     "output_type": "stream",
     "text": [
      "/usr/local/lib/python3.8/dist-packages/sklearn/linear_model/_sag.py:329: ConvergenceWarning: The max_iter was reached which means the coef_ did not converge\n",
      "  warnings.warn(\"The max_iter was reached which means \"\n",
      "[Parallel(n_jobs=1)]: Done   1 out of   1 | elapsed:    5.0s finished\n",
      "[Parallel(n_jobs=4)]: Using backend LokyBackend with 4 concurrent workers.\n",
      "[Parallel(n_jobs=4)]: Done  42 tasks      | elapsed:  1.6min\n",
      "[Parallel(n_jobs=4)]: Done 125 out of 125 | elapsed:  5.4min finished\n",
      "[Parallel(n_jobs=1)]: Using backend SequentialBackend with 1 concurrent workers.\n"
     ]
    },
    {
     "name": "stdout",
     "output_type": "stream",
     "text": [
      "max_iter reached after 8 seconds\n",
      "ArgP\n",
      "Fitting 5 folds for each of 25 candidates, totalling 125 fits\n"
     ]
    },
    {
     "name": "stderr",
     "output_type": "stream",
     "text": [
      "/usr/local/lib/python3.8/dist-packages/sklearn/linear_model/_sag.py:329: ConvergenceWarning: The max_iter was reached which means the coef_ did not converge\n",
      "  warnings.warn(\"The max_iter was reached which means \"\n",
      "[Parallel(n_jobs=1)]: Done   1 out of   1 | elapsed:    7.6s finished\n",
      "[Parallel(n_jobs=4)]: Using backend LokyBackend with 4 concurrent workers.\n",
      "[Parallel(n_jobs=4)]: Done  42 tasks      | elapsed:  2.0min\n",
      "[Parallel(n_jobs=4)]: Done 125 out of 125 | elapsed:  5.5min finished\n",
      "[Parallel(n_jobs=1)]: Using backend SequentialBackend with 1 concurrent workers.\n"
     ]
    },
    {
     "name": "stdout",
     "output_type": "stream",
     "text": [
      "max_iter reached after 7 seconds\n",
      "BaeR+CpxR\n",
      "Fitting 5 folds for each of 25 candidates, totalling 125 fits\n"
     ]
    },
    {
     "name": "stderr",
     "output_type": "stream",
     "text": [
      "/usr/local/lib/python3.8/dist-packages/sklearn/linear_model/_sag.py:329: ConvergenceWarning: The max_iter was reached which means the coef_ did not converge\n",
      "  warnings.warn(\"The max_iter was reached which means \"\n",
      "[Parallel(n_jobs=1)]: Done   1 out of   1 | elapsed:    7.4s finished\n",
      "[Parallel(n_jobs=4)]: Using backend LokyBackend with 4 concurrent workers.\n",
      "[Parallel(n_jobs=4)]: Done  42 tasks      | elapsed:  1.9min\n",
      "[Parallel(n_jobs=4)]: Done 125 out of 125 | elapsed:  5.6min finished\n",
      "[Parallel(n_jobs=1)]: Using backend SequentialBackend with 1 concurrent workers.\n"
     ]
    },
    {
     "name": "stdout",
     "output_type": "stream",
     "text": [
      "max_iter reached after 5 seconds\n",
      "CpxR\n",
      "Fitting 5 folds for each of 25 candidates, totalling 125 fits\n"
     ]
    },
    {
     "name": "stderr",
     "output_type": "stream",
     "text": [
      "/usr/local/lib/python3.8/dist-packages/sklearn/linear_model/_sag.py:329: ConvergenceWarning: The max_iter was reached which means the coef_ did not converge\n",
      "  warnings.warn(\"The max_iter was reached which means \"\n",
      "[Parallel(n_jobs=1)]: Done   1 out of   1 | elapsed:    4.6s finished\n",
      "[Parallel(n_jobs=4)]: Using backend LokyBackend with 4 concurrent workers.\n",
      "[Parallel(n_jobs=4)]: Done  42 tasks      | elapsed:  1.6min\n",
      "[Parallel(n_jobs=4)]: Done 125 out of 125 | elapsed:  5.4min finished\n",
      "[Parallel(n_jobs=1)]: Using backend SequentialBackend with 1 concurrent workers.\n"
     ]
    },
    {
     "name": "stdout",
     "output_type": "stream",
     "text": [
      "max_iter reached after 8 seconds\n",
      "CdaR\n",
      "Fitting 5 folds for each of 25 candidates, totalling 125 fits\n"
     ]
    },
    {
     "name": "stderr",
     "output_type": "stream",
     "text": [
      "/usr/local/lib/python3.8/dist-packages/sklearn/linear_model/_sag.py:329: ConvergenceWarning: The max_iter was reached which means the coef_ did not converge\n",
      "  warnings.warn(\"The max_iter was reached which means \"\n",
      "[Parallel(n_jobs=1)]: Done   1 out of   1 | elapsed:    8.3s finished\n",
      "[Parallel(n_jobs=4)]: Using backend LokyBackend with 4 concurrent workers.\n",
      "[Parallel(n_jobs=4)]: Done  42 tasks      | elapsed:  1.8min\n",
      "[Parallel(n_jobs=4)]: Done 125 out of 125 | elapsed:  5.4min finished\n",
      "[Parallel(n_jobs=1)]: Using backend SequentialBackend with 1 concurrent workers.\n"
     ]
    },
    {
     "name": "stdout",
     "output_type": "stream",
     "text": [
      "max_iter reached after 4 seconds\n",
      "Cra\n",
      "Fitting 5 folds for each of 25 candidates, totalling 125 fits\n"
     ]
    },
    {
     "name": "stderr",
     "output_type": "stream",
     "text": [
      "/usr/local/lib/python3.8/dist-packages/sklearn/linear_model/_sag.py:329: ConvergenceWarning: The max_iter was reached which means the coef_ did not converge\n",
      "  warnings.warn(\"The max_iter was reached which means \"\n",
      "[Parallel(n_jobs=1)]: Done   1 out of   1 | elapsed:    4.6s finished\n",
      "[Parallel(n_jobs=4)]: Using backend LokyBackend with 4 concurrent workers.\n",
      "[Parallel(n_jobs=4)]: Done  42 tasks      | elapsed:  1.9min\n",
      "[Parallel(n_jobs=4)]: Done 125 out of 125 | elapsed:  5.5min finished\n",
      "[Parallel(n_jobs=1)]: Using backend SequentialBackend with 1 concurrent workers.\n"
     ]
    },
    {
     "name": "stdout",
     "output_type": "stream",
     "text": [
      "max_iter reached after 7 seconds\n",
      "Crp-related-2\n",
      "Fitting 5 folds for each of 25 candidates, totalling 125 fits\n"
     ]
    },
    {
     "name": "stderr",
     "output_type": "stream",
     "text": [
      "/usr/local/lib/python3.8/dist-packages/sklearn/linear_model/_sag.py:329: ConvergenceWarning: The max_iter was reached which means the coef_ did not converge\n",
      "  warnings.warn(\"The max_iter was reached which means \"\n",
      "[Parallel(n_jobs=1)]: Done   1 out of   1 | elapsed:    7.4s finished\n",
      "[Parallel(n_jobs=4)]: Using backend LokyBackend with 4 concurrent workers.\n",
      "[Parallel(n_jobs=4)]: Done  42 tasks      | elapsed:  1.5min\n",
      "[Parallel(n_jobs=4)]: Done 125 out of 125 | elapsed:  4.8min finished\n",
      "[Parallel(n_jobs=1)]: Using backend SequentialBackend with 1 concurrent workers.\n"
     ]
    },
    {
     "name": "stdout",
     "output_type": "stream",
     "text": [
      "max_iter reached after 7 seconds\n",
      "EvgA\n",
      "Fitting 5 folds for each of 25 candidates, totalling 125 fits\n"
     ]
    },
    {
     "name": "stderr",
     "output_type": "stream",
     "text": [
      "/usr/local/lib/python3.8/dist-packages/sklearn/linear_model/_sag.py:329: ConvergenceWarning: The max_iter was reached which means the coef_ did not converge\n",
      "  warnings.warn(\"The max_iter was reached which means \"\n",
      "[Parallel(n_jobs=1)]: Done   1 out of   1 | elapsed:    7.5s finished\n",
      "[Parallel(n_jobs=4)]: Using backend LokyBackend with 4 concurrent workers.\n",
      "[Parallel(n_jobs=4)]: Done  42 tasks      | elapsed:  2.1min\n",
      "[Parallel(n_jobs=4)]: Done 125 out of 125 | elapsed:  5.3min finished\n",
      "[Parallel(n_jobs=1)]: Using backend SequentialBackend with 1 concurrent workers.\n"
     ]
    },
    {
     "name": "stdout",
     "output_type": "stream",
     "text": [
      "max_iter reached after 7 seconds\n",
      "CysB-1\n",
      "Fitting 5 folds for each of 25 candidates, totalling 125 fits\n"
     ]
    },
    {
     "name": "stderr",
     "output_type": "stream",
     "text": [
      "/usr/local/lib/python3.8/dist-packages/sklearn/linear_model/_sag.py:329: ConvergenceWarning: The max_iter was reached which means the coef_ did not converge\n",
      "  warnings.warn(\"The max_iter was reached which means \"\n",
      "[Parallel(n_jobs=1)]: Done   1 out of   1 | elapsed:    7.2s finished\n",
      "[Parallel(n_jobs=4)]: Using backend LokyBackend with 4 concurrent workers.\n",
      "[Parallel(n_jobs=4)]: Done  42 tasks      | elapsed:  1.8min\n",
      "[Parallel(n_jobs=4)]: Done 125 out of 125 | elapsed:  5.4min finished\n",
      "[Parallel(n_jobs=1)]: Using backend SequentialBackend with 1 concurrent workers.\n"
     ]
    },
    {
     "name": "stdout",
     "output_type": "stream",
     "text": [
      "max_iter reached after 8 seconds\n",
      "CysB-2\n",
      "Fitting 5 folds for each of 25 candidates, totalling 125 fits\n"
     ]
    },
    {
     "name": "stderr",
     "output_type": "stream",
     "text": [
      "/usr/local/lib/python3.8/dist-packages/sklearn/linear_model/_sag.py:329: ConvergenceWarning: The max_iter was reached which means the coef_ did not converge\n",
      "  warnings.warn(\"The max_iter was reached which means \"\n",
      "[Parallel(n_jobs=1)]: Done   1 out of   1 | elapsed:    7.8s finished\n",
      "[Parallel(n_jobs=4)]: Using backend LokyBackend with 4 concurrent workers.\n",
      "[Parallel(n_jobs=4)]: Done  42 tasks      | elapsed:  1.9min\n",
      "[Parallel(n_jobs=4)]: Done 125 out of 125 | elapsed:  5.5min finished\n",
      "[Parallel(n_jobs=1)]: Using backend SequentialBackend with 1 concurrent workers.\n"
     ]
    },
    {
     "name": "stdout",
     "output_type": "stream",
     "text": [
      "max_iter reached after 7 seconds\n",
      "CysB-3\n",
      "Fitting 5 folds for each of 25 candidates, totalling 125 fits\n"
     ]
    },
    {
     "name": "stderr",
     "output_type": "stream",
     "text": [
      "/usr/local/lib/python3.8/dist-packages/sklearn/linear_model/_sag.py:329: ConvergenceWarning: The max_iter was reached which means the coef_ did not converge\n",
      "  warnings.warn(\"The max_iter was reached which means \"\n",
      "[Parallel(n_jobs=1)]: Done   1 out of   1 | elapsed:    7.5s finished\n",
      "[Parallel(n_jobs=4)]: Using backend LokyBackend with 4 concurrent workers.\n",
      "[Parallel(n_jobs=4)]: Done  42 tasks      | elapsed:  2.1min\n",
      "[Parallel(n_jobs=4)]: Done 125 out of 125 | elapsed:  5.5min finished\n",
      "[Parallel(n_jobs=1)]: Using backend SequentialBackend with 1 concurrent workers.\n"
     ]
    },
    {
     "name": "stdout",
     "output_type": "stream",
     "text": [
      "max_iter reached after 5 seconds\n",
      "FadR\n",
      "Fitting 5 folds for each of 25 candidates, totalling 125 fits\n"
     ]
    },
    {
     "name": "stderr",
     "output_type": "stream",
     "text": [
      "/usr/local/lib/python3.8/dist-packages/sklearn/linear_model/_sag.py:329: ConvergenceWarning: The max_iter was reached which means the coef_ did not converge\n",
      "  warnings.warn(\"The max_iter was reached which means \"\n",
      "[Parallel(n_jobs=1)]: Done   1 out of   1 | elapsed:    4.5s finished\n",
      "[Parallel(n_jobs=4)]: Using backend LokyBackend with 4 concurrent workers.\n",
      "[Parallel(n_jobs=4)]: Done  42 tasks      | elapsed:  1.9min\n",
      "[Parallel(n_jobs=4)]: Done 125 out of 125 | elapsed:  5.3min finished\n",
      "[Parallel(n_jobs=1)]: Using backend SequentialBackend with 1 concurrent workers.\n"
     ]
    },
    {
     "name": "stdout",
     "output_type": "stream",
     "text": [
      "max_iter reached after 8 seconds\n",
      "FlhDC-1\n",
      "Fitting 5 folds for each of 25 candidates, totalling 125 fits\n"
     ]
    },
    {
     "name": "stderr",
     "output_type": "stream",
     "text": [
      "/usr/local/lib/python3.8/dist-packages/sklearn/linear_model/_sag.py:329: ConvergenceWarning: The max_iter was reached which means the coef_ did not converge\n",
      "  warnings.warn(\"The max_iter was reached which means \"\n",
      "[Parallel(n_jobs=1)]: Done   1 out of   1 | elapsed:    7.2s finished\n",
      "[Parallel(n_jobs=4)]: Using backend LokyBackend with 4 concurrent workers.\n",
      "[Parallel(n_jobs=4)]: Done  42 tasks      | elapsed:  1.8min\n",
      "[Parallel(n_jobs=4)]: Done 125 out of 125 | elapsed:  5.4min finished\n",
      "[Parallel(n_jobs=1)]: Using backend SequentialBackend with 1 concurrent workers.\n"
     ]
    },
    {
     "name": "stdout",
     "output_type": "stream",
     "text": [
      "max_iter reached after 9 seconds\n",
      "FlhDC-2\n",
      "Fitting 5 folds for each of 25 candidates, totalling 125 fits\n"
     ]
    },
    {
     "name": "stderr",
     "output_type": "stream",
     "text": [
      "/usr/local/lib/python3.8/dist-packages/sklearn/linear_model/_sag.py:329: ConvergenceWarning: The max_iter was reached which means the coef_ did not converge\n",
      "  warnings.warn(\"The max_iter was reached which means \"\n",
      "[Parallel(n_jobs=1)]: Done   1 out of   1 | elapsed:    8.8s finished\n",
      "[Parallel(n_jobs=4)]: Using backend LokyBackend with 4 concurrent workers.\n",
      "[Parallel(n_jobs=4)]: Done  42 tasks      | elapsed:  1.9min\n",
      "[Parallel(n_jobs=4)]: Done 125 out of 125 | elapsed:  5.3min finished\n",
      "[Parallel(n_jobs=1)]: Using backend SequentialBackend with 1 concurrent workers.\n"
     ]
    },
    {
     "name": "stdout",
     "output_type": "stream",
     "text": [
      "max_iter reached after 5 seconds\n",
      "Fimbriae\n",
      "Fitting 5 folds for each of 25 candidates, totalling 125 fits\n"
     ]
    },
    {
     "name": "stderr",
     "output_type": "stream",
     "text": [
      "/usr/local/lib/python3.8/dist-packages/sklearn/linear_model/_sag.py:329: ConvergenceWarning: The max_iter was reached which means the coef_ did not converge\n",
      "  warnings.warn(\"The max_iter was reached which means \"\n",
      "[Parallel(n_jobs=1)]: Done   1 out of   1 | elapsed:    4.6s finished\n",
      "[Parallel(n_jobs=4)]: Using backend LokyBackend with 4 concurrent workers.\n",
      "[Parallel(n_jobs=4)]: Done  42 tasks      | elapsed:  1.7min\n",
      "[Parallel(n_jobs=4)]: Done 125 out of 125 | elapsed:  5.3min finished\n",
      "[Parallel(n_jobs=1)]: Using backend SequentialBackend with 1 concurrent workers.\n"
     ]
    },
    {
     "name": "stdout",
     "output_type": "stream",
     "text": [
      "max_iter reached after 5 seconds\n"
     ]
    },
    {
     "name": "stderr",
     "output_type": "stream",
     "text": [
      "/usr/local/lib/python3.8/dist-packages/sklearn/linear_model/_sag.py:329: ConvergenceWarning: The max_iter was reached which means the coef_ did not converge\n",
      "  warnings.warn(\"The max_iter was reached which means \"\n",
      "[Parallel(n_jobs=1)]: Done   1 out of   1 | elapsed:    4.8s finished\n"
     ]
    }
   ],
   "source": [
    "hyperopt_LR = {}\n",
    "\n",
    "for y_name, y_labels in y_to_try.items():\n",
    "    print(y_name)\n",
    "\n",
    "    random_search_hyperopt = RandomizedSearchCV(\n",
    "        hyperopt_models['LR']['model'],\n",
    "        hyperopt_models['LR']['param_dists'],\n",
    "        n_iter=25,\n",
    "        scoring='roc_auc',\n",
    "        n_jobs=4,\n",
    "        cv=5,\n",
    "        verbose=1,\n",
    "        return_train_score=True\n",
    "    )\n",
    "\n",
    "    random_search_hyperopt.fit(X,y_labels )\n",
    "    \n",
    "    hyperopt_results_df = pd.DataFrame(random_search_hyperopt.cv_results_).sort_values(\n",
    "        by='mean_test_score',\n",
    "        ascending=False\n",
    "    )\n",
    "    hyperopt_LR[y_name] = hyperopt_results_df"
   ]
  },
  {
   "cell_type": "code",
   "execution_count": 18,
   "metadata": {},
   "outputs": [],
   "source": [
    "# combine all the hyperopt results into a DF\n",
    "dfs_with_ims = []\n",
    "for y_name, hyperopt_df in hyperopt_LR.items():\n",
    "    hyperopt_df['im'] = [y_name] * hyperopt_df.shape[0]\n",
    "    dfs_with_ims.append(hyperopt_df)\n",
    "\n",
    "hyperopt_LR_df = pd.concat(dfs_with_ims, axis=0, ignore_index=True)\n",
    "hyperopt_LR_df.to_csv('data/hyperopt_LR.csv')"
   ]
  },
  {
   "cell_type": "code",
   "execution_count": 21,
   "metadata": {},
   "outputs": [
    {
     "data": {
      "text/plain": [
       "Text(0.5, 1.0, 'LR')"
      ]
     },
     "execution_count": 21,
     "metadata": {},
     "output_type": "execute_result"
    },
    {
     "data": {
      "image/png": "[encoded data removed]",
      "text/plain": [
       "<Figure size 1008x360 with 1 Axes>"
      ]
     },
     "metadata": {
      "needs_background": "light"
     },
     "output_type": "display_data"
    }
   ],
   "source": [
    "hyperopt_result_df = pd.read_csv( 'data/hyperopt_LR.csv' , index_col=0)\n",
    "plt.figure( figsize=(14,5))\n",
    "sns.swarmplot(x='im', y='mean_train_score', data=hyperopt_result_df)\n",
    "sns.boxplot(x='im', y='mean_test_score', data=hyperopt_result_df)\n",
    "plt.axhline(y= 0.8, color = 'r', ls = '--')\n",
    "plt.axhline(y= 0.5, color = 'r', ls = '--')\n",
    "plt.title('LR')"
   ]
  },
  {
   "cell_type": "code",
   "execution_count": 13,
   "metadata": {},
   "outputs": [],
   "source": [
    "hyperopt_RF_0 = pd.read_csv( 'data/hyperopt_RF.csv' , index_col=0)\n",
    "hyperopt_RF_1 = pd.read_csv( 'data/hyperopt_RF_1.csv' , index_col=0)\n",
    "hyperopt_RF_2 = pd.read_csv( 'data/hyperopt_RF_2.csv' , index_col=0)\n",
    "hyperopt_RF_3 = pd.read_csv( 'data/hyperopt_RF_3.csv' , index_col=0)\n",
    "combine_RF = pd.concat([hyperopt_RF_0,hyperopt_RF_1,hyperopt_RF_2,hyperopt_RF_3], axis=0, ignore_index=True)\n",
    "im = list(np.unique(combine_RF['im']) )\n",
    "performance = {}\n",
    "for name in im:\n",
    "    performance[name] = []\n",
    "for i in range( len(combine_RF['mean_test_score']) ):\n",
    "    performance[ combine_RF['im'][i] ].append( combine_RF['mean_test_score'][i] ) \n",
    "avg_performance = {}\n",
    "for name in performance.keys():\n",
    "    avg_performance[ name ] = sum(  performance[name])/len(  performance[name] )\n",
    "\n",
    "f1_per = [[],[]]\n",
    "for i in range( len(regulatory_ims['f1score'])):\n",
    "    if regulatory_ims.index[i] in avg_performance.keys():\n",
    "        f1_per[0].append(regulatory_ims['f1score'][i] )\n",
    "        f1_per[1].append( avg_performance[ regulatory_ims.index[i] ] )\n",
    "        \n",
    "size_per = [[],[]]\n",
    "for i in range( len(regulatory_ims['regulon_size'])):\n",
    "    if regulatory_ims.index[i] in avg_performance.keys():\n",
    "        size_per[0].append(regulatory_ims['regulon_size'][i] )\n",
    "        size_per[1].append( avg_performance[ regulatory_ims.index[i] ] )"
   ]
  },
  {
   "cell_type": "code",
   "execution_count": 14,
   "metadata": {},
   "outputs": [
    {
     "data": {
      "text/plain": [
       "Text(0, 0.5, 'Performance(ROC)')"
      ]
     },
     "execution_count": 14,
     "metadata": {},
     "output_type": "execute_result"
    },
    {
     "data": {
      "image/png": "[encoded data removed]",
      "text/plain": [
       "<Figure size 432x360 with 1 Axes>"
      ]
     },
     "metadata": {
      "needs_background": "light"
     },
     "output_type": "display_data"
    }
   ],
   "source": [
    "plt.figure(figsize=(6,5))\n",
    "plt.scatter(f1_per[0],f1_per[1])\n",
    "plt.xlabel('f1 score')\n",
    "plt.ylabel('Performance(ROC)')"
   ]
  },
  {
   "cell_type": "code",
   "execution_count": 15,
   "metadata": {},
   "outputs": [
    {
     "data": {
      "text/plain": [
       "Text(0, 0.5, 'Performance(ROC)')"
      ]
     },
     "execution_count": 15,
     "metadata": {},
     "output_type": "execute_result"
    },
    {
     "data": {
      "image/png": "[encoded data removed]",
      "text/plain": [
       "<Figure size 432x360 with 1 Axes>"
      ]
     },
     "metadata": {
      "needs_background": "light"
     },
     "output_type": "display_data"
    }
   ],
   "source": [
    "plt.figure(figsize=(6,5))\n",
    "plt.scatter(size_per[0],size_per[1])\n",
    "plt.xlabel('IM size')\n",
    "plt.ylabel('Performance(ROC)')"
   ]
  },
  {
   "cell_type": "code",
   "execution_count": null,
   "metadata": {},
   "outputs": [],
   "source": []
  }
 ],
 "metadata": {
  "kernelspec": {
   "display_name": "Python 3",
   "language": "python",
   "name": "python3"
  },
  "language_info": {
   "codemirror_mode": {
    "name": "ipython",
    "version": 3
   },
   "file_extension": ".py",
   "mimetype": "text/x-python",
   "name": "python",
   "nbconvert_exporter": "python",
   "pygments_lexer": "ipython3",
   "version": "3.8.2"
  },
  "toc": {
   "base_numbering": 1,
   "nav_menu": {},
   "number_sections": true,
   "sideBar": true,
   "skip_h1_title": false,
   "title_cell": "Table of Contents",
   "title_sidebar": "Contents",
   "toc_cell": false,
   "toc_position": {},
   "toc_section_display": true,
   "toc_window_display": true
  }
 },
 "nbformat": 4,
 "nbformat_minor": 4
}
