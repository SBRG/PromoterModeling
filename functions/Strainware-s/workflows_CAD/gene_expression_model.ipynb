{
 "cells": [
  {
   "cell_type": "markdown",
   "metadata": {},
   "source": [
    "# Modeling Gene Expression from Promoter Sequence"
   ]
  },
  {
   "cell_type": "markdown",
   "metadata": {},
   "source": [
    "## Setup"
   ]
  },
  {
   "cell_type": "markdown",
   "metadata": {},
   "source": [
    "### Import Packages"
   ]
  },
  {
   "cell_type": "code",
   "execution_count": 1,
   "metadata": {},
   "outputs": [],
   "source": [
    "from collections import Counter\n",
    "from itertools import product\n",
    "import os\n",
    "from pathlib import Path\n",
    "import sys\n",
    "\n",
    "from Bio.Align import AlignInfo, MultipleSeqAlignment\n",
    "import Bio.motifs as motifs\n",
    "from Bio.SeqFeature import FeatureLocation\n",
    "from Bio.SeqRecord import SeqRecord\n",
    "from matplotlib.patches import Rectangle\n",
    "import matplotlib.pyplot as plt\n",
    "import numpy as np\n",
    "import pandas as pd\n",
    "import seaborn as sns\n",
    "from sklearn.ensemble import RandomForestRegressor\n",
    "from sklearn.linear_model import ElasticNet\n",
    "from sklearn.metrics import mean_absolute_error\n",
    "from sklearn.model_selection import cross_validate, RandomizedSearchCV, train_test_split\n",
    "from sklearn.neural_network import MLPRegressor\n",
    "from sklearn.preprocessing import StandardScaler\n",
    "from sklearn.svm import SVR\n",
    "sys.path.append('../bitome-kb')\n",
    "from bitome.core import Bitome\n",
    "from bitome.features import TranscriptionUnit"
   ]
  },
  {
   "cell_type": "markdown",
   "metadata": {},
   "source": [
    "### Load Bitome Knowledgebase"
   ]
  },
  {
   "cell_type": "code",
   "execution_count": 2,
   "metadata": {},
   "outputs": [],
   "source": [
    "bitome = Bitome.init_from_file('../bitome-kb/bitome.pkl')"
   ]
  },
  {
   "cell_type": "markdown",
   "metadata": {},
   "source": [
    "### Load Expression Data\n",
    "\n",
    "We just want wild-type samples"
   ]
  },
  {
   "cell_type": "markdown",
   "metadata": {},
   "source": [
    "Linear Model for Regulation (Y = S*A' + B; can we get just b? how does it related to X = S*A)\n",
    "\n",
    "For each iModulon:\n",
    "- get its A vector\n",
    "- verify the sign (decide if maximum activity = maximum regulation)\n",
    "- linear normalize the A vector so that lowest activity is 0\n",
    "- how much is absolute expression changing due to iModulon activity? Must convert from A-vector to abs expression\n",
    "\n",
    "Validation:\n",
    "- what is variation in basal PRECISE? Regulation should be subtracted off, so it shouldn't be much variable\n",
    "- Does canonical repression/activation coincide with transformation direction?\n",
    "- Does model perform better?"
   ]
  },
  {
   "cell_type": "code",
   "execution_count": 3,
   "metadata": {},
   "outputs": [],
   "source": [
    "log_tpm_df = pd.read_csv('data/precise2/log_tpm_qc.csv', index_col=0)\n",
    "X_basal_reg = pd.read_csv('data/X_basal_reg.csv', index_col=0)\n",
    "X_basal_reg_dir = pd.read_csv('data/X_basal_reg_dir.csv', index_col=0)\n",
    "metadata_df = pd.read_csv('data/precise2/metadata_qc.csv', index_col=0)\n",
    "S_binarized = pd.read_csv('data/precise2/S_binarized.csv', index_col=0)"
   ]
  },
  {
   "cell_type": "code",
   "execution_count": 4,
   "metadata": {},
   "outputs": [],
   "source": [
    "wt_index = metadata_df[\n",
    "    (metadata_df['Strain Description'] == 'Escherichia coli K-12 MG1655') &\n",
    "    (metadata_df['Base Media'] == 'M9') & \n",
    "    (metadata_df['pH'] == 7.0) & \n",
    "    (metadata_df['Temperature (C)'] == 37) &\n",
    "    (metadata_df['project_id'] != 'abx_media') &\n",
    "    (metadata_df['project_id'] != 'eep')\n",
    "].index\n",
    "\n",
    "log_tpm_wt = log_tpm_df[wt_index]\n",
    "log_tpm_wt_mean = log_tpm_wt.mean(axis=1)\n",
    "log_tpm_wt_std = log_tpm_wt.std(axis=1)\n",
    "log_tpm_wt_med = log_tpm_wt.median(axis=1)\n",
    "\n",
    "basal_reg_med = X_basal_reg.median(axis=1)\n",
    "basal_reg_dir_med = X_basal_reg_dir.median(axis=1)"
   ]
  },
  {
   "cell_type": "markdown",
   "metadata": {},
   "source": [
    "Store the genes that are in the iModulons so we can try out prediction without them"
   ]
  },
  {
   "cell_type": "code",
   "execution_count": 5,
   "metadata": {},
   "outputs": [],
   "source": [
    "gene_membs = S_binarized.sum(axis=1)\n",
    "im_genes = gene_membs[gene_membs > 0].index"
   ]
  },
  {
   "cell_type": "markdown",
   "metadata": {},
   "source": [
    "## Prepare X Matrices"
   ]
  },
  {
   "cell_type": "markdown",
   "metadata": {},
   "source": [
    "### Feature Matrix based on Strainware Calculated Features"
   ]
  },
  {
   "cell_type": "code",
   "execution_count": null,
   "metadata": {},
   "outputs": [],
   "source": [
    "X_strainware_df = pd.read_csv('data/features_avg.csv')\n",
    "X_strainware_df = X_strainware_df.set_index('ID')\n",
    "X_strainware_df = pd.DataFrame(\n",
    "    StandardScaler().fit_transform(X_strainware_df),\n",
    "    columns=X_strainware_df.columns,\n",
    "    index=X_strainware_df.index\n",
    ")\n",
    "\n",
    "no_expression_data = set(X_strainware_df.index) - set(log_tpm_wt.index)\n",
    "X_strainware_df = X_strainware_df.drop(index=no_expression_data)\n",
    "X_strainware_df.head()"
   ]
  },
  {
   "cell_type": "code",
   "execution_count": 10,
   "metadata": {},
   "outputs": [],
   "source": [
    "sw_cols_to_keep = [\n",
    "    'strand', 'TU_length', 'leading', 'lagging', 'terminus', 'USR_AT', 'DSR_AG',\n",
    "    'distToOrigin', 'distToTer', 'Ori/(Ori+Ter)', 'orderInOperon'\n",
    "]\n",
    "X_sw_small_df = X_strainware_df[sw_cols_to_keep]"
   ]
  },
  {
   "cell_type": "markdown",
   "metadata": {},
   "source": [
    "### One-Hot-Encoded Promoter Sequence"
   ]
  },
  {
   "cell_type": "code",
   "execution_count": 5,
   "metadata": {},
   "outputs": [],
   "source": [
    "def tss_consensus_from_tus(tus, n_up, n_down):\n",
    "    \n",
    "    # extract the sequences for each tss\n",
    "    sequences = []\n",
    "    for tu in tus:\n",
    "        \n",
    "        strand = tu.location.strand\n",
    "        if strand == 1:\n",
    "            if tu.tss is not None:\n",
    "                tss = tu.tss\n",
    "            else:\n",
    "                tss = tu.location.start.position\n",
    "            # define the sequence feature location to extract the sequence around this TSS\n",
    "            seq_loc = FeatureLocation(\n",
    "                int(tss - n_up - 1),\n",
    "                int(tss + n_down),\n",
    "                int(strand)\n",
    "            )\n",
    "        else:\n",
    "            if tu.tss is not None:\n",
    "                tss = tu.tss\n",
    "            else:\n",
    "                tss = tu.location.end.position\n",
    "            # define the sequence feature location to extract the sequence around this TSS\n",
    "            seq_loc = FeatureLocation(\n",
    "                int(tss - n_down - 1),\n",
    "                int(tss + n_up),\n",
    "                int(strand)\n",
    "            )\n",
    "\n",
    "        sequence = seq_loc.extract(bitome.sequence)\n",
    "        sequences.append(sequence)\n",
    "\n",
    "    # create a motif with Biopython and get a consensus sequence from that; return the degenerate consensus\n",
    "    motif = motifs.create(sequences)\n",
    "\n",
    "    pwm = motif.counts\n",
    "    base_rows = []\n",
    "\n",
    "    for base in 'ATCG':\n",
    "        base_row = pd.Series(pwm[base], index=[f'{pos}_{base}' for pos in np.arange(-n_up, n_down+1)])\n",
    "        base_rows.append(base_row)\n",
    "\n",
    "    full_row = pd.concat(base_rows)\n",
    "    full_row = full_row / len(sequences)\n",
    "    \n",
    "    return full_row\n",
    "\n",
    "def create_X(locus_tags, tu_tups, N_UP, N_DOWN, scale=False):\n",
    "    X = pd.DataFrame([tss_consensus_from_tus(tu_tup, N_UP, N_DOWN) for tu_tup in tu_tups], index=locus_tags)\n",
    "    if scale:\n",
    "        X = pd.DataFrame(\n",
    "            StandardScaler().fit_transform(X),\n",
    "            columns=X.columns,\n",
    "            index=X.index\n",
    "        )\n",
    "    return X"
   ]
  },
  {
   "cell_type": "code",
   "execution_count": 6,
   "metadata": {},
   "outputs": [],
   "source": [
    "locus_tags = []\n",
    "tu_tups = []\n",
    "for locus_tag in log_tpm_wt.index:\n",
    "\n",
    "    genes = [g for g in bitome.genes if g.locus_tag == locus_tag]\n",
    "    if genes:\n",
    "        gene = genes[0]\n",
    "        gene_tus = [tu for tu in gene.transcription_units]\n",
    "        if gene_tus:\n",
    "            locus_tags.append(locus_tag)\n",
    "            tu_tups.append(gene_tus)"
   ]
  },
  {
   "cell_type": "code",
   "execution_count": 7,
   "metadata": {},
   "outputs": [],
   "source": [
    "N_UP = 40\n",
    "N_DOWN = 10\n",
    "\n",
    "X_onehot_df = create_X(locus_tags, tu_tups, N_UP, N_DOWN)"
   ]
  },
  {
   "cell_type": "code",
   "execution_count": 8,
   "metadata": {},
   "outputs": [],
   "source": [
    "X_oh_train, X_oh_lockbox = train_test_split(X_onehot_df, test_size=0.1, random_state=42)"
   ]
  },
  {
   "cell_type": "markdown",
   "metadata": {},
   "source": [
    "### Cherry-Picked One-Hot"
   ]
  },
  {
   "cell_type": "code",
   "execution_count": 11,
   "metadata": {},
   "outputs": [],
   "source": [
    "# see lower in the notebook for how we got these\n",
    "key_bps = [2, 1, 0, -21, -12, -15, 3, -8, -32, -10]\n",
    "key_bp_cols = [f'{bp}_{base}' for bp, base in product(key_bps, list('ATGC'))]\n",
    "\n",
    "X_oh_train_cp = X_oh_train[key_bp_cols]"
   ]
  },
  {
   "cell_type": "markdown",
   "metadata": {},
   "source": [
    "### Combined One-Hot and Strainware"
   ]
  },
  {
   "cell_type": "code",
   "execution_count": 15,
   "metadata": {},
   "outputs": [],
   "source": [
    "X_strainware_df_all = pd.read_csv('data/features_avg.csv').set_index('ID')\n",
    "no_expression_data = set(X_strainware_df_all.index) - set(log_tpm_df.index)\n",
    "X_strainware_df_all = X_strainware_df_all.drop(index=no_expression_data)\n",
    "\n",
    "X_all = X_strainware_df_all.merge(X_oh_train, left_index=True, right_index=True)\n",
    "X_SW_OH_small = X_sw_small_df.merge(X_oh_train, left_index=True, right_index=True)\n",
    "\n",
    "X_all = pd.DataFrame(\n",
    "    StandardScaler().fit_transform(X_all),\n",
    "    columns=X_all.columns,\n",
    "    index=X_all.index\n",
    ")"
   ]
  },
  {
   "cell_type": "markdown",
   "metadata": {},
   "source": [
    "### Without iModulon Genes"
   ]
  },
  {
   "cell_type": "code",
   "execution_count": 16,
   "metadata": {},
   "outputs": [],
   "source": [
    "X_oh_train_no_im = X_oh_train.drop(index=set(im_genes).intersection(X_oh_train.index))\n",
    "X_sw_no_im = X_strainware_df.drop(index=set(im_genes).intersection(X_strainware_df.index))\n",
    "X_all_no_im = X_all.drop(index=set(im_genes).intersection(X_all.index))\n",
    "X_sw_small_no_im = X_sw_small_df.drop(index=set(im_genes).intersection(X_sw_small_df.index))\n",
    "X_SW_OH_small_no_im = X_SW_OH_small.drop(index=set(im_genes).intersection(X_SW_OH_small.index))"
   ]
  },
  {
   "cell_type": "markdown",
   "metadata": {},
   "source": [
    "## Model, Feature, Target Assessment"
   ]
  },
  {
   "cell_type": "code",
   "execution_count": 45,
   "metadata": {},
   "outputs": [],
   "source": [
    "Xy_to_try = {\n",
    "    'One-hot': (X_oh_train, log_tpm_wt_med[X_oh_train.index]),\n",
    "    # 'One-hot Cherry-picked': (X_oh_train_cp, log_tpm_wt_med[X_oh_train.index]),\n",
    "    #'One-hot Basal': (X_oh_train, basal_reg_med[X_oh_train.index]),\n",
    "    #'One-hot Basal Dir': (X_oh_train, basal_reg_dir_med[X_oh_train.index])\n",
    "#     'Strainware': (X_strainware_df, log_tpm_wt_med[X_strainware_df.index]),\n",
    "#     'SW + OH': (X_all, log_tpm_wt_med[X_all.index]),\n",
    "#     'SWsmall': (X_sw_small_df, log_tpm_wt_med[X_sw_small_df.index]),\n",
    "#     'SWsmall + OH': (X_SW_OH_small, log_tpm_wt_med[X_SW_OH_small.index]),\n",
    "#     'One-hot (no iM)': (X_oh_train_no_im, log_tpm_wt_med[X_oh_train_no_im.index]),\n",
    "#     'Strainware (no iM)': (X_sw_no_im, log_tpm_wt_med[X_sw_no_im.index]),\n",
    "#     'SW + OH (no iM)': (X_all_no_im, log_tpm_wt_med[X_all_no_im.index]),\n",
    "#     'SWsmall (no iM)': (X_sw_small_no_im, log_tpm_wt_med[X_sw_small_no_im.index]),\n",
    "#     'SWsmall + OH (no iM)': (X_SW_OH_small_no_im, log_tpm_wt_med[X_SW_OH_small_no_im.index])\n",
    "}"
   ]
  },
  {
   "cell_type": "code",
   "execution_count": 9,
   "metadata": {},
   "outputs": [],
   "source": [
    "models_to_try = {\n",
    "    'ElasticNet': ElasticNet(),\n",
    "    'SVR': SVR(),\n",
    "    'RF': RandomForestRegressor(\n",
    "        random_state=42,\n",
    "        n_jobs=4\n",
    "    ),\n",
    "    'NN': MLPRegressor()\n",
    "}"
   ]
  },
  {
   "cell_type": "code",
   "execution_count": 14,
   "metadata": {
    "scrolled": true
   },
   "outputs": [
    {
     "name": "stdout",
     "output_type": "stream",
     "text": [
      "ElasticNet\n",
      "ElasticNet: One-hot\n"
     ]
    },
    {
     "name": "stderr",
     "output_type": "stream",
     "text": [
      "[Parallel(n_jobs=4)]: Using backend LokyBackend with 4 concurrent workers.\n",
      "[Parallel(n_jobs=4)]: Done   5 out of   5 | elapsed:    1.9s finished\n",
      "[Parallel(n_jobs=4)]: Using backend LokyBackend with 4 concurrent workers.\n",
      "[Parallel(n_jobs=4)]: Done   5 out of   5 | elapsed:    0.0s finished\n"
     ]
    },
    {
     "name": "stdout",
     "output_type": "stream",
     "text": [
      "ElasticNet: One-hot Cherry-picked\n",
      "ElasticNet: One-hot Basal\n"
     ]
    },
    {
     "name": "stderr",
     "output_type": "stream",
     "text": [
      "[Parallel(n_jobs=4)]: Using backend LokyBackend with 4 concurrent workers.\n",
      "[Parallel(n_jobs=4)]: Done   5 out of   5 | elapsed:    0.1s finished\n",
      "[Parallel(n_jobs=4)]: Using backend LokyBackend with 4 concurrent workers.\n"
     ]
    },
    {
     "name": "stdout",
     "output_type": "stream",
     "text": [
      "ElasticNet: One-hot Basal Dir\n",
      "SVR\n",
      "SVR: One-hot\n"
     ]
    },
    {
     "name": "stderr",
     "output_type": "stream",
     "text": [
      "[Parallel(n_jobs=4)]: Done   5 out of   5 | elapsed:    0.1s finished\n",
      "[Parallel(n_jobs=4)]: Using backend LokyBackend with 4 concurrent workers.\n",
      "[Parallel(n_jobs=4)]: Done   5 out of   5 | elapsed:   11.0s finished\n",
      "[Parallel(n_jobs=4)]: Using backend LokyBackend with 4 concurrent workers.\n"
     ]
    },
    {
     "name": "stdout",
     "output_type": "stream",
     "text": [
      "SVR: One-hot Cherry-picked\n"
     ]
    },
    {
     "name": "stderr",
     "output_type": "stream",
     "text": [
      "[Parallel(n_jobs=4)]: Done   5 out of   5 | elapsed:    2.7s finished\n",
      "[Parallel(n_jobs=4)]: Using backend LokyBackend with 4 concurrent workers.\n"
     ]
    },
    {
     "name": "stdout",
     "output_type": "stream",
     "text": [
      "SVR: One-hot Basal\n"
     ]
    },
    {
     "name": "stderr",
     "output_type": "stream",
     "text": [
      "[Parallel(n_jobs=4)]: Done   5 out of   5 | elapsed:   11.4s finished\n",
      "[Parallel(n_jobs=4)]: Using backend LokyBackend with 4 concurrent workers.\n"
     ]
    },
    {
     "name": "stdout",
     "output_type": "stream",
     "text": [
      "SVR: One-hot Basal Dir\n"
     ]
    },
    {
     "name": "stderr",
     "output_type": "stream",
     "text": [
      "[Parallel(n_jobs=4)]: Done   5 out of   5 | elapsed:   10.9s finished\n",
      "[Parallel(n_jobs=4)]: Using backend LokyBackend with 4 concurrent workers.\n"
     ]
    },
    {
     "name": "stdout",
     "output_type": "stream",
     "text": [
      "RF\n",
      "RF: One-hot\n"
     ]
    },
    {
     "name": "stderr",
     "output_type": "stream",
     "text": [
      "[Parallel(n_jobs=4)]: Done   5 out of   5 | elapsed:    8.6s finished\n",
      "[Parallel(n_jobs=4)]: Using backend LokyBackend with 4 concurrent workers.\n"
     ]
    },
    {
     "name": "stdout",
     "output_type": "stream",
     "text": [
      "RF: One-hot Cherry-picked\n"
     ]
    },
    {
     "name": "stderr",
     "output_type": "stream",
     "text": [
      "[Parallel(n_jobs=4)]: Done   5 out of   5 | elapsed:    1.8s finished\n",
      "[Parallel(n_jobs=4)]: Using backend LokyBackend with 4 concurrent workers.\n"
     ]
    },
    {
     "name": "stdout",
     "output_type": "stream",
     "text": [
      "RF: One-hot Basal\n"
     ]
    },
    {
     "name": "stderr",
     "output_type": "stream",
     "text": [
      "[Parallel(n_jobs=4)]: Done   5 out of   5 | elapsed:    8.6s finished\n",
      "[Parallel(n_jobs=4)]: Using backend LokyBackend with 4 concurrent workers.\n"
     ]
    },
    {
     "name": "stdout",
     "output_type": "stream",
     "text": [
      "RF: One-hot Basal Dir\n"
     ]
    },
    {
     "name": "stderr",
     "output_type": "stream",
     "text": [
      "[Parallel(n_jobs=4)]: Done   5 out of   5 | elapsed:    9.6s finished\n",
      "[Parallel(n_jobs=4)]: Using backend LokyBackend with 4 concurrent workers.\n"
     ]
    },
    {
     "name": "stdout",
     "output_type": "stream",
     "text": [
      "NN\n",
      "NN: One-hot\n"
     ]
    },
    {
     "name": "stderr",
     "output_type": "stream",
     "text": [
      "[Parallel(n_jobs=4)]: Done   5 out of   5 | elapsed:    7.5s finished\n",
      "[Parallel(n_jobs=4)]: Using backend LokyBackend with 4 concurrent workers.\n"
     ]
    },
    {
     "name": "stdout",
     "output_type": "stream",
     "text": [
      "NN: One-hot Cherry-picked\n"
     ]
    },
    {
     "name": "stderr",
     "output_type": "stream",
     "text": [
      "[Parallel(n_jobs=4)]: Done   5 out of   5 | elapsed:    6.7s finished\n",
      "[Parallel(n_jobs=4)]: Using backend LokyBackend with 4 concurrent workers.\n"
     ]
    },
    {
     "name": "stdout",
     "output_type": "stream",
     "text": [
      "NN: One-hot Basal\n"
     ]
    },
    {
     "name": "stderr",
     "output_type": "stream",
     "text": [
      "[Parallel(n_jobs=4)]: Done   5 out of   5 | elapsed:    7.7s finished\n",
      "[Parallel(n_jobs=4)]: Using backend LokyBackend with 4 concurrent workers.\n"
     ]
    },
    {
     "name": "stdout",
     "output_type": "stream",
     "text": [
      "NN: One-hot Basal Dir\n"
     ]
    },
    {
     "name": "stderr",
     "output_type": "stream",
     "text": [
      "[Parallel(n_jobs=4)]: Done   5 out of   5 | elapsed:    8.6s finished\n"
     ]
    }
   ],
   "source": [
    "result_df = pd.DataFrame(\n",
    "    columns=['model', 'xy', 'train_r2', 'val_r2']\n",
    ")\n",
    "\n",
    "N_CV = 5\n",
    "\n",
    "for model_name, model in models_to_try.items():\n",
    "    print(f'{model_name}')\n",
    "    \n",
    "    for X_name, (X, y_to_use) in Xy_to_try.items():\n",
    "        print(f'{model_name}: {X_name}')\n",
    "        \n",
    "        cv_result = cross_validate(\n",
    "            model,\n",
    "            X,\n",
    "            y=y_to_use,\n",
    "            cv=N_CV,\n",
    "            scoring='r2',\n",
    "            return_train_score=True,\n",
    "            verbose=1,\n",
    "            n_jobs=4\n",
    "        )\n",
    "\n",
    "        sub_result_df = pd.DataFrame(\n",
    "            data={\n",
    "                'model': [model_name] * N_CV,\n",
    "                'xy': [X_name] * N_CV,\n",
    "                'train_r2': cv_result['train_score'],\n",
    "                'val_r2': cv_result['test_score']\n",
    "            }\n",
    "        )\n",
    "\n",
    "        result_df = result_df.append(sub_result_df)"
   ]
  },
  {
   "cell_type": "code",
   "execution_count": 56,
   "metadata": {},
   "outputs": [],
   "source": [
    "result_df.to_csv('data/GE_onehot_basal_initial.csv')"
   ]
  },
  {
   "cell_type": "code",
   "execution_count": 57,
   "metadata": {},
   "outputs": [],
   "source": [
    "result_df = pd.read_csv('data/GE_onehot_basal_initial.csv', index_col=0)"
   ]
  },
  {
   "cell_type": "code",
   "execution_count": 15,
   "metadata": {},
   "outputs": [
    {
     "data": {
      "text/plain": [
       "<matplotlib.legend.Legend at 0x129da59d0>"
      ]
     },
     "execution_count": 15,
     "metadata": {},
     "output_type": "execute_result"
    },
    {
     "data": {
      "image/png": "[encoded data removed]",
      "text/plain": [
       "<Figure size 720x360 with 1 Axes>"
      ]
     },
     "metadata": {
      "needs_background": "light"
     },
     "output_type": "display_data"
    }
   ],
   "source": [
    "_, ax = plt.subplots(figsize=(10, 5))\n",
    "sns.swarmplot(x='model', y='train_r2', data=result_df, hue='xy', dodge=True, ax=ax)\n",
    "ax.legend(loc='center left', bbox_to_anchor=(1.05, 0.5))"
   ]
  },
  {
   "cell_type": "code",
   "execution_count": 16,
   "metadata": {},
   "outputs": [
    {
     "data": {
      "text/plain": [
       "(0.0, 1.0)"
      ]
     },
     "execution_count": 16,
     "metadata": {},
     "output_type": "execute_result"
    },
    {
     "data": {
      "image/png": "[encoded data removed]",
      "text/plain": [
       "<Figure size 720x360 with 1 Axes>"
      ]
     },
     "metadata": {
      "needs_background": "light"
     },
     "output_type": "display_data"
    }
   ],
   "source": [
    "_, ax = plt.subplots(figsize=(10, 5))\n",
    "sns.swarmplot(x='model', y='val_r2', data=result_df, hue='xy', dodge=True, ax=ax)\n",
    "ax.legend(loc='center left', bbox_to_anchor=(1.05, 0.5))\n",
    "ax.set_ylim(0, 1)"
   ]
  },
  {
   "cell_type": "markdown",
   "metadata": {},
   "source": [
    "## Hyperoptimization\n",
    "\n",
    "Need to reduce overfitting; doesn't seem to be much difference between the different targets, so let's stick with median"
   ]
  },
  {
   "cell_type": "code",
   "execution_count": 54,
   "metadata": {},
   "outputs": [],
   "source": [
    "hyperopt_XY = {\n",
    "    'OH - Med': (X_oh_train, log_tpm_wt_med[X_oh_train.index])\n",
    "#     'SW - Med': (X_strainware_df, log_tpm_wt_med[X_strainware_df.index]),\n",
    "#     'All - Med': (X_all, log_tpm_wt_med[X_all.index])\n",
    "}"
   ]
  },
  {
   "cell_type": "code",
   "execution_count": 61,
   "metadata": {},
   "outputs": [],
   "source": [
    "hyperopt_models = {\n",
    "    'ElasticNet': {\n",
    "        'model': ElasticNet(selection='random'),\n",
    "        'param_dists': {\n",
    "            'alpha': np.logspace(-3, 3, num=7),\n",
    "            'l1_ratio': np.linspace(0, 1, num=10)\n",
    "        }\n",
    "    },\n",
    "    'SVR': {\n",
    "        'model': SVR(),\n",
    "        'param_dists': {\n",
    "            'kernel': ['linear', 'poly', 'rbf', 'sigmoid'],\n",
    "            'degree': np.arange(2, 6),\n",
    "            'C': np.logspace(-4, 1, num=10)\n",
    "        }\n",
    "    },\n",
    "    'RF': {\n",
    "        'model': RandomForestRegressor(),\n",
    "        'param_dists': {\n",
    "            'n_estimators': [25, 50, 100, 250],\n",
    "            'max_depth': np.arange(2, 20)\n",
    "        }\n",
    "    },\n",
    "    'NN': {\n",
    "        'model': MLPRegressor(max_iter=50),\n",
    "        'param_dists': {\n",
    "            'hidden_layer_sizes': [(32), (32, 32), (32, 32, 32), (32, 32, 32, 32)],\n",
    "            'activation': ['relu', 'tanh'],\n",
    "            'alpha': np.logspace(-6, -1, num=10)\n",
    "        }\n",
    "    }\n",
    "}"
   ]
  },
  {
   "cell_type": "code",
   "execution_count": 62,
   "metadata": {
    "scrolled": true
   },
   "outputs": [
    {
     "name": "stdout",
     "output_type": "stream",
     "text": [
      "ElasticNet: OH - Med\n",
      "Fitting 5 folds for each of 25 candidates, totalling 125 fits\n"
     ]
    },
    {
     "name": "stderr",
     "output_type": "stream",
     "text": [
      "[Parallel(n_jobs=4)]: Using backend LokyBackend with 4 concurrent workers.\n",
      "[Parallel(n_jobs=4)]: Done  24 tasks      | elapsed:    6.1s\n",
      "[Parallel(n_jobs=4)]: Done 125 out of 125 | elapsed:   16.9s finished\n",
      "/Users/cam/.virtualenvs/strainware-s/lib/python3.7/site-packages/sklearn/linear_model/_coordinate_descent.py:531: ConvergenceWarning: Objective did not converge. You might want to increase the number of iterations. Duality gap: 10296.698547592108, tolerance: 2.746308034365785\n",
      "  positive)\n",
      "[Parallel(n_jobs=4)]: Using backend LokyBackend with 4 concurrent workers.\n"
     ]
    },
    {
     "name": "stdout",
     "output_type": "stream",
     "text": [
      "SVR: OH - Med\n",
      "Fitting 5 folds for each of 25 candidates, totalling 125 fits\n"
     ]
    },
    {
     "name": "stderr",
     "output_type": "stream",
     "text": [
      "[Parallel(n_jobs=4)]: Done  24 tasks      | elapsed:  1.2min\n",
      "[Parallel(n_jobs=4)]: Done 125 out of 125 | elapsed: 11.3min finished\n"
     ]
    },
    {
     "name": "stdout",
     "output_type": "stream",
     "text": [
      "RF: OH - Med\n",
      "Fitting 5 folds for each of 25 candidates, totalling 125 fits\n"
     ]
    },
    {
     "name": "stderr",
     "output_type": "stream",
     "text": [
      "[Parallel(n_jobs=4)]: Using backend LokyBackend with 4 concurrent workers.\n",
      "[Parallel(n_jobs=4)]: Done  24 tasks      | elapsed:  1.6min\n",
      "[Parallel(n_jobs=4)]: Done 125 out of 125 | elapsed:  7.1min finished\n"
     ]
    },
    {
     "name": "stdout",
     "output_type": "stream",
     "text": [
      "NN: OH - Med\n",
      "Fitting 5 folds for each of 25 candidates, totalling 125 fits\n"
     ]
    },
    {
     "name": "stderr",
     "output_type": "stream",
     "text": [
      "[Parallel(n_jobs=4)]: Using backend LokyBackend with 4 concurrent workers.\n",
      "[Parallel(n_jobs=4)]: Done  24 tasks      | elapsed:   13.8s\n",
      "[Parallel(n_jobs=4)]: Done 125 out of 125 | elapsed:  1.2min finished\n",
      "/Users/cam/.virtualenvs/strainware-s/lib/python3.7/site-packages/sklearn/neural_network/_multilayer_perceptron.py:585: ConvergenceWarning: Stochastic Optimizer: Maximum iterations (50) reached and the optimization hasn't converged yet.\n",
      "  % self.max_iter, ConvergenceWarning)\n"
     ]
    }
   ],
   "source": [
    "hyperopt_results = {}\n",
    "\n",
    "for model_name, model_hyperopt_dict in hyperopt_models.items():\n",
    "\n",
    "    hyperopt_results[model_name] = {}\n",
    "    \n",
    "    for X_name, (X, y) in hyperopt_XY.items():\n",
    "        print(f'{model_name}: {X_name}')\n",
    "\n",
    "        random_search_hyperopt = RandomizedSearchCV(\n",
    "            model_hyperopt_dict['model'],\n",
    "            model_hyperopt_dict['param_dists'],\n",
    "            n_iter=25,\n",
    "            scoring='r2',\n",
    "            n_jobs=4,\n",
    "            cv=5,\n",
    "            verbose=3,\n",
    "            return_train_score=True\n",
    "        )\n",
    "\n",
    "        random_search_hyperopt.fit(X, y)\n",
    "\n",
    "        hyperopt_results_df = pd.DataFrame(random_search_hyperopt.cv_results_).sort_values(\n",
    "            by='mean_test_score',\n",
    "            ascending=False\n",
    "        )\n",
    "        hyperopt_results[model_name][X_name] = hyperopt_results_df"
   ]
  },
  {
   "cell_type": "code",
   "execution_count": 67,
   "metadata": {},
   "outputs": [
    {
     "data": {
      "text/html": [
       "<div>\n",
       "<style scoped>\n",
       "    .dataframe tbody tr th:only-of-type {\n",
       "        vertical-align: middle;\n",
       "    }\n",
       "\n",
       "    .dataframe tbody tr th {\n",
       "        vertical-align: top;\n",
       "    }\n",
       "\n",
       "    .dataframe thead th {\n",
       "        text-align: right;\n",
       "    }\n",
       "</style>\n",
       "<table border=\"1\" class=\"dataframe\">\n",
       "  <thead>\n",
       "    <tr style=\"text-align: right;\">\n",
       "      <th></th>\n",
       "      <th>param_n_estimators</th>\n",
       "      <th>param_max_depth</th>\n",
       "      <th>mean_test_score</th>\n",
       "      <th>mean_train_score</th>\n",
       "    </tr>\n",
       "  </thead>\n",
       "  <tbody>\n",
       "    <tr>\n",
       "      <th>3</th>\n",
       "      <td>250</td>\n",
       "      <td>16</td>\n",
       "      <td>0.504239</td>\n",
       "      <td>0.908794</td>\n",
       "    </tr>\n",
       "    <tr>\n",
       "      <th>6</th>\n",
       "      <td>250</td>\n",
       "      <td>13</td>\n",
       "      <td>0.501744</td>\n",
       "      <td>0.895927</td>\n",
       "    </tr>\n",
       "    <tr>\n",
       "      <th>21</th>\n",
       "      <td>100</td>\n",
       "      <td>17</td>\n",
       "      <td>0.499399</td>\n",
       "      <td>0.907207</td>\n",
       "    </tr>\n",
       "    <tr>\n",
       "      <th>22</th>\n",
       "      <td>100</td>\n",
       "      <td>15</td>\n",
       "      <td>0.499382</td>\n",
       "      <td>0.904974</td>\n",
       "    </tr>\n",
       "    <tr>\n",
       "      <th>16</th>\n",
       "      <td>250</td>\n",
       "      <td>12</td>\n",
       "      <td>0.496972</td>\n",
       "      <td>0.882865</td>\n",
       "    </tr>\n",
       "    <tr>\n",
       "      <th>4</th>\n",
       "      <td>50</td>\n",
       "      <td>18</td>\n",
       "      <td>0.493750</td>\n",
       "      <td>0.904165</td>\n",
       "    </tr>\n",
       "    <tr>\n",
       "      <th>12</th>\n",
       "      <td>250</td>\n",
       "      <td>11</td>\n",
       "      <td>0.491019</td>\n",
       "      <td>0.861386</td>\n",
       "    </tr>\n",
       "    <tr>\n",
       "      <th>1</th>\n",
       "      <td>50</td>\n",
       "      <td>11</td>\n",
       "      <td>0.487988</td>\n",
       "      <td>0.855764</td>\n",
       "    </tr>\n",
       "    <tr>\n",
       "      <th>0</th>\n",
       "      <td>50</td>\n",
       "      <td>16</td>\n",
       "      <td>0.487029</td>\n",
       "      <td>0.902578</td>\n",
       "    </tr>\n",
       "    <tr>\n",
       "      <th>24</th>\n",
       "      <td>100</td>\n",
       "      <td>11</td>\n",
       "      <td>0.486786</td>\n",
       "      <td>0.859433</td>\n",
       "    </tr>\n",
       "    <tr>\n",
       "      <th>14</th>\n",
       "      <td>25</td>\n",
       "      <td>14</td>\n",
       "      <td>0.481700</td>\n",
       "      <td>0.890201</td>\n",
       "    </tr>\n",
       "    <tr>\n",
       "      <th>10</th>\n",
       "      <td>25</td>\n",
       "      <td>15</td>\n",
       "      <td>0.480141</td>\n",
       "      <td>0.894914</td>\n",
       "    </tr>\n",
       "    <tr>\n",
       "      <th>7</th>\n",
       "      <td>250</td>\n",
       "      <td>10</td>\n",
       "      <td>0.479195</td>\n",
       "      <td>0.828163</td>\n",
       "    </tr>\n",
       "    <tr>\n",
       "      <th>18</th>\n",
       "      <td>25</td>\n",
       "      <td>11</td>\n",
       "      <td>0.467575</td>\n",
       "      <td>0.848293</td>\n",
       "    </tr>\n",
       "    <tr>\n",
       "      <th>9</th>\n",
       "      <td>50</td>\n",
       "      <td>10</td>\n",
       "      <td>0.467183</td>\n",
       "      <td>0.818413</td>\n",
       "    </tr>\n",
       "    <tr>\n",
       "      <th>5</th>\n",
       "      <td>250</td>\n",
       "      <td>8</td>\n",
       "      <td>0.430132</td>\n",
       "      <td>0.701576</td>\n",
       "    </tr>\n",
       "    <tr>\n",
       "      <th>13</th>\n",
       "      <td>25</td>\n",
       "      <td>8</td>\n",
       "      <td>0.403533</td>\n",
       "      <td>0.685583</td>\n",
       "    </tr>\n",
       "    <tr>\n",
       "      <th>11</th>\n",
       "      <td>25</td>\n",
       "      <td>6</td>\n",
       "      <td>0.336288</td>\n",
       "      <td>0.498811</td>\n",
       "    </tr>\n",
       "    <tr>\n",
       "      <th>23</th>\n",
       "      <td>100</td>\n",
       "      <td>5</td>\n",
       "      <td>0.283719</td>\n",
       "      <td>0.397307</td>\n",
       "    </tr>\n",
       "    <tr>\n",
       "      <th>19</th>\n",
       "      <td>25</td>\n",
       "      <td>5</td>\n",
       "      <td>0.274742</td>\n",
       "      <td>0.390877</td>\n",
       "    </tr>\n",
       "    <tr>\n",
       "      <th>20</th>\n",
       "      <td>100</td>\n",
       "      <td>4</td>\n",
       "      <td>0.224985</td>\n",
       "      <td>0.299321</td>\n",
       "    </tr>\n",
       "    <tr>\n",
       "      <th>2</th>\n",
       "      <td>250</td>\n",
       "      <td>3</td>\n",
       "      <td>0.171576</td>\n",
       "      <td>0.213952</td>\n",
       "    </tr>\n",
       "    <tr>\n",
       "      <th>8</th>\n",
       "      <td>25</td>\n",
       "      <td>3</td>\n",
       "      <td>0.170593</td>\n",
       "      <td>0.212352</td>\n",
       "    </tr>\n",
       "    <tr>\n",
       "      <th>17</th>\n",
       "      <td>50</td>\n",
       "      <td>3</td>\n",
       "      <td>0.166377</td>\n",
       "      <td>0.211649</td>\n",
       "    </tr>\n",
       "    <tr>\n",
       "      <th>15</th>\n",
       "      <td>50</td>\n",
       "      <td>2</td>\n",
       "      <td>0.116826</td>\n",
       "      <td>0.137648</td>\n",
       "    </tr>\n",
       "  </tbody>\n",
       "</table>\n",
       "</div>"
      ],
      "text/plain": [
       "   param_n_estimators param_max_depth  mean_test_score  mean_train_score\n",
       "3                 250              16         0.504239          0.908794\n",
       "6                 250              13         0.501744          0.895927\n",
       "21                100              17         0.499399          0.907207\n",
       "22                100              15         0.499382          0.904974\n",
       "16                250              12         0.496972          0.882865\n",
       "4                  50              18         0.493750          0.904165\n",
       "12                250              11         0.491019          0.861386\n",
       "1                  50              11         0.487988          0.855764\n",
       "0                  50              16         0.487029          0.902578\n",
       "24                100              11         0.486786          0.859433\n",
       "14                 25              14         0.481700          0.890201\n",
       "10                 25              15         0.480141          0.894914\n",
       "7                 250              10         0.479195          0.828163\n",
       "18                 25              11         0.467575          0.848293\n",
       "9                  50              10         0.467183          0.818413\n",
       "5                 250               8         0.430132          0.701576\n",
       "13                 25               8         0.403533          0.685583\n",
       "11                 25               6         0.336288          0.498811\n",
       "23                100               5         0.283719          0.397307\n",
       "19                 25               5         0.274742          0.390877\n",
       "20                100               4         0.224985          0.299321\n",
       "2                 250               3         0.171576          0.213952\n",
       "8                  25               3         0.170593          0.212352\n",
       "17                 50               3         0.166377          0.211649\n",
       "15                 50               2         0.116826          0.137648"
      ]
     },
     "execution_count": 67,
     "metadata": {},
     "output_type": "execute_result"
    }
   ],
   "source": [
    "hyperopt_results['RF']['OH - Med'][\n",
    "    ['param_n_estimators', 'param_max_depth', 'mean_test_score', 'mean_train_score']\n",
    "]"
   ]
  },
  {
   "cell_type": "code",
   "execution_count": null,
   "metadata": {},
   "outputs": [],
   "source": [
    "# combine all the hyperopt results into a DF, making sure to add a 'model' column to track which model is which\n",
    "dfs_with_models = []\n",
    "for model_name, model_hyperopt_df in hyperopt_results.items():\n",
    "    model_hyperopt_df['model'] = [model_name] * model_hyperopt_df.shape[0]\n",
    "    dfs_with_models.append(model_hyperopt_df)\n",
    "    \n",
    "hyperopt_result_df = pd.concat(dfs_with_models, axis=0, ignore_index=True)\n",
    "hyperopt_result_df.to_csv('data/GE_hyperopt_1.csv')"
   ]
  },
  {
   "cell_type": "markdown",
   "metadata": {},
   "source": [
    "## One-Hot Deep Dive for Nucleotide Importance"
   ]
  },
  {
   "cell_type": "code",
   "execution_count": 10,
   "metadata": {},
   "outputs": [
    {
     "name": "stderr",
     "output_type": "stream",
     "text": [
      "[Parallel(n_jobs=4)]: Using backend LokyBackend with 4 concurrent workers.\n",
      "[Parallel(n_jobs=4)]: Done   5 out of   5 | elapsed:    9.6s finished\n"
     ]
    }
   ],
   "source": [
    "cv_result_oh = cross_validate(\n",
    "    models_to_try['RF'],\n",
    "    X_oh_train,\n",
    "    y=log_tpm_wt_med[X_oh_train.index],\n",
    "    cv=5,\n",
    "    scoring='r2',\n",
    "    return_train_score=True,\n",
    "    return_estimator=True,\n",
    "    verbose=1,\n",
    "    n_jobs=4\n",
    ")"
   ]
  },
  {
   "cell_type": "code",
   "execution_count": 25,
   "metadata": {},
   "outputs": [],
   "source": [
    "estimators = cv_result_oh['estimator']\n",
    "feat_imps = [est.feature_importances_ for est in estimators]\n",
    "\n",
    "feat_bps = []\n",
    "bases = []\n",
    "imps = []\n",
    "\n",
    "for feat, feat_imps in zip(X_oh_train.columns, zip(*feat_imps)):\n",
    "    bp, base = feat.split('_')\n",
    "\n",
    "    feat_bps += [int(bp)] * len(feat_imps)\n",
    "    bases += [base] * len(feat_imps)\n",
    "    imps += list(feat_imps)\n",
    "    \n",
    "feat_imp_cv_df = pd.DataFrame(data={'bp': feat_bps, 'imp': imps, 'base': bases})"
   ]
  },
  {
   "cell_type": "code",
   "execution_count": 27,
   "metadata": {},
   "outputs": [
    {
     "data": {
      "text/plain": [
       "Text(0, 0.5, 'RF Importance')"
      ]
     },
     "execution_count": 27,
     "metadata": {},
     "output_type": "execute_result"
    },
    {
     "data": {
      "image/png": "[encoded data removed]",
      "text/plain": [
       "<Figure size 1080x432 with 1 Axes>"
      ]
     },
     "metadata": {
      "needs_background": "light"
     },
     "output_type": "display_data"
    }
   ],
   "source": [
    "_, ax = plt.subplots(figsize=(15, 6))\n",
    "sns.lineplot(x='bp', y='imp', hue='base', data=feat_imp_cv_df, ax=ax)\n",
    "ax.set_xticks(np.arange(-40, 10, 5))\n",
    "ax.set_xlabel('bp from TSS')\n",
    "ax.set_ylabel('RF Importance')"
   ]
  },
  {
   "cell_type": "markdown",
   "metadata": {},
   "source": [
    "### Overall Importance by Base"
   ]
  },
  {
   "cell_type": "code",
   "execution_count": 32,
   "metadata": {},
   "outputs": [
    {
     "data": {
      "text/html": [
       "<div>\n",
       "<style scoped>\n",
       "    .dataframe tbody tr th:only-of-type {\n",
       "        vertical-align: middle;\n",
       "    }\n",
       "\n",
       "    .dataframe tbody tr th {\n",
       "        vertical-align: top;\n",
       "    }\n",
       "\n",
       "    .dataframe thead th {\n",
       "        text-align: right;\n",
       "    }\n",
       "</style>\n",
       "<table border=\"1\" class=\"dataframe\">\n",
       "  <thead>\n",
       "    <tr style=\"text-align: right;\">\n",
       "      <th></th>\n",
       "      <th>bp</th>\n",
       "      <th>imp</th>\n",
       "      <th>base</th>\n",
       "    </tr>\n",
       "  </thead>\n",
       "  <tbody>\n",
       "    <tr>\n",
       "      <th>0</th>\n",
       "      <td>-40</td>\n",
       "      <td>0.003891</td>\n",
       "      <td>A</td>\n",
       "    </tr>\n",
       "    <tr>\n",
       "      <th>1</th>\n",
       "      <td>-40</td>\n",
       "      <td>0.005015</td>\n",
       "      <td>A</td>\n",
       "    </tr>\n",
       "    <tr>\n",
       "      <th>2</th>\n",
       "      <td>-40</td>\n",
       "      <td>0.004358</td>\n",
       "      <td>A</td>\n",
       "    </tr>\n",
       "    <tr>\n",
       "      <th>3</th>\n",
       "      <td>-40</td>\n",
       "      <td>0.005269</td>\n",
       "      <td>A</td>\n",
       "    </tr>\n",
       "    <tr>\n",
       "      <th>4</th>\n",
       "      <td>-40</td>\n",
       "      <td>0.004230</td>\n",
       "      <td>A</td>\n",
       "    </tr>\n",
       "  </tbody>\n",
       "</table>\n",
       "</div>"
      ],
      "text/plain": [
       "   bp       imp base\n",
       "0 -40  0.003891    A\n",
       "1 -40  0.005015    A\n",
       "2 -40  0.004358    A\n",
       "3 -40  0.005269    A\n",
       "4 -40  0.004230    A"
      ]
     },
     "execution_count": 32,
     "metadata": {},
     "output_type": "execute_result"
    }
   ],
   "source": [
    "feat_imp_cv_df.head()"
   ]
  },
  {
   "cell_type": "code",
   "execution_count": 42,
   "metadata": {},
   "outputs": [],
   "source": [
    "bp_imps = []\n",
    "for bp in feat_imp_cv_df['bp'].unique():\n",
    "    bp_df = feat_imp_cv_df[feat_imp_cv_df['bp'] == bp]\n",
    "    imp_sum = bp_df['imp'].sum()\n",
    "    bp_imps.append((bp, imp_sum))"
   ]
  },
  {
   "cell_type": "code",
   "execution_count": 46,
   "metadata": {},
   "outputs": [
    {
     "data": {
      "text/plain": [
       "[2, 1, 0, -21, -12, -15, 3, -8, -32, -10]"
      ]
     },
     "execution_count": 46,
     "metadata": {},
     "output_type": "execute_result"
    }
   ],
   "source": [
    "[bp for bp, imp in sorted(bp_imps, key=lambda tup: tup[1], reverse=True)[:10]]"
   ]
  },
  {
   "cell_type": "markdown",
   "metadata": {},
   "source": [
    "## BW25113 tabA Sequence Investigation\n",
    "\n",
    "We know from https://ecocyc.org/gene?orgid=ECOLI&id=G7883#tab=TU that tabA has a TSS at \n",
    "4474834\n",
    "\n",
    "We know from bioinfo.ccs.usherbrooke.ca/BW25113.html that BW25113 has a substitution at that exact spot: A -> G\n",
    "\n",
    "We know from BW25113 iModulon that tabA is more expressed in BW25113"
   ]
  },
  {
   "cell_type": "markdown",
   "metadata": {},
   "source": [
    "### Manually Construct the One-Hot Encoded Sequences for Each Case"
   ]
  },
  {
   "cell_type": "code",
   "execution_count": 10,
   "metadata": {},
   "outputs": [
    {
     "data": {
      "text/plain": [
       "'b4252'"
      ]
     },
     "execution_count": 10,
     "metadata": {},
     "output_type": "execute_result"
    }
   ],
   "source": [
    "bitome.get_gene('tabA').locus_tag"
   ]
  },
  {
   "cell_type": "code",
   "execution_count": 11,
   "metadata": {},
   "outputs": [
    {
     "data": {
      "text/plain": [
       "FeatureLocation(ExactPosition(4474861), ExactPosition(4475314), strand=1)"
      ]
     },
     "execution_count": 11,
     "metadata": {},
     "output_type": "execute_result"
    }
   ],
   "source": [
    "bitome.get_gene('tabA').location"
   ]
  },
  {
   "cell_type": "code",
   "execution_count": 12,
   "metadata": {},
   "outputs": [],
   "source": [
    "# make a dummy TU because RegulonDB doesn't have an explicit TU\n",
    "tabA_TU = TranscriptionUnit(\n",
    "    'tabA', \n",
    "    'tabA',\n",
    "    (4474834, 4475314),\n",
    "    1,\n",
    "    bitome.sequence,\n",
    "    tss=4474834,\n",
    "    tts=4475314,\n",
    "    name='tabA'\n",
    ")"
   ]
  },
  {
   "cell_type": "code",
   "execution_count": 13,
   "metadata": {},
   "outputs": [],
   "source": [
    "tabA_X = create_X(['tabA_MG', 'tabA_BW'], [[tabA_TU], [tabA_TU]], 40, 10)\n",
    "# make the BW mutation\n",
    "tabA_X.loc['tabA_BW', '0_A'] = 0\n",
    "tabA_X.loc['tabA_BW', '0_G'] = 1"
   ]
  },
  {
   "cell_type": "code",
   "execution_count": 16,
   "metadata": {},
   "outputs": [],
   "source": [
    "wt_mod, bw_mod = np.array([est.predict(tabA_X) for est in cv_result_oh['estimator']]).mean(axis=0)"
   ]
  },
  {
   "cell_type": "code",
   "execution_count": 17,
   "metadata": {},
   "outputs": [],
   "source": [
    "wt_true = log_tpm_wt_med.loc['b4252']"
   ]
  },
  {
   "cell_type": "code",
   "execution_count": 18,
   "metadata": {},
   "outputs": [],
   "source": [
    "bw_index = metadata_df[\n",
    "    (metadata_df['Strain Description'] == 'Escherichia coli BW25113') &\n",
    "    (metadata_df['Base Media'] == 'M9') & \n",
    "    (metadata_df['pH'] == 7.0) & \n",
    "    (metadata_df['Temperature (C)'] == 37) &\n",
    "    (metadata_df['project_id'] != 'abx_media')\n",
    "].index\n",
    "\n",
    "log_tpm_bw = log_tpm_df[bw_index]\n",
    "log_tpm_bw_mean = log_tpm_bw.mean(axis=1)\n",
    "log_tpm_bw_std = log_tpm_bw.std(axis=1)\n",
    "log_tpm_bw_med = log_tpm_bw.median(axis=1)"
   ]
  },
  {
   "cell_type": "code",
   "execution_count": 19,
   "metadata": {},
   "outputs": [],
   "source": [
    "bw_true = log_tpm_bw_med.loc['b4252']"
   ]
  },
  {
   "cell_type": "code",
   "execution_count": 20,
   "metadata": {},
   "outputs": [
    {
     "data": {
      "text/plain": [
       "<matplotlib.legend.Legend at 0x12d23e2e0>"
      ]
     },
     "execution_count": 20,
     "metadata": {},
     "output_type": "execute_result"
    },
    {
     "data": {
      "image/png": "[encoded data removed]",
      "text/plain": [
       "<Figure size 432x288 with 1 Axes>"
      ]
     },
     "metadata": {
      "needs_background": "light"
     },
     "output_type": "display_data"
    }
   ],
   "source": [
    "_, ax = plt.subplots()\n",
    "ax.bar([-0.125, 0.875], [wt_true, wt_mod], width=0.25, align='center', label='MG1655')\n",
    "ax.bar([0.125, 1.125], [bw_true, bw_mod], width=0.25, align='center', label='BW25113')\n",
    "ax.set_xticks([0, 1])\n",
    "ax.set_xticklabels(['True', 'Model'])\n",
    "ax.tick_params(axis='both', labelsize=12)\n",
    "ax.set_ylabel('tabA Expression (log[TPM])', fontsize=13)\n",
    "ax.legend(fontsize=13)"
   ]
  },
  {
   "cell_type": "markdown",
   "metadata": {},
   "source": [
    "### Contextualizing Prediction\n",
    "\n",
    "We get a slight rise in expression predicted from this change; where does this predicted change stand in the space of all possible permutations in this region. \n",
    "\n",
    "Let's try all of the other point mutations possible"
   ]
  },
  {
   "cell_type": "code",
   "execution_count": 21,
   "metadata": {},
   "outputs": [],
   "source": [
    "# back-calculate the MG sequence\n",
    "tabA_mg = [tup[1] for tup in sorted([(int(col.split('_')[0]), col.split('_')[1]) for \n",
    "        col in list(tabA_X.loc['tabA_MG'][tabA_X.loc['tabA_MG'] == 1].index)]\n",
    "      )]"
   ]
  },
  {
   "cell_type": "code",
   "execution_count": 22,
   "metadata": {},
   "outputs": [],
   "source": [
    "mut_seq_X = pd.DataFrame(columns=tabA_X.columns)\n",
    "\n",
    "for i, base in zip(np.arange(-40, 11), tabA_mg):\n",
    "    other_bases = list(set(['A', 'T', 'C', 'G']) - set([base]))\n",
    "    for other_base in other_bases:\n",
    "        mut_seq_X.loc[f'{i}_{other_base}', :] = tabA_X.loc['tabA_MG']\n",
    "        mut_seq_X.loc[f'{i}_{other_base}', f'{i}_{base}'] = 0\n",
    "        mut_seq_X.loc[f'{i}_{other_base}', f'{i}_{other_base}'] = 1"
   ]
  },
  {
   "cell_type": "code",
   "execution_count": 23,
   "metadata": {},
   "outputs": [],
   "source": [
    "avg_preds = pd.Series(\n",
    "    np.array([est.predict(mut_seq_X) for est in cv_result_oh['estimator']]).mean(axis=0), index=mut_seq_X.index\n",
    ").sort_values()"
   ]
  },
  {
   "cell_type": "code",
   "execution_count": 24,
   "metadata": {},
   "outputs": [
    {
     "name": "stderr",
     "output_type": "stream",
     "text": [
      "/Users/cam/.virtualenvs/strainware/lib/python3.8/site-packages/seaborn/_decorators.py:36: FutureWarning: Pass the following variable as a keyword arg: x. From version 0.12, the only valid positional argument will be `data`, and passing other arguments without an explicit keyword will result in an error or misinterpretation.\n",
      "  warnings.warn(\n"
     ]
    },
    {
     "data": {
      "image/png": "[encoded data removed]",
      "text/plain": [
       "<Figure size 720x216 with 1 Axes>"
      ]
     },
     "metadata": {
      "needs_background": "light"
     },
     "output_type": "display_data"
    }
   ],
   "source": [
    "_, ax = plt.subplots(figsize=(10, 3))\n",
    "sns.boxplot(avg_preds, ax=ax)\n",
    "ax.set_xlabel('Predicted tabA Expression (log[TPM])', fontsize=14)\n",
    "ax.tick_params(axis='both', labelsize=13)\n",
    "ax.set_title('Predictions with Single bp Substitution \\nin tabA Promoter (n=153)', fontsize=16)\n",
    "\n",
    "outliers = avg_preds[(avg_preds < 5) | (avg_preds > 5.76)]\n",
    "up = True\n",
    "more = True\n",
    "for i, outlier in enumerate(outliers.iteritems()):\n",
    "    orig_base = tabA_mg[np.where(np.arange(-40, 11) == int(outlier[0][:-2]))[0][0]]\n",
    "    if up and more:\n",
    "        y = -0.3\n",
    "    elif up:\n",
    "        y = -0.15\n",
    "    elif more:\n",
    "        y = 0.3\n",
    "    else:\n",
    "        y = 0.15\n",
    "    if outlier[0][:-2] == '0':\n",
    "        color = 'red'\n",
    "    else:\n",
    "        color = 'black'\n",
    "    ax.text(\n",
    "        outlier[1], y, f'{outlier[0][:-2]}: {orig_base}->{outlier[0][-1]}', ha='center', fontsize=13, color=color\n",
    "    )\n",
    "    if y < 0 and more:\n",
    "        ax.axvline(outlier[1], ymin=0.55, ymax=0.75)\n",
    "    elif y < 0:\n",
    "        ax.axvline(outlier[1], ymin=0.55, ymax=0.62)\n",
    "    elif more:\n",
    "        ax.axvline(outlier[1], ymin=0.29, ymax=0.45)\n",
    "    else:\n",
    "        ax.axvline(outlier[1], ymin=0.4, ymax=0.45)\n",
    "    up = not up\n",
    "    if i % 2 == 0:\n",
    "        more = not more"
   ]
  },
  {
   "cell_type": "markdown",
   "metadata": {},
   "source": [
    "## MG1655 yddG Mutation Investigation\n",
    "\n",
    "We know of a C->T mutation 73 bp upstream of yddG start codon"
   ]
  },
  {
   "cell_type": "markdown",
   "metadata": {},
   "source": [
    "### Manually Construct the One-Hot Encoded Sequences for Each Case"
   ]
  },
  {
   "cell_type": "code",
   "execution_count": 13,
   "metadata": {},
   "outputs": [
    {
     "data": {
      "text/plain": [
       "'b1473'"
      ]
     },
     "execution_count": 13,
     "metadata": {},
     "output_type": "execute_result"
    }
   ],
   "source": [
    "yddG = bitome.get_gene('yddG')\n",
    "yddG.locus_tag"
   ]
  },
  {
   "cell_type": "code",
   "execution_count": 14,
   "metadata": {},
   "outputs": [
    {
     "data": {
      "text/plain": [
       "FeatureLocation(ExactPosition(1546287), ExactPosition(1547169), strand=-1)"
      ]
     },
     "execution_count": 14,
     "metadata": {},
     "output_type": "execute_result"
    }
   ],
   "source": [
    "yddG.location"
   ]
  },
  {
   "cell_type": "code",
   "execution_count": 22,
   "metadata": {},
   "outputs": [],
   "source": [
    "mut_pos = yddG.location.end.position + 73"
   ]
  },
  {
   "cell_type": "code",
   "execution_count": 20,
   "metadata": {},
   "outputs": [
    {
     "data": {
      "text/plain": [
       "1547205"
      ]
     },
     "execution_count": 20,
     "metadata": {},
     "output_type": "execute_result"
    }
   ],
   "source": [
    "yddG_tu = yddG.transcription_units[0]\n",
    "yddG_tu.tss"
   ]
  },
  {
   "cell_type": "markdown",
   "metadata": {},
   "source": [
    "So let's figure out where this mutation is relative to the TSS"
   ]
  },
  {
   "cell_type": "code",
   "execution_count": 24,
   "metadata": {},
   "outputs": [
    {
     "data": {
      "text/plain": [
       "-37"
      ]
     },
     "execution_count": 24,
     "metadata": {},
     "output_type": "execute_result"
    }
   ],
   "source": [
    "yddG_tu.tss - mut_pos"
   ]
  },
  {
   "cell_type": "markdown",
   "metadata": {},
   "source": [
    "Fascinating, mutation right in the -35 box. Let's see what the model thinks."
   ]
  },
  {
   "cell_type": "code",
   "execution_count": 35,
   "metadata": {},
   "outputs": [],
   "source": [
    "yddG_X = create_X(['yddG_MG', 'yddG_mut'], [[yddG_tu], [yddG_tu]], 40, 10)\n",
    "# make the mutation\n",
    "yddG_X.loc['yddG_mut', '-37_C'] = 0\n",
    "yddG_X.loc['yddG_mut', '-37_T'] = 1"
   ]
  },
  {
   "cell_type": "code",
   "execution_count": 36,
   "metadata": {},
   "outputs": [],
   "source": [
    "yddG_wt, yddG_mut = np.array([est.predict(yddG_X) for est in cv_result_oh['estimator']]).mean(axis=0)"
   ]
  },
  {
   "cell_type": "code",
   "execution_count": 37,
   "metadata": {},
   "outputs": [
    {
     "data": {
      "text/plain": [
       "5.280681035826352"
      ]
     },
     "execution_count": 37,
     "metadata": {},
     "output_type": "execute_result"
    }
   ],
   "source": [
    "yddG_wt"
   ]
  },
  {
   "cell_type": "markdown",
   "metadata": {},
   "source": [
    "### Contextualizing Prediction\n",
    "\n",
    "We get a slight rise in expression predicted from this change; where does this predicted change stand in the space of all possible permutations in this region. \n",
    "\n",
    "Let's try all of the other point mutations possible"
   ]
  },
  {
   "cell_type": "code",
   "execution_count": 39,
   "metadata": {},
   "outputs": [],
   "source": [
    "# back-calculate the MG sequence\n",
    "yddG_mg_seq = [tup[1] for tup in sorted([(int(col.split('_')[0]), col.split('_')[1]) for \n",
    "        col in list(yddG_X.loc['yddG_MG'][yddG_X.loc['yddG_MG'] == 1].index)]\n",
    "      )]"
   ]
  },
  {
   "cell_type": "code",
   "execution_count": 42,
   "metadata": {},
   "outputs": [],
   "source": [
    "mut_seq_X_yddg = pd.DataFrame(columns=yddG_X.columns)\n",
    "\n",
    "for i, base in zip(np.arange(-40, 11), yddG_mg_seq):\n",
    "    other_bases = list(set(['A', 'T', 'C', 'G']) - set([base]))\n",
    "    for other_base in other_bases:\n",
    "        mut_seq_X_yddg.loc[f'{i}_{other_base}', :] = yddG_X.loc['yddG_MG']\n",
    "        mut_seq_X_yddg.loc[f'{i}_{other_base}', f'{i}_{base}'] = 0\n",
    "        mut_seq_X_yddg.loc[f'{i}_{other_base}', f'{i}_{other_base}'] = 1"
   ]
  },
  {
   "cell_type": "code",
   "execution_count": 44,
   "metadata": {},
   "outputs": [],
   "source": [
    "avg_preds_yddG = pd.Series(\n",
    "    np.array([est.predict(mut_seq_X_yddg) for est in cv_result_oh['estimator']]).mean(axis=0), index=mut_seq_X_yddg.index\n",
    ").sort_values()"
   ]
  },
  {
   "cell_type": "code",
   "execution_count": 55,
   "metadata": {},
   "outputs": [
    {
     "name": "stderr",
     "output_type": "stream",
     "text": [
      "/Users/cam/.virtualenvs/strainware/lib/python3.8/site-packages/seaborn/_decorators.py:36: FutureWarning: Pass the following variable as a keyword arg: x. From version 0.12, the only valid positional argument will be `data`, and passing other arguments without an explicit keyword will result in an error or misinterpretation.\n",
      "  warnings.warn(\n"
     ]
    },
    {
     "data": {
      "image/png": "[encoded data removed]",
      "text/plain": [
       "<Figure size 720x216 with 1 Axes>"
      ]
     },
     "metadata": {
      "needs_background": "light"
     },
     "output_type": "display_data"
    }
   ],
   "source": [
    "_, ax = plt.subplots(figsize=(10, 3))\n",
    "sns.boxplot(avg_preds_yddG, ax=ax)\n",
    "ax.set_xlabel('Predicted yddG Expression (log[TPM])', fontsize=14)\n",
    "ax.tick_params(axis='both', labelsize=13)\n",
    "ax.set_title('Predictions with Single bp Substitution \\nin yddG Promoter (n=153)', fontsize=16)\n",
    "\n",
    "ax.axvline(yddG_wt, linestyle='--', color='black', label='WT')\n",
    "ax.axvline(yddG_mut, linestyle='-', color='red', label='-37 C->T')\n",
    "\n",
    "ax.legend(fontsize=13)\n",
    "\n",
    "outliers = avg_preds_yddG[(avg_preds_yddG < 5) | (avg_preds_yddG > 5.76)]\n",
    "up = True\n",
    "more = True\n",
    "for i, outlier in enumerate(outliers.iteritems()):\n",
    "    orig_base = yddG_mg_seq[np.where(np.arange(-40, 11) == int(outlier[0][:-2]))[0][0]]\n",
    "    if up and more:\n",
    "        y = -0.3\n",
    "    elif up:\n",
    "        y = -0.15\n",
    "    elif more:\n",
    "        y = 0.3\n",
    "    else:\n",
    "        y = 0.15\n",
    "    if outlier[0][:-2] == '0':\n",
    "        color = 'red'\n",
    "    else:\n",
    "        color = 'black'\n",
    "    ax.text(\n",
    "        outlier[1], y, f'{outlier[0][:-2]}: {orig_base}->{outlier[0][-1]}', ha='center', fontsize=13, color=color\n",
    "    )\n",
    "    if y < 0 and more:\n",
    "        ax.axvline(outlier[1], ymin=0.55, ymax=0.75)\n",
    "    elif y < 0:\n",
    "        ax.axvline(outlier[1], ymin=0.55, ymax=0.62)\n",
    "    elif more:\n",
    "        ax.axvline(outlier[1], ymin=0.29, ymax=0.45)\n",
    "    else:\n",
    "        ax.axvline(outlier[1], ymin=0.4, ymax=0.45)\n",
    "    up = not up\n",
    "    if i % 2 == 0:\n",
    "        more = not more"
   ]
  },
  {
   "cell_type": "markdown",
   "metadata": {},
   "source": [
    "## Predicting Specific Expression Profiles\n",
    "\n",
    "Is there any particular condition that is more predictable than others in PRECISE 2.0?"
   ]
  },
  {
   "cell_type": "code",
   "execution_count": 25,
   "metadata": {
    "scrolled": true
   },
   "outputs": [
    {
     "data": {
      "text/html": [
       "<div>\n",
       "<style scoped>\n",
       "    .dataframe tbody tr th:only-of-type {\n",
       "        vertical-align: middle;\n",
       "    }\n",
       "\n",
       "    .dataframe tbody tr th {\n",
       "        vertical-align: top;\n",
       "    }\n",
       "\n",
       "    .dataframe thead th {\n",
       "        text-align: right;\n",
       "    }\n",
       "</style>\n",
       "<table border=\"1\" class=\"dataframe\">\n",
       "  <thead>\n",
       "    <tr style=\"text-align: right;\">\n",
       "      <th></th>\n",
       "      <th>ade_glc</th>\n",
       "      <th>arg_cytd</th>\n",
       "      <th>arg_sbt</th>\n",
       "      <th>cytd_rib</th>\n",
       "      <th>dbcn_glc</th>\n",
       "      <th>gth</th>\n",
       "      <th>leu_glcr</th>\n",
       "      <th>met_glc</th>\n",
       "      <th>nitr_031</th>\n",
       "      <th>no3_anaero</th>\n",
       "      <th>...</th>\n",
       "      <th>wt_gly</th>\n",
       "      <th>wt_glyc</th>\n",
       "      <th>wt_h2o2</th>\n",
       "      <th>wt_nacl</th>\n",
       "      <th>wt_no_te</th>\n",
       "      <th>wt_pH7_lactate</th>\n",
       "      <th>wt_pq</th>\n",
       "      <th>wt_thr</th>\n",
       "      <th>wt_trp</th>\n",
       "      <th>wt_xyl</th>\n",
       "    </tr>\n",
       "    <tr>\n",
       "      <th>Geneid</th>\n",
       "      <th></th>\n",
       "      <th></th>\n",
       "      <th></th>\n",
       "      <th></th>\n",
       "      <th></th>\n",
       "      <th></th>\n",
       "      <th></th>\n",
       "      <th></th>\n",
       "      <th></th>\n",
       "      <th></th>\n",
       "      <th></th>\n",
       "      <th></th>\n",
       "      <th></th>\n",
       "      <th></th>\n",
       "      <th></th>\n",
       "      <th></th>\n",
       "      <th></th>\n",
       "      <th></th>\n",
       "      <th></th>\n",
       "      <th></th>\n",
       "      <th></th>\n",
       "    </tr>\n",
       "  </thead>\n",
       "  <tbody>\n",
       "    <tr>\n",
       "      <th>b0001</th>\n",
       "      <td>9.207095</td>\n",
       "      <td>8.551308</td>\n",
       "      <td>7.009731</td>\n",
       "      <td>7.546483</td>\n",
       "      <td>11.692306</td>\n",
       "      <td>10.143227</td>\n",
       "      <td>8.712009</td>\n",
       "      <td>8.952670</td>\n",
       "      <td>3.875606</td>\n",
       "      <td>10.020075</td>\n",
       "      <td>...</td>\n",
       "      <td>7.081947</td>\n",
       "      <td>8.371840</td>\n",
       "      <td>7.969109</td>\n",
       "      <td>7.793461</td>\n",
       "      <td>8.454426</td>\n",
       "      <td>8.721566</td>\n",
       "      <td>4.824370</td>\n",
       "      <td>5.422601</td>\n",
       "      <td>11.238297</td>\n",
       "      <td>10.734366</td>\n",
       "    </tr>\n",
       "    <tr>\n",
       "      <th>b0002</th>\n",
       "      <td>9.823007</td>\n",
       "      <td>10.025159</td>\n",
       "      <td>11.218724</td>\n",
       "      <td>6.454778</td>\n",
       "      <td>9.937320</td>\n",
       "      <td>7.671177</td>\n",
       "      <td>11.532080</td>\n",
       "      <td>10.092982</td>\n",
       "      <td>10.274328</td>\n",
       "      <td>10.137293</td>\n",
       "      <td>...</td>\n",
       "      <td>10.710109</td>\n",
       "      <td>8.859692</td>\n",
       "      <td>10.589764</td>\n",
       "      <td>7.818364</td>\n",
       "      <td>10.525447</td>\n",
       "      <td>10.734435</td>\n",
       "      <td>7.344612</td>\n",
       "      <td>7.944751</td>\n",
       "      <td>8.908076</td>\n",
       "      <td>11.465243</td>\n",
       "    </tr>\n",
       "    <tr>\n",
       "      <th>b0003</th>\n",
       "      <td>9.476312</td>\n",
       "      <td>9.751598</td>\n",
       "      <td>11.019801</td>\n",
       "      <td>7.352172</td>\n",
       "      <td>9.866250</td>\n",
       "      <td>7.100703</td>\n",
       "      <td>10.900574</td>\n",
       "      <td>9.723523</td>\n",
       "      <td>9.971115</td>\n",
       "      <td>9.937512</td>\n",
       "      <td>...</td>\n",
       "      <td>10.089400</td>\n",
       "      <td>8.942716</td>\n",
       "      <td>10.198297</td>\n",
       "      <td>8.243572</td>\n",
       "      <td>10.396104</td>\n",
       "      <td>10.109732</td>\n",
       "      <td>7.852484</td>\n",
       "      <td>8.353247</td>\n",
       "      <td>8.690675</td>\n",
       "      <td>11.345587</td>\n",
       "    </tr>\n",
       "    <tr>\n",
       "      <th>b0004</th>\n",
       "      <td>9.669819</td>\n",
       "      <td>9.789268</td>\n",
       "      <td>10.844418</td>\n",
       "      <td>7.232195</td>\n",
       "      <td>9.676576</td>\n",
       "      <td>6.714389</td>\n",
       "      <td>11.051361</td>\n",
       "      <td>9.822305</td>\n",
       "      <td>9.382138</td>\n",
       "      <td>9.787984</td>\n",
       "      <td>...</td>\n",
       "      <td>9.909386</td>\n",
       "      <td>9.046092</td>\n",
       "      <td>10.117657</td>\n",
       "      <td>7.020739</td>\n",
       "      <td>9.821885</td>\n",
       "      <td>10.008619</td>\n",
       "      <td>7.098671</td>\n",
       "      <td>7.996143</td>\n",
       "      <td>9.067561</td>\n",
       "      <td>11.319964</td>\n",
       "    </tr>\n",
       "    <tr>\n",
       "      <th>b0005</th>\n",
       "      <td>6.572308</td>\n",
       "      <td>6.078767</td>\n",
       "      <td>6.881811</td>\n",
       "      <td>3.919780</td>\n",
       "      <td>9.327396</td>\n",
       "      <td>4.729103</td>\n",
       "      <td>7.266025</td>\n",
       "      <td>6.701451</td>\n",
       "      <td>5.260919</td>\n",
       "      <td>5.802628</td>\n",
       "      <td>...</td>\n",
       "      <td>6.856102</td>\n",
       "      <td>6.003095</td>\n",
       "      <td>6.598921</td>\n",
       "      <td>3.584438</td>\n",
       "      <td>5.964272</td>\n",
       "      <td>6.291281</td>\n",
       "      <td>4.415351</td>\n",
       "      <td>5.950551</td>\n",
       "      <td>5.311455</td>\n",
       "      <td>7.723208</td>\n",
       "    </tr>\n",
       "    <tr>\n",
       "      <th>...</th>\n",
       "      <td>...</td>\n",
       "      <td>...</td>\n",
       "      <td>...</td>\n",
       "      <td>...</td>\n",
       "      <td>...</td>\n",
       "      <td>...</td>\n",
       "      <td>...</td>\n",
       "      <td>...</td>\n",
       "      <td>...</td>\n",
       "      <td>...</td>\n",
       "      <td>...</td>\n",
       "      <td>...</td>\n",
       "      <td>...</td>\n",
       "      <td>...</td>\n",
       "      <td>...</td>\n",
       "      <td>...</td>\n",
       "      <td>...</td>\n",
       "      <td>...</td>\n",
       "      <td>...</td>\n",
       "      <td>...</td>\n",
       "      <td>...</td>\n",
       "    </tr>\n",
       "    <tr>\n",
       "      <th>b4399</th>\n",
       "      <td>4.085752</td>\n",
       "      <td>3.953141</td>\n",
       "      <td>3.502750</td>\n",
       "      <td>3.773241</td>\n",
       "      <td>3.568533</td>\n",
       "      <td>4.062706</td>\n",
       "      <td>3.412841</td>\n",
       "      <td>3.054846</td>\n",
       "      <td>4.373618</td>\n",
       "      <td>4.121290</td>\n",
       "      <td>...</td>\n",
       "      <td>4.945428</td>\n",
       "      <td>3.964981</td>\n",
       "      <td>4.000711</td>\n",
       "      <td>3.924426</td>\n",
       "      <td>4.449518</td>\n",
       "      <td>3.902940</td>\n",
       "      <td>4.395041</td>\n",
       "      <td>5.027224</td>\n",
       "      <td>3.839193</td>\n",
       "      <td>3.871074</td>\n",
       "    </tr>\n",
       "    <tr>\n",
       "      <th>b4400</th>\n",
       "      <td>3.031334</td>\n",
       "      <td>2.660548</td>\n",
       "      <td>2.616002</td>\n",
       "      <td>2.662922</td>\n",
       "      <td>1.719769</td>\n",
       "      <td>3.001162</td>\n",
       "      <td>2.305921</td>\n",
       "      <td>2.070473</td>\n",
       "      <td>2.866123</td>\n",
       "      <td>3.049605</td>\n",
       "      <td>...</td>\n",
       "      <td>2.635246</td>\n",
       "      <td>2.637030</td>\n",
       "      <td>3.009624</td>\n",
       "      <td>2.057021</td>\n",
       "      <td>2.652446</td>\n",
       "      <td>2.368132</td>\n",
       "      <td>3.076808</td>\n",
       "      <td>3.582934</td>\n",
       "      <td>3.020880</td>\n",
       "      <td>3.231693</td>\n",
       "    </tr>\n",
       "    <tr>\n",
       "      <th>b4401</th>\n",
       "      <td>9.436446</td>\n",
       "      <td>9.356762</td>\n",
       "      <td>9.475495</td>\n",
       "      <td>11.787911</td>\n",
       "      <td>9.623319</td>\n",
       "      <td>10.473660</td>\n",
       "      <td>9.523462</td>\n",
       "      <td>9.030332</td>\n",
       "      <td>10.674538</td>\n",
       "      <td>9.815893</td>\n",
       "      <td>...</td>\n",
       "      <td>8.991644</td>\n",
       "      <td>9.489155</td>\n",
       "      <td>9.493743</td>\n",
       "      <td>11.160049</td>\n",
       "      <td>10.066909</td>\n",
       "      <td>9.653972</td>\n",
       "      <td>11.434707</td>\n",
       "      <td>9.184508</td>\n",
       "      <td>9.642667</td>\n",
       "      <td>8.109052</td>\n",
       "    </tr>\n",
       "    <tr>\n",
       "      <th>b4402</th>\n",
       "      <td>3.317523</td>\n",
       "      <td>2.646827</td>\n",
       "      <td>3.154342</td>\n",
       "      <td>3.889830</td>\n",
       "      <td>0.461869</td>\n",
       "      <td>3.174912</td>\n",
       "      <td>3.333956</td>\n",
       "      <td>2.540852</td>\n",
       "      <td>2.219901</td>\n",
       "      <td>3.370587</td>\n",
       "      <td>...</td>\n",
       "      <td>2.491569</td>\n",
       "      <td>3.931014</td>\n",
       "      <td>3.983906</td>\n",
       "      <td>2.956411</td>\n",
       "      <td>3.381905</td>\n",
       "      <td>3.844289</td>\n",
       "      <td>2.360710</td>\n",
       "      <td>4.018662</td>\n",
       "      <td>5.114161</td>\n",
       "      <td>6.059761</td>\n",
       "    </tr>\n",
       "    <tr>\n",
       "      <th>b4403</th>\n",
       "      <td>4.846239</td>\n",
       "      <td>4.795731</td>\n",
       "      <td>4.510766</td>\n",
       "      <td>5.407328</td>\n",
       "      <td>4.566442</td>\n",
       "      <td>4.705896</td>\n",
       "      <td>4.815148</td>\n",
       "      <td>4.623671</td>\n",
       "      <td>5.196430</td>\n",
       "      <td>4.630332</td>\n",
       "      <td>...</td>\n",
       "      <td>4.690141</td>\n",
       "      <td>4.636199</td>\n",
       "      <td>5.340550</td>\n",
       "      <td>5.712364</td>\n",
       "      <td>5.273744</td>\n",
       "      <td>5.385781</td>\n",
       "      <td>5.645411</td>\n",
       "      <td>4.514404</td>\n",
       "      <td>4.762812</td>\n",
       "      <td>5.327397</td>\n",
       "    </tr>\n",
       "  </tbody>\n",
       "</table>\n",
       "<p>4355 rows × 40 columns</p>\n",
       "</div>"
      ],
      "text/plain": [
       "         ade_glc   arg_cytd    arg_sbt   cytd_rib   dbcn_glc        gth  \\\n",
       "Geneid                                                                    \n",
       "b0001   9.207095   8.551308   7.009731   7.546483  11.692306  10.143227   \n",
       "b0002   9.823007  10.025159  11.218724   6.454778   9.937320   7.671177   \n",
       "b0003   9.476312   9.751598  11.019801   7.352172   9.866250   7.100703   \n",
       "b0004   9.669819   9.789268  10.844418   7.232195   9.676576   6.714389   \n",
       "b0005   6.572308   6.078767   6.881811   3.919780   9.327396   4.729103   \n",
       "...          ...        ...        ...        ...        ...        ...   \n",
       "b4399   4.085752   3.953141   3.502750   3.773241   3.568533   4.062706   \n",
       "b4400   3.031334   2.660548   2.616002   2.662922   1.719769   3.001162   \n",
       "b4401   9.436446   9.356762   9.475495  11.787911   9.623319  10.473660   \n",
       "b4402   3.317523   2.646827   3.154342   3.889830   0.461869   3.174912   \n",
       "b4403   4.846239   4.795731   4.510766   5.407328   4.566442   4.705896   \n",
       "\n",
       "         leu_glcr    met_glc   nitr_031  no3_anaero  ...     wt_gly   wt_glyc  \\\n",
       "Geneid                                               ...                        \n",
       "b0001    8.712009   8.952670   3.875606   10.020075  ...   7.081947  8.371840   \n",
       "b0002   11.532080  10.092982  10.274328   10.137293  ...  10.710109  8.859692   \n",
       "b0003   10.900574   9.723523   9.971115    9.937512  ...  10.089400  8.942716   \n",
       "b0004   11.051361   9.822305   9.382138    9.787984  ...   9.909386  9.046092   \n",
       "b0005    7.266025   6.701451   5.260919    5.802628  ...   6.856102  6.003095   \n",
       "...           ...        ...        ...         ...  ...        ...       ...   \n",
       "b4399    3.412841   3.054846   4.373618    4.121290  ...   4.945428  3.964981   \n",
       "b4400    2.305921   2.070473   2.866123    3.049605  ...   2.635246  2.637030   \n",
       "b4401    9.523462   9.030332  10.674538    9.815893  ...   8.991644  9.489155   \n",
       "b4402    3.333956   2.540852   2.219901    3.370587  ...   2.491569  3.931014   \n",
       "b4403    4.815148   4.623671   5.196430    4.630332  ...   4.690141  4.636199   \n",
       "\n",
       "          wt_h2o2    wt_nacl   wt_no_te  wt_pH7_lactate      wt_pq    wt_thr  \\\n",
       "Geneid                                                                         \n",
       "b0001    7.969109   7.793461   8.454426        8.721566   4.824370  5.422601   \n",
       "b0002   10.589764   7.818364  10.525447       10.734435   7.344612  7.944751   \n",
       "b0003   10.198297   8.243572  10.396104       10.109732   7.852484  8.353247   \n",
       "b0004   10.117657   7.020739   9.821885       10.008619   7.098671  7.996143   \n",
       "b0005    6.598921   3.584438   5.964272        6.291281   4.415351  5.950551   \n",
       "...           ...        ...        ...             ...        ...       ...   \n",
       "b4399    4.000711   3.924426   4.449518        3.902940   4.395041  5.027224   \n",
       "b4400    3.009624   2.057021   2.652446        2.368132   3.076808  3.582934   \n",
       "b4401    9.493743  11.160049  10.066909        9.653972  11.434707  9.184508   \n",
       "b4402    3.983906   2.956411   3.381905        3.844289   2.360710  4.018662   \n",
       "b4403    5.340550   5.712364   5.273744        5.385781   5.645411  4.514404   \n",
       "\n",
       "           wt_trp     wt_xyl  \n",
       "Geneid                        \n",
       "b0001   11.238297  10.734366  \n",
       "b0002    8.908076  11.465243  \n",
       "b0003    8.690675  11.345587  \n",
       "b0004    9.067561  11.319964  \n",
       "b0005    5.311455   7.723208  \n",
       "...           ...        ...  \n",
       "b4399    3.839193   3.871074  \n",
       "b4400    3.020880   3.231693  \n",
       "b4401    9.642667   8.109052  \n",
       "b4402    5.114161   6.059761  \n",
       "b4403    4.762812   5.327397  \n",
       "\n",
       "[4355 rows x 40 columns]"
      ]
     },
     "execution_count": 25,
     "metadata": {},
     "output_type": "execute_result"
    }
   ],
   "source": [
    "# collapse replicates to reduce redundancy\n",
    "log_tpm_wt_rep_avg = pd.DataFrame(index=log_tpm_df.index)\n",
    "for wt_cond, cond_df in metadata_df.loc[wt_index].groupby('condition_id'):\n",
    "    sample_idx = cond_df.index\n",
    "    log_tpm_wt_rep_avg[wt_cond] = log_tpm_df[sample_idx].mean(axis=1)\n",
    "\n",
    "log_tpm_wt_rep_avg"
   ]
  },
  {
   "cell_type": "code",
   "execution_count": 35,
   "metadata": {},
   "outputs": [],
   "source": [
    "Xy_to_try = {col: (X_oh_train, log_tpm_wt_rep_avg[col].loc[X_oh_train.index]) for col in log_tpm_wt_rep_avg.columns}"
   ]
  },
  {
   "cell_type": "code",
   "execution_count": 36,
   "metadata": {},
   "outputs": [],
   "source": [
    "models_to_try = {'RF': RandomForestRegressor(\n",
    "    random_state=42,\n",
    "    n_jobs=4\n",
    ")}"
   ]
  },
  {
   "cell_type": "code",
   "execution_count": 37,
   "metadata": {
    "scrolled": true
   },
   "outputs": [
    {
     "name": "stdout",
     "output_type": "stream",
     "text": [
      "RF\n",
      "RF: ade_glc\n"
     ]
    },
    {
     "name": "stderr",
     "output_type": "stream",
     "text": [
      "[Parallel(n_jobs=4)]: Using backend LokyBackend with 4 concurrent workers.\n",
      "[Parallel(n_jobs=4)]: Done   5 out of   5 | elapsed:    9.8s finished\n",
      "[Parallel(n_jobs=4)]: Using backend LokyBackend with 4 concurrent workers.\n"
     ]
    },
    {
     "name": "stdout",
     "output_type": "stream",
     "text": [
      "RF: arg_cytd\n"
     ]
    },
    {
     "name": "stderr",
     "output_type": "stream",
     "text": [
      "[Parallel(n_jobs=4)]: Done   5 out of   5 | elapsed:    8.4s finished\n",
      "[Parallel(n_jobs=4)]: Using backend LokyBackend with 4 concurrent workers.\n"
     ]
    },
    {
     "name": "stdout",
     "output_type": "stream",
     "text": [
      "RF: arg_sbt\n"
     ]
    },
    {
     "name": "stderr",
     "output_type": "stream",
     "text": [
      "[Parallel(n_jobs=4)]: Done   5 out of   5 | elapsed:    7.8s finished\n",
      "[Parallel(n_jobs=4)]: Using backend LokyBackend with 4 concurrent workers.\n"
     ]
    },
    {
     "name": "stdout",
     "output_type": "stream",
     "text": [
      "RF: cytd_rib\n"
     ]
    },
    {
     "name": "stderr",
     "output_type": "stream",
     "text": [
      "[Parallel(n_jobs=4)]: Done   5 out of   5 | elapsed:    8.5s finished\n",
      "[Parallel(n_jobs=4)]: Using backend LokyBackend with 4 concurrent workers.\n"
     ]
    },
    {
     "name": "stdout",
     "output_type": "stream",
     "text": [
      "RF: dbcn_glc\n"
     ]
    },
    {
     "name": "stderr",
     "output_type": "stream",
     "text": [
      "[Parallel(n_jobs=4)]: Done   5 out of   5 | elapsed:    7.7s finished\n",
      "[Parallel(n_jobs=4)]: Using backend LokyBackend with 4 concurrent workers.\n"
     ]
    },
    {
     "name": "stdout",
     "output_type": "stream",
     "text": [
      "RF: gth\n"
     ]
    },
    {
     "name": "stderr",
     "output_type": "stream",
     "text": [
      "[Parallel(n_jobs=4)]: Done   5 out of   5 | elapsed:    7.9s finished\n",
      "[Parallel(n_jobs=4)]: Using backend LokyBackend with 4 concurrent workers.\n"
     ]
    },
    {
     "name": "stdout",
     "output_type": "stream",
     "text": [
      "RF: leu_glcr\n"
     ]
    },
    {
     "name": "stderr",
     "output_type": "stream",
     "text": [
      "[Parallel(n_jobs=4)]: Done   5 out of   5 | elapsed:    7.6s finished\n",
      "[Parallel(n_jobs=4)]: Using backend LokyBackend with 4 concurrent workers.\n"
     ]
    },
    {
     "name": "stdout",
     "output_type": "stream",
     "text": [
      "RF: met_glc\n"
     ]
    },
    {
     "name": "stderr",
     "output_type": "stream",
     "text": [
      "[Parallel(n_jobs=4)]: Done   5 out of   5 | elapsed:    8.2s finished\n",
      "[Parallel(n_jobs=4)]: Using backend LokyBackend with 4 concurrent workers.\n"
     ]
    },
    {
     "name": "stdout",
     "output_type": "stream",
     "text": [
      "RF: nitr_031\n"
     ]
    },
    {
     "name": "stderr",
     "output_type": "stream",
     "text": [
      "[Parallel(n_jobs=4)]: Done   5 out of   5 | elapsed:    7.8s finished\n",
      "[Parallel(n_jobs=4)]: Using backend LokyBackend with 4 concurrent workers.\n"
     ]
    },
    {
     "name": "stdout",
     "output_type": "stream",
     "text": [
      "RF: no3_anaero\n"
     ]
    },
    {
     "name": "stderr",
     "output_type": "stream",
     "text": [
      "[Parallel(n_jobs=4)]: Done   5 out of   5 | elapsed:    8.4s finished\n",
      "[Parallel(n_jobs=4)]: Using backend LokyBackend with 4 concurrent workers.\n"
     ]
    },
    {
     "name": "stdout",
     "output_type": "stream",
     "text": [
      "RF: phe_acgam\n"
     ]
    },
    {
     "name": "stderr",
     "output_type": "stream",
     "text": [
      "[Parallel(n_jobs=4)]: Done   5 out of   5 | elapsed:    8.7s finished\n",
      "[Parallel(n_jobs=4)]: Using backend LokyBackend with 4 concurrent workers.\n"
     ]
    },
    {
     "name": "stdout",
     "output_type": "stream",
     "text": [
      "RF: salc_glc\n"
     ]
    },
    {
     "name": "stderr",
     "output_type": "stream",
     "text": [
      "[Parallel(n_jobs=4)]: Done   5 out of   5 | elapsed:    8.1s finished\n",
      "[Parallel(n_jobs=4)]: Using backend LokyBackend with 4 concurrent workers.\n"
     ]
    },
    {
     "name": "stdout",
     "output_type": "stream",
     "text": [
      "RF: thm_gal\n"
     ]
    },
    {
     "name": "stderr",
     "output_type": "stream",
     "text": [
      "[Parallel(n_jobs=4)]: Done   5 out of   5 | elapsed:    7.8s finished\n",
      "[Parallel(n_jobs=4)]: Using backend LokyBackend with 4 concurrent workers.\n"
     ]
    },
    {
     "name": "stdout",
     "output_type": "stream",
     "text": [
      "RF: tyr_glc\n"
     ]
    },
    {
     "name": "stderr",
     "output_type": "stream",
     "text": [
      "[Parallel(n_jobs=4)]: Done   5 out of   5 | elapsed:    7.7s finished\n",
      "[Parallel(n_jobs=4)]: Using backend LokyBackend with 4 concurrent workers.\n"
     ]
    },
    {
     "name": "stdout",
     "output_type": "stream",
     "text": [
      "RF: tyr_glcn\n"
     ]
    },
    {
     "name": "stderr",
     "output_type": "stream",
     "text": [
      "[Parallel(n_jobs=4)]: Done   5 out of   5 | elapsed:    8.2s finished\n",
      "[Parallel(n_jobs=4)]: Using backend LokyBackend with 4 concurrent workers.\n"
     ]
    },
    {
     "name": "stdout",
     "output_type": "stream",
     "text": [
      "RF: ura_pyr\n"
     ]
    },
    {
     "name": "stderr",
     "output_type": "stream",
     "text": [
      "[Parallel(n_jobs=4)]: Done   5 out of   5 | elapsed:    7.8s finished\n",
      "[Parallel(n_jobs=4)]: Using backend LokyBackend with 4 concurrent workers.\n"
     ]
    },
    {
     "name": "stdout",
     "output_type": "stream",
     "text": [
      "RF: wt_031\n"
     ]
    },
    {
     "name": "stderr",
     "output_type": "stream",
     "text": [
      "[Parallel(n_jobs=4)]: Done   5 out of   5 | elapsed:    7.6s finished\n",
      "[Parallel(n_jobs=4)]: Using backend LokyBackend with 4 concurrent workers.\n"
     ]
    },
    {
     "name": "stdout",
     "output_type": "stream",
     "text": [
      "RF: wt_044\n"
     ]
    },
    {
     "name": "stderr",
     "output_type": "stream",
     "text": [
      "[Parallel(n_jobs=4)]: Done   5 out of   5 | elapsed:    7.5s finished\n",
      "[Parallel(n_jobs=4)]: Using backend LokyBackend with 4 concurrent workers.\n"
     ]
    },
    {
     "name": "stdout",
     "output_type": "stream",
     "text": [
      "RF: wt_LiAcet\n"
     ]
    },
    {
     "name": "stderr",
     "output_type": "stream",
     "text": [
      "[Parallel(n_jobs=4)]: Done   5 out of   5 | elapsed:    7.6s finished\n",
      "[Parallel(n_jobs=4)]: Using backend LokyBackend with 4 concurrent workers.\n"
     ]
    },
    {
     "name": "stdout",
     "output_type": "stream",
     "text": [
      "RF: wt_LiCl\n"
     ]
    },
    {
     "name": "stderr",
     "output_type": "stream",
     "text": [
      "[Parallel(n_jobs=4)]: Done   5 out of   5 | elapsed:    7.7s finished\n",
      "[Parallel(n_jobs=4)]: Using backend LokyBackend with 4 concurrent workers.\n"
     ]
    },
    {
     "name": "stdout",
     "output_type": "stream",
     "text": [
      "RF: wt_ac\n"
     ]
    },
    {
     "name": "stderr",
     "output_type": "stream",
     "text": [
      "[Parallel(n_jobs=4)]: Done   5 out of   5 | elapsed:    8.1s finished\n",
      "[Parallel(n_jobs=4)]: Using backend LokyBackend with 4 concurrent workers.\n"
     ]
    },
    {
     "name": "stdout",
     "output_type": "stream",
     "text": [
      "RF: wt_ade\n"
     ]
    },
    {
     "name": "stderr",
     "output_type": "stream",
     "text": [
      "[Parallel(n_jobs=4)]: Done   5 out of   5 | elapsed:    7.7s finished\n",
      "[Parallel(n_jobs=4)]: Using backend LokyBackend with 4 concurrent workers.\n"
     ]
    },
    {
     "name": "stdout",
     "output_type": "stream",
     "text": [
      "RF: wt_adn\n"
     ]
    },
    {
     "name": "stderr",
     "output_type": "stream",
     "text": [
      "[Parallel(n_jobs=4)]: Done   5 out of   5 | elapsed:    8.3s finished\n",
      "[Parallel(n_jobs=4)]: Using backend LokyBackend with 4 concurrent workers.\n"
     ]
    },
    {
     "name": "stdout",
     "output_type": "stream",
     "text": [
      "RF: wt_dpd\n"
     ]
    },
    {
     "name": "stderr",
     "output_type": "stream",
     "text": [
      "[Parallel(n_jobs=4)]: Done   5 out of   5 | elapsed:    7.6s finished\n",
      "[Parallel(n_jobs=4)]: Using backend LokyBackend with 4 concurrent workers.\n"
     ]
    },
    {
     "name": "stdout",
     "output_type": "stream",
     "text": [
      "RF: wt_fe\n"
     ]
    },
    {
     "name": "stderr",
     "output_type": "stream",
     "text": [
      "[Parallel(n_jobs=4)]: Done   5 out of   5 | elapsed:    7.7s finished\n",
      "[Parallel(n_jobs=4)]: Using backend LokyBackend with 4 concurrent workers.\n"
     ]
    },
    {
     "name": "stdout",
     "output_type": "stream",
     "text": [
      "RF: wt_fru\n"
     ]
    },
    {
     "name": "stderr",
     "output_type": "stream",
     "text": [
      "[Parallel(n_jobs=4)]: Done   5 out of   5 | elapsed:    8.9s finished\n",
      "[Parallel(n_jobs=4)]: Using backend LokyBackend with 4 concurrent workers.\n"
     ]
    },
    {
     "name": "stdout",
     "output_type": "stream",
     "text": [
      "RF: wt_glc\n"
     ]
    },
    {
     "name": "stderr",
     "output_type": "stream",
     "text": [
      "[Parallel(n_jobs=4)]: Done   5 out of   5 | elapsed:    9.4s finished\n",
      "[Parallel(n_jobs=4)]: Using backend LokyBackend with 4 concurrent workers.\n"
     ]
    },
    {
     "name": "stdout",
     "output_type": "stream",
     "text": [
      "RF: wt_glc2\n"
     ]
    },
    {
     "name": "stderr",
     "output_type": "stream",
     "text": [
      "[Parallel(n_jobs=4)]: Done   5 out of   5 | elapsed:    8.2s finished\n",
      "[Parallel(n_jobs=4)]: Using backend LokyBackend with 4 concurrent workers.\n"
     ]
    },
    {
     "name": "stdout",
     "output_type": "stream",
     "text": [
      "RF: wt_glc_anaero\n"
     ]
    },
    {
     "name": "stderr",
     "output_type": "stream",
     "text": [
      "[Parallel(n_jobs=4)]: Done   5 out of   5 | elapsed:    7.8s finished\n",
      "[Parallel(n_jobs=4)]: Using backend LokyBackend with 4 concurrent workers.\n"
     ]
    },
    {
     "name": "stdout",
     "output_type": "stream",
     "text": [
      "RF: wt_glu\n"
     ]
    },
    {
     "name": "stderr",
     "output_type": "stream",
     "text": [
      "[Parallel(n_jobs=4)]: Done   5 out of   5 | elapsed:    8.7s finished\n",
      "[Parallel(n_jobs=4)]: Using backend LokyBackend with 4 concurrent workers.\n"
     ]
    },
    {
     "name": "stdout",
     "output_type": "stream",
     "text": [
      "RF: wt_gly\n"
     ]
    },
    {
     "name": "stderr",
     "output_type": "stream",
     "text": [
      "[Parallel(n_jobs=4)]: Done   5 out of   5 | elapsed:    8.0s finished\n",
      "[Parallel(n_jobs=4)]: Using backend LokyBackend with 4 concurrent workers.\n"
     ]
    },
    {
     "name": "stdout",
     "output_type": "stream",
     "text": [
      "RF: wt_glyc\n"
     ]
    },
    {
     "name": "stderr",
     "output_type": "stream",
     "text": [
      "[Parallel(n_jobs=4)]: Done   5 out of   5 | elapsed:    7.5s finished\n",
      "[Parallel(n_jobs=4)]: Using backend LokyBackend with 4 concurrent workers.\n"
     ]
    },
    {
     "name": "stdout",
     "output_type": "stream",
     "text": [
      "RF: wt_h2o2\n"
     ]
    },
    {
     "name": "stderr",
     "output_type": "stream",
     "text": [
      "[Parallel(n_jobs=4)]: Done   5 out of   5 | elapsed:    7.5s finished\n",
      "[Parallel(n_jobs=4)]: Using backend LokyBackend with 4 concurrent workers.\n"
     ]
    },
    {
     "name": "stdout",
     "output_type": "stream",
     "text": [
      "RF: wt_nacl\n"
     ]
    },
    {
     "name": "stderr",
     "output_type": "stream",
     "text": [
      "[Parallel(n_jobs=4)]: Done   5 out of   5 | elapsed:    7.6s finished\n",
      "[Parallel(n_jobs=4)]: Using backend LokyBackend with 4 concurrent workers.\n"
     ]
    },
    {
     "name": "stdout",
     "output_type": "stream",
     "text": [
      "RF: wt_no_te\n"
     ]
    },
    {
     "name": "stderr",
     "output_type": "stream",
     "text": [
      "[Parallel(n_jobs=4)]: Done   5 out of   5 | elapsed:    7.7s finished\n",
      "[Parallel(n_jobs=4)]: Using backend LokyBackend with 4 concurrent workers.\n"
     ]
    },
    {
     "name": "stdout",
     "output_type": "stream",
     "text": [
      "RF: wt_pH7_lactate\n"
     ]
    },
    {
     "name": "stderr",
     "output_type": "stream",
     "text": [
      "[Parallel(n_jobs=4)]: Done   5 out of   5 | elapsed:    7.7s finished\n",
      "[Parallel(n_jobs=4)]: Using backend LokyBackend with 4 concurrent workers.\n"
     ]
    },
    {
     "name": "stdout",
     "output_type": "stream",
     "text": [
      "RF: wt_pq\n"
     ]
    },
    {
     "name": "stderr",
     "output_type": "stream",
     "text": [
      "[Parallel(n_jobs=4)]: Done   5 out of   5 | elapsed:    7.6s finished\n",
      "[Parallel(n_jobs=4)]: Using backend LokyBackend with 4 concurrent workers.\n"
     ]
    },
    {
     "name": "stdout",
     "output_type": "stream",
     "text": [
      "RF: wt_thr\n"
     ]
    },
    {
     "name": "stderr",
     "output_type": "stream",
     "text": [
      "[Parallel(n_jobs=4)]: Done   5 out of   5 | elapsed:    7.5s finished\n",
      "[Parallel(n_jobs=4)]: Using backend LokyBackend with 4 concurrent workers.\n"
     ]
    },
    {
     "name": "stdout",
     "output_type": "stream",
     "text": [
      "RF: wt_trp\n"
     ]
    },
    {
     "name": "stderr",
     "output_type": "stream",
     "text": [
      "[Parallel(n_jobs=4)]: Done   5 out of   5 | elapsed:    7.5s finished\n",
      "[Parallel(n_jobs=4)]: Using backend LokyBackend with 4 concurrent workers.\n"
     ]
    },
    {
     "name": "stdout",
     "output_type": "stream",
     "text": [
      "RF: wt_xyl\n"
     ]
    },
    {
     "name": "stderr",
     "output_type": "stream",
     "text": [
      "[Parallel(n_jobs=4)]: Done   5 out of   5 | elapsed:    7.5s finished\n"
     ]
    }
   ],
   "source": [
    "result_df = pd.DataFrame(\n",
    "    columns=['model', 'xy', 'train_r2', 'val_r2']\n",
    ")\n",
    "\n",
    "N_CV = 5\n",
    "\n",
    "for model_name, model in models_to_try.items():\n",
    "    print(f'{model_name}')\n",
    "    \n",
    "    for X_name, (X, y_to_use) in Xy_to_try.items():\n",
    "        print(f'{model_name}: {X_name}')\n",
    "        \n",
    "        cv_result = cross_validate(\n",
    "            model,\n",
    "            X,\n",
    "            y=y_to_use,\n",
    "            cv=N_CV,\n",
    "            scoring='r2',\n",
    "            return_train_score=True,\n",
    "            verbose=1,\n",
    "            n_jobs=4\n",
    "        )\n",
    "\n",
    "        sub_result_df = pd.DataFrame(\n",
    "            data={\n",
    "                'model': [model_name] * N_CV,\n",
    "                'xy': [X_name] * N_CV,\n",
    "                'train_r2': cv_result['train_score'],\n",
    "                'val_r2': cv_result['test_score']\n",
    "            }\n",
    "        )\n",
    "\n",
    "        result_df = result_df.append(sub_result_df)"
   ]
  },
  {
   "cell_type": "code",
   "execution_count": 46,
   "metadata": {},
   "outputs": [
    {
     "name": "stderr",
     "output_type": "stream",
     "text": [
      "No handles with labels found to put in legend.\n"
     ]
    },
    {
     "data": {
      "image/png": "[encoded data removed]",
      "text/plain": [
       "<Figure size 720x360 with 1 Axes>"
      ]
     },
     "metadata": {
      "needs_background": "light"
     },
     "output_type": "display_data"
    }
   ],
   "source": [
    "_, ax = plt.subplots(figsize=(10, 5))\n",
    "sns.pointplot(x='xy', y='train_r2', data=result_df.sort_values(by='train_r2'), dodge=True, ax=ax, join=False)\n",
    "ax.legend(loc='center left', bbox_to_anchor=(1.05, 0.5))\n",
    "ax.tick_params(axis='x', rotation=75)"
   ]
  },
  {
   "cell_type": "code",
   "execution_count": 48,
   "metadata": {},
   "outputs": [
    {
     "name": "stderr",
     "output_type": "stream",
     "text": [
      "No handles with labels found to put in legend.\n"
     ]
    },
    {
     "data": {
      "image/png": "[encoded data removed]",
      "text/plain": [
       "<Figure size 720x360 with 1 Axes>"
      ]
     },
     "metadata": {
      "needs_background": "light"
     },
     "output_type": "display_data"
    }
   ],
   "source": [
    "_, ax = plt.subplots(figsize=(10, 5))\n",
    "sns.pointplot(x='xy', y='val_r2', data=result_df.sort_values(by='train_r2'), dodge=True, join=False, ax=ax)\n",
    "ax.legend(loc='center left', bbox_to_anchor=(1.05, 0.5))\n",
    "ax.tick_params(axis='x', rotation=75)"
   ]
  },
  {
   "cell_type": "code",
   "execution_count": 28,
   "metadata": {},
   "outputs": [],
   "source": [
    "pd.set_option('display.max_columns', 500)"
   ]
  },
  {
   "cell_type": "code",
   "execution_count": 29,
   "metadata": {},
   "outputs": [
    {
     "data": {
      "text/html": [
       "<div>\n",
       "<style scoped>\n",
       "    .dataframe tbody tr th:only-of-type {\n",
       "        vertical-align: middle;\n",
       "    }\n",
       "\n",
       "    .dataframe tbody tr th {\n",
       "        vertical-align: top;\n",
       "    }\n",
       "\n",
       "    .dataframe thead th {\n",
       "        text-align: right;\n",
       "    }\n",
       "</style>\n",
       "<table border=\"1\" class=\"dataframe\">\n",
       "  <thead>\n",
       "    <tr style=\"text-align: right;\">\n",
       "      <th></th>\n",
       "      <th>sample_id</th>\n",
       "      <th>study</th>\n",
       "      <th>project_id</th>\n",
       "      <th>condition_id</th>\n",
       "      <th>rep_id</th>\n",
       "      <th>contact</th>\n",
       "      <th>creator</th>\n",
       "      <th>run_date</th>\n",
       "      <th>Strain Description</th>\n",
       "      <th>Strain</th>\n",
       "      <th>Base Media</th>\n",
       "      <th>Carbon Source (g/L)</th>\n",
       "      <th>Nitrogen Source (g/L)</th>\n",
       "      <th>Electron Acceptor</th>\n",
       "      <th>Trace Element Mixture</th>\n",
       "      <th>Supplement</th>\n",
       "      <th>Temperature (C)</th>\n",
       "      <th>pH</th>\n",
       "      <th>Antibiotic for selection</th>\n",
       "      <th>Culture Type</th>\n",
       "      <th>Growth Rate (1/hr)</th>\n",
       "      <th>Evolved Sample</th>\n",
       "      <th>Isolate Type</th>\n",
       "      <th>Sequencing Machine</th>\n",
       "      <th>Additional Details</th>\n",
       "      <th>Biological Replicates</th>\n",
       "      <th>R1</th>\n",
       "      <th>R2</th>\n",
       "      <th>BAM</th>\n",
       "      <th>alignment</th>\n",
       "      <th>DOI</th>\n",
       "      <th>GEO</th>\n",
       "      <th>Published</th>\n",
       "      <th>SRX</th>\n",
       "      <th>Run</th>\n",
       "      <th>Notes</th>\n",
       "      <th>LibraryLayout</th>\n",
       "      <th>Platform</th>\n",
       "      <th>passed_fastqc</th>\n",
       "      <th>passed_pct_reads_mapped</th>\n",
       "      <th>passed_reads_mapped_to_CDS</th>\n",
       "      <th>passed_global_correlation</th>\n",
       "      <th>full_name</th>\n",
       "      <th>passed_similar_replicates</th>\n",
       "      <th>passed_number_replicates</th>\n",
       "    </tr>\n",
       "  </thead>\n",
       "  <tbody>\n",
       "    <tr>\n",
       "      <th>ecoli_00181</th>\n",
       "      <td>ica__met_glc__1</td>\n",
       "      <td>ICA</td>\n",
       "      <td>ica</td>\n",
       "      <td>met_glc</td>\n",
       "      <td>1</td>\n",
       "      <td>Anand Sastry</td>\n",
       "      <td>Ying Hefner</td>\n",
       "      <td>12/10/17</td>\n",
       "      <td>Escherichia coli K-12 MG1655</td>\n",
       "      <td>MG1655</td>\n",
       "      <td>M9</td>\n",
       "      <td>glucose(2)</td>\n",
       "      <td>NH4Cl(1)</td>\n",
       "      <td>O2</td>\n",
       "      <td>sauer trace element mixture</td>\n",
       "      <td>methionine (5mM)</td>\n",
       "      <td>37</td>\n",
       "      <td>7.0</td>\n",
       "      <td>NaN</td>\n",
       "      <td>Batch</td>\n",
       "      <td>0.74</td>\n",
       "      <td>No</td>\n",
       "      <td>NaN</td>\n",
       "      <td>HiSeq 4000</td>\n",
       "      <td>NaN</td>\n",
       "      <td>2</td>\n",
       "      <td>NaN</td>\n",
       "      <td>NaN</td>\n",
       "      <td>ica__met_glc__1.bam</td>\n",
       "      <td>95.45</td>\n",
       "      <td>NaN</td>\n",
       "      <td>GSE122295</td>\n",
       "      <td>1.0</td>\n",
       "      <td>SRX4993792</td>\n",
       "      <td>SRR8173239</td>\n",
       "      <td>NaN</td>\n",
       "      <td>PAIRED</td>\n",
       "      <td>ILLUMINA</td>\n",
       "      <td>True</td>\n",
       "      <td>True</td>\n",
       "      <td>True</td>\n",
       "      <td>True</td>\n",
       "      <td>ica:met_glc</td>\n",
       "      <td>True</td>\n",
       "      <td>True</td>\n",
       "    </tr>\n",
       "    <tr>\n",
       "      <th>ecoli_00182</th>\n",
       "      <td>ica__met_glc__2</td>\n",
       "      <td>ICA</td>\n",
       "      <td>ica</td>\n",
       "      <td>met_glc</td>\n",
       "      <td>2</td>\n",
       "      <td>Anand Sastry</td>\n",
       "      <td>Ying Hefner</td>\n",
       "      <td>12/10/17</td>\n",
       "      <td>Escherichia coli K-12 MG1655</td>\n",
       "      <td>MG1655</td>\n",
       "      <td>M9</td>\n",
       "      <td>glucose(2)</td>\n",
       "      <td>NH4Cl(1)</td>\n",
       "      <td>O2</td>\n",
       "      <td>sauer trace element mixture</td>\n",
       "      <td>methionine (5mM)</td>\n",
       "      <td>37</td>\n",
       "      <td>7.0</td>\n",
       "      <td>NaN</td>\n",
       "      <td>Batch</td>\n",
       "      <td>0.74</td>\n",
       "      <td>No</td>\n",
       "      <td>NaN</td>\n",
       "      <td>HiSeq 4000</td>\n",
       "      <td>NaN</td>\n",
       "      <td>2</td>\n",
       "      <td>NaN</td>\n",
       "      <td>NaN</td>\n",
       "      <td>ica__met_glc__2.bam</td>\n",
       "      <td>95.65</td>\n",
       "      <td>NaN</td>\n",
       "      <td>GSE122295</td>\n",
       "      <td>1.0</td>\n",
       "      <td>SRX4993793</td>\n",
       "      <td>SRR8173240</td>\n",
       "      <td>NaN</td>\n",
       "      <td>PAIRED</td>\n",
       "      <td>ILLUMINA</td>\n",
       "      <td>True</td>\n",
       "      <td>True</td>\n",
       "      <td>True</td>\n",
       "      <td>True</td>\n",
       "      <td>ica:met_glc</td>\n",
       "      <td>True</td>\n",
       "      <td>True</td>\n",
       "    </tr>\n",
       "  </tbody>\n",
       "</table>\n",
       "</div>"
      ],
      "text/plain": [
       "                   sample_id study project_id condition_id  rep_id  \\\n",
       "ecoli_00181  ica__met_glc__1   ICA        ica      met_glc       1   \n",
       "ecoli_00182  ica__met_glc__2   ICA        ica      met_glc       2   \n",
       "\n",
       "                  contact      creator  run_date  \\\n",
       "ecoli_00181  Anand Sastry  Ying Hefner  12/10/17   \n",
       "ecoli_00182  Anand Sastry  Ying Hefner  12/10/17   \n",
       "\n",
       "                       Strain Description  Strain Base Media  \\\n",
       "ecoli_00181  Escherichia coli K-12 MG1655  MG1655         M9   \n",
       "ecoli_00182  Escherichia coli K-12 MG1655  MG1655         M9   \n",
       "\n",
       "            Carbon Source (g/L) Nitrogen Source (g/L) Electron Acceptor  \\\n",
       "ecoli_00181          glucose(2)              NH4Cl(1)                O2   \n",
       "ecoli_00182          glucose(2)              NH4Cl(1)                O2   \n",
       "\n",
       "                   Trace Element Mixture        Supplement  Temperature (C)  \\\n",
       "ecoli_00181  sauer trace element mixture  methionine (5mM)               37   \n",
       "ecoli_00182  sauer trace element mixture  methionine (5mM)               37   \n",
       "\n",
       "              pH Antibiotic for selection Culture Type  Growth Rate (1/hr)  \\\n",
       "ecoli_00181  7.0                      NaN        Batch                0.74   \n",
       "ecoli_00182  7.0                      NaN        Batch                0.74   \n",
       "\n",
       "            Evolved Sample Isolate Type Sequencing Machine Additional Details  \\\n",
       "ecoli_00181             No          NaN         HiSeq 4000                NaN   \n",
       "ecoli_00182             No          NaN         HiSeq 4000                NaN   \n",
       "\n",
       "             Biological Replicates   R1   R2                  BAM  alignment  \\\n",
       "ecoli_00181                      2  NaN  NaN  ica__met_glc__1.bam      95.45   \n",
       "ecoli_00182                      2  NaN  NaN  ica__met_glc__2.bam      95.65   \n",
       "\n",
       "             DOI        GEO  Published         SRX         Run Notes  \\\n",
       "ecoli_00181  NaN  GSE122295        1.0  SRX4993792  SRR8173239   NaN   \n",
       "ecoli_00182  NaN  GSE122295        1.0  SRX4993793  SRR8173240   NaN   \n",
       "\n",
       "            LibraryLayout  Platform  passed_fastqc  passed_pct_reads_mapped  \\\n",
       "ecoli_00181        PAIRED  ILLUMINA           True                     True   \n",
       "ecoli_00182        PAIRED  ILLUMINA           True                     True   \n",
       "\n",
       "             passed_reads_mapped_to_CDS  passed_global_correlation  \\\n",
       "ecoli_00181                        True                       True   \n",
       "ecoli_00182                        True                       True   \n",
       "\n",
       "               full_name  passed_similar_replicates  passed_number_replicates  \n",
       "ecoli_00181  ica:met_glc                       True                      True  \n",
       "ecoli_00182  ica:met_glc                       True                      True  "
      ]
     },
     "execution_count": 29,
     "metadata": {},
     "output_type": "execute_result"
    }
   ],
   "source": [
    "metadata_df[metadata_df['condition_id'] == 'met_glc']"
   ]
  },
  {
   "cell_type": "code",
   "execution_count": null,
   "metadata": {},
   "outputs": [],
   "source": []
  }
 ],
 "metadata": {
  "kernelspec": {
   "display_name": "Python 3",
   "language": "python",
   "name": "python3"
  },
  "language_info": {
   "codemirror_mode": {
    "name": "ipython",
    "version": 3
   },
   "file_extension": ".py",
   "mimetype": "text/x-python",
   "name": "python",
   "nbconvert_exporter": "python",
   "pygments_lexer": "ipython3",
   "version": "3.8.5"
  },
  "toc": {
   "base_numbering": 1,
   "nav_menu": {},
   "number_sections": true,
   "sideBar": true,
   "skip_h1_title": false,
   "title_cell": "Table of Contents",
   "title_sidebar": "Contents",
   "toc_cell": false,
   "toc_position": {},
   "toc_section_display": true,
   "toc_window_display": true
  }
 },
 "nbformat": 4,
 "nbformat_minor": 4
}
