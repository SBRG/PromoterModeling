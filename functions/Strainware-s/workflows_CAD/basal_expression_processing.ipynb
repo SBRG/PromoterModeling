{
 "cells": [
  {
   "cell_type": "markdown",
   "metadata": {},
   "source": [
    "# Modeling Basal Expression with ICA"
   ]
  },
  {
   "cell_type": "markdown",
   "metadata": {},
   "source": [
    "## Import Packages"
   ]
  },
  {
   "cell_type": "code",
   "execution_count": 1,
   "metadata": {},
   "outputs": [],
   "source": [
    "from pathlib import Path\n",
    "import sys\n",
    "\n",
    "import matplotlib.pyplot as plt\n",
    "import numpy as np\n",
    "import pandas as pd\n",
    "import seaborn as sns\n",
    "\n",
    "sys.path.append('../bitome-kb')\n",
    "from bitome.core import Bitome"
   ]
  },
  {
   "cell_type": "markdown",
   "metadata": {},
   "source": [
    "## Load Data"
   ]
  },
  {
   "cell_type": "code",
   "execution_count": 2,
   "metadata": {},
   "outputs": [],
   "source": [
    "bitome = Bitome.init_from_file('../bitome-kb/bitome.pkl')"
   ]
  },
  {
   "cell_type": "code",
   "execution_count": 3,
   "metadata": {},
   "outputs": [],
   "source": [
    "DATA_PATH = Path('data/precise2')"
   ]
  },
  {
   "cell_type": "code",
   "execution_count": 4,
   "metadata": {},
   "outputs": [],
   "source": [
    "S = pd.read_csv(Path(DATA_PATH, 'S.csv'), index_col=0)\n",
    "S_binarized = pd.read_csv(Path(DATA_PATH, 'S_binarized.csv'), index_col=0)\n",
    "A = pd.read_csv(Path(DATA_PATH, 'A.csv'), index_col=0)\n",
    "metadata = pd.read_csv(Path(DATA_PATH, 'metadata_qc.csv'), index_col=0)\n",
    "component_info = pd.read_csv(Path(DATA_PATH, 'component_info.csv'), index_col=0)\n",
    "log_tpm = pd.read_csv(Path(DATA_PATH, 'log_tpm_qc.csv'), index_col=0)\n",
    "gene_info = pd.read_csv(Path(DATA_PATH, 'gene_info.csv'), index_col=0)\n",
    "gene_info.loc[:, 'length'] = gene_info['end'] - gene_info['start']\n",
    "\n",
    "S.columns = component_info['name']\n",
    "A.index = component_info['name']"
   ]
  },
  {
   "cell_type": "code",
   "execution_count": 12,
   "metadata": {},
   "outputs": [],
   "source": [
    "wt_index = metadata[\n",
    "    (metadata['Strain Description'] == 'Escherichia coli K-12 MG1655') &\n",
    "    (metadata['Base Media'] == 'M9') & \n",
    "    (metadata['pH'] == 7.0) & \n",
    "    (metadata['Temperature (C)'] == 37) &\n",
    "    (metadata['project_id'] != 'abx_media')\n",
    "].index\n",
    "\n",
    "log_tpm_wt = log_tpm[wt_index]\n",
    "A_wt = A[wt_index]"
   ]
  },
  {
   "cell_type": "markdown",
   "metadata": {},
   "source": [
    "## Compute Basal Expression\n",
    "\n",
    "- For each iModulon, linearly normalize its activity vector so that the minimum value is zero\n",
    "- then left-multiply that A matrix (A_star) with the S matrix to get expression_adjustment, or log[TPM] due to regulation\n",
    "- then subtract that expression adjustment from the original expression data to get basal expression"
   ]
  },
  {
   "cell_type": "code",
   "execution_count": 9,
   "metadata": {},
   "outputs": [],
   "source": [
    "A_star = A_wt.subtract(A_wt.min(axis=1), axis=0)"
   ]
  },
  {
   "cell_type": "code",
   "execution_count": 10,
   "metadata": {},
   "outputs": [],
   "source": [
    "X_trn = np.dot(S, A_star)"
   ]
  },
  {
   "cell_type": "code",
   "execution_count": 13,
   "metadata": {},
   "outputs": [],
   "source": [
    "X_basal = log_tpm_wt - X_trn"
   ]
  },
  {
   "cell_type": "markdown",
   "metadata": {},
   "source": [
    "## Validation: Compare Variance of Gene Expressions Before/After Basal Computation\n",
    "\n",
    "We expect that the basal expression will have lower variance"
   ]
  },
  {
   "cell_type": "code",
   "execution_count": 15,
   "metadata": {},
   "outputs": [],
   "source": [
    "cv_X = log_tpm.std(axis=1)\n",
    "cv_basal = X_basal.std(axis=1)"
   ]
  },
  {
   "cell_type": "code",
   "execution_count": 16,
   "metadata": {},
   "outputs": [
    {
     "name": "stderr",
     "output_type": "stream",
     "text": [
      "/Users/cam/.virtualenvs/strainware/lib/python3.8/site-packages/seaborn/distributions.py:2551: FutureWarning: `distplot` is a deprecated function and will be removed in a future version. Please adapt your code to use either `displot` (a figure-level function with similar flexibility) or `histplot` (an axes-level function for histograms).\n",
      "  warnings.warn(msg, FutureWarning)\n"
     ]
    },
    {
     "data": {
      "text/plain": [
       "<matplotlib.legend.Legend at 0x121236a60>"
      ]
     },
     "execution_count": 16,
     "metadata": {},
     "output_type": "execute_result"
    },
    {
     "data": {
      "image/png": "[encoded data removed]",
      "text/plain": [
       "<Figure size 432x288 with 1 Axes>"
      ]
     },
     "metadata": {
      "needs_background": "light"
     },
     "output_type": "display_data"
    }
   ],
   "source": [
    "_, ax = plt.subplots()\n",
    "sns.distplot(cv_X, label='X', kde=False)\n",
    "sns.distplot(cv_basal, label='X_basal', kde=False)\n",
    "ax.set_xlabel('Standard Deviation (log[TPM])', fontsize=13)\n",
    "ax.set_ylabel('Count', fontsize=13)\n",
    "ax.tick_params(axis='both', labelsize=12)\n",
    "ax.legend()"
   ]
  },
  {
   "cell_type": "markdown",
   "metadata": {},
   "source": [
    "## Mean Basal Expression Distribution"
   ]
  },
  {
   "cell_type": "code",
   "execution_count": 17,
   "metadata": {},
   "outputs": [
    {
     "data": {
      "image/png": "[encoded data removed]",
      "text/plain": [
       "<Figure size 432x288 with 1 Axes>"
      ]
     },
     "metadata": {
      "needs_background": "light"
     },
     "output_type": "display_data"
    }
   ],
   "source": [
    "_, ax = plt.subplots()\n",
    "ax.hist(X_basal.mean(axis=1))\n",
    "ax.set_xlabel('Basal Expression (log[TPM])', fontsize=13)\n",
    "ax.set_ylabel('Count', fontsize=13)\n",
    "ax.tick_params(axis='both', labelsize=12)"
   ]
  },
  {
   "cell_type": "markdown",
   "metadata": {},
   "source": [
    "## Understanding Negative Basal Expression"
   ]
  },
  {
   "cell_type": "code",
   "execution_count": 18,
   "metadata": {},
   "outputs": [],
   "source": [
    "mean_basal_neg = X_basal.mean(axis=1)[X_basal.mean(axis=1) < -1].sort_values()"
   ]
  },
  {
   "cell_type": "code",
   "execution_count": 19,
   "metadata": {},
   "outputs": [
    {
     "name": "stderr",
     "output_type": "stream",
     "text": [
      "/Users/cam/.virtualenvs/strainware/lib/python3.8/site-packages/seaborn/distributions.py:2551: FutureWarning: `distplot` is a deprecated function and will be removed in a future version. Please adapt your code to use either `displot` (a figure-level function with similar flexibility) or `histplot` (an axes-level function for histograms).\n",
      "  warnings.warn(msg, FutureWarning)\n"
     ]
    },
    {
     "data": {
      "text/plain": [
       "<matplotlib.legend.Legend at 0x1218c0940>"
      ]
     },
     "execution_count": 19,
     "metadata": {},
     "output_type": "execute_result"
    },
    {
     "data": {
      "image/png": "[encoded data removed]",
      "text/plain": [
       "<Figure size 432x288 with 1 Axes>"
      ]
     },
     "metadata": {
      "needs_background": "light"
     },
     "output_type": "display_data"
    }
   ],
   "source": [
    "_, ax = plt.subplots()\n",
    "sns.distplot(gene_info.loc[mean_basal_neg.index]['length'], label='Basal < -1', ax=ax, kde=False)\n",
    "sns.distplot(gene_info.drop(index=mean_basal_neg.index)['length'], label='Basal > -1', ax=ax, kde=False, color='red')\n",
    "ax.axvline(gene_info.loc[mean_basal_neg.index]['length'].median())\n",
    "ax.axvline(gene_info.drop(index=mean_basal_neg.index)['length'].median(), color='red')\n",
    "ax.set_xlabel('Gene Length')\n",
    "ax.set_ylabel('Count')\n",
    "ax.legend()"
   ]
  },
  {
   "cell_type": "markdown",
   "metadata": {},
   "source": [
    "So it looks like on average, the negative basal expression genes are much shorter than the other genes; perhaps noise due to short genes is a contributor to ending up with negative basal expression\n",
    "\n",
    "Let's take a look at the most negative basal expressions:"
   ]
  },
  {
   "cell_type": "code",
   "execution_count": 20,
   "metadata": {},
   "outputs": [
    {
     "data": {
      "text/plain": [
       "Geneid\n",
       "b4601   -4.852013\n",
       "b4632   -4.761806\n",
       "b4748   -4.315398\n",
       "b4749   -4.282938\n",
       "b4666   -4.186377\n",
       "b1348   -3.913291\n",
       "b4671   -3.729024\n",
       "b4638   -3.508610\n",
       "b4722   -3.380230\n",
       "b0734   -3.102383\n",
       "dtype: float64"
      ]
     },
     "execution_count": 20,
     "metadata": {},
     "output_type": "execute_result"
    }
   ],
   "source": [
    "mean_basal_neg.iloc[:10, ]"
   ]
  },
  {
   "cell_type": "markdown",
   "metadata": {},
   "source": [
    "b0593 is entC: let's see which iModulons contribute the most to the expression adjustments being so large, and thus the basal expressions being so negative:"
   ]
  },
  {
   "cell_type": "code",
   "execution_count": 21,
   "metadata": {},
   "outputs": [
    {
     "data": {
      "image/png": "[encoded data removed]",
      "text/plain": [
       "<Figure size 432x288 with 1 Axes>"
      ]
     },
     "metadata": {
      "needs_background": "light"
     },
     "output_type": "display_data"
    }
   ],
   "source": [
    "entc_glucose = S.loc['b0593', :].values * A_star.iloc[:, 0].values\n",
    "_, ax = plt.subplots()\n",
    "ax.hist(entc_glucose)\n",
    "ax.set_xlabel('Expression Adjustment (log[TPM])', fontsize=13)\n",
    "ax.set_ylabel('iM Count', fontsize=13)\n",
    "ax.tick_params(axis='both', labelsize=12)"
   ]
  },
  {
   "cell_type": "code",
   "execution_count": 22,
   "metadata": {},
   "outputs": [
    {
     "data": {
      "text/plain": [
       "Index(['Fur-1', 'Fur-2', 'entC-KO'], dtype='object', name='name')"
      ]
     },
     "execution_count": 22,
     "metadata": {},
     "output_type": "execute_result"
    }
   ],
   "source": [
    "S.columns[np.where(entc_glucose > 2)[0]]"
   ]
  },
  {
   "cell_type": "markdown",
   "metadata": {},
   "source": [
    "Interestingly, the big contributors to high entC expression adjustments are iModulons that entC is in, especially the KO...is the KO flipped?\n",
    "\n",
    "So at this point, let's try just using the regulatory iModulons and repeating everything"
   ]
  },
  {
   "cell_type": "markdown",
   "metadata": {},
   "source": [
    "## Repeating the Above, excluding KO and SG iModulons"
   ]
  },
  {
   "cell_type": "code",
   "execution_count": 23,
   "metadata": {},
   "outputs": [],
   "source": [
    "ims_to_keep = component_info[\n",
    "    ~component_info['name'].str.contains('KO|SG|BW|deletion|INS|repair|duplication|prophage|uncharacterized')\n",
    "]['name']\n",
    "\n",
    "S_reg = S[ims_to_keep]\n",
    "A_reg = A_wt.loc[ims_to_keep]"
   ]
  },
  {
   "cell_type": "markdown",
   "metadata": {},
   "source": [
    "### Compute Basal Expression"
   ]
  },
  {
   "cell_type": "code",
   "execution_count": 24,
   "metadata": {},
   "outputs": [],
   "source": [
    "A_star_reg = A_reg.subtract(A_reg.min(axis=1), axis=0)"
   ]
  },
  {
   "cell_type": "code",
   "execution_count": 26,
   "metadata": {},
   "outputs": [],
   "source": [
    "X_trn_reg = pd.DataFrame(np.dot(S_reg, A_star_reg), index=log_tpm_wt.index, columns=log_tpm_wt.columns)"
   ]
  },
  {
   "cell_type": "code",
   "execution_count": 27,
   "metadata": {},
   "outputs": [],
   "source": [
    "X_basal_reg = log_tpm_wt - X_trn_reg"
   ]
  },
  {
   "cell_type": "markdown",
   "metadata": {},
   "source": [
    "### Check CV of Basal Expression"
   ]
  },
  {
   "cell_type": "code",
   "execution_count": 28,
   "metadata": {},
   "outputs": [
    {
     "name": "stderr",
     "output_type": "stream",
     "text": [
      "/Users/cam/.virtualenvs/strainware/lib/python3.8/site-packages/seaborn/distributions.py:2551: FutureWarning: `distplot` is a deprecated function and will be removed in a future version. Please adapt your code to use either `displot` (a figure-level function with similar flexibility) or `histplot` (an axes-level function for histograms).\n",
      "  warnings.warn(msg, FutureWarning)\n"
     ]
    },
    {
     "data": {
      "text/plain": [
       "<matplotlib.legend.Legend at 0x123a88ee0>"
      ]
     },
     "execution_count": 28,
     "metadata": {},
     "output_type": "execute_result"
    },
    {
     "data": {
      "image/png": "[encoded data removed]",
      "text/plain": [
       "<Figure size 432x288 with 1 Axes>"
      ]
     },
     "metadata": {
      "needs_background": "light"
     },
     "output_type": "display_data"
    }
   ],
   "source": [
    "cv_basal_reg = X_basal_reg.std(axis=1)\n",
    "\n",
    "_, ax = plt.subplots()\n",
    "sns.distplot(cv_X, label='X', kde=False)\n",
    "sns.distplot(cv_basal_reg, label='X_basal', kde=False)\n",
    "ax.set_xlabel('Standard Deviation (log[TPM])', fontsize=13)\n",
    "ax.set_ylabel('Count', fontsize=13)\n",
    "ax.tick_params(axis='both', labelsize=12)\n",
    "ax.legend()"
   ]
  },
  {
   "cell_type": "markdown",
   "metadata": {},
   "source": [
    "### Check Mean Basal Expressions"
   ]
  },
  {
   "cell_type": "code",
   "execution_count": 29,
   "metadata": {},
   "outputs": [
    {
     "data": {
      "image/png": "[encoded data removed]",
      "text/plain": [
       "<Figure size 432x288 with 1 Axes>"
      ]
     },
     "metadata": {
      "needs_background": "light"
     },
     "output_type": "display_data"
    }
   ],
   "source": [
    "_, ax = plt.subplots()\n",
    "ax.hist(X_basal_reg.mean(axis=1))\n",
    "ax.set_xlabel('Basal Expression (log[TPM])', fontsize=13)\n",
    "ax.set_ylabel('Count', fontsize=13)\n",
    "ax.tick_params(axis='both', labelsize=12)"
   ]
  },
  {
   "cell_type": "markdown",
   "metadata": {},
   "source": [
    "### Investigate Negative Basal Expressions"
   ]
  },
  {
   "cell_type": "code",
   "execution_count": 30,
   "metadata": {},
   "outputs": [
    {
     "name": "stderr",
     "output_type": "stream",
     "text": [
      "/Users/cam/.virtualenvs/strainware/lib/python3.8/site-packages/seaborn/distributions.py:2551: FutureWarning: `distplot` is a deprecated function and will be removed in a future version. Please adapt your code to use either `displot` (a figure-level function with similar flexibility) or `histplot` (an axes-level function for histograms).\n",
      "  warnings.warn(msg, FutureWarning)\n"
     ]
    },
    {
     "data": {
      "text/plain": [
       "<matplotlib.legend.Legend at 0x12475c490>"
      ]
     },
     "execution_count": 30,
     "metadata": {},
     "output_type": "execute_result"
    },
    {
     "data": {
      "image/png": "[encoded data removed]",
      "text/plain": [
       "<Figure size 432x288 with 1 Axes>"
      ]
     },
     "metadata": {
      "needs_background": "light"
     },
     "output_type": "display_data"
    }
   ],
   "source": [
    "mean_basal_neg_reg = X_basal_reg.mean(axis=1)[X_basal_reg.mean(axis=1) < 0].sort_values()\n",
    "\n",
    "_, ax = plt.subplots()\n",
    "sns.distplot(gene_info.loc[mean_basal_neg_reg.index]['length'], label='Basal < 0', ax=ax, kde=False)\n",
    "sns.distplot(gene_info.drop(index=mean_basal_neg_reg.index)['length'], label='Basal > 0', ax=ax, kde=False, color='red')\n",
    "ax.axvline(gene_info.loc[mean_basal_neg_reg.index]['length'].median())\n",
    "ax.axvline(gene_info.drop(index=mean_basal_neg_reg.index)['length'].median(), color='red')\n",
    "ax.set_xlabel('Gene Length')\n",
    "ax.set_ylabel('Count')\n",
    "ax.legend()"
   ]
  },
  {
   "cell_type": "markdown",
   "metadata": {},
   "source": [
    "Okay, so we'd say we're happy with this result, more things seem to be above 0 but we're still getting a solid reduction in variance across the board. Let's try to do more validation on the non-genomic-alterations basal expression"
   ]
  },
  {
   "cell_type": "markdown",
   "metadata": {},
   "source": [
    "## Validation: Compare Changed Expression in Clear Activator/Repressor Cases"
   ]
  },
  {
   "cell_type": "code",
   "execution_count": 31,
   "metadata": {},
   "outputs": [],
   "source": [
    "locus_tag_to_name = dict(zip(gene_info.index, gene_info['gene_name']))"
   ]
  },
  {
   "cell_type": "code",
   "execution_count": 32,
   "metadata": {},
   "outputs": [],
   "source": [
    "def iM_expression_adjustments(iM, figsize=(8, 5)):\n",
    "\n",
    "    X_trn_im = pd.DataFrame(columns=['gene', 'adjust'])\n",
    "\n",
    "    iM_locus_tags = S_binarized[S_binarized[iM] == 1].index\n",
    "\n",
    "    for tag in iM_locus_tags:\n",
    "        gene_name = locus_tag_to_name[tag]\n",
    "        adjusts = (S_reg.loc[tag, iM] * A_star_reg.loc[iM, :].values) * -1\n",
    "        X_trn_im = X_trn_im.append(pd.DataFrame(data={'gene': gene_name, 'adjust': adjusts}))\n",
    "\n",
    "    _, ax = plt.subplots(figsize=figsize)\n",
    "    sns.boxplot(x='gene', y='adjust', data=X_trn_im)\n",
    "    ax.set_xlabel('')\n",
    "    ax.set_ylabel(f'{iM} Exp Adjust ([log[TPM])', fontsize=13)\n",
    "    ax.tick_params(axis='both', labelsize=12)\n",
    "    ax.axhline(0, linestyle='--', color='gray')"
   ]
  },
  {
   "cell_type": "markdown",
   "metadata": {},
   "source": [
    "### PrpR (Small iModulon/Regulon, Strictly Activates)\n",
    "\n",
    "PrpR should activate expression of prpBCDE and repress its own expression"
   ]
  },
  {
   "cell_type": "code",
   "execution_count": 33,
   "metadata": {},
   "outputs": [
    {
     "data": {
      "image/png": "[encoded data removed]",
      "text/plain": [
       "<Figure size 576x360 with 1 Axes>"
      ]
     },
     "metadata": {
      "needs_background": "light"
     },
     "output_type": "display_data"
    }
   ],
   "source": [
    "iM_expression_adjustments('PrpR')"
   ]
  },
  {
   "cell_type": "markdown",
   "metadata": {},
   "source": [
    "So we see what we expect! The PrpR iModulon's contribution to expression adjustment is to lower the expression of prpBCDE and slightly raise its own expression, counteracting the effect of the regulation. "
   ]
  },
  {
   "cell_type": "markdown",
   "metadata": {},
   "source": [
    "### MalT (Small iModulon/Regulon, Strictly Activates)\n",
    "\n",
    "MalT should activate expression of mal genes"
   ]
  },
  {
   "cell_type": "code",
   "execution_count": 34,
   "metadata": {},
   "outputs": [
    {
     "data": {
      "image/png": "[encoded data removed]",
      "text/plain": [
       "<Figure size 576x360 with 1 Axes>"
      ]
     },
     "metadata": {
      "needs_background": "light"
     },
     "output_type": "display_data"
    }
   ],
   "source": [
    "iM_expression_adjustments('MalT')"
   ]
  },
  {
   "cell_type": "markdown",
   "metadata": {},
   "source": [
    "Also seems to follow the expected pattern; the genes' expressions are down-adjusted to account for MalT activation"
   ]
  },
  {
   "cell_type": "markdown",
   "metadata": {},
   "source": [
    "### LsrR (Small iModulon/Regulon, Strictly Represses)\n",
    "\n",
    "We expect this time to see positive adjustments"
   ]
  },
  {
   "cell_type": "code",
   "execution_count": 35,
   "metadata": {},
   "outputs": [
    {
     "data": {
      "image/png": "[encoded data removed]",
      "text/plain": [
       "<Figure size 576x360 with 1 Axes>"
      ]
     },
     "metadata": {
      "needs_background": "light"
     },
     "output_type": "display_data"
    }
   ],
   "source": [
    "iM_expression_adjustments('LsrR')"
   ]
  },
  {
   "cell_type": "markdown",
   "metadata": {},
   "source": [
    "So this actually had negative adjustments, maybe the signs are wrong in the S vector here"
   ]
  },
  {
   "cell_type": "markdown",
   "metadata": {},
   "source": [
    "### CysB (Medium iModulon/Regulon, Dual Activator)"
   ]
  },
  {
   "cell_type": "code",
   "execution_count": 36,
   "metadata": {},
   "outputs": [
    {
     "data": {
      "image/png": "[encoded data removed]",
      "text/plain": [
       "<Figure size 576x360 with 1 Axes>"
      ]
     },
     "metadata": {
      "needs_background": "light"
     },
     "output_type": "display_data"
    }
   ],
   "source": [
    "iM_expression_adjustments('CysB-1')"
   ]
  },
  {
   "cell_type": "markdown",
   "metadata": {},
   "source": [
    "## Using iModulon Directions"
   ]
  },
  {
   "cell_type": "code",
   "execution_count": 37,
   "metadata": {},
   "outputs": [],
   "source": [
    "im_directions = {\n",
    "    'translation': 1,\n",
    "    'MalT': 1,\n",
    "    'GalR+GalS': -1,\n",
    "    'RhaS': 1,\n",
    "    'FlhDC/FliA': 1,\n",
    "    'CysB-1': 1,\n",
    "    'PurR-1': -1,\n",
    "    'FDH-O': 1,\n",
    "    'GlrR/RpoE': 1,\n",
    "    'TdcA+TdcR/CadC': 1,\n",
    "    'DhaR/Mlc': -1,\n",
    "    'curli': 1,\n",
    "    'PuuR': -1,\n",
    "    'dppABCDF': 1,\n",
    "    'membrane': 1,\n",
    "    'AppY-1': 1,\n",
    "    'GcvA': -1,\n",
    "    'BirA': -1,\n",
    "    'BluR': -1,\n",
    "    'PhoB-1': 1,\n",
    "    'PhoP': 1,\n",
    "    'YgeV': 1,\n",
    "    'NagC': -1,\n",
    "    'Thiamine-1': 1,\n",
    "    'Fur-1': -1,\n",
    "    'YgbI': 1,\n",
    "    'TyrR': -1,\n",
    "    'N-related': 1,\n",
    "    'GutM/GutR': 1,\n",
    "    'RcsAB': 1,\n",
    "    'NikR': -1,\n",
    "    'Fnr-2': 1,\n",
    "    'Nac': 1,\n",
    "    'NarL': -1,\n",
    "    'PhoB-2': 1,\n",
    "    'EvgA': 1,\n",
    "    'N-Red-Z': 1,\n",
    "    'NarL+NarP': 1,\n",
    "    'Cbl+CysB': 1,\n",
    "    'PrpR': 1,\n",
    "    'CysB-2': 1,\n",
    "    'Polymixin': 1,\n",
    "    'AtoC': 1,\n",
    "    'SoxS': 1,\n",
    "    'NarP': 1,\n",
    "    'NtrC+RpoN': 1,\n",
    "    'RpoS': 1,\n",
    "    'NarL+NarP+NsrR': 1,\n",
    "    'OxyR': 1,\n",
    "    'GatR+Crp': -1,\n",
    "    'AraC/AllR/FucR': -1,\n",
    "    'SoxS-anti': 1,\n",
    "    'NDH-1': 1,\n",
    "    'ppGpp': 1,\n",
    "    'Iron Uptake': 1,\n",
    "    'FecI': 1,\n",
    "    'IscR': 1,\n",
    "    'LexA': -1,\n",
    "    'YcjW': 1,\n",
    "    'RyhB/IscR': -1,\n",
    "    'Lrp': -1,\n",
    "    'Leucine': 1,\n",
    "    'flu-yeeRS': 1,\n",
    "    'RbsR': -1,\n",
    "    'CsqR': -1,\n",
    "    'LPS': 1,\n",
    "    'LsrR': -1,\n",
    "    'AppY-2': 1,\n",
    "    'Cra': -1,\n",
    "    'Glutamine': 1,\n",
    "    'NrdR': -1,\n",
    "    'Histidine': 1,\n",
    "    'Zur': -1,\n",
    "    'Copper': 1,\n",
    "    'XylR': 1,\n",
    "    'GlpR': -1,\n",
    "    'CdaR': 1,\n",
    "    'RpoH': 1,\n",
    "    'YiaJ': -1,\n",
    "    'FlhDC': 1,\n",
    "    'KdpE': 1,\n",
    "    'GadEWX': 1,\n",
    "    'ArgR': -1,\n",
    "    'GlcC': 1,\n",
    "    'IclR': -1,\n",
    "    'Cytochrome-bo': 1,\n",
    "    'FliA': 1,\n",
    "    'NDH-2': 1,\n",
    "    'Tryptophan': -1,\n",
    "    'FhlA': 1,\n",
    "    'ProVWX': 1,\n",
    "    'GntR': -1,\n",
    "    'ExuR/FucR': 1,\n",
    "    'oppABCDF': 1,\n",
    "    'Mo-Transport': 1,\n",
    "    'PurR-2': -1,\n",
    "    'Fnr-1': 1,\n",
    "    'MetJ': -1,\n",
    "    'Fimbriae': 1,\n",
    "    'MarR': -1,\n",
    "    'ArgP': 1,\n",
    "    'YieP': 1,\n",
    "    'Fur-2': -1,\n",
    "    'CpxR': 1,\n",
    "    'PaaX': -1,\n",
    "    'ArcA-1': -1,\n",
    "    'FadR': -1,\n",
    "    'BCAA-1': 1,\n",
    "    'LldR': -1,\n",
    "    'NanR': -1,\n",
    "    'BCAA-2': 1,\n",
    "    'Thiamine-2': 1,\n",
    "    'BCAA-3': 1,\n",
    "    'GadW': 1\n",
    "}"
   ]
  },
  {
   "cell_type": "code",
   "execution_count": 38,
   "metadata": {},
   "outputs": [],
   "source": [
    "im_dirs = np.array(list(im_directions.values()))\n",
    "\n",
    "S_reg_dir = S_reg * im_dirs"
   ]
  },
  {
   "cell_type": "markdown",
   "metadata": {},
   "source": [
    "### Compute Basal Expression"
   ]
  },
  {
   "cell_type": "code",
   "execution_count": 39,
   "metadata": {},
   "outputs": [],
   "source": [
    "X_trn_reg_dir = pd.DataFrame(np.dot(S_reg_dir, A_star_reg), index=log_tpm_wt.index, columns=log_tpm_wt.columns)"
   ]
  },
  {
   "cell_type": "code",
   "execution_count": 40,
   "metadata": {},
   "outputs": [],
   "source": [
    "X_basal_reg_dir = log_tpm_wt - X_trn_reg_dir"
   ]
  },
  {
   "cell_type": "markdown",
   "metadata": {},
   "source": [
    "### Check CV of Basal Expression"
   ]
  },
  {
   "cell_type": "code",
   "execution_count": 41,
   "metadata": {},
   "outputs": [
    {
     "name": "stderr",
     "output_type": "stream",
     "text": [
      "/Users/cam/.virtualenvs/strainware/lib/python3.8/site-packages/seaborn/distributions.py:2551: FutureWarning: `distplot` is a deprecated function and will be removed in a future version. Please adapt your code to use either `displot` (a figure-level function with similar flexibility) or `histplot` (an axes-level function for histograms).\n",
      "  warnings.warn(msg, FutureWarning)\n"
     ]
    },
    {
     "data": {
      "text/plain": [
       "<matplotlib.legend.Legend at 0x125098df0>"
      ]
     },
     "execution_count": 41,
     "metadata": {},
     "output_type": "execute_result"
    },
    {
     "data": {
      "image/png": "[encoded data removed]",
      "text/plain": [
       "<Figure size 432x288 with 1 Axes>"
      ]
     },
     "metadata": {
      "needs_background": "light"
     },
     "output_type": "display_data"
    }
   ],
   "source": [
    "cv_basal_reg_dir = X_basal_reg_dir.std(axis=1)\n",
    "\n",
    "_, ax = plt.subplots()\n",
    "sns.distplot(cv_X, label='X', kde=False)\n",
    "sns.distplot(cv_basal_reg_dir, label='X_basal', kde=False)\n",
    "ax.set_xlabel('Standard Deviation (log[TPM])', fontsize=13)\n",
    "ax.set_ylabel('Count', fontsize=13)\n",
    "ax.tick_params(axis='both', labelsize=12)\n",
    "ax.legend()"
   ]
  },
  {
   "cell_type": "markdown",
   "metadata": {},
   "source": [
    "### Check Mean Basal Expressions"
   ]
  },
  {
   "cell_type": "code",
   "execution_count": 42,
   "metadata": {},
   "outputs": [
    {
     "data": {
      "image/png": "[encoded data removed]",
      "text/plain": [
       "<Figure size 432x288 with 1 Axes>"
      ]
     },
     "metadata": {
      "needs_background": "light"
     },
     "output_type": "display_data"
    }
   ],
   "source": [
    "_, ax = plt.subplots()\n",
    "ax.hist(X_basal_reg_dir.mean(axis=1))\n",
    "ax.set_xlabel('Basal Expression (log[TPM])', fontsize=13)\n",
    "ax.set_ylabel('Count', fontsize=13)\n",
    "ax.tick_params(axis='both', labelsize=12)"
   ]
  },
  {
   "cell_type": "markdown",
   "metadata": {},
   "source": [
    "### Investigate Negative Basal Expressions"
   ]
  },
  {
   "cell_type": "code",
   "execution_count": 43,
   "metadata": {},
   "outputs": [
    {
     "name": "stderr",
     "output_type": "stream",
     "text": [
      "/Users/cam/.virtualenvs/strainware/lib/python3.8/site-packages/seaborn/distributions.py:2551: FutureWarning: `distplot` is a deprecated function and will be removed in a future version. Please adapt your code to use either `displot` (a figure-level function with similar flexibility) or `histplot` (an axes-level function for histograms).\n",
      "  warnings.warn(msg, FutureWarning)\n"
     ]
    },
    {
     "data": {
      "text/plain": [
       "<matplotlib.legend.Legend at 0x125400220>"
      ]
     },
     "execution_count": 43,
     "metadata": {},
     "output_type": "execute_result"
    },
    {
     "data": {
      "image/png": "[encoded data removed]",
      "text/plain": [
       "<Figure size 432x288 with 1 Axes>"
      ]
     },
     "metadata": {
      "needs_background": "light"
     },
     "output_type": "display_data"
    }
   ],
   "source": [
    "mean_basal_neg_reg_dir = X_basal_reg_dir.mean(axis=1)[X_basal_reg_dir.mean(axis=1) < 0].sort_values()\n",
    "\n",
    "_, ax = plt.subplots()\n",
    "sns.distplot(gene_info.loc[mean_basal_neg_reg_dir.index]['length'], label='Basal < 0', ax=ax, kde=False)\n",
    "sns.distplot(gene_info.drop(index=mean_basal_neg_reg_dir.index)['length'], label='Basal > 0', ax=ax, kde=False, color='red')\n",
    "ax.axvline(gene_info.loc[mean_basal_neg_reg_dir.index]['length'].median())\n",
    "ax.axvline(gene_info.drop(index=mean_basal_neg_reg_dir.index)['length'].median(), color='red')\n",
    "ax.set_xlabel('Gene Length')\n",
    "ax.set_ylabel('Count')\n",
    "ax.legend()"
   ]
  },
  {
   "cell_type": "markdown",
   "metadata": {},
   "source": [
    "Okay, so we'd say we're happy with this result, more things seem to be above 0 but we're still getting a solid reduction in variance across the board. Let's try to do more validation on the non-genomic-alterations basal expression"
   ]
  },
  {
   "cell_type": "markdown",
   "metadata": {},
   "source": [
    "## Validation: Compare Changed Expression in Clear Activator/Repressor Cases"
   ]
  },
  {
   "cell_type": "code",
   "execution_count": 44,
   "metadata": {},
   "outputs": [],
   "source": [
    "def iM_expression_adjustments_dir(iM, figsize=(8, 5)):\n",
    "\n",
    "    X_trn_im = pd.DataFrame(columns=['gene', 'adjust'])\n",
    "\n",
    "    iM_locus_tags = S_binarized[S_binarized[iM] == 1].index\n",
    "\n",
    "    for tag in iM_locus_tags:\n",
    "        gene_name = locus_tag_to_name[tag]\n",
    "        adjusts = (S_reg_dir.loc[tag, iM] * A_star_reg.loc[iM, :].values) * -1\n",
    "        X_trn_im = X_trn_im.append(pd.DataFrame(data={'gene': gene_name, 'adjust': adjusts}))\n",
    "\n",
    "    _, ax = plt.subplots(figsize=figsize)\n",
    "    sns.boxplot(x='gene', y='adjust', data=X_trn_im)\n",
    "    ax.set_xlabel('')\n",
    "    ax.set_ylabel(f'{iM} Exp Adjust ([log[TPM])', fontsize=13)\n",
    "    ax.tick_params(axis='both', labelsize=12)\n",
    "    ax.axhline(0, linestyle='--', color='gray')"
   ]
  },
  {
   "cell_type": "markdown",
   "metadata": {},
   "source": [
    "### PrpR (Small iModulon/Regulon, Strictly Activates)\n",
    "\n",
    "PrpR should activate expression of prpBCDE and repress its own expression"
   ]
  },
  {
   "cell_type": "code",
   "execution_count": 45,
   "metadata": {},
   "outputs": [
    {
     "data": {
      "image/png": "[encoded data removed]",
      "text/plain": [
       "<Figure size 576x360 with 1 Axes>"
      ]
     },
     "metadata": {
      "needs_background": "light"
     },
     "output_type": "display_data"
    }
   ],
   "source": [
    "iM_expression_adjustments_dir('PrpR')"
   ]
  },
  {
   "cell_type": "markdown",
   "metadata": {},
   "source": [
    "So we see what we expect! The PrpR iModulon's contribution to expression adjustment is to lower the expression of prpBCDE and slightly raise its own expression, counteracting the effect of the regulation. "
   ]
  },
  {
   "cell_type": "markdown",
   "metadata": {},
   "source": [
    "### MalT (Small iModulon/Regulon, Strictly Activates)\n",
    "\n",
    "MalT should activate expression of mal genes"
   ]
  },
  {
   "cell_type": "code",
   "execution_count": 46,
   "metadata": {},
   "outputs": [
    {
     "data": {
      "image/png": "[encoded data removed]",
      "text/plain": [
       "<Figure size 576x360 with 1 Axes>"
      ]
     },
     "metadata": {
      "needs_background": "light"
     },
     "output_type": "display_data"
    }
   ],
   "source": [
    "iM_expression_adjustments_dir('MalT')"
   ]
  },
  {
   "cell_type": "markdown",
   "metadata": {},
   "source": [
    "Also seems to follow the expected pattern; the genes' expressions are down-adjusted to account for MalT activation"
   ]
  },
  {
   "cell_type": "markdown",
   "metadata": {},
   "source": [
    "### LsrR (Small iModulon/Regulon, Strictly Represses)\n",
    "\n",
    "We expect this time to see positive adjustments"
   ]
  },
  {
   "cell_type": "code",
   "execution_count": 47,
   "metadata": {},
   "outputs": [
    {
     "data": {
      "image/png": "[encoded data removed]",
      "text/plain": [
       "<Figure size 576x360 with 1 Axes>"
      ]
     },
     "metadata": {
      "needs_background": "light"
     },
     "output_type": "display_data"
    }
   ],
   "source": [
    "iM_expression_adjustments_dir('LsrR')"
   ]
  },
  {
   "cell_type": "markdown",
   "metadata": {},
   "source": [
    "So this actually had negative adjustments, maybe the signs are wrong in the S vector here"
   ]
  },
  {
   "cell_type": "markdown",
   "metadata": {},
   "source": [
    "### CysB (Medium iModulon/Regulon, Dual Activator)"
   ]
  },
  {
   "cell_type": "code",
   "execution_count": 48,
   "metadata": {},
   "outputs": [
    {
     "data": {
      "image/png": "[encoded data removed]",
      "text/plain": [
       "<Figure size 576x360 with 1 Axes>"
      ]
     },
     "metadata": {
      "needs_background": "light"
     },
     "output_type": "display_data"
    }
   ],
   "source": [
    "iM_expression_adjustments_dir('CysB-1')"
   ]
  },
  {
   "cell_type": "markdown",
   "metadata": {},
   "source": [
    "## Save Basal Expressions"
   ]
  },
  {
   "cell_type": "code",
   "execution_count": 49,
   "metadata": {},
   "outputs": [],
   "source": [
    "X_basal_reg.to_csv('data/X_basal_reg.csv')\n",
    "X_basal_reg_dir.to_csv('data/X_basal_reg_dir.csv')"
   ]
  },
  {
   "cell_type": "code",
   "execution_count": null,
   "metadata": {},
   "outputs": [],
   "source": []
  }
 ],
 "metadata": {
  "kernelspec": {
   "display_name": "Python 3",
   "language": "python",
   "name": "python3"
  },
  "language_info": {
   "codemirror_mode": {
    "name": "ipython",
    "version": 3
   },
   "file_extension": ".py",
   "mimetype": "text/x-python",
   "name": "python",
   "nbconvert_exporter": "python",
   "pygments_lexer": "ipython3",
   "version": "3.8.5"
  }
 },
 "nbformat": 4,
 "nbformat_minor": 4
}
