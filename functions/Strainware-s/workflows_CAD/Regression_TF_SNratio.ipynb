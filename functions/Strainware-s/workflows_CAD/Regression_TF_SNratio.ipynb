{
 "cells": [
  {
   "cell_type": "code",
   "execution_count": 1,
   "metadata": {},
   "outputs": [],
   "source": [
    "from collections import Counter\n",
    "from itertools import product\n",
    "import os\n",
    "from pathlib import Path\n",
    "import sys\n",
    "\n",
    "from Bio.Align import AlignInfo, MultipleSeqAlignment\n",
    "import Bio.motifs as motifs\n",
    "from Bio.SeqFeature import FeatureLocation\n",
    "from Bio.SeqRecord import SeqRecord\n",
    "from matplotlib.patches import Rectangle\n",
    "import matplotlib.pyplot as plt\n",
    "import numpy as np\n",
    "import pandas as pd\n",
    "import seaborn as sns\n",
    "from sklearn.ensemble import RandomForestRegressor\n",
    "from sklearn.linear_model import ElasticNet\n",
    "from sklearn.metrics import mean_absolute_error\n",
    "from sklearn.model_selection import cross_validate, RandomizedSearchCV, train_test_split\n",
    "from sklearn.neural_network import MLPRegressor\n",
    "from sklearn.preprocessing import StandardScaler\n",
    "from sklearn.svm import SVR\n",
    "from math import log,exp,inf\n",
    "sys.path.append('../bitome-kb')\n",
    "from bitome.core import Bitome"
   ]
  },
  {
   "cell_type": "code",
   "execution_count": 2,
   "metadata": {},
   "outputs": [
    {
     "data": {
      "text/plain": [
       "dict_keys(['CysB-1', 'HprR+CusR', 'PhoB-1', 'Fnr-1', 'TdcAR', 'Fimbriae', 'PurR-2', 'Fnr+NarL', 'GalRS', 'BtsR', 'PyrR', 'PlaR', 'RpoN+FhlA', 'RhaS', 'NanR', 'FadR', 'NrdR', 'GlcC', 'BaeR+CpxR', 'NikR', 'Isoleucine', 'RpoN+PspF', 'OxyR', 'TrpR', 'CsqR', 'LldR', 'Thiamine-1', 'PuuR', 'YcjW', 'PdhR+OmpR', 'NsrR', 'GntR', 'Fnr+NarLP', 'RcsAB', 'MalT', 'TyrR', 'Molybdopterin', 'Fnr-2', 'AtoC', 'Leucine', 'SoxS', 'Translation', 'RcnR', 'Lrp', 'Nac', 'KdpE', 'PhoB-2', 'RbsR', 'CysB-2', 'FlhDC-1', 'GatR', 'ArgR', 'GadX', 'RpoN+NtrC-1', 'XylR', 'ArcA', 'BirA', 'EvgA', 'BluR', 'LsrR', 'Zur', 'RpoE', 'Fur-1', 'PurR-1', 'ArgP', 'AllR', 'FucR', 'Fur-2', 'Mlc', 'CecR', 'Fnr+IHF+gcvB', 'YgbI', 'LexA', 'Cra', 'GlpR', 'RpoN+NtrC-2', 'PaaX', 'Oligopeptide', 'CdaR', 'RpoN+PrpR+Cra', 'FliA', 'CpxR', 'Histidine', 'RpoH', 'GadE+FliZ', 'GcvA', 'YdeO+H-NS', 'NagC', 'GutM+SrlR', 'MetJ', 'RpoS', 'CysB-3', 'FlhDC-2', 'RutR', 'PhoP', 'RyhB', 'BasR', 'NarL', 'RpoS+ArgR+RpoN', 'Crp-related-2'])"
      ]
     },
     "execution_count": 2,
     "metadata": {},
     "output_type": "execute_result"
    }
   ],
   "source": [
    "import ast\n",
    "im_info = pd.read_csv('data/precise2_im_info_new.csv')\n",
    "IM_genes = {}\n",
    "for i in range(len(im_info['im_name'])):\n",
    "    IM_genes[im_info['im_name'][i]] = ast.literal_eval( im_info['genes'][i] )\n",
    "IM_genes.keys()"
   ]
  },
  {
   "cell_type": "code",
   "execution_count": 3,
   "metadata": {},
   "outputs": [],
   "source": [
    "bitome = Bitome.init_from_file('../bitome-kb/bitome.pkl')"
   ]
  },
  {
   "cell_type": "code",
   "execution_count": 4,
   "metadata": {},
   "outputs": [],
   "source": [
    "tf_list =['AraC', 'ArcA', 'ArgP', 'ArgR', 'BaeR', 'BasR', 'CysB', 'CpxR', \n",
    "          'Cra', 'CRP', 'Mlc', 'MqsA', 'EvgA', 'ExuR', 'FadR', 'IclR', 'IscR', \n",
    "          'IHF', 'FhlA', 'FlhDC', 'FNR', 'Fur', 'GadE', 'GadW', 'GadX', 'GalR', 'GalS', \n",
    "          'GcvA', 'GlpR', 'GlrR', 'GntR', 'TyrR', 'LexA', 'LeuO', 'Lrp', 'MalT', 'MetJ', 'Nac', \n",
    "          'NagC', 'NanR', 'NarL', 'NarP', 'NrdR', 'NsrR', 'NtrC', 'OmpR', 'OxyR', 'PdhR', 'PhoB', 'PhoP',\n",
    "          'PurR', 'PuuR', 'RcsAB', 'RhaS', 'RutR', 'SoxS', 'TrpR', 'XylR', 'YdeO']\n",
    "\n",
    "regulon_genes={}\n",
    "for TF in bitome.transcription_factors:\n",
    "    if TF.name in tf_list:\n",
    "        regulon_genes[TF.name] = []   \n",
    "        for r in TF.regulons:\n",
    "                for p in list(r.regulated_promoters.values())[0]:\n",
    "                    if p.transcription_unit != None and len(p.transcription_unit.genes)>0:\n",
    "                        for g in p.transcription_unit.genes:\n",
    "                            regulon_genes[TF.name].append( g.locus_tag)"
   ]
  },
  {
   "cell_type": "code",
   "execution_count": 5,
   "metadata": {},
   "outputs": [],
   "source": [
    "TF_SN = pd.read_csv('data/all_tf_data.csv')\n",
    "TF_SN = TF_SN[['TF','SN_ratio','TU','start','stop','log_SN']]\n",
    "TF_SN = TF_SN.dropna()\n",
    "fur_SN = TF_SN.iloc[0:143]\n",
    "soxS_SN = TF_SN.iloc[153:179]\n",
    "oxyR_SN = TF_SN.iloc[179:211]"
   ]
  },
  {
   "cell_type": "code",
   "execution_count": 6,
   "metadata": {},
   "outputs": [],
   "source": [
    "keep_ind = []\n",
    "for i in range( len(fur_SN['TU']) ):\n",
    "    if list( fur_SN['TU'] ).count( fur_SN['TU'][i] ) == 1:\n",
    "        keep_ind.append( i )\n",
    "fur_SN = fur_SN.iloc[keep_ind,:]\n",
    "fur_SN = fur_SN.reset_index()\n",
    "fur_SN= fur_SN.drop(columns=['index'])"
   ]
  },
  {
   "cell_type": "code",
   "execution_count": 7,
   "metadata": {},
   "outputs": [],
   "source": [
    "rawdata = pd.read_csv('data.csv')"
   ]
  },
  {
   "cell_type": "code",
   "execution_count": 8,
   "metadata": {},
   "outputs": [
    {
     "data": {
      "text/html": [
       "<div>\n",
       "<style scoped>\n",
       "    .dataframe tbody tr th:only-of-type {\n",
       "        vertical-align: middle;\n",
       "    }\n",
       "\n",
       "    .dataframe tbody tr th {\n",
       "        vertical-align: top;\n",
       "    }\n",
       "\n",
       "    .dataframe thead th {\n",
       "        text-align: right;\n",
       "    }\n",
       "</style>\n",
       "<table border=\"1\" class=\"dataframe\">\n",
       "  <thead>\n",
       "    <tr style=\"text-align: right;\">\n",
       "      <th></th>\n",
       "      <th>ID</th>\n",
       "      <th>gene</th>\n",
       "      <th>TU</th>\n",
       "      <th>strand</th>\n",
       "      <th>TU_length</th>\n",
       "      <th>leading</th>\n",
       "      <th>lagging</th>\n",
       "      <th>terminus</th>\n",
       "      <th>Sigma70_Prib_Start</th>\n",
       "      <th>Sigma70_Prib_score</th>\n",
       "      <th>...</th>\n",
       "      <th>EP_TSS_1</th>\n",
       "      <th>EP_TSS_2</th>\n",
       "      <th>EP_TSS_3</th>\n",
       "      <th>EP_TSS_4</th>\n",
       "      <th>EP_TSS_5</th>\n",
       "      <th>EP_TSS_6</th>\n",
       "      <th>EP_TSS_7</th>\n",
       "      <th>EP_TSS_8</th>\n",
       "      <th>EP_TSS_9</th>\n",
       "      <th>EP_TSS_10</th>\n",
       "    </tr>\n",
       "  </thead>\n",
       "  <tbody>\n",
       "    <tr>\n",
       "      <th>0</th>\n",
       "      <td>b0064</td>\n",
       "      <td>araC</td>\n",
       "      <td>araC</td>\n",
       "      <td>1</td>\n",
       "      <td>1025</td>\n",
       "      <td>1</td>\n",
       "      <td>0</td>\n",
       "      <td>0</td>\n",
       "      <td>-12</td>\n",
       "      <td>-9.343095</td>\n",
       "      <td>...</td>\n",
       "      <td>-7.46</td>\n",
       "      <td>-7.49</td>\n",
       "      <td>-5.65</td>\n",
       "      <td>-5.00</td>\n",
       "      <td>-5.14</td>\n",
       "      <td>-5.31</td>\n",
       "      <td>-5.66</td>\n",
       "      <td>-6.00</td>\n",
       "      <td>-7.76</td>\n",
       "      <td>-7.05</td>\n",
       "    </tr>\n",
       "    <tr>\n",
       "      <th>1</th>\n",
       "      <td>b0131</td>\n",
       "      <td>panD</td>\n",
       "      <td>panD</td>\n",
       "      <td>-1</td>\n",
       "      <td>432</td>\n",
       "      <td>0</td>\n",
       "      <td>1</td>\n",
       "      <td>0</td>\n",
       "      <td>-11</td>\n",
       "      <td>-6.320705</td>\n",
       "      <td>...</td>\n",
       "      <td>-6.94</td>\n",
       "      <td>-5.52</td>\n",
       "      <td>-5.71</td>\n",
       "      <td>-5.50</td>\n",
       "      <td>-7.09</td>\n",
       "      <td>-6.72</td>\n",
       "      <td>-5.52</td>\n",
       "      <td>-8.05</td>\n",
       "      <td>-8.88</td>\n",
       "      <td>-8.81</td>\n",
       "    </tr>\n",
       "    <tr>\n",
       "      <th>2</th>\n",
       "      <td>b0131</td>\n",
       "      <td>panD</td>\n",
       "      <td>panD</td>\n",
       "      <td>-1</td>\n",
       "      <td>441</td>\n",
       "      <td>0</td>\n",
       "      <td>1</td>\n",
       "      <td>0</td>\n",
       "      <td>-12</td>\n",
       "      <td>-6.479392</td>\n",
       "      <td>...</td>\n",
       "      <td>-5.64</td>\n",
       "      <td>-7.51</td>\n",
       "      <td>-7.16</td>\n",
       "      <td>-7.16</td>\n",
       "      <td>-7.51</td>\n",
       "      <td>-5.64</td>\n",
       "      <td>-5.43</td>\n",
       "      <td>-7.15</td>\n",
       "      <td>-5.58</td>\n",
       "      <td>-6.94</td>\n",
       "    </tr>\n",
       "    <tr>\n",
       "      <th>3</th>\n",
       "      <td>b0237</td>\n",
       "      <td>pepD</td>\n",
       "      <td>pepD</td>\n",
       "      <td>-1</td>\n",
       "      <td>1518</td>\n",
       "      <td>0</td>\n",
       "      <td>1</td>\n",
       "      <td>0</td>\n",
       "      <td>-6</td>\n",
       "      <td>-7.049679</td>\n",
       "      <td>...</td>\n",
       "      <td>-8.97</td>\n",
       "      <td>-8.76</td>\n",
       "      <td>-7.80</td>\n",
       "      <td>-5.20</td>\n",
       "      <td>-4.82</td>\n",
       "      <td>-5.14</td>\n",
       "      <td>-5.59</td>\n",
       "      <td>-5.32</td>\n",
       "      <td>-6.98</td>\n",
       "      <td>-5.68</td>\n",
       "    </tr>\n",
       "    <tr>\n",
       "      <th>4</th>\n",
       "      <td>b0237</td>\n",
       "      <td>pepD</td>\n",
       "      <td>pepD</td>\n",
       "      <td>-1</td>\n",
       "      <td>1551</td>\n",
       "      <td>0</td>\n",
       "      <td>1</td>\n",
       "      <td>0</td>\n",
       "      <td>-11</td>\n",
       "      <td>-4.003152</td>\n",
       "      <td>...</td>\n",
       "      <td>-8.64</td>\n",
       "      <td>-9.42</td>\n",
       "      <td>-10.80</td>\n",
       "      <td>-9.65</td>\n",
       "      <td>-8.05</td>\n",
       "      <td>-5.96</td>\n",
       "      <td>-6.55</td>\n",
       "      <td>-5.70</td>\n",
       "      <td>-5.25</td>\n",
       "      <td>-6.93</td>\n",
       "    </tr>\n",
       "  </tbody>\n",
       "</table>\n",
       "<p>5 rows × 2194 columns</p>\n",
       "</div>"
      ],
      "text/plain": [
       "      ID  gene    TU  strand  TU_length  leading  lagging  terminus  \\\n",
       "0  b0064  araC  araC       1       1025        1        0         0   \n",
       "1  b0131  panD  panD      -1        432        0        1         0   \n",
       "2  b0131  panD  panD      -1        441        0        1         0   \n",
       "3  b0237  pepD  pepD      -1       1518        0        1         0   \n",
       "4  b0237  pepD  pepD      -1       1551        0        1         0   \n",
       "\n",
       "   Sigma70_Prib_Start  Sigma70_Prib_score  ...  EP_TSS_1  EP_TSS_2  EP_TSS_3  \\\n",
       "0                 -12           -9.343095  ...     -7.46     -7.49     -5.65   \n",
       "1                 -11           -6.320705  ...     -6.94     -5.52     -5.71   \n",
       "2                 -12           -6.479392  ...     -5.64     -7.51     -7.16   \n",
       "3                  -6           -7.049679  ...     -8.97     -8.76     -7.80   \n",
       "4                 -11           -4.003152  ...     -8.64     -9.42    -10.80   \n",
       "\n",
       "   EP_TSS_4  EP_TSS_5  EP_TSS_6  EP_TSS_7  EP_TSS_8  EP_TSS_9  EP_TSS_10  \n",
       "0     -5.00     -5.14     -5.31     -5.66     -6.00     -7.76      -7.05  \n",
       "1     -5.50     -7.09     -6.72     -5.52     -8.05     -8.88      -8.81  \n",
       "2     -7.16     -7.51     -5.64     -5.43     -7.15     -5.58      -6.94  \n",
       "3     -5.20     -4.82     -5.14     -5.59     -5.32     -6.98      -5.68  \n",
       "4     -9.65     -8.05     -5.96     -6.55     -5.70     -5.25      -6.93  \n",
       "\n",
       "[5 rows x 2194 columns]"
      ]
     },
     "execution_count": 8,
     "metadata": {},
     "output_type": "execute_result"
    }
   ],
   "source": [
    "fur_SN_index = []\n",
    "for i in range(len(rawdata['TU'])):\n",
    "    if list( rawdata['TU'])[i] in list(fur_SN['TU']):\n",
    "        fur_SN_index.append(i)\n",
    "fur_SN_feature = rawdata.iloc[ fur_SN_index ]\n",
    "fur_SN_feature = fur_SN_feature.reset_index()\n",
    "fur_SN_feature = fur_SN_feature.drop(columns=['index'])\n",
    "fur_SN_feature.head()"
   ]
  },
  {
   "cell_type": "code",
   "execution_count": 9,
   "metadata": {},
   "outputs": [],
   "source": [
    "rm_list = []\n",
    "for i in range(len(fur_SN['TU'])):\n",
    "    if fur_SN['TU'][i] not in list(fur_SN_feature['TU']):\n",
    "        rm_list.append(i)\n",
    "fur_SN = fur_SN.drop(rm_list)\n",
    "fur_SN = fur_SN.reset_index()\n",
    "fur_SN= fur_SN.drop(columns=['index'])"
   ]
  },
  {
   "cell_type": "code",
   "execution_count": 10,
   "metadata": {},
   "outputs": [
    {
     "data": {
      "text/html": [
       "<div>\n",
       "<style scoped>\n",
       "    .dataframe tbody tr th:only-of-type {\n",
       "        vertical-align: middle;\n",
       "    }\n",
       "\n",
       "    .dataframe tbody tr th {\n",
       "        vertical-align: top;\n",
       "    }\n",
       "\n",
       "    .dataframe thead th {\n",
       "        text-align: right;\n",
       "    }\n",
       "</style>\n",
       "<table border=\"1\" class=\"dataframe\">\n",
       "  <thead>\n",
       "    <tr style=\"text-align: right;\">\n",
       "      <th></th>\n",
       "      <th>ID</th>\n",
       "      <th>gene</th>\n",
       "      <th>TU</th>\n",
       "      <th>strand</th>\n",
       "      <th>TU_length</th>\n",
       "      <th>leading</th>\n",
       "      <th>lagging</th>\n",
       "      <th>terminus</th>\n",
       "      <th>Sigma70_Prib_Start</th>\n",
       "      <th>Sigma70_Prib_score</th>\n",
       "      <th>...</th>\n",
       "      <th>EP_TSS_6</th>\n",
       "      <th>EP_TSS_7</th>\n",
       "      <th>EP_TSS_8</th>\n",
       "      <th>EP_TSS_9</th>\n",
       "      <th>EP_TSS_10</th>\n",
       "      <th>TF</th>\n",
       "      <th>SN_ratio</th>\n",
       "      <th>start</th>\n",
       "      <th>stop</th>\n",
       "      <th>log_SN</th>\n",
       "    </tr>\n",
       "  </thead>\n",
       "  <tbody>\n",
       "    <tr>\n",
       "      <th>0</th>\n",
       "      <td>b0064</td>\n",
       "      <td>araC</td>\n",
       "      <td>araC</td>\n",
       "      <td>1</td>\n",
       "      <td>1025</td>\n",
       "      <td>1</td>\n",
       "      <td>0</td>\n",
       "      <td>0</td>\n",
       "      <td>-12</td>\n",
       "      <td>-9.343095</td>\n",
       "      <td>...</td>\n",
       "      <td>-5.31</td>\n",
       "      <td>-5.66</td>\n",
       "      <td>-6.00</td>\n",
       "      <td>-7.76</td>\n",
       "      <td>-7.05</td>\n",
       "      <td>fur</td>\n",
       "      <td>1.67</td>\n",
       "      <td>70524.0</td>\n",
       "      <td>70536.0</td>\n",
       "      <td>0.512824</td>\n",
       "    </tr>\n",
       "    <tr>\n",
       "      <th>1</th>\n",
       "      <td>b0131</td>\n",
       "      <td>panD</td>\n",
       "      <td>panD</td>\n",
       "      <td>-1</td>\n",
       "      <td>432</td>\n",
       "      <td>0</td>\n",
       "      <td>1</td>\n",
       "      <td>0</td>\n",
       "      <td>-11</td>\n",
       "      <td>-6.320705</td>\n",
       "      <td>...</td>\n",
       "      <td>-6.72</td>\n",
       "      <td>-5.52</td>\n",
       "      <td>-8.05</td>\n",
       "      <td>-8.88</td>\n",
       "      <td>-8.81</td>\n",
       "      <td>fur</td>\n",
       "      <td>2.93</td>\n",
       "      <td>146494.0</td>\n",
       "      <td>146507.0</td>\n",
       "      <td>1.075002</td>\n",
       "    </tr>\n",
       "    <tr>\n",
       "      <th>2</th>\n",
       "      <td>b0131</td>\n",
       "      <td>panD</td>\n",
       "      <td>panD</td>\n",
       "      <td>-1</td>\n",
       "      <td>441</td>\n",
       "      <td>0</td>\n",
       "      <td>1</td>\n",
       "      <td>0</td>\n",
       "      <td>-12</td>\n",
       "      <td>-6.479392</td>\n",
       "      <td>...</td>\n",
       "      <td>-5.64</td>\n",
       "      <td>-5.43</td>\n",
       "      <td>-7.15</td>\n",
       "      <td>-5.58</td>\n",
       "      <td>-6.94</td>\n",
       "      <td>fur</td>\n",
       "      <td>2.93</td>\n",
       "      <td>146494.0</td>\n",
       "      <td>146507.0</td>\n",
       "      <td>1.075002</td>\n",
       "    </tr>\n",
       "    <tr>\n",
       "      <th>3</th>\n",
       "      <td>b0237</td>\n",
       "      <td>pepD</td>\n",
       "      <td>pepD</td>\n",
       "      <td>-1</td>\n",
       "      <td>1518</td>\n",
       "      <td>0</td>\n",
       "      <td>1</td>\n",
       "      <td>0</td>\n",
       "      <td>-6</td>\n",
       "      <td>-7.049679</td>\n",
       "      <td>...</td>\n",
       "      <td>-5.14</td>\n",
       "      <td>-5.59</td>\n",
       "      <td>-5.32</td>\n",
       "      <td>-6.98</td>\n",
       "      <td>-5.68</td>\n",
       "      <td>fur</td>\n",
       "      <td>5.83</td>\n",
       "      <td>255803.0</td>\n",
       "      <td>255815.0</td>\n",
       "      <td>1.763017</td>\n",
       "    </tr>\n",
       "    <tr>\n",
       "      <th>4</th>\n",
       "      <td>b0237</td>\n",
       "      <td>pepD</td>\n",
       "      <td>pepD</td>\n",
       "      <td>-1</td>\n",
       "      <td>1551</td>\n",
       "      <td>0</td>\n",
       "      <td>1</td>\n",
       "      <td>0</td>\n",
       "      <td>-11</td>\n",
       "      <td>-4.003152</td>\n",
       "      <td>...</td>\n",
       "      <td>-5.96</td>\n",
       "      <td>-6.55</td>\n",
       "      <td>-5.70</td>\n",
       "      <td>-5.25</td>\n",
       "      <td>-6.93</td>\n",
       "      <td>fur</td>\n",
       "      <td>5.83</td>\n",
       "      <td>255803.0</td>\n",
       "      <td>255815.0</td>\n",
       "      <td>1.763017</td>\n",
       "    </tr>\n",
       "  </tbody>\n",
       "</table>\n",
       "<p>5 rows × 2199 columns</p>\n",
       "</div>"
      ],
      "text/plain": [
       "      ID  gene    TU  strand  TU_length  leading  lagging  terminus  \\\n",
       "0  b0064  araC  araC       1       1025        1        0         0   \n",
       "1  b0131  panD  panD      -1        432        0        1         0   \n",
       "2  b0131  panD  panD      -1        441        0        1         0   \n",
       "3  b0237  pepD  pepD      -1       1518        0        1         0   \n",
       "4  b0237  pepD  pepD      -1       1551        0        1         0   \n",
       "\n",
       "   Sigma70_Prib_Start  Sigma70_Prib_score  ...  EP_TSS_6  EP_TSS_7  EP_TSS_8  \\\n",
       "0                 -12           -9.343095  ...     -5.31     -5.66     -6.00   \n",
       "1                 -11           -6.320705  ...     -6.72     -5.52     -8.05   \n",
       "2                 -12           -6.479392  ...     -5.64     -5.43     -7.15   \n",
       "3                  -6           -7.049679  ...     -5.14     -5.59     -5.32   \n",
       "4                 -11           -4.003152  ...     -5.96     -6.55     -5.70   \n",
       "\n",
       "   EP_TSS_9  EP_TSS_10   TF  SN_ratio     start      stop    log_SN  \n",
       "0     -7.76      -7.05  fur      1.67   70524.0   70536.0  0.512824  \n",
       "1     -8.88      -8.81  fur      2.93  146494.0  146507.0  1.075002  \n",
       "2     -5.58      -6.94  fur      2.93  146494.0  146507.0  1.075002  \n",
       "3     -6.98      -5.68  fur      5.83  255803.0  255815.0  1.763017  \n",
       "4     -5.25      -6.93  fur      5.83  255803.0  255815.0  1.763017  \n",
       "\n",
       "[5 rows x 2199 columns]"
      ]
     },
     "execution_count": 10,
     "metadata": {},
     "output_type": "execute_result"
    }
   ],
   "source": [
    "fur_SN_feature = fur_SN_feature.merge(fur_SN, on='TU')\n",
    "fur_SN_feature = fur_SN_feature.dropna()\n",
    "fur_SN_feature.head()"
   ]
  },
  {
   "cell_type": "code",
   "execution_count": 11,
   "metadata": {
    "scrolled": true
   },
   "outputs": [
    {
     "data": {
      "text/html": [
       "<div>\n",
       "<style scoped>\n",
       "    .dataframe tbody tr th:only-of-type {\n",
       "        vertical-align: middle;\n",
       "    }\n",
       "\n",
       "    .dataframe tbody tr th {\n",
       "        vertical-align: top;\n",
       "    }\n",
       "\n",
       "    .dataframe thead th {\n",
       "        text-align: right;\n",
       "    }\n",
       "</style>\n",
       "<table border=\"1\" class=\"dataframe\">\n",
       "  <thead>\n",
       "    <tr style=\"text-align: right;\">\n",
       "      <th></th>\n",
       "      <th>ID</th>\n",
       "      <th>gene</th>\n",
       "      <th>TU</th>\n",
       "      <th>strand</th>\n",
       "      <th>TU_length</th>\n",
       "      <th>leading</th>\n",
       "      <th>lagging</th>\n",
       "      <th>terminus</th>\n",
       "      <th>Sigma70_Prib_Start</th>\n",
       "      <th>Sigma70_Prib_score</th>\n",
       "      <th>...</th>\n",
       "      <th>EP_TSS_6</th>\n",
       "      <th>EP_TSS_7</th>\n",
       "      <th>EP_TSS_8</th>\n",
       "      <th>EP_TSS_9</th>\n",
       "      <th>EP_TSS_10</th>\n",
       "      <th>TF</th>\n",
       "      <th>SN_ratio</th>\n",
       "      <th>start</th>\n",
       "      <th>stop</th>\n",
       "      <th>log_SN</th>\n",
       "    </tr>\n",
       "  </thead>\n",
       "  <tbody>\n",
       "    <tr>\n",
       "      <th>0</th>\n",
       "      <td>b0064</td>\n",
       "      <td>araC</td>\n",
       "      <td>araC</td>\n",
       "      <td>1</td>\n",
       "      <td>1025</td>\n",
       "      <td>1</td>\n",
       "      <td>0</td>\n",
       "      <td>0</td>\n",
       "      <td>-12</td>\n",
       "      <td>-9.343095</td>\n",
       "      <td>...</td>\n",
       "      <td>-5.31</td>\n",
       "      <td>-5.66</td>\n",
       "      <td>-6.00</td>\n",
       "      <td>-7.76</td>\n",
       "      <td>-7.05</td>\n",
       "      <td>fur</td>\n",
       "      <td>1.67</td>\n",
       "      <td>70524.0</td>\n",
       "      <td>70536.0</td>\n",
       "      <td>0.512824</td>\n",
       "    </tr>\n",
       "    <tr>\n",
       "      <th>1</th>\n",
       "      <td>b0131</td>\n",
       "      <td>panD</td>\n",
       "      <td>panD</td>\n",
       "      <td>-1</td>\n",
       "      <td>432</td>\n",
       "      <td>0</td>\n",
       "      <td>1</td>\n",
       "      <td>0</td>\n",
       "      <td>-11</td>\n",
       "      <td>-6.320705</td>\n",
       "      <td>...</td>\n",
       "      <td>-6.72</td>\n",
       "      <td>-5.52</td>\n",
       "      <td>-8.05</td>\n",
       "      <td>-8.88</td>\n",
       "      <td>-8.81</td>\n",
       "      <td>fur</td>\n",
       "      <td>2.93</td>\n",
       "      <td>146494.0</td>\n",
       "      <td>146507.0</td>\n",
       "      <td>1.075002</td>\n",
       "    </tr>\n",
       "    <tr>\n",
       "      <th>2</th>\n",
       "      <td>b0131</td>\n",
       "      <td>panD</td>\n",
       "      <td>panD</td>\n",
       "      <td>-1</td>\n",
       "      <td>441</td>\n",
       "      <td>0</td>\n",
       "      <td>1</td>\n",
       "      <td>0</td>\n",
       "      <td>-12</td>\n",
       "      <td>-6.479392</td>\n",
       "      <td>...</td>\n",
       "      <td>-5.64</td>\n",
       "      <td>-5.43</td>\n",
       "      <td>-7.15</td>\n",
       "      <td>-5.58</td>\n",
       "      <td>-6.94</td>\n",
       "      <td>fur</td>\n",
       "      <td>2.93</td>\n",
       "      <td>146494.0</td>\n",
       "      <td>146507.0</td>\n",
       "      <td>1.075002</td>\n",
       "    </tr>\n",
       "    <tr>\n",
       "      <th>3</th>\n",
       "      <td>b0237</td>\n",
       "      <td>pepD</td>\n",
       "      <td>pepD</td>\n",
       "      <td>-1</td>\n",
       "      <td>1518</td>\n",
       "      <td>0</td>\n",
       "      <td>1</td>\n",
       "      <td>0</td>\n",
       "      <td>-6</td>\n",
       "      <td>-7.049679</td>\n",
       "      <td>...</td>\n",
       "      <td>-5.14</td>\n",
       "      <td>-5.59</td>\n",
       "      <td>-5.32</td>\n",
       "      <td>-6.98</td>\n",
       "      <td>-5.68</td>\n",
       "      <td>fur</td>\n",
       "      <td>5.83</td>\n",
       "      <td>255803.0</td>\n",
       "      <td>255815.0</td>\n",
       "      <td>1.763017</td>\n",
       "    </tr>\n",
       "    <tr>\n",
       "      <th>4</th>\n",
       "      <td>b0237</td>\n",
       "      <td>pepD</td>\n",
       "      <td>pepD</td>\n",
       "      <td>-1</td>\n",
       "      <td>1551</td>\n",
       "      <td>0</td>\n",
       "      <td>1</td>\n",
       "      <td>0</td>\n",
       "      <td>-11</td>\n",
       "      <td>-4.003152</td>\n",
       "      <td>...</td>\n",
       "      <td>-5.96</td>\n",
       "      <td>-6.55</td>\n",
       "      <td>-5.70</td>\n",
       "      <td>-5.25</td>\n",
       "      <td>-6.93</td>\n",
       "      <td>fur</td>\n",
       "      <td>5.83</td>\n",
       "      <td>255803.0</td>\n",
       "      <td>255815.0</td>\n",
       "      <td>1.763017</td>\n",
       "    </tr>\n",
       "    <tr>\n",
       "      <th>...</th>\n",
       "      <td>...</td>\n",
       "      <td>...</td>\n",
       "      <td>...</td>\n",
       "      <td>...</td>\n",
       "      <td>...</td>\n",
       "      <td>...</td>\n",
       "      <td>...</td>\n",
       "      <td>...</td>\n",
       "      <td>...</td>\n",
       "      <td>...</td>\n",
       "      <td>...</td>\n",
       "      <td>...</td>\n",
       "      <td>...</td>\n",
       "      <td>...</td>\n",
       "      <td>...</td>\n",
       "      <td>...</td>\n",
       "      <td>...</td>\n",
       "      <td>...</td>\n",
       "      <td>...</td>\n",
       "      <td>...</td>\n",
       "      <td>...</td>\n",
       "    </tr>\n",
       "    <tr>\n",
       "      <th>97</th>\n",
       "      <td>b4289</td>\n",
       "      <td>fecC</td>\n",
       "      <td>fecABCDE</td>\n",
       "      <td>-1</td>\n",
       "      <td>6038</td>\n",
       "      <td>0</td>\n",
       "      <td>1</td>\n",
       "      <td>0</td>\n",
       "      <td>-17</td>\n",
       "      <td>-6.641246</td>\n",
       "      <td>...</td>\n",
       "      <td>-7.34</td>\n",
       "      <td>-7.57</td>\n",
       "      <td>-6.07</td>\n",
       "      <td>-7.34</td>\n",
       "      <td>-6.99</td>\n",
       "      <td>fur</td>\n",
       "      <td>8.20</td>\n",
       "      <td>4514757.0</td>\n",
       "      <td>4514768.0</td>\n",
       "      <td>2.104134</td>\n",
       "    </tr>\n",
       "    <tr>\n",
       "      <th>98</th>\n",
       "      <td>b4290</td>\n",
       "      <td>fecB</td>\n",
       "      <td>fecABCDE</td>\n",
       "      <td>-1</td>\n",
       "      <td>6038</td>\n",
       "      <td>0</td>\n",
       "      <td>1</td>\n",
       "      <td>0</td>\n",
       "      <td>-17</td>\n",
       "      <td>-6.641246</td>\n",
       "      <td>...</td>\n",
       "      <td>-7.34</td>\n",
       "      <td>-7.57</td>\n",
       "      <td>-6.07</td>\n",
       "      <td>-7.34</td>\n",
       "      <td>-6.99</td>\n",
       "      <td>fur</td>\n",
       "      <td>8.20</td>\n",
       "      <td>4514757.0</td>\n",
       "      <td>4514768.0</td>\n",
       "      <td>2.104134</td>\n",
       "    </tr>\n",
       "    <tr>\n",
       "      <th>99</th>\n",
       "      <td>b4291</td>\n",
       "      <td>fecA</td>\n",
       "      <td>fecABCDE</td>\n",
       "      <td>-1</td>\n",
       "      <td>6038</td>\n",
       "      <td>0</td>\n",
       "      <td>1</td>\n",
       "      <td>0</td>\n",
       "      <td>-17</td>\n",
       "      <td>-6.641246</td>\n",
       "      <td>...</td>\n",
       "      <td>-7.34</td>\n",
       "      <td>-7.57</td>\n",
       "      <td>-6.07</td>\n",
       "      <td>-7.34</td>\n",
       "      <td>-6.99</td>\n",
       "      <td>fur</td>\n",
       "      <td>8.20</td>\n",
       "      <td>4514757.0</td>\n",
       "      <td>4514768.0</td>\n",
       "      <td>2.104134</td>\n",
       "    </tr>\n",
       "    <tr>\n",
       "      <th>100</th>\n",
       "      <td>b4322</td>\n",
       "      <td>uxuA</td>\n",
       "      <td>uxuAB</td>\n",
       "      <td>1</td>\n",
       "      <td>2844</td>\n",
       "      <td>1</td>\n",
       "      <td>0</td>\n",
       "      <td>0</td>\n",
       "      <td>-6</td>\n",
       "      <td>-7.237035</td>\n",
       "      <td>...</td>\n",
       "      <td>-5.30</td>\n",
       "      <td>-6.24</td>\n",
       "      <td>-7.82</td>\n",
       "      <td>-6.99</td>\n",
       "      <td>-6.22</td>\n",
       "      <td>fur</td>\n",
       "      <td>1.53</td>\n",
       "      <td>4549516.0</td>\n",
       "      <td>4549528.0</td>\n",
       "      <td>0.425268</td>\n",
       "    </tr>\n",
       "    <tr>\n",
       "      <th>101</th>\n",
       "      <td>b4323</td>\n",
       "      <td>uxuB</td>\n",
       "      <td>uxuAB</td>\n",
       "      <td>1</td>\n",
       "      <td>2844</td>\n",
       "      <td>1</td>\n",
       "      <td>0</td>\n",
       "      <td>0</td>\n",
       "      <td>-6</td>\n",
       "      <td>-7.237035</td>\n",
       "      <td>...</td>\n",
       "      <td>-5.30</td>\n",
       "      <td>-6.24</td>\n",
       "      <td>-7.82</td>\n",
       "      <td>-6.99</td>\n",
       "      <td>-6.22</td>\n",
       "      <td>fur</td>\n",
       "      <td>1.53</td>\n",
       "      <td>4549516.0</td>\n",
       "      <td>4549528.0</td>\n",
       "      <td>0.425268</td>\n",
       "    </tr>\n",
       "  </tbody>\n",
       "</table>\n",
       "<p>102 rows × 2199 columns</p>\n",
       "</div>"
      ],
      "text/plain": [
       "        ID  gene        TU  strand  TU_length  leading  lagging  terminus  \\\n",
       "0    b0064  araC      araC       1       1025        1        0         0   \n",
       "1    b0131  panD      panD      -1        432        0        1         0   \n",
       "2    b0131  panD      panD      -1        441        0        1         0   \n",
       "3    b0237  pepD      pepD      -1       1518        0        1         0   \n",
       "4    b0237  pepD      pepD      -1       1551        0        1         0   \n",
       "..     ...   ...       ...     ...        ...      ...      ...       ...   \n",
       "97   b4289  fecC  fecABCDE      -1       6038        0        1         0   \n",
       "98   b4290  fecB  fecABCDE      -1       6038        0        1         0   \n",
       "99   b4291  fecA  fecABCDE      -1       6038        0        1         0   \n",
       "100  b4322  uxuA     uxuAB       1       2844        1        0         0   \n",
       "101  b4323  uxuB     uxuAB       1       2844        1        0         0   \n",
       "\n",
       "     Sigma70_Prib_Start  Sigma70_Prib_score  ...  EP_TSS_6  EP_TSS_7  \\\n",
       "0                   -12           -9.343095  ...     -5.31     -5.66   \n",
       "1                   -11           -6.320705  ...     -6.72     -5.52   \n",
       "2                   -12           -6.479392  ...     -5.64     -5.43   \n",
       "3                    -6           -7.049679  ...     -5.14     -5.59   \n",
       "4                   -11           -4.003152  ...     -5.96     -6.55   \n",
       "..                  ...                 ...  ...       ...       ...   \n",
       "97                  -17           -6.641246  ...     -7.34     -7.57   \n",
       "98                  -17           -6.641246  ...     -7.34     -7.57   \n",
       "99                  -17           -6.641246  ...     -7.34     -7.57   \n",
       "100                  -6           -7.237035  ...     -5.30     -6.24   \n",
       "101                  -6           -7.237035  ...     -5.30     -6.24   \n",
       "\n",
       "     EP_TSS_8  EP_TSS_9  EP_TSS_10   TF  SN_ratio      start       stop  \\\n",
       "0       -6.00     -7.76      -7.05  fur      1.67    70524.0    70536.0   \n",
       "1       -8.05     -8.88      -8.81  fur      2.93   146494.0   146507.0   \n",
       "2       -7.15     -5.58      -6.94  fur      2.93   146494.0   146507.0   \n",
       "3       -5.32     -6.98      -5.68  fur      5.83   255803.0   255815.0   \n",
       "4       -5.70     -5.25      -6.93  fur      5.83   255803.0   255815.0   \n",
       "..        ...       ...        ...  ...       ...        ...        ...   \n",
       "97      -6.07     -7.34      -6.99  fur      8.20  4514757.0  4514768.0   \n",
       "98      -6.07     -7.34      -6.99  fur      8.20  4514757.0  4514768.0   \n",
       "99      -6.07     -7.34      -6.99  fur      8.20  4514757.0  4514768.0   \n",
       "100     -7.82     -6.99      -6.22  fur      1.53  4549516.0  4549528.0   \n",
       "101     -7.82     -6.99      -6.22  fur      1.53  4549516.0  4549528.0   \n",
       "\n",
       "       log_SN  \n",
       "0    0.512824  \n",
       "1    1.075002  \n",
       "2    1.075002  \n",
       "3    1.763017  \n",
       "4    1.763017  \n",
       "..        ...  \n",
       "97   2.104134  \n",
       "98   2.104134  \n",
       "99   2.104134  \n",
       "100  0.425268  \n",
       "101  0.425268  \n",
       "\n",
       "[102 rows x 2199 columns]"
      ]
     },
     "execution_count": 11,
     "metadata": {},
     "output_type": "execute_result"
    }
   ],
   "source": [
    "fur_SN_feature"
   ]
  },
  {
   "cell_type": "code",
   "execution_count": 14,
   "metadata": {},
   "outputs": [
    {
     "data": {
      "text/plain": [
       "Text(0.5, 0, 'log(SN):Fur')"
      ]
     },
     "execution_count": 14,
     "metadata": {},
     "output_type": "execute_result"
    },
    {
     "name": "stderr",
     "output_type": "stream",
     "text": [
      "findfont: Font family ['sans-serif'] not found. Falling back to DejaVu Sans.\n"
     ]
    },
    {
     "data": {
      "image/png": "[encoded data removed]",
      "text/plain": [
       "<Figure size 432x288 with 1 Axes>"
      ]
     },
     "metadata": {
      "needs_background": "light"
     },
     "output_type": "display_data"
    }
   ],
   "source": [
    "plt.hist( fur_SN_feature['log_SN'], bins = 50 );\n",
    "plt.axvline(x=4,linestyle='--',c='r')\n",
    "plt.xlabel('log(SN):Fur')"
   ]
  },
  {
   "cell_type": "code",
   "execution_count": 15,
   "metadata": {},
   "outputs": [
    {
     "data": {
      "text/plain": [
       "Text(0.5, 0, 'SN:Fur')"
      ]
     },
     "execution_count": 15,
     "metadata": {},
     "output_type": "execute_result"
    },
    {
     "data": {
      "image/png": "[encoded data removed]",
      "text/plain": [
       "<Figure size 432x288 with 1 Axes>"
      ]
     },
     "metadata": {
      "needs_background": "light"
     },
     "output_type": "display_data"
    }
   ],
   "source": [
    "plt.hist( fur_SN_feature['SN_ratio'], bins = 50 );\n",
    "plt.axvline(x=50,linestyle='--',c='r')\n",
    "plt.xlabel('SN:Fur')"
   ]
  },
  {
   "cell_type": "code",
   "execution_count": 23,
   "metadata": {},
   "outputs": [
    {
     "data": {
      "text/plain": [
       "Text(0.5, 0, 'Fur-2 IM PWM')"
      ]
     },
     "execution_count": 23,
     "metadata": {},
     "output_type": "execute_result"
    },
    {
     "data": {
      "image/png": "[encoded data removed]",
      "text/plain": [
       "<Figure size 1440x360 with 3 Axes>"
      ]
     },
     "metadata": {
      "needs_background": "light"
     },
     "output_type": "display_data"
    }
   ],
   "source": [
    "fig,axs = plt.subplots(1,3, figsize = ( 20,5))\n",
    "axs[0].scatter( fur_SN_feature['Fur score'],  fur_SN_feature['log_SN'])\n",
    "axs[0].set_title( 'corr='+str( np.corrcoef( fur_SN_feature['Fur score'] , fur_SN_feature['log_SN'] )[0,1])[0:6] )\n",
    "axs[0].set_ylabel('log_SN')\n",
    "axs[0].set_xlabel('Fur TFBS PWM')\n",
    "axs[1].scatter( fur_SN_feature['Fur-1 im score'],  fur_SN_feature['log_SN'])\n",
    "axs[1].set_title(  'corr='+str( np.corrcoef( fur_SN_feature['Fur-1 im score'] , fur_SN_feature['log_SN'] )[0,1])[0:6] )\n",
    "axs[1].set_xlabel('Fur-1 IM PWM')\n",
    "axs[2].scatter( fur_SN_feature['Fur-2 im score'],  fur_SN_feature['log_SN'])\n",
    "axs[2].set_title(  'corr='+str( np.corrcoef( fur_SN_feature['Fur-2 im score'] , fur_SN_feature['log_SN'] )[0,1])[0:6] )\n",
    "axs[2].set_xlabel('Fur-2 IM PWM')"
   ]
  },
  {
   "cell_type": "markdown",
   "metadata": {},
   "source": [
    "## Fur and logSN"
   ]
  },
  {
   "cell_type": "code",
   "execution_count": 13,
   "metadata": {},
   "outputs": [],
   "source": [
    "fur_feature_range = [3,4,5,6,7]+list(range(469,488)) + list(range(1191,1210)) + list(range(1476,1495))\n",
    "fur_features = list(fur_SN_feature.columns[3:8]) + list(fur_SN_feature.columns[469:488]) \\\n",
    "                    + list(fur_SN_feature.columns[1191:1210]) + list(fur_SN_feature.columns[1476:1495]) \n",
    "\n",
    "X_fur = fur_SN_feature.iloc[:,fur_feature_range ].values\n",
    "X_fur = StandardScaler().fit_transform(X_fur)\n",
    "featureList = list(fur_SN_feature.columns[3:2194])\n",
    "log_SN_fur = list(fur_SN_feature['log_SN'])\n",
    "SN_fur = list(fur_SN_feature['SN_ratio'])\n",
    "high_genes = []\n",
    "low_genes = []\n",
    "log_highlow = []\n",
    "highlow = []\n",
    "for i in range( len(fur_SN_feature['log_SN']) ):\n",
    "    if log_SN_fur[i] < 4:\n",
    "        log_highlow.append(0)\n",
    "        low_genes.append( fur_SN_feature['ID'][i]  )\n",
    "    else:\n",
    "        log_highlow.append(1)\n",
    "        high_genes.append( fur_SN_feature['ID'][i] )\n",
    "    \n",
    "    if SN_fur[i] < 50:\n",
    "        highlow.append(0)\n",
    "    else:\n",
    "        highlow.append(1)    "
   ]
  },
  {
   "cell_type": "code",
   "execution_count": 14,
   "metadata": {},
   "outputs": [
    {
     "data": {
      "text/plain": [
       "<matplotlib_venn._common.VennDiagram at 0x7fef880f8190>"
      ]
     },
     "execution_count": 14,
     "metadata": {},
     "output_type": "execute_result"
    },
    {
     "name": "stderr",
     "output_type": "stream",
     "text": [
      "findfont: Font family ['sans-serif'] not found. Falling back to DejaVu Sans.\n",
      "findfont: Font family ['sans-serif'] not found. Falling back to DejaVu Sans.\n"
     ]
    },
    {
     "data": {
      "image/png": "[encoded data removed]",
      "text/plain": [
       "<Figure size 864x360 with 3 Axes>"
      ]
     },
     "metadata": {},
     "output_type": "display_data"
    }
   ],
   "source": [
    "from matplotlib_venn import venn2\n",
    "fig,axs = plt.subplots(1,3,figsize=(12,5))\n",
    "venn2([set(IM_genes['Fur-1']),set(high_genes)],set_labels = ('Fur-1-IM','Fur_high_SN'),ax =axs[0])\n",
    "venn2([set(IM_genes['Fur-2']),set(high_genes)],set_labels = ('Fur-2-IM','Fur_high_SN'),ax =axs[1])\n",
    "venn2([set(regulon_genes['Fur']),set(high_genes)],set_labels = ('Fur-regulon','Fur_high_SN'),ax =axs[2])"
   ]
  },
  {
   "cell_type": "code",
   "execution_count": 15,
   "metadata": {},
   "outputs": [
    {
     "data": {
      "text/plain": [
       "<matplotlib_venn._common.VennDiagram at 0x7fef878c1820>"
      ]
     },
     "execution_count": 15,
     "metadata": {},
     "output_type": "execute_result"
    },
    {
     "data": {
      "image/png": "[encoded data removed]",
      "text/plain": [
       "<Figure size 864x360 with 3 Axes>"
      ]
     },
     "metadata": {},
     "output_type": "display_data"
    }
   ],
   "source": [
    "from matplotlib_venn import venn2\n",
    "fig,axs = plt.subplots(1,3,figsize=(12,5))\n",
    "venn2([set(IM_genes['Fur-1']),set(low_genes)],set_labels = ('Fur-1-IM','Fur_low_SN'),ax =axs[0])\n",
    "venn2([set(IM_genes['Fur-2']),set(low_genes)],set_labels = ('Fur-2-IM','Fur_low_SN'),ax =axs[1])\n",
    "venn2([set(regulon_genes['Fur']),set(low_genes)],set_labels = ('Fur-regulon','Fur_low_SN'),ax =axs[2])"
   ]
  },
  {
   "cell_type": "markdown",
   "metadata": {},
   "source": [
    "## classification on high/low attempt"
   ]
  },
  {
   "cell_type": "code",
   "execution_count": 16,
   "metadata": {},
   "outputs": [],
   "source": [
    "from sklearn.ensemble import RandomForestClassifier\n",
    "from sklearn.linear_model import LogisticRegression\n",
    "from sklearn.model_selection import cross_validate, RandomizedSearchCV\n",
    "from sklearn.preprocessing import StandardScaler\n",
    "from sklearn.svm import LinearSVC\n",
    "from sklearn.utils.class_weight import compute_class_weight"
   ]
  },
  {
   "cell_type": "code",
   "execution_count": 17,
   "metadata": {},
   "outputs": [],
   "source": [
    "y_to_try = {\n",
    "    'SN_high/low':highlow,\n",
    "    'log(SN)_high/low':log_highlow,\n",
    "}\n",
    "\n",
    "models_to_try = {\n",
    "    'LR': LogisticRegression(\n",
    "        penalty='l1',\n",
    "        solver='saga',\n",
    "        class_weight='balanced',\n",
    "        random_state=42\n",
    "    ),\n",
    "    'SVM': LinearSVC(\n",
    "        penalty='l1',\n",
    "        class_weight='balanced',\n",
    "        dual=False,\n",
    "        random_state=42,\n",
    "        verbose=1\n",
    "    ),\n",
    "    'RF': RandomForestClassifier(\n",
    "        class_weight='balanced',\n",
    "        random_state=42,\n",
    "        verbose=1\n",
    "    )\n",
    "}"
   ]
  },
  {
   "cell_type": "code",
   "execution_count": 18,
   "metadata": {},
   "outputs": [
    {
     "name": "stdout",
     "output_type": "stream",
     "text": [
      "LR\n",
      "LR: SN_high/low\n"
     ]
    },
    {
     "name": "stderr",
     "output_type": "stream",
     "text": [
      "[Parallel(n_jobs=4)]: Using backend LokyBackend with 4 concurrent workers.\n",
      "[Parallel(n_jobs=4)]: Done   5 out of   5 | elapsed:    2.0s finished\n",
      "[Parallel(n_jobs=4)]: Using backend LokyBackend with 4 concurrent workers.\n",
      "[Parallel(n_jobs=4)]: Done   5 out of   5 | elapsed:    0.0s finished\n",
      "[Parallel(n_jobs=4)]: Using backend LokyBackend with 4 concurrent workers.\n",
      "[Parallel(n_jobs=4)]: Done   5 out of   5 | elapsed:    0.1s finished\n"
     ]
    },
    {
     "name": "stdout",
     "output_type": "stream",
     "text": [
      "LR: log(SN)_high/low\n",
      "SVM\n",
      "SVM: SN_high/low\n",
      "SVM: log(SN)_high/low\n"
     ]
    },
    {
     "name": "stderr",
     "output_type": "stream",
     "text": [
      "[Parallel(n_jobs=4)]: Using backend LokyBackend with 4 concurrent workers.\n",
      "[Parallel(n_jobs=4)]: Done   5 out of   5 | elapsed:    0.1s finished\n",
      "[Parallel(n_jobs=4)]: Using backend LokyBackend with 4 concurrent workers.\n"
     ]
    },
    {
     "name": "stdout",
     "output_type": "stream",
     "text": [
      "RF\n",
      "RF: SN_high/low\n"
     ]
    },
    {
     "name": "stderr",
     "output_type": "stream",
     "text": [
      "[Parallel(n_jobs=4)]: Done   5 out of   5 | elapsed:    0.6s finished\n",
      "[Parallel(n_jobs=4)]: Using backend LokyBackend with 4 concurrent workers.\n"
     ]
    },
    {
     "name": "stdout",
     "output_type": "stream",
     "text": [
      "RF: log(SN)_high/low\n"
     ]
    },
    {
     "name": "stderr",
     "output_type": "stream",
     "text": [
      "[Parallel(n_jobs=4)]: Done   5 out of   5 | elapsed:    0.5s finished\n"
     ]
    }
   ],
   "source": [
    "result_df = pd.DataFrame(\n",
    "    columns=['model', 'chip_peak', 'train_auc', 'test_auc']\n",
    ")\n",
    "\n",
    "N_CV = 5\n",
    "\n",
    "for model_name, model in models_to_try.items():\n",
    "    print(f'{model_name}')\n",
    "    \n",
    "    for y_name, y_labels in y_to_try.items():\n",
    "        print(f'{model_name}: {y_name}')\n",
    "        \n",
    "        cv_result = cross_validate(\n",
    "            model,\n",
    "            X_fur,\n",
    "            y= y_labels,\n",
    "            cv=N_CV,\n",
    "            scoring='roc_auc',\n",
    "            return_train_score=True,\n",
    "            verbose=1,\n",
    "            n_jobs=4\n",
    "        )\n",
    "\n",
    "        sub_result_df = pd.DataFrame(\n",
    "            data={\n",
    "                'model': [model_name] * N_CV,\n",
    "                'chip_peak': [y_name] * N_CV,\n",
    "                'train_auc': cv_result['train_score'],\n",
    "                'test_auc': cv_result['test_score']\n",
    "            }\n",
    "        )\n",
    "\n",
    "        result_df = result_df.append(sub_result_df)"
   ]
  },
  {
   "cell_type": "code",
   "execution_count": 19,
   "metadata": {},
   "outputs": [
    {
     "data": {
      "text/plain": [
       "<matplotlib.lines.Line2D at 0x7fef817d7760>"
      ]
     },
     "execution_count": 19,
     "metadata": {},
     "output_type": "execute_result"
    },
    {
     "data": {
      "image/png": "[encoded data removed]",
      "text/plain": [
       "<Figure size 432x288 with 1 Axes>"
      ]
     },
     "metadata": {
      "needs_background": "light"
     },
     "output_type": "display_data"
    }
   ],
   "source": [
    "_, ax = plt.subplots()\n",
    "sns.boxplot(x='model', y='test_auc', data=result_df, hue='chip_peak', dodge=True, ax=ax)\n",
    "plt.legend(loc='right', bbox_to_anchor=(1.5, 0.5))\n",
    "plt.axhline(y= 0.5, color = 'r', ls = '--')"
   ]
  },
  {
   "cell_type": "code",
   "execution_count": 20,
   "metadata": {},
   "outputs": [],
   "source": [
    "hyperopt_models = {\n",
    "    'LR': {\n",
    "        'model': LogisticRegression(\n",
    "            solver='saga',\n",
    "            class_weight='balanced',\n",
    "            verbose=1\n",
    "        ),\n",
    "        'param_dists': {\n",
    "            'penalty': ['l1', 'l2'],\n",
    "            'C': np.arange(0.01, 5, 0.05),\n",
    "            'max_iter':np.array([100,200,500,1000,1500,2000])\n",
    "        }\n",
    "    },\n",
    "    'SVM': {\n",
    "        'model': LinearSVC(\n",
    "            class_weight='balanced',\n",
    "            dual=False,\n",
    "            verbose=1\n",
    "        ),\n",
    "        'param_dists': {\n",
    "            'penalty': ['l1', 'l2'],\n",
    "            'loss': ['hinge', 'squared_hinge'],\n",
    "            'C': np.arange(0.01, 5, 0.05)\n",
    "        }\n",
    "    },\n",
    "    'RF': {\n",
    "        'model': RandomForestClassifier(\n",
    "            class_weight='balanced',\n",
    "            verbose=1\n",
    "        ),\n",
    "        'param_dists': {\n",
    "            'n_estimators': np.arange(10, 100, 5), # use smaller number of trees to reduce overfit\n",
    "            'max_depth': np.arange(3, 15),\n",
    "            'min_samples_split': np.arange(0.001, 0.02, 0.001),\n",
    "            'min_samples_leaf': np.arange(5, 15)\n",
    "        }\n",
    "    }\n",
    "}"
   ]
  },
  {
   "cell_type": "code",
   "execution_count": 21,
   "metadata": {},
   "outputs": [
    {
     "name": "stdout",
     "output_type": "stream",
     "text": [
      "LR\n",
      "Fitting 5 folds for each of 25 candidates, totalling 125 fits\n"
     ]
    },
    {
     "name": "stderr",
     "output_type": "stream",
     "text": [
      "[Parallel(n_jobs=4)]: Using backend LokyBackend with 4 concurrent workers.\n",
      "[Parallel(n_jobs=4)]: Done  50 tasks      | elapsed:    4.2s\n",
      "[Parallel(n_jobs=4)]: Done 118 out of 125 | elapsed:    8.0s remaining:    0.5s\n",
      "[Parallel(n_jobs=4)]: Done 125 out of 125 | elapsed:    8.4s finished\n",
      "[Parallel(n_jobs=1)]: Using backend SequentialBackend with 1 concurrent workers.\n",
      "[Parallel(n_jobs=1)]: Done   1 out of   1 | elapsed:    0.1s finished\n",
      "[Parallel(n_jobs=4)]: Using backend LokyBackend with 4 concurrent workers.\n"
     ]
    },
    {
     "name": "stdout",
     "output_type": "stream",
     "text": [
      "convergence after 544 epochs took 0 seconds\n",
      "SVM\n",
      "Fitting 5 folds for each of 25 candidates, totalling 125 fits\n"
     ]
    },
    {
     "name": "stderr",
     "output_type": "stream",
     "text": [
      "[Parallel(n_jobs=4)]: Done 125 out of 125 | elapsed:    1.0s finished\n",
      "/usr/local/lib/python3.8/dist-packages/sklearn/svm/_base.py:976: ConvergenceWarning: Liblinear failed to converge, increase the number of iterations.\n",
      "  warnings.warn(\"Liblinear failed to converge, increase \"\n",
      "[Parallel(n_jobs=4)]: Using backend LokyBackend with 4 concurrent workers.\n"
     ]
    },
    {
     "name": "stdout",
     "output_type": "stream",
     "text": [
      "[LibLinear]RF\n",
      "Fitting 5 folds for each of 25 candidates, totalling 125 fits\n"
     ]
    },
    {
     "name": "stderr",
     "output_type": "stream",
     "text": [
      "[Parallel(n_jobs=4)]: Done  76 tasks      | elapsed:    4.1s\n",
      "[Parallel(n_jobs=4)]: Done 118 out of 125 | elapsed:    6.5s remaining:    0.4s\n",
      "[Parallel(n_jobs=4)]: Done 125 out of 125 | elapsed:    6.8s finished\n",
      "[Parallel(n_jobs=1)]: Using backend SequentialBackend with 1 concurrent workers.\n",
      "[Parallel(n_jobs=1)]: Done  85 out of  85 | elapsed:    0.1s finished\n"
     ]
    }
   ],
   "source": [
    "hyperopt_m = {}\n",
    "\n",
    "for model_name  in hyperopt_models.keys():\n",
    "    print(model_name)\n",
    "\n",
    "    random_search_hyperopt = RandomizedSearchCV(\n",
    "        hyperopt_models[model_name]['model'],\n",
    "        hyperopt_models[model_name]['param_dists'],\n",
    "        n_iter=25,\n",
    "        scoring='roc_auc',\n",
    "        n_jobs=4,\n",
    "        cv=5,\n",
    "        verbose=1,\n",
    "        return_train_score=True\n",
    "    )\n",
    "\n",
    "    random_search_hyperopt.fit(X_fur, highlow)\n",
    "    \n",
    "    hyperopt_results_df = pd.DataFrame(random_search_hyperopt.cv_results_).sort_values(\n",
    "        by='mean_test_score',\n",
    "        ascending=False\n",
    "    )\n",
    "    hyperopt_m[model_name] = hyperopt_results_df"
   ]
  },
  {
   "cell_type": "code",
   "execution_count": 23,
   "metadata": {},
   "outputs": [
    {
     "data": {
      "text/plain": [
       "Text(0, 0.5, 'ROC_auc')"
      ]
     },
     "execution_count": 23,
     "metadata": {},
     "output_type": "execute_result"
    },
    {
     "data": {
      "image/png": "[encoded data removed]",
      "text/plain": [
       "<Figure size 216x288 with 1 Axes>"
      ]
     },
     "metadata": {
      "needs_background": "light"
     },
     "output_type": "display_data"
    }
   ],
   "source": [
    "dfs_with_ims = []\n",
    "for model_name, hyperopt_df in hyperopt_m.items():\n",
    "    hyperopt_df['model'] = [model_name] * hyperopt_df.shape[0]\n",
    "    dfs_with_ims.append(hyperopt_df)   \n",
    "hyperopt_models_df = pd.concat(dfs_with_ims, axis=0, ignore_index=True)\n",
    "\n",
    "\n",
    "fig = plt.figure(figsize = (3,4))\n",
    "#sns.swarmplot(x='model', y='mean_train_score', data=hyperopt_models_df)\n",
    "sns.boxplot(x='model', y='mean_test_score', data=hyperopt_models_df)\n",
    "plt.axhline(y= 0.8, color = 'purple', ls = '--')\n",
    "plt.axhline(y= 0.5, color = 'r', ls = '--')\n",
    "plt.title('Fur S/N ratios high/low Classification')\n",
    "plt.ylabel('ROC_auc')"
   ]
  },
  {
   "cell_type": "code",
   "execution_count": 50,
   "metadata": {},
   "outputs": [
    {
     "data": {
      "text/plain": [
       "{'penalty': 'l1', 'max_iter': 200, 'C': 1.9100000000000001}"
      ]
     },
     "execution_count": 50,
     "metadata": {},
     "output_type": "execute_result"
    }
   ],
   "source": [
    "hyperopt_models_df[hyperopt_models_df['model']=='LR']['params'][0]"
   ]
  },
  {
   "cell_type": "code",
   "execution_count": 24,
   "metadata": {},
   "outputs": [],
   "source": [
    "import shap\n",
    "from sklearn.model_selection import train_test_split\n",
    "\n",
    "X_fi = pd.DataFrame( X_fur, columns= fur_features , index=fur_SN_feature.index )"
   ]
  },
  {
   "cell_type": "code",
   "execution_count": 39,
   "metadata": {},
   "outputs": [
    {
     "name": "stderr",
     "output_type": "stream",
     "text": [
      "[Parallel(n_jobs=1)]: Using backend SequentialBackend with 1 concurrent workers.\n",
      "[Parallel(n_jobs=1)]: Done  65 out of  65 | elapsed:    0.1s finished\n"
     ]
    },
    {
     "data": {
      "image/png": "[encoded data removed]",
      "text/plain": [
       "<Figure size 576x280.8 with 1 Axes>"
      ]
     },
     "metadata": {
      "needs_background": "light"
     },
     "output_type": "display_data"
    }
   ],
   "source": [
    "X_train, X_test, y_train, y_test = train_test_split( X_fi, highlow, test_size=0.3, random_state=7)\n",
    "\n",
    "clf = RandomForestClassifier(class_weight='balanced',n_estimators = 65,min_samples_split= 0.005,min_samples_leaf=9,\n",
    "                max_depth=3, verbose=1)\n",
    "\n",
    "clf.fit(X_train, y_train)\n",
    "explainer = shap.TreeExplainer( clf )\n",
    "plt.title('RF')\n",
    "shap_values = explainer.shap_values( X_test )\n",
    "shap.summary_plot(shap_values, X_test, max_display=6)"
   ]
  },
  {
   "cell_type": "code",
   "execution_count": 43,
   "metadata": {},
   "outputs": [
    {
     "data": {
      "text/html": [
       "<div>\n",
       "<style scoped>\n",
       "    .dataframe tbody tr th:only-of-type {\n",
       "        vertical-align: middle;\n",
       "    }\n",
       "\n",
       "    .dataframe tbody tr th {\n",
       "        vertical-align: top;\n",
       "    }\n",
       "\n",
       "    .dataframe thead th {\n",
       "        text-align: right;\n",
       "    }\n",
       "</style>\n",
       "<table border=\"1\" class=\"dataframe\">\n",
       "  <thead>\n",
       "    <tr style=\"text-align: right;\">\n",
       "      <th></th>\n",
       "      <th>RF_feature</th>\n",
       "      <th>importance</th>\n",
       "    </tr>\n",
       "  </thead>\n",
       "  <tbody>\n",
       "    <tr>\n",
       "      <th>0</th>\n",
       "      <td>Fur-2 im score</td>\n",
       "      <td>0.1027</td>\n",
       "    </tr>\n",
       "    <tr>\n",
       "      <th>1</th>\n",
       "      <td>Fur score</td>\n",
       "      <td>0.0964</td>\n",
       "    </tr>\n",
       "    <tr>\n",
       "      <th>2</th>\n",
       "      <td>Fur-1 im score</td>\n",
       "      <td>0.0945</td>\n",
       "    </tr>\n",
       "    <tr>\n",
       "      <th>3</th>\n",
       "      <td>Fur-1 im MGW_max</td>\n",
       "      <td>0.0728</td>\n",
       "    </tr>\n",
       "    <tr>\n",
       "      <th>4</th>\n",
       "      <td>Fur-1 im HelT_min</td>\n",
       "      <td>0.0706</td>\n",
       "    </tr>\n",
       "    <tr>\n",
       "      <th>5</th>\n",
       "      <td>Fur-1 im HelT_range</td>\n",
       "      <td>0.0643</td>\n",
       "    </tr>\n",
       "    <tr>\n",
       "      <th>6</th>\n",
       "      <td>Fur-2 im ProT_range</td>\n",
       "      <td>0.0584</td>\n",
       "    </tr>\n",
       "    <tr>\n",
       "      <th>7</th>\n",
       "      <td>Fur-1 im Roll_min</td>\n",
       "      <td>0.0527</td>\n",
       "    </tr>\n",
       "    <tr>\n",
       "      <th>8</th>\n",
       "      <td>Fur-2 im Roll_min</td>\n",
       "      <td>0.0408</td>\n",
       "    </tr>\n",
       "    <tr>\n",
       "      <th>9</th>\n",
       "      <td>Fur-2 im MGW_max</td>\n",
       "      <td>0.0396</td>\n",
       "    </tr>\n",
       "  </tbody>\n",
       "</table>\n",
       "</div>"
      ],
      "text/plain": [
       "            RF_feature  importance\n",
       "0       Fur-2 im score      0.1027\n",
       "1            Fur score      0.0964\n",
       "2       Fur-1 im score      0.0945\n",
       "3     Fur-1 im MGW_max      0.0728\n",
       "4    Fur-1 im HelT_min      0.0706\n",
       "5  Fur-1 im HelT_range      0.0643\n",
       "6  Fur-2 im ProT_range      0.0584\n",
       "7    Fur-1 im Roll_min      0.0527\n",
       "8    Fur-2 im Roll_min      0.0408\n",
       "9     Fur-2 im MGW_max      0.0396"
      ]
     },
     "execution_count": 43,
     "metadata": {},
     "output_type": "execute_result"
    }
   ],
   "source": [
    "temp_list = [('Fur-2 im score', 0.1026778479800882), ('Fur score', 0.09636914798518491), ('Fur-1 im score', 0.09447934659046342), ('Fur-1 im MGW_max', 0.07284675678287675), ('Fur-1 im HelT_min', 0.0705513083558426), ('Fur-1 im HelT_range', 0.06434636927352344), ('Fur-2 im ProT_range', 0.05841141134775561), ('Fur-1 im Roll_min', 0.052662367255526844), ('Fur-2 im Roll_min', 0.04080444928182345), ('Fur-2 im MGW_max', 0.03958838996902603)]\n",
    "table_list = []\n",
    "for f,v in temp_list:\n",
    "    table_list.append( (f, round(v,4) ))\n",
    "\n",
    "pd.DataFrame(table_list,columns = ['RF_feature','importance'])"
   ]
  },
  {
   "cell_type": "code",
   "execution_count": 32,
   "metadata": {},
   "outputs": [
    {
     "name": "stderr",
     "output_type": "stream",
     "text": [
      "Liblinear failed to converge, increase the number of iterations.\n"
     ]
    },
    {
     "data": {
      "image/png": "[encoded data removed]",
      "text/plain": [
       "<Figure size 576x280.8 with 2 Axes>"
      ]
     },
     "metadata": {
      "needs_background": "light"
     },
     "output_type": "display_data"
    }
   ],
   "source": [
    "X_train, X_test, y_train, y_test = train_test_split( X_fi, highlow, test_size=0.3, random_state=7)\n",
    "clf = LinearSVC(penalty = 'l1',dual=False, loss='squared_hinge',C= 2.11)\n",
    "\n",
    "clf.fit(X_train, y_train)\n",
    "explainer = shap.Explainer(clf, X_train )\n",
    "shapval = explainer(X_test)\n",
    "plt.title('SVM')\n",
    "shap.plots.beeswarm(  shapval,max_display=6 )"
   ]
  },
  {
   "cell_type": "code",
   "execution_count": 34,
   "metadata": {},
   "outputs": [
    {
     "name": "stderr",
     "output_type": "stream",
     "text": [
      "The max_iter was reached which means the coef_ did not converge\n"
     ]
    },
    {
     "data": {
      "image/png": "[encoded data removed]",
      "text/plain": [
       "<Figure size 576x280.8 with 2 Axes>"
      ]
     },
     "metadata": {
      "needs_background": "light"
     },
     "output_type": "display_data"
    }
   ],
   "source": [
    "X_train, X_test, y_train, y_test = train_test_split( X_fi, highlow, test_size=0.3, random_state=7)\n",
    "clf = LogisticRegression(solver='saga',penalty = 'l1',C= 1.91, max_iter =200 )\n",
    "clf.fit(X_train, y_train)\n",
    "explainer = shap.Explainer(clf, X_train )\n",
    "shapval = explainer(X_test)\n",
    "plt.title('LR')\n",
    "shap.plots.beeswarm(  shapval,max_display=6 )"
   ]
  },
  {
   "cell_type": "markdown",
   "metadata": {},
   "source": [
    "## Regression"
   ]
  },
  {
   "cell_type": "code",
   "execution_count": 26,
   "metadata": {},
   "outputs": [],
   "source": [
    "models_to_try = {\n",
    "    'ElasticNet': ElasticNet(),\n",
    "    'SVR': SVR(),\n",
    "    'RF': RandomForestRegressor(\n",
    "        random_state=42,\n",
    "        n_jobs=4\n",
    "    )\n",
    "}\n",
    "\n",
    "y_to_try = {\n",
    "    'log_SN_fur ':log_SN_fur,\n",
    "    'SN_fur':SN_fur,\n",
    "}"
   ]
  },
  {
   "cell_type": "code",
   "execution_count": 28,
   "metadata": {},
   "outputs": [
    {
     "name": "stdout",
     "output_type": "stream",
     "text": [
      "ElasticNet\n",
      "ElasticNet: log_SN_fur \n"
     ]
    },
    {
     "name": "stderr",
     "output_type": "stream",
     "text": [
      "[Parallel(n_jobs=4)]: Using backend LokyBackend with 4 concurrent workers.\n",
      "[Parallel(n_jobs=4)]: Done   5 out of   5 | elapsed:    3.0s finished\n",
      "[Parallel(n_jobs=4)]: Using backend LokyBackend with 4 concurrent workers.\n"
     ]
    },
    {
     "name": "stdout",
     "output_type": "stream",
     "text": [
      "ElasticNet: SN_fur\n"
     ]
    },
    {
     "name": "stderr",
     "output_type": "stream",
     "text": [
      "[Parallel(n_jobs=4)]: Done   5 out of   5 | elapsed:    0.6s finished\n",
      "[Parallel(n_jobs=4)]: Using backend LokyBackend with 4 concurrent workers.\n"
     ]
    },
    {
     "name": "stdout",
     "output_type": "stream",
     "text": [
      "SVR\n",
      "SVR: log_SN_fur \n"
     ]
    },
    {
     "name": "stderr",
     "output_type": "stream",
     "text": [
      "[Parallel(n_jobs=4)]: Done   5 out of   5 | elapsed:    0.2s finished\n",
      "[Parallel(n_jobs=4)]: Using backend LokyBackend with 4 concurrent workers.\n"
     ]
    },
    {
     "name": "stdout",
     "output_type": "stream",
     "text": [
      "SVR: SN_fur\n"
     ]
    },
    {
     "name": "stderr",
     "output_type": "stream",
     "text": [
      "[Parallel(n_jobs=4)]: Done   5 out of   5 | elapsed:    0.4s finished\n",
      "[Parallel(n_jobs=4)]: Using backend LokyBackend with 4 concurrent workers.\n"
     ]
    },
    {
     "name": "stdout",
     "output_type": "stream",
     "text": [
      "RF\n",
      "RF: log_SN_fur \n"
     ]
    },
    {
     "name": "stderr",
     "output_type": "stream",
     "text": [
      "[Parallel(n_jobs=4)]: Done   5 out of   5 | elapsed:    7.1s finished\n",
      "[Parallel(n_jobs=4)]: Using backend LokyBackend with 4 concurrent workers.\n"
     ]
    },
    {
     "name": "stdout",
     "output_type": "stream",
     "text": [
      "RF: SN_fur\n"
     ]
    },
    {
     "name": "stderr",
     "output_type": "stream",
     "text": [
      "[Parallel(n_jobs=4)]: Done   5 out of   5 | elapsed:    8.0s finished\n"
     ]
    }
   ],
   "source": [
    "result_df = pd.DataFrame(\n",
    "    columns=['model', 'SN', 'train_r2', 'test_r2']\n",
    ")\n",
    "\n",
    "N_CV = 5\n",
    "\n",
    "for model_name, model in models_to_try.items():\n",
    "    print(f'{model_name}')\n",
    "    \n",
    "    for y_name, y_values in y_to_try.items():\n",
    "        print(f'{model_name}: {y_name}')  \n",
    "        \n",
    "        cv_result = cross_validate(\n",
    "            model,\n",
    "            X_fur,\n",
    "            y= y_values,\n",
    "            cv=N_CV,\n",
    "            scoring='r2',\n",
    "            return_train_score=True,\n",
    "            verbose=1,\n",
    "            n_jobs=4\n",
    "        )\n",
    "\n",
    "        sub_result_df = pd.DataFrame(\n",
    "            data={\n",
    "                'model': [model_name] * N_CV,\n",
    "                'SN': [y_name] * N_CV,\n",
    "                'train_r2': cv_result['train_score'],\n",
    "                'test_r2': cv_result['test_score']\n",
    "            }\n",
    "        )\n",
    "\n",
    "        result_df = result_df.append(sub_result_df)"
   ]
  },
  {
   "cell_type": "code",
   "execution_count": 31,
   "metadata": {},
   "outputs": [
    {
     "data": {
      "text/plain": [
       "(-1.0, 1.0)"
      ]
     },
     "execution_count": 31,
     "metadata": {},
     "output_type": "execute_result"
    },
    {
     "data": {
      "image/png": "[encoded data removed]",
      "text/plain": [
       "<Figure size 432x288 with 1 Axes>"
      ]
     },
     "metadata": {
      "needs_background": "light"
     },
     "output_type": "display_data"
    }
   ],
   "source": [
    "_, ax = plt.subplots()\n",
    "sns.swarmplot(x='model', y='test_r2', data=result_df, hue='SN', dodge=True, ax=ax)\n",
    "ax.set_ylim(-1,1)"
   ]
  },
  {
   "cell_type": "markdown",
   "metadata": {},
   "source": [
    "# hyptuning on logSN"
   ]
  },
  {
   "cell_type": "code",
   "execution_count": 38,
   "metadata": {},
   "outputs": [],
   "source": [
    "hyperopt_models = {\n",
    "    'ElasticNet': {\n",
    "        'model':ElasticNet(random_state=42),\n",
    "        'param_dists': {\n",
    "            'l1_ratio': np.arange(0.0, 1, 20),\n",
    "             'alpha': [0.0001, 0.001, 0.01, 0.1, 1, 10, 100],\n",
    "             'selection':['cyclic', 'random']         \n",
    "        }\n",
    "    },\n",
    "    'SVR': {\n",
    "        'model': SVR(kernel='rbf',degree=3,epsilon=0.1),\n",
    "        'param_dists': {\n",
    "            'degree': [3,4,5,6,7,8,9,10],\n",
    "            'gamma': ['scale', 'auto'],\n",
    "            'C': np.arange(0.01, 10, 0.05),\n",
    "        }\n",
    "    },\n",
    "    'RFR': {\n",
    "        'model': RandomForestRegressor( verbose=1,random_state=42),\n",
    "        'param_dists': {\n",
    "            'n_estimators': np.arange(50, 250, 10),\n",
    "            'max_depth': np.arange(3, 15),\n",
    "            'min_samples_split': np.arange(0.001, 0.02, 0.001),\n",
    "            'min_samples_leaf': np.arange(5, 15)\n",
    "        }\n",
    "    }\n",
    "}"
   ]
  },
  {
   "cell_type": "code",
   "execution_count": 41,
   "metadata": {},
   "outputs": [
    {
     "name": "stdout",
     "output_type": "stream",
     "text": [
      "log_SN_fur \n",
      "Fitting 5 folds for each of 25 candidates, totalling 125 fits\n"
     ]
    },
    {
     "name": "stderr",
     "output_type": "stream",
     "text": [
      "[Parallel(n_jobs=4)]: Using backend LokyBackend with 4 concurrent workers.\n",
      "[Parallel(n_jobs=4)]: Done  42 tasks      | elapsed:    4.9s\n",
      "[Parallel(n_jobs=4)]: Done 125 out of 125 | elapsed:   12.3s finished\n",
      "[Parallel(n_jobs=1)]: Using backend SequentialBackend with 1 concurrent workers.\n",
      "[Parallel(n_jobs=1)]: Done 110 out of 110 | elapsed:    0.1s finished\n",
      "[Parallel(n_jobs=4)]: Using backend LokyBackend with 4 concurrent workers.\n"
     ]
    },
    {
     "name": "stdout",
     "output_type": "stream",
     "text": [
      "SN_fur\n",
      "Fitting 5 folds for each of 25 candidates, totalling 125 fits\n"
     ]
    },
    {
     "name": "stderr",
     "output_type": "stream",
     "text": [
      "[Parallel(n_jobs=4)]: Done  42 tasks      | elapsed:    4.7s\n",
      "[Parallel(n_jobs=4)]: Done 125 out of 125 | elapsed:   13.1s finished\n",
      "[Parallel(n_jobs=1)]: Using backend SequentialBackend with 1 concurrent workers.\n",
      "[Parallel(n_jobs=1)]: Done 100 out of 100 | elapsed:    0.1s finished\n"
     ]
    }
   ],
   "source": [
    "hyperopt_RFR = {}\n",
    "\n",
    "for y_name, y_values in y_to_try.items():\n",
    "    print(y_name)\n",
    "\n",
    "    random_search_hyperopt = RandomizedSearchCV(\n",
    "        hyperopt_models['RFR']['model'],\n",
    "        hyperopt_models['RFR']['param_dists'],\n",
    "        n_iter=25,\n",
    "        scoring='r2',\n",
    "        n_jobs=4,\n",
    "        cv=5,\n",
    "        verbose=1,\n",
    "        return_train_score=True\n",
    "    )\n",
    "\n",
    "    random_search_hyperopt.fit(X_fur,y_values )\n",
    "    \n",
    "    hyperopt_results_df = pd.DataFrame(random_search_hyperopt.cv_results_).sort_values(\n",
    "        by='mean_test_score',\n",
    "        ascending=False\n",
    "    )\n",
    "    hyperopt_RFR[y_name] = hyperopt_results_df\n",
    "    \n",
    "dfs_with_SN = []\n",
    "for y_name, hyperopt_df in hyperopt_RFR.items():\n",
    "    hyperopt_df['SN'] = [y_name] * hyperopt_df.shape[0]\n",
    "    dfs_with_SN.append(hyperopt_df)\n",
    "    \n",
    "hyperopt_RFR_df = pd.concat(dfs_with_SN, axis=0, ignore_index=True)"
   ]
  },
  {
   "cell_type": "code",
   "execution_count": 43,
   "metadata": {},
   "outputs": [
    {
     "data": {
      "text/plain": [
       "Text(0, 0.5, 'r2')"
      ]
     },
     "execution_count": 43,
     "metadata": {},
     "output_type": "execute_result"
    },
    {
     "data": {
      "image/png": "[encoded data removed]",
      "text/plain": [
       "<Figure size 432x288 with 1 Axes>"
      ]
     },
     "metadata": {
      "needs_background": "light"
     },
     "output_type": "display_data"
    }
   ],
   "source": [
    "_, ax = plt.subplots()\n",
    "sns.swarmplot(x='SN', y='mean_test_score', data= hyperopt_RFR_df,ax = ax )\n",
    "ax.set_ylabel('r2')"
   ]
  },
  {
   "cell_type": "markdown",
   "metadata": {},
   "source": [
    "# Multi strain work for Fur"
   ]
  },
  {
   "cell_type": "code",
   "execution_count": 31,
   "metadata": {},
   "outputs": [],
   "source": [
    "strains = ['042','BL21','CFT073','Crooks','KO11FL','Sakai','W','W3110'];\n",
    "Fur_multi_table = {}\n",
    "for strain in strains:\n",
    "    Fur_multi_table[strain] = pd.read_csv('data/Fur_multistrain_SN/ecoli_'+strain+'_SN.csv')"
   ]
  },
  {
   "cell_type": "code",
   "execution_count": 32,
   "metadata": {},
   "outputs": [
    {
     "data": {
      "text/html": [
       "<div>\n",
       "<style scoped>\n",
       "    .dataframe tbody tr th:only-of-type {\n",
       "        vertical-align: middle;\n",
       "    }\n",
       "\n",
       "    .dataframe tbody tr th {\n",
       "        vertical-align: top;\n",
       "    }\n",
       "\n",
       "    .dataframe thead th {\n",
       "        text-align: right;\n",
       "    }\n",
       "</style>\n",
       "<table border=\"1\" class=\"dataframe\">\n",
       "  <thead>\n",
       "    <tr style=\"text-align: right;\">\n",
       "      <th></th>\n",
       "      <th>Reference genome</th>\n",
       "      <th>ChIP-exo Start</th>\n",
       "      <th>ChIP-exo End</th>\n",
       "      <th>S/N ratio</th>\n",
       "    </tr>\n",
       "  </thead>\n",
       "  <tbody>\n",
       "    <tr>\n",
       "      <th>0</th>\n",
       "      <td>NC_010468.1</td>\n",
       "      <td>23793</td>\n",
       "      <td>23805</td>\n",
       "      <td>6.173784</td>\n",
       "    </tr>\n",
       "    <tr>\n",
       "      <th>1</th>\n",
       "      <td>NC_010468.1</td>\n",
       "      <td>27526</td>\n",
       "      <td>27538</td>\n",
       "      <td>4.846829</td>\n",
       "    </tr>\n",
       "    <tr>\n",
       "      <th>2</th>\n",
       "      <td>NC_010468.1</td>\n",
       "      <td>80827</td>\n",
       "      <td>80839</td>\n",
       "      <td>2.899666</td>\n",
       "    </tr>\n",
       "    <tr>\n",
       "      <th>3</th>\n",
       "      <td>NC_010468.1</td>\n",
       "      <td>86534</td>\n",
       "      <td>86546</td>\n",
       "      <td>2.238391</td>\n",
       "    </tr>\n",
       "    <tr>\n",
       "      <th>4</th>\n",
       "      <td>NC_010468.1</td>\n",
       "      <td>132643</td>\n",
       "      <td>132655</td>\n",
       "      <td>1.825058</td>\n",
       "    </tr>\n",
       "  </tbody>\n",
       "</table>\n",
       "</div>"
      ],
      "text/plain": [
       "  Reference genome  ChIP-exo Start  ChIP-exo End  S/N ratio\n",
       "0      NC_010468.1           23793         23805   6.173784\n",
       "1      NC_010468.1           27526         27538   4.846829\n",
       "2      NC_010468.1           80827         80839   2.899666\n",
       "3      NC_010468.1           86534         86546   2.238391\n",
       "4      NC_010468.1          132643        132655   1.825058"
      ]
     },
     "execution_count": 32,
     "metadata": {},
     "output_type": "execute_result"
    }
   ],
   "source": [
    "Fur_multi_table['Crooks'].head()"
   ]
  },
  {
   "cell_type": "code",
   "execution_count": 33,
   "metadata": {},
   "outputs": [
    {
     "data": {
      "image/png": "[encoded data removed]",
      "text/plain": [
       "<Figure size 1440x576 with 8 Axes>"
      ]
     },
     "metadata": {
      "needs_background": "light"
     },
     "output_type": "display_data"
    }
   ],
   "source": [
    "fig,axs = plt.subplots(2,4,figsize= (20,8))\n",
    "for i in range(len(strains)):\n",
    "    x = int(i/4)\n",
    "    y = int(i%4)\n",
    "    log_sn = [ log(x) for x in list(Fur_multi_table[strains[i]]['S/N ratio']) ]\n",
    "    axs[x][y].hist( log_sn ,bins = 100 )\n",
    "    axs[x][y].set_title(strains[i]+'_log_S/N ratio')\n",
    "    axs[x][y].axvline(x=4,linestyle='--',c='r')"
   ]
  },
  {
   "cell_type": "code",
   "execution_count": 36,
   "metadata": {},
   "outputs": [
    {
     "data": {
      "image/png": "[encoded data removed]",
      "text/plain": [
       "<Figure size 2160x864 with 8 Axes>"
      ]
     },
     "metadata": {
      "needs_background": "light"
     },
     "output_type": "display_data"
    }
   ],
   "source": [
    "fig,axs = plt.subplots(2,4,figsize= (30,12))\n",
    "for i in range(len(strains)):\n",
    "    x = int(i/4)\n",
    "    y = int(i%4)\n",
    "    sn =  list(Fur_multi_table[strains[i]]['S/N ratio'])\n",
    "    axs[x][y].hist( sn ,bins = 100 )\n",
    "    axs[x][y].set_title(strains[i]+'_S/N ratio')\n",
    "    axs[x][y].axvline(x=50,linestyle='--',c='r')\n",
    "    axs[x][y].set_xticks(np.arange(0,max(sn)+50,50))\n",
    "    axs[x][y].set_yscale('log')"
   ]
  },
  {
   "cell_type": "code",
   "execution_count": null,
   "metadata": {},
   "outputs": [],
   "source": []
  }
 ],
 "metadata": {
  "kernelspec": {
   "display_name": "Python 3",
   "language": "python",
   "name": "python3"
  },
  "language_info": {
   "codemirror_mode": {
    "name": "ipython",
    "version": 3
   },
   "file_extension": ".py",
   "mimetype": "text/x-python",
   "name": "python",
   "nbconvert_exporter": "python",
   "pygments_lexer": "ipython3",
   "version": "3.8.2"
  }
 },
 "nbformat": 4,
 "nbformat_minor": 4
}
