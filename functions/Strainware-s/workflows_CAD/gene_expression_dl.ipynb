{
 "cells": [
  {
   "cell_type": "markdown",
   "metadata": {},
   "source": [
    "# Gene Expression Prediction with Keras"
   ]
  },
  {
   "cell_type": "markdown",
   "metadata": {},
   "source": [
    "## Import and Set Up Data"
   ]
  },
  {
   "cell_type": "code",
   "execution_count": 1,
   "metadata": {},
   "outputs": [
    {
     "name": "stderr",
     "output_type": "stream",
     "text": [
      "/Users/cam/.virtualenvs/strainware-s/lib/python3.7/site-packages/tensorflow_addons/utils/ensure_tf_install.py:44: UserWarning: You are currently using a nightly version of TensorFlow (2.4.0-dev20200930). \n",
      "TensorFlow Addons offers no support for the nightly versions of TensorFlow. Some things might work, some other might not. \n",
      "If you encounter a bug, do not file an issue on GitHub.\n",
      "  UserWarning,\n"
     ]
    }
   ],
   "source": [
    "import sys\n",
    "\n",
    "from Bio.Align import AlignInfo, MultipleSeqAlignment\n",
    "import Bio.motifs as motifs\n",
    "from Bio.SeqFeature import FeatureLocation\n",
    "import numpy as np\n",
    "import pandas as pd\n",
    "from sklearn.model_selection import train_test_split\n",
    "import tensorflow as tf\n",
    "import tensorflow_addons as tfa\n",
    "\n",
    "sys.path.append('../bitome-kb')\n",
    "from bitome.core import Bitome"
   ]
  },
  {
   "cell_type": "code",
   "execution_count": 2,
   "metadata": {},
   "outputs": [],
   "source": [
    "bitome = Bitome.init_from_file('../bitome-kb/bitome.pkl')\n",
    "\n",
    "log_tpm_df = pd.read_csv('data/log_tpm_qc.csv', index_col=0)\n",
    "log_tpm_df_m9 = log_tpm_df.iloc[:, :2].mean(axis=1)\n",
    "median_expression = log_tpm_df.median(axis=1)"
   ]
  },
  {
   "cell_type": "code",
   "execution_count": 3,
   "metadata": {},
   "outputs": [],
   "source": [
    "locus_tags = []\n",
    "tu_tups = []\n",
    "expressions = []\n",
    "for locus_tag, expression in median_expression.iteritems():\n",
    "\n",
    "    genes = [g for g in bitome.genes if g.locus_tag == locus_tag]\n",
    "    if genes:\n",
    "        gene = genes[0]\n",
    "        gene_tus = [tu for tu in gene.transcription_units]\n",
    "        if gene_tus:\n",
    "            locus_tags.append(locus_tag)\n",
    "            tu_tups.append(gene_tus)\n",
    "            expressions.append(median_expression[locus_tag])"
   ]
  },
  {
   "cell_type": "code",
   "execution_count": 4,
   "metadata": {},
   "outputs": [],
   "source": [
    "N_UP = 200\n",
    "N_DOWN = 50\n",
    "\n",
    "consensus_mats = []\n",
    "expressions_to_use = []\n",
    "\n",
    "for tus, expression in zip(tu_tups, expressions):\n",
    "    \n",
    "    # extract the sequences for each tss\n",
    "    sequences = []\n",
    "    for tu in tus:\n",
    "        \n",
    "        strand = tu.location.strand\n",
    "        if strand == 1:\n",
    "            if tu.tss is not None:\n",
    "                tss = tu.tss\n",
    "            else:\n",
    "                tss = tu.location.start.position\n",
    "            # define the sequence feature location to extract the sequence around this TSS\n",
    "            seq_loc = FeatureLocation(\n",
    "                int(tss - N_UP - 1),\n",
    "                int(tss + N_DOWN),\n",
    "                int(strand)\n",
    "            )\n",
    "        else:\n",
    "            if tu.tss is not None:\n",
    "                tss = tu.tss\n",
    "            else:\n",
    "                tss = tu.location.end.position\n",
    "            # define the sequence feature location to extract the sequence around this TSS\n",
    "            seq_loc = FeatureLocation(\n",
    "                int(tss - N_DOWN - 1),\n",
    "                int(tss + N_UP),\n",
    "                int(strand)\n",
    "            )\n",
    "        \n",
    "        if tss > 250:\n",
    "            sequence = seq_loc.extract(bitome.sequence)\n",
    "            sequences.append(sequence)\n",
    "        else:\n",
    "            continue\n",
    "            \n",
    "    if not sequences:\n",
    "        continue\n",
    "    else:\n",
    "        expressions_to_use.append(expression)\n",
    "\n",
    "    # create a motif with Biopython and get a consensus sequence from that; return the degenerate consensus\n",
    "    motif = motifs.create(sequences)\n",
    "\n",
    "    pwm = motif.counts\n",
    "    base_rows = []\n",
    "\n",
    "    for base in 'ATCG':\n",
    "        base_row = pd.Series(pwm[base], index=[f'{pos}_{base}' for pos in np.arange(-N_UP, N_DOWN+1)])\n",
    "        base_rows.append(base_row)\n",
    "\n",
    "    sequence_mat = np.array(base_rows).T\n",
    "    consensus_mats.append(sequence_mat)\n",
    "\n",
    "X = np.array(consensus_mats)\n",
    "y = expressions_to_use"
   ]
  },
  {
   "cell_type": "code",
   "execution_count": 5,
   "metadata": {},
   "outputs": [],
   "source": [
    "X_traindev, X_lockbox, y_traindev, y_lockbox = train_test_split(\n",
    "    X, y, test_size=0.1, random_state=42\n",
    ")\n",
    "\n",
    "X_train, X_val, y_train, y_val = [tf.convert_to_tensor(arr) for arr in train_test_split(\n",
    "    X_traindev, y_traindev, test_size=(1/9), random_state=42\n",
    ")]"
   ]
  },
  {
   "cell_type": "markdown",
   "metadata": {},
   "source": [
    "## Define Model Architecture"
   ]
  },
  {
   "cell_type": "code",
   "execution_count": 15,
   "metadata": {},
   "outputs": [
    {
     "name": "stdout",
     "output_type": "stream",
     "text": [
      "Model: \"sequential_5\"\n",
      "_________________________________________________________________\n",
      "Layer (type)                 Output Shape              Param #   \n",
      "=================================================================\n",
      "bidirectional_5 (Bidirection (None, 251, 64)           9472      \n",
      "_________________________________________________________________\n",
      "bidirectional_6 (Bidirection (None, 64)                24832     \n",
      "_________________________________________________________________\n",
      "dense_8 (Dense)              (None, 10)                650       \n",
      "_________________________________________________________________\n",
      "dense_9 (Dense)              (None, 1)                 11        \n",
      "=================================================================\n",
      "Total params: 34,965\n",
      "Trainable params: 34,965\n",
      "Non-trainable params: 0\n",
      "_________________________________________________________________\n"
     ]
    }
   ],
   "source": [
    "model = tf.keras.Sequential()\n",
    "\n",
    "model.add(tf.keras.layers.Bidirectional(tf.keras.layers.LSTM(32, return_sequences=True), input_shape=(251, 4)))\n",
    "model.add(tf.keras.layers.Bidirectional(tf.keras.layers.LSTM(32)))\n",
    "model.add(tf.keras.layers.Dense(10, activation='relu'))\n",
    "model.add(tf.keras.layers.Dense(1, activation='linear'))\n",
    "\n",
    "model.summary()"
   ]
  },
  {
   "cell_type": "code",
   "execution_count": 16,
   "metadata": {},
   "outputs": [],
   "source": [
    "model.compile(\n",
    "    loss=tf.losses.MeanAbsoluteError(),\n",
    "    optimizer=tf.optimizers.Adam(),\n",
    "    metrics=[tf.metrics.MeanAbsoluteError(), tf.metrics.MeanSquaredError()]\n",
    ")"
   ]
  },
  {
   "cell_type": "code",
   "execution_count": 17,
   "metadata": {
    "scrolled": true
   },
   "outputs": [
    {
     "name": "stdout",
     "output_type": "stream",
     "text": [
      "Epoch 1/10\n",
      "104/104 [==============================] - 19s 142ms/step - loss: 3.5528 - mean_absolute_error: 3.5528 - mean_squared_error: 18.7844 - val_loss: 2.2611 - val_mean_absolute_error: 2.2611 - val_mean_squared_error: 7.2186\n",
      "Epoch 2/10\n",
      "104/104 [==============================] - 13s 128ms/step - loss: 2.1821 - mean_absolute_error: 2.1821 - mean_squared_error: 7.0018 - val_loss: 2.2302 - val_mean_absolute_error: 2.2302 - val_mean_squared_error: 7.0658\n",
      "Epoch 3/10\n",
      "104/104 [==============================] - 14s 133ms/step - loss: 2.1966 - mean_absolute_error: 2.1966 - mean_squared_error: 6.9525 - val_loss: 2.2127 - val_mean_absolute_error: 2.2127 - val_mean_squared_error: 7.0009\n",
      "Epoch 4/10\n",
      "104/104 [==============================] - 14s 136ms/step - loss: 2.1322 - mean_absolute_error: 2.1322 - mean_squared_error: 6.6287 - val_loss: 2.1827 - val_mean_absolute_error: 2.1827 - val_mean_squared_error: 6.9067\n",
      "Epoch 5/10\n",
      "104/104 [==============================] - 14s 135ms/step - loss: 2.1206 - mean_absolute_error: 2.1206 - mean_squared_error: 6.5931 - val_loss: 2.1744 - val_mean_absolute_error: 2.1744 - val_mean_squared_error: 6.8594\n",
      "Epoch 6/10\n",
      "104/104 [==============================] - 14s 135ms/step - loss: 2.0883 - mean_absolute_error: 2.0883 - mean_squared_error: 6.4333 - val_loss: 2.1664 - val_mean_absolute_error: 2.1664 - val_mean_squared_error: 6.8713\n",
      "Epoch 7/10\n",
      "104/104 [==============================] - 14s 136ms/step - loss: 2.0852 - mean_absolute_error: 2.0852 - mean_squared_error: 6.4810 - val_loss: 2.1699 - val_mean_absolute_error: 2.1699 - val_mean_squared_error: 6.9520\n",
      "Epoch 8/10\n",
      "104/104 [==============================] - 14s 133ms/step - loss: 2.0495 - mean_absolute_error: 2.0495 - mean_squared_error: 6.1729 - val_loss: 2.1926 - val_mean_absolute_error: 2.1926 - val_mean_squared_error: 7.0765\n",
      "Epoch 9/10\n",
      "104/104 [==============================] - 15s 145ms/step - loss: 2.0546 - mean_absolute_error: 2.0546 - mean_squared_error: 6.2887 - val_loss: 2.2065 - val_mean_absolute_error: 2.2065 - val_mean_squared_error: 7.1999\n",
      "Epoch 10/10\n",
      "104/104 [==============================] - 14s 132ms/step - loss: 2.0640 - mean_absolute_error: 2.0640 - mean_squared_error: 6.5513 - val_loss: 2.1619 - val_mean_absolute_error: 2.1619 - val_mean_squared_error: 6.9980\n"
     ]
    }
   ],
   "source": [
    "hist = model.fit(X_train, y_train, epochs=10, validation_data=(X_val, y_val))"
   ]
  },
  {
   "cell_type": "code",
   "execution_count": 87,
   "metadata": {},
   "outputs": [],
   "source": [
    "y_pred = model.predict(X_val)"
   ]
  },
  {
   "cell_type": "code",
   "execution_count": null,
   "metadata": {},
   "outputs": [],
   "source": []
  }
 ],
 "metadata": {
  "kernelspec": {
   "display_name": "Python 3",
   "language": "python",
   "name": "python3"
  },
  "language_info": {
   "codemirror_mode": {
    "name": "ipython",
    "version": 3
   },
   "file_extension": ".py",
   "mimetype": "text/x-python",
   "name": "python",
   "nbconvert_exporter": "python",
   "pygments_lexer": "ipython3",
   "version": "3.8.5"
  },
  "toc": {
   "base_numbering": 1,
   "nav_menu": {},
   "number_sections": true,
   "sideBar": true,
   "skip_h1_title": false,
   "title_cell": "Table of Contents",
   "title_sidebar": "Contents",
   "toc_cell": false,
   "toc_position": {},
   "toc_section_display": true,
   "toc_window_display": false
  }
 },
 "nbformat": 4,
 "nbformat_minor": 4
}
