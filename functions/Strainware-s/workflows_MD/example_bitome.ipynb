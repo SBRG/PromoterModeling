{
 "cells": [
  {
   "cell_type": "markdown",
   "metadata": {},
   "source": [
    "# Bitome Knowledgebase: Example Usage\n",
    "\n",
    "The following notebook provides some demonstrations for the usage of the Bitome knowledgebase.\n",
    "\n",
    "Requires Python 3.7 and the following third-party packages (all can be installed via `pip install <package>`)\n",
    "- biopython\n",
    "- CAI\n",
    "- matplotlib\n",
    "- numpy\n",
    "- pandas\n",
    "- scipy\n",
    "- seaborn"
   ]
  },
  {
   "cell_type": "markdown",
   "metadata": {},
   "source": [
    "## Import the Knowledgebase Class\n",
    "\n",
    "The following code imports the base class, called Bitome, that will load and contain the knowledgebase (along with a\n",
    "useful built-in Python package for ensuring compatibility of file paths across operating systems):"
   ]
  },
  {
   "cell_type": "code",
   "execution_count": 2,
   "metadata": {
    "pycharm": {
     "name": "#%%\n"
    }
   },
   "outputs": [],
   "source": [
    "from pathlib import Path\n",
    "import sys\n",
    "sys.path.append('../bitome-kb/')\n",
    "from bitome.core import Bitome"
   ]
  },
  {
   "cell_type": "markdown",
   "metadata": {},
   "source": [
    "## Load the Knowledgebase\n",
    "\n",
    "Now, we can use the attached methods for the Bitome class to load the data stored in the `data` directory. This may\n",
    "take a couple of minutes to run to completion. Some warnings about sequence mismatches may appear, but these can be\n",
    "safely ignored."
   ]
  },
  {
   "cell_type": "code",
   "execution_count": 4,
   "metadata": {
    "pycharm": {
     "name": "#%%\n"
    }
   },
   "outputs": [
    {
     "name": "stderr",
     "output_type": "stream",
     "text": [
      "../bitome-kb/bitome/genbank.py:346: UserWarning: GEM-PRO sequence and coded sequence are not the same for b0064\n",
      "  warn(f'GEM-PRO sequence and coded sequence are not the same for {locus_tag}')\n",
      "../bitome-kb/bitome/genbank.py:346: UserWarning: GEM-PRO sequence and coded sequence are not the same for b0142\n",
      "  warn(f'GEM-PRO sequence and coded sequence are not the same for {locus_tag}')\n",
      "../bitome-kb/bitome/genbank.py:329: UserWarning: No GEM-PRO file found for b4586\n",
      "  warn(f'No GEM-PRO file found for {locus_tag}')\n",
      "../bitome-kb/bitome/genbank.py:346: UserWarning: GEM-PRO sequence and coded sequence are not the same for b0292\n",
      "  warn(f'GEM-PRO sequence and coded sequence are not the same for {locus_tag}')\n",
      "../bitome-kb/bitome/genbank.py:346: UserWarning: GEM-PRO sequence and coded sequence are not the same for b0349\n",
      "  warn(f'GEM-PRO sequence and coded sequence are not the same for {locus_tag}')\n",
      "../bitome-kb/bitome/genbank.py:329: UserWarning: No GEM-PRO file found for b4572\n",
      "  warn(f'No GEM-PRO file found for {locus_tag}')\n",
      "../bitome-kb/bitome/genbank.py:329: UserWarning: No GEM-PRO file found for b4588\n",
      "  warn(f'No GEM-PRO file found for {locus_tag}')\n",
      "../bitome-kb/bitome/genbank.py:329: UserWarning: No GEM-PRO file found for b4589\n",
      "  warn(f'No GEM-PRO file found for {locus_tag}')\n",
      "../bitome-kb/bitome/genbank.py:346: UserWarning: GEM-PRO sequence and coded sequence are not the same for b0615\n",
      "  warn(f'GEM-PRO sequence and coded sequence are not the same for {locus_tag}')\n",
      "../bitome-kb/bitome/genbank.py:346: UserWarning: GEM-PRO sequence and coded sequence are not the same for b0642\n",
      "  warn(f'GEM-PRO sequence and coded sequence are not the same for {locus_tag}')\n",
      "../bitome-kb/bitome/genbank.py:329: UserWarning: No GEM-PRO file found for b4637\n",
      "  warn(f'No GEM-PRO file found for {locus_tag}')\n",
      "../bitome-kb/bitome/genbank.py:346: UserWarning: GEM-PRO sequence and coded sequence are not the same for b0772\n",
      "  warn(f'GEM-PRO sequence and coded sequence are not the same for {locus_tag}')\n",
      "../bitome-kb/bitome/genbank.py:346: UserWarning: GEM-PRO sequence and coded sequence are not the same for b0852\n",
      "  warn(f'GEM-PRO sequence and coded sequence are not the same for {locus_tag}')\n",
      "../bitome-kb/bitome/genbank.py:346: UserWarning: GEM-PRO sequence and coded sequence are not the same for b0937\n",
      "  warn(f'GEM-PRO sequence and coded sequence are not the same for {locus_tag}')\n",
      "../bitome-kb/bitome/genbank.py:346: UserWarning: GEM-PRO sequence and coded sequence are not the same for b1012\n",
      "  warn(f'GEM-PRO sequence and coded sequence are not the same for {locus_tag}')\n",
      "../bitome-kb/bitome/genbank.py:346: UserWarning: GEM-PRO sequence and coded sequence are not the same for b1120\n",
      "  warn(f'GEM-PRO sequence and coded sequence are not the same for {locus_tag}')\n",
      "../bitome-kb/bitome/genbank.py:329: UserWarning: No GEM-PRO file found for b4593\n",
      "  warn(f'No GEM-PRO file found for {locus_tag}')\n",
      "../bitome-kb/bitome/genbank.py:329: UserWarning: No GEM-PRO file found for b4594\n",
      "  warn(f'No GEM-PRO file found for {locus_tag}')\n",
      "../bitome-kb/bitome/genbank.py:346: UserWarning: GEM-PRO sequence and coded sequence are not the same for b1179\n",
      "  warn(f'GEM-PRO sequence and coded sequence are not the same for {locus_tag}')\n",
      "../bitome-kb/bitome/genbank.py:329: UserWarning: No GEM-PRO file found for b4595\n",
      "  warn(f'No GEM-PRO file found for {locus_tag}')\n",
      "../bitome-kb/bitome/genbank.py:143: UserWarning: No coded feature found for b4714; no Gene object created\n",
      "  warn(f'No coded feature found for {locus_tag}; no Gene object created')\n",
      "../bitome-kb/bitome/genbank.py:342: UserWarning: Selenocysteine found in GEM-PRO sequence for b1474; Genbank translation audit skipped\n",
      "  warn(f'Selenocysteine found in GEM-PRO sequence for {locus_tag}; Genbank translation audit skipped')\n",
      "../bitome-kb/bitome/genbank.py:346: UserWarning: GEM-PRO sequence and coded sequence are not the same for b1701\n",
      "  warn(f'GEM-PRO sequence and coded sequence are not the same for {locus_tag}')\n",
      "../bitome-kb/bitome/genbank.py:346: UserWarning: GEM-PRO sequence and coded sequence are not the same for b1807\n",
      "  warn(f'GEM-PRO sequence and coded sequence are not the same for {locus_tag}')\n",
      "../bitome-kb/bitome/genbank.py:346: UserWarning: GEM-PRO sequence and coded sequence are not the same for b1876\n",
      "  warn(f'GEM-PRO sequence and coded sequence are not the same for {locus_tag}')\n",
      "../bitome-kb/bitome/genbank.py:329: UserWarning: No GEM-PRO file found for b1893\n",
      "  warn(f'No GEM-PRO file found for {locus_tag}')\n",
      "../bitome-kb/bitome/genbank.py:329: UserWarning: No GEM-PRO file found for b1894\n",
      "  warn(f'No GEM-PRO file found for {locus_tag}')\n",
      "../bitome-kb/bitome/genbank.py:346: UserWarning: GEM-PRO sequence and coded sequence are not the same for b1985\n",
      "  warn(f'GEM-PRO sequence and coded sequence are not the same for {locus_tag}')\n",
      "../bitome-kb/bitome/genbank.py:346: UserWarning: GEM-PRO sequence and coded sequence are not the same for b2253\n",
      "  warn(f'GEM-PRO sequence and coded sequence are not the same for {locus_tag}')\n",
      "../bitome-kb/bitome/genbank.py:329: UserWarning: No GEM-PRO file found for b2442\n",
      "  warn(f'No GEM-PRO file found for {locus_tag}')\n",
      "../bitome-kb/bitome/genbank.py:329: UserWarning: No GEM-PRO file found for b2443\n",
      "  warn(f'No GEM-PRO file found for {locus_tag}')\n",
      "../bitome-kb/bitome/genbank.py:329: UserWarning: No GEM-PRO file found for b2444\n",
      "  warn(f'No GEM-PRO file found for {locus_tag}')\n",
      "../bitome-kb/bitome/genbank.py:329: UserWarning: No GEM-PRO file found for b2445\n",
      "  warn(f'No GEM-PRO file found for {locus_tag}')\n",
      "../bitome-kb/bitome/genbank.py:329: UserWarning: No GEM-PRO file found for b2446\n",
      "  warn(f'No GEM-PRO file found for {locus_tag}')\n",
      "../bitome-kb/bitome/genbank.py:329: UserWarning: No GEM-PRO file found for b2447\n",
      "  warn(f'No GEM-PRO file found for {locus_tag}')\n",
      "../bitome-kb/bitome/genbank.py:329: UserWarning: No GEM-PRO file found for b2448\n",
      "  warn(f'No GEM-PRO file found for {locus_tag}')\n",
      "../bitome-kb/bitome/genbank.py:329: UserWarning: No GEM-PRO file found for b2449\n",
      "  warn(f'No GEM-PRO file found for {locus_tag}')\n",
      "../bitome-kb/bitome/genbank.py:329: UserWarning: No GEM-PRO file found for b2450\n",
      "  warn(f'No GEM-PRO file found for {locus_tag}')\n",
      "../bitome-kb/bitome/genbank.py:329: UserWarning: No GEM-PRO file found for b4706\n",
      "  warn(f'No GEM-PRO file found for {locus_tag}')\n",
      "../bitome-kb/bitome/genbank.py:346: UserWarning: GEM-PRO sequence and coded sequence are not the same for b2730\n",
      "  warn(f'GEM-PRO sequence and coded sequence are not the same for {locus_tag}')\n",
      "../bitome-kb/bitome/genbank.py:346: UserWarning: GEM-PRO sequence and coded sequence are not the same for b2890\n",
      "  warn(f'GEM-PRO sequence and coded sequence are not the same for {locus_tag}')\n",
      "../bitome-kb/bitome/genbank.py:346: UserWarning: GEM-PRO sequence and coded sequence are not the same for b2957\n",
      "  warn(f'GEM-PRO sequence and coded sequence are not the same for {locus_tag}')\n",
      "../bitome-kb/bitome/genbank.py:346: UserWarning: GEM-PRO sequence and coded sequence are not the same for b3039\n",
      "  warn(f'GEM-PRO sequence and coded sequence are not the same for {locus_tag}')\n",
      "../bitome-kb/bitome/genbank.py:346: UserWarning: GEM-PRO sequence and coded sequence are not the same for b3453\n",
      "  warn(f'GEM-PRO sequence and coded sequence are not the same for {locus_tag}')\n",
      "../bitome-kb/bitome/genbank.py:329: UserWarning: No GEM-PRO file found for b4613\n",
      "  warn(f'No GEM-PRO file found for {locus_tag}')\n",
      "../bitome-kb/bitome/genbank.py:346: UserWarning: GEM-PRO sequence and coded sequence are not the same for b3701\n",
      "  warn(f'GEM-PRO sequence and coded sequence are not the same for {locus_tag}')\n",
      "../bitome-kb/bitome/genbank.py:346: UserWarning: GEM-PRO sequence and coded sequence are not the same for b3732\n",
      "  warn(f'GEM-PRO sequence and coded sequence are not the same for {locus_tag}')\n",
      "../bitome-kb/bitome/genbank.py:346: UserWarning: GEM-PRO sequence and coded sequence are not the same for b3830\n",
      "  warn(f'GEM-PRO sequence and coded sequence are not the same for {locus_tag}')\n",
      "../bitome-kb/bitome/genbank.py:346: UserWarning: GEM-PRO sequence and coded sequence are not the same for b3889\n",
      "  warn(f'GEM-PRO sequence and coded sequence are not the same for {locus_tag}')\n",
      "../bitome-kb/bitome/genbank.py:342: UserWarning: Selenocysteine found in GEM-PRO sequence for b3894; Genbank translation audit skipped\n",
      "  warn(f'Selenocysteine found in GEM-PRO sequence for {locus_tag}; Genbank translation audit skipped')\n"
     ]
    },
    {
     "name": "stderr",
     "output_type": "stream",
     "text": [
      "../bitome-kb/bitome/genbank.py:346: UserWarning: GEM-PRO sequence and coded sequence are not the same for b3916\n",
      "  warn(f'GEM-PRO sequence and coded sequence are not the same for {locus_tag}')\n",
      "../bitome-kb/bitome/genbank.py:346: UserWarning: GEM-PRO sequence and coded sequence are not the same for b3963\n",
      "  warn(f'GEM-PRO sequence and coded sequence are not the same for {locus_tag}')\n",
      "../bitome-kb/bitome/genbank.py:329: UserWarning: No GEM-PRO file found for b4620\n",
      "  warn(f'No GEM-PRO file found for {locus_tag}')\n",
      "../bitome-kb/bitome/genbank.py:329: UserWarning: No GEM-PRO file found for b4621\n",
      "  warn(f'No GEM-PRO file found for {locus_tag}')\n",
      "../bitome-kb/bitome/genbank.py:342: UserWarning: Selenocysteine found in GEM-PRO sequence for b4079; Genbank translation audit skipped\n",
      "  warn(f'Selenocysteine found in GEM-PRO sequence for {locus_tag}; Genbank translation audit skipped')\n",
      "../bitome-kb/bitome/genbank.py:329: UserWarning: No GEM-PRO file found for b4622\n",
      "  warn(f'No GEM-PRO file found for {locus_tag}')\n",
      "../bitome-kb/bitome/genbank.py:346: UserWarning: GEM-PRO sequence and coded sequence are not the same for b4115\n",
      "  warn(f'GEM-PRO sequence and coded sequence are not the same for {locus_tag}')\n",
      "../bitome-kb/bitome/genbank.py:346: UserWarning: GEM-PRO sequence and coded sequence are not the same for b4129\n",
      "  warn(f'GEM-PRO sequence and coded sequence are not the same for {locus_tag}')\n",
      "../bitome-kb/bitome/genbank.py:346: UserWarning: GEM-PRO sequence and coded sequence are not the same for b4200\n",
      "  warn(f'GEM-PRO sequence and coded sequence are not the same for {locus_tag}')\n"
     ]
    },
    {
     "ename": "ImportError",
     "evalue": "Missing optional dependency 'xlrd'. Install xlrd >= 1.0.0 for Excel support Use pip or conda to install xlrd.",
     "output_type": "error",
     "traceback": [
      "\u001b[0;31m---------------------------------------------------------------------------\u001b[0m",
      "\u001b[0;31mImportError\u001b[0m                               Traceback (most recent call last)",
      "\u001b[0;32m<ipython-input-4-0fbc6e7975dd>\u001b[0m in \u001b[0;36m<module>\u001b[0;34m\u001b[0m\n\u001b[1;32m      4\u001b[0m \u001b[0;31m# load all data into the knowledgebase class, specifying that RegulonDB information should be included.\u001b[0m\u001b[0;34m\u001b[0m\u001b[0;34m\u001b[0m\u001b[0;34m\u001b[0m\u001b[0m\n\u001b[1;32m      5\u001b[0m \u001b[0;31m# (default is False to ensure compatibility with GenBank records for other organisms, as RegulonDB is specific to K-12)\u001b[0m\u001b[0;34m\u001b[0m\u001b[0;34m\u001b[0m\u001b[0;34m\u001b[0m\u001b[0m\n\u001b[0;32m----> 6\u001b[0;31m \u001b[0mbitome\u001b[0m\u001b[0;34m.\u001b[0m\u001b[0mload_data\u001b[0m\u001b[0;34m(\u001b[0m\u001b[0mregulon_db\u001b[0m\u001b[0;34m=\u001b[0m\u001b[0;32mTrue\u001b[0m\u001b[0;34m)\u001b[0m\u001b[0;34m\u001b[0m\u001b[0;34m\u001b[0m\u001b[0m\n\u001b[0m",
      "\u001b[0;32m/mnt/c/Users/siq00/Desktop/Lab_Project/MotifCalculation/Strainware-s/bitome-kb/bitome/core.py\u001b[0m in \u001b[0;36mload_data\u001b[0;34m(self, regulon_db)\u001b[0m\n\u001b[1;32m    175\u001b[0m                 \u001b[0;31m# squeeze in SBRG's YTF data; note: load_ytfs_and_binding_sites doesn't return the existing tf objects,\u001b[0m\u001b[0;34m\u001b[0m\u001b[0;34m\u001b[0m\u001b[0;34m\u001b[0m\u001b[0m\n\u001b[1;32m    176\u001b[0m                 \u001b[0;31m# but DOES return their new binding sites from yTF data\u001b[0m\u001b[0;34m\u001b[0m\u001b[0;34m\u001b[0m\u001b[0;34m\u001b[0m\u001b[0m\n\u001b[0;32m--> 177\u001b[0;31m                 \u001b[0mytfs_and_binding_sites\u001b[0m \u001b[0;34m=\u001b[0m \u001b[0mload_ytfs_and_binding_sites\u001b[0m\u001b[0;34m(\u001b[0m\u001b[0mexisting_tfs\u001b[0m\u001b[0;34m=\u001b[0m\u001b[0mself\u001b[0m\u001b[0;34m.\u001b[0m\u001b[0mtranscription_factors\u001b[0m\u001b[0;34m)\u001b[0m\u001b[0;34m\u001b[0m\u001b[0;34m\u001b[0m\u001b[0m\n\u001b[0m\u001b[1;32m    178\u001b[0m                 \u001b[0mself\u001b[0m\u001b[0;34m.\u001b[0m\u001b[0mtranscription_factors\u001b[0m \u001b[0;34m+=\u001b[0m \u001b[0mselect_features_by_type\u001b[0m\u001b[0;34m(\u001b[0m\u001b[0mytfs_and_binding_sites\u001b[0m\u001b[0;34m,\u001b[0m \u001b[0;34m'transcription_factor'\u001b[0m\u001b[0;34m)\u001b[0m\u001b[0;34m\u001b[0m\u001b[0;34m\u001b[0m\u001b[0m\n\u001b[1;32m    179\u001b[0m                 \u001b[0mself\u001b[0m\u001b[0;34m.\u001b[0m\u001b[0mtf_binding_sites\u001b[0m \u001b[0;34m+=\u001b[0m \u001b[0mselect_features_by_type\u001b[0m\u001b[0;34m(\u001b[0m\u001b[0mytfs_and_binding_sites\u001b[0m\u001b[0;34m,\u001b[0m \u001b[0;34m'tf_binding_site'\u001b[0m\u001b[0;34m)\u001b[0m\u001b[0;34m\u001b[0m\u001b[0;34m\u001b[0m\u001b[0m\n",
      "\u001b[0;32m/mnt/c/Users/siq00/Desktop/Lab_Project/MotifCalculation/Strainware-s/bitome-kb/bitome/sbrg.py\u001b[0m in \u001b[0;36mload_ytfs_and_binding_sites\u001b[0;34m(existing_tfs)\u001b[0m\n\u001b[1;32m     37\u001b[0m     \"\"\"\n\u001b[1;32m     38\u001b[0m \u001b[0;34m\u001b[0m\u001b[0m\n\u001b[0;32m---> 39\u001b[0;31m     \u001b[0mytf_df\u001b[0m \u001b[0;34m=\u001b[0m \u001b[0mload_ytf_df\u001b[0m\u001b[0;34m(\u001b[0m\u001b[0;34m)\u001b[0m\u001b[0;34m\u001b[0m\u001b[0;34m\u001b[0m\u001b[0m\n\u001b[0m\u001b[1;32m     40\u001b[0m     \u001b[0mytf_names\u001b[0m \u001b[0;34m=\u001b[0m \u001b[0mlist\u001b[0m\u001b[0;34m(\u001b[0m\u001b[0mset\u001b[0m\u001b[0;34m(\u001b[0m\u001b[0mytf_df\u001b[0m\u001b[0;34m[\u001b[0m\u001b[0;34m'TF'\u001b[0m\u001b[0;34m]\u001b[0m\u001b[0;34m)\u001b[0m\u001b[0;34m)\u001b[0m\u001b[0;34m\u001b[0m\u001b[0;34m\u001b[0m\u001b[0m\n\u001b[1;32m     41\u001b[0m \u001b[0;34m\u001b[0m\u001b[0m\n",
      "\u001b[0;32m/mnt/c/Users/siq00/Desktop/Lab_Project/MotifCalculation/Strainware-s/bitome-kb/bitome/sbrg.py\u001b[0m in \u001b[0;36mload_ytf_df\u001b[0;34m()\u001b[0m\n\u001b[1;32m     98\u001b[0m \u001b[0;34m\u001b[0m\u001b[0m\n\u001b[1;32m     99\u001b[0m     \u001b[0;31m# read_excel will return an OrderedDict with sheet_name: sheet_df items when sheet_name is None\u001b[0m\u001b[0;34m\u001b[0m\u001b[0;34m\u001b[0m\u001b[0;34m\u001b[0m\u001b[0m\n\u001b[0;32m--> 100\u001b[0;31m     \u001b[0mytf_data_dict\u001b[0m \u001b[0;34m=\u001b[0m \u001b[0mpd\u001b[0m\u001b[0;34m.\u001b[0m\u001b[0mread_excel\u001b[0m\u001b[0;34m(\u001b[0m\u001b[0mPath\u001b[0m\u001b[0;34m(\u001b[0m\u001b[0mDATA_DIR\u001b[0m\u001b[0;34m,\u001b[0m \u001b[0;34m'ytf_binding_sites.xlsx'\u001b[0m\u001b[0;34m)\u001b[0m\u001b[0;34m,\u001b[0m \u001b[0msheet_name\u001b[0m\u001b[0;34m=\u001b[0m\u001b[0;32mNone\u001b[0m\u001b[0;34m)\u001b[0m\u001b[0;34m\u001b[0m\u001b[0;34m\u001b[0m\u001b[0m\n\u001b[0m\u001b[1;32m    101\u001b[0m     \u001b[0mfinal_state_names\u001b[0m \u001b[0;34m=\u001b[0m \u001b[0;34m[\u001b[0m\u001b[0;34m]\u001b[0m\u001b[0;34m\u001b[0m\u001b[0;34m\u001b[0m\u001b[0m\n\u001b[1;32m    102\u001b[0m     \u001b[0mtf_names\u001b[0m \u001b[0;34m=\u001b[0m \u001b[0;34m[\u001b[0m\u001b[0;34m]\u001b[0m\u001b[0;34m\u001b[0m\u001b[0;34m\u001b[0m\u001b[0m\n",
      "\u001b[0;32m/usr/local/lib/python3.8/dist-packages/pandas/io/excel/_base.py\u001b[0m in \u001b[0;36mread_excel\u001b[0;34m(io, sheet_name, header, names, index_col, usecols, squeeze, dtype, engine, converters, true_values, false_values, skiprows, nrows, na_values, keep_default_na, verbose, parse_dates, date_parser, thousands, comment, skipfooter, convert_float, mangle_dupe_cols, **kwds)\u001b[0m\n\u001b[1;32m    302\u001b[0m \u001b[0;34m\u001b[0m\u001b[0m\n\u001b[1;32m    303\u001b[0m     \u001b[0;32mif\u001b[0m \u001b[0;32mnot\u001b[0m \u001b[0misinstance\u001b[0m\u001b[0;34m(\u001b[0m\u001b[0mio\u001b[0m\u001b[0;34m,\u001b[0m \u001b[0mExcelFile\u001b[0m\u001b[0;34m)\u001b[0m\u001b[0;34m:\u001b[0m\u001b[0;34m\u001b[0m\u001b[0;34m\u001b[0m\u001b[0m\n\u001b[0;32m--> 304\u001b[0;31m         \u001b[0mio\u001b[0m \u001b[0;34m=\u001b[0m \u001b[0mExcelFile\u001b[0m\u001b[0;34m(\u001b[0m\u001b[0mio\u001b[0m\u001b[0;34m,\u001b[0m \u001b[0mengine\u001b[0m\u001b[0;34m=\u001b[0m\u001b[0mengine\u001b[0m\u001b[0;34m)\u001b[0m\u001b[0;34m\u001b[0m\u001b[0;34m\u001b[0m\u001b[0m\n\u001b[0m\u001b[1;32m    305\u001b[0m     \u001b[0;32melif\u001b[0m \u001b[0mengine\u001b[0m \u001b[0;32mand\u001b[0m \u001b[0mengine\u001b[0m \u001b[0;34m!=\u001b[0m \u001b[0mio\u001b[0m\u001b[0;34m.\u001b[0m\u001b[0mengine\u001b[0m\u001b[0;34m:\u001b[0m\u001b[0;34m\u001b[0m\u001b[0;34m\u001b[0m\u001b[0m\n\u001b[1;32m    306\u001b[0m         raise ValueError(\n",
      "\u001b[0;32m/usr/local/lib/python3.8/dist-packages/pandas/io/excel/_base.py\u001b[0m in \u001b[0;36m__init__\u001b[0;34m(self, io, engine)\u001b[0m\n\u001b[1;32m    822\u001b[0m         \u001b[0mself\u001b[0m\u001b[0;34m.\u001b[0m\u001b[0m_io\u001b[0m \u001b[0;34m=\u001b[0m \u001b[0mstringify_path\u001b[0m\u001b[0;34m(\u001b[0m\u001b[0mio\u001b[0m\u001b[0;34m)\u001b[0m\u001b[0;34m\u001b[0m\u001b[0;34m\u001b[0m\u001b[0m\n\u001b[1;32m    823\u001b[0m \u001b[0;34m\u001b[0m\u001b[0m\n\u001b[0;32m--> 824\u001b[0;31m         \u001b[0mself\u001b[0m\u001b[0;34m.\u001b[0m\u001b[0m_reader\u001b[0m \u001b[0;34m=\u001b[0m \u001b[0mself\u001b[0m\u001b[0;34m.\u001b[0m\u001b[0m_engines\u001b[0m\u001b[0;34m[\u001b[0m\u001b[0mengine\u001b[0m\u001b[0;34m]\u001b[0m\u001b[0;34m(\u001b[0m\u001b[0mself\u001b[0m\u001b[0;34m.\u001b[0m\u001b[0m_io\u001b[0m\u001b[0;34m)\u001b[0m\u001b[0;34m\u001b[0m\u001b[0;34m\u001b[0m\u001b[0m\n\u001b[0m\u001b[1;32m    825\u001b[0m \u001b[0;34m\u001b[0m\u001b[0m\n\u001b[1;32m    826\u001b[0m     \u001b[0;32mdef\u001b[0m \u001b[0m__fspath__\u001b[0m\u001b[0;34m(\u001b[0m\u001b[0mself\u001b[0m\u001b[0;34m)\u001b[0m\u001b[0;34m:\u001b[0m\u001b[0;34m\u001b[0m\u001b[0;34m\u001b[0m\u001b[0m\n",
      "\u001b[0;32m/usr/local/lib/python3.8/dist-packages/pandas/io/excel/_xlrd.py\u001b[0m in \u001b[0;36m__init__\u001b[0;34m(self, filepath_or_buffer)\u001b[0m\n\u001b[1;32m     18\u001b[0m         \"\"\"\n\u001b[1;32m     19\u001b[0m         \u001b[0merr_msg\u001b[0m \u001b[0;34m=\u001b[0m \u001b[0;34m\"Install xlrd >= 1.0.0 for Excel support\"\u001b[0m\u001b[0;34m\u001b[0m\u001b[0;34m\u001b[0m\u001b[0m\n\u001b[0;32m---> 20\u001b[0;31m         \u001b[0mimport_optional_dependency\u001b[0m\u001b[0;34m(\u001b[0m\u001b[0;34m\"xlrd\"\u001b[0m\u001b[0;34m,\u001b[0m \u001b[0mextra\u001b[0m\u001b[0;34m=\u001b[0m\u001b[0merr_msg\u001b[0m\u001b[0;34m)\u001b[0m\u001b[0;34m\u001b[0m\u001b[0;34m\u001b[0m\u001b[0m\n\u001b[0m\u001b[1;32m     21\u001b[0m         \u001b[0msuper\u001b[0m\u001b[0;34m(\u001b[0m\u001b[0;34m)\u001b[0m\u001b[0;34m.\u001b[0m\u001b[0m__init__\u001b[0m\u001b[0;34m(\u001b[0m\u001b[0mfilepath_or_buffer\u001b[0m\u001b[0;34m)\u001b[0m\u001b[0;34m\u001b[0m\u001b[0;34m\u001b[0m\u001b[0m\n\u001b[1;32m     22\u001b[0m \u001b[0;34m\u001b[0m\u001b[0m\n",
      "\u001b[0;32m/usr/local/lib/python3.8/dist-packages/pandas/compat/_optional.py\u001b[0m in \u001b[0;36mimport_optional_dependency\u001b[0;34m(name, extra, raise_on_missing, on_version)\u001b[0m\n\u001b[1;32m     90\u001b[0m     \u001b[0;32mexcept\u001b[0m \u001b[0mImportError\u001b[0m\u001b[0;34m:\u001b[0m\u001b[0;34m\u001b[0m\u001b[0;34m\u001b[0m\u001b[0m\n\u001b[1;32m     91\u001b[0m         \u001b[0;32mif\u001b[0m \u001b[0mraise_on_missing\u001b[0m\u001b[0;34m:\u001b[0m\u001b[0;34m\u001b[0m\u001b[0;34m\u001b[0m\u001b[0m\n\u001b[0;32m---> 92\u001b[0;31m             \u001b[0;32mraise\u001b[0m \u001b[0mImportError\u001b[0m\u001b[0;34m(\u001b[0m\u001b[0mmsg\u001b[0m\u001b[0;34m)\u001b[0m \u001b[0;32mfrom\u001b[0m \u001b[0;32mNone\u001b[0m\u001b[0;34m\u001b[0m\u001b[0;34m\u001b[0m\u001b[0m\n\u001b[0m\u001b[1;32m     93\u001b[0m         \u001b[0;32melse\u001b[0m\u001b[0;34m:\u001b[0m\u001b[0;34m\u001b[0m\u001b[0;34m\u001b[0m\u001b[0m\n\u001b[1;32m     94\u001b[0m             \u001b[0;32mreturn\u001b[0m \u001b[0;32mNone\u001b[0m\u001b[0;34m\u001b[0m\u001b[0;34m\u001b[0m\u001b[0m\n",
      "\u001b[0;31mImportError\u001b[0m: Missing optional dependency 'xlrd'. Install xlrd >= 1.0.0 for Excel support Use pip or conda to install xlrd."
     ]
    }
   ],
   "source": [
    "# instantiate an object of class Bitome and point it to the GenBank record for E. coli K-12 MG1655\n",
    "bitome = Bitome(Path('../bitome-kb/data', 'NC_000913.3.gb'))\n",
    "\n",
    "# load all data into the knowledgebase class, specifying that RegulonDB information should be included.\n",
    "# (default is False to ensure compatibility with GenBank records for other organisms, as RegulonDB is specific to K-12)\n",
    "bitome.load_data(regulon_db=True)"
   ]
  },
  {
   "cell_type": "markdown",
   "metadata": {
    "pycharm": {
     "name": "#%% md\n"
    }
   },
   "source": [
    "## Save and Reload the Knowledgebase\n",
    "\n",
    "For convenience, the fully-loaded Bitome knowledgebase can be dumped to a `pickle` file for easy re-loading\n",
    "if the underlying data has not changed. Once the following cell has been executed, the `bitome.pkl` file created in the\n",
    "`data` directory can be loaded (instead of running the more time-consuming `load_data` method)."
   ]
  },
  {
   "cell_type": "code",
   "execution_count": 8,
   "metadata": {
    "pycharm": {
     "name": "#%%\n"
    }
   },
   "outputs": [],
   "source": [
    "# this code will dump the loaded Bitome object to a file called 'bitome.pkl' in the data directory\n",
    "# both the storage directory and file name of the pickle dump can be changed via keyword argument\n",
    "bitome.save(dir_name='../bitome-kb/')\n",
    "\n",
    "# now, let's initiate a new Bitome knowledgebase from that file\n",
    "bitome_from_file = Bitome.init_from_file(Path('../bitome-kb/', 'bitome.pkl'))"
   ]
  },
  {
   "cell_type": "markdown",
   "metadata": {},
   "source": [
    "`bitome` and `bitome_from_file` are the same (different objects, but the same underlying data). Let's use `bitome`\n",
    "moving forward for our examples, but the `init_from_file` route for loading the knowledgebase is preferred (again, as\n",
    "long as no data has been added or modified)"
   ]
  },
  {
   "cell_type": "markdown",
   "metadata": {},
   "source": [
    "## Exploring the Bitome \n"
   ]
  },
  {
   "cell_type": "markdown",
   "metadata": {},
   "source": [
    "The Bitome knowledgebase is a collection of heavily-linked objects. These objects may be accessed via attributes of the bitome object we've instantiated above. An example of such \"link-hopping\" is given below:"
   ]
  },
  {
   "cell_type": "markdown",
   "metadata": {},
   "source": [
    "### Simple Example of Link-Hopping"
   ]
  },
  {
   "cell_type": "code",
   "execution_count": 4,
   "metadata": {},
   "outputs": [
    {
     "name": "stdout",
     "output_type": "stream",
     "text": [
      "Gene name: dsrA\n",
      "Gene location: [2025226:2025313](-)\n",
      "Gene sequence: AACACATCAGATTTCCTGGTGTAACGAATTTTTTAAGTGCTTCTTGCTTAAGCAAGTTTCATCCCGACCCCCTCAGGGTCGGGATTT\n",
      "Type of random_gene object: <class 'bitome.features.Gene'>\n"
     ]
    }
   ],
   "source": [
    "# pull out the dsrA gene (chosen at random) from the master list of genes in the knowledgebase \n",
    "# NOTE: I just entered 2000 and then later added this comment to determine the gene is dsrA; I need to add \n",
    "# a convenient function for pulling out a gene object by name...\n",
    "dsrA = bitome.genes[2000]\n",
    "\n",
    "# print out some features of this gene\n",
    "print(f'Gene name: {dsrA.name}')\n",
    "print(f'Gene location: {dsrA.location}')\n",
    "print(f'Gene sequence: {dsrA.sequence}')\n",
    "print(f'Type of random_gene object: {type(dsrA)}')"
   ]
  },
  {
   "cell_type": "markdown",
   "metadata": {},
   "source": [
    "So we've pulled out the dsrA gene. It is represented by an object of type Gene. The Gene object (and other types of features within the Bitome, as we'll see in a moment) has some useful attributes such as its absolute location, its sequence, its name, and links to other related objects.\n",
    "\n",
    "Note that: dsrA is on the reverse strand. However, the sequence attribute is in the CODING direction.\n",
    "\n",
    "Now, let's say we're interested in where the TSS (or multiple TSS for this gene are located). Let's first access any transcription units associated with this gene:"
   ]
  },
  {
   "cell_type": "code",
   "execution_count": 5,
   "metadata": {},
   "outputs": [
    {
     "data": {
      "text/plain": [
       "[<bitome.features.TranscriptionUnit at 0x1219b4bd0>]"
      ]
     },
     "execution_count": 5,
     "metadata": {},
     "output_type": "execute_result"
    }
   ],
   "source": [
    "dsrA.transcription_units"
   ]
  },
  {
   "cell_type": "markdown",
   "metadata": {},
   "source": [
    "So this particular gene is just involved in one transcription unit; let's pull out some information on it"
   ]
  },
  {
   "cell_type": "code",
   "execution_count": 6,
   "metadata": {},
   "outputs": [
    {
     "name": "stdout",
     "output_type": "stream",
     "text": [
      "TU name: dsrA\n",
      "TU location: [2025226:2025313](-)\n",
      "TU object type: <class 'bitome.features.TranscriptionUnit'>\n"
     ]
    }
   ],
   "source": [
    "dsrA_tu = dsrA.transcription_units[0]\n",
    "\n",
    "print(f'TU name: {dsrA_tu.name}')\n",
    "print(f'TU location: {dsrA_tu.location}')\n",
    "print(f'TU object type: {type(dsrA_tu)}')"
   ]
  },
  {
   "cell_type": "markdown",
   "metadata": {},
   "source": [
    "So we're dealing with a single-gene TU on the reverse strand. Let's see what operon it belongs to:"
   ]
  },
  {
   "cell_type": "code",
   "execution_count": 7,
   "metadata": {},
   "outputs": [
    {
     "data": {
      "text/plain": [
       "'dsrA'"
      ]
     },
     "execution_count": 7,
     "metadata": {},
     "output_type": "execute_result"
    }
   ],
   "source": [
    "dsrA_tu.operon.name"
   ]
  },
  {
   "cell_type": "markdown",
   "metadata": {},
   "source": [
    "We could have answered the question of which operon(s) does the gene belong to with the following one-liner:"
   ]
  },
  {
   "cell_type": "code",
   "execution_count": 8,
   "metadata": {},
   "outputs": [
    {
     "data": {
      "text/plain": [
       "['dsrA']"
      ]
     },
     "execution_count": 8,
     "metadata": {},
     "output_type": "execute_result"
    }
   ],
   "source": [
    "[tu.operon.name for tu in dsrA.transcription_units]"
   ]
  },
  {
   "cell_type": "markdown",
   "metadata": {},
   "source": [
    "What about promoters? Each TranscriptionUnit object has a promoter attribute, which in turn links to things like TF binding sites, attenuators, and more:\n",
    "\n",
    "NOTE: not all TUs have an annotated promoter (in those cases, the tu.promoter attribute will be `None`)\n",
    "\n",
    "The Promoter object houses the TSS information:"
   ]
  },
  {
   "cell_type": "code",
   "execution_count": 9,
   "metadata": {},
   "outputs": [
    {
     "name": "stdout",
     "output_type": "stream",
     "text": [
      "Promoter name: dsrAp\n",
      "Promoter location: [2025292:2025373](-)\n",
      "Promoter object type: <class 'bitome.features.Promoter'>\n",
      "TSS: 2025313\n"
     ]
    }
   ],
   "source": [
    "dsrA_prom = dsrA_tu.promoter\n",
    "\n",
    "print(f'Promoter name: {dsrA_prom.name}')\n",
    "print(f'Promoter location: {dsrA_prom.location}')\n",
    "print(f'Promoter object type: {type(dsrA_prom)}')\n",
    "print(f'TSS: {dsrA_prom.tss}')"
   ]
  },
  {
   "cell_type": "markdown",
   "metadata": {},
   "source": [
    "Let's see how we would locate all TSS for a given gene in a one-liner:"
   ]
  },
  {
   "cell_type": "code",
   "execution_count": 10,
   "metadata": {},
   "outputs": [
    {
     "data": {
      "text/plain": [
       "[2025313]"
      ]
     },
     "execution_count": 10,
     "metadata": {},
     "output_type": "execute_result"
    }
   ],
   "source": [
    "[tu.promoter.tss for tu in dsrA.transcription_units]"
   ]
  },
  {
   "cell_type": "markdown",
   "metadata": {},
   "source": [
    "### Bitome Table of Contents"
   ]
  },
  {
   "cell_type": "markdown",
   "metadata": {},
   "source": [
    "The Bitome contains master lists of many different types of objects, all that can be located on the provided reference sequence. Below is shown a master list of those attributes:"
   ]
  },
  {
   "cell_type": "code",
   "execution_count": 11,
   "metadata": {},
   "outputs": [
    {
     "name": "stdout",
     "output_type": "stream",
     "text": [
      "Genes: 4497\n",
      "Proteins: 4140\n",
      "Mobile Elements: 49\n",
      "Repeat Regions: 355\n",
      "Operons: 2619\n",
      "Transcription Units: 3560\n",
      "Promoters: 8631\n",
      "Terminators: 512\n",
      "Attenuators: 1466\n",
      "Shine-Dalgarnos: 179\n",
      "Riboswitches: 51\n",
      "Transcription Factors: 224\n",
      "TF binding sites: 3235\n",
      "Regulons: 493\n",
      "iModulons: 61\n"
     ]
    }
   ],
   "source": [
    "print(f'Genes: {len(bitome.genes)}')\n",
    "print(f'Proteins: {len(bitome.proteins)}')\n",
    "print(f'Mobile Elements: {len(bitome.mobile_elements)}')\n",
    "print(f'Repeat Regions: {len(bitome.repeat_regions)}')\n",
    "print(f'Operons: {len(bitome.operons)}')\n",
    "print(f'Transcription Units: {len(bitome.transcription_units)}')\n",
    "print(f'Promoters: {len(bitome.promoters)}')\n",
    "print(f'Terminators: {len(bitome.terminators)}')\n",
    "print(f'Attenuators: {len(bitome.attenuators)}')\n",
    "print(f'Shine-Dalgarnos: {len(bitome.shine_dalgarnos)}')\n",
    "print(f'Riboswitches: {len(bitome.riboswitches)}')\n",
    "print(f'Transcription Factors: {len(bitome.transcription_factors)}')\n",
    "print(f'TF binding sites: {len(bitome.tf_binding_sites)}')\n",
    "print(f'Regulons: {len(bitome.regulons)}')\n",
    "print(f'iModulons: {len(bitome.i_modulons)}')"
   ]
  },
  {
   "cell_type": "markdown",
   "metadata": {},
   "source": [
    "The Bitome also retains the full sequence, along with the GenBank record and ID:"
   ]
  },
  {
   "cell_type": "code",
   "execution_count": 12,
   "metadata": {},
   "outputs": [
    {
     "name": "stdout",
     "output_type": "stream",
     "text": [
      "GenBank ID: NC_000913.3\n",
      "Full Sequence (first 200 bps): AGCTTTTCATTCTGACTGCAACGGGCAATATGTCTCTGTGTGGATTAAAAAAAGAGTGTCTGATAGCAGCTTCTGAACTGGTTACCTGCCGTGAGTAAATTAAAATTTTATTGACTTAGGTCACTAAATACTTTAACCAATATAGGCATAGCGCACAGACAGATAAAAATTACAGAGTACACAACATCCATGAAACGCAT\n",
      "GenBank description: Escherichia coli str. K-12 substr. MG1655, complete genome\n"
     ]
    }
   ],
   "source": [
    "print(f'GenBank ID: {bitome.genbank_id}')\n",
    "print(f'Full Sequence (first 200 bps): {bitome.sequence[:200]}')\n",
    "print(f'GenBank description: {bitome.description}')"
   ]
  },
  {
   "cell_type": "markdown",
   "metadata": {},
   "source": [
    "## Utilities"
   ]
  },
  {
   "cell_type": "markdown",
   "metadata": {},
   "source": [
    "A function for finding a feature with a given name."
   ]
  },
  {
   "cell_type": "code",
   "execution_count": 13,
   "metadata": {},
   "outputs": [
    {
     "name": "stdout",
     "output_type": "stream",
     "text": [
      "glpR\n",
      "[3559847:3560605](-)\n"
     ]
    }
   ],
   "source": [
    "glpR = [gene for gene in bitome.genes if gene.name == 'glpR'][0]\n",
    "print(glpR.name)\n",
    "print(glpR.location)"
   ]
  },
  {
   "cell_type": "markdown",
   "metadata": {},
   "source": [
    "Sequence location slicing\n",
    "\n",
    "This example shows how to extract an arbitrary genomic locus from the main sequence. Let's say we wanted to pull out the sequence of the 5' UTR for glpR (from above). Note that glpR is on the (-), or reverse, strand; so the \"right\" end of the position is the 5' end. \n",
    "\n",
    "In Biopython's SeqLocation terms, left = \"start\" and right = \"end\", REGARDLESS of strand. It's annoying and confusing...\n",
    "\n",
    "I can write some better utility functions for this sort of thing if desired."
   ]
  },
  {
   "cell_type": "code",
   "execution_count": 14,
   "metadata": {},
   "outputs": [
    {
     "data": {
      "text/plain": [
       "Seq('TTATAAATCCCTGGAATTATTTTCGTTTTCGCGCATTGAGCGAATCAACAAAAG...AGT', IUPACAmbiguousDNA())"
      ]
     },
     "execution_count": 14,
     "metadata": {},
     "output_type": "execute_result"
    }
   ],
   "source": [
    "from Bio.SeqFeature import FeatureLocation\n",
    "\n",
    "# so we're giving as the left end, the START of the gene, which is the \"end\" of its location...\n",
    "# and as the right end for the 5' UTR, we're giving the TSS for the promoter (just taking the first one arbitrarily)\n",
    "FeatureLocation(glpR.location.end.position, glpR.transcription_units[0].promoter.tss).extract(bitome.sequence)"
   ]
  },
  {
   "cell_type": "markdown",
   "metadata": {},
   "source": [
    "## There are a lot of possibilities for accessing data from the Bitome knowledgebase, so please ask! Also, don't be afraid to dive into the source code (in the `bitome` directory), it is very heavily commented and documented. "
   ]
  }
 ],
 "metadata": {
  "kernelspec": {
   "display_name": "Python 3",
   "language": "python",
   "name": "python3"
  },
  "language_info": {
   "codemirror_mode": {
    "name": "ipython",
    "version": 3
   },
   "file_extension": ".py",
   "mimetype": "text/x-python",
   "name": "python",
   "nbconvert_exporter": "python",
   "pygments_lexer": "ipython3",
   "version": "3.8.2"
  }
 },
 "nbformat": 4,
 "nbformat_minor": 1
}
