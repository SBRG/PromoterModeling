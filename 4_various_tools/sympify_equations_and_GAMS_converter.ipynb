{
 "cells": [
  {
   "cell_type": "code",
   "execution_count": 3,
   "id": "c5b8db41",
   "metadata": {},
   "outputs": [],
   "source": [
    "import sympy\n",
    "import pickle"
   ]
  },
  {
   "cell_type": "markdown",
   "id": "bf9d30cb",
   "metadata": {
    "heading_collapsed": true
   },
   "source": [
    "# sympy example for Mathematica to sympify"
   ]
  },
  {
   "cell_type": "raw",
   "id": "19d1fd18",
   "metadata": {
    "hidden": true
   },
   "source": [
    "Steps:\n",
    "1 - paste this equation into the Mathematica notebook:\n",
    "ToPython[x_] := \n",
    "  StringReplace[\n",
    "   ToString[x, InputForm], {\"*^\" -> \"*10**\", \"\\\"\" -> \"\", \"[\" -> \"(\", \n",
    "    \"]\" -> \")\", \"<\" -> \"[\", \">\" -> \"]\",(*\" \"\\[Rule]\"\",*)\n",
    "    \"Sqrt\" -> \"sqrt\", \"Log\" -> \"log\", \"List\" -> \"list\", \"^\" -> \"**\", \n",
    "    \"{\" -> \"[\", \"}\" -> \"]\"}];\n",
    "    \n",
    "2 - Take the output of some other substitution and plug it into sympy.sympify along with the left hand side\n",
    "Example output:\n",
    "left_hand = ArgConc\n",
    "\n",
    "equation = \"-((KdTF*(-9*KdTF*KeqOpening*kEscape*promoterConc*RNAP + \\\n",
    "3*kDeg*mRNAtarget*(3*KdTF*(1 + KeqOpening)*RNAP + KdRNAP*(3*KdTF + \\\n",
    "TFTotal)) + 9*KdRNAP*KdTF*mRNAtarget*u + 9*KdTF*mRNAtarget*RNAP*u + \\\n",
    "9*KdTF*KeqOpening*mRNAtarget*RNAP*u + 3*KdRNAP*mRNAtarget*TFTotal*u + \\\n",
    "KdArg*KdRNAP*mRNAtarget*(kDeg + u))*(kDeg*mRNAtarget*(KdRNAP + RNAP + \\\n",
    "KeqOpening*RNAP) + mRNAtarget*(KdRNAP + RNAP)*u + \\\n",
    "KeqOpening*(-(kEscape*promoterConc*RNAP) + \\\n",
    "mRNAtarget*RNAP*u)))/(KdRNAP*mRNAtarget*(kDeg + \\\n",
    "u)*(kDeg*mRNAtarget*(3*KdTF*(1 + KeqOpening)*RNAP + KdRNAP*(3*KdTF + \\\n",
    "TFTotal)) + KdRNAP*mRNAtarget*TFTotal*u + 3*KdTF*(mRNAtarget*(KdRNAP \\\n",
    "+ RNAP)*u + KeqOpening*(-(kEscape*promoterConc*RNAP) + \\\n",
    "mRNAtarget*RNAP*u)))))\"\n",
    "\n",
    "func = sympy.sympify('Eq('+equation+'+','+left_hand+')')\n",
    "\n",
    "3 - Replace constants in func\n",
    "pickle_in = open('../data/gene_grid_constants/b0185.pkl', 'rb')\n",
    "constants = pickle.load(pickle_in)\n",
    "pickle_in.close()\n",
    "func = func.subs(constants.items())\n",
    "\n",
    "4 - Call func.solve("
   ]
  },
  {
   "cell_type": "code",
   "execution_count": 35,
   "id": "5e95cf7f",
   "metadata": {
    "hidden": true
   },
   "outputs": [
    {
     "data": {
      "text/plain": [
       "[0.201841562985853, 0.264544995398482]"
      ]
     },
     "execution_count": 35,
     "metadata": {},
     "output_type": "execute_result"
    }
   ],
   "source": [
    "# example!\n",
    "\n",
    "equation = \"-((KdTF*(-9*KdTF*KeqOpening*kEscape*promoterConc*RNAP + \\\n",
    "3*kDeg*mRNAtarget*(3*KdTF*(1 + KeqOpening)*RNAP + KdRNAP*(3*KdTF + \\\n",
    "TFTotal)) + 9*KdRNAP*KdTF*mRNAtarget*u + 9*KdTF*mRNAtarget*RNAP*u + \\\n",
    "9*KdTF*KeqOpening*mRNAtarget*RNAP*u + 3*KdRNAP*mRNAtarget*TFTotal*u + \\\n",
    "KdArg*KdRNAP*mRNAtarget*(kDeg + u))*(kDeg*mRNAtarget*(KdRNAP + RNAP + \\\n",
    "KeqOpening*RNAP) + mRNAtarget*(KdRNAP + RNAP)*u + \\\n",
    "KeqOpening*(-(kEscape*promoterConc*RNAP) + \\\n",
    "mRNAtarget*RNAP*u)))/(KdRNAP*mRNAtarget*(kDeg + \\\n",
    "u)*(kDeg*mRNAtarget*(3*KdTF*(1 + KeqOpening)*RNAP + KdRNAP*(3*KdTF + \\\n",
    "TFTotal)) + KdRNAP*mRNAtarget*TFTotal*u + 3*KdTF*(mRNAtarget*(KdRNAP \\\n",
    "+ RNAP)*u + KeqOpening*(-(kEscape*promoterConc*RNAP) + \\\n",
    "mRNAtarget*RNAP*u)))))\"\n",
    "left_hand = 'ArgConc'\n",
    "\n",
    "func = sympy.sympify('Eq('+equation+','+left_hand+')')\n",
    "\n",
    "pickle_in = open('../data/gene_grid_constants/b0185.pkl', 'rb')\n",
    "constants = pickle.load(pickle_in)\n",
    "pickle_in.close()\n",
    "# just getting this to work, not the right place ot pull these from\n",
    "constants.update({\n",
    "    'KdArg' : 1,\n",
    "    'TFTotal' : 1,\n",
    "    'promoterConc' : 1,\n",
    "    'KdTF' : 1,\n",
    "})\n",
    "func = func.subs(constants.items())\n",
    "\n",
    "sol_func = func.subs({'ArgConc' : 1})\n",
    "sympy.solve(sol_func, 'mRNAtarget')\n",
    "# the example is modified from true as it needed a lot more substitutions"
   ]
  },
  {
   "cell_type": "markdown",
   "id": "193e5476",
   "metadata": {},
   "source": [
    "# now converting the equation to GAMS format"
   ]
  },
  {
   "cell_type": "raw",
   "id": "112d8b11",
   "metadata": {},
   "source": [
    "Steps:\n",
    "1 - paste this equation into the Mathematica notebook:\n",
    "ToPython[x_] := \n",
    "  StringReplace[\n",
    "   ToString[x, InputForm], {\"*^\" -> \"*10**\", \"\\\"\" -> \"\", \"[\" -> \"(\", \n",
    "    \"]\" -> \")\", \"<\" -> \"[\", \">\" -> \"]\",(*\" \"\\[Rule]\"\",*)\n",
    "    \"Sqrt\" -> \"sqrt\", \"Log\" -> \"log\", \"List\" -> \"list\", \"^\" -> \"**\", \n",
    "    \"{\" -> \"[\", \"}\" -> \"]\"}];\n",
    "    \n",
    "2 - Take the output of some other substitution and set it to the variable below\n",
    "\n",
    "equation = \"-((KdTF*(-9*KdTF*KeqOpening*kEscape*promoterConc*RNAP + \\\n",
    "3*kDeg*mRNAtarget*(3*KdTF*(1 + KeqOpening)*RNAP + KdRNAP*(3*KdTF + \\\n",
    "TFTotal)) + 9*KdRNAP*KdTF*mRNAtarget*u + 9*KdTF*mRNAtarget*RNAP*u + \\\n",
    "9*KdTF*KeqOpening*mRNAtarget*RNAP*u + 3*KdRNAP*mRNAtarget*TFTotal*u + \\\n",
    "KdArg*KdRNAP*mRNAtarget*(kDeg + u))*(kDeg*mRNAtarget*(KdRNAP + RNAP + \\\n",
    "KeqOpening*RNAP) + mRNAtarget*(KdRNAP + RNAP)*u + \\\n",
    "KeqOpening*(-(kEscape*promoterConc*RNAP) + \\\n",
    "mRNAtarget*RNAP*u)))/(KdRNAP*mRNAtarget*(kDeg + \\\n",
    "u)*(kDeg*mRNAtarget*(3*KdTF*(1 + KeqOpening)*RNAP + KdRNAP*(3*KdTF + \\\n",
    "TFTotal)) + KdRNAP*mRNAtarget*TFTotal*u + 3*KdTF*(mRNAtarget*(KdRNAP \\\n",
    "+ RNAP)*u + KeqOpening*(-(kEscape*promoterConc*RNAP) + \\\n",
    "mRNAtarget*RNAP*u)))))\"\n",
    "\n",
    "\n",
    "3 - Replace constants in func\n",
    "Apply the converter below\n",
    "\n",
    "4 - Paste results into GAMS"
   ]
  },
  {
   "cell_type": "code",
   "execution_count": 20,
   "id": "49208dc6",
   "metadata": {},
   "outputs": [],
   "source": [
    "general_converter_dict = {\n",
    "    \n",
    "}\n",
    "act_conv_dict = {\n",
    "    'KdTF' : '10**act_Kd(gene, iM)'\n",
    "}\n",
    "inh_conv_dict = {\n",
    "    'KdTF' : '10**inh_Kd(gene, iM)',\n",
    "    'argTotal' : '10**inh_metab_Total(sample, iM)',\n",
    "    'KdArg' : 'TF_constants(iM, \\'kd_inh_metab\\')',\n",
    "    'TFTotal' : 'meas_inh_TF(sample, iM)',\n",
    "    'KdPur' : 'TF_constants(iM, \\'kd_inh_metab\\')',\n",
    "    'purTotal' : '10**inh_metab_Total(sample, iM)',\n",
    "}\n",
    "\n",
    "def python_to_GAMS(equation, act_or_inh = 'act'):\n",
    "    for key, val in general_converter_dict.items():\n",
    "        equation = equation.replace(key, val)\n",
    "    if act_or_inh == 'act':\n",
    "        for key, val in act_conv_dict.items():\n",
    "            equation = equation.replace(key, val)\n",
    "    if act_or_inh == 'inh':\n",
    "        for key, val in inh_conv_dict.items():\n",
    "            equation = equation.replace(key, val)\n",
    "    return(equation)"
   ]
  },
  {
   "cell_type": "code",
   "execution_count": 21,
   "id": "89daf0c0",
   "metadata": {
    "code_folding": [
     0
    ]
   },
   "outputs": [
    {
     "data": {
      "text/plain": [
       "'-((10**act_Kd(gene, iM)*(-9*10**act_Kd(gene, iM)*KeqOpening*kEscape*promoterConc*RNAP + 3*kDeg*mRNAtarget*(3*10**act_Kd(gene, iM)*(1 + KeqOpening)*RNAP + KdRNAP*(3*10**act_Kd(gene, iM) + TFTotal)) + 9*KdRNAP*10**act_Kd(gene, iM)*mRNAtarget*u + 9*10**act_Kd(gene, iM)*mRNAtarget*RNAP*u + 9*10**act_Kd(gene, iM)*KeqOpening*mRNAtarget*RNAP*u + 3*KdRNAP*mRNAtarget*TFTotal*u + KdArg*KdRNAP*mRNAtarget*(kDeg + u))*(kDeg*mRNAtarget*(KdRNAP + RNAP + KeqOpening*RNAP) + mRNAtarget*(KdRNAP + RNAP)*u + KeqOpening*(-(kEscape*promoterConc*RNAP) + mRNAtarget*RNAP*u)))/(KdRNAP*mRNAtarget*(kDeg + u)*(kDeg*mRNAtarget*(3*10**act_Kd(gene, iM)*(1 + KeqOpening)*RNAP + KdRNAP*(3*10**act_Kd(gene, iM) + TFTotal)) + KdRNAP*mRNAtarget*TFTotal*u + 3*10**act_Kd(gene, iM)*(mRNAtarget*(KdRNAP + RNAP)*u + KeqOpening*(-(kEscape*promoterConc*RNAP) + mRNAtarget*RNAP*u)))))'"
      ]
     },
     "execution_count": 21,
     "metadata": {},
     "output_type": "execute_result"
    }
   ],
   "source": [
    "# example\n",
    "equation = \"-((KdTF*(-9*KdTF*KeqOpening*kEscape*promoterConc*RNAP + \\\n",
    "3*kDeg*mRNAtarget*(3*KdTF*(1 + KeqOpening)*RNAP + KdRNAP*(3*KdTF + \\\n",
    "TFTotal)) + 9*KdRNAP*KdTF*mRNAtarget*u + 9*KdTF*mRNAtarget*RNAP*u + \\\n",
    "9*KdTF*KeqOpening*mRNAtarget*RNAP*u + 3*KdRNAP*mRNAtarget*TFTotal*u + \\\n",
    "KdArg*KdRNAP*mRNAtarget*(kDeg + u))*(kDeg*mRNAtarget*(KdRNAP + RNAP + \\\n",
    "KeqOpening*RNAP) + mRNAtarget*(KdRNAP + RNAP)*u + \\\n",
    "KeqOpening*(-(kEscape*promoterConc*RNAP) + \\\n",
    "mRNAtarget*RNAP*u)))/(KdRNAP*mRNAtarget*(kDeg + \\\n",
    "u)*(kDeg*mRNAtarget*(3*KdTF*(1 + KeqOpening)*RNAP + KdRNAP*(3*KdTF + \\\n",
    "TFTotal)) + KdRNAP*mRNAtarget*TFTotal*u + 3*KdTF*(mRNAtarget*(KdRNAP \\\n",
    "+ RNAP)*u + KeqOpening*(-(kEscape*promoterConc*RNAP) + \\\n",
    "mRNAtarget*RNAP*u)))))\"\n",
    "\n",
    "python_to_GAMS(equation)"
   ]
  },
  {
   "cell_type": "code",
   "execution_count": 23,
   "id": "d401d8f3",
   "metadata": {},
   "outputs": [
    {
     "data": {
      "text/plain": [
       "\"(input_constants('kd_inh_metab', iM) + 10**inh_metab_Total(sample, iM) + meas_inh_TF(sample, iM) + sqrt(input_constants('kd_inh_metab', iM)**2 + (10**inh_metab_Total(sample, iM) - meas_inh_TF(sample, iM))**2 + 2*input_constants('kd_inh_metab', iM)*(10**inh_metab_Total(sample, iM) + meas_inh_TF(sample, iM))))/(4*10**inh_Kd(gene, iM))\""
      ]
     },
     "execution_count": 23,
     "metadata": {},
     "output_type": "execute_result"
    }
   ],
   "source": [
    "# for guanine and hypoxanthine example (multi_co_effector_binding)\n",
    "equation = \"(KdPur + purTotal + TFTotal + sqrt(KdPur**2 + (purTotal - \\\n",
    "TFTotal)**2 + 2*KdPur*(purTotal + TFTotal)))/(4*KdTF)\"\n",
    "python_to_GAMS(equation, act_or_inh = 'inh')"
   ]
  },
  {
   "cell_type": "code",
   "execution_count": null,
   "id": "91d4b7be",
   "metadata": {},
   "outputs": [],
   "source": []
  }
 ],
 "metadata": {
  "kernelspec": {
   "display_name": "Python 3 (ipykernel)",
   "language": "python",
   "name": "python3"
  },
  "language_info": {
   "codemirror_mode": {
    "name": "ipython",
    "version": 3
   },
   "file_extension": ".py",
   "mimetype": "text/x-python",
   "name": "python",
   "nbconvert_exporter": "python",
   "pygments_lexer": "ipython3",
   "version": "3.10.0"
  },
  "toc": {
   "base_numbering": 1,
   "nav_menu": {},
   "number_sections": true,
   "sideBar": true,
   "skip_h1_title": false,
   "title_cell": "Table of Contents",
   "title_sidebar": "Contents",
   "toc_cell": false,
   "toc_position": {},
   "toc_section_display": true,
   "toc_window_display": false
  }
 },
 "nbformat": 4,
 "nbformat_minor": 5
}
