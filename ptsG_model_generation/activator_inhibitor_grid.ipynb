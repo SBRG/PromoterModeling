{
 "cells": [
  {
   "attachments": {},
   "cell_type": "markdown",
   "metadata": {},
   "source": [
    "# Setup"
   ]
  },
  {
   "cell_type": "code",
   "execution_count": 53,
   "metadata": {},
   "outputs": [],
   "source": [
    "import numpy as np\n",
    "import pandas as pd\n",
    "import matplotlib.pyplot as plt\n",
    "import random\n",
    "import sys\n",
    "\n",
    "from deap import algorithms, base, creator, tools\n",
    "\n",
    "from sympy import *\n",
    "\n",
    "from scipy.stats import spearmanr\n",
    "\n",
    "sys.path.append('../promoter_solving/')\n",
    "from promoter_solving_core import *"
   ]
  },
  {
   "cell_type": "code",
   "execution_count": 54,
   "metadata": {},
   "outputs": [
    {
     "data": {
      "text/html": [
       "<div>\n",
       "<style scoped>\n",
       "    .dataframe tbody tr th:only-of-type {\n",
       "        vertical-align: middle;\n",
       "    }\n",
       "\n",
       "    .dataframe tbody tr th {\n",
       "        vertical-align: top;\n",
       "    }\n",
       "\n",
       "    .dataframe thead th {\n",
       "        text-align: right;\n",
       "    }\n",
       "</style>\n",
       "<table border=\"1\" class=\"dataframe\">\n",
       "  <thead>\n",
       "    <tr style=\"text-align: right;\">\n",
       "      <th></th>\n",
       "      <th>MA_activator</th>\n",
       "      <th>MA_inhibitor</th>\n",
       "      <th>actual_mRNA_ratio</th>\n",
       "    </tr>\n",
       "  </thead>\n",
       "  <tbody>\n",
       "    <tr>\n",
       "      <th>control__wt_glc__1</th>\n",
       "      <td>0.019182</td>\n",
       "      <td>0.028499</td>\n",
       "      <td>2.186692</td>\n",
       "    </tr>\n",
       "    <tr>\n",
       "      <th>control__wt_glc__2</th>\n",
       "      <td>-0.019182</td>\n",
       "      <td>-0.028499</td>\n",
       "      <td>2.369230</td>\n",
       "    </tr>\n",
       "    <tr>\n",
       "      <th>fur__wt_dpd__1</th>\n",
       "      <td>-0.963901</td>\n",
       "      <td>-0.473642</td>\n",
       "      <td>0.490542</td>\n",
       "    </tr>\n",
       "    <tr>\n",
       "      <th>fur__wt_dpd__2</th>\n",
       "      <td>-1.116929</td>\n",
       "      <td>-0.541595</td>\n",
       "      <td>0.492320</td>\n",
       "    </tr>\n",
       "    <tr>\n",
       "      <th>fur__wt_fe__1</th>\n",
       "      <td>0.043720</td>\n",
       "      <td>-0.054857</td>\n",
       "      <td>1.756930</td>\n",
       "    </tr>\n",
       "  </tbody>\n",
       "</table>\n",
       "</div>"
      ],
      "text/plain": [
       "                    MA_activator  MA_inhibitor  actual_mRNA_ratio\n",
       "control__wt_glc__1      0.019182      0.028499           2.186692\n",
       "control__wt_glc__2     -0.019182     -0.028499           2.369230\n",
       "fur__wt_dpd__1         -0.963901     -0.473642           0.490542\n",
       "fur__wt_dpd__2         -1.116929     -0.541595           0.492320\n",
       "fur__wt_fe__1           0.043720     -0.054857           1.756930"
      ]
     },
     "execution_count": 54,
     "metadata": {},
     "output_type": "execute_result"
    }
   ],
   "source": [
    "# Load csv with mRNA_ratio, MA_act, MA_inh\n",
    "data = pd.read_csv('../data/pickle_dfs/zerod_M_MA_for_activator_inhibitor_and_mRNA_ratios_df.csv', index_col=0)\n",
    "data.head()"
   ]
  },
  {
   "attachments": {},
   "cell_type": "markdown",
   "metadata": {},
   "source": [
    "# Create Grids for Each Condition"
   ]
  },
  {
   "cell_type": "code",
   "execution_count": 55,
   "metadata": {},
   "outputs": [],
   "source": [
    "grid = pd.DataFrame(columns = ['mRNA_ratio','grid'], index = data.index)\n",
    "grid.loc[:,'mRNA_ratio'] = data.loc[:,'actual_mRNA_ratio']"
   ]
  },
  {
   "cell_type": "code",
   "execution_count": 56,
   "metadata": {},
   "outputs": [
    {
     "data": {
      "text/latex": [
       "$\\displaystyle mRNARatio = \\frac{\\left(KdRNAP cActivator + KdRNAPCrp\\right) \\left(KdRNAP + KeqOpening RNAP + RNAP\\right)}{KdRNAP KdRNAPCrp \\left(cActivator + cInhibitor + 1\\right) + KdRNAP RNAP cActivator \\left(KeqOpening + 1\\right) + KdRNAPCrp RNAP \\left(KeqOpening + 1\\right)}$"
      ],
      "text/plain": [
       "Eq(mRNARatio, (KdRNAP*cActivator + KdRNAPCrp)*(KdRNAP + KeqOpening*RNAP + RNAP)/(KdRNAP*KdRNAPCrp*(cActivator + cInhibitor + 1) + KdRNAP*RNAP*cActivator*(KeqOpening + 1) + KdRNAPCrp*RNAP*(KeqOpening + 1)))"
      ]
     },
     "execution_count": 56,
     "metadata": {},
     "output_type": "execute_result"
    }
   ],
   "source": [
    "equation = sympify('Eq(mRNARatio,((cActivator*KdRNAP + KdRNAPCrp)*(KdRNAP + RNAP + \\\n",
    "KeqOpening*RNAP))/((1 + cActivator + cInhibitor)*KdRNAP*KdRNAPCrp + \\\n",
    "cActivator*KdRNAP*(1 + KeqOpening)*RNAP + KdRNAPCrp*(1 + \\\n",
    "KeqOpening)*RNAP))')\n",
    "equation"
   ]
  },
  {
   "cell_type": "code",
   "execution_count": 57,
   "metadata": {},
   "outputs": [],
   "source": [
    "# Define constants\n",
    "constant_vals = {\n",
    "    # NOTE: MAKE SURE TO UPDATE IF ANYTHING IS CHANGED\n",
    "    'KdRNAP': 10**-5,\n",
    "    'KdRNAPCrp': 2.5118864315095796e-07*1.4,\n",
    "    'KeqOpening': 10**-0.34444956947383365,\n",
    "    'RNAP': 10**-6, \n",
    "}"
   ]
  },
  {
   "cell_type": "code",
   "execution_count": 78,
   "metadata": {},
   "outputs": [],
   "source": [
    "# Create lambda functions that we can plug in to\n",
    "lambda_df = create_lambdas(equation, constant_vals)\n",
    "\n",
    "# Parameter we are solving for using the other two\n",
    "solve = 'cInhibitor' # Solve for this by setting the other (e.g. solve = cInhibitor if cActivator is known)\n",
    "\n",
    "input_range = {\n",
    "    'cActivator': [0,10],\n",
    "    #'cInhibitor': [0,100],\n",
    "}\n",
    "\n",
    "for i, condition in enumerate(grid.index):\n",
    "    # Create a working grid based on cActivator, we will add cInhibitor values \n",
    "    # to it to ensure they always result in mRNA ratio\n",
    "    working_grid = create_parameter_grid(num_steps = 101, **input_range)\n",
    "\n",
    "    # Use a dict just in case order of tuple to sub into lambda function ever changes\n",
    "    values = {'mRNARatio': grid.loc[condition,'mRNA_ratio']}\n",
    "    for ii, pair in enumerate(working_grid):\n",
    "        values[list(input_range.keys())[0]] = pair[0] #NOTE: May break if we try to run both at same time\n",
    "        \n",
    "        # Create a tuple in the correct order to pass into the lambda function\n",
    "        values_tuple = tuple([values[p] for p in lambda_df.loc[solve,'order']])\n",
    "    \n",
    "        # Evaluate the lambda function, order is currently (cActivator, cInhibitor)\n",
    "        working_grid[ii] += ((lambda_df.loc[solve,'lambda'](values_tuple))[0],)\n",
    "    \n",
    "    # Save to grid df\n",
    "    grid.at[condition, 'grid'] = working_grid"
   ]
  },
  {
   "cell_type": "code",
   "execution_count": 79,
   "metadata": {},
   "outputs": [
    {
     "data": {
      "text/html": [
       "<div>\n",
       "<style scoped>\n",
       "    .dataframe tbody tr th:only-of-type {\n",
       "        vertical-align: middle;\n",
       "    }\n",
       "\n",
       "    .dataframe tbody tr th {\n",
       "        vertical-align: top;\n",
       "    }\n",
       "\n",
       "    .dataframe thead th {\n",
       "        text-align: right;\n",
       "    }\n",
       "</style>\n",
       "<table border=\"1\" class=\"dataframe\">\n",
       "  <thead>\n",
       "    <tr style=\"text-align: right;\">\n",
       "      <th></th>\n",
       "      <th>mRNA_ratio</th>\n",
       "      <th>grid</th>\n",
       "    </tr>\n",
       "  </thead>\n",
       "  <tbody>\n",
       "    <tr>\n",
       "      <th>control__wt_glc__1</th>\n",
       "      <td>2.186692</td>\n",
       "      <td>[(0.0, -0.6215098252031866), (0.1, 0.354773407...</td>\n",
       "    </tr>\n",
       "    <tr>\n",
       "      <th>control__wt_glc__2</th>\n",
       "      <td>2.369230</td>\n",
       "      <td>[(0.0, -0.6618609214775106), (0.1, 0.199679019...</td>\n",
       "    </tr>\n",
       "    <tr>\n",
       "      <th>fur__wt_dpd__1</th>\n",
       "      <td>0.490542</td>\n",
       "      <td>[(0.0, 1.1894055061723103), (0.1, 7.3152485865...</td>\n",
       "    </tr>\n",
       "    <tr>\n",
       "      <th>fur__wt_dpd__2</th>\n",
       "      <td>0.492320</td>\n",
       "      <td>[(0.0, 1.180971427188386), (0.1, 7.28283116958...</td>\n",
       "    </tr>\n",
       "    <tr>\n",
       "      <th>fur__wt_fe__1</th>\n",
       "      <td>1.756930</td>\n",
       "      <td>[(0.0, -0.49339972486388645), (0.1, 0.84718029...</td>\n",
       "    </tr>\n",
       "  </tbody>\n",
       "</table>\n",
       "</div>"
      ],
      "text/plain": [
       "                    mRNA_ratio  \\\n",
       "control__wt_glc__1    2.186692   \n",
       "control__wt_glc__2    2.369230   \n",
       "fur__wt_dpd__1        0.490542   \n",
       "fur__wt_dpd__2        0.492320   \n",
       "fur__wt_fe__1         1.756930   \n",
       "\n",
       "                                                                 grid  \n",
       "control__wt_glc__1  [(0.0, -0.6215098252031866), (0.1, 0.354773407...  \n",
       "control__wt_glc__2  [(0.0, -0.6618609214775106), (0.1, 0.199679019...  \n",
       "fur__wt_dpd__1      [(0.0, 1.1894055061723103), (0.1, 7.3152485865...  \n",
       "fur__wt_dpd__2      [(0.0, 1.180971427188386), (0.1, 7.28283116958...  \n",
       "fur__wt_fe__1       [(0.0, -0.49339972486388645), (0.1, 0.84718029...  "
      ]
     },
     "execution_count": 79,
     "metadata": {},
     "output_type": "execute_result"
    }
   ],
   "source": [
    "grid.head()"
   ]
  },
  {
   "attachments": {},
   "cell_type": "markdown",
   "metadata": {},
   "source": [
    "# DEAP"
   ]
  },
  {
   "cell_type": "code",
   "execution_count": 80,
   "metadata": {},
   "outputs": [
    {
     "name": "stderr",
     "output_type": "stream",
     "text": [
      "/opt/miniconda3/envs/sym-seq-ml/lib/python3.10/site-packages/deap/creator.py:138: RuntimeWarning: A class named 'fitness' has already been created and it will be overwritten. Consider deleting previous creation of that class or rename it.\n",
      "  warnings.warn(\"A class named '{0}' has already been created and it \"\n",
      "/opt/miniconda3/envs/sym-seq-ml/lib/python3.10/site-packages/deap/creator.py:138: RuntimeWarning: A class named 'individual' has already been created and it will be overwritten. Consider deleting previous creation of that class or rename it.\n",
      "  warnings.warn(\"A class named '{0}' has already been created and it \"\n"
     ]
    }
   ],
   "source": [
    "creator.create(name = 'fitness',\n",
    "               base = base.Fitness,\n",
    "               weights = (1.0, -1.0,)) # Set to maximize dot product of MA_activator and cActivator, and minimize MA_inhibitor and cInhibitor\n",
    "\n",
    "creator.create(name = 'individual',\n",
    "               base = np.ndarray,\n",
    "               fitness = creator.fitness)\n",
    "\n",
    "toolbox = base.Toolbox()"
   ]
  },
  {
   "cell_type": "code",
   "execution_count": 81,
   "metadata": {},
   "outputs": [],
   "source": [
    "random.seed(42)\n",
    "\n",
    "def generate_individual(individual_class: type, data: pd.DataFrame):\n",
    "    individual = individual_class(random.sample(grid,1)[0] for grid in grid['grid'])\n",
    "    \n",
    "    return individual"
   ]
  },
  {
   "cell_type": "code",
   "execution_count": 82,
   "metadata": {},
   "outputs": [],
   "source": [
    "toolbox.register(alias = 'individual',\n",
    "                 function = generate_individual,\n",
    "                 individual_class = creator.individual,\n",
    "                 data = grid)\n",
    "\n",
    "toolbox.register('population',\n",
    "                 tools.initRepeat,\n",
    "                 list,\n",
    "                 toolbox.individual)"
   ]
  },
  {
   "cell_type": "code",
   "execution_count": 83,
   "metadata": {},
   "outputs": [],
   "source": [
    "test_population = toolbox.population(n=3)"
   ]
  },
  {
   "cell_type": "code",
   "execution_count": 84,
   "metadata": {},
   "outputs": [
    {
     "data": {
      "text/html": [
       "<div>\n",
       "<style scoped>\n",
       "    .dataframe tbody tr th:only-of-type {\n",
       "        vertical-align: middle;\n",
       "    }\n",
       "\n",
       "    .dataframe tbody tr th {\n",
       "        vertical-align: top;\n",
       "    }\n",
       "\n",
       "    .dataframe thead th {\n",
       "        text-align: right;\n",
       "    }\n",
       "</style>\n",
       "<table border=\"1\" class=\"dataframe\">\n",
       "  <thead>\n",
       "    <tr style=\"text-align: right;\">\n",
       "      <th></th>\n",
       "      <th>MA_activator</th>\n",
       "      <th>MA_inhibitor</th>\n",
       "    </tr>\n",
       "  </thead>\n",
       "  <tbody>\n",
       "    <tr>\n",
       "      <th>control__wt_glc__1</th>\n",
       "      <td>0.019182</td>\n",
       "      <td>0.028499</td>\n",
       "    </tr>\n",
       "    <tr>\n",
       "      <th>control__wt_glc__2</th>\n",
       "      <td>-0.019182</td>\n",
       "      <td>-0.028499</td>\n",
       "    </tr>\n",
       "    <tr>\n",
       "      <th>fur__wt_dpd__1</th>\n",
       "      <td>-0.963901</td>\n",
       "      <td>-0.473642</td>\n",
       "    </tr>\n",
       "    <tr>\n",
       "      <th>fur__wt_dpd__2</th>\n",
       "      <td>-1.116929</td>\n",
       "      <td>-0.541595</td>\n",
       "    </tr>\n",
       "    <tr>\n",
       "      <th>fur__wt_fe__1</th>\n",
       "      <td>0.043720</td>\n",
       "      <td>-0.054857</td>\n",
       "    </tr>\n",
       "    <tr>\n",
       "      <th>...</th>\n",
       "      <td>...</td>\n",
       "      <td>...</td>\n",
       "    </tr>\n",
       "    <tr>\n",
       "      <th>efeU__menFentCubiC_ale36__2</th>\n",
       "      <td>-0.194079</td>\n",
       "      <td>-0.128973</td>\n",
       "    </tr>\n",
       "    <tr>\n",
       "      <th>efeU__menFentCubiC_ale37__1</th>\n",
       "      <td>-0.178657</td>\n",
       "      <td>-0.057887</td>\n",
       "    </tr>\n",
       "    <tr>\n",
       "      <th>efeU__menFentCubiC_ale37__2</th>\n",
       "      <td>-0.161924</td>\n",
       "      <td>-0.092028</td>\n",
       "    </tr>\n",
       "    <tr>\n",
       "      <th>efeU__menFentCubiC_ale38__1</th>\n",
       "      <td>0.045234</td>\n",
       "      <td>-0.313445</td>\n",
       "    </tr>\n",
       "    <tr>\n",
       "      <th>efeU__menFentCubiC_ale38__2</th>\n",
       "      <td>-0.005162</td>\n",
       "      <td>-0.456175</td>\n",
       "    </tr>\n",
       "  </tbody>\n",
       "</table>\n",
       "<p>274 rows × 2 columns</p>\n",
       "</div>"
      ],
      "text/plain": [
       "                             MA_activator  MA_inhibitor\n",
       "control__wt_glc__1               0.019182      0.028499\n",
       "control__wt_glc__2              -0.019182     -0.028499\n",
       "fur__wt_dpd__1                  -0.963901     -0.473642\n",
       "fur__wt_dpd__2                  -1.116929     -0.541595\n",
       "fur__wt_fe__1                    0.043720     -0.054857\n",
       "...                                   ...           ...\n",
       "efeU__menFentCubiC_ale36__2     -0.194079     -0.128973\n",
       "efeU__menFentCubiC_ale37__1     -0.178657     -0.057887\n",
       "efeU__menFentCubiC_ale37__2     -0.161924     -0.092028\n",
       "efeU__menFentCubiC_ale38__1      0.045234     -0.313445\n",
       "efeU__menFentCubiC_ale38__2     -0.005162     -0.456175\n",
       "\n",
       "[274 rows x 2 columns]"
      ]
     },
     "execution_count": 84,
     "metadata": {},
     "output_type": "execute_result"
    }
   ],
   "source": [
    "MA_df"
   ]
  },
  {
   "cell_type": "code",
   "execution_count": 85,
   "metadata": {},
   "outputs": [],
   "source": [
    "# Evaluate\n",
    "MA_df = data.iloc[:,0:2]\n",
    "\n",
    "def dot_objective(individual: object, MA_df: pd.DataFrame):\n",
    "    \"\"\"\n",
    "    Calculate the dot product between the normalized cAct/cInh and MA_act/MA_inh\n",
    "        vectors\n",
    "    :param object individual: DEAP individual\n",
    "    :param pd.DataFrame MA_df: Df with columns = ['MA_activator','MA_inhibitor']\n",
    "    \"\"\"\n",
    "    unit_MA_activator = MA_df.loc[:,'MA_activator']/np.linalg.norm(MA_df.loc[:,'MA_activator'])\n",
    "    unit_MA_inhibitor = MA_df.loc[:,'MA_inhibitor']/np.linalg.norm(MA_df.loc[:,'MA_inhibitor'])\n",
    "    \n",
    "    # NOTE: Need to swap 0 and 1 depending if calculating using cInhibitor or cActivator\n",
    "    # NOTE: This is hardcoded and may break depending on if we try to run the two simultaneously\n",
    "    if solve == 'cInhibitor':\n",
    "        unit_ind_activator = individual[:,0]/np.linalg.norm(individual[:,0])\n",
    "        unit_ind_inhibitor = individual[:,1]/np.linalg.norm(individual[:,1])\n",
    "    else:\n",
    "        unit_ind_activator = individual[:,1]/np.linalg.norm(individual[:,1])\n",
    "        unit_ind_inhibitor = individual[:,0]/np.linalg.norm(individual[:,0])\n",
    "    \n",
    "    activator_dot_product = np.dot(unit_MA_activator, unit_ind_activator)\n",
    "    inhibitor_dot_product = np.dot(unit_MA_inhibitor, unit_ind_inhibitor)\n",
    "    \n",
    "    return activator_dot_product, inhibitor_dot_product,\n",
    "\n",
    "toolbox.register(alias = 'evaluate', function = dot_objective, MA_df = MA_df)"
   ]
  },
  {
   "cell_type": "code",
   "execution_count": 86,
   "metadata": {},
   "outputs": [],
   "source": [
    "# Evaluate\n",
    "MA_df = data.iloc[:,0:2]\n",
    "\n",
    "def spearman_objective(individual: object, MA_df: pd.DataFrame):\n",
    "    \"\"\"\n",
    "    Calculate spearman coefficient between cAct/cInh and MA_act/MA_inh\n",
    "    :param object individual: DEAP individual\n",
    "    :param pd.DataFrame MA_df: Df with columns = ['MA_activator','MA_inhibitor']\n",
    "    \"\"\"\n",
    "\n",
    "    MA_activator = MA_df.loc[:,'MA_activator']\n",
    "    MA_inhibitor = MA_df.loc[:,'MA_inhibitor']\n",
    "    \n",
    "    # NOTE: Need to swap 0 and 1 depending if calculating using cInhibitor or cActivator\n",
    "    # NOTE: This is hardcoded and may break depending on if we try to run the two simultaneously\n",
    "    if solve == 'cInhibitor':\n",
    "        ind_activator = individual[:,0]\n",
    "        ind_inhibitor = individual[:,1]\n",
    "    else:\n",
    "        ind_activator = individual[:,1]\n",
    "        ind_inhibitor = individual[:,0]\n",
    "    \n",
    "    activator_spearman = spearmanr(MA_activator, ind_activator)[0]\n",
    "    inhibitor_spearman = spearmanr(MA_inhibitor, ind_inhibitor)[0]\n",
    "    \n",
    "    return activator_spearman, inhibitor_spearman,\n",
    "\n",
    "toolbox.register(alias = 'evaluate', function = spearman_objective, MA_df = MA_df)"
   ]
  },
  {
   "cell_type": "code",
   "execution_count": 87,
   "metadata": {},
   "outputs": [
    {
     "data": {
      "text/plain": [
       "(0.04163016706958983, -0.6884556869279006)"
      ]
     },
     "execution_count": 87,
     "metadata": {},
     "output_type": "execute_result"
    }
   ],
   "source": [
    "toolbox.evaluate(test_population[0])"
   ]
  },
  {
   "cell_type": "code",
   "execution_count": 88,
   "metadata": {},
   "outputs": [],
   "source": [
    "# NOTE: Not sure what appropriate tournament size should be\n",
    "toolbox.register(\"select\", tools.selTournament, tournsize=5)"
   ]
  },
  {
   "cell_type": "code",
   "execution_count": 89,
   "metadata": {},
   "outputs": [],
   "source": [
    "# Mutation\n",
    "def mutate(individual: object, prob: float, data: pd.DataFrame):\n",
    "    for i, _ in enumerate(individual):\n",
    "        if random.random() < prob:\n",
    "            individual[i] = random.sample(grid.iloc[i,1],1)[0]\n",
    "\n",
    "    return individual,\n",
    "\n",
    "mt_prob = 0.1  #NOTE: CHANGE ME\n",
    "toolbox.register('mutate', function = mutate, prob = mt_prob, data = data)"
   ]
  },
  {
   "cell_type": "code",
   "execution_count": 90,
   "metadata": {},
   "outputs": [],
   "source": [
    "# Crossover\n",
    "def crossover(ind_one: object, ind_two: object, prob: float,):\n",
    "\n",
    "    for i, _ in enumerate(ind_one):\n",
    "        if random.random() < prob:\n",
    "            ind_one[i], ind_two[i] = ind_two[i].copy(), ind_one[i].copy()\n",
    "\n",
    "    return ind_one, ind_two\n",
    "\n",
    "cx_prob = 0.1 # NOTE: CHANGE ME\n",
    "\n",
    "toolbox.register(alias = \"mate\", function = crossover, prob = cx_prob,)"
   ]
  },
  {
   "cell_type": "code",
   "execution_count": 91,
   "metadata": {},
   "outputs": [],
   "source": [
    "stats = tools.Statistics(lambda ind: ind.fitness.values)\n",
    "stats.register(\"avg\", np.mean)\n",
    "stats.register(\"std\", np.std)\n",
    "stats.register(\"min\", np.min)\n",
    "stats.register(\"max\", np.max)"
   ]
  },
  {
   "cell_type": "code",
   "execution_count": 92,
   "metadata": {},
   "outputs": [],
   "source": [
    "# NOTE: Using np.ndarray individuals requires a different method to compare individuals\n",
    "hof = tools.HallOfFame(3, similar=np.array_equal)\n",
    "\n",
    "nind = 100\n",
    "mu = 50\n",
    "lambda_ = 50\n",
    "cxpb = 0.4\n",
    "mutpb = 0.2\n",
    "ngen = 10000\n",
    "\n",
    "pop, logbook = algorithms.eaMuCommaLambda(toolbox.population(n=nind), toolbox, mu=mu, lambda_=lambda_, \n",
    "            cxpb=cxpb, mutpb=mutpb, ngen=ngen, stats=stats, halloffame=hof, verbose=False)"
   ]
  },
  {
   "cell_type": "code",
   "execution_count": null,
   "metadata": {},
   "outputs": [
    {
     "data": {
      "text/plain": [
       "(0.8278798945100045, -0.604860717344205)"
      ]
     },
     "execution_count": 76,
     "metadata": {},
     "output_type": "execute_result"
    }
   ],
   "source": [
    "toolbox.evaluate(hof[0])"
   ]
  },
  {
   "cell_type": "code",
   "execution_count": null,
   "metadata": {},
   "outputs": [
    {
     "data": {
      "image/png": "[encoded data removed]",
      "text/plain": [
       "<Figure size 1100x500 with 2 Axes>"
      ]
     },
     "metadata": {},
     "output_type": "display_data"
    }
   ],
   "source": [
    "fig, (ax1, ax2) = plt.subplots(1, 2, figsize = (11,5), squeeze= True)\n",
    "title = 'ngen='+str(ngen)+', pop='+str(nind)+', μ='+str(mu)+', λ='+str(lambda_)+', cxpb='+str(cxpb)+', mutpb='+str(mutpb)+', mt_prob='+str(mt_prob)+', cx_prob='+str(cx_prob)\n",
    "fig.suptitle(title)\n",
    "ax1.set_xlabel('MA_activator')\n",
    "ax2.set_xlabel('MA_inhibitor')\n",
    "ax1.set_ylabel('cActivator')\n",
    "ax2.set_ylabel('cInhibitor')\n",
    "\n",
    "if solve == 'cInhibitor':\n",
    "    # If cActivator is used to calculate cInhibitor\n",
    "    ax1.scatter(MA_df.iloc[:,0], hof[0][:,0])\n",
    "    ax2.scatter(MA_df.iloc[:,1], hof[0][:,1])\n",
    "else: \n",
    "    # If cInhibitor is used to calculate cActivator\n",
    "    ax1.scatter(MA_df.iloc[:,0], hof[0][:,1])\n",
    "    ax2.scatter(MA_df.iloc[:,1], hof[0][:,0])\n"
   ]
  },
  {
   "cell_type": "code",
   "execution_count": null,
   "metadata": {},
   "outputs": [],
   "source": []
  }
 ],
 "metadata": {
  "kernelspec": {
   "display_name": "sym-seq-ml",
   "language": "python",
   "name": "python3"
  },
  "language_info": {
   "codemirror_mode": {
    "name": "ipython",
    "version": 3
   },
   "file_extension": ".py",
   "mimetype": "text/x-python",
   "name": "python",
   "nbconvert_exporter": "python",
   "pygments_lexer": "ipython3",
   "version": "3.10.6"
  },
  "orig_nbformat": 4
 },
 "nbformat": 4,
 "nbformat_minor": 2
}
