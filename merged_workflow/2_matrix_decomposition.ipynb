{
 "cells": [
  {
   "cell_type": "raw",
   "id": "9cdaeefc",
   "metadata": {},
   "source": [
    "# the goal is to seperate our matrices of cActivator and cInhibitor valeus into two matrices, TF_concentrations and TF_kDs"
   ]
  },
  {
   "cell_type": "code",
   "execution_count": 1,
   "id": "9872dfd7",
   "metadata": {},
   "outputs": [],
   "source": [
    "# imports and loading\n",
    "import pandas as pd\n",
    "import numpy as np\n",
    "from scipy.optimize import minimize\n",
    "\n",
    "saved_cActivators = pd.read_pickle('../data/saved_cActivator_vals.pkl')\n",
    "saved_cInhibitors = pd.read_pickle('../data/saved_cInhibitor_vals.pkl')"
   ]
  },
  {
   "cell_type": "markdown",
   "id": "0a8177bc",
   "metadata": {},
   "source": [
    "# depreceated"
   ]
  },
  {
   "cell_type": "code",
   "execution_count": null,
   "id": "d86f2862",
   "metadata": {
    "code_folding": []
   },
   "outputs": [],
   "source": [
    "# we want element-wise comparison\n",
    "\n",
    "# settings\n",
    "variance_penalty_mult = 1\n",
    "\n",
    "# Define the objective function that we want to minimize. \n",
    "# In this case, it's the Frobenius norm of (A*B - C).\n",
    "def objective(x, nrows_A, ncols_A, nrows_B, ncols_B, C):\n",
    "    # Reshape the input to the correct dimensions\n",
    "    A = x[:nrows_A*ncols_A].reshape(nrows_A, ncols_A)\n",
    "    B = x[nrows_A*ncols_A:].reshape(nrows_B, ncols_B)\n",
    "    \n",
    "    err = np.linalg.norm(A * B - C)\n",
    "    \n",
    "    # calculate penalty\n",
    "    penalty = 0\n",
    "    # add variance of every row of A and column of B\n",
    "    for col_ct in range(ncols_A):\n",
    "        penalty += np.var(A[:, col_ct])\n",
    "    for row_ct in range(nrows_B):\n",
    "        penalty += np.var(B[row_ct, :])\n",
    "\n",
    "    return(err + variance_penalty_mult*penalty)\n",
    "\n",
    "# Callback function to print the current error\n",
    "def print_error(x):\n",
    "    current_error = objective(x, nrows, ncols, C)\n",
    "    print(\"Current error:\", current_error)\n",
    "    \n",
    "# Initialize the dimensions of A and B.\n",
    "nrows_A, ncols_A = np.shape(saved_cActivators)  # Dimensions for A\n",
    "nrows_B, ncols_B = np.shape(saved_cActivators)  # Dimensions for B\n",
    "C = saved_cActivators\n",
    "\n",
    "\n",
    "# Define the constraints on A and B. In this case, we're assuming that all values must be non-negative.\n",
    "bounds = [(0, None) for _ in range(nrows_A * ncols_A + nrows_B * ncols_B)]\n",
    "\n",
    "# Initialize A and B randomly\n",
    "A_init = np.random.rand(nrows_A, ncols_A)\n",
    "B_init = np.random.rand(nrows_B, ncols_B)\n",
    "\n",
    "# Flatten A and B to turn them into 1D arrays, then concatenate them to get our initial guess\n",
    "x0 = np.concatenate([A_init.flatten(), B_init.flatten()])\n",
    "\n",
    "# Run the optimization\n",
    "res = minimize(objective, x0, args=(nrows_A, ncols_A, nrows_B, ncols_B, C), bounds=bounds, callback=print_error)\n",
    "\n",
    "# Extract the optimized A and B\n",
    "A_opt = res.x[:nrows_A*ncols_A].reshape(nrows_A, ncols_A)\n",
    "B_opt = res.x[nrows_A*ncols_A:].reshape(nrows_B, ncols_B)\n",
    "\n",
    "print('success!')\n"
   ]
  },
  {
   "cell_type": "code",
   "execution_count": null,
   "id": "76ac4188",
   "metadata": {},
   "outputs": [],
   "source": []
  }
 ],
 "metadata": {
  "kernelspec": {
   "display_name": "Python 3 (ipykernel)",
   "language": "python",
   "name": "python3"
  },
  "language_info": {
   "codemirror_mode": {
    "name": "ipython",
    "version": 3
   },
   "file_extension": ".py",
   "mimetype": "text/x-python",
   "name": "python",
   "nbconvert_exporter": "python",
   "pygments_lexer": "ipython3",
   "version": "3.10.10"
  },
  "toc": {
   "base_numbering": 1,
   "nav_menu": {},
   "number_sections": true,
   "sideBar": true,
   "skip_h1_title": false,
   "title_cell": "Table of Contents",
   "title_sidebar": "Contents",
   "toc_cell": false,
   "toc_position": {},
   "toc_section_display": true,
   "toc_window_display": false
  }
 },
 "nbformat": 4,
 "nbformat_minor": 5
}
