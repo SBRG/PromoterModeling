{
 "cells": [
  {
   "cell_type": "markdown",
   "id": "be9229e1",
   "metadata": {},
   "source": [
    "# Setup"
   ]
  },
  {
   "cell_type": "code",
   "execution_count": 1,
   "id": "a069d3eb",
   "metadata": {
    "code_folding": [
     0
    ],
    "scrolled": true
   },
   "outputs": [],
   "source": [
    "# import statements\n",
    "import subprocess\n",
    "import os\n",
    "import pandas as pd\n",
    "import sys\n",
    "sys.path.insert(0, '../functions/')\n",
    "import mRNA_ratios\n",
    "import parameter_optimization as po\n",
    "import matplotlib.cm as cm\n",
    "from matplotlib.patches import Patch\n",
    "\n",
    "# Griff's stuff\n",
    "import numpy as np\n",
    "import dill as pickle\n",
    "import matplotlib.pyplot as plt\n",
    "\n",
    "import promoter_solving_core as ps\n",
    "import GA_core as ga\n",
    "\n",
    "from deap import algorithms, base, creator, tools\n",
    "from sympy import *"
   ]
  },
  {
   "cell_type": "code",
   "execution_count": 2,
   "id": "3f15f941",
   "metadata": {
    "code_folding": []
   },
   "outputs": [],
   "source": [
    "# settings\n",
    "flags = { # add additional settings that should be changed between runs here\n",
    "    # general flags\n",
    "    'force_rerun' : False,\n",
    "    'central_gene' : 'b1819',\n",
    "    'basal_conditions' : ['control__wt_glc__1', 'control__wt_glc__2'],\n",
    "    'grid_use' : -1, # which of the generated constants grids do you want to use? -1 is the highest KdRNAP\n",
    "    \n",
    "    # basal model flags\n",
    "    'basal_bool': False, # If true, use imported values for basal expression\n",
    "\n",
    "    # mRNA ratios flags\n",
    "    'basal_or_hard_val' : 'basal', # use basal conditions for ratio or some hard value\n",
    "    'hard_val' : 10, # the basal log tpm value\n",
    "    'use_zerod_A_matrix' : True, # recalculate the ICA matrices based on zeroing out gene values in iModulons not of interest\n",
    "\n",
    "    # cAct & cInh Grid flags\n",
    "    'cActivator' : [0,2], # Uses a log10 range\n",
    "    'cInhibitor': [-1,4], # Uses a log10 range\n",
    "    \n",
    "    # GA - best cActivator/cInhibitor flags\n",
    "    'neg_grid_toss_OR_zero' : 'zero', # options: toss or zero, what to do with negative grid values\n",
    "    'seed' : 42,\n",
    "    'n_ind' : 100, # Starting population size\n",
    "    'mu' : 100, # Number of individuals to select for the next generation\n",
    "    'lambda_' : 100, # Number of offspring to produce\n",
    "    'cxpb' : 0.6, # Chance of crossover\n",
    "    'cx_prob' : 0.6, # Chance that a condition is crossed\n",
    "    'mutpb' : 0.4, # Chance an individual undergoes mutation\n",
    "    'mt_prob' : 0.1, # Chance that a condition in individual is mutated\n",
    "    'n_gen' : 1000, # Number of generations\n",
    "    'verbose' : False, # Show the logbook as GA runs\n",
    "    # NOTE: To modify the selection algorithm, modify the toolbox in the GA section of the notebook\n",
    "    \n",
    "    # greedy\n",
    "    'n_iter' : 1, # Number of greedy individuals to produce, takes ~1 min for each\n",
    "    'max_steps' : 30, # Maximum number of steps before moving on to next condition\n",
    "    'n_rounds' : 100, # Number of loops of the shuffled conditions with the max steps for each greedy individual\n",
    "\n",
    "    # GAMs\n",
    "    'run_on_all' : False, # run on all genes that are in the saved output folder\n",
    "    'limit_samples' : ['b1101', 'b1817', 'b1818'] # if run_on_all is False, limit to these samples (or which of them are available)\n",
    "}\n",
    "\n",
    "\n",
    "gene_to_act_inh_iMs = {\n",
    "    'b1101' : ['Crp-2', 'DhaR/Mlc'],\n",
    "    'b1817' : ['Crp-2', 'DhaR/Mlc'],\n",
    "    'b1818' : ['Crp-2', 'DhaR/Mlc'],\n",
    "    'b1819' : ['Crp-2', 'DhaR/Mlc'],\n",
    "    'b2151' : ['Crp-1', 'Crp-2'],\n",
    "    'b3601' : ['Crp-1', 'Crp-2'],\n",
    "    'b2239' : ['Crp-2', 'GlpR'],\n",
    "    'b2240' : ['Crp-2', 'GlpR'],\n",
    "    'b0723' : ['Crp-2', 'ArcA-1'],\n",
    "    'b1415' : ['Crp-2', 'Crp-1'],\n",
    "    'b2597' : ['Crp-2', 'CpxR'],\n",
    "    'b3403' : ['Crp-2', 'crp-KO'],\n",
    "    'b4267' : ['Crp-2', 'GntR/TyrR'],\n",
    "    'b2143' : ['Crp-2', 'YieP'],\n",
    "}\n",
    "\n",
    "# Grid constants, use these if basal_bool = False\n",
    "# NOTE: The names of these variables must match the sympy equation\n",
    "t_half_life_deg = 300\n",
    "grid_constants = {\n",
    "    'KdRNAP': 10**-5,\n",
    "    'KdRNAPCrp': 2.5118864315095796e-07*1.4,\n",
    "    #'KeqOpening': 10**-0.34444956947383365, gets set later\n",
    "    'RNAP': 10**-6,\n",
    "    'mRNA_total': 1800, # Total mRNA/cell from https://www.ncbi.nlm.nih.gov/pmc/articles/PMC3554401\n",
    "    'cell_volume': 10**-15, # Liters from https://bionumbers.hms.harvard.edu/bionumber.aspx?id=100004&ver=19\n",
    "    'k_d_TF': 1, # May change depending on model\n",
    "    'kDeg': np.log(2)/t_half_life_deg, # Rate of degradation\n",
    "    'promoterConcVal': 10**-9, # Promoter concentration\n",
    "    'TF': 0, # Concentration of TF\n",
    "    'u': 1/3600, # Growth Rate\n",
    "}\n",
    "\n",
    "# Set reproducible random seed used by the GA\n",
    "rng = np.random.default_rng(seed = flags['seed'])"
   ]
  },
  {
   "cell_type": "markdown",
   "id": "36167916",
   "metadata": {},
   "source": [
    "# basal model calculations"
   ]
  },
  {
   "cell_type": "code",
   "execution_count": 3,
   "id": "0648a3d6",
   "metadata": {
    "code_folding": []
   },
   "outputs": [],
   "source": [
    "# NOTE: This code is meant to be a placeholder since it only outputs the grid for each gene\n",
    "# In the future, when we move towards a promoter based model, this code will need to be replaced with promoter specific calculations\n",
    "\n",
    "# Define constants\n",
    "log_test = {\n",
    "    'KdRNAP': [-7,-5],\n",
    "    'kEscape': [-3,1],\n",
    "}\n",
    "\n",
    "# Parameter Equation\n",
    "parameter_equation = sympify('Eq((KeqOpening*kEscape*promoterConcVal)/((KdRNAP/RNAP+1+KeqOpening+KdRNAP/RNAP*TF/k_d_TF)*(u+kDeg)),mRNA)')\n",
    "\n",
    "# Load in the precise data for gene expression\n",
    "# NOTE: In the basal model I'm building, I am using the Precise1k data, but in this cell I will try to use the Precise1.0\n",
    "precise_path = '../data/precise_1.0/log_tpm.csv'\n",
    "precise_data = pd.read_csv(filepath_or_buffer = precise_path, index_col = 'Unnamed: 0')\n",
    "\n",
    "gene_exp = [2**precise_data.loc[flags['central_gene'], flags['basal_conditions']].mean(axis = 0)]\n",
    "\n",
    "# Only using num_steps = 3 to make it easier to manually iterate through the values, feel free to increase it if you'd like\n",
    "lambda_df, k_df = ps.create_grid(gene_exp = gene_exp, gene_name = [flags['central_gene']], equation = parameter_equation, constants = grid_constants, num_steps = 3, **log_test)\n",
    "grid_vals = k_df.iloc[0, 1][-1]\n",
    "grid_constants['KdRNAP'] = 10**(grid_vals[0])\n",
    "grid_constants['kEscape'] = 10**(grid_vals[1])\n",
    "grid_constants['KeqOpening'] = 10**(grid_vals[2])\n",
    "\n",
    "if os.path.exists('../data/gene_to_grid_constants.pkl'):\n",
    "    pickle_in = open('../data/gene_to_grid_constants.pkl', 'rb')\n",
    "    gene_to_grid_constants = pickle.load(pickle_in)\n",
    "    pickle_in.close()\n",
    "else:\n",
    "    gene_to_grid_constants = {}\n",
    "gene_to_grid_constants.update({flags['central_gene'] : grid_constants})\n",
    "pickle_out = open('../data/gene_to_grid_constants.pkl', 'wb')\n",
    "pickle.dump(gene_to_grid_constants, pickle_out)\n",
    "pickle_out.close()"
   ]
  },
  {
   "cell_type": "markdown",
   "id": "f94775ae",
   "metadata": {},
   "source": [
    "# create mRNA ratios and MA values"
   ]
  },
  {
   "cell_type": "code",
   "execution_count": 4,
   "id": "73942b7c",
   "metadata": {
    "code_folding": []
   },
   "outputs": [
    {
     "data": {
      "image/png": "[encoded data removed]",
      "text/plain": [
       "<Figure size 1000x300 with 4 Axes>"
      ]
     },
     "metadata": {},
     "output_type": "display_data"
    }
   ],
   "source": [
    "# reads / creates the ratio dataframe\n",
    "df_name = flags['central_gene']+'_zerod'+str(flags['use_zerod_A_matrix'])+'_mRNA_ratios_and_MA_vals.csv'\n",
    "if not flags['force_rerun'] and os.path.exists('../data/saved_mRNA_ratios_MA_vals/'+df_name):\n",
    "    ratios_df = pd.read_csv('../data/saved_mRNA_ratios_MA_vals/'+df_name, index_col = 0)\n",
    "else:\n",
    "    ratios_df = mRNA_ratios.calculate_mRNA_ratios_and_MA_values(gene_to_act_inh_iMs[flags['central_gene']][0], gene_to_act_inh_iMs[flags['central_gene']][1], flags)\n",
    "    ratios_df.to_csv('../data/saved_mRNA_ratios_MA_vals/'+df_name)\n",
    "\n",
    "\n",
    "# save TF concentration (not sure this is right, but it appears to be close given I don't have raw counts)\n",
    "log_tpm_df = pd.read_csv('../data/precise_1.0/log_tpm.csv', index_col = 0)\n",
    "scaled_df = 2**log_tpm_df / (2**log_tpm_df).sum()\n",
    "\n",
    "# save of TF concentrations of baseline values\n",
    "# for now, it's just always crp\n",
    "# goofy, scaling to same range/units as are used in GAMs\n",
    "scaled_df.loc['b3357'].to_csv('../data/save_for_GAMs/exported_TF_conc.csv')\n",
    "\n",
    "# sanity check plot\n",
    "fig, axs = plt.subplots(1, 3, figsize = (10, 3))\n",
    "axs[0].hist(ratios_df.actual_mRNA_ratio)\n",
    "axs[0].set_title('mRNA ratio')\n",
    "axs[0].axvline(x = 1, c = 'k', ls = '--')\n",
    "axs[1].hist(ratios_df.MA_activator)\n",
    "axs[1].set_title('MA activator')\n",
    "axs[1].axvline(x = 0, c = 'k', ls = '--')\n",
    "axs[2].hist(ratios_df.MA_inhibitor)\n",
    "axs[2].set_title('MA_inhibitor')\n",
    "axs[2].axvline(x = 0, c = 'k', ls = '--')\n",
    "# add a big axes, hide frame\n",
    "fig.add_subplot(111, frameon=False)\n",
    "plt.tick_params(labelcolor='none', top=False, bottom=False, left=False, right=False)\n",
    "plt.grid(False)\n",
    "plt.ylabel('Count')\n",
    "plt.show()"
   ]
  },
  {
   "cell_type": "markdown",
   "id": "74e5da71",
   "metadata": {},
   "source": [
    "# pick KdRNAPCrp value"
   ]
  },
  {
   "cell_type": "code",
   "execution_count": 5,
   "id": "21249a23",
   "metadata": {},
   "outputs": [],
   "source": [
    "# currently, this is picked based on assumming cInhibitor = 0 and performing the following:\n",
    "# 1 a- Limit KdRNAPCrp to be less than KdRNAP\n",
    "# 2 - Adjust KdRNAPCrp lower until there is no longer an inflection point within the mRNA ratio range of the said gene\n",
    "# 3 - Adjust KdRNAPCrp to a value that maximizes the linearity and the magnitude of the range\n",
    "#         a - Basically if just do magnitude it creates an exponentail curve that really only activates at extreme values, the linearity forces this to have more of a dynamic range\n",
    "\n",
    "grid_constants['KdRNAPCrp'] = po.pick_KdRNAPCrp(ratios_df, grid_constants)"
   ]
  },
  {
   "cell_type": "code",
   "execution_count": 6,
   "id": "a1548df1",
   "metadata": {
    "code_folding": [
     0
    ]
   },
   "outputs": [
    {
     "data": {
      "image/png": "[encoded data removed]",
      "text/plain": [
       "<Figure size 500x300 with 2 Axes>"
      ]
     },
     "metadata": {},
     "output_type": "display_data"
    }
   ],
   "source": [
    "# sanity check plot\n",
    "\n",
    "# if you get weird results here, look at egulonML/parameter_optimization/0_framework.ipynb\n",
    "# it does the same thing as the function with plots along the way\n",
    "# try adjusting the initial guess for the first optimization\n",
    "# that is line 74 of functions/parameter_optimization.py\n",
    "\n",
    "# note - This isn't perfect, as it assumes a non-true condition (the other equals zero)\n",
    "# however, it is a sanity check to see if these values are near-correct\n",
    "rat_vals = np.linspace(min(ratios_df['actual_mRNA_ratio'].values.flatten()), max(ratios_df['actual_mRNA_ratio'].values.flatten()), 1000)\n",
    "vals1 = po.mRNA_to_cActivator(rat_vals, KeqOpening = grid_constants['KeqOpening'],\n",
    "                             KdRNAP = grid_constants['KdRNAP'], RNAP = grid_constants['RNAP'],\n",
    "                             KdRNAPCrp = grid_constants['KdRNAPCrp'])\n",
    "vals2 = po.mRNA_to_cInhibitor(rat_vals, KeqOpening = grid_constants['KeqOpening'],\n",
    "                             KdRNAP = grid_constants['KdRNAP'], RNAP = grid_constants['RNAP'])\n",
    "\n",
    "fig, ax1 = plt.subplots(figsize = (5, 3))\n",
    "l1, = ax1.plot(rat_vals, vals2)\n",
    "plt.xlabel('mRNA Ratio')\n",
    "ax1.set_ylabel('cInhibitor', color = 'blue')\n",
    "ax1.tick_params(axis = 'y', labelcolor = 'blue')\n",
    "ax2 = ax1.twinx()\n",
    "l2, = ax2.plot(rat_vals, vals1, color = 'red')\n",
    "ax2.set_ylabel('cActivator', color = 'red')\n",
    "ax2.tick_params(axis = 'y', labelcolor = 'red')\n",
    "ax1.axhline(y = 0, ls = '--', c = 'k')\n",
    "ax1.axvline(x = 1, ls = '--', c = 'k')\n",
    "# ZZZ FIX THIS let's rescale cInhibitor (ax1) so that 0 is at the same point\n",
    "m1, M1 = ax1.get_ylim()\n",
    "percent1_up = (0 - m1) / (M1 - m1)\n",
    "m2, M2 = ax2.get_ylim()\n",
    "percent2_up = (0 - m2) / (M2 - m2)\n",
    "\n",
    "if percent1_up < percent2_up:\n",
    "    # zero is higher than it should, so adjust it down by lowering the min\n",
    "    m1 = percent2_up * M1 / (percent2_up - 1)\n",
    "    ax1.set_ylim(m1, M1)\n",
    "else:\n",
    "    # zero is lower than it should, so adjust it up\n",
    "    M1 = m1 - (m1 / percent2_up)\n",
    "    ax1.set_ylim(m1, M1)\n",
    "\n",
    "plt.title('cAct and cInh ranges assuming other = 0')\n",
    "plt.show()"
   ]
  },
  {
   "cell_type": "markdown",
   "id": "70c01212",
   "metadata": {},
   "source": [
    "# Determine the Best cActivator and cInhibitor Values"
   ]
  },
  {
   "cell_type": "markdown",
   "id": "c061d2e5",
   "metadata": {},
   "source": [
    "## Create the Combined cAct and cInh Grid"
   ]
  },
  {
   "cell_type": "markdown",
   "id": "af3931e3",
   "metadata": {},
   "source": [
    "### Create the Grid"
   ]
  },
  {
   "cell_type": "code",
   "execution_count": 7,
   "id": "de8bb59b",
   "metadata": {},
   "outputs": [
    {
     "data": {
      "text/latex": [
       "$\\displaystyle mRNARatio = \\frac{\\left(KdRNAP cActivator + KdRNAPCrp\\right) \\left(KdRNAP + KeqOpening RNAP + RNAP\\right)}{KdRNAP KdRNAPCrp \\left(cActivator + cInhibitor + 1\\right) + KdRNAP RNAP cActivator \\left(KeqOpening + 1\\right) + KdRNAPCrp RNAP \\left(KeqOpening + 1\\right)}$"
      ],
      "text/plain": [
       "Eq(mRNARatio, (KdRNAP*cActivator + KdRNAPCrp)*(KdRNAP + KeqOpening*RNAP + RNAP)/(KdRNAP*KdRNAPCrp*(cActivator + cInhibitor + 1) + KdRNAP*RNAP*cActivator*(KeqOpening + 1) + KdRNAPCrp*RNAP*(KeqOpening + 1)))"
      ]
     },
     "execution_count": 7,
     "metadata": {},
     "output_type": "execute_result"
    }
   ],
   "source": [
    "# DataFrame to hold the Grid\n",
    "grid = pd.DataFrame(columns = ['mRNA_ratio','grid'], index = ratios_df.index)\n",
    "grid.loc[:,'mRNA_ratio'] = ratios_df.loc[:,'actual_mRNA_ratio']\n",
    "\n",
    "# Load the equation\n",
    "# NOTE: This equation was generated using Mathematica and Dan's Mathematica to Python converter function\n",
    "equation = sympify('Eq(mRNARatio,((cActivator*KdRNAP + KdRNAPCrp)*(KdRNAP + RNAP + \\\n",
    "KeqOpening*RNAP))/((1 + cActivator + cInhibitor)*KdRNAP*KdRNAPCrp + \\\n",
    "cActivator*KdRNAP*(1 + KeqOpening)*RNAP + KdRNAPCrp*(1 + \\\n",
    "KeqOpening)*RNAP))')\n",
    "equation"
   ]
  },
  {
   "cell_type": "code",
   "execution_count": 8,
   "id": "2bb77f97",
   "metadata": {},
   "outputs": [],
   "source": [
    "# Create lambda functions that we can plug in to\n",
    "lambda_df = ps.create_lambdas(equation, grid_constants)\n",
    "\n",
    "cAct_range = {'cActivator': flags['cActivator']} # Use a log10 range\n",
    "cInh_range = {'cInhibitor': flags['cInhibitor']} # Use a log10 range and convert back after creating grid\n",
    "\n",
    "for i, condition in enumerate(grid.index):\n",
    "    # Create a working grid based on cActivator, we will add cInhibitor values \n",
    "    # to it to ensure they always result in mRNA ratio\n",
    "    cAct_grid = ps.create_parameter_grid(num_steps = 101, **cAct_range)\n",
    "    cAct_grid = [[10**x[0]] for x in cAct_grid]\n",
    "    cInh_grid = ps.create_parameter_grid(num_steps = 101, **cInh_range)\n",
    "    cInh_grid = [[10**x[0]] for x in cInh_grid]\n",
    "\n",
    "    # Use a dict just in case order of tuple to sub into lambda function ever changes\n",
    "    values = {'mRNARatio': grid.loc[condition,'mRNA_ratio']}\n",
    "    for ii, pair in enumerate(cAct_grid):\n",
    "        values['cActivator'] = pair[0] # Add cAct to values dict\n",
    "        \n",
    "        # Create a tuple in the correct order to pass into the lambda function\n",
    "        values_tuple = tuple([values[p] for p in lambda_df.loc['cInhibitor','order']])\n",
    "    \n",
    "        # Evaluate the lambda function\n",
    "        cAct_grid[ii] = (cAct_grid[ii][0], (lambda_df.loc['cInhibitor','lambda'](values_tuple))[0])\n",
    "\n",
    "    values = {'mRNARatio': grid.loc[condition,'mRNA_ratio']}\n",
    "    for ii, pair in enumerate(cInh_grid):\n",
    "        values['cInhibitor'] = pair[0] # Add cInh to values dict\n",
    "        \n",
    "        # Create a tuple in the correct order to pass into the lambda function\n",
    "        values_tuple = tuple([values[p] for p in lambda_df.loc['cActivator','order']])\n",
    "    \n",
    "        # Evaluate the lambda function\n",
    "        cInh_grid[ii] = ((lambda_df.loc['cActivator','lambda'](values_tuple))[0], cInh_grid[ii][0]) # Need to reverse the tuples to maintain (cAct, cInh) order when combining the two grids\n",
    "\n",
    "    working_grid = sorted(cAct_grid + cInh_grid)\n",
    "    \n",
    "    # Remove negative elements from working_grid\n",
    "    if flags['neg_grid_toss_OR_zero'] == 'toss':\n",
    "        working_grid = [(cAct, cInh) for (cAct, cInh) in working_grid if cAct >= 0 and cInh >= 0]\n",
    "    elif flags['neg_grid_toss_OR_zero'] == 'zero':\n",
    "        new = []\n",
    "        for cAct, cInh in working_grid:\n",
    "            if cAct >= 0 and cInh >= 0:\n",
    "                new.append((cAct, cInh))\n",
    "            elif cAct < 0 and cInh < 0:\n",
    "                new.append((0, 0))\n",
    "            elif cAct < 0:\n",
    "                new.append((0, cInh))\n",
    "            else: # this is cInh is negative and cAct isn't\n",
    "                new.append((cAct, 0))\n",
    "        working_grid = new\n",
    "\n",
    "    # Save to grid df\n",
    "    grid.at[condition, 'grid'] = working_grid"
   ]
  },
  {
   "cell_type": "code",
   "execution_count": 9,
   "id": "ecaceb09",
   "metadata": {},
   "outputs": [
    {
     "data": {
      "text/html": [
       "<div>\n",
       "<style scoped>\n",
       "    .dataframe tbody tr th:only-of-type {\n",
       "        vertical-align: middle;\n",
       "    }\n",
       "\n",
       "    .dataframe tbody tr th {\n",
       "        vertical-align: top;\n",
       "    }\n",
       "\n",
       "    .dataframe thead th {\n",
       "        text-align: right;\n",
       "    }\n",
       "</style>\n",
       "<table border=\"1\" class=\"dataframe\">\n",
       "  <thead>\n",
       "    <tr style=\"text-align: right;\">\n",
       "      <th></th>\n",
       "      <th>mRNA_ratio</th>\n",
       "      <th>grid</th>\n",
       "    </tr>\n",
       "  </thead>\n",
       "  <tbody>\n",
       "    <tr>\n",
       "      <th>control__wt_glc__1</th>\n",
       "      <td>0.761506</td>\n",
       "      <td>[(0, 0.1), (0, 0.11220184543019636), (0, 0.125...</td>\n",
       "    </tr>\n",
       "    <tr>\n",
       "      <th>control__wt_glc__2</th>\n",
       "      <td>0.760611</td>\n",
       "      <td>[(0, 0.1), (0, 0.11220184543019636), (0, 0.125...</td>\n",
       "    </tr>\n",
       "    <tr>\n",
       "      <th>fur__wt_dpd__1</th>\n",
       "      <td>0.24403</td>\n",
       "      <td>[(0, 0.1), (0, 0.11220184543019636), (0, 0.125...</td>\n",
       "    </tr>\n",
       "    <tr>\n",
       "      <th>fur__wt_dpd__2</th>\n",
       "      <td>0.27251</td>\n",
       "      <td>[(0, 0.1), (0, 0.11220184543019636), (0, 0.125...</td>\n",
       "    </tr>\n",
       "    <tr>\n",
       "      <th>fur__wt_fe__1</th>\n",
       "      <td>0.687311</td>\n",
       "      <td>[(0, 0.1), (0, 0.11220184543019636), (0, 0.125...</td>\n",
       "    </tr>\n",
       "  </tbody>\n",
       "</table>\n",
       "</div>"
      ],
      "text/plain": [
       "                   mRNA_ratio   \n",
       "control__wt_glc__1   0.761506  \\\n",
       "control__wt_glc__2   0.760611   \n",
       "fur__wt_dpd__1        0.24403   \n",
       "fur__wt_dpd__2        0.27251   \n",
       "fur__wt_fe__1        0.687311   \n",
       "\n",
       "                                                                 grid  \n",
       "control__wt_glc__1  [(0, 0.1), (0, 0.11220184543019636), (0, 0.125...  \n",
       "control__wt_glc__2  [(0, 0.1), (0, 0.11220184543019636), (0, 0.125...  \n",
       "fur__wt_dpd__1      [(0, 0.1), (0, 0.11220184543019636), (0, 0.125...  \n",
       "fur__wt_dpd__2      [(0, 0.1), (0, 0.11220184543019636), (0, 0.125...  \n",
       "fur__wt_fe__1       [(0, 0.1), (0, 0.11220184543019636), (0, 0.125...  "
      ]
     },
     "execution_count": 9,
     "metadata": {},
     "output_type": "execute_result"
    }
   ],
   "source": [
    "grid.head()"
   ]
  },
  {
   "cell_type": "markdown",
   "id": "93bd8ca7",
   "metadata": {},
   "source": [
    "### Scatter Condition's Grid with Histograms"
   ]
  },
  {
   "cell_type": "code",
   "execution_count": 10,
   "id": "57854e77",
   "metadata": {},
   "outputs": [
    {
     "name": "stderr",
     "output_type": "stream",
     "text": [
      "/tmp/ipykernel_1013795/466169581.py:26: RuntimeWarning: divide by zero encountered in log10\n",
      "  x_bins = np.logspace(np.log10(min(x)), np.log10(max(x)), 50)\n",
      "/home/chris/mambaforge/envs/TRN_model/lib/python3.10/site-packages/numpy/core/function_base.py:151: RuntimeWarning: invalid value encountered in multiply\n",
      "  y *= step\n",
      "/home/chris/mambaforge/envs/TRN_model/lib/python3.10/site-packages/numpy/core/function_base.py:161: RuntimeWarning: invalid value encountered in add\n",
      "  y += start\n"
     ]
    },
    {
     "data": {
      "text/plain": [
       "Text(0.5, 0.98, 'Condition: control__wt_glc__1')"
      ]
     },
     "execution_count": 10,
     "metadata": {},
     "output_type": "execute_result"
    },
    {
     "data": {
      "image/png": "[encoded data removed]",
      "text/plain": [
       "<Figure size 600x600 with 3 Axes>"
      ]
     },
     "metadata": {},
     "output_type": "display_data"
    }
   ],
   "source": [
    "i = 0 # The integer corresponding to the condition of interest index\n",
    "\n",
    "x = [cAct for (cAct, _) in grid.iloc[i,1]]\n",
    "y = [cInh for (_, cInh) in grid.iloc[i,1]]\n",
    "\n",
    "# Start with a square Figure.\n",
    "fig = plt.figure(figsize=(6, 6))\n",
    "# Add a gridspec with two rows and two columns and a ratio of 1 to 4 between\n",
    "# the size of the marginal axes and the main axes in both directions.\n",
    "# Also adjust the subplot parameters for a square plot.\n",
    "gs = fig.add_gridspec(2, 2,  width_ratios=(4, 1), height_ratios=(1, 4),\n",
    "                      left=0.1, right=0.9, bottom=0.1, top=0.9,\n",
    "                      wspace=0.05, hspace=0.05)\n",
    "# Create the Axes.\n",
    "ax = fig.add_subplot(gs[1, 0])\n",
    "ax_histx = fig.add_subplot(gs[0, 0], sharex=ax)\n",
    "ax_histy = fig.add_subplot(gs[1, 1], sharey=ax)\n",
    "\n",
    "# no labels\n",
    "ax_histx.tick_params(axis=\"x\", labelbottom=False)\n",
    "ax_histy.tick_params(axis=\"y\", labelleft=False)\n",
    "\n",
    "# the scatter plot:\n",
    "ax.scatter(x, y, alpha=0.25)\n",
    "\n",
    "x_bins = np.logspace(np.log10(min(x)), np.log10(max(x)), 50)\n",
    "y_bins = np.logspace(np.log10(min(y)), np.log10(max(y)), 50)\n",
    "\n",
    "ax_histx.hist(x, bins=x_bins)\n",
    "ax_histy.hist(y, bins=y_bins, orientation='horizontal')\n",
    "\n",
    "ax.set_xscale('log')\n",
    "ax.set_yscale('log')\n",
    "\n",
    "ax.set_xlabel('cAct Grid Values')\n",
    "ax.set_ylabel('cInh Grid Values')\n",
    "\n",
    "fig.suptitle('Condition: '+str(grid.index[i]))"
   ]
  },
  {
   "cell_type": "markdown",
   "id": "f06e5f21",
   "metadata": {},
   "source": [
    "## Setup and Run the GA"
   ]
  },
  {
   "cell_type": "code",
   "execution_count": null,
   "id": "2c9d6988",
   "metadata": {
    "code_folding": [
     0
    ]
   },
   "outputs": [],
   "source": [
    "# Create fitness and individual objects\n",
    "creator.create(name = 'fitness',\n",
    "               base = base.Fitness,\n",
    "               weights = (1.0, -1.0,)) # Set to maximize Spearman correlation of MA_activator and cActivator, and minimize MA_inhibitor and cInhibitor\n",
    "\n",
    "creator.create(name = 'individual',\n",
    "               base = np.ndarray,\n",
    "               shape = (len(grid),), # Number of conditions\n",
    "               dtype = np.dtype([('act', float), ('inh', float)]), # Custom dtype\n",
    "               fitness = creator.fitness)\n",
    "\n",
    "# Import toolbox\n",
    "toolbox = base.Toolbox()\n",
    "\n",
    "# Register the individual and population functions\n",
    "toolbox.register(alias = 'individual',\n",
    "                 function = ga.generate_individual,\n",
    "                 individual_class = creator.individual,\n",
    "                 grid = grid.grid,\n",
    "                 rng = rng)\n",
    "\n",
    "toolbox.register('population',\n",
    "                 tools.initRepeat,\n",
    "                 list,\n",
    "                 toolbox.individual)\n",
    "\n",
    "# Register the evaluation function\n",
    "toolbox.register(alias = 'evaluate',\n",
    "                function = ga.spearman_objective,\n",
    "                MA_df = ratios_df.loc[:,['MA_activator','MA_inhibitor']])\n",
    "\n",
    "# Register the selection algorithm\n",
    "toolbox.register(alias = \"select\", \n",
    "                 function = tools.selNSGA2, \n",
    "                 nd = 'log') \n",
    "# I've been using selNSGA2 since it seems to run faster\n",
    "#toolbox.register(\"select\", tools.selSPEA2)\n",
    "\n",
    "# Register the mutation function\n",
    "toolbox.register(alias = 'mutate', \n",
    "                 function = ga.mutate, \n",
    "                 prob = flags['mt_prob'], \n",
    "                 grid = grid.grid, \n",
    "                 rng = rng)\n",
    "\n",
    "# Register the crossover function\n",
    "cx_prob = 0.6 # NOTE: These values were chosen based on brute_force.ipynb\n",
    "toolbox.register(alias = \"mate\", \n",
    "                 function = ga.crossover, \n",
    "                 prob = flags['cx_prob'],\n",
    "                 rng = rng)\n",
    "\n",
    "# Set the statistics to record the best individual score of each generation in \n",
    "# the logbook\n",
    "stats = tools.Statistics(key=lambda ind: np.subtract(ind.fitness.values[0],\n",
    "                                                     ind.fitness.values[1]))\n",
    "\n",
    "# Run the GA\n",
    "pop, logbook = ga.mu_plus_lambda(pop = toolbox.population(n = flags['n_ind']), \n",
    "                                 toolbox = toolbox, \n",
    "                                 rng = rng, \n",
    "                                 mu = flags['mu'], \n",
    "                                 lambda_ = flags['lambda_'], \n",
    "                                 cxpb = flags['cxpb'], \n",
    "                                 mutpb = flags['mutpb'], \n",
    "                                 n_gen = flags['n_gen'], \n",
    "                                 stats = stats, \n",
    "                                 verbose = flags['verbose'])"
   ]
  },
  {
   "cell_type": "markdown",
   "id": "30726b34",
   "metadata": {},
   "source": [
    "### Check GA Results"
   ]
  },
  {
   "cell_type": "code",
   "execution_count": null,
   "id": "187588ea",
   "metadata": {},
   "outputs": [],
   "source": [
    "total_score, total_sort = ga.best_individual(pop)\n",
    "total_score[total_sort[-1]]"
   ]
  },
  {
   "cell_type": "code",
   "execution_count": null,
   "id": "e292989b",
   "metadata": {},
   "outputs": [],
   "source": [
    "fig, (ax1, ax2) = ga.scatter_individual(ind_one = pop[total_sort[-1]],\n",
    "                                     MA = ratios_df.loc[:,['MA_activator','MA_inhibitor']],\n",
    "                                     GA_parameters = flags)\n",
    "\n",
    "fig.show()"
   ]
  },
  {
   "cell_type": "markdown",
   "id": "08299e2a",
   "metadata": {},
   "source": [
    "## Run the Greedy Algorithm"
   ]
  },
  {
   "cell_type": "code",
   "execution_count": null,
   "id": "2bf7c9c2",
   "metadata": {},
   "outputs": [],
   "source": [
    "greedy_pop = ga.greedy_algorithm(base_individual = pop[total_sort[-1]], \n",
    "                                 n_iterations = flags['n_iter'],\n",
    "                                 grid = grid.grid,\n",
    "                                 toolbox = toolbox,\n",
    "                                 max_steps = flags['max_steps'],\n",
    "                                 n_rounds = flags['n_rounds'])\n",
    "\n",
    "greedy_score, greedy_sort = ga.best_individual(greedy_pop)\n",
    "greedy_score[greedy_sort[-1]]"
   ]
  },
  {
   "cell_type": "code",
   "execution_count": null,
   "id": "4fa05b27",
   "metadata": {},
   "outputs": [],
   "source": [
    "greedy_voting = ga.voting(population = greedy_pop,\n",
    "                          grid = grid.grid)\n",
    "\n",
    "# Convert from condition integer index to grid tuple to create mean_ind\n",
    "mean_ind = creator.individual(greedy_pop[greedy_sort[-1]])\n",
    "for i, _ in enumerate(mean_ind):\n",
    "    mean_ind[i] = grid.grid[i][int(greedy_voting._mean[i])]\n",
    "\n",
    "mean_ind.fitness.values = toolbox.evaluate(mean_ind)\n",
    "print(np.subtract(mean_ind.fitness.values[0], mean_ind.fitness.values[1]))"
   ]
  },
  {
   "cell_type": "code",
   "execution_count": null,
   "id": "2ac36d37",
   "metadata": {},
   "outputs": [],
   "source": [
    "fig, (ax1, ax2) = ga.scatter_individual(ind_one = greedy_pop[greedy_sort[-1]],\n",
    "                                        MA = ratios_df.loc[:,['MA_activator','MA_inhibitor']],\n",
    "                                        GA_parameters = None)\n",
    "\n",
    "fig.show()"
   ]
  },
  {
   "cell_type": "markdown",
   "id": "3920d3c2",
   "metadata": {},
   "source": [
    "### Convert Chosen Individual to DataFrame"
   ]
  },
  {
   "cell_type": "code",
   "execution_count": null,
   "id": "9e5d91e1",
   "metadata": {},
   "outputs": [],
   "source": [
    "GAMs_individual = greedy_pop[greedy_sort[-1]] # TODO: EDIT THIS USING FLAGS?\n",
    "\n",
    "vals_for_GAMs = pd.DataFrame(index = ratios_df.index,\n",
    "                             columns = ['cAct', 'cInh'],)\n",
    "\n",
    "vals_for_GAMs.cAct = list(GAMs_individual['act'])\n",
    "vals_for_GAMs.cInh = list(GAMs_individual['inh'])"
   ]
  },
  {
   "cell_type": "markdown",
   "id": "50766d14",
   "metadata": {},
   "source": [
    "### Save for GAMs (Avoid Overwriting Existing Files)"
   ]
  },
  {
   "cell_type": "code",
   "execution_count": null,
   "id": "74be6c03",
   "metadata": {},
   "outputs": [],
   "source": [
    "# save for GAMs\n",
    "df_name = flags['central_gene']+'_zerod'+str(flags['use_zerod_A_matrix'])+'_cAct_cInh_vals.csv'\n",
    "file_out = '../data/save_for_GAMs/'+df_name\n",
    "vals_for_GAMs.to_csv(file_out)"
   ]
  },
  {
   "cell_type": "markdown",
   "id": "01295a72",
   "metadata": {},
   "source": [
    "# run GAMs"
   ]
  },
  {
   "cell_type": "code",
   "execution_count": null,
   "id": "d9f17e73",
   "metadata": {},
   "outputs": [],
   "source": [
    "# first let's merge together the files\n",
    "files_use = []\n",
    "if flags['run_on_all']:\n",
    "    files = os.listdir('../data/save_for_GAMs/')\n",
    "    for f in files:\n",
    "        if 'composite' in f: continue\n",
    "        if 'zerod'+str(flags['use_zerod_A_matrix']) not in f: continue\n",
    "        files_use.append(f)\n",
    "else:\n",
    "    for sample in flags['limit_samples']:\n",
    "        f_name = sample+'_zerod'+str(flags['use_zerod_A_matrix'])+'_cAct_cInh_vals.csv'\n",
    "        if os.path.exists('../data/save_for_GAMs/'+f_name):\n",
    "            files_use.append(f_name)\n",
    "for f in files_use:\n",
    "    act_df = pd.DataFrame(index = ratios_df.index)\n",
    "    inh_df = pd.DataFrame(index = ratios_df.index)\n",
    "    for file in files_use:\n",
    "        gene_name = file.split('_')[0]\n",
    "        act_df[gene_name] = pd.read_csv('../data/save_for_GAMs/'+file)['cAct'].values\n",
    "        inh_df[gene_name] = pd.read_csv('../data/save_for_GAMs/'+file)['cInh'].values\n",
    "act_df.to_csv('../data/save_for_GAMs/composite_cAct_vals.csv')\n",
    "inh_df.to_csv('../data/save_for_GAMs/composite_cInh_vals.csv')"
   ]
  },
  {
   "cell_type": "code",
   "execution_count": null,
   "id": "5b6ca35f",
   "metadata": {},
   "outputs": [],
   "source": [
    "# call GAMs\n",
    "_ = subprocess.call('gams cAct_model', shell = True, cwd = '../GAMs')\n",
    "_ = subprocess.call('gams cInh_model', shell = True, cwd = '../GAMs')"
   ]
  },
  {
   "cell_type": "code",
   "execution_count": null,
   "id": "47ba950b",
   "metadata": {
    "code_folding": []
   },
   "outputs": [],
   "source": [
    "# look at GAMs results\n",
    "\n",
    "# load in cActivators\n",
    "saved_cActivators = pd.read_csv('../data/save_for_GAMs/composite_cAct_vals.csv', index_col = 0)\n",
    "\n",
    "# GAMS calculated cActivators\n",
    "kd_df = 10**pd.read_csv('../data/GAMS_output/cAct_Kd_results.csv', index_col = 0).astype(float).T\n",
    "saved_cActivators = saved_cActivators[kd_df.columns]\n",
    "TF_conc_df = 10**pd.read_csv('../data/GAMS_output/cAct_TF_conc_results.csv', index_col = 0).astype(float).T\n",
    "saved_cActivators = saved_cActivators.loc[TF_conc_df.columns]\n",
    "calc_cAct = pd.DataFrame(index = saved_cActivators.columns, columns = saved_cActivators.index)\n",
    "cActs = []\n",
    "for sample in calc_cAct.columns:\n",
    "    for gene in calc_cAct.index:\n",
    "        calc_cAct.at[gene, sample] = TF_conc_df[sample].values[0] / kd_df[gene].values[0]\n",
    "calc_cAct = calc_cAct.T\n",
    "\n",
    "# plotting\n",
    "saved = []\n",
    "calc = []\n",
    "labels = []\n",
    "gene_to_color = {}\n",
    "cmap = cm.get_cmap('tab20')\n",
    "color_opts = iter(cmap.colors)\n",
    "colors = []\n",
    "for gene in calc_cAct.columns:\n",
    "    if gene not in gene_to_color:\n",
    "        gene_to_color.update({gene : next(color_opts)})\n",
    "    color = gene_to_color[gene]\n",
    "    for sample in calc_cAct.index:\n",
    "        saved.append(saved_cActivators.loc[sample][gene])\n",
    "        calc.append(calc_cAct.loc[sample][gene])\n",
    "        labels.append(gene+', '+sample)\n",
    "        colors.append(color)\n",
    "fig, axs = plt.subplots(1, 2, figsize = (6, 3))\n",
    "scatter = axs[0].scatter(saved, calc, c = colors)\n",
    "axs[0].plot([0, max(saved_cActivators.values.flatten())], [0, max(saved_cActivators.values.flatten())], alpha = 0.2, c = 'k', linestyle = '--')\n",
    "axs[0].set_xlabel('cActivators from GA')\n",
    "axs[0].set_ylabel('Recalculated cActivators post GAMS')\n",
    "corr = np.corrcoef(saved, calc)\n",
    "axs[0].set_title('Correlation = {:.2f}'.format(corr[1][0]))\n",
    "#plt.yscale('log')\n",
    "#plt.xscale('log')\n",
    "\n",
    "# Create an empty list to store legend handles and labels\n",
    "legend_elements = []\n",
    "for label, color in gene_to_color.items():\n",
    "    legend_elements.append(plt.Line2D([0], [0], marker = 'o', color = 'w', markersize = 10, markerfacecolor = color, label = label))\n",
    "axs[0].legend(handles = legend_elements, loc = 'lower right')\n",
    "\n",
    "\n",
    "# now plot cInhibitor\n",
    "# load in cActivators\n",
    "saved_cActivators = pd.read_csv('../data/save_for_GAMs/composite_cInh_vals.csv', index_col = 0)\n",
    "\n",
    "# GAMS calculated cActivators\n",
    "kd_df = 10**pd.read_csv('../data/GAMS_output/cInh_Kd_results.csv', index_col = 0).astype(float).T\n",
    "saved_cActivators = saved_cActivators[kd_df.columns]\n",
    "TF_conc_df = 10**pd.read_csv('../data/GAMS_output/cInh_TF_conc_results.csv', index_col = 0).astype(float).T\n",
    "saved_cActivators = saved_cActivators.loc[TF_conc_df.columns]\n",
    "calc_cInh = pd.DataFrame(index = saved_cActivators.columns, columns = saved_cActivators.index)\n",
    "cActs = []\n",
    "for sample in calc_cInh.columns:\n",
    "    for gene in calc_cInh.index:\n",
    "        calc_cInh.at[gene, sample] = TF_conc_df[sample].values[0] / kd_df[gene].values[0]\n",
    "calc_cInh = calc_cInh.T\n",
    "\n",
    "# plotting\n",
    "saved = []\n",
    "calc = []\n",
    "labels = []\n",
    "gene_to_color = {}\n",
    "cmap = cm.get_cmap('tab20')\n",
    "color_opts = iter(cmap.colors)\n",
    "colors = []\n",
    "for gene in calc_cAct.columns:\n",
    "    if gene not in gene_to_color:\n",
    "        gene_to_color.update({gene : next(color_opts)})\n",
    "    color = gene_to_color[gene]\n",
    "    for sample in calc_cAct.index:\n",
    "        saved.append(saved_cActivators.loc[sample][gene])\n",
    "        calc.append(calc_cInh.loc[sample][gene])\n",
    "        labels.append(gene+', '+sample)\n",
    "        colors.append(color)\n",
    "scatter = axs[1].scatter(saved, calc, c = colors)\n",
    "axs[1].plot([0, max(saved_cActivators.values.flatten())], [0, max(saved_cActivators.values.flatten())], alpha = 0.2, c = 'k', linestyle = '--')\n",
    "axs[1].set_xlabel('cInhibitors from GA')\n",
    "axs[1].set_ylabel('Recalculated cInhibitors post GAMS')\n",
    "corr = np.corrcoef(saved, calc)\n",
    "axs[1].set_title('Correlation = {:.2f}'.format(corr[1][0]))\n",
    "#plt.yscale('log')\n",
    "#plt.xscale('log')\n",
    "fig.tight_layout()\n",
    "plt.show()"
   ]
  },
  {
   "cell_type": "markdown",
   "id": "80becb05",
   "metadata": {},
   "source": [
    "# convert back to mRNA ratios"
   ]
  },
  {
   "cell_type": "code",
   "execution_count": null,
   "id": "9cf1faf6",
   "metadata": {},
   "outputs": [],
   "source": [
    "# there are a few types of re-converted mRNA ratios\n",
    "# 1 the GA cActivator and cInhibitor, should get perfect recreation\n",
    "# 2 using recreated cActivator and cInhibitor from the GAMs solution\n",
    "    # to do this, I need to get cInhibitor working on GAMs, which I believe will be the same thing with different data\n",
    "\n",
    "    \n",
    "# I feel like I already did this and push merged over it, but I'll do it again\n",
    "# I need recreated cActivators and cInhibitors\n",
    "shared = list(set(calc_cAct.index).intersection(set(calc_cInh.index)))\n",
    "corrs = []\n",
    "max_mRNA = 0\n",
    "plt.figure(figsize = (4, 4))\n",
    "for gene in calc_cAct.columns:\n",
    "    grid = gene_to_grid_constants[gene]\n",
    "    \n",
    "    df_name = gene+'_zerod'+str(flags['use_zerod_A_matrix'])+'_mRNA_ratios_and_MA_vals.csv'\n",
    "    ratios_df = pd.read_csv('../data/saved_mRNA_ratios_MA_vals/'+df_name, index_col = 0)\n",
    "    \n",
    "    \n",
    "    recon_mRNA = po.cActivator_cInhibitor_to_mRNA(calc_cAct[gene].loc[shared], calc_cInh[gene].loc[shared],\n",
    "                                            RNAP = grid['RNAP'], KdRNAP = grid['KdRNAP'],\n",
    "                                            KdRNAPCrp = grid['KdRNAPCrp'], KeqOpening = grid['KeqOpening'])\n",
    "\n",
    "    actual_mRNA = ratios_df.loc[shared]['actual_mRNA_ratio'].values.flatten()\n",
    "    if max([max(actual_mRNA), max(recon_mRNA)]) > max_mRNA:\n",
    "        max_mRNA = max([max(actual_mRNA), max(recon_mRNA)])\n",
    "        \n",
    "    corr = np.corrcoef(list(actual_mRNA), list(recon_mRNA))\n",
    "    corrs.append(corr[0][1])\n",
    "    plt.scatter(actual_mRNA, recon_mRNA, label = gene, alpha = 0.5)\n",
    "plt.plot([0, max_mRNA], [0, max_mRNA], ls = '--', c = 'k')\n",
    "plt.legend()\n",
    "plt.title('Average Correlation = {:.2f}'.format(np.mean(corrs)))\n",
    "plt.xlabel('Actual mRNA Ratio')\n",
    "plt.ylabel('Reconstructed mRNA Ratio from GAMS')\n",
    "plt.show()"
   ]
  },
  {
   "cell_type": "markdown",
   "id": "db82c60b",
   "metadata": {},
   "source": [
    "# plotting"
   ]
  },
  {
   "cell_type": "code",
   "execution_count": null,
   "id": "bd9fb180",
   "metadata": {},
   "outputs": [],
   "source": []
  }
 ],
 "metadata": {
  "kernelspec": {
   "display_name": "Python 3 (ipykernel)",
   "language": "python",
   "name": "python3"
  },
  "language_info": {
   "codemirror_mode": {
    "name": "ipython",
    "version": 3
   },
   "file_extension": ".py",
   "mimetype": "text/x-python",
   "name": "python",
   "nbconvert_exporter": "python",
   "pygments_lexer": "ipython3",
   "version": "3.10.10"
  },
  "toc": {
   "base_numbering": 1,
   "nav_menu": {},
   "number_sections": true,
   "sideBar": true,
   "skip_h1_title": false,
   "title_cell": "Table of Contents",
   "title_sidebar": "Contents",
   "toc_cell": false,
   "toc_position": {},
   "toc_section_display": true,
   "toc_window_display": false
  }
 },
 "nbformat": 4,
 "nbformat_minor": 5
}
