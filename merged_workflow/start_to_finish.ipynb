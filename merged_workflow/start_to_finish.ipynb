{
 "cells": [
  {
   "cell_type": "markdown",
   "id": "be9229e1",
   "metadata": {},
   "source": [
    "# setup"
   ]
  },
  {
   "cell_type": "code",
   "execution_count": null,
   "id": "a069d3eb",
   "metadata": {},
   "outputs": [],
   "source": [
    "# import statements\n",
    "import os\n",
    "import pandas as pd\n",
    "import sys\n",
    "sys.path.insert(0, '../functions/')\n",
    "import mRNA_ratios"
   ]
  },
  {
   "cell_type": "code",
   "execution_count": 2,
   "id": "3f15f941",
   "metadata": {},
   "outputs": [],
   "source": [
    "# settings\n",
    "flags = { # add additional settings that should be changed between runs here\n",
    "    # general flags\n",
    "    'force_rerun' : True,\n",
    "    'central_gene' : 'b1101',\n",
    "    'basal_conditions' : ['control__wt_glc__1', 'control__wt_glc__2'],\n",
    "    'grid_use' : -1, # which of the generated constants grids do you want to use? -1 is the highest KdRNAP\n",
    "    \n",
    "    # basal model flags\n",
    "    \n",
    "    # mRNA ratios flags\n",
    "    'use_zerod_A_matrix' : True, # recalculate the ICA matrices based on zeroing out gene values in iModulons not of interest\n",
    "    \n",
    "    # initial cActivator/cInhibitor calculation flags\n",
    "    \n",
    "    # greedy algo flags\n",
    "    \n",
    "}\n",
    "\n",
    "# settings\n",
    "input_parameters = {\n",
    "    # base condition for mRNA ratio generation parameters\n",
    "    'gene_of_interest' : 'b2143', \n",
    "    'basal_conditions' : ['control__wt_glc__1', 'control__wt_glc__2'],\n",
    "    'use_zerod_A_matrix' : True, # recalculate the ICA matrices based on zeroing out gene values in iModulons not of interest\n",
    "    'control_value_log_tpm' : 10, # basal log tpm value hard set for now\n",
    "    'grid_use' : -1, # which of the generated constants grids do you want to use? -1 is the highest KdRNAP\n",
    "    \n",
    "    \n",
    "    # cActivator/cInhibitor genetic algorithm paramters\n",
    "    'nind' : 100,\n",
    "    'mu' : 50,\n",
    "    'lambda_' : 100,\n",
    "    'cxpb' : 0.7,\n",
    "    'mutpb' : 0.3,\n",
    "    'ngen' : 100,\n",
    "}\n",
    "\n",
    "\n",
    "gene_to_act_inh_iMs = {\n",
    "    'b1101' : ['Crp-2', 'DhaR/Mlc'],\n",
    "    'b1817' : ['Crp-2', 'DhaR/Mlc'],\n",
    "    'b1818' : ['Crp-2', 'DhaR/Mlc'],\n",
    "    'b1819' : ['Crp-2', 'DhaR/Mlc'],\n",
    "    'b2151' : ['Crp-1', 'Crp-2'],\n",
    "    'b3601' : ['Crp-1', 'Crp-2'],\n",
    "    'b2239' : ['Crp-2', 'GlpR'],\n",
    "    'b2240' : ['Crp-2', 'GlpR'],\n",
    "    'b0723' : ['Crp-2', 'ArcA-1'],\n",
    "    'b1415' : ['Crp-2', 'Crp-1'],\n",
    "    'b2597' : ['Crp-2', 'CpxR'],\n",
    "    'b3403' : ['Crp-2', 'crp-KO'],\n",
    "    'b4267' : ['Crp-2', 'GntR/TyrR'],\n",
    "    'b2143' : ['Crp-2', 'YieP'],\n",
    "}"
   ]
  },
  {
   "cell_type": "code",
   "execution_count": 3,
   "id": "710888d5",
   "metadata": {},
   "outputs": [],
   "source": [
    "# steps\n",
    "# 1 - basal model calculations\n",
    "# 2 - create mRNA ratios and MA values\n",
    "# 3 - grid calculation for getting starting constants\n",
    "# 4 - DEAP - calculate initial cActivator and cInhibitor values\n",
    "# 5 - greedy algorithm to improve cActivator and cInhibitor values\n",
    "# 6 - run GAMs\n",
    "# 7 - convert back to mRNA ratios, plot predictions"
   ]
  },
  {
   "cell_type": "markdown",
   "id": "36167916",
   "metadata": {},
   "source": [
    "# basal model calculations"
   ]
  },
  {
   "cell_type": "markdown",
   "id": "f94775ae",
   "metadata": {},
   "source": [
    "# create mRNA ratios and MA values"
   ]
  },
  {
   "cell_type": "code",
   "execution_count": null,
   "id": "73942b7c",
   "metadata": {},
   "outputs": [],
   "source": [
    "# reads / creates the ratio dataframe\n",
    "df_name = flags['central_gene']+'_zerod'+str(flags['use_zerod_A_matrix'])+'_mRNA_ratios_and_MA_vals.csv'\n",
    "if not flags['force_rerun'] and os.path.exists('../data/saved_mRNA_ratios_MA_vals/'+df_name):\n",
    "    ratios_df = pd.read_csv('../data/saved_mRNA_ratios_MA_vals/'+df_name)\n",
    "else:\n",
    "    ratios_df = mRNA_ratios.calculate_mRNA_ratios_and_MA_values(gene_to_act_inh_iMs[flags['central_gene']][0], gene_to_act_inh_iMs[flags['central_gene']][1], flags)\n",
    "    ratios_df.to_csv('../data/saved_mRNA_ratios_MA_vals/'+df_name)"
   ]
  },
  {
   "cell_type": "markdown",
   "id": "70c01212",
   "metadata": {},
   "source": [
    "# calculate initial cActivator and cInhibitor values"
   ]
  },
  {
   "cell_type": "markdown",
   "id": "08299e2a",
   "metadata": {},
   "source": [
    "# greedy algorithm to improve cActivator and cInhibitor values"
   ]
  },
  {
   "cell_type": "markdown",
   "id": "01295a72",
   "metadata": {},
   "source": [
    "# run GAMs"
   ]
  },
  {
   "cell_type": "markdown",
   "id": "80becb05",
   "metadata": {},
   "source": [
    "# convert back to mRNA ratios"
   ]
  },
  {
   "cell_type": "markdown",
   "id": "db82c60b",
   "metadata": {},
   "source": [
    "# plotting"
   ]
  },
  {
   "cell_type": "code",
   "execution_count": null,
   "id": "bd9fb180",
   "metadata": {},
   "outputs": [],
   "source": []
  }
 ],
 "metadata": {
  "kernelspec": {
   "display_name": "Python 3 (ipykernel)",
   "language": "python",
   "name": "python3"
  },
  "language_info": {
   "codemirror_mode": {
    "name": "ipython",
    "version": 3
   },
   "file_extension": ".py",
   "mimetype": "text/x-python",
   "name": "python",
   "nbconvert_exporter": "python",
   "pygments_lexer": "ipython3",
   "version": "3.10.10"
  },
  "toc": {
   "base_numbering": 1,
   "nav_menu": {},
   "number_sections": true,
   "sideBar": true,
   "skip_h1_title": false,
   "title_cell": "Table of Contents",
   "title_sidebar": "Contents",
   "toc_cell": false,
   "toc_position": {},
   "toc_section_display": true,
   "toc_window_display": false
  }
 },
 "nbformat": 4,
 "nbformat_minor": 5
}
