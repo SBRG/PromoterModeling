{
 "cells": [
  {
   "cell_type": "code",
   "execution_count": 1,
   "id": "083abd60",
   "metadata": {},
   "outputs": [],
   "source": [
    "import pandas as pd\n",
    "import matplotlib.pyplot as plt"
   ]
  },
  {
   "cell_type": "code",
   "execution_count": 2,
   "id": "9e07e586",
   "metadata": {
    "code_folding": [
     7
    ]
   },
   "outputs": [],
   "source": [
    "# currently the identifiers don't map with each other, waiting for Amy response\n",
    "# but this does bring up a good point, what is this model estimating?\n",
    "# Kd and cActivator values primarily I suppose, does TF_conc go down/up along with cAMP changes is the goal\n",
    "# I need a way to do everything from log tpm data really\n",
    "# TODO - create a pipeline from log tpm to iModulons and everything else to put at front of this if input includes non PRECISE samples\n",
    "# really not difficult to do, just infer activites by matrix transformation\n",
    "\n",
    "mapping = {\n",
    "    'SRX5936089' : 'starve_series__t00_growth1__1', \n",
    "    'SRX5936090' : 'starve_series__t00_growth1__2', \n",
    "    'SRX5936091' : 'starve_series__t00_growth1__3', \n",
    "    'SRX5936092' : 'starve_series__t00_growth1__4', \n",
    "    'SRX5936093' : 'starve_series__t01_starve__1', \n",
    "    'SRX5936094' : 'starve_series__t01_starve__2', \n",
    "    'SRX5936095' : 'starve_series__t02_starve__1', \n",
    "    'SRX5936096' : 'starve_series__t02_starve__2', \n",
    "    'SRX5936097' : 'starve_series__t03_starve__1', \n",
    "    'SRX5936098' : 'starve_series__t03_starve__2', \n",
    "    'SRX5936099' : 'starve_series__t04_starve__1', \n",
    "    'SRX5936100' : 'starve_series__t04_starve__2', \n",
    "    'SRX5936101' : 'starve_series__t05_starve__1', \n",
    "    'SRX5936102' : 'starve_series__t05_starve__2', \n",
    "    'SRX5936103' : 'starve_series__t06_starve__1', \n",
    "    'SRX5936104' : 'starve_series__t06_starve__2', \n",
    "    'SRX5936105' : 'starve_series__t07_starve__1', \n",
    "    'SRX5936106' : 'starve_series__t07_starve__2', \n",
    "    'SRX5936107' : 'starve_series__t08_starve__1', \n",
    "    'SRX5936108' : 'starve_series__t08_starve__2', \n",
    "    'SRX5936109' : 'starve_series__t09_starve__1', \n",
    "    'SRX5936110' : 'starve_series__t09_starve__2', \n",
    "    'SRX5936111' : 'starve_series__t10_starve__1', \n",
    "    'SRX5936112' : 'starve_series__t10_starve__2', \n",
    "    'SRX5936113' : 'starve_series__t11_starve__1', \n",
    "    'SRX5936114' : 'starve_series__t11_starve__2', \n",
    "    'SRX5936115' : 'starve_series__t12_starve__1', \n",
    "    'SRX5936116' : 'starve_series__t12_starve__2', \n",
    "    'SRX5936118' : 'starve_series__t14_starve__1', \n",
    "    'SRX5936119' : 'starve_series__t14_starve__2', \n",
    "    'SRX5936121' : 'starve_series__t16_starve__1', \n",
    "    'SRX5936122' : 'starve_series__t16_starve__2', \n",
    "    'SRX5936123' : 'starve_series__t17_starve__1', \n",
    "    'SRX5936124' : 'starve_series__t17_starve__2', \n",
    "    'SRX5936125' : 'starve_series__t18_starve__1', \n",
    "    'SRX5936126' : 'starve_series__t18_starve__2', \n",
    "    'SRX5936128' : 'starve_series__t20_growth2__1', \n",
    "    'SRX5936129' : 'starve_series__t20_growth2__2', \n",
    "    'SRX5936130' : 'starve_series__t21_growth2__1', \n",
    "    'SRX5936131' : 'starve_series__t21_growth2__2', \n",
    "    'SRX5936132' : 'starve_series__t22_growth2__1', \n",
    "    'SRX5936133' : 'starve_series__t22_growth2__2', \n",
    "    'SRX5936134' : 'starve_series__t23_growth2__1', \n",
    "    'SRX5936135' : 'starve_series__t23_growth2__2', \n",
    "    'SRX5936137' : 'starve_series__t25_growth2__1', \n",
    "    'SRX5936138' : 'starve_series__t25_growth2__2', \n",
    "    'SRX5936139' : 'starve_series__t26_growth2__1', \n",
    "    'SRX5936140' : 'starve_series__t26_growth2__2', \n",
    "    'SRX5936141' : 'starve_series__t27_growth2__1', \n",
    "    'SRX5936142' : 'starve_series__t27_growth2__2', \n",
    "    'SRX5936143' : 'starve_series__t28_growth2__1', \n",
    "    'SRX5936144' : 'starve_series__t28_growth2__2', \n",
    "}"
   ]
  },
  {
   "cell_type": "code",
   "execution_count": 3,
   "id": "b49607ae",
   "metadata": {},
   "outputs": [],
   "source": [
    "# load in, trim samples not included in both data sets\n",
    "starve_log_tpm = pd.read_csv('../data/validation_data_sets/stationary_phase/project_log_tpm_qc.csv', index_col = 0)\n",
    "starve_log_tpm = starve_log_tpm.rename(columns = mapping)\n",
    "starve_log_tpm = starve_log_tpm.drop(columns = ['starve_series__t20_growth2__1', 'starve_series__t20_growth2__2'])\n",
    "starve_metabs = pd.read_excel('../data/validation_data_sets/stationary_phase/metabolites_data.xlsx', index_col = 0)\n",
    "starve_metabs = starve_metabs.drop(columns = ['starve_series__t13_starve__1', 'starve_series__t13_starve__2',  'starve_series__t15_starve__1',  'starve_series__t15_starve__2',  'starve_series__t19_starve__1',  'starve_series__t19_starve__2',  'starve_series__t20_starve__1',  'starve_series__t20_starve__2',  'starve_series__t24_growth2__1',  'starve_series__t24_growth2__2',  'starve_series__t29_growth2__1',  'starve_series__t29_growth2__2',  'starve_series__t30_growth2__1',  'starve_series__t30_growth2__2',  'starve_series__t31_growth2__1',  'starve_series__t31_growth2__2',  'starve_series__t32_growth2__1',  'starve_series__t32_growth2__2',  'starve_series__t33_growth2__1',  'starve_series__t33_growth2__2',  'starve_series__t34_growth2__1',  'starve_series__t34_growth2__2'])"
   ]
  },
  {
   "cell_type": "code",
   "execution_count": 4,
   "id": "5ed957d9",
   "metadata": {},
   "outputs": [],
   "source": [
    "# i should average these together realistically...\n",
    "new_col_to_old_cols = {}\n",
    "for col in starve_log_tpm:\n",
    "    new_col = col[:-3]\n",
    "    if new_col not in new_col_to_old_cols:\n",
    "        new_col_to_old_cols.update({new_col : []})\n",
    "    new_col_to_old_cols[new_col].append(col)\n",
    "new_df = pd.DataFrame(index = starve_log_tpm.index)\n",
    "for new_col, cols in new_col_to_old_cols.items():\n",
    "    new_df[new_col] = starve_log_tpm[cols].mean(axis = 1)\n",
    "    starve_metabs[new_col] = starve_metabs[cols].mean(axis = 1)\n",
    "starve_metabs = starve_metabs[['metabolic subsystem'] + list(new_col_to_old_cols.keys())]\n",
    "starve_log_tpm = new_df"
   ]
  },
  {
   "cell_type": "code",
   "execution_count": 6,
   "id": "be6782a0",
   "metadata": {},
   "outputs": [],
   "source": [
    "# save the trimmed versions\n",
    "starve_log_tpm.to_csv('../data/validation_data_sets/stationary_phase/cleaned_log_tpm_qc.csv')\n",
    "starve_metabs.to_csv('../data/validation_data_sets/stationary_phase/cleaned_metabolites_data.csv')"
   ]
  },
  {
   "cell_type": "markdown",
   "id": "932305f5",
   "metadata": {},
   "source": [
    "# maybe smooth the curve?"
   ]
  },
  {
   "cell_type": "code",
   "execution_count": 9,
   "id": "3ad07d04",
   "metadata": {},
   "outputs": [],
   "source": []
  },
  {
   "cell_type": "code",
   "execution_count": 17,
   "id": "1f5b2515",
   "metadata": {},
   "outputs": [
    {
     "data": {
      "text/plain": [
       "'t28'"
      ]
     },
     "execution_count": 17,
     "metadata": {},
     "output_type": "execute_result"
    }
   ],
   "source": [
    "'t'+str(int(sample.split('__t')[1].split('_')[0]))"
   ]
  },
  {
   "cell_type": "code",
   "execution_count": 25,
   "id": "4ec465b1",
   "metadata": {},
   "outputs": [
    {
     "data": {
      "image/png": "[encoded data removed]",
      "text/plain": [
       "<Figure size 640x480 with 1 Axes>"
      ]
     },
     "metadata": {},
     "output_type": "display_data"
    }
   ],
   "source": [
    "times = 't0_1\tt1_1\tt2_1\tt3_1\tt4_1\tt5_1\tt6_1\tt7_1\tt8_1\tt9_1\tt10_1\tt11_1\tt12_1\tt13_1\tt14_1\tt15_1\tt16_1\tt17_1\tt18_1\tt19_1\tt20_1\tt21_1\tt22_1\tt23_1\tt24_1\tt25_1\tt26_1\tt27_1\tt28_1\tt29_1\tt30_1\tt31_1\tt32_1\tt33_1\tt34_1'\n",
    "hours = '5.65\t6.07\t6.15\t6.38\t6.48\t6.73\t6.98\t7.23\t7.48\t7.73\t7.98\t8.48\t8.98\t9.48\t9.98\t10.48\t10.98\t11.98\t12.98\t13.98\t14.98\t15.98\t16.98\t17.98\t18.18\t18.28\t18.42\t18.58\t18.83\t19.08\t19.33\t19.58\t20.08\t20.58\t21.08'\n",
    "time_to_hours = {k.split('_')[0] : float(v) for k, v in zip(times.split('\\t'), hours.split('\\t'))}\n",
    "\n",
    "x_vals = []\n",
    "y_vals = []\n",
    "time_to_vals = {}\n",
    "for sample, val in starve_metabs.loc['Arginine'][1:].items():\n",
    "    tim = 't'+str(int(sample.split('__t')[1].split('_')[0]))\n",
    "    x_vals.append(time_to_hours[tim])\n",
    "    y_vals.append(val)\n",
    "    if time_to_hours[tim] not in time_to_vals:\n",
    "        time_to_vals.update({time_to_hours[tim] : []})\n",
    "    time_to_vals[time_to_hours[tim]].append(val)\n",
    "plt.scatter(x_vals, y_vals)\n",
    "plt.show()"
   ]
  },
  {
   "cell_type": "code",
   "execution_count": 29,
   "id": "d1274f00",
   "metadata": {},
   "outputs": [
    {
     "data": {
      "text/plain": [
       "Index(['metabolic subsystem', 'starve_series__t00_growth1__1',\n",
       "       'starve_series__t00_growth1__2', 'starve_series__t00_growth1__3',\n",
       "       'starve_series__t00_growth1__4', 'starve_series__t01_starve__1',\n",
       "       'starve_series__t01_starve__2', 'starve_series__t02_starve__1',\n",
       "       'starve_series__t02_starve__2', 'starve_series__t03_starve__1',\n",
       "       'starve_series__t03_starve__2', 'starve_series__t04_starve__1',\n",
       "       'starve_series__t04_starve__2', 'starve_series__t05_starve__1',\n",
       "       'starve_series__t05_starve__2', 'starve_series__t06_starve__1',\n",
       "       'starve_series__t06_starve__2', 'starve_series__t07_starve__1',\n",
       "       'starve_series__t07_starve__2', 'starve_series__t08_starve__1',\n",
       "       'starve_series__t08_starve__2', 'starve_series__t09_starve__1',\n",
       "       'starve_series__t09_starve__2', 'starve_series__t10_starve__1',\n",
       "       'starve_series__t10_starve__2', 'starve_series__t11_starve__1',\n",
       "       'starve_series__t11_starve__2', 'starve_series__t12_starve__1',\n",
       "       'starve_series__t12_starve__2', 'starve_series__t14_starve__1',\n",
       "       'starve_series__t14_starve__2', 'starve_series__t16_starve__1',\n",
       "       'starve_series__t16_starve__2', 'starve_series__t17_starve__1',\n",
       "       'starve_series__t17_starve__2', 'starve_series__t18_starve__1',\n",
       "       'starve_series__t18_starve__2', 'starve_series__t21_growth2__1',\n",
       "       'starve_series__t21_growth2__2', 'starve_series__t22_growth2__1',\n",
       "       'starve_series__t22_growth2__2', 'starve_series__t23_growth2__1',\n",
       "       'starve_series__t23_growth2__2', 'starve_series__t25_growth2__1',\n",
       "       'starve_series__t25_growth2__2', 'starve_series__t26_growth2__1',\n",
       "       'starve_series__t26_growth2__2', 'starve_series__t27_growth2__1',\n",
       "       'starve_series__t27_growth2__2', 'starve_series__t28_growth2__1',\n",
       "       'starve_series__t28_growth2__2'],\n",
       "      dtype='object')"
      ]
     },
     "execution_count": 29,
     "metadata": {},
     "output_type": "execute_result"
    }
   ],
   "source": [
    "starve_metabs.columns"
   ]
  },
  {
   "cell_type": "code",
   "execution_count": 28,
   "id": "419bf629",
   "metadata": {},
   "outputs": [
    {
     "ename": "NameError",
     "evalue": "name 'starve_cols' is not defined",
     "output_type": "error",
     "traceback": [
      "\u001b[0;31m---------------------------------------------------------------------------\u001b[0m",
      "\u001b[0;31mNameError\u001b[0m                                 Traceback (most recent call last)",
      "Cell \u001b[0;32mIn[28], line 1\u001b[0m\n\u001b[0;32m----> 1\u001b[0m \u001b[43mstarve_cols\u001b[49m\n",
      "\u001b[0;31mNameError\u001b[0m: name 'starve_cols' is not defined"
     ]
    }
   ],
   "source": [
    "starve_cols"
   ]
  },
  {
   "cell_type": "code",
   "execution_count": 27,
   "id": "e8e98a34",
   "metadata": {},
   "outputs": [
    {
     "data": {
      "text/plain": [
       "{'t0': 5.65,\n",
       " 't1': 6.07,\n",
       " 't2': 6.15,\n",
       " 't3': 6.38,\n",
       " 't4': 6.48,\n",
       " 't5': 6.73,\n",
       " 't6': 6.98,\n",
       " 't7': 7.23,\n",
       " 't8': 7.48,\n",
       " 't9': 7.73,\n",
       " 't10': 7.98,\n",
       " 't11': 8.48,\n",
       " 't12': 8.98,\n",
       " 't13': 9.48,\n",
       " 't14': 9.98,\n",
       " 't15': 10.48,\n",
       " 't16': 10.98,\n",
       " 't17': 11.98,\n",
       " 't18': 12.98,\n",
       " 't19': 13.98,\n",
       " 't20': 14.98,\n",
       " 't21': 15.98,\n",
       " 't22': 16.98,\n",
       " 't23': 17.98,\n",
       " 't24': 18.18,\n",
       " 't25': 18.28,\n",
       " 't26': 18.42,\n",
       " 't27': 18.58,\n",
       " 't28': 18.83,\n",
       " 't29': 19.08,\n",
       " 't30': 19.33,\n",
       " 't31': 19.58,\n",
       " 't32': 20.08,\n",
       " 't33': 20.58,\n",
       " 't34': 21.08}"
      ]
     },
     "execution_count": 27,
     "metadata": {},
     "output_type": "execute_result"
    }
   ],
   "source": [
    "time_to_hours"
   ]
  },
  {
   "cell_type": "code",
   "execution_count": null,
   "id": "ca78922e",
   "metadata": {},
   "outputs": [],
   "source": []
  }
 ],
 "metadata": {
  "kernelspec": {
   "display_name": "Python 3 (ipykernel)",
   "language": "python",
   "name": "python3"
  },
  "language_info": {
   "codemirror_mode": {
    "name": "ipython",
    "version": 3
   },
   "file_extension": ".py",
   "mimetype": "text/x-python",
   "name": "python",
   "nbconvert_exporter": "python",
   "pygments_lexer": "ipython3",
   "version": "3.10.10"
  },
  "toc": {
   "base_numbering": 1,
   "nav_menu": {},
   "number_sections": true,
   "sideBar": true,
   "skip_h1_title": false,
   "title_cell": "Table of Contents",
   "title_sidebar": "Contents",
   "toc_cell": false,
   "toc_position": {},
   "toc_section_display": true,
   "toc_window_display": false
  }
 },
 "nbformat": 4,
 "nbformat_minor": 5
}
