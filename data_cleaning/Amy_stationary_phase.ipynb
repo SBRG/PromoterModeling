{
 "cells": [
  {
   "cell_type": "code",
   "execution_count": 1,
   "id": "083abd60",
   "metadata": {},
   "outputs": [],
   "source": [
    "import pandas as pd"
   ]
  },
  {
   "cell_type": "code",
   "execution_count": 2,
   "id": "9e07e586",
   "metadata": {},
   "outputs": [],
   "source": [
    "# currently the identifiers don't map with each other, waiting for Amy response\n",
    "# but this does bring up a good point, what is this model estimating?\n",
    "# Kd and cActivator values primarily I suppose, does TF_conc go down/up along with cAMP changes is the goal\n",
    "# I need a way to do everything from log tpm data really\n",
    "# TODO - create a pipeline from log tpm to iModulons and everything else to put at front of this if input includes non PRECISE samples\n",
    "# really not difficult to do, just infer activites by matrix transformation\n",
    "\n",
    "mapping = {\n",
    "    'SRX5936089' : 'starve_series__t00_growth1__1', \n",
    "    'SRX5936090' : 'starve_series__t00_growth1__2', \n",
    "    'SRX5936091' : 'starve_series__t00_growth1__3', \n",
    "    'SRX5936092' : 'starve_series__t00_growth1__4', \n",
    "    'SRX5936093' : 'starve_series__t01_starve__1', \n",
    "    'SRX5936094' : 'starve_series__t01_starve__2', \n",
    "    'SRX5936095' : 'starve_series__t02_starve__1', \n",
    "    'SRX5936096' : 'starve_series__t02_starve__2', \n",
    "    'SRX5936097' : 'starve_series__t03_starve__1', \n",
    "    'SRX5936098' : 'starve_series__t03_starve__2', \n",
    "    'SRX5936099' : 'starve_series__t04_starve__1', \n",
    "    'SRX5936100' : 'starve_series__t04_starve__2', \n",
    "    'SRX5936101' : 'starve_series__t05_starve__1', \n",
    "    'SRX5936102' : 'starve_series__t05_starve__2', \n",
    "    'SRX5936103' : 'starve_series__t06_starve__1', \n",
    "    'SRX5936104' : 'starve_series__t06_starve__2', \n",
    "    'SRX5936105' : 'starve_series__t07_starve__1', \n",
    "    'SRX5936106' : 'starve_series__t07_starve__2', \n",
    "    'SRX5936107' : 'starve_series__t08_starve__1', \n",
    "    'SRX5936108' : 'starve_series__t08_starve__2', \n",
    "    'SRX5936109' : 'starve_series__t09_starve__1', \n",
    "    'SRX5936110' : 'starve_series__t09_starve__2', \n",
    "    'SRX5936111' : 'starve_series__t10_starve__1', \n",
    "    'SRX5936112' : 'starve_series__t10_starve__2', \n",
    "    'SRX5936113' : 'starve_series__t11_starve__1', \n",
    "    'SRX5936114' : 'starve_series__t11_starve__2', \n",
    "    'SRX5936115' : 'starve_series__t12_starve__1', \n",
    "    'SRX5936116' : 'starve_series__t12_starve__2', \n",
    "    'SRX5936118' : 'starve_series__t14_starve__1', \n",
    "    'SRX5936119' : 'starve_series__t14_starve__2', \n",
    "    'SRX5936121' : 'starve_series__t16_starve__1', \n",
    "    'SRX5936122' : 'starve_series__t16_starve__2', \n",
    "    'SRX5936123' : 'starve_series__t17_starve__1', \n",
    "    'SRX5936124' : 'starve_series__t17_starve__2', \n",
    "    'SRX5936125' : 'starve_series__t18_starve__1', \n",
    "    'SRX5936126' : 'starve_series__t18_starve__2', \n",
    "    'SRX5936128' : 'starve_series__t20_growth2__1', \n",
    "    'SRX5936129' : 'starve_series__t20_growth2__2', \n",
    "    'SRX5936130' : 'starve_series__t21_growth2__1', \n",
    "    'SRX5936131' : 'starve_series__t21_growth2__2', \n",
    "    'SRX5936132' : 'starve_series__t22_growth2__1', \n",
    "    'SRX5936133' : 'starve_series__t22_growth2__2', \n",
    "    'SRX5936134' : 'starve_series__t23_growth2__1', \n",
    "    'SRX5936135' : 'starve_series__t23_growth2__2', \n",
    "    'SRX5936137' : 'starve_series__t25_growth2__1', \n",
    "    'SRX5936138' : 'starve_series__t25_growth2__2', \n",
    "    'SRX5936139' : 'starve_series__t26_growth2__1', \n",
    "    'SRX5936140' : 'starve_series__t26_growth2__2', \n",
    "    'SRX5936141' : 'starve_series__t27_growth2__1', \n",
    "    'SRX5936142' : 'starve_series__t27_growth2__2', \n",
    "    'SRX5936143' : 'starve_series__t28_growth2__1', \n",
    "    'SRX5936144' : 'starve_series__t28_growth2__2', \n",
    "}"
   ]
  },
  {
   "cell_type": "code",
   "execution_count": 3,
   "id": "b49607ae",
   "metadata": {},
   "outputs": [],
   "source": [
    "# load in, trim samples not included in both data sets\n",
    "starve_log_tpm = pd.read_csv('../data/validation_data_sets/stationary_phase/project_log_tpm_qc.csv', index_col = 0)\n",
    "starve_log_tpm = starve_log_tpm.rename(columns = mapping)\n",
    "starve_log_tpm = starve_log_tpm.drop(columns = ['starve_series__t20_growth2__1', 'starve_series__t20_growth2__2'])\n",
    "starve_metabs = pd.read_excel('../data/validation_data_sets/stationary_phase/metabolites_data.xlsx', index_col = 0)\n",
    "starve_metabs = starve_metabs.drop(columns = ['starve_series__t13_starve__1', 'starve_series__t13_starve__2',  'starve_series__t15_starve__1',  'starve_series__t15_starve__2',  'starve_series__t19_starve__1',  'starve_series__t19_starve__2',  'starve_series__t20_starve__1',  'starve_series__t20_starve__2',  'starve_series__t24_growth2__1',  'starve_series__t24_growth2__2',  'starve_series__t29_growth2__1',  'starve_series__t29_growth2__2',  'starve_series__t30_growth2__1',  'starve_series__t30_growth2__2',  'starve_series__t31_growth2__1',  'starve_series__t31_growth2__2',  'starve_series__t32_growth2__1',  'starve_series__t32_growth2__2',  'starve_series__t33_growth2__1',  'starve_series__t33_growth2__2',  'starve_series__t34_growth2__1',  'starve_series__t34_growth2__2'])"
   ]
  },
  {
   "cell_type": "code",
   "execution_count": 5,
   "id": "be6782a0",
   "metadata": {},
   "outputs": [],
   "source": [
    "# save the trimmed versions\n",
    "starve_log_tpm.to_csv('../data/validation_data_sets/stationary_phase/cleaned_log_tpm_qc.csv')\n",
    "starve_metabs.to_csv('../data/validation_data_sets/stationary_phase/cleaned_metabolites_data.csv')\n"
   ]
  }
 ],
 "metadata": {
  "kernelspec": {
   "display_name": "Python 3 (ipykernel)",
   "language": "python",
   "name": "python3"
  },
  "language_info": {
   "codemirror_mode": {
    "name": "ipython",
    "version": 3
   },
   "file_extension": ".py",
   "mimetype": "text/x-python",
   "name": "python",
   "nbconvert_exporter": "python",
   "pygments_lexer": "ipython3",
   "version": "3.10.10"
  },
  "toc": {
   "base_numbering": 1,
   "nav_menu": {},
   "number_sections": true,
   "sideBar": true,
   "skip_h1_title": false,
   "title_cell": "Table of Contents",
   "title_sidebar": "Contents",
   "toc_cell": false,
   "toc_position": {},
   "toc_section_display": true,
   "toc_window_display": false
  }
 },
 "nbformat": 4,
 "nbformat_minor": 5
}
