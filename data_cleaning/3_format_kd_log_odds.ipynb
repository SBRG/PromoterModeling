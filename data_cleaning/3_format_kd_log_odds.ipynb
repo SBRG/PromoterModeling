{
 "cells": [
  {
   "cell_type": "code",
   "execution_count": 1,
   "id": "1fb44700",
   "metadata": {},
   "outputs": [],
   "source": [
    "# imports and loading\n",
    "import pandas as pd\n",
    "import pickle"
   ]
  },
  {
   "cell_type": "code",
   "execution_count": 14,
   "id": "3d2fe10d",
   "metadata": {},
   "outputs": [],
   "source": [
    "# convert around names and save off\n",
    "log_odds = pd.read_excel('../data/validation_data_sets/Arginine_Motif_scores.xlsx', index_col = 1)\n",
    "log_odds = log_odds.drop(columns = ['Unnamed: 0'])\n",
    "pickle_in = open('../data/b_to_gene.pkl', 'rb')\n",
    "b_to_gene = pickle.load(pickle_in)\n",
    "pickle_in.close()\n",
    "gene_to_b = {v : k for k, v in b_to_gene.items()}\n",
    "log_odds = log_odds.rename(index = gene_to_b)\n",
    "reg = [gene_to_b['argR'] for _ in range(len(log_odds))]\n",
    "log_odds['regulator'] = reg\n",
    "log_odds.to_pickle('../data/log_odds_binding.pkl')"
   ]
  },
  {
   "cell_type": "code",
   "execution_count": null,
   "id": "f74695ac",
   "metadata": {},
   "outputs": [],
   "source": []
  }
 ],
 "metadata": {
  "kernelspec": {
   "display_name": "Python 3 (ipykernel)",
   "language": "python",
   "name": "python3"
  },
  "language_info": {
   "codemirror_mode": {
    "name": "ipython",
    "version": 3
   },
   "file_extension": ".py",
   "mimetype": "text/x-python",
   "name": "python",
   "nbconvert_exporter": "python",
   "pygments_lexer": "ipython3",
   "version": "3.10.10"
  },
  "toc": {
   "base_numbering": 1,
   "nav_menu": {},
   "number_sections": true,
   "sideBar": true,
   "skip_h1_title": false,
   "title_cell": "Table of Contents",
   "title_sidebar": "Contents",
   "toc_cell": false,
   "toc_position": {},
   "toc_section_display": true,
   "toc_window_display": false
  }
 },
 "nbformat": 4,
 "nbformat_minor": 5
}
