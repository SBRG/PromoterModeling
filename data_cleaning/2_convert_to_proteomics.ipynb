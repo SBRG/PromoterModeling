{
 "cells": [
  {
   "cell_type": "code",
   "execution_count": 1,
   "id": "93dcf6f4",
   "metadata": {},
   "outputs": [],
   "source": [
    "# import and loading\n",
    "import pandas as pd\n",
    "\n",
    "stable_flags = {\n",
    "    'include_Amy_samples' : True,\n",
    "}\n",
    "\n",
    "metab_df = pd.read_excel('../data/validation_data_sets/heinemann_protein_conc.xlsx', index_col = 0)\n",
    "metab_cols = ['Glucose', 'Acetate', 'Glycerol', 'Pyruvate', 'Galactose ', 'Succinate', 'Fructose']\n",
    "\n",
    "# load in un-logged tpm\n",
    "if stable_flags['include_Amy_samples']:\n",
    "    # merge together log_tpm_df files\n",
    "    log_tpm_df = pd.read_csv('../data/precise_1.0/log_tpm.csv', index_col = 0)\n",
    "    starve_log_tpm = pd.read_csv('../data/validation_data_sets/stationary_phase/cleaned_log_tpm_qc.csv', index_col = 0)\n",
    "    to_blank_inds = list(set(log_tpm_df.index) - set(starve_log_tpm.index))\n",
    "    # need to create zero rows for missing values\n",
    "    zeros_data = {col : 0 for col in starve_log_tpm.columns}\n",
    "    zeros_df = pd.DataFrame(zeros_data, index = to_blank_inds)\n",
    "    starve_log_tpm = pd.concat([starve_log_tpm, zeros_df])\n",
    "    starve_log_tpm = starve_log_tpm.loc[log_tpm_df.index]\n",
    "    log_tpm_df = pd.concat([starve_log_tpm, log_tpm_df], axis = 1)\n",
    "else:\n",
    "    log_tpm_df = pd.read_csv('../data/precise_1.0/log_tpm.csv', index_col = 0)\n",
    "\n",
    "tpm_df = 2**log_tpm_df\n",
    "overlap = list(set(tpm_df.index).intersection(set(metab_df.index)))\n",
    "metab_df = metab_df.loc[overlap]\n",
    "tpm_df = tpm_df.loc[overlap]"
   ]
  },
  {
   "cell_type": "code",
   "execution_count": 2,
   "id": "cb5ed2a5",
   "metadata": {},
   "outputs": [],
   "source": [
    "# scale tpm_df by the minimum and maximum\n",
    "new_df = pd.DataFrame(index = tpm_df.index, columns = tpm_df.columns)\n",
    "\n",
    "to_rem = []\n",
    "for gene in overlap:\n",
    "    min_val = min(metab_df[metab_cols].loc[gene])\n",
    "    max_val = max(metab_df[metab_cols].loc[gene])\n",
    "    if min_val == max_val: # no good data, skip\n",
    "        to_rem.append(gene)\n",
    "    \n",
    "    tpm_min_val = min(tpm_df.loc[gene])\n",
    "    tpm_max_val = max(tpm_df.loc[gene])\n",
    "    \n",
    "    for sample in tpm_df.columns:\n",
    "        scaled_tpm = (tpm_df.loc[gene][sample] - tpm_min_val) / (tpm_max_val - tpm_min_val)\n",
    "        new_val = scaled_tpm*(max_val - min_val) + min_val\n",
    "        new_df.at[gene, sample] = new_val\n",
    "new_df = new_df.drop(index = to_rem)\n",
    "new_df.to_csv('../data/validation_data_sets/converted_log_tpm_in_M.csv')"
   ]
  },
  {
   "cell_type": "code",
   "execution_count": null,
   "id": "e14ff64d",
   "metadata": {},
   "outputs": [],
   "source": []
  }
 ],
 "metadata": {
  "kernelspec": {
   "display_name": "Python 3 (ipykernel)",
   "language": "python",
   "name": "python3"
  },
  "language_info": {
   "codemirror_mode": {
    "name": "ipython",
    "version": 3
   },
   "file_extension": ".py",
   "mimetype": "text/x-python",
   "name": "python",
   "nbconvert_exporter": "python",
   "pygments_lexer": "ipython3",
   "version": "3.10.10"
  },
  "toc": {
   "base_numbering": 1,
   "nav_menu": {},
   "number_sections": true,
   "sideBar": true,
   "skip_h1_title": false,
   "title_cell": "Table of Contents",
   "title_sidebar": "Contents",
   "toc_cell": false,
   "toc_position": {},
   "toc_section_display": true,
   "toc_window_display": false
  }
 },
 "nbformat": 4,
 "nbformat_minor": 5
}
