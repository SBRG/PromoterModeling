{
 "cells": [
  {
   "cell_type": "code",
   "execution_count": 17,
   "id": "38cecd87",
   "metadata": {},
   "outputs": [],
   "source": [
    "# imports and loading\n",
    "import pandas as pd\n",
    "import matplotlib.pyplot as plt\n",
    "import matplotlib\n",
    "import numpy as np\n",
    "import os\n",
    "matplotlib.rcParams['pdf.fonttype'] = 42\n",
    "matplotlib.rcParams['ps.fonttype'] = 42\n",
    "import sys\n",
    "sys.path.insert(0, '../functions/')\n",
    "import interface_GAMS as iG\n",
    "import conversion_equations as ce\n",
    "import pickle\n",
    "import os\n",
    "from matplotlib.colors import Normalize\n",
    "import ast\n",
    "import seaborn as sns\n",
    "\n",
    "# settings\n",
    "filter_minimum = 0.05 # for each gene, need at least X% of samples to have at least a Y correlation\n",
    "corr_minimum = 0.5 # Y correlation for the filter_minimum\n",
    "\n",
    "# load in settings flags\n",
    "settings_df = pd.read_csv('../options/settings.csv', index_col = 0)\n",
    "flags_filepath = settings_df.loc['gene_flags_filepath']['Setting']\n",
    "TF_flags_filepath = settings_df.loc['TF_flags_filepath']['Setting']\n",
    "\n",
    "# load in a bunch of potentially useful files\n",
    "# loading merged log_tpm_file\n",
    "# merge together log_tpm_df files\n",
    "log_tpm_df = pd.read_csv('../data/external/imodulon_info/log_tpm.csv', index_col = 0)\n",
    "starve_log_tpm = pd.read_csv('../data/external/validation_data_sets/stationary_phase/cleaned_log_tpm_qc.csv', index_col = 0)\n",
    "to_blank_inds = list(set(log_tpm_df.index) - set(starve_log_tpm.index))\n",
    "# need to create zero rows for missing values\n",
    "zeros_data = {col : 0 for col in starve_log_tpm.columns}\n",
    "zeros_df = pd.DataFrame(zeros_data, index = to_blank_inds)\n",
    "starve_log_tpm = pd.concat([starve_log_tpm, zeros_df])\n",
    "starve_log_tpm = starve_log_tpm.loc[log_tpm_df.index]\n",
    "log_tpm_df = pd.concat([starve_log_tpm, log_tpm_df], axis = 1)\n",
    "starve_metabs = pd.read_excel('../data/external/validation_data_sets/stationary_phase/metabolites_data.xlsx', index_col = 0)\n",
    "\n",
    "# load in various other files\n",
    "pickle_in = open('../data/interim/misc_dictionaries/b_to_gene.pkl', 'rb')\n",
    "b_to_gene = pickle.load(pickle_in)\n",
    "pickle_in.close()\n",
    "gene_to_b = {v : k for k, v in b_to_gene.items()}\n",
    "flags_df = pd.read_csv(flags_filepath, index_col = 0)\n",
    "TF_flags_df = pd.read_csv(TF_flags_filepath, index_col = 0)"
   ]
  },
  {
   "cell_type": "code",
   "execution_count": 8,
   "id": "ac85df9c",
   "metadata": {},
   "outputs": [
    {
     "name": "stdout",
     "output_type": "stream",
     "text": [
      "Crp-2__DhaR : dropping 0\n",
      "Fatty_Acid__nan : dropping 15\n",
      "nan__Arginine : dropping 0\n"
     ]
    }
   ],
   "source": [
    "# go case by case, look at expression of genes within said cases' genes\n",
    "case_to_mRNA_passed = {}\n",
    "for iMs_run in set([(row['act_iM'], row['inh_iM']) for _, row in flags_df.iterrows()]):\n",
    "    clean = [x for x in iMs_run if str(x) != 'nan']\n",
    "    case = '__'.join([str(iM) for iM in iMs_run]).replace(' ', '_').replace('/', '_')\n",
    "\n",
    "    keep = []\n",
    "    for index, row in flags_df.iterrows():\n",
    "        case2 = '__'.join([str(iM) for iM in [row['act_iM'], row['inh_iM']]]).replace(' ', '_').replace('/', '_')\n",
    "        if case2 == case:\n",
    "            keep.append(index)\n",
    "    bby_flags = flags_df.loc[keep]\n",
    "    genes = bby_flags.index.to_list()\n",
    "    \n",
    "    samples_keep = log_tpm_df.columns[(log_tpm_df.loc[genes].corr() > corr_minimum).sum() > filter_minimum*len(log_tpm_df.columns)].to_list()\n",
    "    print(case+' : dropping '+str(len(log_tpm_df.columns) - len(samples_keep)))\n",
    "    \n",
    "    case_to_mRNA_passed.update({case : samples_keep})"
   ]
  },
  {
   "cell_type": "code",
   "execution_count": 9,
   "id": "24a284f7",
   "metadata": {},
   "outputs": [],
   "source": [
    "# save it off\n",
    "pickle_out = open('../data/interim/misc_dictionaries/case_to_mRNA_passed.pkl', 'wb')\n",
    "pickle.dump(case_to_mRNA_passed, pickle_out)\n",
    "pickle_out.close()"
   ]
  },
  {
   "cell_type": "code",
   "execution_count": null,
   "id": "ac524259",
   "metadata": {},
   "outputs": [],
   "source": []
  }
 ],
 "metadata": {
  "kernelspec": {
   "display_name": "Python 3 (ipykernel)",
   "language": "python",
   "name": "python3"
  },
  "language_info": {
   "codemirror_mode": {
    "name": "ipython",
    "version": 3
   },
   "file_extension": ".py",
   "mimetype": "text/x-python",
   "name": "python",
   "nbconvert_exporter": "python",
   "pygments_lexer": "ipython3",
   "version": "3.10.10"
  },
  "toc": {
   "base_numbering": 1,
   "nav_menu": {},
   "number_sections": true,
   "sideBar": true,
   "skip_h1_title": false,
   "title_cell": "Table of Contents",
   "title_sidebar": "Contents",
   "toc_cell": false,
   "toc_position": {},
   "toc_section_display": true,
   "toc_window_display": false
  }
 },
 "nbformat": 4,
 "nbformat_minor": 5
}
