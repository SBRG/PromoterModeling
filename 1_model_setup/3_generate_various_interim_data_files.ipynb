{
 "cells": [
  {
   "cell_type": "code",
   "execution_count": 4,
   "id": "697a14e3",
   "metadata": {},
   "outputs": [],
   "source": [
    "# imports and loadings\n",
    "import pandas as pd\n",
    "import numpy as np\n",
    "\n",
    "# settings\n",
    "testing = True\n",
    "    \n",
    "# load in settings flags\n",
    "if testing:\n",
    "    flags_filepath = '../options/test_gene_flags.csv'\n",
    "else:\n",
    "    flags_filepath = '../options/gene_flags.csv'\n",
    "flags_df = pd.read_csv(flags_filepath, index_col = 0)\n",
    "\n",
    "# merge together log_tpm_df files\n",
    "log_tpm_df = pd.read_csv('../data/external/imodulon_info/log_tpm.csv', index_col = 0)\n",
    "starve_log_tpm = pd.read_csv('../data/external/validation_data_sets/stationary_phase/cleaned_log_tpm_qc.csv', index_col = 0)\n",
    "to_blank_inds = list(set(log_tpm_df.index) - set(starve_log_tpm.index))\n",
    "# need to create zero rows for missing values\n",
    "zeros_data = {col : 0 for col in starve_log_tpm.columns}\n",
    "zeros_df = pd.DataFrame(zeros_data, index = to_blank_inds)\n",
    "starve_log_tpm = pd.concat([starve_log_tpm, zeros_df])\n",
    "starve_log_tpm = starve_log_tpm.loc[log_tpm_df.index]\n",
    "log_tpm_df = pd.concat([starve_log_tpm, log_tpm_df], axis = 1)\n",
    "\n",
    "tpm_df = 2**log_tpm_df\n",
    "\n",
    "# settings\n",
    "bott_pct = 0.01\n",
    "top_pct = 0.99"
   ]
  },
  {
   "cell_type": "markdown",
   "id": "fd5d4d1f",
   "metadata": {
    "heading_collapsed": true
   },
   "source": [
    "# RNAP Concentration per sample"
   ]
  },
  {
   "cell_type": "code",
   "execution_count": 5,
   "id": "25edc637",
   "metadata": {
    "hidden": true
   },
   "outputs": [],
   "source": [
    "# let's find the fold change in the middle 95% percentile of this distribution, make the current RNAP the center, and scale thigns to both sides\n",
    "# do this for both genes, each sample gets the RNAP value that's the average of both\n",
    "RNAP_default = 10**-6\n",
    "fold_modify = 2 # modify the fold amount by this factor (divided by if below, multiplied by if above)\n",
    "\n",
    "genes = ['b3987', 'b3988']\n",
    "RNAP_df = pd.DataFrame(index = tpm_df.columns)\n",
    "for gene in genes:\n",
    "    # calculations\n",
    "    bott = tpm_df.loc[gene].sort_values().iloc[int(bott_pct*len(tpm_df.columns))]\n",
    "    top = tpm_df.loc[gene].sort_values().iloc[int(top_pct*len(tpm_df.columns))]\n",
    "    fold_change = top/bott\n",
    "    middle = np.median(tpm_df.loc[gene])\n",
    "\n",
    "    # scale everything\n",
    "    new_col = []\n",
    "    for sample in tpm_df.columns:\n",
    "        # set outleirs to the min/max\n",
    "        if tpm_df.loc[gene][sample] > top:\n",
    "            tpm = top\n",
    "        elif tpm_df.loc[gene][sample] < bott:\n",
    "            tpm = bott\n",
    "        else:\n",
    "            tpm = tpm_df.loc[gene][sample]\n",
    "        \n",
    "        # scale to fold change, then by RNAP value\n",
    "        fold_change = tpm / middle\n",
    "        if tpm < middle:\n",
    "            fold_change /= fold_modify\n",
    "        else:\n",
    "            fold_change *= fold_modify\n",
    "        new_val = RNAP_default * fold_change\n",
    "        \n",
    "        new_col.append(new_val)\n",
    "    RNAP_df[gene] = new_col"
   ]
  },
  {
   "cell_type": "code",
   "execution_count": 6,
   "id": "d59c58b2",
   "metadata": {
    "hidden": true
   },
   "outputs": [],
   "source": [
    "# save it off\n",
    "RNAP_mean_df = pd.DataFrame(RNAP_df.mean(axis = 1))\n",
    "RNAP_mean_df.columns = ['RNAP']\n",
    "RNAP_mean_df.to_csv('../data/interim/sample_constants/RNAP_conc.csv')"
   ]
  },
  {
   "cell_type": "code",
   "execution_count": null,
   "id": "90141219",
   "metadata": {
    "hidden": true
   },
   "outputs": [],
   "source": []
  }
 ],
 "metadata": {
  "kernelspec": {
   "display_name": "Python 3 (ipykernel)",
   "language": "python",
   "name": "python3"
  },
  "language_info": {
   "codemirror_mode": {
    "name": "ipython",
    "version": 3
   },
   "file_extension": ".py",
   "mimetype": "text/x-python",
   "name": "python",
   "nbconvert_exporter": "python",
   "pygments_lexer": "ipython3",
   "version": "3.10.10"
  },
  "toc": {
   "base_numbering": 1,
   "nav_menu": {},
   "number_sections": true,
   "sideBar": true,
   "skip_h1_title": false,
   "title_cell": "Table of Contents",
   "title_sidebar": "Contents",
   "toc_cell": false,
   "toc_position": {},
   "toc_section_display": true,
   "toc_window_display": false
  }
 },
 "nbformat": 4,
 "nbformat_minor": 5
}
