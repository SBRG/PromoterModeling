{
 "cells": [
  {
   "cell_type": "code",
   "execution_count": 19,
   "id": "d67df859",
   "metadata": {},
   "outputs": [],
   "source": [
    "import pandas as pd\n",
    "import matplotlib.pyplot as plt\n",
    "\n",
    "\n",
    "# load in a bunch of potentially useful files\n",
    "# loading merged log_tpm_file\n",
    "# merge together log_tpm_df files\n",
    "log_tpm_df = pd.read_csv('../data/precise_1.0/log_tpm.csv', index_col = 0)\n",
    "starve_log_tpm = pd.read_csv('../data/validation_data_sets/stationary_phase/cleaned_log_tpm_qc.csv', index_col = 0)\n",
    "to_blank_inds = list(set(log_tpm_df.index) - set(starve_log_tpm.index))\n",
    "# need to create zero rows for missing values\n",
    "zeros_data = {col : 0 for col in starve_log_tpm.columns}\n",
    "zeros_df = pd.DataFrame(zeros_data, index = to_blank_inds)\n",
    "starve_log_tpm = pd.concat([starve_log_tpm, zeros_df])\n",
    "starve_log_tpm = starve_log_tpm.loc[log_tpm_df.index]\n",
    "log_tpm_df = pd.concat([starve_log_tpm, log_tpm_df], axis = 1)\n",
    "\n",
    "iM_to_genes = {}\n",
    "gene_to_iMs = {}\n",
    "k_to_iM = {}\n",
    "f = open('../data/precise_1.0/iM_table.csv', 'r')\n",
    "lines = f.readlines()\n",
    "f.close()\n",
    "k_to_iM = {line.split(',')[0] : line.split(',')[1] for line in lines[1:]}\n",
    "iM_to_regulator = {line.split(',')[1] : line.split(',')[2] for line in lines[1:]}\n",
    "f = open('../data/precise_1.0/gene_presence_list.csv', 'r')\n",
    "lines = f.readlines()\n",
    "f.close()\n",
    "for line in lines[1:]:\n",
    "    k = line.split(',')[1]\n",
    "    iM = k_to_iM[k]\n",
    "    gene = line.split(',')[2].replace('\\n', '')\n",
    "    if iM not in iM_to_genes:\n",
    "        iM_to_genes.update({iM : []})\n",
    "    iM_to_genes[iM].append(gene)\n",
    "    if gene not in gene_to_iMs:\n",
    "        gene_to_iMs.update({gene : []})\n",
    "    gene_to_iMs[gene].append(iM)\n",
    "    \n",
    "A = pd.read_csv('../data/precise_1.0/A.csv', index_col = 0).rename(index = {int(k) : v for k, v in k_to_iM.items()})\n",
    "all_A = pd.read_csv('../data/validation_data_sets/merged_A.csv', index_col = 0)\n",
    "\n",
    "TRN_df = pd.read_pickle('../data/regulonDB_files/TRN_df.pkl') # TRN_df.loc[regulator][target] = 1 means regulator regulates target"
   ]
  },
  {
   "cell_type": "code",
   "execution_count": 9,
   "id": "fb5f422a",
   "metadata": {},
   "outputs": [],
   "source": [
    "# find iMs\n",
    "iM_reg_df = pd.DataFrame(index = log_tpm_df.index)\n",
    "promoters = []\n",
    "inhibitors = []\n",
    "for gene in iM_reg_df.index:\n",
    "    # need to decide if iM is repressor or promoter\n",
    "    if gene not in gene_to_iMs:\n",
    "        promoters.append([])\n",
    "        inhibitors.append([])\n",
    "        continue # gene not in iModulons, move on\n",
    "    proms = []\n",
    "    inhs = []\n",
    "    for iM in gene_to_iMs[gene]:\n",
    "        # need to decide if a given iModulon is a promoter or inhibitor of the gene\n",
    "        \n",
    "        # need to do this, but here's how I think I tell\n",
    "        # positive gene weight and positive correlation between regulator and iM = promoter\n",
    "        # negative gene weight and positive correlation between regulator and iM = inhibitor\n",
    "        # positive gene weight and negative correlation between regulator and iM = inhibitor\n",
    "        # negative gene weight and negative correlation between regulator and iM = promoter\n",
    "        # so I need the regulator name don't I... maybe it's easier to just go through them manually as that'll be quicker than connecting all of these together\n",
    "        "
   ]
  },
  {
   "cell_type": "code",
   "execution_count": 27,
   "id": "ad20ea11",
   "metadata": {},
   "outputs": [
    {
     "data": {
      "text/plain": [
       "array([[1.        , 0.88510586],\n",
       "       [0.88510586, 1.        ]])"
      ]
     },
     "execution_count": 27,
     "metadata": {},
     "output_type": "execute_result"
    }
   ],
   "source": [
    "import numpy as np\n",
    "np.corrcoef([0, 1, 40, -5, 1.1, 0.1, 100], [0, 10, 5, 20, 1, 5, 100])"
   ]
  },
  {
   "cell_type": "code",
   "execution_count": 18,
   "id": "abd46663",
   "metadata": {},
   "outputs": [
    {
     "data": {
      "text/plain": [
       "['k,name,regulator_readable,function,category,n_genes,exp_var,precision,recall,category_num\\n',\n",
       " '0,YieP,,Unknown,Regulator Discovery,11,0.00012755418801002616,,,7\\n',\n",
       " '1,GlpR,GlpR,Glycerol catabolism,Carbon Source Utilization,9,0.0,1.0,1.0,0\\n',\n",
       " '2,YgbI,,Unknown Function,Regulator Discovery,9,0.0,,,7\\n',\n",
       " '3,efeU-repair,,Accounts for repair and expression of efeU operon,Genomic Alterations,8,0.0004772038339341256,,,9\\n']"
      ]
     },
     "execution_count": 18,
     "metadata": {},
     "output_type": "execute_result"
    }
   ],
   "source": [
    "f = open('../data/precise_1.0/iM_table.csv', 'r')\n",
    "lines = f.readlines()\n",
    "f.close()\n",
    "lines[0:5]"
   ]
  },
  {
   "cell_type": "code",
   "execution_count": null,
   "id": "a98f0759",
   "metadata": {},
   "outputs": [],
   "source": []
  }
 ],
 "metadata": {
  "kernelspec": {
   "display_name": "Python 3 (ipykernel)",
   "language": "python",
   "name": "python3"
  },
  "language_info": {
   "codemirror_mode": {
    "name": "ipython",
    "version": 3
   },
   "file_extension": ".py",
   "mimetype": "text/x-python",
   "name": "python",
   "nbconvert_exporter": "python",
   "pygments_lexer": "ipython3",
   "version": "3.10.10"
  },
  "toc": {
   "base_numbering": 1,
   "nav_menu": {},
   "number_sections": true,
   "sideBar": true,
   "skip_h1_title": false,
   "title_cell": "Table of Contents",
   "title_sidebar": "Contents",
   "toc_cell": false,
   "toc_position": {},
   "toc_section_display": true,
   "toc_window_display": false
  }
 },
 "nbformat": 4,
 "nbformat_minor": 5
}
