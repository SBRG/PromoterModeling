{
 "cells": [
  {
   "cell_type": "code",
   "execution_count": 43,
   "id": "4ff6b68a",
   "metadata": {
    "code_folding": []
   },
   "outputs": [],
   "source": [
    "# imports and loading\n",
    "import pandas as pd\n",
    "import matplotlib.pyplot as plt\n",
    "import matplotlib\n",
    "import numpy as np\n",
    "import os\n",
    "matplotlib.rcParams['pdf.fonttype'] = 42\n",
    "matplotlib.rcParams['ps.fonttype'] = 42\n",
    "import sys\n",
    "sys.path.insert(0, '../functions/')\n",
    "import interface_GAMS as iG\n",
    "import conversion_equations as ce\n",
    "import pickle\n",
    "import os\n",
    "from matplotlib.colors import Normalize\n",
    "import ast\n",
    "import seaborn as sns\n",
    "\n",
    "# load in a bunch of potentially useful files\n",
    "# loading merged log_tpm_file\n",
    "# merge together log_tpm_df files\n",
    "log_tpm_df = pd.read_csv('../data/precise_1k/log_tpm.csv', index_col = 0)\n",
    "starve_log_tpm = pd.read_csv('../data/validation_data_sets/stationary_phase/cleaned_log_tpm_qc.csv', index_col = 0)\n",
    "to_blank_inds = list(set(log_tpm_df.index) - set(starve_log_tpm.index))\n",
    "# need to create zero rows for missing values\n",
    "zeros_data = {col : 0 for col in starve_log_tpm.columns}\n",
    "zeros_df = pd.DataFrame(zeros_data, index = to_blank_inds)\n",
    "starve_log_tpm = pd.concat([starve_log_tpm, zeros_df])\n",
    "starve_log_tpm = starve_log_tpm.loc[log_tpm_df.index]\n",
    "log_tpm_df = pd.concat([starve_log_tpm, log_tpm_df], axis = 1)\n",
    "\n",
    "starve_metabs = pd.read_excel('../data/validation_data_sets/stationary_phase/metabolites_data.xlsx', index_col = 0)\n",
    "\n",
    "pickle_in = open('../data/b_to_gene.pkl', 'rb')\n",
    "b_to_gene = pickle.load(pickle_in)\n",
    "pickle_in.close()\n",
    "gene_to_b = {v : k for k, v in b_to_gene.items()}\n",
    "\n",
    "flags_df = pd.read_csv('../data/saved_flags_expanded_curated.csv', index_col = 0)\n",
    "flags_df = flags_df[flags_df['include']]\n",
    "\n",
    "TF_flags_df = pd.read_csv('../data/TF_saved_flags_expanded.csv', index_col = 0)"
   ]
  },
  {
   "cell_type": "code",
   "execution_count": null,
   "id": "3c223995",
   "metadata": {
    "code_folding": [
     0
    ]
   },
   "outputs": [],
   "source": [
    "# first we need to make a ratio df\n",
    "if False: # change to True to run again\n",
    "    cases = set([(row['act_iM'], row['inh_iM']) for _, row in flags_df.iterrows()])\n",
    "    collect_actuals = []\n",
    "    collect_predictions = []\n",
    "    for iMs_run in cases:\n",
    "        clean = [x for x in iMs_run if str(x) != 'nan']\n",
    "        case = '___'.join(list(clean)).replace(' ', '_').replace('/', '_')\n",
    "        if not os.path.exists('../GAMs/optimization_runs/'+case):\n",
    "            continue\n",
    "\n",
    "        # let's find our run_dir\n",
    "        try:\n",
    "            iter_f = 'iter_'+str(max([int(f.split('_')[1]) for f in os.listdir('../GAMs/optimization_runs/'+case) if 'iter_' in f and '.pkl' not in f]))\n",
    "            run_f = 'run_'+str(max([int(f.split('_')[1]) for f in os.listdir('../GAMs/optimization_runs/'+case+'/'+iter_f) if 'run_' in f and '.pkl' not in f]))\n",
    "            GAMs_run_dir = '../GAMs/optimization_runs/'+case+'/'+iter_f+'/'+run_f\n",
    "            mRNA_df, GAMS_calc_cAct, cAct_kd_df, act_metab_df, act_kd_metab_df, GAMS_calc_cInh, cInh_kd_df, inh_metab_df, inh_kd_metab_df = iG.read_multi_GAMs(GAMs_run_dir)\n",
    "        except:\n",
    "            continue # Usually means it hasn't been run yet\n",
    "        actual_ratio = ce.log_tpm_df_to_mRNA_ratio_df(log_tpm_df.loc[mRNA_df.columns], flags_df.loc[mRNA_df.columns])\n",
    "\n",
    "        collect_actuals.append(actual_ratio)\n",
    "        collect_predictions.append(mRNA_df)\n",
    "\n",
    "    merge_actual = pd.concat(collect_actuals, axis = 1)\n",
    "    merge_pred = pd.concat(collect_predictions, axis = 1)\n",
    "    overlap = list(set(merge_actual.index).intersection(set(merge_pred.index)))\n",
    "    actual_mRNA_df = merge_actual.loc[:,~merge_actual.columns.duplicated()].astype(float)\n",
    "    pred_mRNA_df = merge_pred.loc[:,~merge_pred.columns.duplicated()].astype(float)\n",
    "\n",
    "    # create sample-sample and gene-gene correlation dataframe\n",
    "    sample_corr_df = pd.DataFrame(index = actual_mRNA_df.index, columns = actual_mRNA_df.index)\n",
    "    for sample1 in actual_mRNA_df.index:\n",
    "        for sample2 in actual_mRNA_df.index:\n",
    "            sample_corr_df.at[sample1, sample2] = actual_mRNA_df.loc[sample1].corr(pred_mRNA_df.loc[sample2])\n",
    "    gene_corr_df = pd.DataFrame(index = actual_mRNA_df.columns, columns = actual_mRNA_df.columns)\n",
    "    for sample1 in actual_mRNA_df.columns:\n",
    "        for sample2 in actual_mRNA_df.columns:\n",
    "            gene_corr_df.at[sample1, sample2] = actual_mRNA_df[sample1].corr(pred_mRNA_df[sample2])\n",
    "\n",
    "    # these things take a while to run, let's save them off\n",
    "    sample_corr_df.to_csv('../data/samples_correlation_df.csv')\n",
    "    gene_corr_df.to_csv('../data/genes_correlation_df.csv')\n",
    "else:\n",
    "    # load in\n",
    "    sample_corr_df = pd.read_csv('../data/samples_correlation_df.csv', index_col = 0)\n",
    "    gene_corr_df = pd.read_csv('../data/genes_correlation_df.csv', index_col = 0)"
   ]
  },
  {
   "cell_type": "code",
   "execution_count": 55,
   "id": "a1ee9709",
   "metadata": {
    "code_folding": []
   },
   "outputs": [
    {
     "data": {
      "image/png": "[encoded data removed]",
      "text/plain": [
       "<Figure size 640x480 with 1 Axes>"
      ]
     },
     "metadata": {},
     "output_type": "display_data"
    }
   ],
   "source": [
    "# stacked histogram - try rerunning once all samples run\n",
    "\n",
    "case_to_genes = {}\n",
    "case_to_avr_corr = {}\n",
    "plot_vals = []\n",
    "plot_labels = []\n",
    "for iMs_run in set([(row['act_iM'], row['inh_iM']) for _, row in flags_df.iterrows()]):\n",
    "    clean = [x for x in iMs_run if str(x) != 'nan']\n",
    "    case = '___'.join(list(clean)).replace(' ', '_').replace('/', '_')\n",
    "    # let's find our run_dir\n",
    "    try:\n",
    "        iter_f = 'iter_'+str(max([int(f.split('_')[1]) for f in os.listdir('../GAMs/optimization_runs/'+case) if 'iter_' in f and '.pkl' not in f]))\n",
    "        run_f = 'run_'+str(max([int(f.split('_')[1]) for f in os.listdir('../GAMs/optimization_runs/'+case+'/'+iter_f) if 'run_' in f and '.pkl' not in f]))\n",
    "        GAMs_run_dir = '../GAMs/optimization_runs/'+case+'/'+iter_f+'/'+run_f\n",
    "        mRNA_df, GAMS_calc_cAct, cAct_kd_df, act_metab_df, act_kd_metab_df, GAMS_calc_cInh, cInh_kd_df, inh_metab_df, inh_kd_metab_df = iG.read_multi_GAMs(GAMs_run_dir)\n",
    "    except:\n",
    "        continue # Usually means it hasn't been run yet\n",
    "    plot_labels.append(case)\n",
    "    plot_vals.append(np.diag(gene_corr_df.loc[mRNA_df.columns][mRNA_df.columns]))\n",
    "    case_to_avr_corr.update({case : np.mean(np.diag(gene_corr_df.loc[mRNA_df.columns][mRNA_df.columns]))})\n",
    "plt.hist(plot_vals, stacked = True, bins = 30, label = plot_labels)\n",
    "plt.show()"
   ]
  },
  {
   "cell_type": "code",
   "execution_count": 54,
   "id": "1d4b15ef",
   "metadata": {},
   "outputs": [
    {
     "data": {
      "image/png": "[encoded data removed]",
      "text/plain": [
       "<Figure size 640x480 with 1 Axes>"
      ]
     },
     "metadata": {},
     "output_type": "display_data"
    }
   ],
   "source": [
    "# same as above, but split by case type (dual regulator, all inhibitor, all activator)\n",
    "\n",
    "type_to_cases = {\n",
    "    'both' : [],\n",
    "    'just_act' : [],\n",
    "    'just_inh' : []\n",
    "}\n",
    "for iMs_run in set([(row['act_iM'], row['inh_iM']) for _, row in flags_df.iterrows()]):\n",
    "    if str(iMs_run[0]) != 'nan' and str(iMs_run[1]) != 'nan':\n",
    "        type_to_cases['both'].append(iMs_run)\n",
    "    elif str(iMs_run[0]) != 'nan' and str(iMs_run[1]) == 'nan':\n",
    "        type_to_cases['just_act'].append(iMs_run)\n",
    "    elif str(iMs_run[0]) == 'nan' and str(iMs_run[1]) != 'nan':\n",
    "        type_to_cases['just_inh'].append(iMs_run)\n",
    "plot_vals = []\n",
    "plot_labels = []\n",
    "for type, cases in type_to_cases.items():\n",
    "    plot_labels.append(type)\n",
    "    temp_plot_vals = []\n",
    "    for iMs_run in cases:\n",
    "        clean = [x for x in iMs_run if str(x) != 'nan']\n",
    "        case = '___'.join(list(clean)).replace(' ', '_').replace('/', '_')\n",
    "        # let's find our run_dir\n",
    "        try:\n",
    "            iter_f = 'iter_'+str(max([int(f.split('_')[1]) for f in os.listdir('../GAMs/optimization_runs/'+case) if 'iter_' in f and '.pkl' not in f]))\n",
    "            run_f = 'run_'+str(max([int(f.split('_')[1]) for f in os.listdir('../GAMs/optimization_runs/'+case+'/'+iter_f) if 'run_' in f and '.pkl' not in f]))\n",
    "            GAMs_run_dir = '../GAMs/optimization_runs/'+case+'/'+iter_f+'/'+run_f\n",
    "            mRNA_df, GAMS_calc_cAct, cAct_kd_df, act_metab_df, act_kd_metab_df, GAMS_calc_cInh, cInh_kd_df, inh_metab_df, inh_kd_metab_df = iG.read_multi_GAMs(GAMs_run_dir)\n",
    "        except:\n",
    "            continue # Usually means it hasn't been run yet\n",
    "        for val in np.diag(gene_corr_df.loc[mRNA_df.columns][mRNA_df.columns]):\n",
    "            temp_plot_vals.append(val)\n",
    "    plot_vals.append(temp_plot_vals)\n",
    "plt.hist(plot_vals, stacked = True, bins = 30, label = plot_labels)\n",
    "plt.legend()\n",
    "plt.show()"
   ]
  },
  {
   "cell_type": "code",
   "execution_count": 59,
   "id": "3ecb4150",
   "metadata": {},
   "outputs": [
    {
     "data": {
      "text/plain": [
       "{'Lrp', 'Nitrogen', nan}"
      ]
     },
     "execution_count": 59,
     "metadata": {},
     "output_type": "execute_result"
    }
   ],
   "source": [
    "set(flags_df.act_iM).intersection(flags_df.inh_iM)"
   ]
  },
  {
   "cell_type": "code",
   "execution_count": 56,
   "id": "75e18039",
   "metadata": {},
   "outputs": [
    {
     "data": {
      "text/plain": [
       "{'Sugar_Diacid': 0.9953972539605572,\n",
       " 'Magnesium': 0.8303875308785373,\n",
       " 'Lrp': 0.6631295383075201,\n",
       " 'Nitrogen': 0.3700158469279976,\n",
       " 'Arginine': 0.7169577490679312,\n",
       " 'Lysine_T2SS': 0.6992036045544374,\n",
       " 'Fur-2': 0.7579163067087471,\n",
       " 'Fatty_Acid': 0.743480831426842,\n",
       " 'Fur-2___Fur-1': 0.8029470876903616,\n",
       " 'SoxS': 0.6174480428755424,\n",
       " 'ArcA': 0.419360448709678,\n",
       " 'YcjW': 0.8181717101886615,\n",
       " 'Crp-2___DhaR': 0.9369167569014857,\n",
       " 'Maltose': 0.8011898154287489,\n",
       " 'Biotin': 0.9622678255548316,\n",
       " 'Phosphate-1': 0.8679930517565048,\n",
       " 'Capsule': 0.9516412018288127,\n",
       " 'Phosphate-2': 0.6996310419575696,\n",
       " 'CpxR': 0.30095040279759716,\n",
       " 'DNA_Damage': 0.5944767768574424,\n",
       " 'Cysteine-2___Cysteine-1': 0.9056193775394442,\n",
       " 'Fnr-1': 0.8459289039468157,\n",
       " 'Cra': 0.8205737059915089,\n",
       " 'Methionine': 0.91221240223478,\n",
       " 'Fur-1': 0.7470430507741544,\n",
       " 'EvgA': 0.8333139663356616,\n",
       " 'Pyruvate-1': 0.6706441210087507,\n",
       " 'Cysteine-1': 0.8571777323106219,\n",
       " 'BasR': 0.8116593391635002,\n",
       " 'OxyR': 0.8084283723107992,\n",
       " 'Crp-1': 0.5747744117744272,\n",
       " 'Purine': 0.91795846130429,\n",
       " 'FlhDC-2___FlhDC-1': 0.9605793782639103}"
      ]
     },
     "execution_count": 56,
     "metadata": {},
     "output_type": "execute_result"
    }
   ],
   "source": [
    "# what's wrong with the terrible ones?\n",
    "case_to_avr_corr"
   ]
  },
  {
   "cell_type": "code",
   "execution_count": null,
   "id": "4ddd894a",
   "metadata": {},
   "outputs": [],
   "source": []
  }
 ],
 "metadata": {
  "kernelspec": {
   "display_name": "Python 3 (ipykernel)",
   "language": "python",
   "name": "python3"
  },
  "language_info": {
   "codemirror_mode": {
    "name": "ipython",
    "version": 3
   },
   "file_extension": ".py",
   "mimetype": "text/x-python",
   "name": "python",
   "nbconvert_exporter": "python",
   "pygments_lexer": "ipython3",
   "version": "3.10.10"
  },
  "toc": {
   "base_numbering": 1,
   "nav_menu": {},
   "number_sections": true,
   "sideBar": true,
   "skip_h1_title": false,
   "title_cell": "Table of Contents",
   "title_sidebar": "Contents",
   "toc_cell": false,
   "toc_position": {},
   "toc_section_display": true,
   "toc_window_display": false
  }
 },
 "nbformat": 4,
 "nbformat_minor": 5
}
